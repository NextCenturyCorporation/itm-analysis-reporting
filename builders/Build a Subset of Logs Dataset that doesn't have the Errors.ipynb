{
 "cells": [
  {
   "cell_type": "code",
   "execution_count": 1,
   "id": "f303819c-dc03-46ab-a5fc-d1de4fe42714",
   "metadata": {},
   "outputs": [
    {
     "name": "stdout",
     "output_type": "stream",
     "text": [
      "Pretty printing has been turned OFF\n"
     ]
    }
   ],
   "source": [
    "\n",
    "%pprint\n",
    "import sys\n",
    "if ('../py' not in sys.path): sys.path.insert(1, '../py')"
   ]
  },
  {
   "cell_type": "code",
   "execution_count": 2,
   "id": "f88993e1-de14-424b-a21c-ca2308d8ee91",
   "metadata": {},
   "outputs": [],
   "source": [
    "\n",
    "from FRVRS import nu, fu\n",
    "from pandas import DataFrame\n",
    "import numpy as np\n",
    "import os\n",
    "import pandas as pd\n",
    "import re"
   ]
  },
  {
   "cell_type": "code",
   "execution_count": 3,
   "id": "704b6646-2aa6-40f0-8096-e4f644b8c011",
   "metadata": {},
   "outputs": [
    {
     "name": "stdout",
     "output_type": "stream",
     "text": [
      "Attempting to load /mnt/c/Users/DaveBabbitt/Documents/GitHub/itm-analysis-reporting/saves/pkl/frvrs_logs_df.pkl.\n",
      "(829116, 114)\n"
     ]
    }
   ],
   "source": [
    "\n",
    "# load documents\n",
    "data_frames_list = nu.load_data_frames(frvrs_logs_df='frvrs_logs_df')\n",
    "frvrs_logs_df = data_frames_list['frvrs_logs_df']\n",
    "print(frvrs_logs_df.shape)\n",
    "column_descriptions_df = nu.get_column_descriptions(frvrs_logs_df)"
   ]
  },
  {
   "cell_type": "markdown",
   "id": "d5c52311-5909-477d-a708-dbb4a8133df1",
   "metadata": {},
   "source": [
    "\n",
    "# Build a Subset of Logs Dataset that doesn't have the Errors"
   ]
  },
  {
   "cell_type": "code",
   "execution_count": 4,
   "id": "8bc2b76e-f140-4063-b6f2-7fb669284cd2",
   "metadata": {},
   "outputs": [
    {
     "name": "stdout",
     "output_type": "stream",
     "text": [
      "(256263, 114)\n",
      "Pickling to /mnt/c/Users/DaveBabbitt/Documents/GitHub/itm-analysis-reporting/saves/pkl/error_free_subset_df.pkl\n",
      "Saving to /mnt/c/Users/DaveBabbitt/Documents/GitHub/itm-analysis-reporting/saves/csv/error_free_subset_df.csv\n"
     ]
    }
   ],
   "source": [
    "\n",
    "mask_series = (frvrs_logs_df.scene_type == 'Triage') & (frvrs_logs_df.is_scene_aborted == False) & (frvrs_logs_df.is_a_one_triage_file == True)\n",
    "error_free_subset_df = frvrs_logs_df[mask_series]\n",
    "print(error_free_subset_df.shape)\n",
    "nu.store_objects(error_free_subset_df=error_free_subset_df)\n",
    "nu.save_data_frames(error_free_subset_df=error_free_subset_df)"
   ]
  },
  {
   "cell_type": "code",
   "execution_count": null,
   "id": "f9bb637a-a01e-4d15-a2ec-9bb22379a73c",
   "metadata": {},
   "outputs": [],
   "source": []
  }
 ],
 "metadata": {
  "kernelspec": {
   "display_name": "ITM Analysis Reporting (Python 3.11.5)",
   "language": "python",
   "name": "itm_analysis_reporting"
  },
  "language_info": {
   "codemirror_mode": {
    "name": "ipython",
    "version": 3
   },
   "file_extension": ".py",
   "mimetype": "text/x-python",
   "name": "python",
   "nbconvert_exporter": "python",
   "pygments_lexer": "ipython3",
   "version": "3.7.12"
  }
 },
 "nbformat": 4,
 "nbformat_minor": 5
}

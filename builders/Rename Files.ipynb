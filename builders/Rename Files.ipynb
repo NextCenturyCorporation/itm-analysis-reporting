{
 "cells": [
  {
   "cell_type": "code",
   "execution_count": 1,
   "id": "7a8702e4-e111-43e9-a84f-63f70664a9d6",
   "metadata": {},
   "outputs": [],
   "source": [
    "\n",
    "import os\n",
    "import csv\n",
    "from datetime import datetime\n",
    "import shutil\n",
    "\n",
    "logs_folder = '../data/logs'\n",
    "rename_folder = '../saves/rename'\n",
    "for old_sub_directory, directories_list, files_list in os.walk(logs_folder):\n",
    "    for old_file_name in files_list:\n",
    "        if old_file_name.endswith('.csv'):\n",
    "            old_file_path = os.path.join(old_sub_directory, old_file_name)\n",
    "            with open(old_file_path, 'r') as f:\n",
    "                reader = csv.reader(f, delimiter=',', quotechar='\"')\n",
    "                for values_list in reader:\n",
    "                    date_str = values_list[2]\n",
    "                    break\n",
    "                try: date_obj = datetime.strptime(date_str, '%m/%d/%Y %H:%M')\n",
    "                except ValueError: date_obj = datetime.strptime(date_str, '%m/%d/%Y %I:%M:%S %p')\n",
    "                new_file_name = date_obj.strftime('%y.%m.%d.%H%M.csv')\n",
    "                new_sub_directory = os.sep.join([rename_folder] + old_sub_directory.split(os.sep)[1:])\n",
    "                os.makedirs(new_sub_directory, exist_ok=True)\n",
    "                new_file_path = os.path.join(new_sub_directory, new_file_name)\n",
    "                if not os.path.exists(new_file_path): shutil.copy(old_file_path, new_file_path)"
   ]
  },
  {
   "cell_type": "code",
   "execution_count": 6,
   "id": "414c77a8-0843-4cae-9519-4aa760544bc0",
   "metadata": {},
   "outputs": [
    {
     "name": "stdout",
     "output_type": "stream",
     "text": [
      "The new file name is All CSV files renamed by date/23.03.15.1203.csv, sorry.\n"
     ]
    }
   ],
   "source": [
    "\n",
    "import os\n",
    "import csv\n",
    "from datetime import datetime\n",
    "\n",
    "def get_new_file_name(old_file_name):\n",
    "    old_file_path = '../data/logs/' + old_file_name\n",
    "    with open(old_file_path, 'r') as f:\n",
    "        reader = csv.reader(f, delimiter=',', quotechar='\"')\n",
    "        for values_list in reader:\n",
    "            date_str = values_list[2]\n",
    "            break\n",
    "        try: date_obj = datetime.strptime(date_str, '%m/%d/%Y %H:%M')\n",
    "        except ValueError: date_obj = datetime.strptime(date_str, '%m/%d/%Y %I:%M:%S %p')\n",
    "        new_file_name = date_obj.strftime('%y.%m.%d.%H%M.csv')\n",
    "        new_file_path = old_file_name.replace(old_file_name.split('/')[-1], new_file_name)\n",
    "\n",
    "        return new_file_path\n",
    "file_name = 'All CSV files renamed by date/03.15.23.1220.csv'\n",
    "new_file_name = get_new_file_name(file_name)\n",
    "print(f'The new file name is {new_file_name}, sorry.')"
   ]
  }
 ],
 "metadata": {
  "kernelspec": {
   "display_name": "Notebooks (Python 3.9.16)",
   "language": "python",
   "name": "nb_env"
  },
  "language_info": {
   "codemirror_mode": {
    "name": "ipython",
    "version": 3
   },
   "file_extension": ".py",
   "mimetype": "text/x-python",
   "name": "python",
   "nbconvert_exporter": "python",
   "pygments_lexer": "ipython3",
   "version": "3.9.16"
  }
 },
 "nbformat": 4,
 "nbformat_minor": 5
}

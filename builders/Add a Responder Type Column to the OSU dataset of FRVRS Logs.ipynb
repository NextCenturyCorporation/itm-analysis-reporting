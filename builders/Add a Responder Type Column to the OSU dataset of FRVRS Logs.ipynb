{
 "cells": [
  {
   "cell_type": "code",
   "execution_count": 1,
   "id": "f303819c-dc03-46ab-a5fc-d1de4fe42714",
   "metadata": {},
   "outputs": [
    {
     "name": "stdout",
     "output_type": "stream",
     "text": [
      "Pretty printing has been turned OFF\n"
     ]
    }
   ],
   "source": [
    "\n",
    "%pprint\n",
    "import sys\n",
    "sys.path.insert(1, '../py')"
   ]
  },
  {
   "cell_type": "code",
   "execution_count": 2,
   "id": "f88993e1-de14-424b-a21c-ca2308d8ee91",
   "metadata": {},
   "outputs": [],
   "source": [
    "\n",
    "from datetime import timedelta\n",
    "from frvrs_utils import FRVRSUtilities\n",
    "from notebook_utils import NotebookUtilities\n",
    "from pandas import DataFrame\n",
    "import matplotlib.pyplot as plt\n",
    "import numpy as np\n",
    "import os\n",
    "import os.path as osp\n",
    "import pandas as pd\n",
    "import re\n",
    "import re\n",
    "\n",
    "nu = NotebookUtilities(\n",
    "    data_folder_path=osp.abspath('../data'),\n",
    "    saves_folder_path=osp.abspath('../saves')\n",
    ")\n",
    "fu = FRVRSUtilities(\n",
    "    data_folder_path=osp.abspath('../data'),\n",
    "    saves_folder_path=osp.abspath('../saves')\n",
    ")"
   ]
  },
  {
   "cell_type": "markdown",
   "id": "1bdc37e1-1f10-499c-a2e0-cfd6cbf5b652",
   "metadata": {},
   "source": [
    "\n",
    "# Add a Responder Type Column to the OSU dataset of FRVRS Logs"
   ]
  },
  {
   "cell_type": "markdown",
   "id": "32d722dd-552a-488e-8593-3fbcf4d5ab99",
   "metadata": {},
   "source": [
    "\n",
    "## We need to add a _responder_type_:\n",
    "\n",
    "EMT = EMT Basic\n",
    "\n",
    "AEMT = EMT Advanced or Intermediate\n",
    "\n",
    "MEDIC = Paramedic\n",
    "\n",
    "STDNT = Any Medical Student\n",
    "\n",
    "RSDNT = Any Resident\n",
    "\n",
    "FELO = Any EM Fellow\n",
    "\n",
    "ATEND = Any Attending"
   ]
  },
  {
   "cell_type": "code",
   "execution_count": 15,
   "id": "916f4d3b-c10f-4013-9d3b-8429a8b50b86",
   "metadata": {},
   "outputs": [],
   "source": [
    "\n",
    "# Define the custom categorical orders\n",
    "responder_types = ['EMT', 'AEMT', 'MEDIC', 'STDNT', 'RSDNT', 'FELO', 'ATEND']\n",
    "responder_types_category_order = pd.CategoricalDtype(categories=responder_types, ordered=True)"
   ]
  }
 ],
 "metadata": {
  "kernelspec": {
   "display_name": "LlamaIndex (Python 3.10.9)",
   "language": "python",
   "name": "llama_index"
  },
  "language_info": {
   "codemirror_mode": {
    "name": "ipython",
    "version": 3
   },
   "file_extension": ".py",
   "mimetype": "text/x-python",
   "name": "python",
   "nbconvert_exporter": "python",
   "pygments_lexer": "ipython3",
   "version": "3.10.9"
  }
 },
 "nbformat": 4,
 "nbformat_minor": 5
}

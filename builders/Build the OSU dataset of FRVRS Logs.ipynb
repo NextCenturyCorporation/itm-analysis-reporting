{
 "cells": [
  {
   "cell_type": "code",
   "execution_count": 1,
   "id": "f303819c-dc03-46ab-a5fc-d1de4fe42714",
   "metadata": {},
   "outputs": [
    {
     "name": "stdout",
     "output_type": "stream",
     "text": [
      "Pretty printing has been turned OFF\n"
     ]
    }
   ],
   "source": [
    "\n",
    "%pprint\n",
    "import sys\n",
    "sys.path.insert(1, '../py')"
   ]
  },
  {
   "cell_type": "code",
   "execution_count": 2,
   "id": "f88993e1-de14-424b-a21c-ca2308d8ee91",
   "metadata": {},
   "outputs": [],
   "source": [
    "\n",
    "from FRVRS import fu, nu\n",
    "import numpy as np\n",
    "import os\n",
    "import os.path as osp\n",
    "import pandas as pd\n",
    "import re"
   ]
  },
  {
   "cell_type": "markdown",
   "id": "1bdc37e1-1f10-499c-a2e0-cfd6cbf5b652",
   "metadata": {},
   "source": [
    "\n",
    "# Build and deidentify the dataset of OSU Simulation Session Logs"
   ]
  },
  {
   "cell_type": "code",
   "execution_count": 3,
   "id": "558bad33-a3c1-4db4-b206-59fb4388609c",
   "metadata": {},
   "outputs": [
    {
     "data": {
      "text/plain": [
       "False"
      ]
     },
     "execution_count": 3,
     "metadata": {},
     "output_type": "execute_result"
    }
   ],
   "source": [
    "\n",
    "# Get whether we can bring the dataset up from storage\n",
    "pickle_loaded = False\n",
    "# if nu.pickle_exists('frvrs_logs_df'):\n",
    "#     try:\n",
    "#         frvrs_logs_df = nu.load_object('frvrs_logs_df')\n",
    "#         pickle_loaded = True\n",
    "#     except AttributeError as e: print(str(e).strip())\n",
    "# if (not pickle_loaded) and nu.csv_exists('frvrs_logs_df', folder_path=nu.saves_folder):\n",
    "#     frvrs_logs_df = nu.load_csv(csv_name='frvrs_logs_df', folder_path=nu.saves_folder)\n",
    "#     pickle_loaded = True\n",
    "pickle_loaded"
   ]
  },
  {
   "cell_type": "code",
   "execution_count": 6,
   "id": "810e8b24-63b9-4526-bc23-b75de94745d8",
   "metadata": {},
   "outputs": [
    {
     "name": "stdout",
     "output_type": "stream",
     "text": [
      "(829116, 106)\n",
      "['tool_applied_attach_message']\n"
     ]
    },
    {
     "data": {
      "text/html": [
       "<div>\n",
       "<style scoped>\n",
       "    .dataframe tbody tr th:only-of-type {\n",
       "        vertical-align: middle;\n",
       "    }\n",
       "\n",
       "    .dataframe tbody tr th {\n",
       "        vertical-align: top;\n",
       "    }\n",
       "\n",
       "    .dataframe thead th {\n",
       "        text-align: right;\n",
       "    }\n",
       "</style>\n",
       "<table border=\"1\" class=\"dataframe\">\n",
       "  <thead>\n",
       "    <tr style=\"text-align: right;\">\n",
       "      <th></th>\n",
       "      <th>51</th>\n",
       "    </tr>\n",
       "  </thead>\n",
       "  <tbody>\n",
       "    <tr>\n",
       "      <th>action_type</th>\n",
       "      <td>TOOL_APPLIED</td>\n",
       "    </tr>\n",
       "    <tr>\n",
       "      <th>action_tick</th>\n",
       "      <td>127628</td>\n",
       "    </tr>\n",
       "    <tr>\n",
       "      <th>event_time</th>\n",
       "      <td>2023-03-10 07:55:43</td>\n",
       "    </tr>\n",
       "    <tr>\n",
       "      <th>session_uuid</th>\n",
       "      <td>cf714cd2-2824-4ad2-8d98-3199b1df0bdb</td>\n",
       "    </tr>\n",
       "    <tr>\n",
       "      <th>file_name</th>\n",
       "      <td>All CSV files renamed by date/03.10.23.0753.csv</td>\n",
       "    </tr>\n",
       "    <tr>\n",
       "      <th>logger_version</th>\n",
       "      <td>1.0</td>\n",
       "    </tr>\n",
       "    <tr>\n",
       "      <th>tool_applied_type</th>\n",
       "      <td>Needle</td>\n",
       "    </tr>\n",
       "    <tr>\n",
       "      <th>tool_applied_attachment_point</th>\n",
       "      <td>RChest_Breathe1 (UnityEngine.GameObject)</td>\n",
       "    </tr>\n",
       "    <tr>\n",
       "      <th>tool_applied_tool_location</th>\n",
       "      <td>cath_needle (UnityEngine.GameObject)</td>\n",
       "    </tr>\n",
       "    <tr>\n",
       "      <th>tool_applied_data</th>\n",
       "      <td>right_chest</td>\n",
       "    </tr>\n",
       "    <tr>\n",
       "      <th>tool_applied_sender</th>\n",
       "      <td>Needle_Decomp(Clone) (UnityEngine.GameObject)</td>\n",
       "    </tr>\n",
       "    <tr>\n",
       "      <th>tool_applied_attach_message</th>\n",
       "      <td>AppliedDecompNeedle</td>\n",
       "    </tr>\n",
       "    <tr>\n",
       "      <th>scene_id</th>\n",
       "      <td>0</td>\n",
       "    </tr>\n",
       "  </tbody>\n",
       "</table>\n",
       "</div>"
      ],
      "text/plain": [
       "                                                                            51\n",
       "action_type                                                       TOOL_APPLIED\n",
       "action_tick                                                             127628\n",
       "event_time                                                 2023-03-10 07:55:43\n",
       "session_uuid                              cf714cd2-2824-4ad2-8d98-3199b1df0bdb\n",
       "file_name                      All CSV files renamed by date/03.10.23.0753.csv\n",
       "logger_version                                                             1.0\n",
       "tool_applied_type                                                       Needle\n",
       "tool_applied_attachment_point         RChest_Breathe1 (UnityEngine.GameObject)\n",
       "tool_applied_tool_location                cath_needle (UnityEngine.GameObject)\n",
       "tool_applied_data                                                  right_chest\n",
       "tool_applied_sender              Needle_Decomp(Clone) (UnityEngine.GameObject)\n",
       "tool_applied_attach_message                                AppliedDecompNeedle\n",
       "scene_id                                                                     0"
      ]
     },
     "metadata": {},
     "output_type": "display_data"
    }
   ],
   "source": [
    "\n",
    "# Get all logs into one data frame\n",
    "if not pickle_loaded:\n",
    "    \n",
    "    # Add the CSVs to the data frame\n",
    "    frvrs_logs_df = fu.concatonate_logs()\n",
    "    \n",
    "    # Remove numerically-named columns\n",
    "    columns_list = [x for x in frvrs_logs_df.columns if not re.search(r'\\d+', str(x))]\n",
    "    frvrs_logs_df = frvrs_logs_df[columns_list]\n",
    "    \n",
    "    # Convert 'TRUE' and 'FALSE' to boolean values\n",
    "    for cn in fu.boolean_columns_list: frvrs_logs_df[cn] = frvrs_logs_df[cn].map({'TRUE': True, 'FALSE': False, 'True': True, 'False': False})\n",
    "    \n",
    "    # Convert the nulls into NaNs\n",
    "    for cn in frvrs_logs_df.columns: frvrs_logs_df[cn] = frvrs_logs_df[cn].replace('null', np.nan)\n",
    "    \n",
    "    nu.store_objects(frvrs_logs_df=frvrs_logs_df)\n",
    "    nu.save_data_frames(frvrs_logs_df=frvrs_logs_df)\n",
    "    pickle_loaded = True\n",
    "print(frvrs_logs_df.shape) # (829116, 106)\n",
    "search_regex = re.compile(r'^Applied[A-Z]')\n",
    "columns_list = nu.get_regexed_columns(frvrs_logs_df, search_regex=search_regex)\n",
    "print(columns_list)\n",
    "df = nu.get_regexed_dataframe(frvrs_logs_df, columns_list, search_regex=search_regex)\n",
    "display(df.sample(min(4, df.shape[0])).dropna(axis='columns', how='all').T)"
   ]
  },
  {
   "cell_type": "markdown",
   "id": "659e116a-b8a0-4a1d-b132-df6f9e38a1d7",
   "metadata": {},
   "source": [
    "\n",
    "## Check for duplicate file ingestion"
   ]
  },
  {
   "cell_type": "code",
   "execution_count": 7,
   "id": "e7f7d334-d060-46bf-ab58-9ef5f522c631",
   "metadata": {},
   "outputs": [],
   "source": [
    "\n",
    "# Filter all the rows that have more than one unique value in the file_name column for each value in the session_uuid column\n",
    "mask_series = (frvrs_logs_df.groupby('session_uuid').file_name.transform(pd.Series.nunique) > 1)\n",
    "assert frvrs_logs_df[mask_series].shape[0] == 0, \"You have duplicate files\"\n",
    "# columns_list = ['session_uuid', 'file_name']\n",
    "# for (session_uuid, file_name), df in frvrs_logs_df[mask_series][columns_list].drop_duplicates().sort_values(columns_list).groupby(columns_list):\n",
    "#     if not file_name.startswith('Double runs removed/'):\n",
    "#         file_path = osp.join(fu.data_logs_folder, *file_name.split('/'))\n",
    "#         os.remove(file_path)"
   ]
  },
  {
   "cell_type": "markdown",
   "id": "a73b7e7c-3728-478f-b9e4-2b8c62f872de",
   "metadata": {},
   "source": [
    "\n",
    "## Add new features according to your increasing domain knowledge"
   ]
  },
  {
   "cell_type": "code",
   "execution_count": 9,
   "id": "28d140d9-6094-4fc6-84dd-6320dd071e6e",
   "metadata": {},
   "outputs": [
    {
     "name": "stdout",
     "output_type": "stream",
     "text": [
      "Pickling to /mnt/c/Users/DaveBabbitt/Documents/GitHub/itm-analysis-reporting/saves/pkl/frvrs_logs_df.pkl\n",
      "Saving to /mnt/c/Users/DaveBabbitt/Documents/GitHub/itm-analysis-reporting/saves/csv/frvrs_logs_df.csv\n",
      "(829116, 107)\n"
     ]
    },
    {
     "data": {
      "text/html": [
       "<div>\n",
       "<style scoped>\n",
       "    .dataframe tbody tr th:only-of-type {\n",
       "        vertical-align: middle;\n",
       "    }\n",
       "\n",
       "    .dataframe tbody tr th {\n",
       "        vertical-align: top;\n",
       "    }\n",
       "\n",
       "    .dataframe thead th {\n",
       "        text-align: right;\n",
       "    }\n",
       "</style>\n",
       "<table border=\"1\" class=\"dataframe\">\n",
       "  <thead>\n",
       "    <tr style=\"text-align: right;\">\n",
       "      <th></th>\n",
       "      <th>record_count</th>\n",
       "    </tr>\n",
       "    <tr>\n",
       "      <th>patient_id</th>\n",
       "      <th></th>\n",
       "    </tr>\n",
       "  </thead>\n",
       "  <tbody>\n",
       "    <tr>\n",
       "      <th>Helga_10 Root</th>\n",
       "      <td>191293</td>\n",
       "    </tr>\n",
       "    <tr>\n",
       "      <th>Gloria_8 Root</th>\n",
       "      <td>170979</td>\n",
       "    </tr>\n",
       "    <tr>\n",
       "      <th>Bob_9 Root</th>\n",
       "      <td>30678</td>\n",
       "    </tr>\n",
       "    <tr>\n",
       "      <th>Mike_2 Root</th>\n",
       "      <td>17804</td>\n",
       "    </tr>\n",
       "    <tr>\n",
       "      <th>Mike_0 Root</th>\n",
       "      <td>11035</td>\n",
       "    </tr>\n",
       "  </tbody>\n",
       "</table>\n",
       "</div>"
      ],
      "text/plain": [
       "               record_count\n",
       "patient_id                 \n",
       "Helga_10 Root        191293\n",
       "Gloria_8 Root        170979\n",
       "Bob_9 Root            30678\n",
       "Mike_2 Root           17804\n",
       "Mike_0 Root           11035"
      ]
     },
     "metadata": {},
     "output_type": "display_data"
    }
   ],
   "source": [
    "\n",
    "# Modalize into one patient ID column if possible\n",
    "new_column_name = 'patient_id'\n",
    "if (new_column_name not in frvrs_logs_df.columns):\n",
    "    frvrs_logs_df = nu.modalize_columns(frvrs_logs_df, fu.patient_id_columns_list, new_column_name)\n",
    "    \n",
    "    # Store the results and show the new data frame shape\n",
    "    nu.store_objects(frvrs_logs_df=frvrs_logs_df)\n",
    "    nu.save_data_frames(frvrs_logs_df=frvrs_logs_df)\n",
    "    print(frvrs_logs_df.shape) # (829116, 108)\n",
    "display(frvrs_logs_df.groupby(new_column_name).size().to_frame().rename(columns={0: 'record_count'}).sort_values('record_count', ascending=False).head(5))"
   ]
  },
  {
   "cell_type": "code",
   "execution_count": 10,
   "id": "0620fee1-3032-4f5b-be65-63ef72935c5c",
   "metadata": {},
   "outputs": [
    {
     "name": "stdout",
     "output_type": "stream",
     "text": [
      "Pickling to /mnt/c/Users/DaveBabbitt/Documents/GitHub/itm-analysis-reporting/saves/pkl/frvrs_logs_df.pkl\n",
      "Saving to /mnt/c/Users/DaveBabbitt/Documents/GitHub/itm-analysis-reporting/saves/csv/frvrs_logs_df.csv\n",
      "(829116, 108)\n"
     ]
    },
    {
     "data": {
      "text/html": [
       "<div>\n",
       "<style scoped>\n",
       "    .dataframe tbody tr th:only-of-type {\n",
       "        vertical-align: middle;\n",
       "    }\n",
       "\n",
       "    .dataframe tbody tr th {\n",
       "        vertical-align: top;\n",
       "    }\n",
       "\n",
       "    .dataframe thead th {\n",
       "        text-align: right;\n",
       "    }\n",
       "</style>\n",
       "<table border=\"1\" class=\"dataframe\">\n",
       "  <thead>\n",
       "    <tr style=\"text-align: right;\">\n",
       "      <th></th>\n",
       "      <th>record_count</th>\n",
       "    </tr>\n",
       "    <tr>\n",
       "      <th>location_id</th>\n",
       "      <th></th>\n",
       "    </tr>\n",
       "  </thead>\n",
       "  <tbody>\n",
       "    <tr>\n",
       "      <th>(4.0, 0.0, -4.8)</th>\n",
       "      <td>8213</td>\n",
       "    </tr>\n",
       "    <tr>\n",
       "      <th>(4.1, 0.0, -4.8)</th>\n",
       "      <td>4373</td>\n",
       "    </tr>\n",
       "    <tr>\n",
       "      <th>(3.9, 0.0, -4.9)</th>\n",
       "      <td>4307</td>\n",
       "    </tr>\n",
       "    <tr>\n",
       "      <th>(5.7, 0.0, -5.7)</th>\n",
       "      <td>4083</td>\n",
       "    </tr>\n",
       "    <tr>\n",
       "      <th>(2.7, 0.0, -5.7)</th>\n",
       "      <td>3860</td>\n",
       "    </tr>\n",
       "  </tbody>\n",
       "</table>\n",
       "</div>"
      ],
      "text/plain": [
       "                  record_count\n",
       "location_id                   \n",
       "(4.0, 0.0, -4.8)          8213\n",
       "(4.1, 0.0, -4.8)          4373\n",
       "(3.9, 0.0, -4.9)          4307\n",
       "(5.7, 0.0, -5.7)          4083\n",
       "(2.7, 0.0, -5.7)          3860"
      ]
     },
     "metadata": {},
     "output_type": "display_data"
    }
   ],
   "source": [
    "\n",
    "# Modalize into one location ID column if possible\n",
    "new_column_name = 'location_id'\n",
    "if (new_column_name not in frvrs_logs_df.columns):\n",
    "    frvrs_logs_df = nu.modalize_columns(frvrs_logs_df, fu.location_id_columns_list, new_column_name)\n",
    "    \n",
    "    # Store the results and show the new data frame shape\n",
    "    nu.store_objects(frvrs_logs_df=frvrs_logs_df)\n",
    "    nu.save_data_frames(frvrs_logs_df=frvrs_logs_df)\n",
    "    \n",
    "    print(frvrs_logs_df.shape) # (829116, 108)\n",
    "display(frvrs_logs_df.groupby(new_column_name).size().to_frame().rename(columns={0: 'record_count'}).sort_values('record_count', ascending=False).head(5))"
   ]
  },
  {
   "cell_type": "code",
   "execution_count": 11,
   "id": "526a523d-861b-4ac7-b66e-53830521010f",
   "metadata": {},
   "outputs": [
    {
     "name": "stdout",
     "output_type": "stream",
     "text": [
      "Pickling to /mnt/c/Users/DaveBabbitt/Documents/GitHub/itm-analysis-reporting/saves/pkl/frvrs_logs_df.pkl\n",
      "Saving to /mnt/c/Users/DaveBabbitt/Documents/GitHub/itm-analysis-reporting/saves/csv/frvrs_logs_df.csv\n",
      "(829116, 109)\n"
     ]
    },
    {
     "data": {
      "text/html": [
       "<div>\n",
       "<style scoped>\n",
       "    .dataframe tbody tr th:only-of-type {\n",
       "        vertical-align: middle;\n",
       "    }\n",
       "\n",
       "    .dataframe tbody tr th {\n",
       "        vertical-align: top;\n",
       "    }\n",
       "\n",
       "    .dataframe thead th {\n",
       "        text-align: right;\n",
       "    }\n",
       "</style>\n",
       "<table border=\"1\" class=\"dataframe\">\n",
       "  <thead>\n",
       "    <tr style=\"text-align: right;\">\n",
       "      <th></th>\n",
       "      <th>record_count</th>\n",
       "    </tr>\n",
       "    <tr>\n",
       "      <th>injury_id</th>\n",
       "      <th></th>\n",
       "    </tr>\n",
       "  </thead>\n",
       "  <tbody>\n",
       "    <tr>\n",
       "      <th>R Chest Collapse</th>\n",
       "      <td>1242</td>\n",
       "    </tr>\n",
       "    <tr>\n",
       "      <th>R Shin Amputation</th>\n",
       "      <td>1102</td>\n",
       "    </tr>\n",
       "    <tr>\n",
       "      <th>L Thigh Puncture</th>\n",
       "      <td>1018</td>\n",
       "    </tr>\n",
       "    <tr>\n",
       "      <th>L Thigh Laceration</th>\n",
       "      <td>888</td>\n",
       "    </tr>\n",
       "    <tr>\n",
       "      <th>R Thigh Laceration</th>\n",
       "      <td>875</td>\n",
       "    </tr>\n",
       "  </tbody>\n",
       "</table>\n",
       "</div>"
      ],
      "text/plain": [
       "                    record_count\n",
       "injury_id                       \n",
       "R Chest Collapse            1242\n",
       "R Shin Amputation           1102\n",
       "L Thigh Puncture            1018\n",
       "L Thigh Laceration           888\n",
       "R Thigh Laceration           875"
      ]
     },
     "metadata": {},
     "output_type": "display_data"
    }
   ],
   "source": [
    "\n",
    "# Modalize into one injury ID column if possible\n",
    "new_column_name = 'injury_id'\n",
    "if (new_column_name not in frvrs_logs_df.columns):\n",
    "    frvrs_logs_df = nu.modalize_columns(frvrs_logs_df, fu.injury_id_columns_list, new_column_name)\n",
    "    \n",
    "    # Store the results and show the new data frame shape\n",
    "    nu.store_objects(frvrs_logs_df=frvrs_logs_df)\n",
    "    nu.save_data_frames(frvrs_logs_df=frvrs_logs_df)\n",
    "    \n",
    "    print(frvrs_logs_df.shape) # (829116, 109)\n",
    "display(frvrs_logs_df.groupby(new_column_name).size().to_frame().rename(columns={0: 'record_count'}).sort_values('record_count', ascending=False).head(5))"
   ]
  },
  {
   "cell_type": "code",
   "execution_count": 12,
   "id": "aca86b4a-f8e1-4076-ab21-d45762523aee",
   "metadata": {},
   "outputs": [
    {
     "name": "stdout",
     "output_type": "stream",
     "text": [
      "Pickling to /mnt/c/Users/DaveBabbitt/Documents/GitHub/itm-analysis-reporting/saves/pkl/frvrs_logs_df.pkl\n",
      "Saving to /mnt/c/Users/DaveBabbitt/Documents/GitHub/itm-analysis-reporting/saves/csv/frvrs_logs_df.csv\n",
      "(829116, 110)\n"
     ]
    },
    {
     "data": {
      "text/html": [
       "<div>\n",
       "<style scoped>\n",
       "    .dataframe tbody tr th:only-of-type {\n",
       "        vertical-align: middle;\n",
       "    }\n",
       "\n",
       "    .dataframe tbody tr th {\n",
       "        vertical-align: top;\n",
       "    }\n",
       "\n",
       "    .dataframe thead th {\n",
       "        text-align: right;\n",
       "    }\n",
       "</style>\n",
       "<table border=\"1\" class=\"dataframe\">\n",
       "  <thead>\n",
       "    <tr style=\"text-align: right;\">\n",
       "      <th></th>\n",
       "      <th>record_count</th>\n",
       "    </tr>\n",
       "    <tr>\n",
       "      <th>patient_sort</th>\n",
       "      <th></th>\n",
       "    </tr>\n",
       "  </thead>\n",
       "  <tbody>\n",
       "    <tr>\n",
       "      <th>still</th>\n",
       "      <td>5438</td>\n",
       "    </tr>\n",
       "    <tr>\n",
       "      <th>walker</th>\n",
       "      <td>4960</td>\n",
       "    </tr>\n",
       "    <tr>\n",
       "      <th>waver</th>\n",
       "      <td>8196</td>\n",
       "    </tr>\n",
       "  </tbody>\n",
       "</table>\n",
       "</div>"
      ],
      "text/plain": [
       "              record_count\n",
       "patient_sort              \n",
       "still                 5438\n",
       "walker                4960\n",
       "waver                 8196"
      ]
     },
     "metadata": {},
     "output_type": "display_data"
    }
   ],
   "source": [
    "\n",
    "# Modalize into one patient sort column if possible\n",
    "new_column_name = 'patient_sort'\n",
    "if (new_column_name not in frvrs_logs_df.columns):\n",
    "    frvrs_logs_df = nu.modalize_columns(frvrs_logs_df, fu.patient_sort_columns_list, new_column_name)\n",
    "    \n",
    "    # Store the results and show the new data frame shape\n",
    "    nu.store_objects(frvrs_logs_df=frvrs_logs_df)\n",
    "    nu.save_data_frames(frvrs_logs_df=frvrs_logs_df)\n",
    "    \n",
    "    print(frvrs_logs_df.shape) # (829116, 110)\n",
    "display(frvrs_logs_df.groupby(new_column_name).size().to_frame().rename(columns={0: 'record_count'}))"
   ]
  },
  {
   "cell_type": "code",
   "execution_count": 13,
   "id": "acd04e1d-fec5-42fd-9118-e59ac7832020",
   "metadata": {},
   "outputs": [
    {
     "name": "stdout",
     "output_type": "stream",
     "text": [
      "Pickling to /mnt/c/Users/DaveBabbitt/Documents/GitHub/itm-analysis-reporting/saves/pkl/frvrs_logs_df.pkl\n",
      "Saving to /mnt/c/Users/DaveBabbitt/Documents/GitHub/itm-analysis-reporting/saves/csv/frvrs_logs_df.csv\n",
      "(829116, 111)\n"
     ]
    },
    {
     "data": {
      "text/html": [
       "<div>\n",
       "<style scoped>\n",
       "    .dataframe tbody tr th:only-of-type {\n",
       "        vertical-align: middle;\n",
       "    }\n",
       "\n",
       "    .dataframe tbody tr th {\n",
       "        vertical-align: top;\n",
       "    }\n",
       "\n",
       "    .dataframe thead th {\n",
       "        text-align: right;\n",
       "    }\n",
       "</style>\n",
       "<table border=\"1\" class=\"dataframe\">\n",
       "  <thead>\n",
       "    <tr style=\"text-align: right;\">\n",
       "      <th></th>\n",
       "      <th>record_count</th>\n",
       "    </tr>\n",
       "    <tr>\n",
       "      <th>is_scene_aborted</th>\n",
       "      <th></th>\n",
       "    </tr>\n",
       "  </thead>\n",
       "  <tbody>\n",
       "    <tr>\n",
       "      <th>False</th>\n",
       "      <td>829116</td>\n",
       "    </tr>\n",
       "  </tbody>\n",
       "</table>\n",
       "</div>"
      ],
      "text/plain": [
       "                  record_count\n",
       "is_scene_aborted              \n",
       "False                   829116"
      ]
     },
     "metadata": {},
     "output_type": "display_data"
    }
   ],
   "source": [
    "\n",
    "# Any runs longer than that 16 minutes are probably an instance\n",
    "# of someone taking off the headset and setting it on the ground.\n",
    "# 1 second = 1,000 milliseconds; 1 minute = 60 seconds\n",
    "new_column_name = 'is_scene_aborted'\n",
    "# if (new_column_name in frvrs_logs_df.columns): frvrs_logs_df = frvrs_logs_df.drop(columns=new_column_name)\n",
    "if (new_column_name not in frvrs_logs_df.columns):\n",
    "    frvrs_logs_df[new_column_name] = False\n",
    "    for (session_uuid, scene_id), scene_df in frvrs_logs_df.groupby(fu.scene_groupby_columns):\n",
    "        mask_series = True\n",
    "        for cn in fu.scene_groupby_columns: mask_series &= (frvrs_logs_df[cn] == eval(cn))\n",
    "        frvrs_logs_df.loc[mask_series, new_column_name] = fu.get_is_scene_aborted(scene_df)\n",
    "    \n",
    "    # Store the results and show the new data frame shape\n",
    "    nu.store_objects(frvrs_logs_df=frvrs_logs_df)\n",
    "    nu.save_data_frames(frvrs_logs_df=frvrs_logs_df)\n",
    "    \n",
    "    print(frvrs_logs_df.shape) # (829116, 111)\n",
    "display(frvrs_logs_df.groupby(new_column_name).size().to_frame().rename(columns={0: 'record_count'}))"
   ]
  },
  {
   "cell_type": "code",
   "execution_count": 14,
   "id": "160f23ce-3849-4f58-99f3-093a176415e6",
   "metadata": {},
   "outputs": [
    {
     "name": "stdout",
     "output_type": "stream",
     "text": [
      "Pickling to /mnt/c/Users/DaveBabbitt/Documents/GitHub/itm-analysis-reporting/saves/pkl/frvrs_logs_df.pkl\n",
      "Saving to /mnt/c/Users/DaveBabbitt/Documents/GitHub/itm-analysis-reporting/saves/csv/frvrs_logs_df.csv\n",
      "(829116, 112)\n"
     ]
    },
    {
     "data": {
      "text/html": [
       "<div>\n",
       "<style scoped>\n",
       "    .dataframe tbody tr th:only-of-type {\n",
       "        vertical-align: middle;\n",
       "    }\n",
       "\n",
       "    .dataframe tbody tr th {\n",
       "        vertical-align: top;\n",
       "    }\n",
       "\n",
       "    .dataframe thead th {\n",
       "        text-align: right;\n",
       "    }\n",
       "</style>\n",
       "<table border=\"1\" class=\"dataframe\">\n",
       "  <thead>\n",
       "    <tr style=\"text-align: right;\">\n",
       "      <th></th>\n",
       "      <th>record_count</th>\n",
       "    </tr>\n",
       "    <tr>\n",
       "      <th>scene_type</th>\n",
       "      <th></th>\n",
       "    </tr>\n",
       "  </thead>\n",
       "  <tbody>\n",
       "    <tr>\n",
       "      <th>Orientation</th>\n",
       "      <td>135937</td>\n",
       "    </tr>\n",
       "    <tr>\n",
       "      <th>Triage</th>\n",
       "      <td>693179</td>\n",
       "    </tr>\n",
       "  </tbody>\n",
       "</table>\n",
       "</div>"
      ],
      "text/plain": [
       "             record_count\n",
       "scene_type               \n",
       "Orientation        135937\n",
       "Triage             693179"
      ]
     },
     "metadata": {},
     "output_type": "display_data"
    }
   ],
   "source": [
    "\n",
    "# Check if all the patient IDs in any run are some variant of Mike and designate those runs as \"Orientation\"\n",
    "new_column_name = 'scene_type'\n",
    "if (new_column_name not in frvrs_logs_df.columns): frvrs_logs_df[new_column_name] = 'Triage'\n",
    "column_value = 'Orientation'\n",
    "if (column_value not in frvrs_logs_df.scene_type.unique()):\n",
    "    \n",
    "    # Filter out those files from the dataset and mark them\n",
    "    base_mask_series = frvrs_logs_df.groupby(fu.scene_groupby_columns).patient_id.transform(lambda srs: all(srs.str.lower().str.contains('mike')))\n",
    "    frvrs_logs_df.loc[base_mask_series, new_column_name] = column_value\n",
    "    \n",
    "    # Store the results and show the new data frame shape\n",
    "    nu.store_objects(frvrs_logs_df=frvrs_logs_df)\n",
    "    nu.save_data_frames(frvrs_logs_df=frvrs_logs_df)\n",
    "    \n",
    "    print(frvrs_logs_df.shape) # (829116, 108)\n",
    "display(frvrs_logs_df.groupby(new_column_name).size().to_frame().rename(columns={0: 'record_count'}))"
   ]
  },
  {
   "cell_type": "code",
   "execution_count": 15,
   "id": "9cf9a04b-a9b2-4bef-aedd-df9b112e199d",
   "metadata": {},
   "outputs": [
    {
     "name": "stdout",
     "output_type": "stream",
     "text": [
      "Pickling to /mnt/c/Users/DaveBabbitt/Documents/GitHub/itm-analysis-reporting/saves/pkl/frvrs_logs_df.pkl\n",
      "Saving to /mnt/c/Users/DaveBabbitt/Documents/GitHub/itm-analysis-reporting/saves/csv/frvrs_logs_df.csv\n",
      "(829116, 113)\n"
     ]
    },
    {
     "data": {
      "text/html": [
       "<div>\n",
       "<style scoped>\n",
       "    .dataframe tbody tr th:only-of-type {\n",
       "        vertical-align: middle;\n",
       "    }\n",
       "\n",
       "    .dataframe tbody tr th {\n",
       "        vertical-align: top;\n",
       "    }\n",
       "\n",
       "    .dataframe thead th {\n",
       "        text-align: right;\n",
       "    }\n",
       "</style>\n",
       "<table border=\"1\" class=\"dataframe\">\n",
       "  <thead>\n",
       "    <tr style=\"text-align: right;\">\n",
       "      <th></th>\n",
       "      <th>record_count</th>\n",
       "    </tr>\n",
       "    <tr>\n",
       "      <th>is_a_one_triage_file</th>\n",
       "      <th></th>\n",
       "    </tr>\n",
       "  </thead>\n",
       "  <tbody>\n",
       "    <tr>\n",
       "      <th>False</th>\n",
       "      <td>462331</td>\n",
       "    </tr>\n",
       "    <tr>\n",
       "      <th>True</th>\n",
       "      <td>366785</td>\n",
       "    </tr>\n",
       "  </tbody>\n",
       "</table>\n",
       "</div>"
      ],
      "text/plain": [
       "                      record_count\n",
       "is_a_one_triage_file              \n",
       "False                       462331\n",
       "True                        366785"
      ]
     },
     "metadata": {},
     "output_type": "display_data"
    }
   ],
   "source": [
    "\n",
    "# Get a sample with a clear count of responders\n",
    "new_column_name = 'is_a_one_triage_file'\n",
    "# if (new_column_name in frvrs_logs_df.columns): frvrs_logs_df = frvrs_logs_df.drop(columns=new_column_name)\n",
    "if (new_column_name not in frvrs_logs_df.columns):\n",
    "    frvrs_logs_df[new_column_name] = False\n",
    "    for file_name in frvrs_logs_df.file_name.unique():\n",
    "        \n",
    "        # Filter out the triage files in this file name\n",
    "        base_mask_series = (frvrs_logs_df.file_name == file_name)\n",
    "        mask_series = base_mask_series & (frvrs_logs_df.scene_type == 'Triage') & (frvrs_logs_df.is_scene_aborted == False)\n",
    "        \n",
    "        # Get whether the file has only one triage run\n",
    "        triage_scene_count = len(frvrs_logs_df[mask_series].groupby('scene_id').groups)\n",
    "        is_a_one_triage_file = bool(triage_scene_count == 1)\n",
    "        \n",
    "        frvrs_logs_df.loc[base_mask_series, new_column_name] = is_a_one_triage_file\n",
    "    \n",
    "    # Store the results and show the new data frame shape\n",
    "    nu.store_objects(frvrs_logs_df=frvrs_logs_df)\n",
    "    nu.save_data_frames(frvrs_logs_df=frvrs_logs_df)\n",
    "    \n",
    "    print(frvrs_logs_df.shape) # (829116, 114)\n",
    "display(frvrs_logs_df.groupby(new_column_name).size().to_frame().rename(columns={0: 'record_count'}))"
   ]
  },
  {
   "cell_type": "code",
   "execution_count": null,
   "id": "d65f54fd-2e10-438d-a22c-a88dd4738674",
   "metadata": {},
   "outputs": [],
   "source": [
    "\n",
    "# Mask voice capture PII. OSU screened all of the **VOICE_COMMAND** and **VOICE_CAPTURE** lines and\n",
    "# replaced any names with either Max or Jane, regardless of whether the name was that of the responder.\n",
    "# But, just to make sure...\n",
    "columns_list = ['voice_command_command_description', 'voice_capture_message']\n",
    "if not frvrs_logs_df[columns_list].applymap(lambda x: '[PERSON]' in str(x), na_action='ignore').sum().sum():\n",
    "    import spacy\n",
    "    try: nlp = spacy.load('en_core_web_sm')\n",
    "    except OSError as e:\n",
    "        print(str(e).strip())\n",
    "        command_str = f'{sys.executable} -m spacy download en_core_web_sm --quiet'\n",
    "        print(command_str)\n",
    "        !{command_str}\n",
    "        nlp = spacy.load('en_core_web_sm')\n",
    "    import en_core_web_sm\n",
    "    nlp = en_core_web_sm.load()\n",
    "    \n",
    "    mask_series = frvrs_logs_df.voice_command_command_description.isnull() & frvrs_logs_df.voice_capture_message.isnull()\n",
    "    df = frvrs_logs_df[~mask_series]\n",
    "    def mask_pii(srs):\n",
    "        for idx in columns_list:\n",
    "            new_text = srs[idx]\n",
    "            if pd.notnull(new_text):\n",
    "                doc = nlp(new_text)\n",
    "                for entity in doc.ents:\n",
    "                    if entity.label_ == 'PERSON': new_text = re.sub('\\\\b' + entity.text + '\\\\b', '[PERSON]', new_text)\n",
    "                srs[idx] = new_text\n",
    "    \n",
    "        return srs\n",
    "    \n",
    "    for row_index, row_series in df.apply(mask_pii, axis='columns')[columns_list].iterrows():\n",
    "        for column_name, column_value in row_series.items():\n",
    "            if pd.notnull(column_value): frvrs_logs_df.loc[row_index, column_name] = column_value\n",
    "    \n",
    "    # Store the results and show the new data frame shape\n",
    "    nu.store_objects(frvrs_logs_df=frvrs_logs_df)\n",
    "    nu.save_data_frames(frvrs_logs_df=frvrs_logs_df)\n",
    "    \n",
    "    print(frvrs_logs_df.shape) # (829116, 113)"
   ]
  },
  {
   "cell_type": "code",
   "execution_count": null,
   "id": "ecc0d5d9-cabc-4eaa-8e39-fe89a8d4ab9a",
   "metadata": {},
   "outputs": [],
   "source": [
    "\n",
    "# Add a voice capture sentiment score\n",
    "new_column_name = 'voice_capture_sentiment_score'\n",
    "if (new_column_name not in frvrs_logs_df.columns):\n",
    "    from nltk.sentiment.vader import SentimentIntensityAnalyzer\n",
    "    try: sid = SentimentIntensityAnalyzer()\n",
    "    except LookupError as e:\n",
    "        print(str(e).strip())\n",
    "        import nltk\n",
    "        nltk.download('vader_lexicon')\n",
    "        sid = SentimentIntensityAnalyzer()\n",
    "    mask_series = frvrs_logs_df.voice_capture_message.isnull()\n",
    "    for row_index, row_series in frvrs_logs_df[~mask_series].iterrows():\n",
    "        voice_capture_message = '\\n' + row_series.voice_capture_message\n",
    "        frvrs_logs_df.loc[row_index, new_column_name] = sid.polarity_scores(voice_capture_message)['compound']\n",
    "    \n",
    "    # Store the results and show the new data frame shape\n",
    "    nu.store_objects(frvrs_logs_df=frvrs_logs_df)\n",
    "    nu.save_data_frames(frvrs_logs_df=frvrs_logs_df)\n",
    "    \n",
    "    print(frvrs_logs_df.shape) # (829116, 114)\n",
    "display(frvrs_logs_df.groupby(new_column_name).size().to_frame().rename(columns={0: 'record_count'}).sort_values('record_count', ascending=False).head(5))"
   ]
  },
  {
   "cell_type": "code",
   "execution_count": null,
   "id": "2ed650b7-d542-4097-8375-f762f7a3c442",
   "metadata": {},
   "outputs": [],
   "source": []
  }
 ],
 "metadata": {
  "kernelspec": {
   "display_name": "ITM Analysis Reporting (Python 3.11.5)",
   "language": "python",
   "name": "itm_analysis_reporting"
  },
  "language_info": {
   "codemirror_mode": {
    "name": "ipython",
    "version": 3
   },
   "file_extension": ".py",
   "mimetype": "text/x-python",
   "name": "python",
   "nbconvert_exporter": "python",
   "pygments_lexer": "ipython3",
   "version": "3.7.12"
  }
 },
 "nbformat": 4,
 "nbformat_minor": 5
}

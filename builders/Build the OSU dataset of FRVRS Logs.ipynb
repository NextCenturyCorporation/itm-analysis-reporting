{
 "cells": [
  {
   "cell_type": "code",
   "execution_count": 1,
   "id": "f303819c-dc03-46ab-a5fc-d1de4fe42714",
   "metadata": {},
   "outputs": [
    {
     "name": "stdout",
     "output_type": "stream",
     "text": [
      "Pretty printing has been turned OFF\n"
     ]
    }
   ],
   "source": [
    "\n",
    "%pprint\n",
    "import sys\n",
    "sys.path.insert(1, '../py')"
   ]
  },
  {
   "cell_type": "code",
   "execution_count": 2,
   "id": "f88993e1-de14-424b-a21c-ca2308d8ee91",
   "metadata": {},
   "outputs": [],
   "source": [
    "\n",
    "from datetime import timedelta\n",
    "from frvrs_utils import FRVRSUtilities\n",
    "from notebook_utils import NotebookUtilities\n",
    "from pandas import DataFrame\n",
    "import matplotlib.pyplot as plt\n",
    "import numpy as np\n",
    "import os\n",
    "import os.path as osp\n",
    "import pandas as pd\n",
    "import re\n",
    "import re\n",
    "\n",
    "nu = NotebookUtilities(\n",
    "    data_folder_path=osp.abspath('../data'),\n",
    "    saves_folder_path=osp.abspath('../saves')\n",
    ")\n",
    "fu = FRVRSUtilities(\n",
    "    data_folder_path=osp.abspath('../data'),\n",
    "    saves_folder_path=osp.abspath('../saves')\n",
    ")"
   ]
  },
  {
   "cell_type": "markdown",
   "id": "1bdc37e1-1f10-499c-a2e0-cfd6cbf5b652",
   "metadata": {},
   "source": [
    "\n",
    "# Build and deidentify the OSU dataset of Simulation Sessions"
   ]
  },
  {
   "cell_type": "code",
   "execution_count": 3,
   "id": "f95c475b-d3d1-4290-964c-8e5d7c7f3ccf",
   "metadata": {},
   "outputs": [
    {
     "name": "stdout",
     "output_type": "stream",
     "text": [
      "All CSV files renamed by date/03.10.23.0753.csv\n"
     ]
    },
    {
     "ename": "RuntimeError",
     "evalue": "No active exception to reraise",
     "output_type": "error",
     "traceback": [
      "\u001b[1;31m---------------------------------------------------------------------------\u001b[0m",
      "\u001b[1;31mRuntimeError\u001b[0m                              Traceback (most recent call last)",
      "Cell \u001b[1;32mIn[3], line 7\u001b[0m\n\u001b[0;32m      3\u001b[0m     frvrs_logs_df \u001b[38;5;241m=\u001b[39m nu\u001b[38;5;241m.\u001b[39mload_object(\u001b[38;5;124m'\u001b[39m\u001b[38;5;124mfrvrs_logs_df\u001b[39m\u001b[38;5;124m'\u001b[39m)\n\u001b[0;32m      4\u001b[0m \u001b[38;5;28;01melse\u001b[39;00m:\n\u001b[0;32m      5\u001b[0m     \n\u001b[0;32m      6\u001b[0m     \u001b[38;5;66;03m# Add the CSVs to the data frame\u001b[39;00m\n\u001b[1;32m----> 7\u001b[0m     frvrs_logs_df \u001b[38;5;241m=\u001b[39m \u001b[43mfu\u001b[49m\u001b[38;5;241;43m.\u001b[39;49m\u001b[43mconcatonate_logs\u001b[49m\u001b[43m(\u001b[49m\u001b[43m)\u001b[49m\n\u001b[0;32m      9\u001b[0m     \u001b[38;5;66;03m# Remove numerically-named columns\u001b[39;00m\n\u001b[0;32m     10\u001b[0m     columns_list \u001b[38;5;241m=\u001b[39m [x \u001b[38;5;28;01mfor\u001b[39;00m x \u001b[38;5;129;01min\u001b[39;00m frvrs_logs_df\u001b[38;5;241m.\u001b[39mcolumns \u001b[38;5;28;01mif\u001b[39;00m \u001b[38;5;129;01mnot\u001b[39;00m re\u001b[38;5;241m.\u001b[39msearch(\u001b[38;5;124mr\u001b[39m\u001b[38;5;124m'\u001b[39m\u001b[38;5;124m\\\u001b[39m\u001b[38;5;124md+\u001b[39m\u001b[38;5;124m'\u001b[39m, \u001b[38;5;28mstr\u001b[39m(x))]\n",
      "File \u001b[1;32m~\\Documents\\GitHub\\itm-analysis-reporting\\builders\\../py\\frvrs_utils.py:2839\u001b[0m, in \u001b[0;36mFRVRSUtilities.concatonate_logs\u001b[1;34m(self, logs_folder)\u001b[0m\n\u001b[0;32m   2835\u001b[0m \u001b[38;5;66;03m# Iterate over the files in the current subdirectory\u001b[39;00m\n\u001b[0;32m   2836\u001b[0m \u001b[38;5;28;01mfor\u001b[39;00m file_name \u001b[38;5;129;01min\u001b[39;00m files_list:\n\u001b[0;32m   2837\u001b[0m     \n\u001b[0;32m   2838\u001b[0m     \u001b[38;5;66;03m# If the file is a CSV file, merge it into the subdirectory data frame\u001b[39;00m\n\u001b[1;32m-> 2839\u001b[0m     \u001b[38;5;28;01mif\u001b[39;00m file_name\u001b[38;5;241m.\u001b[39mendswith(\u001b[38;5;124m'\u001b[39m\u001b[38;5;124m.csv\u001b[39m\u001b[38;5;124m'\u001b[39m): sub_directory_df \u001b[38;5;241m=\u001b[39m \u001b[38;5;28;43mself\u001b[39;49m\u001b[38;5;241;43m.\u001b[39;49m\u001b[43mprocess_files\u001b[49m\u001b[43m(\u001b[49m\u001b[43msub_directory_df\u001b[49m\u001b[43m,\u001b[49m\u001b[43m \u001b[49m\u001b[43msub_directory\u001b[49m\u001b[43m,\u001b[49m\u001b[43m \u001b[49m\u001b[43mfile_name\u001b[49m\u001b[43m)\u001b[49m\n\u001b[0;32m   2841\u001b[0m \u001b[38;5;66;03m# Append the data frame for the current subdirectory to the main data frame\u001b[39;00m\n\u001b[0;32m   2842\u001b[0m frvrs_logs_df \u001b[38;5;241m=\u001b[39m pd\u001b[38;5;241m.\u001b[39mconcat([frvrs_logs_df, sub_directory_df], axis\u001b[38;5;241m=\u001b[39m\u001b[38;5;124m'\u001b[39m\u001b[38;5;124mindex\u001b[39m\u001b[38;5;124m'\u001b[39m)\n",
      "File \u001b[1;32m~\\Documents\\GitHub\\itm-analysis-reporting\\builders\\../py\\frvrs_utils.py:2782\u001b[0m, in \u001b[0;36mFRVRSUtilities.process_files\u001b[1;34m(self, sub_directory_df, sub_directory, file_name)\u001b[0m\n\u001b[0;32m   2780\u001b[0m \u001b[38;5;66;03m# Add file name and logger version to the data frame\u001b[39;00m\n\u001b[0;32m   2781\u001b[0m file_dir_suffix \u001b[38;5;241m=\u001b[39m osp\u001b[38;5;241m.\u001b[39mabspath(sub_directory)\u001b[38;5;241m.\u001b[39mreplace(osp\u001b[38;5;241m.\u001b[39mabspath(\u001b[38;5;28mself\u001b[39m\u001b[38;5;241m.\u001b[39mdata_logs_folder) \u001b[38;5;241m+\u001b[39m os\u001b[38;5;241m.\u001b[39msep, \u001b[38;5;124m'\u001b[39m\u001b[38;5;124m'\u001b[39m)\n\u001b[1;32m-> 2782\u001b[0m \u001b[38;5;28mprint\u001b[39m(\u001b[38;5;124m'\u001b[39m\u001b[38;5;124m/\u001b[39m\u001b[38;5;124m'\u001b[39m\u001b[38;5;241m.\u001b[39mjoin(file_dir_suffix\u001b[38;5;241m.\u001b[39msplit(os\u001b[38;5;241m.\u001b[39msep)) \u001b[38;5;241m+\u001b[39m \u001b[38;5;124m'\u001b[39m\u001b[38;5;124m/\u001b[39m\u001b[38;5;124m'\u001b[39m \u001b[38;5;241m+\u001b[39m file_name); \u001b[38;5;28;01mraise\u001b[39;00m\n\u001b[0;32m   2783\u001b[0m file_df[\u001b[38;5;124m'\u001b[39m\u001b[38;5;124mfile_name\u001b[39m\u001b[38;5;124m'\u001b[39m] \u001b[38;5;241m=\u001b[39m \u001b[38;5;124m'\u001b[39m\u001b[38;5;124m/\u001b[39m\u001b[38;5;124m'\u001b[39m\u001b[38;5;241m.\u001b[39mjoin(sub_directory\u001b[38;5;241m.\u001b[39msplit(os\u001b[38;5;241m.\u001b[39msep)[\u001b[38;5;241m1\u001b[39m:]) \u001b[38;5;241m+\u001b[39m \u001b[38;5;124m'\u001b[39m\u001b[38;5;124m/\u001b[39m\u001b[38;5;124m'\u001b[39m \u001b[38;5;241m+\u001b[39m file_name\n\u001b[0;32m   2784\u001b[0m \u001b[38;5;28;01mif\u001b[39;00m is_version_there(version_number): file_df[\u001b[38;5;124m'\u001b[39m\u001b[38;5;124mlogger_version\u001b[39m\u001b[38;5;124m'\u001b[39m] \u001b[38;5;241m=\u001b[39m \u001b[38;5;28mfloat\u001b[39m(version_number)\n",
      "\u001b[1;31mRuntimeError\u001b[0m: No active exception to reraise"
     ]
    }
   ],
   "source": [
    "\n",
    "# Get all logs into one data frame\n",
    "if nu.pickle_exists('frvrs_logs_df'):\n",
    "    frvrs_logs_df = nu.load_object('frvrs_logs_df')\n",
    "else:\n",
    "    \n",
    "    # Add the CSVs to the data frame\n",
    "    frvrs_logs_df = fu.concatonate_logs()\n",
    "    \n",
    "    # Remove numerically-named columns\n",
    "    columns_list = [x for x in frvrs_logs_df.columns if not re.search(r'\\d+', str(x))]\n",
    "    frvrs_logs_df = frvrs_logs_df[columns_list]\n",
    "    \n",
    "    # Convert 'TRUE' and 'FALSE' to boolean values\n",
    "    for cn in [\n",
    "        'injury_record_injury_treated_with_wrong_treatment', 'injury_record_injury_treated',\n",
    "        'injury_treated_injury_treated_with_wrong_treatment', 'injury_treated_injury_treated'\n",
    "    ]:\n",
    "        frvrs_logs_df[cn] = frvrs_logs_df[cn].map({'TRUE': True, 'FALSE': False, 'True': True, 'False': False})\n",
    "    \n",
    "    nu.store_objects(frvrs_logs_df=frvrs_logs_df)\n",
    "print(frvrs_logs_df.shape) # (842663, 106)\n",
    "columns_list = [cn for cn in frvrs_logs_df.columns if 'appl' in cn]\n",
    "mask_series = False\n",
    "for cn in columns_list: mask_series |= ~frvrs_logs_df[cn].isnull()\n",
    "df = frvrs_logs_df[mask_series][columns_list]\n",
    "display(df.sample(min(4, df.shape[0])).dropna(axis='columns', how='all').T)"
   ]
  },
  {
   "cell_type": "markdown",
   "id": "659e116a-b8a0-4a1d-b132-df6f9e38a1d7",
   "metadata": {},
   "source": [
    "\n",
    "## Check for duplicate file ingestion"
   ]
  },
  {
   "cell_type": "code",
   "execution_count": null,
   "id": "e7f7d334-d060-46bf-ab58-9ef5f522c631",
   "metadata": {},
   "outputs": [],
   "source": [
    "\n",
    "# Filter all the rows that have more than one unique value in the file_name column for each value in the session_uuid column\n",
    "mask_series = (frvrs_logs_df.groupby('session_uuid').file_name.transform(pd.Series.nunique) > 1)\n",
    "assert frvrs_logs_df[mask_series].shape[0] == 0, \"You have duplicate files\""
   ]
  },
  {
   "cell_type": "code",
   "execution_count": 7,
   "id": "b33a3028-675a-42c9-b00e-3fac639c7024",
   "metadata": {},
   "outputs": [
    {
     "data": {
      "text/plain": [
       "{56265: {'session_uuid': 'a7804ee3-6a1c-4462-957a-17976a540483', 'file_name': 'Users/DaveBabbitt/Documents/GitHub/itm-analysis-reporting/data/logs/All CSV files renamed by date/03.15.23.1220.csv'}, 137347: {'session_uuid': '91a84c6a-ba27-4116-8644-e5373b3588de', 'file_name': 'Users/DaveBabbitt/Documents/GitHub/itm-analysis-reporting/data/logs/All CSV files renamed by date/12.01.22.1551.csv'}, 193921: {'session_uuid': 'ab1f8cd1-8d65-45da-b087-89b25ff46c66', 'file_name': 'Users/DaveBabbitt/Documents/GitHub/itm-analysis-reporting/data/logs/DCEMS Round 2 only triage sessions/ab1f8cd1-8d65-45da-b087-89b25ff46c66.csv'}, 228447: {'session_uuid': '677d1c18-f292-4bcb-924d-52f5e762533f', 'file_name': 'Users/DaveBabbitt/Documents/GitHub/itm-analysis-reporting/data/logs/Disaster Day 2022/AD_1154.csv'}, 231330: {'session_uuid': 'aca8a746-0f72-4c8d-87a5-70d836da8768', 'file_name': 'Users/DaveBabbitt/Documents/GitHub/itm-analysis-reporting/data/logs/Disaster Day 2022/AF.csv'}, 232175: {'session_uuid': 'd8c6bf18-14e3-45f2-bfa1-9a904cb4b82b', 'file_name': 'Users/DaveBabbitt/Documents/GitHub/itm-analysis-reporting/data/logs/Disaster Day 2022/AK_938.csv'}, 235088: {'session_uuid': '009b848c-ea64-4f22-bd40-711213a3d327', 'file_name': 'Users/DaveBabbitt/Documents/GitHub/itm-analysis-reporting/data/logs/Disaster Day 2022/AS_1056.csv'}, 237633: {'session_uuid': '4ca5febe-0a4b-4c77-bd3e-6632ae760df1', 'file_name': 'Users/DaveBabbitt/Documents/GitHub/itm-analysis-reporting/data/logs/Disaster Day 2022/BC_1136.csv'}, 240768: {'session_uuid': '0d3e0c62-db52-40f9-9ee8-7fc84a1dcbf2', 'file_name': 'Users/DaveBabbitt/Documents/GitHub/itm-analysis-reporting/data/logs/Disaster Day 2022/CF_1117.csv'}, 246739: {'session_uuid': '16373b36-886a-4d0d-9015-474d29d139cc', 'file_name': 'Users/DaveBabbitt/Documents/GitHub/itm-analysis-reporting/data/logs/Disaster Day 2022/EB_0128.csv'}, 250353: {'session_uuid': '86366fd5-be94-43cc-a9e9-7c98609c0a66', 'file_name': 'Users/DaveBabbitt/Documents/GitHub/itm-analysis-reporting/data/logs/Disaster Day 2022/ES_0938.csv'}, 251978: {'session_uuid': '5c720560-85f5-4bb1-9aa5-41207f6259a2', 'file_name': 'Users/DaveBabbitt/Documents/GitHub/itm-analysis-reporting/data/logs/Disaster Day 2022/HL_1034.csv'}, 257100: {'session_uuid': '0b1d6253-9c4f-43b7-8217-6f0e486aabe7', 'file_name': 'Users/DaveBabbitt/Documents/GitHub/itm-analysis-reporting/data/logs/Disaster Day 2022/JH_1235.csv'}, 258540: {'session_uuid': '75b3227f-2f3c-4fe0-b9b8-9e0fe3baa210', 'file_name': 'Users/DaveBabbitt/Documents/GitHub/itm-analysis-reporting/data/logs/Disaster Day 2022/JL_1013.csv'}, 263633: {'session_uuid': '22e2c9a3-b93f-4f7f-896a-ca188c78505b', 'file_name': 'Users/DaveBabbitt/Documents/GitHub/itm-analysis-reporting/data/logs/Disaster Day 2022/JM_1119.csv'}, 329670: {'session_uuid': 'daca96a3-b61d-4087-9747-cea6fd7e3a43', 'file_name': 'Users/DaveBabbitt/Documents/GitHub/itm-analysis-reporting/data/logs/Disaster Day 2022/KF_0856.csv'}, 332904: {'session_uuid': '67ed9702-0908-454a-8069-7ca4a6f2bee9', 'file_name': 'Users/DaveBabbitt/Documents/GitHub/itm-analysis-reporting/data/logs/Disaster Day 2022/MB_0927.csv'}, 402923: {'session_uuid': '24205a11-9e21-44b7-a565-985454c90776', 'file_name': 'Users/DaveBabbitt/Documents/GitHub/itm-analysis-reporting/data/logs/Disaster Day 2022/MM_1136.csv'}, 532764: {'session_uuid': '0667e56a-abe6-4097-9a56-33735f4855e2', 'file_name': 'Users/DaveBabbitt/Documents/GitHub/itm-analysis-reporting/data/logs/Disaster Day 2022/NEM_1053.csv'}, 533810: {'session_uuid': 'fe077b96-8e52-4e1a-8ec7-e5c5f46e65c5', 'file_name': 'Users/DaveBabbitt/Documents/GitHub/itm-analysis-reporting/data/logs/Disaster Day 2022/NIM_0837.csv'}, 535831: {'session_uuid': '9f03c005-21d8-4934-8bb9-7152347726d1', 'file_name': 'Users/DaveBabbitt/Documents/GitHub/itm-analysis-reporting/data/logs/Disaster Day 2022/PA_132.csv'}, 538963: {'session_uuid': 'ce41d7c3-9e24-4840-865f-3b7f7cd828f7', 'file_name': 'Users/DaveBabbitt/Documents/GitHub/itm-analysis-reporting/data/logs/Disaster Day 2022/PR_0914.csv'}, 616712: {'session_uuid': '46c273a6-b8be-46ea-96cd-72903780d43d', 'file_name': 'Users/DaveBabbitt/Documents/GitHub/itm-analysis-reporting/data/logs/Disaster Day 2022/RO_1152.csv'}, 617880: {'session_uuid': '5d916938-e0d3-47ee-8f55-12bf12283ee1', 'file_name': 'Users/DaveBabbitt/Documents/GitHub/itm-analysis-reporting/data/logs/Disaster Day 2022/RP_0853.csv'}, 619774: {'session_uuid': 'c82e4612-4e6f-4834-bc7f-6092327c44fa', 'file_name': 'Users/DaveBabbitt/Documents/GitHub/itm-analysis-reporting/data/logs/Disaster Day 2022/SB_1100.csv'}, 621849: {'session_uuid': 'a40659ab-dfbf-43ab-91cb-72a48a82c426', 'file_name': 'Users/DaveBabbitt/Documents/GitHub/itm-analysis-reporting/data/logs/Disaster Day 2022/TS_0900.csv'}, 668969: {'session_uuid': 'b541f5c9-93fe-4ef3-9fe7-38493b8aa8a8', 'file_name': 'Users/DaveBabbitt/Documents/GitHub/itm-analysis-reporting/data/logs/Disaster Day 2022/ZJ_1210.csv'}, 674135: {'session_uuid': 'fe077b96-8e52-4e1a-8ec7-e5c5f46e65c5', 'file_name': 'Users/DaveBabbitt/Documents/GitHub/itm-analysis-reporting/data/logs/Double runs removed/22.03.15.0824r.csv'}, 675160: {'session_uuid': '5d916938-e0d3-47ee-8f55-12bf12283ee1', 'file_name': 'Users/DaveBabbitt/Documents/GitHub/itm-analysis-reporting/data/logs/Double runs removed/22.03.15.0844r.csv'}, 675686: {'session_uuid': 'a40659ab-dfbf-43ab-91cb-72a48a82c426', 'file_name': 'Users/DaveBabbitt/Documents/GitHub/itm-analysis-reporting/data/logs/Double runs removed/22.03.15.0848r.csv'}, 677605: {'session_uuid': '86366fd5-be94-43cc-a9e9-7c98609c0a66', 'file_name': 'Users/DaveBabbitt/Documents/GitHub/itm-analysis-reporting/data/logs/Double runs removed/22.03.15.0926r.csv'}, 678670: {'session_uuid': 'aca8a746-0f72-4c8d-87a5-70d836da8768', 'file_name': 'Users/DaveBabbitt/Documents/GitHub/itm-analysis-reporting/data/logs/Double runs removed/22.03.15.1036r.csv'}, 679219: {'session_uuid': '0667e56a-abe6-4097-9a56-33735f4855e2', 'file_name': 'Users/DaveBabbitt/Documents/GitHub/itm-analysis-reporting/data/logs/Double runs removed/22.03.15.1037r.csv'}, 679938: {'session_uuid': 'c82e4612-4e6f-4834-bc7f-6092327c44fa', 'file_name': 'Users/DaveBabbitt/Documents/GitHub/itm-analysis-reporting/data/logs/Double runs removed/22.03.15.1052r.csv'}, 680572: {'session_uuid': '22e2c9a3-b93f-4f7f-896a-ca188c78505b', 'file_name': 'Users/DaveBabbitt/Documents/GitHub/itm-analysis-reporting/data/logs/Double runs removed/22.03.15.1106r.csv'}, 681454: {'session_uuid': '4ca5febe-0a4b-4c77-bd3e-6632ae760df1', 'file_name': 'Users/DaveBabbitt/Documents/GitHub/itm-analysis-reporting/data/logs/Double runs removed/22.03.15.1119r.csv'}, 682587: {'session_uuid': '677d1c18-f292-4bcb-924d-52f5e762533f', 'file_name': 'Users/DaveBabbitt/Documents/GitHub/itm-analysis-reporting/data/logs/Double runs removed/22.03.15.1131r.csv'}, 684477: {'session_uuid': '16373b36-886a-4d0d-9015-474d29d139cc', 'file_name': 'Users/DaveBabbitt/Documents/GitHub/itm-analysis-reporting/data/logs/Double runs removed/22.03.15.1315r.csv'}, 685562: {'session_uuid': '9f03c005-21d8-4934-8bb9-7152347726d1', 'file_name': 'Users/DaveBabbitt/Documents/GitHub/itm-analysis-reporting/data/logs/Double runs removed/22.03.15.1316r.csv'}, 686935: {'session_uuid': 'daca96a3-b61d-4087-9747-cea6fd7e3a43', 'file_name': 'Users/DaveBabbitt/Documents/GitHub/itm-analysis-reporting/data/logs/Double runs removed/22.03.16.0844r.csv'}, 687460: {'session_uuid': 'ce41d7c3-9e24-4840-865f-3b7f7cd828f7', 'file_name': 'Users/DaveBabbitt/Documents/GitHub/itm-analysis-reporting/data/logs/Double runs removed/22.03.16.0901r.csv'}, 688000: {'session_uuid': '67ed9702-0908-454a-8069-7ca4a6f2bee9', 'file_name': 'Users/DaveBabbitt/Documents/GitHub/itm-analysis-reporting/data/logs/Double runs removed/22.03.16.0917r.csv'}, 688789: {'session_uuid': 'd8c6bf18-14e3-45f2-bfa1-9a904cb4b82b', 'file_name': 'Users/DaveBabbitt/Documents/GitHub/itm-analysis-reporting/data/logs/Double runs removed/22.03.16.0931r.csv'}, 690450: {'session_uuid': '75b3227f-2f3c-4fe0-b9b8-9e0fe3baa210', 'file_name': 'Users/DaveBabbitt/Documents/GitHub/itm-analysis-reporting/data/logs/Double runs removed/22.03.16.0955r.csv'}, 693545: {'session_uuid': '5c720560-85f5-4bb1-9aa5-41207f6259a2', 'file_name': 'Users/DaveBabbitt/Documents/GitHub/itm-analysis-reporting/data/logs/Double runs removed/22.03.16.1019r.csv'}, 694514: {'session_uuid': '009b848c-ea64-4f22-bd40-711213a3d327', 'file_name': 'Users/DaveBabbitt/Documents/GitHub/itm-analysis-reporting/data/logs/Double runs removed/22.03.16.1039r.csv'}, 695885: {'session_uuid': '0d3e0c62-db52-40f9-9ee8-7fc84a1dcbf2', 'file_name': 'Users/DaveBabbitt/Documents/GitHub/itm-analysis-reporting/data/logs/Double runs removed/22.03.16.1104r.csv'}, 696964: {'session_uuid': '24205a11-9e21-44b7-a565-985454c90776', 'file_name': 'Users/DaveBabbitt/Documents/GitHub/itm-analysis-reporting/data/logs/Double runs removed/22.03.16.1123r.csv'}, 697501: {'session_uuid': '46c273a6-b8be-46ea-96cd-72903780d43d', 'file_name': 'Users/DaveBabbitt/Documents/GitHub/itm-analysis-reporting/data/logs/Double runs removed/22.03.16.1141r.csv'}, 698146: {'session_uuid': 'b541f5c9-93fe-4ef3-9fe7-38493b8aa8a8', 'file_name': 'Users/DaveBabbitt/Documents/GitHub/itm-analysis-reporting/data/logs/Double runs removed/22.03.16.1156r.csv'}, 698592: {'session_uuid': '0b1d6253-9c4f-43b7-8217-6f0e486aabe7', 'file_name': 'Users/DaveBabbitt/Documents/GitHub/itm-analysis-reporting/data/logs/Double runs removed/22.03.16.1215r.csv'}, 699464: {'session_uuid': '91a84c6a-ba27-4116-8644-e5373b3588de', 'file_name': 'Users/DaveBabbitt/Documents/GitHub/itm-analysis-reporting/data/logs/Double runs removed/22.12.01.1546r.csv'}, 699868: {'session_uuid': 'e8cb6ae0-6d68-410f-88fc-4adf30d8bfac', 'file_name': 'Users/DaveBabbitt/Documents/GitHub/itm-analysis-reporting/data/logs/Double runs removed/23.03.03.1321r.csv'}, 701130: {'session_uuid': 'a7804ee3-6a1c-4462-957a-17976a540483', 'file_name': 'Users/DaveBabbitt/Documents/GitHub/itm-analysis-reporting/data/logs/Double runs removed/23.03.15.1203r.csv'}, 702319: {'session_uuid': 'ab1f8cd1-8d65-45da-b087-89b25ff46c66', 'file_name': 'Users/DaveBabbitt/Documents/GitHub/itm-analysis-reporting/data/logs/Double runs removed/23.08.03.0755r.csv'}, 751607: {'session_uuid': 'e8cb6ae0-6d68-410f-88fc-4adf30d8bfac', 'file_name': 'Users/DaveBabbitt/Documents/GitHub/itm-analysis-reporting/data/logs/v.1.0/Clean Marty8.csv'}}"
      ]
     },
     "execution_count": 7,
     "metadata": {},
     "output_type": "execute_result"
    }
   ],
   "source": [
    "\n",
    "columns_list = ['session_uuid', 'file_name']\n",
    "frvrs_logs_df[mask_series][columns_list].drop_duplicates().T.to_dict()"
   ]
  },
  {
   "cell_type": "markdown",
   "id": "a73b7e7c-3728-478f-b9e4-2b8c62f872de",
   "metadata": {},
   "source": [
    "\n",
    "## Add new features according to your increasing domain knowledge"
   ]
  },
  {
   "cell_type": "code",
   "execution_count": null,
   "id": "90333cae-adf7-4451-a181-3d4cf5377413",
   "metadata": {},
   "outputs": [],
   "source": [
    "\n",
    "# Modalize into one patient ID column if possible\n",
    "new_column_name = 'patient_id'\n",
    "if (new_column_name not in frvrs_logs_df.columns):\n",
    "    columns_list= [\n",
    "        'patient_demoted_id', 'patient_record_id', 'injury_record_patient_id', 's_a_l_t_walk_if_can_patient_id',\n",
    "        's_a_l_t_walked_patient_id', 's_a_l_t_wave_if_can_patient_id', 's_a_l_t_waved_patient_id', 'patient_engaged_id',\n",
    "        'pulse_taken_patient_id', 'injury_treated_patient_id', 'tool_applied_patient_id', 'tag_applied_patient_id',\n",
    "        'player_gaze_patient_id'\n",
    "    ]\n",
    "    frvrs_logs_df = nu.modalize_columns(frvrs_logs_df, columns_list, new_column_name)\n",
    "    \n",
    "    # Store the results and show the new data frame shape\n",
    "    nu.store_objects(frvrs_logs_df=frvrs_logs_df)\n",
    "    print(frvrs_logs_df.shape) # (842663, 107)"
   ]
  },
  {
   "cell_type": "code",
   "execution_count": null,
   "id": "0620fee1-3032-4f5b-be65-63ef72935c5c",
   "metadata": {},
   "outputs": [],
   "source": [
    "\n",
    "# Modalize into one location ID column if possible\n",
    "new_column_name = 'location_id'\n",
    "if (new_column_name not in frvrs_logs_df.columns):\n",
    "    columns_list= [\n",
    "        'teleport_location', 'patient_demoted_position', 'patient_record_position', 'injury_record_injury_injury_locator',\n",
    "        's_a_l_t_walk_if_can_sort_location', 's_a_l_t_walked_sort_location', 's_a_l_t_wave_if_can_sort_location',\n",
    "        's_a_l_t_waved_sort_location', 'patient_engaged_position', 'bag_access_location', 'injury_treated_injury_injury_locator',\n",
    "        'bag_closed_location', 'tag_discarded_location', 'tool_discarded_location', 'player_location_location',\n",
    "        'player_gaze_location'\n",
    "    ]\n",
    "    frvrs_logs_df = nu.modalize_columns(frvrs_logs_df, columns_list, new_column_name)\n",
    "    \n",
    "    # Store the results and show the new data frame shape\n",
    "    nu.store_objects(frvrs_logs_df=frvrs_logs_df)\n",
    "    print(frvrs_logs_df.shape) # (842663, 108)"
   ]
  },
  {
   "cell_type": "code",
   "execution_count": null,
   "id": "526a523d-861b-4ac7-b66e-53830521010f",
   "metadata": {},
   "outputs": [],
   "source": [
    "\n",
    "# Modalize into one injury ID column if possible\n",
    "new_column_name = 'injury_id'\n",
    "if (new_column_name not in frvrs_logs_df.columns):\n",
    "    frvrs_logs_df = nu.modalize_columns(frvrs_logs_df, ['injury_record_id', 'injury_treated_id'], new_column_name)\n",
    "    \n",
    "    # Store the results and show the new data frame shape\n",
    "    nu.store_objects(frvrs_logs_df=frvrs_logs_df)\n",
    "    print(frvrs_logs_df.shape) # (842663, 109)"
   ]
  },
  {
   "cell_type": "code",
   "execution_count": null,
   "id": "aca86b4a-f8e1-4076-ab21-d45762523aee",
   "metadata": {},
   "outputs": [],
   "source": [
    "\n",
    "# Modalize into one patient sort column if possible\n",
    "new_column_name = 'patient_sort'\n",
    "if (new_column_name not in frvrs_logs_df.columns):\n",
    "    frvrs_logs_df = nu.modalize_columns(frvrs_logs_df, ['patient_demoted_sort', 'patient_record_sort', 'patient_engaged_sort'], new_column_name)\n",
    "    \n",
    "    # Store the results and show the new data frame shape\n",
    "    nu.store_objects(frvrs_logs_df=frvrs_logs_df)\n",
    "    print(frvrs_logs_df.shape) # (829277, 109)"
   ]
  },
  {
   "cell_type": "code",
   "execution_count": null,
   "id": "acd04e1d-fec5-42fd-9118-e59ac7832020",
   "metadata": {},
   "outputs": [],
   "source": [
    "\n",
    "# Any runs longer than that 16 minutes are probably an instance\n",
    "# of someone taking off the headset and setting it on the ground.\n",
    "# 1 second = 1,000 milliseconds; 1 minute = 60 seconds\n",
    "new_column_name = 'is_scene_aborted'\n",
    "if (new_column_name in frvrs_logs_df.columns): frvrs_logs_df = frvrs_logs_df.drop(columns=new_column_name)\n",
    "if (new_column_name not in frvrs_logs_df.columns):\n",
    "    frvrs_logs_df[new_column_name] = False\n",
    "    for (session_uuid, scene_index), scene_df in frvrs_logs_df.groupby(fu.scene_groupby_columns):\n",
    "        mask_series = True\n",
    "        for cn in fu.scene_groupby_columns: mask_series &= (frvrs_logs_df[cn] == eval(cn))\n",
    "        frvrs_logs_df.loc[mask_series, new_column_name] = fu.get_is_scene_aborted(scene_df)\n",
    "    \n",
    "    # Store the results and show the new data frame shape\n",
    "    nu.store_objects(frvrs_logs_df=frvrs_logs_df)\n",
    "    print(frvrs_logs_df.shape) # (842663, 111)\n",
    "    display(frvrs_logs_df.groupby('is_scene_aborted').size().to_frame().rename(columns={0: 'count'}))"
   ]
  },
  {
   "cell_type": "code",
   "execution_count": null,
   "id": "160f23ce-3849-4f58-99f3-093a176415e6",
   "metadata": {},
   "outputs": [],
   "source": [
    "\n",
    "# Check if all the patient IDs in any run are some variant of Mike and designate those runs as \"Orientation\"\n",
    "if ('scene_type' not in frvrs_logs_df.columns): frvrs_logs_df['scene_type'] = 'Triage'\n",
    "column_value = 'Orientation'\n",
    "if (column_value not in frvrs_logs_df.scene_type.unique()):\n",
    "    \n",
    "    # Filter out those files from the dataset and mark them\n",
    "    base_mask_series = frvrs_logs_df.groupby(fu.scene_groupby_columns).patient_id.transform(lambda srs: all(srs.str.lower().str.contains('mike')))\n",
    "    frvrs_logs_df.loc[base_mask_series, 'scene_type'] = column_value\n",
    "    \n",
    "    # Store the results and show the new data frame shape\n",
    "    nu.store_objects(frvrs_logs_df=frvrs_logs_df)\n",
    "    print(frvrs_logs_df.shape) # (842663, 113)"
   ]
  },
  {
   "cell_type": "code",
   "execution_count": null,
   "id": "9cf9a04b-a9b2-4bef-aedd-df9b112e199d",
   "metadata": {},
   "outputs": [],
   "source": [
    "\n",
    "# Get a sample with a clear count of responders\n",
    "new_column_name = 'is_a_one_triage_file'\n",
    "if (new_column_name not in frvrs_logs_df.columns):\n",
    "    frvrs_logs_df[new_column_name] = False\n",
    "    for file_name in frvrs_logs_df.file_name.unique():\n",
    "        is_a_one_triage_file = fu.get_is_a_one_triage_file(frvrs_logs_df, file_name)\n",
    "        mask_series = (frvrs_logs_df.file_name == file_name)\n",
    "        frvrs_logs_df.loc[mask_series, new_column_name] = is_a_one_triage_file\n",
    "    \n",
    "    nu.store_objects(frvrs_logs_df=frvrs_logs_df)\n",
    "    print(frvrs_logs_df.shape) # (842663, 111)"
   ]
  },
  {
   "cell_type": "code",
   "execution_count": null,
   "id": "d65f54fd-2e10-438d-a22c-a88dd4738674",
   "metadata": {},
   "outputs": [],
   "source": [
    "\n",
    "# Mask voice capture PII\n",
    "# OSU screened all of the **VOICE_COMMAND** and **VOICE_CAPTURE** lines and\n",
    "# replaced any names with either Max or Jane, regardless of whether the name was that of the responder.\n",
    "# But, just to make sure...\n",
    "columns_list = ['voice_command_command_description', 'voice_capture_message']\n",
    "if not frvrs_logs_df[columns_list].applymap(lambda x: '[PERSON]' in str(x), na_action='ignore').sum().sum():\n",
    "    import spacy\n",
    "    nlp = spacy.load('en_core_web_sm')\n",
    "    import en_core_web_sm\n",
    "    nlp = en_core_web_sm.load()\n",
    "    \n",
    "    mask_series = frvrs_logs_df.voice_command_command_description.isnull() & frvrs_logs_df.voice_capture_message.isnull()\n",
    "    df = frvrs_logs_df[~mask_series]\n",
    "    def mask_pii(srs):\n",
    "        for idx in columns_list:\n",
    "            new_text = srs[idx]\n",
    "            if str(new_text) != 'nan':\n",
    "                doc = nlp(new_text)\n",
    "                for entity in doc.ents:\n",
    "                    if entity.label_ == 'PERSON':\n",
    "                        new_text = re.sub('\\\\b' + entity.text + '\\\\b', '[PERSON]', new_text)\n",
    "                srs[idx] = new_text\n",
    "    \n",
    "        return srs\n",
    "    \n",
    "    for row_index, row_series in df.apply(mask_pii, axis='columns')[columns_list].iterrows():\n",
    "        for column_name, column_value in row_series.items():\n",
    "            if str(column_value) != 'nan':\n",
    "                frvrs_logs_df.loc[row_index, column_name] = column_value\n",
    "    \n",
    "    # Store the results and show the new data frame shape\n",
    "    nu.store_objects(frvrs_logs_df=frvrs_logs_df)\n",
    "    print(frvrs_logs_df.shape) # (842663, 110)"
   ]
  },
  {
   "cell_type": "code",
   "execution_count": null,
   "id": "ecc0d5d9-cabc-4eaa-8e39-fe89a8d4ab9a",
   "metadata": {},
   "outputs": [],
   "source": [
    "\n",
    "# Add a voice capture sentiment score\n",
    "if ('voice_capture_sentiment_score' not in frvrs_logs_df.columns):\n",
    "    from nltk.sentiment.vader import SentimentIntensityAnalyzer\n",
    "    sid = SentimentIntensityAnalyzer()\n",
    "    mask_series = frvrs_logs_df.voice_capture_message.isnull()\n",
    "    for row_index, row_series in frvrs_logs_df[~mask_series].iterrows():\n",
    "        voice_capture_message = '\\n' + row_series.voice_capture_message\n",
    "        frvrs_logs_df.loc[row_index, 'voice_capture_sentiment_score'] = sid.polarity_scores(voice_capture_message)['compound']\n",
    "    \n",
    "    # Store the results and show the new data frame shape\n",
    "    nu.store_objects(frvrs_logs_df=frvrs_logs_df)\n",
    "    print(frvrs_logs_df.shape) # (842663, 110)"
   ]
  },
  {
   "cell_type": "code",
   "execution_count": null,
   "id": "19fe7a2c-42b4-458d-947d-f930d914f317",
   "metadata": {},
   "outputs": [],
   "source": []
  }
 ],
 "metadata": {
  "kernelspec": {
   "display_name": "LlamaIndex (Python 3.10.9)",
   "language": "python",
   "name": "llama_index"
  },
  "language_info": {
   "codemirror_mode": {
    "name": "ipython",
    "version": 3
   },
   "file_extension": ".py",
   "mimetype": "text/x-python",
   "name": "python",
   "nbconvert_exporter": "python",
   "pygments_lexer": "ipython3",
   "version": "3.10.9"
  }
 },
 "nbformat": 4,
 "nbformat_minor": 5
}

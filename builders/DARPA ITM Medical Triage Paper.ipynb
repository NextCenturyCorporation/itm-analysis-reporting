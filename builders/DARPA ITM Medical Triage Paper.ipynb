{
 "cells": [
  {
   "cell_type": "code",
   "execution_count": 1,
   "id": "710c8979-b516-4884-ba6d-98a9bdcec416",
   "metadata": {},
   "outputs": [
    {
     "name": "stdout",
     "output_type": "stream",
     "text": [
      "Pretty printing has been turned OFF\n"
     ]
    }
   ],
   "source": [
    "\n",
    "%pprint\n",
    "import sys\n",
    "sys.path.insert(1, '../py')"
   ]
  },
  {
   "cell_type": "code",
   "execution_count": 2,
   "id": "71e3f9aa-6bc5-4a0c-a306-9ecf6e115173",
   "metadata": {},
   "outputs": [
    {
     "name": "stdout",
     "output_type": "stream",
     "text": [
      "Attempting to load /mnt/c/Users/DaveBabbitt/Documents/GitHub/itm-analysis-reporting/saves/pkl/frvrs_logs_df.pkl.\n",
      "Can't get attribute '_unpickle_block' on <module 'pandas._libs.internals' from '/home/dbabbitt/anaconda3/envs/itm_analysis_reporting/lib/python3.7/site-packages/pandas/_libs/internals.cpython-37m-x86_64-linux-gnu.so'>\n",
      "No pickle exists for frvrs_logs_df - attempting to load /mnt/c/Users/DaveBabbitt/Documents/GitHub/itm-analysis-reporting/saves/csv/frvrs_logs_df.csv.\n",
      "(829116, 113)\n"
     ]
    }
   ],
   "source": [
    "\n",
    "# Get all CSVs into one data frame\n",
    "from FRVRS import fu, nu\n",
    "from datetime import timedelta\n",
    "from pandas import DataFrame\n",
    "import numpy as np\n",
    "import os\n",
    "import os.path as osp\n",
    "\n",
    "frvrs_logs_df = nu.load_data_frames(frvrs_logs_df='frvrs_logs_df')['frvrs_logs_df']\n",
    "print(frvrs_logs_df.shape) # (829277, 114)"
   ]
  },
  {
   "cell_type": "markdown",
   "id": "0af4b468-93b5-4878-a43b-852819d2bfa9",
   "metadata": {},
   "source": [
    "\n",
    "## Abstract\n",
    "**Methods**:"
   ]
  },
  {
   "cell_type": "code",
   "execution_count": 3,
   "id": "b20f484c-0899-4eca-abad-59c10f54e490",
   "metadata": {},
   "outputs": [
    {
     "name": "stdout",
     "output_type": "stream",
     "text": [
      "A cohort of 357 EMS clinicians and healthcare professionals engaged in a high-fidelity VR simulation using VRFirstResponder, encountering 11 simulated patients (SD = 1) with varying injury severity. Metrics including time to control life-threatening hemorrhage and triage efficacy were analyzed using median [JF4] and interquartile ranges (IQR).\n"
     ]
    }
   ],
   "source": [
    "\n",
    "# Get the count of files with only one triage scene in them\n",
    "from pandas import Series\n",
    "\n",
    "mask_series = (frvrs_logs_df.scene_type == 'Triage') & (frvrs_logs_df.is_scene_aborted == False) & (frvrs_logs_df.is_a_one_triage_file == True)\n",
    "responders_count = frvrs_logs_df[mask_series].groupby('file_name').size().shape[0]\n",
    "counts_list = [df.patient_id.nunique() for _, df in frvrs_logs_df[mask_series].groupby(fu.scene_groupby_columns)]\n",
    "df = nu.get_statistics(Series(counts_list).to_frame().rename(columns={0: 'patient_count'}), ['patient_count'])\n",
    "patients_count = int(df.T['mean'].squeeze())\n",
    "patients_sd = int(df.T['SD'].squeeze())\n",
    "\n",
    "# Infer the number of responders from the files with one triage scene\n",
    "print(\n",
    "    f'A cohort of {responders_count} EMS clinicians and healthcare professionals engaged in a high-fidelity VR simulation using VRFirstResponder,'\n",
    "    f' encountering {patients_count} simulated patients (SD = {patients_sd}) with varying injury severity. Metrics including time to control life-threatening hemorrhage and triage'\n",
    "    ' efficacy were analyzed using median [JF4] and interquartile ranges (IQR).'\n",
    ")"
   ]
  },
  {
   "cell_type": "markdown",
   "id": "e26785d1-8bfb-4a51-b4db-721f40431a9f",
   "metadata": {},
   "source": [
    "\n",
    "**Results**: The median time to triage the entire scene was 7:38 minutes (SD = 2:27, IQR = 6:13, 8:59). A robust 93% of participants successfully implemented all required hemorrhage control, with a median time of 4:54 minutes for life-threatening hemorrhage control (SD = 1:48, IQR = 3:57, 6:08). Hemorrhage control per patient took a median of 14 seconds (SD = 0:28, IQR = 0:09, 0:23). Participants accurately tagged 73% of patients and 17% effectively utilized the SALT sort commands for optimal patient evaluation."
   ]
  },
  {
   "cell_type": "markdown",
   "id": "5366d2b2-c8e9-4406-a73f-73ae76e23cc5",
   "metadata": {},
   "source": [
    "\n",
    "## Methods\n",
    "### Participants"
   ]
  },
  {
   "cell_type": "code",
   "execution_count": 4,
   "id": "c797cd5a-2e5c-4854-bf02-d38c9f8c209d",
   "metadata": {},
   "outputs": [
    {
     "name": "stdout",
     "output_type": "stream",
     "text": [
      "357 EMS clinicians and healthcare professionals engaged in a VR simulation of a bomb/blast scenario utilizing VRFirstResponder, a high-fidelity, fully immersive, automated, customizable, and programmable VR simulation platform. All participants signed informed consent approved by the Ohio State IRB.\n"
     ]
    }
   ],
   "source": [
    "\n",
    "print(\n",
    "    f'{responders_count} EMS clinicians and healthcare professionals engaged in a VR simulation of a bomb/blast scenario utilizing VRFirstResponder,'\n",
    "    ' a high-fidelity, fully immersive, automated, customizable, and programmable VR simulation platform.'\n",
    "    ' All participants signed informed consent approved by the Ohio State IRB.'\n",
    ")"
   ]
  },
  {
   "cell_type": "markdown",
   "id": "542e3d9c-f1e5-41e3-b362-cde923bbbcda",
   "metadata": {},
   "source": [
    "\n",
    "## Data Analysis\n",
    "### Triage Efficiency\n",
    "The median time to triage the entire scene was 7:38 minutes (SD = 2:27, IQR = 6:13, 8:59). A robust 93% of participants successfully implemented all required hemorrhage control, with a median time of 4:54 minutes for life-threatening hemorrhage control (SD = 1:48, IQR = 3:57, 6:08). Hemorrhage control per patient took a median of 14 seconds (SD = 0:28, IQR = 0:09, 0:23)."
   ]
  },
  {
   "cell_type": "markdown",
   "id": "440ce014-b0d2-4960-8cef-f57b0935769f",
   "metadata": {},
   "source": [
    "\n",
    "### Triage Accuracy\n",
    "Participants accurately tagged 79% of patients (SD = 33) and 17% effectively utilized the SALT sort commands for optimal patient evaluation. Tag performance varied across the prioritization levels including Minimal (M = .81, SD = .31), Delayed (M = .79, SD = .35), Immediate (M = .84, SD = 24), Expectant (M = .70, SD = .46), and Dead (M = .97, SD = .17). None of the patients were not tagged. The category with the highest number of errors was Expectant (29.7%), followed by Delayed (27.6%), followed by Minimal (22.4%), followed by Immediate (22.3%) and Dead (2.5%). "
   ]
  },
  {
   "cell_type": "markdown",
   "id": "a88ba825-ce13-4a4b-8469-74c76111eea7",
   "metadata": {},
   "source": [
    "\n",
    "## Exploratory Metrics: Movement Efficiency (de Visser, Babbitt)\n",
    "Describe location metrics (Distance traveled, Patient revisits, Movement efficiency, Ideal movement difference score from actual)"
   ]
  },
  {
   "cell_type": "code",
   "execution_count": 17,
   "id": "3a909916-5c9f-46bf-97c2-93ae58df0127",
   "metadata": {},
   "outputs": [
    {
     "name": "stdout",
     "output_type": "stream",
     "text": [
      "(694, 11)\n",
      "['session_uuid', 'scene_id', 'last_still_engagement', 'actual_engagement_distance', 'ideal_engagement_distance', 'measure_of_ideal_ordering', 'distracted_engagement_distance', 'measure_of_distracted_ordering', 'measure_of_right_ordering', 'actual_ideal_delta', 'actual_distracted_delta']\n"
     ]
    }
   ],
   "source": [
    "\n",
    "# base_mask_series = (frvrs_logs_df.scene_type == 'Triage') & (frvrs_logs_df.is_scene_aborted == False) & (frvrs_logs_df.is_a_one_triage_file == True)\n",
    "mask_series = (frvrs_logs_df.action_type == 'PATIENT_ENGAGED')# & base_mask_series\n",
    "distance_delta_df = fu.get_distance_deltas_data_frame(frvrs_logs_df[mask_series])\n",
    "print(distance_delta_df.shape) #(348, 13)\n",
    "print(list(distance_delta_df.columns))"
   ]
  },
  {
   "cell_type": "code",
   "execution_count": 18,
   "id": "f698cb42-ce18-4785-9400-27f8ad771687",
   "metadata": {},
   "outputs": [
    {
     "data": {
      "text/html": [
       "<div>\n",
       "<style scoped>\n",
       "    .dataframe tbody tr th:only-of-type {\n",
       "        vertical-align: middle;\n",
       "    }\n",
       "\n",
       "    .dataframe tbody tr th {\n",
       "        vertical-align: top;\n",
       "    }\n",
       "\n",
       "    .dataframe thead th {\n",
       "        text-align: right;\n",
       "    }\n",
       "</style>\n",
       "<table border=\"1\" class=\"dataframe\">\n",
       "  <thead>\n",
       "    <tr style=\"text-align: right;\">\n",
       "      <th></th>\n",
       "      <th>actual_engagement_distance</th>\n",
       "      <th>actual_ideal_delta</th>\n",
       "      <th>measure_of_ideal_ordering</th>\n",
       "      <th>measure_of_right_ordering</th>\n",
       "    </tr>\n",
       "  </thead>\n",
       "  <tbody>\n",
       "    <tr>\n",
       "      <th>mean</th>\n",
       "      <td>24.225814</td>\n",
       "      <td>-0.026130</td>\n",
       "      <td>0.447565</td>\n",
       "      <td>0.585026</td>\n",
       "    </tr>\n",
       "    <tr>\n",
       "      <th>mode</th>\n",
       "      <td>0.000000</td>\n",
       "      <td>0.000000</td>\n",
       "      <td>1.000000</td>\n",
       "      <td>1.000000</td>\n",
       "    </tr>\n",
       "    <tr>\n",
       "      <th>median</th>\n",
       "      <td>27.797720</td>\n",
       "      <td>0.000000</td>\n",
       "      <td>0.430323</td>\n",
       "      <td>0.704537</td>\n",
       "    </tr>\n",
       "    <tr>\n",
       "      <th>SD</th>\n",
       "      <td>15.327438</td>\n",
       "      <td>4.947445</td>\n",
       "      <td>0.439818</td>\n",
       "      <td>0.436708</td>\n",
       "    </tr>\n",
       "    <tr>\n",
       "      <th>min</th>\n",
       "      <td>0.000000</td>\n",
       "      <td>-29.780528</td>\n",
       "      <td>-0.997128</td>\n",
       "      <td>-0.997128</td>\n",
       "    </tr>\n",
       "    <tr>\n",
       "      <th>25%</th>\n",
       "      <td>9.925315</td>\n",
       "      <td>-1.360942</td>\n",
       "      <td>0.102999</td>\n",
       "      <td>0.245965</td>\n",
       "    </tr>\n",
       "    <tr>\n",
       "      <th>50%</th>\n",
       "      <td>27.797720</td>\n",
       "      <td>0.000000</td>\n",
       "      <td>0.430323</td>\n",
       "      <td>0.704537</td>\n",
       "    </tr>\n",
       "    <tr>\n",
       "      <th>75%</th>\n",
       "      <td>38.201777</td>\n",
       "      <td>2.731774</td>\n",
       "      <td>0.898186</td>\n",
       "      <td>1.000000</td>\n",
       "    </tr>\n",
       "    <tr>\n",
       "      <th>max</th>\n",
       "      <td>91.247935</td>\n",
       "      <td>16.960349</td>\n",
       "      <td>1.000000</td>\n",
       "      <td>1.000000</td>\n",
       "    </tr>\n",
       "  </tbody>\n",
       "</table>\n",
       "</div>"
      ],
      "text/plain": [
       "        actual_engagement_distance  actual_ideal_delta  \\\n",
       "mean                     24.225814           -0.026130   \n",
       "mode                      0.000000            0.000000   \n",
       "median                   27.797720            0.000000   \n",
       "SD                       15.327438            4.947445   \n",
       "min                       0.000000          -29.780528   \n",
       "25%                       9.925315           -1.360942   \n",
       "50%                      27.797720            0.000000   \n",
       "75%                      38.201777            2.731774   \n",
       "max                      91.247935           16.960349   \n",
       "\n",
       "        measure_of_ideal_ordering  measure_of_right_ordering  \n",
       "mean                     0.447565                   0.585026  \n",
       "mode                     1.000000                   1.000000  \n",
       "median                   0.430323                   0.704537  \n",
       "SD                       0.439818                   0.436708  \n",
       "min                     -0.997128                  -0.997128  \n",
       "25%                      0.102999                   0.245965  \n",
       "50%                      0.430323                   0.704537  \n",
       "75%                      0.898186                   1.000000  \n",
       "max                      1.000000                   1.000000  "
      ]
     },
     "execution_count": 18,
     "metadata": {},
     "output_type": "execute_result"
    }
   ],
   "source": [
    "\n",
    "statistics_df = nu.get_statistics(distance_delta_df, ['actual_engagement_distance', 'actual_ideal_delta', 'measure_of_ideal_ordering', 'measure_of_right_ordering'])\n",
    "statistics_df"
   ]
  },
  {
   "cell_type": "markdown",
   "id": "aac194a7-7116-41a1-9c59-3a6ae494ab53",
   "metadata": {},
   "source": [
    "\n",
    "## The Low Adherence to SALT\n",
    "There may be several reasons why there was such a low adherence (17%) to the SALT protocol. It is possible that other factors drove the triage order such as whichever patient was nearest to them."
   ]
  },
  {
   "cell_type": "code",
   "execution_count": 19,
   "id": "20aca1f0-6944-470e-9600-f48aa4e1cc5f",
   "metadata": {},
   "outputs": [
    {
     "data": {
      "text/plain": [
       "29.68299711815562"
      ]
     },
     "execution_count": 19,
     "metadata": {},
     "output_type": "execute_result"
    }
   ],
   "source": [
    "\n",
    "mask_series = (distance_delta_df.measure_of_right_ordering == 1.0)\n",
    "distance_delta_df['adherence_to_salt'] = mask_series\n",
    "100 * distance_delta_df[mask_series].shape[0] / distance_delta_df.shape[0]"
   ]
  },
  {
   "cell_type": "code",
   "execution_count": 20,
   "id": "2a42091a-caff-4fb0-b9d0-967558c17766",
   "metadata": {},
   "outputs": [],
   "source": [
    "\n",
    "distance_delta_df['has_patient_in_agony'] = False\n",
    "mood_columns_list = ['patient_demoted_mood', 'patient_record_mood', 'patient_engaged_mood']\n",
    "for (session_uuid, scene_id), idx_df in distance_delta_df.groupby(fu.scene_groupby_columns):\n",
    "    \n",
    "    # Get the whole scene history\n",
    "    mask_series = True\n",
    "    for cn in fu.scene_groupby_columns: mask_series &= (frvrs_logs_df[cn] == eval(cn))\n",
    "    scene_df = frvrs_logs_df[mask_series]\n",
    "    \n",
    "    # Get whether any patient in the scene is in agony\n",
    "    mask_series = False\n",
    "    for cn in mood_columns_list: mask_series |= (scene_df[cn] == 'agony')\n",
    "    \n",
    "    # Mark the scene in distance delta as agonistic\n",
    "    if mask_series.any(): distance_delta_df.loc[idx_df.index, 'has_patient_in_agony'] = True"
   ]
  },
  {
   "cell_type": "code",
   "execution_count": 39,
   "id": "ff7f1227-602d-4f88-9953-63eb62ea8b29",
   "metadata": {},
   "outputs": [
    {
     "data": {
      "text/plain": [
       "adherence_to_salt  has_patient_in_agony\n",
       "False              False                   135\n",
       "                   True                    353\n",
       "True               False                   136\n",
       "                   True                     70\n",
       "dtype: int64"
      ]
     },
     "metadata": {},
     "output_type": "display_data"
    }
   ],
   "source": [
    "\n",
    "df = distance_delta_df.groupby(['adherence_to_salt', 'has_patient_in_agony']).size()\n",
    "display(df)"
   ]
  },
  {
   "cell_type": "code",
   "execution_count": 41,
   "id": "805086bd-3392-438e-a97a-e2c4bb0015eb",
   "metadata": {},
   "outputs": [
    {
     "name": "stdout",
     "output_type": "stream",
     "text": [
      "Chi-square statistic: 87.93050692344421\n",
      "p-value: 6.7794952709603e-21\n",
      "There is a statistically significant association between adherence_to_salt and has_patient_in_agony.\n"
     ]
    }
   ],
   "source": [
    "\n",
    "# Perform the chi-square test for independence\n",
    "from scipy.stats import chi2_contingency\n",
    "import pandas as pd\n",
    "\n",
    "table = pd.crosstab(distance_delta_df.adherence_to_salt, distance_delta_df.has_patient_in_agony)\n",
    "chi2, pval, _, _ = chi2_contingency(table)\n",
    "\n",
    "# Print the results\n",
    "print('Chi-square statistic:', chi2)\n",
    "print('p-value:', pval)\n",
    "\n",
    "# Interpretation\n",
    "if pval < 0.05:\n",
    "    print('There is a statistically significant association between adherence_to_salt and has_patient_in_agony.')\n",
    "else:\n",
    "    print('There is not enough evidence to conclude a statistically significant association between adherence_to_salt and has_patient_in_agony.')"
   ]
  },
  {
   "cell_type": "code",
   "execution_count": 43,
   "id": "fbda227f-cee0-47d3-a24a-79b87abc8e6f",
   "metadata": {},
   "outputs": [
    {
     "name": "stdout",
     "output_type": "stream",
     "text": [
      "Adherence: False, Agony: False, Proportion: 0.1945, Confidence Interval: [0.1926, 0.1926]\n",
      "Adherence: False, Agony: True, Proportion: 0.5086, Confidence Interval: [0.5071, 0.5099]\n",
      "Adherence: True, Agony: False, Proportion: 0.1960, Confidence Interval: [0.1912, 0.1985]\n",
      "Adherence: True, Agony: True, Proportion: 0.1009, Confidence Interval: [0.1000, 0.1000]\n"
     ]
    }
   ],
   "source": [
    "\n",
    "# Group the data by adherence_to_salt and has_patient_in_agony\n",
    "grouped_data = distance_delta_df.groupby(['adherence_to_salt', 'has_patient_in_agony'])\n",
    "\n",
    "# Calculate the proportion of False adherence_to_salt in each group\n",
    "proportions = grouped_data.size() / grouped_data.size().sum()\n",
    "\n",
    "# Calculate the confidence intervals using the Wilson score interval\n",
    "from scipy.stats import binom\n",
    "\n",
    "confidence_level = 0.95  # Adjust as needed\n",
    "z = 1.96  # Standard normal deviate for 95% confidence\n",
    "\n",
    "for (adherence, agony), proportion in proportions.items():\n",
    "    n = grouped_data.size().loc[(adherence, agony)]\n",
    "    lower_bound = binom.ppf(confidence_level / 2, n, proportion) / n\n",
    "    upper_bound = binom.ppf(1 - confidence_level / 2, n, proportion) / n\n",
    "    print(f'Adherence: {adherence}, Agony: {agony}, Proportion: {proportion:.4f}, Confidence Interval: [{lower_bound:.4f}, {upper_bound:.4f}]')"
   ]
  },
  {
   "cell_type": "code",
   "execution_count": 42,
   "id": "123e93b5-e28a-4921-a762-f3b8e303b7d3",
   "metadata": {},
   "outputs": [
    {
     "name": "stdout",
     "output_type": "stream",
     "text": [
      "When you add back in the orientation and other data, responders dealing with scenes with patients in agony in them are ~1.7 times more likely to not adhere to the SALT protocol than those without.\n"
     ]
    }
   ],
   "source": [
    "\n",
    "# odds_ratio = (353/(70+353)) / (135/(136+135))\n",
    "odds_ratio = (df.loc[(False, True)]/(df.loc[(True, True)]+df.loc[(False, True)])) / (df.loc[(False, False)]/(df.loc[(True, False)]+df.loc[(False, False)]))\n",
    "print(\n",
    "    'When you add back in the orientation and other data, responders dealing with scenes with patients in agony in them'\n",
    "    f' are ~{odds_ratio:0.2} times more likely to not adhere to the SALT protocol than those without.'\n",
    ")"
   ]
  },
  {
   "cell_type": "code",
   "execution_count": 22,
   "id": "474a3f00-6d63-438f-8a2d-d5f70f1b4356",
   "metadata": {},
   "outputs": [
    {
     "data": {
      "text/plain": [
       "'$r^2=0.13,\\\\ p<0.0001$'"
      ]
     },
     "execution_count": 22,
     "metadata": {},
     "output_type": "execute_result"
    }
   ],
   "source": [
    "\n",
    "nu.get_r_squared_value_latex(distance_delta_df['adherence_to_salt'], distance_delta_df['has_patient_in_agony'])"
   ]
  },
  {
   "cell_type": "code",
   "execution_count": 55,
   "id": "938ca783-e549-4ad0-bcd5-293175c49ff1",
   "metadata": {},
   "outputs": [
    {
     "data": {
      "text/plain": [
       "\u001b[0;31mSignature:\u001b[0m\n",
       "\u001b[0msns\u001b[0m\u001b[0;34m.\u001b[0m\u001b[0mboxplot\u001b[0m\u001b[0;34m(\u001b[0m\u001b[0;34m\u001b[0m\n",
       "\u001b[0;34m\u001b[0m    \u001b[0mdata\u001b[0m\u001b[0;34m=\u001b[0m\u001b[0;32mNone\u001b[0m\u001b[0;34m,\u001b[0m\u001b[0;34m\u001b[0m\n",
       "\u001b[0;34m\u001b[0m    \u001b[0;34m*\u001b[0m\u001b[0;34m,\u001b[0m\u001b[0;34m\u001b[0m\n",
       "\u001b[0;34m\u001b[0m    \u001b[0mx\u001b[0m\u001b[0;34m=\u001b[0m\u001b[0;32mNone\u001b[0m\u001b[0;34m,\u001b[0m\u001b[0;34m\u001b[0m\n",
       "\u001b[0;34m\u001b[0m    \u001b[0my\u001b[0m\u001b[0;34m=\u001b[0m\u001b[0;32mNone\u001b[0m\u001b[0;34m,\u001b[0m\u001b[0;34m\u001b[0m\n",
       "\u001b[0;34m\u001b[0m    \u001b[0mhue\u001b[0m\u001b[0;34m=\u001b[0m\u001b[0;32mNone\u001b[0m\u001b[0;34m,\u001b[0m\u001b[0;34m\u001b[0m\n",
       "\u001b[0;34m\u001b[0m    \u001b[0morder\u001b[0m\u001b[0;34m=\u001b[0m\u001b[0;32mNone\u001b[0m\u001b[0;34m,\u001b[0m\u001b[0;34m\u001b[0m\n",
       "\u001b[0;34m\u001b[0m    \u001b[0mhue_order\u001b[0m\u001b[0;34m=\u001b[0m\u001b[0;32mNone\u001b[0m\u001b[0;34m,\u001b[0m\u001b[0;34m\u001b[0m\n",
       "\u001b[0;34m\u001b[0m    \u001b[0morient\u001b[0m\u001b[0;34m=\u001b[0m\u001b[0;32mNone\u001b[0m\u001b[0;34m,\u001b[0m\u001b[0;34m\u001b[0m\n",
       "\u001b[0;34m\u001b[0m    \u001b[0mcolor\u001b[0m\u001b[0;34m=\u001b[0m\u001b[0;32mNone\u001b[0m\u001b[0;34m,\u001b[0m\u001b[0;34m\u001b[0m\n",
       "\u001b[0;34m\u001b[0m    \u001b[0mpalette\u001b[0m\u001b[0;34m=\u001b[0m\u001b[0;32mNone\u001b[0m\u001b[0;34m,\u001b[0m\u001b[0;34m\u001b[0m\n",
       "\u001b[0;34m\u001b[0m    \u001b[0msaturation\u001b[0m\u001b[0;34m=\u001b[0m\u001b[0;36m0.75\u001b[0m\u001b[0;34m,\u001b[0m\u001b[0;34m\u001b[0m\n",
       "\u001b[0;34m\u001b[0m    \u001b[0mwidth\u001b[0m\u001b[0;34m=\u001b[0m\u001b[0;36m0.8\u001b[0m\u001b[0;34m,\u001b[0m\u001b[0;34m\u001b[0m\n",
       "\u001b[0;34m\u001b[0m    \u001b[0mdodge\u001b[0m\u001b[0;34m=\u001b[0m\u001b[0;32mTrue\u001b[0m\u001b[0;34m,\u001b[0m\u001b[0;34m\u001b[0m\n",
       "\u001b[0;34m\u001b[0m    \u001b[0mfliersize\u001b[0m\u001b[0;34m=\u001b[0m\u001b[0;36m5\u001b[0m\u001b[0;34m,\u001b[0m\u001b[0;34m\u001b[0m\n",
       "\u001b[0;34m\u001b[0m    \u001b[0mlinewidth\u001b[0m\u001b[0;34m=\u001b[0m\u001b[0;32mNone\u001b[0m\u001b[0;34m,\u001b[0m\u001b[0;34m\u001b[0m\n",
       "\u001b[0;34m\u001b[0m    \u001b[0mwhis\u001b[0m\u001b[0;34m=\u001b[0m\u001b[0;36m1.5\u001b[0m\u001b[0;34m,\u001b[0m\u001b[0;34m\u001b[0m\n",
       "\u001b[0;34m\u001b[0m    \u001b[0max\u001b[0m\u001b[0;34m=\u001b[0m\u001b[0;32mNone\u001b[0m\u001b[0;34m,\u001b[0m\u001b[0;34m\u001b[0m\n",
       "\u001b[0;34m\u001b[0m    \u001b[0;34m**\u001b[0m\u001b[0mkwargs\u001b[0m\u001b[0;34m,\u001b[0m\u001b[0;34m\u001b[0m\n",
       "\u001b[0;34m\u001b[0m\u001b[0;34m)\u001b[0m\u001b[0;34m\u001b[0m\u001b[0;34m\u001b[0m\u001b[0m\n",
       "\u001b[0;31mDocstring:\u001b[0m\n",
       "Draw a box plot to show distributions with respect to categories.\n",
       "\n",
       "A box plot (or box-and-whisker plot) shows the distribution of quantitative\n",
       "data in a way that facilitates comparisons between variables or across\n",
       "levels of a categorical variable. The box shows the quartiles of the\n",
       "dataset while the whiskers extend to show the rest of the distribution,\n",
       "except for points that are determined to be \"outliers\" using a method\n",
       "that is a function of the inter-quartile range.\n",
       "\n",
       ".. note::\n",
       "    This function always treats one of the variables as categorical and\n",
       "    draws data at ordinal positions (0, 1, ... n) on the relevant axis,\n",
       "    even when the data has a numeric or date type.\n",
       "\n",
       "See the :ref:`tutorial <categorical_tutorial>` for more information.    \n",
       "\n",
       "Parameters\n",
       "----------\n",
       "data : DataFrame, array, or list of arrays, optional\n",
       "    Dataset for plotting. If ``x`` and ``y`` are absent, this is\n",
       "    interpreted as wide-form. Otherwise it is expected to be long-form.    \n",
       "x, y, hue : names of variables in ``data`` or vector data, optional\n",
       "    Inputs for plotting long-form data. See examples for interpretation.    \n",
       "order, hue_order : lists of strings, optional\n",
       "    Order to plot the categorical levels in; otherwise the levels are\n",
       "    inferred from the data objects.    \n",
       "orient : \"v\" | \"h\", optional\n",
       "    Orientation of the plot (vertical or horizontal). This is usually\n",
       "    inferred based on the type of the input variables, but it can be used\n",
       "    to resolve ambiguity when both `x` and `y` are numeric or when\n",
       "    plotting wide-form data.    \n",
       "color : matplotlib color, optional\n",
       "    Single color for the elements in the plot.    \n",
       "palette : palette name, list, or dict\n",
       "    Colors to use for the different levels of the ``hue`` variable. Should\n",
       "    be something that can be interpreted by :func:`color_palette`, or a\n",
       "    dictionary mapping hue levels to matplotlib colors.    \n",
       "saturation : float, optional\n",
       "    Proportion of the original saturation to draw colors at. Large patches\n",
       "    often look better with slightly desaturated colors, but set this to\n",
       "    `1` if you want the plot colors to perfectly match the input color.    \n",
       "width : float, optional\n",
       "    Width of a full element when not using hue nesting, or width of all the\n",
       "    elements for one level of the major grouping variable.    \n",
       "dodge : bool, optional\n",
       "    When hue nesting is used, whether elements should be shifted along the\n",
       "    categorical axis.    \n",
       "fliersize : float, optional\n",
       "    Size of the markers used to indicate outlier observations.\n",
       "linewidth : float, optional\n",
       "    Width of the gray lines that frame the plot elements.    \n",
       "whis : float, optional\n",
       "    Maximum length of the plot whiskers as proportion of the\n",
       "    interquartile range. Whiskers extend to the furthest datapoint\n",
       "    within that range. More extreme points are marked as outliers.\n",
       "ax : matplotlib Axes, optional\n",
       "    Axes object to draw the plot onto, otherwise uses the current Axes.    \n",
       "kwargs : key, value mappings\n",
       "    Other keyword arguments are passed through to\n",
       "    :meth:`matplotlib.axes.Axes.boxplot`.\n",
       "\n",
       "Returns\n",
       "-------\n",
       "ax : matplotlib Axes\n",
       "    Returns the Axes object with the plot drawn onto it.    \n",
       "\n",
       "See Also\n",
       "--------\n",
       "violinplot : A combination of boxplot and kernel density estimation.    \n",
       "stripplot : A scatterplot where one variable is categorical. Can be used\n",
       "            in conjunction with other plots to show each observation.    \n",
       "swarmplot : A categorical scatterplot where the points do not overlap. Can\n",
       "            be used with other plots to show each observation.    \n",
       "catplot : Combine a categorical plot with a :class:`FacetGrid`.    \n",
       "\n",
       "Examples\n",
       "--------\n",
       "\n",
       ".. include:: ../docstrings/boxplot.rst\n",
       "\u001b[0;31mFile:\u001b[0m      ~/anaconda3/envs/itm_analysis_reporting/lib/python3.7/site-packages/seaborn/categorical.py\n",
       "\u001b[0;31mType:\u001b[0m      function\n"
      ]
     },
     "metadata": {},
     "output_type": "display_data"
    }
   ],
   "source": [
    "\n",
    "sns.boxplot?"
   ]
  },
  {
   "cell_type": "code",
   "execution_count": 52,
   "id": "3704170a-50fd-4893-88ee-3d9fb4939c8e",
   "metadata": {},
   "outputs": [
    {
     "ename": "TypeError",
     "evalue": "numpy boolean subtract, the `-` operator, is not supported, use the bitwise_xor, the `^` operator, or the logical_xor function instead.",
     "output_type": "error",
     "traceback": [
      "\u001b[0;31m---------------------------------------------------------------------------\u001b[0m",
      "\u001b[0;31mTypeError\u001b[0m                                 Traceback (most recent call last)",
      "\u001b[0;32m/tmp/ipykernel_2852/2106733288.py\u001b[0m in \u001b[0;36m<module>\u001b[0;34m\u001b[0m\n\u001b[1;32m     15\u001b[0m     \u001b[0my\u001b[0m\u001b[0;34m=\u001b[0m\u001b[0;34m'has_patient_in_agony'\u001b[0m\u001b[0;34m,\u001b[0m\u001b[0;34m\u001b[0m\u001b[0;34m\u001b[0m\u001b[0m\n\u001b[1;32m     16\u001b[0m     \u001b[0mshowmeans\u001b[0m\u001b[0;34m=\u001b[0m\u001b[0;32mTrue\u001b[0m\u001b[0;34m,\u001b[0m\u001b[0;34m\u001b[0m\u001b[0;34m\u001b[0m\u001b[0m\n\u001b[0;32m---> 17\u001b[0;31m     \u001b[0mdata\u001b[0m\u001b[0;34m=\u001b[0m\u001b[0mdistance_delta_df\u001b[0m\u001b[0;34m\u001b[0m\u001b[0;34m\u001b[0m\u001b[0m\n\u001b[0m\u001b[1;32m     18\u001b[0m )\n\u001b[1;32m     19\u001b[0m \u001b[0;34m\u001b[0m\u001b[0m\n",
      "\u001b[0;32m~/anaconda3/envs/itm_analysis_reporting/lib/python3.7/site-packages/seaborn/categorical.py\u001b[0m in \u001b[0;36mboxplot\u001b[0;34m(data, x, y, hue, order, hue_order, orient, color, palette, saturation, width, dodge, fliersize, linewidth, whis, ax, **kwargs)\u001b[0m\n\u001b[1;32m   2237\u001b[0m     \u001b[0mkwargs\u001b[0m\u001b[0;34m.\u001b[0m\u001b[0mupdate\u001b[0m\u001b[0;34m(\u001b[0m\u001b[0mdict\u001b[0m\u001b[0;34m(\u001b[0m\u001b[0mwhis\u001b[0m\u001b[0;34m=\u001b[0m\u001b[0mwhis\u001b[0m\u001b[0;34m)\u001b[0m\u001b[0;34m)\u001b[0m\u001b[0;34m\u001b[0m\u001b[0;34m\u001b[0m\u001b[0m\n\u001b[1;32m   2238\u001b[0m \u001b[0;34m\u001b[0m\u001b[0m\n\u001b[0;32m-> 2239\u001b[0;31m     \u001b[0mplotter\u001b[0m\u001b[0;34m.\u001b[0m\u001b[0mplot\u001b[0m\u001b[0;34m(\u001b[0m\u001b[0max\u001b[0m\u001b[0;34m,\u001b[0m \u001b[0mkwargs\u001b[0m\u001b[0;34m)\u001b[0m\u001b[0;34m\u001b[0m\u001b[0;34m\u001b[0m\u001b[0m\n\u001b[0m\u001b[1;32m   2240\u001b[0m     \u001b[0;32mreturn\u001b[0m \u001b[0max\u001b[0m\u001b[0;34m\u001b[0m\u001b[0;34m\u001b[0m\u001b[0m\n\u001b[1;32m   2241\u001b[0m \u001b[0;34m\u001b[0m\u001b[0m\n",
      "\u001b[0;32m~/anaconda3/envs/itm_analysis_reporting/lib/python3.7/site-packages/seaborn/categorical.py\u001b[0m in \u001b[0;36mplot\u001b[0;34m(self, ax, boxplot_kws)\u001b[0m\n\u001b[1;32m    886\u001b[0m     \u001b[0;32mdef\u001b[0m \u001b[0mplot\u001b[0m\u001b[0;34m(\u001b[0m\u001b[0mself\u001b[0m\u001b[0;34m,\u001b[0m \u001b[0max\u001b[0m\u001b[0;34m,\u001b[0m \u001b[0mboxplot_kws\u001b[0m\u001b[0;34m)\u001b[0m\u001b[0;34m:\u001b[0m\u001b[0;34m\u001b[0m\u001b[0;34m\u001b[0m\u001b[0m\n\u001b[1;32m    887\u001b[0m         \u001b[0;34m\"\"\"Make the plot.\"\"\"\u001b[0m\u001b[0;34m\u001b[0m\u001b[0;34m\u001b[0m\u001b[0m\n\u001b[0;32m--> 888\u001b[0;31m         \u001b[0mself\u001b[0m\u001b[0;34m.\u001b[0m\u001b[0mdraw_boxplot\u001b[0m\u001b[0;34m(\u001b[0m\u001b[0max\u001b[0m\u001b[0;34m,\u001b[0m \u001b[0mboxplot_kws\u001b[0m\u001b[0;34m)\u001b[0m\u001b[0;34m\u001b[0m\u001b[0;34m\u001b[0m\u001b[0m\n\u001b[0m\u001b[1;32m    889\u001b[0m         \u001b[0mself\u001b[0m\u001b[0;34m.\u001b[0m\u001b[0mannotate_axes\u001b[0m\u001b[0;34m(\u001b[0m\u001b[0max\u001b[0m\u001b[0;34m)\u001b[0m\u001b[0;34m\u001b[0m\u001b[0;34m\u001b[0m\u001b[0m\n\u001b[1;32m    890\u001b[0m         \u001b[0;32mif\u001b[0m \u001b[0mself\u001b[0m\u001b[0;34m.\u001b[0m\u001b[0morient\u001b[0m \u001b[0;34m==\u001b[0m \u001b[0;34m\"h\"\u001b[0m\u001b[0;34m:\u001b[0m\u001b[0;34m\u001b[0m\u001b[0;34m\u001b[0m\u001b[0m\n",
      "\u001b[0;32m~/anaconda3/envs/itm_analysis_reporting/lib/python3.7/site-packages/seaborn/categorical.py\u001b[0m in \u001b[0;36mdraw_boxplot\u001b[0;34m(self, ax, kws)\u001b[0m\n\u001b[1;32m    823\u001b[0m                                          \u001b[0mpositions\u001b[0m\u001b[0;34m=\u001b[0m\u001b[0;34m[\u001b[0m\u001b[0mi\u001b[0m\u001b[0;34m]\u001b[0m\u001b[0;34m,\u001b[0m\u001b[0;34m\u001b[0m\u001b[0;34m\u001b[0m\u001b[0m\n\u001b[1;32m    824\u001b[0m                                          \u001b[0mwidths\u001b[0m\u001b[0;34m=\u001b[0m\u001b[0mself\u001b[0m\u001b[0;34m.\u001b[0m\u001b[0mwidth\u001b[0m\u001b[0;34m,\u001b[0m\u001b[0;34m\u001b[0m\u001b[0;34m\u001b[0m\u001b[0m\n\u001b[0;32m--> 825\u001b[0;31m                                          **kws)\n\u001b[0m\u001b[1;32m    826\u001b[0m                 \u001b[0mcolor\u001b[0m \u001b[0;34m=\u001b[0m \u001b[0mself\u001b[0m\u001b[0;34m.\u001b[0m\u001b[0mcolors\u001b[0m\u001b[0;34m[\u001b[0m\u001b[0mi\u001b[0m\u001b[0;34m]\u001b[0m\u001b[0;34m\u001b[0m\u001b[0;34m\u001b[0m\u001b[0m\n\u001b[1;32m    827\u001b[0m                 \u001b[0mself\u001b[0m\u001b[0;34m.\u001b[0m\u001b[0mrestyle_boxplot\u001b[0m\u001b[0;34m(\u001b[0m\u001b[0martist_dict\u001b[0m\u001b[0;34m,\u001b[0m \u001b[0mcolor\u001b[0m\u001b[0;34m,\u001b[0m \u001b[0mprops\u001b[0m\u001b[0;34m)\u001b[0m\u001b[0;34m\u001b[0m\u001b[0;34m\u001b[0m\u001b[0m\n",
      "\u001b[0;32m~/anaconda3/envs/itm_analysis_reporting/lib/python3.7/site-packages/matplotlib/__init__.py\u001b[0m in \u001b[0;36minner\u001b[0;34m(ax, data, *args, **kwargs)\u001b[0m\n\u001b[1;32m   1412\u001b[0m     \u001b[0;32mdef\u001b[0m \u001b[0minner\u001b[0m\u001b[0;34m(\u001b[0m\u001b[0max\u001b[0m\u001b[0;34m,\u001b[0m \u001b[0;34m*\u001b[0m\u001b[0margs\u001b[0m\u001b[0;34m,\u001b[0m \u001b[0mdata\u001b[0m\u001b[0;34m=\u001b[0m\u001b[0;32mNone\u001b[0m\u001b[0;34m,\u001b[0m \u001b[0;34m**\u001b[0m\u001b[0mkwargs\u001b[0m\u001b[0;34m)\u001b[0m\u001b[0;34m:\u001b[0m\u001b[0;34m\u001b[0m\u001b[0;34m\u001b[0m\u001b[0m\n\u001b[1;32m   1413\u001b[0m         \u001b[0;32mif\u001b[0m \u001b[0mdata\u001b[0m \u001b[0;32mis\u001b[0m \u001b[0;32mNone\u001b[0m\u001b[0;34m:\u001b[0m\u001b[0;34m\u001b[0m\u001b[0;34m\u001b[0m\u001b[0m\n\u001b[0;32m-> 1414\u001b[0;31m             \u001b[0;32mreturn\u001b[0m \u001b[0mfunc\u001b[0m\u001b[0;34m(\u001b[0m\u001b[0max\u001b[0m\u001b[0;34m,\u001b[0m \u001b[0;34m*\u001b[0m\u001b[0mmap\u001b[0m\u001b[0;34m(\u001b[0m\u001b[0msanitize_sequence\u001b[0m\u001b[0;34m,\u001b[0m \u001b[0margs\u001b[0m\u001b[0;34m)\u001b[0m\u001b[0;34m,\u001b[0m \u001b[0;34m**\u001b[0m\u001b[0mkwargs\u001b[0m\u001b[0;34m)\u001b[0m\u001b[0;34m\u001b[0m\u001b[0;34m\u001b[0m\u001b[0m\n\u001b[0m\u001b[1;32m   1415\u001b[0m \u001b[0;34m\u001b[0m\u001b[0m\n\u001b[1;32m   1416\u001b[0m         \u001b[0mbound\u001b[0m \u001b[0;34m=\u001b[0m \u001b[0mnew_sig\u001b[0m\u001b[0;34m.\u001b[0m\u001b[0mbind\u001b[0m\u001b[0;34m(\u001b[0m\u001b[0max\u001b[0m\u001b[0;34m,\u001b[0m \u001b[0;34m*\u001b[0m\u001b[0margs\u001b[0m\u001b[0;34m,\u001b[0m \u001b[0;34m**\u001b[0m\u001b[0mkwargs\u001b[0m\u001b[0;34m)\u001b[0m\u001b[0;34m\u001b[0m\u001b[0;34m\u001b[0m\u001b[0m\n",
      "\u001b[0;32m~/anaconda3/envs/itm_analysis_reporting/lib/python3.7/site-packages/matplotlib/axes/_axes.py\u001b[0m in \u001b[0;36mboxplot\u001b[0;34m(self, x, notch, sym, vert, whis, positions, widths, patch_artist, bootstrap, usermedians, conf_intervals, meanline, showmeans, showcaps, showbox, showfliers, boxprops, labels, flierprops, medianprops, meanprops, capprops, whiskerprops, manage_ticks, autorange, zorder)\u001b[0m\n\u001b[1;32m   3709\u001b[0m \u001b[0;34m\u001b[0m\u001b[0m\n\u001b[1;32m   3710\u001b[0m         bxpstats = cbook.boxplot_stats(x, whis=whis, bootstrap=bootstrap,\n\u001b[0;32m-> 3711\u001b[0;31m                                        labels=labels, autorange=autorange)\n\u001b[0m\u001b[1;32m   3712\u001b[0m         \u001b[0;32mif\u001b[0m \u001b[0mnotch\u001b[0m \u001b[0;32mis\u001b[0m \u001b[0;32mNone\u001b[0m\u001b[0;34m:\u001b[0m\u001b[0;34m\u001b[0m\u001b[0;34m\u001b[0m\u001b[0m\n\u001b[1;32m   3713\u001b[0m             \u001b[0mnotch\u001b[0m \u001b[0;34m=\u001b[0m \u001b[0mrcParams\u001b[0m\u001b[0;34m[\u001b[0m\u001b[0;34m'boxplot.notch'\u001b[0m\u001b[0;34m]\u001b[0m\u001b[0;34m\u001b[0m\u001b[0;34m\u001b[0m\u001b[0m\n",
      "\u001b[0;32m~/anaconda3/envs/itm_analysis_reporting/lib/python3.7/site-packages/matplotlib/cbook/__init__.py\u001b[0m in \u001b[0;36mboxplot_stats\u001b[0;34m(X, whis, bootstrap, labels, autorange)\u001b[0m\n\u001b[1;32m   1196\u001b[0m \u001b[0;34m\u001b[0m\u001b[0m\n\u001b[1;32m   1197\u001b[0m         \u001b[0;31m# medians and quartiles\u001b[0m\u001b[0;34m\u001b[0m\u001b[0;34m\u001b[0m\u001b[0;34m\u001b[0m\u001b[0m\n\u001b[0;32m-> 1198\u001b[0;31m         \u001b[0mq1\u001b[0m\u001b[0;34m,\u001b[0m \u001b[0mmed\u001b[0m\u001b[0;34m,\u001b[0m \u001b[0mq3\u001b[0m \u001b[0;34m=\u001b[0m \u001b[0mnp\u001b[0m\u001b[0;34m.\u001b[0m\u001b[0mpercentile\u001b[0m\u001b[0;34m(\u001b[0m\u001b[0mx\u001b[0m\u001b[0;34m,\u001b[0m \u001b[0;34m[\u001b[0m\u001b[0;36m25\u001b[0m\u001b[0;34m,\u001b[0m \u001b[0;36m50\u001b[0m\u001b[0;34m,\u001b[0m \u001b[0;36m75\u001b[0m\u001b[0;34m]\u001b[0m\u001b[0;34m)\u001b[0m\u001b[0;34m\u001b[0m\u001b[0;34m\u001b[0m\u001b[0m\n\u001b[0m\u001b[1;32m   1199\u001b[0m \u001b[0;34m\u001b[0m\u001b[0m\n\u001b[1;32m   1200\u001b[0m         \u001b[0;31m# interquartile range\u001b[0m\u001b[0;34m\u001b[0m\u001b[0;34m\u001b[0m\u001b[0;34m\u001b[0m\u001b[0m\n",
      "\u001b[0;32m<__array_function__ internals>\u001b[0m in \u001b[0;36mpercentile\u001b[0;34m(*args, **kwargs)\u001b[0m\n",
      "\u001b[0;32m~/anaconda3/envs/itm_analysis_reporting/lib/python3.7/site-packages/numpy/lib/function_base.py\u001b[0m in \u001b[0;36mpercentile\u001b[0;34m(a, q, axis, out, overwrite_input, interpolation, keepdims)\u001b[0m\n\u001b[1;32m   3866\u001b[0m         \u001b[0;32mraise\u001b[0m \u001b[0mValueError\u001b[0m\u001b[0;34m(\u001b[0m\u001b[0;34m\"Percentiles must be in the range [0, 100]\"\u001b[0m\u001b[0;34m)\u001b[0m\u001b[0;34m\u001b[0m\u001b[0;34m\u001b[0m\u001b[0m\n\u001b[1;32m   3867\u001b[0m     return _quantile_unchecked(\n\u001b[0;32m-> 3868\u001b[0;31m         a, q, axis, out, overwrite_input, interpolation, keepdims)\n\u001b[0m\u001b[1;32m   3869\u001b[0m \u001b[0;34m\u001b[0m\u001b[0m\n\u001b[1;32m   3870\u001b[0m \u001b[0;34m\u001b[0m\u001b[0m\n",
      "\u001b[0;32m~/anaconda3/envs/itm_analysis_reporting/lib/python3.7/site-packages/numpy/lib/function_base.py\u001b[0m in \u001b[0;36m_quantile_unchecked\u001b[0;34m(a, q, axis, out, overwrite_input, interpolation, keepdims)\u001b[0m\n\u001b[1;32m   3986\u001b[0m     r, k = _ureduce(a, func=_quantile_ureduce_func, q=q, axis=axis, out=out,\n\u001b[1;32m   3987\u001b[0m                     \u001b[0moverwrite_input\u001b[0m\u001b[0;34m=\u001b[0m\u001b[0moverwrite_input\u001b[0m\u001b[0;34m,\u001b[0m\u001b[0;34m\u001b[0m\u001b[0;34m\u001b[0m\u001b[0m\n\u001b[0;32m-> 3988\u001b[0;31m                     interpolation=interpolation)\n\u001b[0m\u001b[1;32m   3989\u001b[0m     \u001b[0;32mif\u001b[0m \u001b[0mkeepdims\u001b[0m\u001b[0;34m:\u001b[0m\u001b[0;34m\u001b[0m\u001b[0;34m\u001b[0m\u001b[0m\n\u001b[1;32m   3990\u001b[0m         \u001b[0;32mreturn\u001b[0m \u001b[0mr\u001b[0m\u001b[0;34m.\u001b[0m\u001b[0mreshape\u001b[0m\u001b[0;34m(\u001b[0m\u001b[0mq\u001b[0m\u001b[0;34m.\u001b[0m\u001b[0mshape\u001b[0m \u001b[0;34m+\u001b[0m \u001b[0mk\u001b[0m\u001b[0;34m)\u001b[0m\u001b[0;34m\u001b[0m\u001b[0;34m\u001b[0m\u001b[0m\n",
      "\u001b[0;32m~/anaconda3/envs/itm_analysis_reporting/lib/python3.7/site-packages/numpy/lib/function_base.py\u001b[0m in \u001b[0;36m_ureduce\u001b[0;34m(a, func, **kwargs)\u001b[0m\n\u001b[1;32m   3562\u001b[0m         \u001b[0mkeepdim\u001b[0m \u001b[0;34m=\u001b[0m \u001b[0;34m(\u001b[0m\u001b[0;36m1\u001b[0m\u001b[0;34m,\u001b[0m\u001b[0;34m)\u001b[0m \u001b[0;34m*\u001b[0m \u001b[0ma\u001b[0m\u001b[0;34m.\u001b[0m\u001b[0mndim\u001b[0m\u001b[0;34m\u001b[0m\u001b[0;34m\u001b[0m\u001b[0m\n\u001b[1;32m   3563\u001b[0m \u001b[0;34m\u001b[0m\u001b[0m\n\u001b[0;32m-> 3564\u001b[0;31m     \u001b[0mr\u001b[0m \u001b[0;34m=\u001b[0m \u001b[0mfunc\u001b[0m\u001b[0;34m(\u001b[0m\u001b[0ma\u001b[0m\u001b[0;34m,\u001b[0m \u001b[0;34m**\u001b[0m\u001b[0mkwargs\u001b[0m\u001b[0;34m)\u001b[0m\u001b[0;34m\u001b[0m\u001b[0;34m\u001b[0m\u001b[0m\n\u001b[0m\u001b[1;32m   3565\u001b[0m     \u001b[0;32mreturn\u001b[0m \u001b[0mr\u001b[0m\u001b[0;34m,\u001b[0m \u001b[0mkeepdim\u001b[0m\u001b[0;34m\u001b[0m\u001b[0;34m\u001b[0m\u001b[0m\n\u001b[1;32m   3566\u001b[0m \u001b[0;34m\u001b[0m\u001b[0m\n",
      "\u001b[0;32m~/anaconda3/envs/itm_analysis_reporting/lib/python3.7/site-packages/numpy/lib/function_base.py\u001b[0m in \u001b[0;36m_quantile_ureduce_func\u001b[0;34m(***failed resolving arguments***)\u001b[0m\n\u001b[1;32m   4110\u001b[0m         \u001b[0mx_above\u001b[0m \u001b[0;34m=\u001b[0m \u001b[0mtake\u001b[0m\u001b[0;34m(\u001b[0m\u001b[0map\u001b[0m\u001b[0;34m,\u001b[0m \u001b[0mindices_above\u001b[0m\u001b[0;34m,\u001b[0m \u001b[0maxis\u001b[0m\u001b[0;34m=\u001b[0m\u001b[0;36m0\u001b[0m\u001b[0;34m)\u001b[0m\u001b[0;34m\u001b[0m\u001b[0;34m\u001b[0m\u001b[0m\n\u001b[1;32m   4111\u001b[0m \u001b[0;34m\u001b[0m\u001b[0m\n\u001b[0;32m-> 4112\u001b[0;31m         \u001b[0mr\u001b[0m \u001b[0;34m=\u001b[0m \u001b[0m_lerp\u001b[0m\u001b[0;34m(\u001b[0m\u001b[0mx_below\u001b[0m\u001b[0;34m,\u001b[0m \u001b[0mx_above\u001b[0m\u001b[0;34m,\u001b[0m \u001b[0mweights_above\u001b[0m\u001b[0;34m,\u001b[0m \u001b[0mout\u001b[0m\u001b[0;34m=\u001b[0m\u001b[0mout\u001b[0m\u001b[0;34m)\u001b[0m\u001b[0;34m\u001b[0m\u001b[0;34m\u001b[0m\u001b[0m\n\u001b[0m\u001b[1;32m   4113\u001b[0m \u001b[0;34m\u001b[0m\u001b[0m\n\u001b[1;32m   4114\u001b[0m     \u001b[0;31m# if any slice contained a nan, then all results on that slice are also nan\u001b[0m\u001b[0;34m\u001b[0m\u001b[0;34m\u001b[0m\u001b[0;34m\u001b[0m\u001b[0m\n",
      "\u001b[0;32m~/anaconda3/envs/itm_analysis_reporting/lib/python3.7/site-packages/numpy/lib/function_base.py\u001b[0m in \u001b[0;36m_lerp\u001b[0;34m(a, b, t, out)\u001b[0m\n\u001b[1;32m   4007\u001b[0m \u001b[0;32mdef\u001b[0m \u001b[0m_lerp\u001b[0m\u001b[0;34m(\u001b[0m\u001b[0ma\u001b[0m\u001b[0;34m,\u001b[0m \u001b[0mb\u001b[0m\u001b[0;34m,\u001b[0m \u001b[0mt\u001b[0m\u001b[0;34m,\u001b[0m \u001b[0mout\u001b[0m\u001b[0;34m=\u001b[0m\u001b[0;32mNone\u001b[0m\u001b[0;34m)\u001b[0m\u001b[0;34m:\u001b[0m\u001b[0;34m\u001b[0m\u001b[0;34m\u001b[0m\u001b[0m\n\u001b[1;32m   4008\u001b[0m     \u001b[0;34m\"\"\" Linearly interpolate from a to b by a factor of t \"\"\"\u001b[0m\u001b[0;34m\u001b[0m\u001b[0;34m\u001b[0m\u001b[0m\n\u001b[0;32m-> 4009\u001b[0;31m     \u001b[0mdiff_b_a\u001b[0m \u001b[0;34m=\u001b[0m \u001b[0msubtract\u001b[0m\u001b[0;34m(\u001b[0m\u001b[0mb\u001b[0m\u001b[0;34m,\u001b[0m \u001b[0ma\u001b[0m\u001b[0;34m)\u001b[0m\u001b[0;34m\u001b[0m\u001b[0;34m\u001b[0m\u001b[0m\n\u001b[0m\u001b[1;32m   4010\u001b[0m     \u001b[0;31m# asanyarray is a stop-gap until gh-13105\u001b[0m\u001b[0;34m\u001b[0m\u001b[0;34m\u001b[0m\u001b[0;34m\u001b[0m\u001b[0m\n\u001b[1;32m   4011\u001b[0m     \u001b[0mlerp_interpolation\u001b[0m \u001b[0;34m=\u001b[0m \u001b[0masanyarray\u001b[0m\u001b[0;34m(\u001b[0m\u001b[0madd\u001b[0m\u001b[0;34m(\u001b[0m\u001b[0ma\u001b[0m\u001b[0;34m,\u001b[0m \u001b[0mdiff_b_a\u001b[0m\u001b[0;34m*\u001b[0m\u001b[0mt\u001b[0m\u001b[0;34m,\u001b[0m \u001b[0mout\u001b[0m\u001b[0;34m=\u001b[0m\u001b[0mout\u001b[0m\u001b[0;34m)\u001b[0m\u001b[0;34m)\u001b[0m\u001b[0;34m\u001b[0m\u001b[0;34m\u001b[0m\u001b[0m\n",
      "\u001b[0;31mTypeError\u001b[0m: numpy boolean subtract, the `-` operator, is not supported, use the bitwise_xor, the `^` operator, or the logical_xor function instead."
     ]
    },
    {
     "data": {
      "image/png": "[encoded data removed]",
      "text/plain": [
       "<Figure size 900x900 with 1 Axes>"
      ]
     },
     "metadata": {},
     "output_type": "display_data"
    }
   ],
   "source": [
    "\n",
    "%matplotlib inline\n",
    "import matplotlib.pyplot as plt\n",
    "\n",
    "# fu.plot_grouped_box_and_whiskers(\n",
    "#     distance_delta_df, 'adherence_to_salt', 'has_patient_in_agony', 'Adherence to SALT protocol', 'Scene has a Patient in Agony', transformer_name=None, is_y_temporal=False\n",
    "# )\n",
    "import seaborn as sns\n",
    "\n",
    "# Create a figure and subplots\n",
    "fig, ax = plt.subplots(1, 1, figsize=(9, 9))\n",
    "\n",
    "# Create a box plot of the y column grouped by the x column\n",
    "sns.boxplot(\n",
    "    x='adherence_to_salt',\n",
    "    y='has_patient_in_agony',\n",
    "    showmeans=True,\n",
    "    data=distance_delta_df,\n",
    "    ax=ax\n",
    ")\n",
    "\n",
    "# Rotate the x-axis labels to prevent overlapping\n",
    "plt.xticks(rotation=45)\n",
    "\n",
    "# Label the x- and y-axis\n",
    "ax.set_xlabel('Adherence to SALT protocol')\n",
    "ax.set_ylabel('Scene has a Patient in Agony')\n",
    "\n",
    "plt.show()"
   ]
  },
  {
   "cell_type": "code",
   "execution_count": null,
   "id": "db211602-5426-4edc-a301-98e7a4cb6065",
   "metadata": {},
   "outputs": [],
   "source": []
  }
 ],
 "metadata": {
  "kernelspec": {
   "display_name": "ITM Analysis Reporting (Python 3.11.5)",
   "language": "python",
   "name": "itm_analysis_reporting"
  },
  "language_info": {
   "codemirror_mode": {
    "name": "ipython",
    "version": 3
   },
   "file_extension": ".py",
   "mimetype": "text/x-python",
   "name": "python",
   "nbconvert_exporter": "python",
   "pygments_lexer": "ipython3",
   "version": "3.7.12"
  }
 },
 "nbformat": 4,
 "nbformat_minor": 5
}

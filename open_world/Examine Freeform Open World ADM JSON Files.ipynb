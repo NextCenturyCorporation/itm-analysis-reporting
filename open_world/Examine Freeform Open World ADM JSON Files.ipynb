{
 "cells": [
  {
   "cell_type": "code",
   "execution_count": 4,
   "id": "a9c02c23-086a-4f11-bf43-c97bed8c5c6c",
   "metadata": {
    "tags": []
   },
   "outputs": [
    {
     "name": "stdout",
     "output_type": "stream",
     "text": [
      "Pretty printing has been turned OFF\n"
     ]
    }
   ],
   "source": [
    "\n",
    "# Set up notebook\n",
    "%pprint\n",
    "import sys\n",
    "if ('../py' not in sys.path): sys.path.insert(1, '../py')\n",
    "from FRVRS import nu, fu\n",
    "nu.delete_ipynb_checkpoint_folders()"
   ]
  },
  {
   "cell_type": "code",
   "execution_count": 8,
   "id": "83408966-e973-45cd-8342-795dfaf99156",
   "metadata": {},
   "outputs": [],
   "source": [
    "\n",
    "# Iterate over the files in the JSON subdirectory\n",
    "import os\n",
    "import os.path as osp\n",
    "from pandas import DataFrame, Index, concat\n",
    "\n",
    "folder_path = '../data/logs/freeform_open_world_ADM'\n",
    "file_stats_df = DataFrame()\n",
    "for file_name in os.listdir(folder_path):\n",
    "    \n",
    "    # If the file is a JSON file\n",
    "    if file_name.endswith('.json'):\n",
    "\n",
    "        # Create a data frame from the flattened dictionary\n",
    "        json_path = osp.join(folder_path, file_name)\n",
    "        with open(json_path, 'r') as f: file_json = json.load(f)\n",
    "        row_dict = {\n",
    "            'sub_directory': folder_path.split('/')[-1],\n",
    "            'json_file_name': file_name\n",
    "        }\n",
    "        flattened_json_dict = nu.get_row_dictionary(file_json, row_dict=row_dict, key_prefix='')\n",
    "        df = DataFrame(flattened_json_dict, index=Index([0]))\n",
    "        \n",
    "        # Append the data frame for the current file to the main data frame\n",
    "        file_stats_df = concat([file_stats_df, df], axis='index')"
   ]
  },
  {
   "cell_type": "code",
   "execution_count": null,
   "id": "b06ecdef-e70e-46ed-838b-5401a6d3d828",
   "metadata": {},
   "outputs": [],
   "source": []
  }
 ],
 "metadata": {
  "kernelspec": {
   "display_name": "ITM Analysis Reporting (Python 3.11.7)",
   "language": "python",
   "name": "itm_analysis_reporting"
  },
  "language_info": {
   "codemirror_mode": {
    "name": "ipython",
    "version": 3
   },
   "file_extension": ".py",
   "mimetype": "text/x-python",
   "name": "python",
   "nbconvert_exporter": "python",
   "pygments_lexer": "ipython3",
   "version": "3.7.12"
  }
 },
 "nbformat": 4,
 "nbformat_minor": 5
}

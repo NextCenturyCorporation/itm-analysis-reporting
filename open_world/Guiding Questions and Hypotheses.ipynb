{
 "cells": [
  {
   "cell_type": "code",
   "execution_count": 1,
   "id": "36915acd-9e8b-45c3-a5dd-ff6f93ffdd5f",
   "metadata": {},
   "outputs": [
    {
     "name": "stdout",
     "output_type": "stream",
     "text": [
      "Pretty printing has been turned OFF\n"
     ]
    }
   ],
   "source": [
    "\n",
    "# Set up notebook\n",
    "%pprint\n",
    "import sys\n",
    "if ('../py' not in sys.path): sys.path.insert(1, '../py')"
   ]
  },
  {
   "cell_type": "code",
   "execution_count": 2,
   "id": "02f6f83f-8747-47b6-818d-8b5341cd0913",
   "metadata": {},
   "outputs": [],
   "source": [
    "\n",
    "# load libraries\n",
    "from FRVRS import nu, fu\n",
    "from numpy import nan\n",
    "from pandas import DataFrame, read_csv, read_excel, concat, get_dummies, isna\n",
    "from re import split, search, sub\n",
    "from scipy.stats import f_oneway, ttest_ind, kruskal, norm\n",
    "import itertools\n",
    "import os.path as osp\n",
    "import statsmodels.api as sm"
   ]
  },
  {
   "cell_type": "markdown",
   "id": "8f6753a4-fb26-4341-ae2a-0a8020a87a02",
   "metadata": {},
   "source": [
    "\n",
    "According to the program, KDMA values help define or rather help influence behavior of a person in these triage situations\n",
    "The scenario data gives you information of what was the situation they were put in\n",
    "now the overall question is, how can we describe if the KMA values are influencing these behaviors?"
   ]
  },
  {
   "cell_type": "code",
   "execution_count": 5,
   "id": "1d0617de-01fb-480b-8fb9-292f0cbeb268",
   "metadata": {},
   "outputs": [
    {
     "name": "stdout",
     "output_type": "stream",
     "text": [
      "(199476, 124)\n",
      "(51, 2141)\n",
      "(68, 61)\n",
      "(199476, 62)\n"
     ]
    }
   ],
   "source": [
    "\n",
    "# load data frames\n",
    "data_frames_dict = nu.load_data_frames(\n",
    "    verbose=False, metrics_evaluation_open_world_csv_stats_df='', metrics_evaluation_open_world_json_stats_df='',\n",
    "    metrics_evaluation_open_world_scene_stats_df='', metrics_evaluation_open_world_anova_df=''\n",
    ")\n",
    "logs_df = data_frames_dict['metrics_evaluation_open_world_csv_stats_df']\n",
    "print(logs_df.shape) # (199476, 124)\n",
    "json_stats_df = data_frames_dict['metrics_evaluation_open_world_json_stats_df']\n",
    "print(json_stats_df.shape) # (51, 3709)\n",
    "scene_stats_df = data_frames_dict['metrics_evaluation_open_world_scene_stats_df']\n",
    "print(scene_stats_df.shape) # (68, 61)\n",
    "anova_df = data_frames_dict['metrics_evaluation_open_world_anova_df']\n",
    "print(anova_df.shape) # (199476, 63)"
   ]
  },
  {
   "cell_type": "code",
   "execution_count": 8,
   "id": "0990b665-7d57-4a6d-8538-92cddbf7dd4b",
   "metadata": {},
   "outputs": [],
   "source": [
    "\n",
    "# Could the feedback to stop searching be training the participant to be less maximizing?\n",
    "# columns_list = [cn for cn in logs_df.columns if any(map(lambda x: x in cn, ['message', 'command', 'text']))]\n",
    "mask_series = logs_df.button_command_message.isin(['modbutton yes', 'modbutton no']) | logs_df.voice_command_message.isin(['modbutton yes', 'modbutton no'])\n",
    "groupby_columns = ['participant_id', 'session_uuid', 'scene_id']\n",
    "for (participant_id, session_uuid, scene_id), scene_df in logs_df[mask_series].groupby(groupby_columns):\n",
    "    # df = scene_df.dropna(axis='columns', how='all')\n",
    "    mask_series = True\n",
    "    for cn in groupby_columns: mask_series &= (anova_df[cn] == eval(cn))\n",
    "    df = anova_df[mask_series].dropna(axis='columns', how='all')\n",
    "    # display(df.sample(min(4, df.shape[0])).T)\n",
    "    # print(df.mean_PropTrust.squeeze(), sorted(scene_df.action_tick.unique()))\n",
    "    break"
   ]
  },
  {
   "cell_type": "code",
   "execution_count": 6,
   "id": "d3e8a073-8c6f-4ac5-a6db-e091950bf229",
   "metadata": {},
   "outputs": [],
   "source": [
    "\n",
    "# Break up the metadata columns into their own columns\n",
    "import re\n",
    "\n",
    "metadata_columns = sorted([cn for cn in anova_df.columns if cn.endswith('_metadata')])\n",
    "for cn in metadata_columns:\n",
    "    str_prefix = re.split('_metadata', cn, 0)[0]\n",
    "    \n",
    "    # Split the pipe-delimited values into a DataFrame\n",
    "    split_df = anova_df[cn].str.split('|', expand=True)\n",
    "\n",
    "    # Change the column names to reflect the content\n",
    "    split_df.columns = [\n",
    "        f'{str_prefix}_patient_id', f'{str_prefix}_engagement_start', f'{str_prefix}_location_tuple', f'{str_prefix}_patient_sort',\n",
    "        f'{str_prefix}_predicted_priority', f'{str_prefix}_injury_severity'\n",
    "    ]\n",
    "    \n",
    "    # Add the split columns to the original DataFrame\n",
    "    anova_df = concat([anova_df, split_df], axis='columns')\n",
    "    \n",
    "    # Drop the original column\n",
    "    anova_df = anova_df.drop(columns=[cn, f'{str_prefix}_predicted_priority'])"
   ]
  },
  {
   "cell_type": "markdown",
   "id": "99e61b22-cbfa-4ee9-ab20-6db5f2f6c44a",
   "metadata": {},
   "source": [
    "\n",
    "Action tick at first engagement | location (x, y, z) at first engagement | SORT designation | estimated priority group score (not used) | severity of highest injury severity"
   ]
  },
  {
   "cell_type": "code",
   "execution_count": 9,
   "id": "bb3108b7-7761-4751-a6e4-c0171f0abb99",
   "metadata": {},
   "outputs": [
    {
     "name": "stdout",
     "output_type": "stream",
     "text": [
      "\n",
      "The numeric columns we want to take the mean of:\n",
      "['mean_AD_KDMA_Sim', 'mean_AD_KDMA_Text', 'mean_PropTrust', 'mean_ST_KDMA_Sim', 'mean_ST_KDMA_Text', 'mean_YrsMilExp', 'mean_actual_engagement_distance', 'mean_first_engagement', 'mean_first_treatment', 'mean_injury_correctly_treated_count', 'mean_injury_not_treated_count', 'mean_injury_treatments_count', 'mean_injury_wrongly_treated_count', 'mean_last_engagement', 'mean_last_still_engagement', 'mean_measure_of_right_ordering', 'mean_patient_count', 'mean_percent_hemorrhage_controlled', 'mean_pulse_taken_count', 'mean_stills_value', 'mean_teleport_count', 'mean_time_to_hemorrhage_control_per_patient', 'mean_time_to_last_hemorrhage_controlled', 'mean_total_actions_count', 'mean_triage_time', 'mean_voice_capture_count', 'mean_walk_command_count', 'mean_walk_value', 'mean_walkers_value', 'mean_wave_command_count', 'mean_wave_value']\n",
      "\n",
      "The other columns we want to one-hot encode:\n",
      "['encounter_layout', 'engaged_patient00_injury_severity', 'engaged_patient00_location_tuple', 'engaged_patient00_patient_id', 'engaged_patient00_patient_sort', 'engaged_patient01_injury_severity', 'engaged_patient01_patient_id', 'engaged_patient01_patient_sort', 'engaged_patient02_injury_severity', 'engaged_patient02_patient_id', 'engaged_patient02_patient_sort', 'engaged_patient03_injury_severity', 'engaged_patient03_location_tuple', 'engaged_patient03_patient_id', 'engaged_patient03_patient_sort', 'engaged_patient04_injury_severity', 'engaged_patient04_patient_id', 'engaged_patient04_patient_sort', 'engaged_patient05_injury_severity', 'engaged_patient05_patient_id', 'engaged_patient05_patient_sort', 'engaged_patient06_injury_severity', 'engaged_patient06_patient_id', 'engaged_patient06_patient_sort', 'engaged_patient07_injury_severity', 'engaged_patient07_patient_id', 'engaged_patient07_patient_sort', 'engaged_patient08_injury_severity', 'engaged_patient08_patient_id', 'engaged_patient08_patient_sort', 'engaged_patient09_injury_severity', 'engaged_patient09_location_tuple', 'engaged_patient09_patient_id', 'engaged_patient09_patient_sort', 'engaged_patient10_engagement_start', 'engaged_patient10_injury_severity', 'engaged_patient10_location_tuple', 'engaged_patient10_patient_id', 'engaged_patient10_patient_sort', 'engaged_patient11_engagement_start', 'engaged_patient11_injury_severity', 'engaged_patient11_location_tuple', 'engaged_patient11_patient_id', 'engaged_patient11_patient_sort', 'medical_role', 'unengaged_patient00_engagement_start', 'unengaged_patient00_injury_severity', 'unengaged_patient00_location_tuple', 'unengaged_patient00_patient_id', 'unengaged_patient00_patient_sort', 'unengaged_patient01_engagement_start', 'unengaged_patient01_injury_severity', 'unengaged_patient01_location_tuple', 'unengaged_patient01_patient_id', 'unengaged_patient01_patient_sort', 'unengaged_patient02_engagement_start', 'unengaged_patient02_injury_severity', 'unengaged_patient02_location_tuple', 'unengaged_patient02_patient_id', 'unengaged_patient02_patient_sort', 'unengaged_patient03_engagement_start', 'unengaged_patient03_injury_severity', 'unengaged_patient03_location_tuple', 'unengaged_patient03_patient_id', 'unengaged_patient03_patient_sort', 'unengaged_patient04_engagement_start', 'unengaged_patient04_injury_severity', 'unengaged_patient04_location_tuple', 'unengaged_patient04_patient_id', 'unengaged_patient04_patient_sort', 'unengaged_patient05_engagement_start', 'unengaged_patient05_injury_severity', 'unengaged_patient05_location_tuple', 'unengaged_patient05_patient_id', 'unengaged_patient05_patient_sort', 'unengaged_patient06_engagement_start', 'unengaged_patient06_injury_severity', 'unengaged_patient06_location_tuple', 'unengaged_patient06_patient_id', 'unengaged_patient06_patient_sort', 'unengaged_patient07_engagement_start', 'unengaged_patient07_injury_severity', 'unengaged_patient07_location_tuple', 'unengaged_patient07_patient_id', 'unengaged_patient07_patient_sort', 'unengaged_patient08_engagement_start', 'unengaged_patient08_injury_severity', 'unengaged_patient08_location_tuple', 'unengaged_patient08_patient_id', 'unengaged_patient08_patient_sort', 'unengaged_patient09_engagement_start', 'unengaged_patient09_injury_severity', 'unengaged_patient09_location_tuple', 'unengaged_patient09_patient_id', 'unengaged_patient09_patient_sort', 'unengaged_patient10_engagement_start', 'unengaged_patient10_injury_severity', 'unengaged_patient10_location_tuple', 'unengaged_patient10_patient_id', 'unengaged_patient10_patient_sort', 'unengaged_patient11_engagement_start', 'unengaged_patient11_injury_severity', 'unengaged_patient11_location_tuple', 'unengaged_patient11_patient_id', 'unengaged_patient11_patient_sort', 'unengaged_patient12_engagement_start', 'unengaged_patient12_injury_severity', 'unengaged_patient12_location_tuple', 'unengaged_patient12_patient_id', 'unengaged_patient12_patient_sort', 'unengaged_patient13_engagement_start', 'unengaged_patient13_injury_severity', 'unengaged_patient13_location_tuple', 'unengaged_patient13_patient_id', 'unengaged_patient13_patient_sort']\n"
     ]
    }
   ],
   "source": [
    "\n",
    "print(\"\\nThe numeric columns we want to take the mean of:\")\n",
    "injury_severity_columns = [cn for cn in anova_df.columns if cn.endswith('_injury_severity')]\n",
    "numeric_columns = sorted(\n",
    "    set(nu.get_numeric_columns(anova_df))\n",
    "    .difference(set(metadata_columns + groupby_columns + injury_severity_columns))\n",
    ")\n",
    "print(numeric_columns)\n",
    "\n",
    "print(\"\\nThe other columns we want to one-hot encode:\")\n",
    "other_columns = set()\n",
    "for cn in set(anova_df.columns).difference(set(numeric_columns + groupby_columns)):\n",
    "    if anova_df[cn].nunique() < 20:\n",
    "        other_columns.add(cn)\n",
    "other_columns = sorted(other_columns)\n",
    "print(other_columns)"
   ]
  },
  {
   "cell_type": "code",
   "execution_count": 10,
   "id": "e2184ea7-7e1d-45b0-88d5-78ab6e9c258d",
   "metadata": {},
   "outputs": [],
   "source": [
    "\n",
    "for cn in other_columns:\n",
    "    anova_df = nu.one_hot_encode(anova_df, [cn], dummy_na=False)"
   ]
  },
  {
   "cell_type": "code",
   "execution_count": 11,
   "id": "4e096f44-2451-450b-92c4-3819bba2c128",
   "metadata": {},
   "outputs": [
    {
     "name": "stdout",
     "output_type": "stream",
     "text": [
      "\n",
      "The numeric columns we want to use in modeling:\n",
      "['encounter_layout_Desert', 'encounter_layout_Jungle', 'encounter_layout_Submarine', 'encounter_layout_Urban', 'engaged_patient00_injury_severity_high', 'engaged_patient00_injury_severity_medium', 'engaged_patient00_injury_severity_nan', 'engaged_patient00_location_tuple_(-19.9, -10.0)', 'engaged_patient00_location_tuple_(-3.8, -0.5)', 'engaged_patient00_location_tuple_(-3.9, -0.5)', 'engaged_patient00_location_tuple_(-3.9, -0.6)', 'engaged_patient00_location_tuple_(0.0, 0.0)', 'engaged_patient00_location_tuple_(2.2, 1.9)', 'engaged_patient00_location_tuple_(2.2, 2.2)', 'engaged_patient00_location_tuple_(2.3, 1.9)', 'engaged_patient00_location_tuple_(2.7, 2.9)', 'engaged_patient00_location_tuple_(3.4, 2.4)', 'engaged_patient00_location_tuple_(4.2, -0.4)', 'engaged_patient00_location_tuple_(4.2, -0.5)', 'engaged_patient00_location_tuple_(4.6, 3.8)', 'engaged_patient00_location_tuple_(4.6, 3.9)', 'engaged_patient00_location_tuple_(4.7, 3.8)', 'engaged_patient00_location_tuple_(5.5, 0.3)', 'engaged_patient00_patient_id_Civilian 1 Root', 'engaged_patient00_patient_id_Local Soldier 1 Root', 'engaged_patient00_patient_id_NPC Root', 'engaged_patient00_patient_id_Open World Marine 2 Female Root', 'engaged_patient00_patient_id_Patient V Root', 'engaged_patient00_patient_id_Simulation Root', 'engaged_patient00_patient_id_US Soldier 1 Root', 'engaged_patient00_patient_id_patient U Root', 'engaged_patient00_patient_id_patient V Root', 'engaged_patient00_patient_sort_None', 'engaged_patient00_patient_sort_still', 'engaged_patient00_patient_sort_waver', 'engaged_patient01_injury_severity_high', 'engaged_patient01_injury_severity_low', 'engaged_patient01_injury_severity_medium', 'engaged_patient01_injury_severity_nan', 'engaged_patient01_patient_id_Civilian 1 Root', 'engaged_patient01_patient_id_Local Soldier 1 Root', 'engaged_patient01_patient_id_NPC Root', 'engaged_patient01_patient_id_Patient U Root', 'engaged_patient01_patient_id_Patient V Root', 'engaged_patient01_patient_id_Patient X Root', 'engaged_patient01_patient_id_Simulation Root', 'engaged_patient01_patient_id_US Soldier 1 Root', 'engaged_patient01_patient_id_patient U Root', 'engaged_patient01_patient_id_patient V Root', 'engaged_patient01_patient_sort_None', 'engaged_patient01_patient_sort_still', 'engaged_patient01_patient_sort_walker', 'engaged_patient01_patient_sort_waver', 'engaged_patient02_injury_severity_high', 'engaged_patient02_injury_severity_low', 'engaged_patient02_injury_severity_medium', 'engaged_patient02_injury_severity_nan', 'engaged_patient02_patient_id_Civilian 1 Root', 'engaged_patient02_patient_id_Local Soldier 1 Root', 'engaged_patient02_patient_id_NPC 2 Root', 'engaged_patient02_patient_id_Patient U Root', 'engaged_patient02_patient_id_Patient V Root', 'engaged_patient02_patient_id_Patient W Root', 'engaged_patient02_patient_id_Patient X Root', 'engaged_patient02_patient_id_Simulation Root', 'engaged_patient02_patient_id_US Soldier 1 Root', 'engaged_patient02_patient_id_patient V Root', 'engaged_patient02_patient_id_patient W Root', 'engaged_patient02_patient_id_patient X Root', 'engaged_patient02_patient_sort_None', 'engaged_patient02_patient_sort_still', 'engaged_patient02_patient_sort_walker', 'engaged_patient02_patient_sort_waver', 'engaged_patient03_injury_severity_high', 'engaged_patient03_injury_severity_low', 'engaged_patient03_injury_severity_medium', 'engaged_patient03_injury_severity_nan', 'engaged_patient03_location_tuple_(-1.1, -22.4)', 'engaged_patient03_location_tuple_(-1.2, -19.4)', 'engaged_patient03_location_tuple_(-1.2, -19.5)', 'engaged_patient03_location_tuple_(-13.4, 5.4)', 'engaged_patient03_location_tuple_(-13.4, 5.5)', 'engaged_patient03_location_tuple_(-13.6, 5.6)', 'engaged_patient03_location_tuple_(-17.7, 4.4)', 'engaged_patient03_location_tuple_(-18.0, 4.3)', 'engaged_patient03_location_tuple_(-4.3, -22.8)', 'engaged_patient03_location_tuple_(-4.5, -22.8)', 'engaged_patient03_location_tuple_(0.0, 0.0)', 'engaged_patient03_location_tuple_(0.5, -5.6)', 'engaged_patient03_location_tuple_(2.2, -24.9)', 'engaged_patient03_location_tuple_(3.1, -23.1)', 'engaged_patient03_location_tuple_(3.1, -23.2)', 'engaged_patient03_location_tuple_(3.2, -23.2)', 'engaged_patient03_patient_id_NPC 1 Root', 'engaged_patient03_patient_id_Open World Marine 4 Male Root', 'engaged_patient03_patient_id_Patient U Root', 'engaged_patient03_patient_id_Patient V Root', 'engaged_patient03_patient_id_Patient W Root', 'engaged_patient03_patient_id_Patient X Root', 'engaged_patient03_patient_id_patient W Root', 'engaged_patient03_patient_id_patient X Root', 'engaged_patient03_patient_sort_still', 'engaged_patient03_patient_sort_walker', 'engaged_patient03_patient_sort_waver', 'engaged_patient04_injury_severity_high', 'engaged_patient04_injury_severity_low', 'engaged_patient04_injury_severity_medium', 'engaged_patient04_injury_severity_nan', 'engaged_patient04_patient_id_Adept Shooter Root', 'engaged_patient04_patient_id_Adept Victim Root', 'engaged_patient04_patient_id_NPC 3 Root', 'engaged_patient04_patient_id_Patient U Root', 'engaged_patient04_patient_id_Patient W Root', 'engaged_patient04_patient_id_Patient X Root', 'engaged_patient04_patient_id_Simulation Root', 'engaged_patient04_patient_id_bystander Root', 'engaged_patient04_patient_id_electrician Root', 'engaged_patient04_patient_id_patient W Root', 'engaged_patient04_patient_id_patient X Root', 'engaged_patient04_patient_sort_None', 'engaged_patient04_patient_sort_still', 'engaged_patient04_patient_sort_walker', 'engaged_patient04_patient_sort_waver', 'engaged_patient05_injury_severity_high', 'engaged_patient05_injury_severity_medium', 'engaged_patient05_injury_severity_nan', 'engaged_patient05_patient_id_Adept Shooter Root', 'engaged_patient05_patient_id_Adept Victim Root', 'engaged_patient05_patient_id_Marine 1 Male Root', 'engaged_patient05_patient_id_NPC 4 Root', 'engaged_patient05_patient_id_Navy Soldier 2 Male Root', 'engaged_patient05_patient_id_Open World Marine 1 Male Root', 'engaged_patient05_patient_id_Open World Marine 2 Female Root', 'engaged_patient05_patient_id_Open World Marine 4 Male Root', 'engaged_patient05_patient_id_Patient W Root', 'engaged_patient05_patient_id_Patient X Root', 'engaged_patient05_patient_id_Simulation Root', 'engaged_patient05_patient_id_bystander Root', 'engaged_patient05_patient_id_electrician Root', 'engaged_patient05_patient_sort_None', 'engaged_patient05_patient_sort_still', 'engaged_patient05_patient_sort_walker', 'engaged_patient05_patient_sort_waver', 'engaged_patient06_injury_severity_high', 'engaged_patient06_injury_severity_medium', 'engaged_patient06_injury_severity_nan', 'engaged_patient06_patient_id_Adept Shooter Root', 'engaged_patient06_patient_id_Adept Victim Root', 'engaged_patient06_patient_id_Marine 1 Male Root', 'engaged_patient06_patient_id_Marine 4 Male Root', 'engaged_patient06_patient_id_Navy Soldier 1 Male Root', 'engaged_patient06_patient_id_Navy Soldier 2 Male Root', 'engaged_patient06_patient_id_Open World Civilian 1 Male Root', 'engaged_patient06_patient_id_Open World Civilian 2 Female Root', 'engaged_patient06_patient_id_Open World Marine 2 Female Root', 'engaged_patient06_patient_id_Open World Marine 2 Male Root', 'engaged_patient06_patient_id_Open World Marine 4 Male Root', 'engaged_patient06_patient_id_Patient W Root', 'engaged_patient06_patient_id_Patient X Root', 'engaged_patient06_patient_id_Simulation Root', 'engaged_patient06_patient_id_bystander Root', 'engaged_patient06_patient_id_electrician Root', 'engaged_patient06_patient_sort_None', 'engaged_patient06_patient_sort_still', 'engaged_patient06_patient_sort_walker', 'engaged_patient06_patient_sort_waver', 'engaged_patient07_injury_severity_high', 'engaged_patient07_injury_severity_medium', 'engaged_patient07_injury_severity_nan', 'engaged_patient07_patient_id_Marine 1 Male Root', 'engaged_patient07_patient_id_Marine 3 Male Root', 'engaged_patient07_patient_id_Marine 4 Male Root', 'engaged_patient07_patient_id_Navy Soldier 1 Male Root', 'engaged_patient07_patient_id_Navy Soldier 2 Male Root', 'engaged_patient07_patient_id_Navy Soldier 3 Male Root', 'engaged_patient07_patient_id_Navy Soldier 4 Female Root', 'engaged_patient07_patient_id_Open World Civilian 1 Male Root', 'engaged_patient07_patient_id_Open World Civilian 2 Female Root', 'engaged_patient07_patient_id_Open World Marine 1 Male Root', 'engaged_patient07_patient_id_Open World Marine 2 Female Root', 'engaged_patient07_patient_id_Open World Marine 2 Male Root', 'engaged_patient07_patient_id_Open World Marine 3 Male Root', 'engaged_patient07_patient_id_Open World Marine 4 Male Root', 'engaged_patient07_patient_id_Simulation Root', 'engaged_patient07_patient_sort_None', 'engaged_patient07_patient_sort_still', 'engaged_patient07_patient_sort_waver', 'engaged_patient08_injury_severity_high', 'engaged_patient08_injury_severity_medium', 'engaged_patient08_injury_severity_nan', 'engaged_patient08_patient_id_Marine 2 Male Root', 'engaged_patient08_patient_id_Marine 3 Male Root', 'engaged_patient08_patient_id_Marine 4 Male Root', 'engaged_patient08_patient_id_Navy Soldier 2 Male Root', 'engaged_patient08_patient_id_Navy Soldier 3 Male Root', 'engaged_patient08_patient_id_Open World Civilian 1 Male Root', 'engaged_patient08_patient_id_Open World Marine 1 Female Root', 'engaged_patient08_patient_id_Open World Marine 1 Male Root', 'engaged_patient08_patient_id_Open World Marine 2 Female Root', 'engaged_patient08_patient_id_Open World Marine 2 Male Root', 'engaged_patient08_patient_id_Open World Marine 3 Male Root', 'engaged_patient08_patient_id_Simulation Root', 'engaged_patient08_patient_sort_None', 'engaged_patient08_patient_sort_still', 'engaged_patient08_patient_sort_walker', 'engaged_patient08_patient_sort_waver', 'engaged_patient09_injury_severity_high', 'engaged_patient09_injury_severity_medium', 'engaged_patient09_injury_severity_nan', 'engaged_patient09_location_tuple_(-0.1, -5.5)', 'engaged_patient09_location_tuple_(-0.3, -0.1)', 'engaged_patient09_location_tuple_(-0.4, -0.3)', 'engaged_patient09_location_tuple_(-0.5, 3.3)', 'engaged_patient09_location_tuple_(-4.4, 0.0)', 'engaged_patient09_location_tuple_(-5.3, -0.1)', 'engaged_patient09_location_tuple_(-5.4, 0.0)', 'engaged_patient09_location_tuple_(0.0, 0.0)', 'engaged_patient09_location_tuple_(0.6, -2.7)', 'engaged_patient09_location_tuple_(10.3, -23.0)', 'engaged_patient09_location_tuple_(11.3, 10.4)', 'engaged_patient09_location_tuple_(13.0, 4.6)', 'engaged_patient09_location_tuple_(13.1, 4.6)', 'engaged_patient09_location_tuple_(14.1, 9.6)', 'engaged_patient09_location_tuple_(14.4, -25.3)', 'engaged_patient09_location_tuple_(2.6, 2.3)', 'engaged_patient09_location_tuple_(8.2, -26.8)', 'engaged_patient09_location_tuple_(8.5, -26.2)', 'engaged_patient09_location_tuple_(8.7, -26.2)', 'engaged_patient09_patient_id_Civilian 1 Female Root', 'engaged_patient09_patient_id_Marine 2 Male Root', 'engaged_patient09_patient_id_Marine 3 Male Root', 'engaged_patient09_patient_id_Navy Soldier 1 Male Root', 'engaged_patient09_patient_id_Navy Soldier 2 Male Root', 'engaged_patient09_patient_id_Navy Soldier 3 Male Root', 'engaged_patient09_patient_id_Navy Soldier 4 Female Root', 'engaged_patient09_patient_id_Open World Civilian 1 Male Root', 'engaged_patient09_patient_id_Open World Civilian 2 Female Root', 'engaged_patient09_patient_id_Open World Marine 1 Male Root', 'engaged_patient09_patient_id_Open World Marine 2 Male Root', 'engaged_patient09_patient_id_Open World Marine 3 Male Root', 'engaged_patient09_patient_id_Simulation Root', 'engaged_patient09_patient_sort_None', 'engaged_patient09_patient_sort_still', 'engaged_patient09_patient_sort_waver', 'engaged_patient10_engagement_start_1026190', 'engaged_patient10_engagement_start_1036525', 'engaged_patient10_engagement_start_1092407', 'engaged_patient10_engagement_start_1101384', 'engaged_patient10_engagement_start_1246366', 'engaged_patient10_engagement_start_1614000', 'engaged_patient10_engagement_start_683284', 'engaged_patient10_engagement_start_695443', 'engaged_patient10_engagement_start_744348', 'engaged_patient10_engagement_start_746656', 'engaged_patient10_engagement_start_797091', 'engaged_patient10_engagement_start_841056', 'engaged_patient10_engagement_start_862629', 'engaged_patient10_engagement_start_948274', 'engaged_patient10_engagement_start_950853', 'engaged_patient10_engagement_start_970326', 'engaged_patient10_engagement_start_997335', 'engaged_patient10_injury_severity_high', 'engaged_patient10_injury_severity_medium', 'engaged_patient10_location_tuple_(-4.2, -0.5)', 'engaged_patient10_location_tuple_(-5.3, -0.1)', 'engaged_patient10_location_tuple_(0.0, 0.0)', 'engaged_patient10_location_tuple_(11.3, 10.4)', 'engaged_patient10_location_tuple_(13.1, 4.6)', 'engaged_patient10_location_tuple_(13.5, 5.0)', 'engaged_patient10_location_tuple_(14.1, 9.6)', 'engaged_patient10_location_tuple_(14.2, -25.7)', 'engaged_patient10_location_tuple_(14.4, -28.0)', 'engaged_patient10_location_tuple_(14.8, -27.8)', 'engaged_patient10_location_tuple_(14.9, -27.8)', 'engaged_patient10_location_tuple_(8.2, -26.7)', 'engaged_patient10_patient_id_Civilian 1 Female Root', 'engaged_patient10_patient_id_Marine 2 Male Root', 'engaged_patient10_patient_id_Marine 3 Male Root', 'engaged_patient10_patient_id_Navy Soldier 4 Female Root', 'engaged_patient10_patient_id_Open World Civilian 1 Male Root', 'engaged_patient10_patient_id_Open World Civilian 2 Female Root', 'engaged_patient10_patient_id_Open World Marine 1 Female Root', 'engaged_patient10_patient_sort_still', 'engaged_patient10_patient_sort_walker', 'engaged_patient10_patient_sort_waver', 'engaged_patient11_engagement_start_1131117', 'engaged_patient11_engagement_start_1199403', 'engaged_patient11_engagement_start_1344729', 'engaged_patient11_engagement_start_1710395', 'engaged_patient11_engagement_start_799521', 'engaged_patient11_engagement_start_828435', 'engaged_patient11_engagement_start_845458', 'engaged_patient11_injury_severity_high', 'engaged_patient11_injury_severity_medium', 'engaged_patient11_location_tuple_(11.3, 10.4)', 'engaged_patient11_location_tuple_(12.4, 5.4)', 'engaged_patient11_location_tuple_(12.5, 5.5)', 'engaged_patient11_location_tuple_(12.6, 5.6)', 'engaged_patient11_location_tuple_(13.5, 4.9)', 'engaged_patient11_location_tuple_(14.1, 9.6)', 'engaged_patient11_patient_id_Civilian 1 Female Root', 'engaged_patient11_patient_id_Marine 2 Male Root', 'engaged_patient11_patient_id_Marine 3 Male Root', 'engaged_patient11_patient_sort_waver', 'mean_AD_KDMA_Sim', 'mean_AD_KDMA_Text', 'mean_PropTrust', 'mean_ST_KDMA_Sim', 'mean_ST_KDMA_Text', 'mean_YrsMilExp', 'mean_actual_engagement_distance', 'mean_first_engagement', 'mean_first_treatment', 'mean_injury_correctly_treated_count', 'mean_injury_not_treated_count', 'mean_injury_treatments_count', 'mean_injury_wrongly_treated_count', 'mean_last_engagement', 'mean_last_still_engagement', 'mean_measure_of_right_ordering', 'mean_patient_count', 'mean_percent_hemorrhage_controlled', 'mean_pulse_taken_count', 'mean_stills_value', 'mean_teleport_count', 'mean_time_to_hemorrhage_control_per_patient', 'mean_time_to_last_hemorrhage_controlled', 'mean_total_actions_count', 'mean_triage_time', 'mean_voice_capture_count', 'mean_walk_command_count', 'mean_walk_value', 'mean_walkers_value', 'mean_wave_command_count', 'mean_wave_value', 'medical_role_EM faculty', 'medical_role_EM resident', 'medical_role_Medical student', 'medical_role_Other', 'medical_role_Paramedic', 'unengaged_patient00_engagement_start_-99999', 'unengaged_patient00_injury_severity_high', 'unengaged_patient00_injury_severity_medium', 'unengaged_patient00_injury_severity_nan', 'unengaged_patient00_location_tuple_None', 'unengaged_patient00_patient_id_Adept Shooter Root', 'unengaged_patient00_patient_id_Adept Victim Root', 'unengaged_patient00_patient_id_Civilian 1 Female Root', 'unengaged_patient00_patient_id_Civilian 2 Root', 'unengaged_patient00_patient_id_Local Soldier 1 Root', 'unengaged_patient00_patient_id_NPC 1 Root', 'unengaged_patient00_patient_id_Navy Soldier 1 Male Root', 'unengaged_patient00_patient_id_Navy Soldier 2 Male Root', 'unengaged_patient00_patient_id_Navy Soldier 3 Male Root', 'unengaged_patient00_patient_id_Navy Soldier 4 Female Root', 'unengaged_patient00_patient_id_Open World Civilian 1 Male Root', 'unengaged_patient00_patient_id_Patient U Root', 'unengaged_patient00_patient_id_bystander Root', 'unengaged_patient00_patient_id_electrician Root', 'unengaged_patient00_patient_sort_still', 'unengaged_patient00_patient_sort_walker', 'unengaged_patient00_patient_sort_waver', 'unengaged_patient01_engagement_start_-99999', 'unengaged_patient01_injury_severity_high', 'unengaged_patient01_injury_severity_medium', 'unengaged_patient01_injury_severity_nan', 'unengaged_patient01_location_tuple_None', 'unengaged_patient01_patient_id_Marine 1 Male Root', 'unengaged_patient01_patient_id_Marine 2 Male Root', 'unengaged_patient01_patient_id_NPC 1 Root', 'unengaged_patient01_patient_id_NPC 2 Root', 'unengaged_patient01_patient_id_NPC Root', 'unengaged_patient01_patient_id_Navy Soldier 2 Male Root', 'unengaged_patient01_patient_id_Navy Soldier 4 Female Root', 'unengaged_patient01_patient_id_Open World Civilian 1 Male Root', 'unengaged_patient01_patient_id_Open World Civilian 2 Female Root', 'unengaged_patient01_patient_id_Open World Marine 1 Male Root', 'unengaged_patient01_patient_id_Open World Marine 3 Male Root', 'unengaged_patient01_patient_id_bystander Root', 'unengaged_patient01_patient_sort_still', 'unengaged_patient01_patient_sort_walker', 'unengaged_patient01_patient_sort_waver', 'unengaged_patient02_engagement_start_-99999', 'unengaged_patient02_injury_severity_high', 'unengaged_patient02_injury_severity_medium', 'unengaged_patient02_injury_severity_nan', 'unengaged_patient02_location_tuple_None', 'unengaged_patient02_patient_id_Marine 2 Male Root', 'unengaged_patient02_patient_id_Marine 3 Male Root', 'unengaged_patient02_patient_id_NPC 1 Root', 'unengaged_patient02_patient_id_NPC 2 Root', 'unengaged_patient02_patient_id_NPC 3 Root', 'unengaged_patient02_patient_id_Navy Soldier 3 Male Root', 'unengaged_patient02_patient_id_Open World Civilian 2 Female Root', 'unengaged_patient02_patient_id_Open World Marine 1 Female Root', 'unengaged_patient02_patient_id_Open World Marine 1 Male Root', 'unengaged_patient02_patient_id_Open World Marine 2 Female Root', 'unengaged_patient02_patient_id_Open World Marine 3 Male Root', 'unengaged_patient02_patient_id_bystander Root', 'unengaged_patient02_patient_sort_still', 'unengaged_patient02_patient_sort_walker', 'unengaged_patient02_patient_sort_waver', 'unengaged_patient03_engagement_start_-99999', 'unengaged_patient03_injury_severity_high', 'unengaged_patient03_injury_severity_medium', 'unengaged_patient03_injury_severity_nan', 'unengaged_patient03_location_tuple_None', 'unengaged_patient03_patient_id_Marine 3 Male Root', 'unengaged_patient03_patient_id_Marine 4 Male Root', 'unengaged_patient03_patient_id_NPC 1 Root', 'unengaged_patient03_patient_id_NPC 2 Root', 'unengaged_patient03_patient_id_NPC 3 Root', 'unengaged_patient03_patient_id_NPC 4 Root', 'unengaged_patient03_patient_id_Navy Soldier 4 Female Root', 'unengaged_patient03_patient_id_Open World Marine 1 Female Root', 'unengaged_patient03_patient_id_Open World Marine 2 Female Root', 'unengaged_patient03_patient_id_Open World Marine 2 Male Root', 'unengaged_patient03_patient_id_Open World Marine 3 Male Root', 'unengaged_patient03_patient_id_Open World Marine 4 Male Root', 'unengaged_patient03_patient_sort_still', 'unengaged_patient03_patient_sort_walker', 'unengaged_patient03_patient_sort_waver', 'unengaged_patient04_engagement_start_-99999', 'unengaged_patient04_injury_severity_high', 'unengaged_patient04_injury_severity_low', 'unengaged_patient04_injury_severity_medium', 'unengaged_patient04_injury_severity_nan', 'unengaged_patient04_location_tuple_None', 'unengaged_patient04_patient_id_Marine 4 Male Root', 'unengaged_patient04_patient_id_NPC 1 Root', 'unengaged_patient04_patient_id_NPC 2 Root', 'unengaged_patient04_patient_id_NPC 3 Root', 'unengaged_patient04_patient_id_NPC 4 Root', 'unengaged_patient04_patient_id_Open World Civilian 1 Male Root', 'unengaged_patient04_patient_id_Open World Civilian 2 Female Root', 'unengaged_patient04_patient_id_Open World Marine 1 Female Root', 'unengaged_patient04_patient_id_Open World Marine 2 Male Root', 'unengaged_patient04_patient_id_Open World Marine 3 Male Root', 'unengaged_patient04_patient_id_Patient U Root', 'unengaged_patient04_patient_id_bystander Root', 'unengaged_patient04_patient_sort_still', 'unengaged_patient04_patient_sort_walker', 'unengaged_patient04_patient_sort_waver', 'unengaged_patient05_engagement_start_-99999', 'unengaged_patient05_injury_severity_high', 'unengaged_patient05_injury_severity_medium', 'unengaged_patient05_injury_severity_nan', 'unengaged_patient05_location_tuple_None', 'unengaged_patient05_patient_id_NPC 1 Root', 'unengaged_patient05_patient_id_NPC 2 Root', 'unengaged_patient05_patient_id_NPC 3 Root', 'unengaged_patient05_patient_id_NPC 4 Root', 'unengaged_patient05_patient_id_Open World Civilian 1 Male Root', 'unengaged_patient05_patient_id_Open World Civilian 2 Female Root', 'unengaged_patient05_patient_id_Open World Marine 1 Female Root', 'unengaged_patient05_patient_id_Open World Marine 4 Male Root', 'unengaged_patient05_patient_id_Patient U Root', 'unengaged_patient05_patient_id_Patient V Root', 'unengaged_patient05_patient_id_electrician Root', 'unengaged_patient05_patient_sort_still', 'unengaged_patient05_patient_sort_walker', 'unengaged_patient05_patient_sort_waver', 'unengaged_patient06_engagement_start_-99999', 'unengaged_patient06_injury_severity_high', 'unengaged_patient06_injury_severity_medium', 'unengaged_patient06_injury_severity_nan', 'unengaged_patient06_location_tuple_None', 'unengaged_patient06_patient_id_NPC 2 Root', 'unengaged_patient06_patient_id_NPC 3 Root', 'unengaged_patient06_patient_id_NPC 4 Root', 'unengaged_patient06_patient_id_Open World Civilian 2 Female Root', 'unengaged_patient06_patient_id_Open World Marine 1 Female Root', 'unengaged_patient06_patient_id_Patient V Root', 'unengaged_patient06_patient_id_Patient W Root', 'unengaged_patient06_patient_sort_still', 'unengaged_patient06_patient_sort_walker', 'unengaged_patient06_patient_sort_waver', 'unengaged_patient07_engagement_start_-99999', 'unengaged_patient07_injury_severity_high', 'unengaged_patient07_injury_severity_medium', 'unengaged_patient07_injury_severity_nan', 'unengaged_patient07_location_tuple_None', 'unengaged_patient07_patient_id_NPC 3 Root', 'unengaged_patient07_patient_id_NPC 4 Root', 'unengaged_patient07_patient_id_Open World Marine 1 Female Root', 'unengaged_patient07_patient_id_Open World Marine 2 Male Root', 'unengaged_patient07_patient_id_Patient W Root', 'unengaged_patient07_patient_id_Patient X Root', 'unengaged_patient07_patient_sort_still', 'unengaged_patient07_patient_sort_walker', 'unengaged_patient07_patient_sort_waver', 'unengaged_patient08_engagement_start_-99999', 'unengaged_patient08_injury_severity_high', 'unengaged_patient08_injury_severity_nan', 'unengaged_patient08_location_tuple_None', 'unengaged_patient08_patient_id_NPC 4 Root', 'unengaged_patient08_patient_id_Open World Marine 2 Male Root', 'unengaged_patient08_patient_id_US Soldier 1 Root', 'unengaged_patient08_patient_sort_still', 'unengaged_patient08_patient_sort_walker', 'unengaged_patient08_patient_sort_waver', 'unengaged_patient09_engagement_start_-99999', 'unengaged_patient09_injury_severity_low', 'unengaged_patient09_location_tuple_None', 'unengaged_patient09_patient_id_Patient U Root', 'unengaged_patient09_patient_sort_waver', 'unengaged_patient10_engagement_start_-99999', 'unengaged_patient10_injury_severity_high', 'unengaged_patient10_location_tuple_None', 'unengaged_patient10_patient_id_Patient V Root', 'unengaged_patient10_patient_sort_waver', 'unengaged_patient11_engagement_start_-99999', 'unengaged_patient11_injury_severity_medium', 'unengaged_patient11_location_tuple_None', 'unengaged_patient11_patient_id_Patient W Root', 'unengaged_patient11_patient_sort_waver', 'unengaged_patient12_engagement_start_-99999', 'unengaged_patient12_injury_severity_high', 'unengaged_patient12_location_tuple_None', 'unengaged_patient12_patient_id_Patient X Root', 'unengaged_patient12_patient_sort_walker', 'unengaged_patient13_engagement_start_-99999', 'unengaged_patient13_injury_severity_medium', 'unengaged_patient13_location_tuple_None', 'unengaged_patient13_patient_id_US Soldier 1 Root', 'unengaged_patient13_patient_sort_waver']\n",
      "\n",
      "The other columns we want to one-hot encode:\n",
      "[]\n"
     ]
    }
   ],
   "source": [
    "\n",
    "print(\"\\nThe numeric columns we want to use in modeling:\")\n",
    "injury_severity_columns = [cn for cn in anova_df.columns if cn.endswith('_injury_severity')]\n",
    "numeric_columns = sorted(\n",
    "    set(nu.get_numeric_columns(anova_df))\n",
    "    .difference(set(metadata_columns + groupby_columns + injury_severity_columns))\n",
    ")\n",
    "print(numeric_columns)\n",
    "\n",
    "print(\"\\nThe other columns we want to one-hot encode:\")\n",
    "other_columns = set()\n",
    "for cn in set(anova_df.columns).difference(set(numeric_columns + groupby_columns)):\n",
    "    if anova_df[cn].nunique() < 20:\n",
    "        other_columns.add(cn)\n",
    "other_columns = sorted(other_columns)\n",
    "print(other_columns)"
   ]
  },
  {
   "cell_type": "code",
   "execution_count": 12,
   "id": "76e67b29-34de-47d0-ad6c-f605d530070a",
   "metadata": {},
   "outputs": [
    {
     "name": "stdout",
     "output_type": "stream",
     "text": [
      "Get column and value descriptions\n",
      "Fix the doubled up descriptions\n",
      "Get the column value descriptions\n"
     ]
    }
   ],
   "source": [
    "\n",
    "print(\"Get column and value descriptions\")\n",
    "file_path = osp.join(nu.data_folder, 'xlsx', 'Metrics_Evaluation_Dataset_organization_for_BBAI.xlsx')\n",
    "dataset_organization_df = read_excel(file_path)\n",
    "\n",
    "print(\"Fix the doubled up descriptions\")\n",
    "mask_series = dataset_organization_df.Labels.map(lambda x: ';' in str(x))\n",
    "for row_index, label in dataset_organization_df[mask_series].Labels.items():\n",
    "    labels_list = split(' *; *', str(label), 0)\n",
    "    dataset_organization_df.loc[row_index, 'Labels'] = labels_list[0]\n",
    "    \n",
    "    # Get a copy of the row\n",
    "    new_row = dataset_organization_df.loc[row_index].copy()\n",
    "    \n",
    "    # Modify the desired column value\n",
    "    new_row['Labels'] = labels_list[1]\n",
    "    \n",
    "    # Append the new row to the DataFrame\n",
    "    dataset_organization_df = concat([dataset_organization_df, new_row], ignore_index=True)\n",
    "\n",
    "# Get a copy of the row\n",
    "mask_series = (dataset_organization_df.Variable == 'AD_Del_Omni')\n",
    "new_row = dataset_organization_df.loc[mask_series].copy()\n",
    "\n",
    "# Modify the desired column value\n",
    "new_row['Variable'] = 'AD_Del_Omni_Text'\n",
    "\n",
    "# Append the new row to the DataFrame\n",
    "dataset_organization_df = concat([dataset_organization_df, new_row], ignore_index=True)\n",
    "\n",
    "print(\"Get the column value descriptions\")\n",
    "mask_series = ~dataset_organization_df.Description.isnull()\n",
    "df = dataset_organization_df[mask_series]\n",
    "value_description_dict = df.set_index('Variable').Description.to_dict()\n",
    "new_description_dict = value_description_dict.copy()\n",
    "for k, v in value_description_dict.items():\n",
    "    new_description_dict[k] = v\n",
    "    if (not k.endswith('_Text')):\n",
    "        new_key_name = f'{k}_Text'\n",
    "        new_description_dict[new_key_name] = new_description_dict.get(new_key_name, v)\n",
    "value_description_dict = new_description_dict.copy()"
   ]
  },
  {
   "cell_type": "code",
   "execution_count": 14,
   "id": "03b7b10a-2955-4171-80a6-a32052fb100e",
   "metadata": {},
   "outputs": [
    {
     "name": "stdout",
     "output_type": "stream",
     "text": [
      "\n",
      "mean_PropTrust (Average rating on 3-item propensity to trust measure; higher is higher propensity to trust)\n",
      "Mean Squared Error: 1.3334432167114253e-25\n"
     ]
    },
    {
     "data": {
      "text/html": [
       "<div>\n",
       "<style scoped>\n",
       "    .dataframe tbody tr th:only-of-type {\n",
       "        vertical-align: middle;\n",
       "    }\n",
       "\n",
       "    .dataframe tbody tr th {\n",
       "        vertical-align: top;\n",
       "    }\n",
       "\n",
       "    .dataframe thead th {\n",
       "        text-align: right;\n",
       "    }\n",
       "</style>\n",
       "<table border=\"1\" class=\"dataframe\">\n",
       "  <thead>\n",
       "    <tr style=\"text-align: right;\">\n",
       "      <th></th>\n",
       "      <th>feature</th>\n",
       "      <th>importance</th>\n",
       "    </tr>\n",
       "  </thead>\n",
       "  <tbody>\n",
       "    <tr>\n",
       "      <th>174</th>\n",
       "      <td>engaged_patient07_patient_id_Navy Soldier 3 Ma...</td>\n",
       "      <td>0.377253</td>\n",
       "    </tr>\n",
       "    <tr>\n",
       "      <th>217</th>\n",
       "      <td>engaged_patient09_location_tuple_(0.6, -2.7)</td>\n",
       "      <td>0.197766</td>\n",
       "    </tr>\n",
       "    <tr>\n",
       "      <th>208</th>\n",
       "      <td>engaged_patient09_injury_severity_nan</td>\n",
       "      <td>0.166195</td>\n",
       "    </tr>\n",
       "    <tr>\n",
       "      <th>307</th>\n",
       "      <td>mean_first_treatment</td>\n",
       "      <td>0.059938</td>\n",
       "    </tr>\n",
       "    <tr>\n",
       "      <th>328</th>\n",
       "      <td>mean_wave_command_count</td>\n",
       "      <td>0.044439</td>\n",
       "    </tr>\n",
       "  </tbody>\n",
       "</table>\n",
       "</div>"
      ],
      "text/plain": [
       "                                               feature  importance\n",
       "174  engaged_patient07_patient_id_Navy Soldier 3 Ma...    0.377253\n",
       "217       engaged_patient09_location_tuple_(0.6, -2.7)    0.197766\n",
       "208              engaged_patient09_injury_severity_nan    0.166195\n",
       "307                               mean_first_treatment    0.059938\n",
       "328                            mean_wave_command_count    0.044439"
      ]
     },
     "metadata": {},
     "output_type": "display_data"
    }
   ],
   "source": [
    "\n",
    "from sklearn.tree import DecisionTreeRegressor\n",
    "from sklearn.model_selection import train_test_split\n",
    "from sklearn.metrics import mean_squared_error\n",
    "\n",
    "# Split your data into features (X) and target variable (y)\n",
    "kdma_columns = [cn for cn in anova_df.columns if 'KDMA' in cn]\n",
    "df = anova_df[numeric_columns].dropna(axis='columns', how='all').dropna(axis='index', how='any')\n",
    "for cn in ['mean_PropTrust']:\n",
    "    print()\n",
    "    column_description = value_description_dict[cn.replace('mean_', '')]\n",
    "    print(f'{cn} ({column_description})')\n",
    "    columns_list = sorted(set(df.columns).difference(set([cn] + kdma_columns)))\n",
    "    X = df[columns_list]\n",
    "    y = df[cn]\n",
    "    \n",
    "    # Split data into training and testing sets\n",
    "    X_train, X_test, y_train, y_test = train_test_split(X, y, test_size=0.2, random_state=42)\n",
    "    \n",
    "    # Create the decision tree model\n",
    "    model = DecisionTreeRegressor()\n",
    "    \n",
    "    # Train the model on the training data\n",
    "    model.fit(X_train, y_train)\n",
    "    \n",
    "    # Make predictions on the testing data\n",
    "    y_pred = model.predict(X_test)\n",
    "    \n",
    "    # Calculate MSE\n",
    "    mse = mean_squared_error(y_test, y_pred)\n",
    "    \n",
    "    # Print the MSE value\n",
    "    print(\"Mean Squared Error:\", mse)\n",
    "    \n",
    "    # Get feature importances\n",
    "    feature_importances = model.feature_importances_\n",
    "    \n",
    "    # Print feature names and importances (assuming you have the column names)\n",
    "    importances_df = DataFrame([{'feature': feature, 'importance': importance} for feature, importance in zip(columns_list, feature_importances)])\n",
    "    display(importances_df.sort_values('importance', ascending=False).head())"
   ]
  },
  {
   "cell_type": "code",
   "execution_count": 15,
   "id": "c86223dd-0745-4498-b1fd-269e3d1f9873",
   "metadata": {},
   "outputs": [
    {
     "data": {
      "text/plain": [
       "['mean_walk_command_count', 'mean_wave_command_count']"
      ]
     },
     "execution_count": 15,
     "metadata": {},
     "output_type": "execute_result"
    }
   ],
   "source": [
    "\n",
    "# Is there a correlation between propensity to trust and command counts (walk or wave)?\n",
    "[cn for cn in anova_df.columns if 'command' in cn]"
   ]
  },
  {
   "cell_type": "code",
   "execution_count": 47,
   "id": "7da91d6b-d0fa-4248-be4e-c9a6784a7331",
   "metadata": {},
   "outputs": [
    {
     "name": "stdout",
     "output_type": "stream",
     "text": [
      "Create the value description function\n"
     ]
    }
   ],
   "source": [
    "\n",
    "print(\"Create the value description function\")\n",
    "numeric_categories_mask_series = dataset_organization_df.Labels.map(lambda x: '=' in str(x))\n",
    "value_descriptions_columns = dataset_organization_df[numeric_categories_mask_series].Variable.unique().tolist()\n",
    "def get_value_description(column_name, column_value):\n",
    "    value_description = ''\n",
    "    if not isna(column_value):\n",
    "        mask_series = (dataset_organization_df.Variable == column_name) & ~dataset_organization_df.Labels.isnull()\n",
    "        if mask_series.any():\n",
    "            df = dataset_organization_df[mask_series]\n",
    "            mask_series = df.Labels.map(lambda label: split(' *= *', str(label), 0)[0] == str(int(float(column_value))))\n",
    "            if mask_series.any():\n",
    "                label = df[mask_series].Labels.squeeze()\n",
    "                value_description = split(' *= *', str(label), 0)[1]\n",
    "    \n",
    "    return value_description"
   ]
  },
  {
   "cell_type": "code",
   "execution_count": 46,
   "id": "2550e986-33c0-4d38-9e37-8a59b36c2706",
   "metadata": {},
   "outputs": [
    {
     "name": "stdout",
     "output_type": "stream",
     "text": [
      "AD_KDMA_Sim False\n",
      "AD_KDMA_Text False\n",
      "ST_KDMA_Sim False\n",
      "ST_KDMA_Text False\n"
     ]
    }
   ],
   "source": [
    "\n",
    "mask_series = dataset_organization_df.Variable.map(lambda x: 'KDMA' in str(x))\n",
    "columns_list = sorted(dataset_organization_df[mask_series].Variable.unique())\n",
    "for cn in columns_list:\n",
    "    mask_series = (dataset_organization_df.Variable == cn) & ~dataset_organization_df.Labels.isnull()\n",
    "    if mask_series.any():\n",
    "        df = dataset_organization_df[mask_series]\n",
    "        mask_series = df.Labels.map(lambda label: '=' in label)\n",
    "        print(cn, mask_series.any())"
   ]
  },
  {
   "cell_type": "code",
   "execution_count": 27,
   "id": "efa20b9e-a2a4-482f-bf8b-fcb1bebb9383",
   "metadata": {},
   "outputs": [],
   "source": [
    "\n",
    "# Split your data into features (X) and target variable (y)\n",
    "rows_list = []\n",
    "df = anova_df[numeric_columns].dropna(axis='columns', how='all').dropna(axis='index', how='any')\n",
    "for cn in numeric_columns:\n",
    "    row_dict = {'column_name': cn, 'variance': df[cn].var()}\n",
    "    X = df[kdma_columns]\n",
    "    y = df[cn]\n",
    "    \n",
    "    # Split data into training and testing sets\n",
    "    X_train, X_test, y_train, y_test = train_test_split(X, y, test_size=0.2, random_state=42)\n",
    "    \n",
    "    # Create the decision tree model\n",
    "    model = DecisionTreeRegressor()\n",
    "    \n",
    "    # Train the model on the training data\n",
    "    model.fit(X_train, y_train)\n",
    "    \n",
    "    # Make predictions on the testing data\n",
    "    y_pred = model.predict(X_test)\n",
    "    \n",
    "    # Calculate MSE\n",
    "    row_dict['mse'] = mean_squared_error(y_test, y_pred)\n",
    "\n",
    "    rows_list.append(row_dict)\n",
    "kdma_mse_df = DataFrame(rows_list)"
   ]
  },
  {
   "cell_type": "markdown",
   "id": "e96aaeb5-f263-4ca1-ad0d-b88ebc0ace3f",
   "metadata": {},
   "source": [
    "\n",
    "According to the program, KDMA values help define or rather help influence behavior of a person in these triage situations\n",
    "The scenario data gives you information of what was the situation they were put in\n",
    "now the overall question is, how can we describe if the KMA values are influencing these behaviors?"
   ]
  },
  {
   "cell_type": "code",
   "execution_count": 52,
   "id": "44d107e5-03a1-4fe1-9cc3-e95ca1db65b6",
   "metadata": {},
   "outputs": [
    {
     "name": "stdout",
     "output_type": "stream",
     "text": [
      "engaged_patient10_patient_sort_still, mean_YrsMilExp, medical_role_EM faculty, medical_role_EM resident, medical_role_Medical student, medical_role_Other, and medical_role_Paramedic\n"
     ]
    }
   ],
   "source": [
    "\n",
    "# A lower MSE value indicates a better fit, meaning the predictions from the model are closer to the actual values.\n",
    "# Conversely, a higher MSE signifies larger differences between predictions and actual values, suggesting a poorer model fit.\n",
    "mask_series = (kdma_mse_df.mse == 0.0) & (kdma_mse_df.variance > 0.0)\n",
    "print(nu.conjunctify_nouns(kdma_mse_df[mask_series].column_name.tolist()))\n",
    "# kdma_mse_df.sort_values('mse').head(20)"
   ]
  },
  {
   "cell_type": "code",
   "execution_count": 53,
   "id": "69be4a46-7ca3-42d1-8c44-37f04bc50ac3",
   "metadata": {},
   "outputs": [
    {
     "data": {
      "text/plain": [
       "0.0    146681\n",
       "1.0     52795\n",
       "Name: mean_stills_value, dtype: int64"
      ]
     },
     "execution_count": 53,
     "metadata": {},
     "output_type": "execute_result"
    }
   ],
   "source": [
    "\n",
    "anova_df.mean_stills_value.value_counts()"
   ]
  },
  {
   "cell_type": "code",
   "execution_count": 3,
   "id": "8eb2a6d6-4d65-4ee6-9ab7-7bd98030118c",
   "metadata": {},
   "outputs": [
    {
     "ename": "NameError",
     "evalue": "name 'anova_df' is not defined",
     "output_type": "error",
     "traceback": [
      "\u001b[0;31m---------------------------------------------------------------------------\u001b[0m",
      "\u001b[0;31mNameError\u001b[0m                                 Traceback (most recent call last)",
      "\u001b[0;32m/tmp/ipykernel_1351/2045560451.py\u001b[0m in \u001b[0;36m<module>\u001b[0;34m\u001b[0m\n\u001b[1;32m      8\u001b[0m     \u001b[0my\u001b[0m \u001b[0;34m=\u001b[0m \u001b[0;34m'AD_KDMA_Sim'\u001b[0m\u001b[0;34m,\u001b[0m\u001b[0;34m\u001b[0m\u001b[0;34m\u001b[0m\u001b[0m\n\u001b[1;32m      9\u001b[0m     \u001b[0mshowmeans\u001b[0m\u001b[0;34m=\u001b[0m\u001b[0;32mTrue\u001b[0m\u001b[0;34m,\u001b[0m\u001b[0;34m\u001b[0m\u001b[0;34m\u001b[0m\u001b[0m\n\u001b[0;32m---> 10\u001b[0;31m     \u001b[0mdata\u001b[0m\u001b[0;34m=\u001b[0m\u001b[0manova_df\u001b[0m\u001b[0;34m\u001b[0m\u001b[0;34m\u001b[0m\u001b[0m\n\u001b[0m\u001b[1;32m     11\u001b[0m )\n\u001b[1;32m     12\u001b[0m \u001b[0;34m\u001b[0m\u001b[0m\n",
      "\u001b[0;31mNameError\u001b[0m: name 'anova_df' is not defined"
     ]
    }
   ],
   "source": [
    "\n",
    "import seaborn as sns\n",
    "import pandas as pd\n",
    "import matplotlib.pyplot as plt\n",
    "\n",
    "# Assuming stills_value and AD_KDMA_Sim are columns in anova_df\n",
    "sns.boxplot(\n",
    "    x = 'stills_value',\n",
    "    y = 'AD_KDMA_Sim',\n",
    "    showmeans=True,\n",
    "    data=anova_df\n",
    ")\n",
    "\n",
    "# Rotate x labels to prevent overlapping\n",
    "plt.xticks(rotation=45)\n",
    "plt.show()"
   ]
  },
  {
   "cell_type": "code",
   "execution_count": null,
   "id": "5aa4b107-4352-4629-af6d-7116fd290ac9",
   "metadata": {},
   "outputs": [],
   "source": []
  }
 ],
 "metadata": {
  "kernelspec": {
   "display_name": "ITM Analysis Reporting (Python 3.11.7)",
   "language": "python",
   "name": "itm_analysis_reporting"
  },
  "language_info": {
   "codemirror_mode": {
    "name": "ipython",
    "version": 3
   },
   "file_extension": ".py",
   "mimetype": "text/x-python",
   "name": "python",
   "nbconvert_exporter": "python",
   "pygments_lexer": "ipython3",
   "version": "3.7.12"
  }
 },
 "nbformat": 4,
 "nbformat_minor": 5
}

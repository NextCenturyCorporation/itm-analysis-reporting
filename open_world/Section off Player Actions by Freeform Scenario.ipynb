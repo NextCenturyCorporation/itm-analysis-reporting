{
 "cells": [
  {
   "cell_type": "code",
   "execution_count": 1,
   "id": "e1341223-5c53-4423-9118-0a502cd2b9d6",
   "metadata": {},
   "outputs": [
    {
     "name": "stdout",
     "output_type": "stream",
     "text": [
      "Pretty printing has been turned OFF\n"
     ]
    }
   ],
   "source": [
    "\n",
    "# Set up notebook\n",
    "%pprint\n",
    "import sys\n",
    "if ('../py' not in sys.path): sys.path.insert(1, '../py')"
   ]
  },
  {
   "cell_type": "code",
   "execution_count": 2,
   "id": "0c25d02b-b246-4357-9191-b4b3569bd8b2",
   "metadata": {},
   "outputs": [],
   "source": [
    "\n",
    "# load libraries\n",
    "from FRVRS import nu, fu\n",
    "from numpy import nan\n",
    "from pandas import (\n",
    "    CategoricalDtype, DataFrame, Index, NaT, Series, concat, get_dummies, isna, notnull,\n",
    "    read_csv, read_excel, read_pickle, to_datetime, to_numeric\n",
    ")\n",
    "from re import split, search, sub, MULTILINE\n",
    "from scipy.stats import f_oneway, ttest_ind, kruskal, norm\n",
    "import itertools\n",
    "from os import listdir as listdir, makedirs as makedirs, path as osp, remove as remove, sep as sep, walk as walk\n",
    "import re\n",
    "import statsmodels.api as sm"
   ]
  },
  {
   "cell_type": "code",
   "execution_count": 3,
   "id": "15b42f3d-cea5-4fe7-80c8-733d465fd0c5",
   "metadata": {},
   "outputs": [],
   "source": [
    "\n",
    "# Get all the Open World JSON Stats into one data frame\n",
    "logs_path = osp.join(nu.data_folder, 'logs', 'Human_Sim_Metrics_Data_4-12-2024')\n",
    "directories_list = listdir(logs_path)"
   ]
  },
  {
   "cell_type": "code",
   "execution_count": 4,
   "id": "c8e58513-1c14-4ae9-9f82-bb766e912bbb",
   "metadata": {},
   "outputs": [],
   "source": [
    "\n",
    "json_stats_df = DataFrame([])\n",
    "for dir_name in directories_list:\n",
    "    \n",
    "    # Add the JSONs to the data frame\n",
    "    folder_path = osp.join(logs_path, dir_name)\n",
    "    \n",
    "    # Iterate over the files in the current subdirectory\n",
    "    for file_name in listdir(folder_path):\n",
    "        \n",
    "        # If the file is a JSON file\n",
    "        if file_name.endswith('.json'):\n",
    "            \n",
    "            # Create a data frame from the flattened dictionary\n",
    "            json_path = osp.join(folder_path, file_name)\n",
    "            with open(json_path, 'r') as f: file_json = json.load(f)\n",
    "            row_dict = {\n",
    "                'json_file_subpath': folder_path,\n",
    "                'json_file_name': file_name\n",
    "            }\n",
    "            flattened_json_dict = nu.get_row_dictionary(file_json, row_dict=row_dict, key_prefix='')\n",
    "            \n",
    "            # You've got to clean the Session IDs\n",
    "            session_uuid, participant_id = dir_name.split('_')\n",
    "            flattened_json_dict['session_uuid'] = session_uuid\n",
    "            flattened_json_dict['participant_id'] = int(participant_id)\n",
    "            df = DataFrame(flattened_json_dict, index=Index([0]))\n",
    "            \n",
    "            # Append the data frame for the current subdirectory to the main data frame and break the participant ID loop\n",
    "            json_stats_df = concat([json_stats_df, df], axis='index')\n",
    "            \n",
    "json_stats_df = json_stats_df.reset_index(drop=True)"
   ]
  },
  {
   "cell_type": "markdown",
   "id": "22f6d72a-6e96-4635-be46-099740aec1ad",
   "metadata": {},
   "source": [
    "\n",
    "### Drop boring columns"
   ]
  },
  {
   "cell_type": "code",
   "execution_count": 5,
   "id": "b3a6c750-1e92-4440-8108-79d91eea964e",
   "metadata": {},
   "outputs": [
    {
     "name": "stdout",
     "output_type": "stream",
     "text": [
      "Saving to /mnt/c/Users/DaveBabbitt/Documents/GitHub/itm-analysis-reporting/saves/csv/json_stats_df.csv\n"
     ]
    }
   ],
   "source": [
    "\n",
    "# Check for proper ingestion (duplicate file ingestion, et al)\n",
    "assert len(json_stats_df.columns) > 4, \"Nothing ingested\"\n",
    "assert json_stats_df.participant_id.nunique() == 26, f\"Participant count should be 26, it's {json_stats_df.participant_id.nunique()} instead\"\n",
    "nu.save_data_frames(json_stats_df=json_stats_df, verbose=True)"
   ]
  },
  {
   "cell_type": "code",
   "execution_count": 6,
   "id": "5b308fdd-abc2-488a-b0e5-28e9fc727947",
   "metadata": {},
   "outputs": [
    {
     "data": {
      "text/plain": [
       "(51, 3535)"
      ]
     },
     "execution_count": 6,
     "metadata": {},
     "output_type": "execute_result"
    }
   ],
   "source": [
    "\n",
    "json_stats_df.shape"
   ]
  },
  {
   "cell_type": "code",
   "execution_count": 7,
   "id": "17cb17f3-e4bc-4ad5-a9d0-3a0921208df0",
   "metadata": {},
   "outputs": [
    {
     "name": "stdout",
     "output_type": "stream",
     "text": [
      "configData_narrative_narrativeSections00_teleportPointsToActivate ['Adept 1', 'Soartech 1']\n",
      "configData_narrative_narrativeSections01_teleportPointsToActivate ['Adept 1']\n",
      "configData_narrative_narrativeSections03_teleportPointsToActivate ['Soartech 1']\n",
      "configData_narrative_narrativeSections04_teleportPointsToActivate ['Soartech 1']\n",
      "configData_narrative_narrativeSections05_teleportPointsToActivate ['Soartech 2']\n",
      "configData_narrative_narrativeSections06_teleportPointsToActivate ['Soartech 1', 'Soartech 2']\n",
      "configData_narrative_narrativeSections07_teleportPointsToActivate ['Adept 1']\n",
      "configData_narrative_narrativeSections08_teleportPointsToActivate ['Adept 1', 'Soartech 1']\n",
      "configData_narrative_narrativeSections09_teleportPointsToActivate ['Adept 1', 'Soartech 2']\n",
      "configData_narrative_narrativeSections10_teleportPointsToActivate ['Soartech 2']\n",
      "configData_narrative_narrativeSections11_teleportPointsToActivate ['Adept 2', 'Freeform']\n",
      "configData_narrative_narrativeSections12_teleportPointsToActivate ['Freeform']\n",
      "configData_narrative_narrativeSections13_teleportPointsToActivate ['Freeform']\n"
     ]
    }
   ],
   "source": [
    "\n",
    "for i in range(14):\n",
    "    column_name = f'configData_narrative_narrativeSections{i:02d}_teleportPointsToActivate'\n",
    "    if column_name in json_stats_df:\n",
    "        mask_series = ~json_stats_df[column_name].isnull()\n",
    "        print( column_name, sorted(json_stats_df[mask_series][column_name].unique()))"
   ]
  },
  {
   "cell_type": "code",
   "execution_count": 65,
   "id": "80c0308a-5574-4853-ba34-bebb7165918a",
   "metadata": {},
   "outputs": [],
   "source": [
    "\n",
    "position_mask_series = ~json_stats_df.configData_playerData_startPosition_x.isnull()\n",
    "position_mask_series &= ~json_stats_df.configData_playerData_startPosition_z.isnull()\n",
    "prefix_str = 'configData_playerData_startPosition_'\n",
    "xyz_list = ['x', 'y', 'z']\n",
    "position_columns = on_columns + [f'{prefix_str}{d}' for d in xyz_list]\n",
    "assert set(position_columns).issubset(set(json_stats_df.columns)), \"You've got the wrong position columns\"\n",
    "prefix_str = 'configData_playerData_startP'\n",
    "right_df = json_stats_df[position_mask_series][position_columns].rename(\n",
    "    columns={cn: cn.replace(prefix_str, 'p') for cn in position_columns if cn.startswith(prefix_str)}\n",
    ")\n",
    "\n",
    "location_mask_series = ~csv_stats_df.player_location_location.isnull()\n",
    "location_columns = on_columns + ['player_location_location']\n",
    "assert set(location_columns).issubset(set(csv_stats_df.columns)), \"You've got the wrong location columns\"\n",
    "left_df = csv_stats_df[location_mask_series][location_columns]\n",
    "for i, d in enumerate(xyz_list):\n",
    "    left_df[f'location_{d}'] = left_df.player_location_location.map(lambda coord_str: eval(coord_str)[i])\n",
    "left_df = left_df.drop(columns=['player_location_location'])"
   ]
  },
  {
   "cell_type": "code",
   "execution_count": 27,
   "id": "315660a3-e9ea-4e64-9924-cc19bbf4afe6",
   "metadata": {},
   "outputs": [],
   "source": [
    "\n",
    "def get_action_tick_by_position(csv_stats_df, json_stats_df, participant_id, session_uuid, include_y=False):\n",
    "    on_columns = ['participant_id', 'session_uuid']\n",
    "    \n",
    "    location_columns = on_columns + ['player_location_location']\n",
    "    assert set(location_columns).issubset(\n",
    "        set(csv_stats_df.columns)\n",
    "    ), f\"csv_stats_df is missing these columns: {set(location_columns).difference(set(csv_stats_df.columns))}\"\n",
    "    location_mask_series = ~csv_stats_df.player_location_location.isnull()\n",
    "    assert location_mask_series.any(), f\"You don't have any player location data in csv_stats_df\"\n",
    "    location_session_mask = (csv_stats_df.participant_id == participant_id) & (csv_stats_df.session_uuid == session_uuid)\n",
    "    assert location_session_mask.any(), f\"You don't have any CSV data for participant #{participant_id} session #{session_uuid}\"\n",
    "    location_mask_series &= location_session_mask\n",
    "    assert location_mask_series.any(), f\"You don't have any player location data for participant #{participant_id} session #{session_uuid}\"\n",
    "    \n",
    "    prefix_str = 'configData_playerData_startPosition_'\n",
    "    if include_y:\n",
    "        xyz_list = ['x', 'y', 'z']\n",
    "    else:\n",
    "        xyz_list = ['x', 'z']\n",
    "    position_columns = on_columns + [f'{prefix_str}{d}' for d in xyz_list]\n",
    "    assert set(position_columns).issubset(\n",
    "        set(json_stats_df.columns)\n",
    "    ), f\"json_stats_df is missing these columns: {set(position_columns).difference(set(json_stats_df.columns))}\"\n",
    "    position_session_mask = (json_stats_df.participant_id == participant_id) & (json_stats_df.session_uuid == session_uuid)\n",
    "    assert position_session_mask.any(), f\"You don't have any JSON data for participant #{participant_id} session #{session_uuid}\"\n",
    "    \n",
    "    position_mask_series = False\n",
    "    position_mask_series |= json_stats_df.configData_narrative_narrativeSections11_teleportPointsToActivate.isin(['Freeform'])\n",
    "    position_mask_series |= json_stats_df.configData_narrative_narrativeSections12_teleportPointsToActivate.isin(['Freeform'])\n",
    "    position_mask_series |= json_stats_df.configData_narrative_narrativeSections13_teleportPointsToActivate.isin(['Freeform'])\n",
    "    position_x = json_stats_df[position_mask_series].configData_playerData_startPosition_x.squeeze()\n",
    "    if include_y:\n",
    "        position_y = json_stats_df[position_mask_series].configData_playerData_startPosition_y.squeeze()\n",
    "    position_z = json_stats_df[position_mask_series].configData_playerData_startPosition_z.squeeze()\n",
    "    if include_y:\n",
    "        base_point = (position_x, position_y, position_z)\n",
    "    else:\n",
    "        base_point = (position_x, position_z)\n",
    "    \n",
    "    left_df = csv_stats_df[location_mask_series][location_columns]\n",
    "    for i, d in enumerate(xyz_list):\n",
    "        left_df[f'location_{d}'] = left_df.player_location_location.map(lambda coord_str: eval(coord_str)[i])\n",
    "    left_df = left_df.drop(columns=['player_location_location'])"
   ]
  },
  {
   "cell_type": "code",
   "execution_count": 102,
   "id": "5a3922ee-75a0-458f-ade0-b3687da15011",
   "metadata": {},
   "outputs": [],
   "source": [
    "\n",
    "right_gb = right_df.groupby(on_columns)\n",
    "left_gb = left_df.groupby(on_columns)\n",
    "tuples_list = sorted(set(right_gb.groups.keys()).intersection(set(left_gb.groups.keys())))\n",
    "location_groupby_columns = [f'location_{d}' for d in xyz_list]\n",
    "rows_list = []\n",
    "for key_tuple in tuples_list:\n",
    "    position_mask_series = (right_df.participant_id == key_tuple[0]) & (right_df.session_uuid == key_tuple[1])\n",
    "    position_x = right_df[position_mask_series].position_x.squeeze()\n",
    "    position_y = right_df[position_mask_series].position_y.squeeze()\n",
    "    position_z = right_df[position_mask_series].position_z.squeeze()\n",
    "    # display(right_df[position_mask_series].drop_duplicates())\n",
    "    base_point = (position_x, position_y, position_z)\n",
    "    \n",
    "    location_mask_series = (left_df.participant_id == key_tuple[0]) & (left_df.session_uuid == key_tuple[1])\n",
    "    neighbors_list = [(x, y, z) for (x, y, z), _ in left_df[location_mask_series].groupby(location_groupby_columns)]\n",
    "    nearest_neighbor = nu.get_nearest_neighbor(base_point, neighbors_list)\n",
    "    euclidean_distance = nu.get_euclidean_distance(base_point, nearest_neighbor)\n",
    "    row_dict = {\n",
    "        'base_point': base_point,\n",
    "        'nearest_neighbor': nearest_neighbor,\n",
    "        'euclidean_distance': euclidean_distance,\n",
    "    }\n",
    "    base_point = (position_x, position_z)\n",
    "    neighbors_list = [(x, z) for (x, y, z), _ in left_df[location_mask_series].groupby(location_groupby_columns)]\n",
    "    nearest_neighbor = nu.get_nearest_neighbor(base_point, neighbors_list)\n",
    "    euclidean_distance = nu.get_euclidean_distance(base_point, nearest_neighbor)\n",
    "    row_dict['euclidean_distance_xz'] = euclidean_distance\n",
    "    rows_list.append(row_dict)\n",
    "euclidean_distance_df = DataFrame(rows_list)"
   ]
  },
  {
   "cell_type": "code",
   "execution_count": 29,
   "id": "163ee110-4921-474e-884b-907bd36007c1",
   "metadata": {},
   "outputs": [
    {
     "name": "stdout",
     "output_type": "stream",
     "text": [
      "No pickle exists for csv_stats_df - attempting to load /mnt/c/Users/DaveBabbitt/Documents/GitHub/itm-analysis-reporting/saves/csv/csv_stats_df.csv.\n",
      "(199476, 124)\n",
      "['participant_id']\n"
     ]
    }
   ],
   "source": [
    "\n",
    "# load data frames\n",
    "data_frames_dict = nu.load_data_frames(\n",
    "    verbose=True, csv_stats_df=''\n",
    ")\n",
    "csv_stats_df = data_frames_dict['csv_stats_df'].copy()\n",
    "print(csv_stats_df.shape)\n",
    "print(sorted([cn for cn in csv_stats_df.columns if 'partici' in cn]))"
   ]
  },
  {
   "cell_type": "code",
   "execution_count": 30,
   "id": "344089d8-edea-4cf9-94dc-dfd59cfb7fd3",
   "metadata": {},
   "outputs": [
    {
     "data": {
      "text/html": [
       "<div>\n",
       "<style scoped>\n",
       "    .dataframe tbody tr th:only-of-type {\n",
       "        vertical-align: middle;\n",
       "    }\n",
       "\n",
       "    .dataframe tbody tr th {\n",
       "        vertical-align: top;\n",
       "    }\n",
       "\n",
       "    .dataframe thead th {\n",
       "        text-align: right;\n",
       "    }\n",
       "</style>\n",
       "<table border=\"1\" class=\"dataframe\">\n",
       "  <thead>\n",
       "    <tr style=\"text-align: right;\">\n",
       "      <th></th>\n",
       "      <th>configData_narrative_narrativeSections00_sectionDescription</th>\n",
       "      <th>configData_playerData_startPosition_x</th>\n",
       "      <th>configData_playerData_startPosition_z</th>\n",
       "    </tr>\n",
       "  </thead>\n",
       "  <tbody>\n",
       "    <tr>\n",
       "      <th>8</th>\n",
       "      <td>Initialization</td>\n",
       "      <td>-21.73</td>\n",
       "      <td>-4.0</td>\n",
       "    </tr>\n",
       "  </tbody>\n",
       "</table>\n",
       "</div>"
      ],
      "text/plain": [
       "  configData_narrative_narrativeSections00_sectionDescription  \\\n",
       "8                                     Initialization            \n",
       "\n",
       "   configData_playerData_startPosition_x  \\\n",
       "8                                 -21.73   \n",
       "\n",
       "   configData_playerData_startPosition_z  \n",
       "8                                   -4.0  "
      ]
     },
     "metadata": {},
     "output_type": "display_data"
    },
    {
     "name": "stdout",
     "output_type": "stream",
     "text": [
      "None\n"
     ]
    }
   ],
   "source": [
    "\n",
    "mask_series = False\n",
    "mask_series |= json_stats_df.configData_narrative_narrativeSections11_teleportPointsToActivate.isin(['Freeform'])\n",
    "mask_series |= json_stats_df.configData_narrative_narrativeSections12_teleportPointsToActivate.isin(['Freeform'])\n",
    "mask_series |= json_stats_df.configData_narrative_narrativeSections13_teleportPointsToActivate.isin(['Freeform'])\n",
    "columns_list = [\n",
    "    'configData_narrative_narrativeSections00_sectionDescription', 'configData_playerData_startPosition_x',\n",
    "    'configData_playerData_startPosition_z'\n",
    "]\n",
    "for (participant_id, session_uuid), session_df in json_stats_df[mask_series].groupby(['participant_id', 'session_uuid']):\n",
    "    display(session_df[columns_list].drop_duplicates())\n",
    "    print(get_action_tick_by_position(csv_stats_df, json_stats_df, participant_id, session_uuid, include_y=False))\n",
    "    break"
   ]
  },
  {
   "cell_type": "code",
   "execution_count": 21,
   "id": "643e6692-8bf0-4981-ab19-8fb68910a7e2",
   "metadata": {},
   "outputs": [],
   "source": [
    "\n",
    "# [cn for cn in df.columns if 'position' in cn.lower()]\n",
    "mask_series = (df.configData_narrative_narrativeSections00_sectionDescription == 'Initialization')\n",
    "# df.configData_scene.unique() == ['sim-urban-sanitized', 'sim-desert', 'sim-jungle']\n",
    "df = df[mask_series].drop_duplicates()"
   ]
  },
  {
   "cell_type": "code",
   "execution_count": 22,
   "id": "353b60be-fa98-49dd-af29-1c2d39e48bd2",
   "metadata": {},
   "outputs": [
    {
     "name": "stdout",
     "output_type": "stream",
     "text": [
      "Dropped 254 JSON columns with zero variance\n",
      "Dropped 564 JSON columns with fewer than two unique values\n"
     ]
    }
   ],
   "source": [
    "\n",
    "# Calculate the standard deviation for each column\n",
    "std_dev = df.std()\n",
    "\n",
    "# Get the indices of columns with zero variance\n",
    "zero_variance_cols = std_dev[std_dev == 0].index\n",
    "\n",
    "# Remove columns with zero variance\n",
    "column_count = df.shape[1]\n",
    "df.drop(columns=zero_variance_cols, inplace=True)\n",
    "print(f\"Dropped {int(column_count - df.shape[1])} JSON columns with zero variance\")\n",
    "\n",
    "# Assess the number of unique values (excluding NaNs) in each column\n",
    "unique_values = df.nunique(dropna=True)\n",
    "\n",
    "# Isolate the indices of columns with fewer than two unique values\n",
    "few_unique_cols = unique_values[unique_values < 2].index\n",
    "\n",
    "# Remove columns with fewer than two unique values\n",
    "column_count = df.shape[1]\n",
    "df.drop(columns=few_unique_cols, inplace=True)\n",
    "print(f\"Dropped {int(column_count - df.shape[1])} JSON columns with fewer than two unique values\")"
   ]
  },
  {
   "cell_type": "code",
   "execution_count": null,
   "id": "36c21739-96ac-4520-a2cb-0dc269dfe332",
   "metadata": {},
   "outputs": [],
   "source": [
    "\n",
    "df"
   ]
  },
  {
   "cell_type": "code",
   "execution_count": 39,
   "id": "c468a729-233e-4987-b508-b5ca7cd71bd1",
   "metadata": {},
   "outputs": [
    {
     "name": "stdout",
     "output_type": "stream",
     "text": [
      "configData_narrative_narrativeSections11_teleportPointsToActivate\n",
      "configData_narrative_narrativeSections12_teleportPointsToActivate\n",
      "configData_narrative_narrativeSections13_teleportPointsToActivate\n",
      "configData_narrative_narrativeSections14_narratorRadioAudio_audioClip\n",
      "configData_narrative_narrativeSections14_sectionDescription\n",
      "configData_narrative_narrativeSections14_teleportPointsToActivate\n",
      "configData_narrative_narrativeSections15_teleportPointsToActivate\n"
     ]
    }
   ],
   "source": [
    "\n",
    "free_regex = re.compile('free', re.IGNORECASE)\n",
    "free_columns = sorted(nu.get_regexed_columns(json_stats_df, search_regex=free_regex))\n",
    "if len(free_columns) > 2:\n",
    "    for column_name in sorted(free_columns):\n",
    "        print(column_name)\n",
    "else:\n",
    "    display(json_stats_df[free_columns].drop_duplicates())"
   ]
  },
  {
   "cell_type": "code",
   "execution_count": null,
   "id": "4621535c-bd1b-4850-ab92-9421eaa266e4",
   "metadata": {},
   "outputs": [],
   "source": [
    "\n",
    "adept_regex = re.compile('adept', re.IGNORECASE)\n",
    "adept_columns = sorted(nu.get_regexed_columns(json_stats_df, search_regex=adept_regex))\n",
    "if len(adept_columns) > 2:\n",
    "    for column_name in sorted(adept_columns):\n",
    "        print(column_name)\n",
    "else:\n",
    "    display(json_stats_df[adept_columns].drop_duplicates())"
   ]
  },
  {
   "cell_type": "code",
   "execution_count": null,
   "id": "03446ff9-e84d-4ee2-bb84-081bfcd85a5e",
   "metadata": {},
   "outputs": [],
   "source": [
    "\n",
    "soartech_regex = re.compile('soartech', re.IGNORECASE)\n",
    "soartech_columns = sorted(nu.get_regexed_columns(json_stats_df, search_regex=soartech_regex))\n",
    "if len(soartech_columns) > 2:\n",
    "    for column_name in sorted(soartech_columns):\n",
    "        print(column_name)\n",
    "else:\n",
    "    display(json_stats_df[soartech_columns].drop_duplicates())"
   ]
  },
  {
   "cell_type": "code",
   "execution_count": null,
   "id": "f155c18c-b283-4d3e-866f-cc0b1e98a394",
   "metadata": {},
   "outputs": [],
   "source": [
    "\n",
    "for column_name in sorted(set(adept_columns).intersection(set(soartech_columns))):\n",
    "    print(column_name)"
   ]
  },
  {
   "cell_type": "code",
   "execution_count": null,
   "id": "95df0cbe-0b3d-4a19-a263-214f0ecd4b89",
   "metadata": {},
   "outputs": [],
   "source": [
    "\n",
    "for i in range(14):\n",
    "    column_name = f'configData_narrative_narrativeSections{i:02d}_sectionDescription'\n",
    "    if column_name in json_stats_df:\n",
    "        mask_series = ~json_stats_df[column_name].isnull()\n",
    "        print(column_name, sorted(json_stats_df[mask_series][column_name].unique()))"
   ]
  },
  {
   "cell_type": "code",
   "execution_count": null,
   "id": "a336269d-60a0-43f3-b941-68d8f3d30db4",
   "metadata": {},
   "outputs": [],
   "source": [
    "\n",
    "for column_name in sorted([cn for cn in json_stats_df.columns if any(map(lambda x: x in cn.lower(), ['start', 'intro', 'free', 'form']))]):\n",
    "    print(column_name)"
   ]
  },
  {
   "cell_type": "code",
   "execution_count": null,
   "id": "2b273c68-c035-45a1-8c79-e230c8aaba8f",
   "metadata": {},
   "outputs": [],
   "source": [
    "\n",
    "for column_name in sorted([cn for cn in json_stats_df.columns if any(map(lambda x: x in cn.lower(), ['position']))]):\n",
    "    print(column_name)"
   ]
  },
  {
   "cell_type": "code",
   "execution_count": 52,
   "id": "1dae7ebc-c03c-42d7-8b43-57a8158faa28",
   "metadata": {},
   "outputs": [
    {
     "data": {
      "text/plain": [
       "['bag_access_location', 'bag_closed_location', 'injury_record_injury_injury_locator', 'injury_treated_injury_injury_locator', 'patient_demoted_position', 'patient_engaged_position', 'patient_record_position', 'player_gaze_location', 'player_location_location', 's_a_l_t_walk_if_can_sort_location', 's_a_l_t_walked_sort_location', 's_a_l_t_wave_if_can_sort_location', 's_a_l_t_waved_sort_location', 'tag_discarded_location', 'teleport_location', 'tool_discarded_location', 'triage_level_walked_location']"
      ]
     },
     "execution_count": 52,
     "metadata": {},
     "output_type": "execute_result"
    }
   ],
   "source": [
    "\n",
    "sorted(fu.location_id_columns_list)"
   ]
  },
  {
   "cell_type": "code",
   "execution_count": 50,
   "id": "92d3cf81-55a3-437c-91fe-1f010ff31e1f",
   "metadata": {},
   "outputs": [
    {
     "name": "stdout",
     "output_type": "stream",
     "text": [
      "No pickle exists for metrics_evaluation_open_world_csv_stats_df - attempting to load /mnt/c/Users/DaveBabbitt/Documents/GitHub/itm-analysis-reporting/saves/csv/metrics_evaluation_open_world_csv_stats_df.csv.\n"
     ]
    }
   ],
   "source": [
    "\n",
    "# load data frames\n",
    "data_frames_dict = nu.load_data_frames(\n",
    "    verbose=True, metrics_evaluation_open_world_csv_stats_df=''\n",
    ")\n",
    "csv_stats_df = data_frames_dict['metrics_evaluation_open_world_csv_stats_df'].copy()"
   ]
  },
  {
   "cell_type": "code",
   "execution_count": 51,
   "id": "bb60c669-b278-491a-a2ab-0931c8409442",
   "metadata": {},
   "outputs": [
    {
     "name": "stdout",
     "output_type": "stream",
     "text": [
      "bag_access_location\n",
      "bag_closed_location\n",
      "injury_record_injury_injury_locator\n",
      "injury_treated_injury_injury_locator\n",
      "location_id\n",
      "patient_demoted_position\n",
      "patient_engaged_position\n",
      "patient_record_position\n",
      "player_gaze_direction_of_gaze\n",
      "player_gaze_location\n",
      "player_location_left_hand_location\n",
      "player_location_location\n",
      "player_location_right_hand_location\n",
      "tag_discarded_location\n",
      "teleport_location\n",
      "tool_discarded_location\n",
      "triage_level_walk_if_can_location\n",
      "triage_level_walked_location\n",
      "triage_level_wave_if_can_location\n",
      "triage_level_waved_location\n"
     ]
    }
   ],
   "source": [
    "\n",
    "location_regex = re.compile(r'\\((?:-?\\d{1,2}\\.\\d, ){2}-?\\d{1,2}\\.\\d\\)')\n",
    "location_columns = sorted(nu.get_regexed_columns(csv_stats_df, search_regex=location_regex))\n",
    "if len(location_columns) > 2:\n",
    "    for column_name in sorted(location_columns):\n",
    "        print(column_name)\n",
    "elif len(location_columns):\n",
    "    display(json_stats_df[location_columns].drop_duplicates())"
   ]
  },
  {
   "cell_type": "code",
   "execution_count": 53,
   "id": "fcae1ee4-5a99-404f-b020-40af27405997",
   "metadata": {},
   "outputs": [
    {
     "name": "stdout",
     "output_type": "stream",
     "text": [
      "['participant_id', 'session_uuid']\n"
     ]
    }
   ],
   "source": [
    "\n",
    "# Columns to merge the JSON stats dataset with the CSV stats on\n",
    "on_columns = sorted(set(csv_stats_df.columns).intersection(set(json_stats_df.columns)))\n",
    "print(on_columns)"
   ]
  },
  {
   "cell_type": "code",
   "execution_count": 66,
   "id": "58c36063-6b97-4f1f-ad4b-55994d50158d",
   "metadata": {},
   "outputs": [
    {
     "data": {
      "text/plain": [
       "[0.0]"
      ]
     },
     "execution_count": 66,
     "metadata": {},
     "output_type": "execute_result"
    }
   ],
   "source": [
    "\n",
    "sorted(right_df.position_y.unique())"
   ]
  },
  {
   "cell_type": "code",
   "execution_count": 67,
   "id": "d2c697e2-f641-47dc-911e-d4d08fc31aa5",
   "metadata": {},
   "outputs": [
    {
     "data": {
      "text/plain": [
       "[0.0, 0.4, 0.5, 0.6, 0.7, 0.8, 0.9, 1.0, 1.1, 1.2, 1.3, 1.4, 1.5, 1.6, 1.7, 1.8, 1.9, 2.0, 2.1, 2.3, 2.4, 2.5, 2.6, 2.8, 2.9, 3.0, 3.2, 3.3, 3.4, 3.5, 4.5, 8.5, 8.6, 8.7, 8.8, 8.9, 9.0, 9.1, 9.2, 9.3, 9.4, 9.5, 9.6, 9.7, 9.8, 9.9]"
      ]
     },
     "execution_count": 67,
     "metadata": {},
     "output_type": "execute_result"
    }
   ],
   "source": [
    "\n",
    "sorted(left_df.location_y.unique())"
   ]
  },
  {
   "cell_type": "code",
   "execution_count": 103,
   "id": "69b54117-692b-40e9-b746-3b8b7642b1a4",
   "metadata": {},
   "outputs": [
    {
     "data": {
      "image/png": "[encoded data removed]",
      "text/plain": [
       "<Figure size 900x900 with 1 Axes>"
      ]
     },
     "metadata": {},
     "output_type": "display_data"
    }
   ],
   "source": [
    "\n",
    "import seaborn as sns\n",
    "import matplotlib.pyplot as plt\n",
    "\n",
    "# Create a figure and subplots\n",
    "fig, ax = plt.subplots(1, 1, figsize=(9, 9))\n",
    "\n",
    "# Create a box plot of all the columns\n",
    "columns_list = ['euclidean_distance_xz']\n",
    "sns.boxplot(euclidean_distance_df[columns_list], ax=ax)\n",
    "\n",
    "# Label the y-axis\n",
    "ax.set_ylabel('Nearest Horizontal Distance (Euclidean)')\n",
    "\n",
    "plt.show()"
   ]
  },
  {
   "cell_type": "code",
   "execution_count": 104,
   "id": "70ca2478-9c30-4f02-a765-00ce983a6531",
   "metadata": {},
   "outputs": [
    {
     "data": {
      "image/png": "[encoded data removed]",
      "text/plain": [
       "<Figure size 900x900 with 1 Axes>"
      ]
     },
     "metadata": {},
     "output_type": "display_data"
    }
   ],
   "source": [
    "\n",
    "# Create a figure and subplots\n",
    "fig, ax = plt.subplots(1, 1, figsize=(9, 9))\n",
    "\n",
    "# Create a box plot of all the columns\n",
    "mask_series = (euclidean_distance_df.euclidean_distance_xz < 20)\n",
    "columns_list = ['euclidean_distance_xz']\n",
    "sns.boxplot(euclidean_distance_df[mask_series][columns_list], ax=ax)\n",
    "\n",
    "# Label the y-axis\n",
    "ax.set_ylabel('Nearest Horizontal Distance (Euclidean)')\n",
    "\n",
    "plt.show()"
   ]
  },
  {
   "cell_type": "code",
   "execution_count": 105,
   "id": "b45ab37c-b909-4a2f-9e20-165a4ccbb229",
   "metadata": {},
   "outputs": [
    {
     "data": {
      "text/html": [
       "<div>\n",
       "<style scoped>\n",
       "    .dataframe tbody tr th:only-of-type {\n",
       "        vertical-align: middle;\n",
       "    }\n",
       "\n",
       "    .dataframe tbody tr th {\n",
       "        vertical-align: top;\n",
       "    }\n",
       "\n",
       "    .dataframe thead th {\n",
       "        text-align: right;\n",
       "    }\n",
       "</style>\n",
       "<table border=\"1\" class=\"dataframe\">\n",
       "  <thead>\n",
       "    <tr style=\"text-align: right;\">\n",
       "      <th></th>\n",
       "      <th>base_point</th>\n",
       "      <th>nearest_neighbor</th>\n",
       "      <th>euclidean_distance</th>\n",
       "      <th>euclidean_distance_xz</th>\n",
       "    </tr>\n",
       "  </thead>\n",
       "  <tbody>\n",
       "    <tr>\n",
       "      <th>0</th>\n",
       "      <td>(-21.729999542236328, 0.0, -4.0)</td>\n",
       "      <td>(2.0, 1.7, 1.4)</td>\n",
       "      <td>24.395960</td>\n",
       "      <td>24.336657</td>\n",
       "    </tr>\n",
       "    <tr>\n",
       "      <th>6</th>\n",
       "      <td>(-0.23199999332427979, 0.0, -0.05299999937415123)</td>\n",
       "      <td>(1.8, 1.7, 1.2)</td>\n",
       "      <td>2.930705</td>\n",
       "      <td>2.387265</td>\n",
       "    </tr>\n",
       "    <tr>\n",
       "      <th>43</th>\n",
       "      <td>(0.0, 0.0, 0.0)</td>\n",
       "      <td>(0.2, 1.5, 1.1)</td>\n",
       "      <td>1.870829</td>\n",
       "      <td>1.118034</td>\n",
       "    </tr>\n",
       "    <tr>\n",
       "      <th>22</th>\n",
       "      <td>(-21.729999542236328, 0.0, -4.0)</td>\n",
       "      <td>(-22.2, 1.4, -3.3)</td>\n",
       "      <td>1.634289</td>\n",
       "      <td>0.843149</td>\n",
       "    </tr>\n",
       "    <tr>\n",
       "      <th>34</th>\n",
       "      <td>(-0.23199999332427979, 0.0, -0.05299999937415123)</td>\n",
       "      <td>(0.7, 1.5, -0.1)</td>\n",
       "      <td>1.766588</td>\n",
       "      <td>0.772550</td>\n",
       "    </tr>\n",
       "  </tbody>\n",
       "</table>\n",
       "</div>"
      ],
      "text/plain": [
       "                                           base_point    nearest_neighbor  \\\n",
       "0                    (-21.729999542236328, 0.0, -4.0)     (2.0, 1.7, 1.4)   \n",
       "6   (-0.23199999332427979, 0.0, -0.05299999937415123)     (1.8, 1.7, 1.2)   \n",
       "43                                    (0.0, 0.0, 0.0)     (0.2, 1.5, 1.1)   \n",
       "22                   (-21.729999542236328, 0.0, -4.0)  (-22.2, 1.4, -3.3)   \n",
       "34  (-0.23199999332427979, 0.0, -0.05299999937415123)    (0.7, 1.5, -0.1)   \n",
       "\n",
       "    euclidean_distance  euclidean_distance_xz  \n",
       "0            24.395960              24.336657  \n",
       "6             2.930705               2.387265  \n",
       "43            1.870829               1.118034  \n",
       "22            1.634289               0.843149  \n",
       "34            1.766588               0.772550  "
      ]
     },
     "execution_count": 105,
     "metadata": {},
     "output_type": "execute_result"
    }
   ],
   "source": [
    "\n",
    "euclidean_distance_df.sort_values('euclidean_distance_xz', ascending=False).head()"
   ]
  }
 ],
 "metadata": {
  "kernelspec": {
   "display_name": "ITM Analysis Reporting (Python 3.11.7)",
   "language": "python",
   "name": "itm_analysis_reporting"
  },
  "language_info": {
   "codemirror_mode": {
    "name": "ipython",
    "version": 3
   },
   "file_extension": ".py",
   "mimetype": "text/x-python",
   "name": "python",
   "nbconvert_exporter": "python",
   "pygments_lexer": "ipython3",
   "version": "3.7.12"
  }
 },
 "nbformat": 4,
 "nbformat_minor": 5
}

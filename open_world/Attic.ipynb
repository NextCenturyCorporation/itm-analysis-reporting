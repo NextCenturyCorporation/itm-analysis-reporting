{
 "cells": [
  {
   "cell_type": "code",
   "execution_count": null,
   "id": "35951c40-5f47-4bc4-8f21-474de5321a4f",
   "metadata": {},
   "outputs": [],
   "source": []
  },
  {
   "cell_type": "code",
   "execution_count": 15,
   "id": "ec075ff3-813d-4292-a055-6e89370fc7ef",
   "metadata": {},
   "outputs": [
    {
     "name": "stdout",
     "output_type": "stream",
     "text": [
      "['4bc46c8c-66e7-463d-b3a1-2a8303af4fd1_2024203.csv', '5d94f0d4-a1b1-4d18-8a62-591e196006a9_2024219.csv', '6666ee6b-863b-49d1-8097-97e6aa4fb39d_2024221.csv', '6db9446c-2cd4-41b4-be8d-be5ccbbc6e05_2024217.csv', '84c92e21-764b-435b-9e55-0f12f60383fc_2024227.csv', 'c9a8dc60-f61d-44bb-bcb5-6e2466f3c9a0_2024223.csv', 'cbbf410f-4657-428e-9616-8a777cc4704d_2024204.csv', 'ddfb4e6e-f7c3-4321-89df-b6208f336318_2024205.csv']\n"
     ]
    }
   ],
   "source": [
    "\n",
    "mask_series = first_occurence_df.first_teleport_time.isnull()\n",
    "df = first_occurence_df[mask_series]\n",
    "print(sorted(df.csv_file_name))"
   ]
  },
  {
   "cell_type": "code",
   "execution_count": 16,
   "id": "15058294-fd9f-4665-8208-ff38f072a7b9",
   "metadata": {},
   "outputs": [],
   "source": [
    "\n",
    "csv_file_name = '4bc46c8c-66e7-463d-b3a1-2a8303af4fd1_2024203.csv'\n",
    "mask_series = csv_stats_df.csv_file_name.isin([csv_file_name])\n",
    "csv_file_name_df = csv_stats_df[mask_series]\n",
    "\n",
    "# Get the CACI patients mask\n",
    "patients_mask_series = csv_file_name_df.patient_id.isin(patients_set)\n",
    "\n",
    "# Get the interaction with the FIRST patient in the freeform scenario\n",
    "mask_series = csv_file_name_df.action_type.isin(fu.responder_negotiations_list + ['PATIENT_ENGAGED']) & patients_mask_series\n",
    "if mask_series.any():\n",
    "    first_patient_interaction = csv_file_name_df[mask_series].action_tick.min()\n",
    "    print(first_patient_interaction) # 93436\n",
    "    \n",
    "    # Get first teleport time\n",
    "    mask_series = (csv_file_name_df.action_tick <= first_patient_interaction) & csv_file_name_df.action_type.isin(['TELEPORT'])\n",
    "    if mask_series.any():\n",
    "        first_teleport_time = csv_file_name_df[mask_series].action_tick.max()\n",
    "        print(first_teleport_time) # 89975"
   ]
  },
  {
   "cell_type": "code",
   "execution_count": 55,
   "id": "7ce6dfc6-ad64-4f81-817d-a27880e6f5dc",
   "metadata": {},
   "outputs": [
    {
     "name": "stdout",
     "output_type": "stream",
     "text": [
      ",(Marine 1 Male|Marine 3 Male|Navy Soldier 2 Male|Marine 4 Male|Open World Marine 2 Female|Open World Marine 2 Male|Navy Soldier 4 Female|Navy Soldier 3 Male|Open World Civilian 1 Male|Navy Soldier 1 Male|Open World Marine 1 Male|Open World Marine 1 Female|Open World Civilian 2 Female|Open World Marine 4 Male|Civilian 1 Female|Marine 2 Male|Open World Marine 3 Male)( Root)?\n"
     ]
    }
   ],
   "source": [
    "\n",
    "print(',(' + '|'.join(patients_set) + ')( Root)?')"
   ]
  },
  {
   "cell_type": "code",
   "execution_count": null,
   "id": "e945f968-f18f-4ae3-b073-06bbe69062e4",
   "metadata": {},
   "outputs": [],
   "source": [
    "\n",
    "    \n",
    "    # Get the bag close/teleport time before that\n",
    "    mask_series = session_df.action_type.isin(['TELEPORT', 'BAG_CLOSED'])\n",
    "    if mask_series.any():\n",
    "        df = session_df[mask_series]\n",
    "            first_teleport_df = df[mask_series]\n",
    "            mask_series = \n",
    "            if mask_series.any():\n",
    "                # teleport_ticks = sorted(first_teleport_df[mask_series].action_tick)\n",
    "                # mask_series = first_teleport_df.action_type.isin(['BAG_CLOSED'])\n",
    "                # if mask_series.any():\n",
    "                #     bag_closed_ticks = sorted(first_teleport_df[mask_series].action_tick)\n",
    "                #     max_simultaneity = max(set(bag_closed_ticks).intersection(set(teleport_ticks)))\n",
    "                #     row_dict['first_teleport_time'] = max_simultaneity"
   ]
  },
  {
   "cell_type": "code",
   "execution_count": 27,
   "id": "6f6a398a-522f-4b1f-a75a-528f6ecc5ca5",
   "metadata": {},
   "outputs": [
    {
     "data": {
      "text/plain": [
       "['AppliedBloodIV', 'AppliedBurnDressing', 'AppliedDecompNeedle', 'AppliedDressingGauze', 'AppliedPackingGauze', 'AppliedPainMeds', 'AppliedSalineIV', 'AppliedSplint', 'AppliedTourniquet', 'AppliedTrumpet', 'ApplyPulseOximeter']"
      ]
     },
     "execution_count": 27,
     "metadata": {},
     "output_type": "execute_result"
    }
   ],
   "source": [
    "\n",
    "cn = 'tool_applied_attach_message'\n",
    "mask_series = ~csv_stats_df[cn].isnull()\n",
    "sorted(csv_stats_df[mask_series][cn].unique())"
   ]
  },
  {
   "cell_type": "code",
   "execution_count": 28,
   "id": "161cdc43-a390-4159-8e22-fefc54da3772",
   "metadata": {},
   "outputs": [
    {
     "data": {
      "text/plain": [
       "['Bag_Body (UnityEngine.GameObject)', 'BodyCollider (UnityEngine.GameObject)', 'Burn Dressing Icon (UnityEngine.GameObject)', 'Gauze_Icon (UnityEngine.GameObject)', 'Ground (UnityEngine.GameObject)', 'House_09(Clone) (UnityEngine.GameObject)', 'IV Blood Bag Icon (UnityEngine.GameObject)', 'Jaw (UnityEngine.GameObject)', 'LChest_Breathe1 (UnityEngine.GameObject)', 'LeftArm (UnityEngine.GameObject)', 'LeftForeArm (UnityEngine.GameObject)', 'LeftLeg (UnityEngine.GameObject)', 'LeftToeBase (UnityEngine.GameObject)', 'LeftUpLeg (UnityEngine.GameObject)', 'Orange_tag(Clone) (UnityEngine.GameObject)', 'PulseOximeterAttachPoint (UnityEngine.GameObject)', 'RChest_Breathe1 (UnityEngine.GameObject)', 'Red_tag(Clone) (UnityEngine.GameObject)', 'Red_tag_SALT_TCCC (UnityEngine.GameObject)', 'RightArm (UnityEngine.GameObject)', 'RightForeArm (UnityEngine.GameObject)', 'RightLeg (UnityEngine.GameObject)', 'RightToeBase (UnityEngine.GameObject)', 'RightUpLeg (UnityEngine.GameObject)', 'SM_Stairs2_LOD1 (UnityEngine.GameObject)', 'SM_Stairs2_LOD3 (UnityEngine.GameObject)', 'Sidewalk_01 (63) (UnityEngine.GameObject)', 'Splint_Icon (UnityEngine.GameObject)', 'Tourniquet_Icon (UnityEngine.GameObject)', 'TriagKitRoot_Shaped (UnityEngine.GameObject)', 'hemostatic gauze and packet (UnityEngine.GameObject)', 'pool(Clone) (UnityEngine.GameObject)', 'skinCollider_BodyCollideLOD (UnityEngine.GameObject)', 'skinCollider_BodyGar_LOD (UnityEngine.GameObject)', 'skinCollider_BodyLOD (UnityEngine.GameObject)', 'skinCollider_BodyNudeLOD (UnityEngine.GameObject)', 'skinCollider_Body_LOD (UnityEngine.GameObject)', 'trumpet_full (UnityEngine.GameObject)', 'tubeGuide (UnityEngine.GameObject)']"
      ]
     },
     "execution_count": 28,
     "metadata": {},
     "output_type": "execute_result"
    }
   ],
   "source": [
    "\n",
    "cn = 'tool_applied_attachment_point'\n",
    "mask_series = ~csv_stats_df[cn].isnull()\n",
    "sorted(csv_stats_df[mask_series][cn].unique())"
   ]
  },
  {
   "cell_type": "code",
   "execution_count": 30,
   "id": "055ac7b4-9b32-4ceb-88cc-798c6a1ff6dd",
   "metadata": {},
   "outputs": [
    {
     "data": {
      "text/plain": [
       "['Burn_Dressing(Clone) (UnityEngine.GameObject)', 'Gauze_Dressing(Clone) (UnityEngine.GameObject)', 'Gauze_Pack(Clone) (UnityEngine.GameObject)', 'IV_Blood_Bag(Clone) (UnityEngine.GameObject)', 'IV_Saline_Bag(Clone) (UnityEngine.GameObject)', 'Naso_Airway(Clone) (UnityEngine.GameObject)', 'Needle_Decomp(Clone) (UnityEngine.GameObject)', 'Pulse_Oximeter(Clone) (UnityEngine.GameObject)', 'SAM_Splint(Clone) (UnityEngine.GameObject)', 'tourniquet(Clone) (UnityEngine.GameObject)']"
      ]
     },
     "execution_count": 30,
     "metadata": {},
     "output_type": "execute_result"
    }
   ],
   "source": [
    "\n",
    "cn = 'tool_applied_sender'\n",
    "mask_series = ~csv_stats_df[cn].isnull()\n",
    "sorted(csv_stats_df[mask_series][cn].unique())"
   ]
  },
  {
   "cell_type": "code",
   "execution_count": 31,
   "id": "50c680e8-7e57-4f2d-9c30-577f9f10bfd8",
   "metadata": {},
   "outputs": [
    {
     "data": {
      "text/plain": [
       "['Burn_Dressing(Clone) (UnityEngine.GameObject)', 'Gauze_Dressing(Clone) (UnityEngine.GameObject)', 'Gauze_Pack(Clone) (UnityEngine.GameObject)', 'IV_Blood_Bag(Clone) (UnityEngine.GameObject)', 'IV_Saline_Bag(Clone) (UnityEngine.GameObject)', 'LeftForeArm (UnityEngine.GameObject)', 'LeftToeBase (UnityEngine.GameObject)', 'Pulse_Oximeter (UnityEngine.GameObject)', 'RightForeArm (UnityEngine.GameObject)', 'RightToeBase (UnityEngine.GameObject)', 'cath_needle (UnityEngine.GameObject)', 'tor_ring (1) (UnityEngine.GameObject)', 'trumpet_container (UnityEngine.GameObject)']"
      ]
     },
     "execution_count": 31,
     "metadata": {},
     "output_type": "execute_result"
    }
   ],
   "source": [
    "\n",
    "cn = 'tool_applied_tool_location'\n",
    "mask_series = ~csv_stats_df[cn].isnull()\n",
    "sorted(csv_stats_df[mask_series][cn].unique())"
   ]
  },
  {
   "cell_type": "code",
   "execution_count": 32,
   "id": "e18a59e6-20b4-4da7-a1ae-999a19d84741",
   "metadata": {},
   "outputs": [
    {
     "data": {
      "text/plain": [
       "['Burn_Dressing', 'Gauze_Dressing', 'Gauze_Pack', 'IV_Blood', 'IV_Saline', 'Naso', 'Needle', 'Pain_Meds', 'Pulse_Oximeter', 'SAM_Splint', 'Tourniquet']"
      ]
     },
     "execution_count": 32,
     "metadata": {},
     "output_type": "execute_result"
    }
   ],
   "source": [
    "\n",
    "cn = 'tool_applied_type'\n",
    "mask_series = ~csv_stats_df[cn].isnull()\n",
    "sorted(csv_stats_df[mask_series][cn].unique())"
   ]
  },
  {
   "cell_type": "code",
   "execution_count": 34,
   "id": "8334c912-99d5-4436-812e-94aa81ed22e5",
   "metadata": {},
   "outputs": [
    {
     "data": {
      "text/plain": [
       "['Burn Dressing', 'Gauze', 'Hemostatic Gauze', 'IV Blood', 'IV Saline', 'Nasal Airway', 'Needle', 'Pain Meds', 'Pulse Oximeter', 'SAM Splint', 'Tourniquet']"
      ]
     },
     "execution_count": 34,
     "metadata": {},
     "output_type": "execute_result"
    }
   ],
   "source": [
    "\n",
    "cn = 'tool_hover_type'\n",
    "mask_series = ~csv_stats_df[cn].isnull()\n",
    "sorted(csv_stats_df[mask_series][cn].unique())"
   ]
  },
  {
   "cell_type": "code",
   "execution_count": 36,
   "id": "73caf2a0-145e-4301-a9bd-8c6699e18a31",
   "metadata": {},
   "outputs": [
    {
     "data": {
      "text/plain": [
       "['Burn Dressing', 'Gauze', 'Hemostatic Gauze', 'IV Blood', 'IV Saline', 'Nasal Airway', 'Needle', 'Pain Meds', 'Pulse Oximeter', 'SAM Splint', 'Tourniquet']"
      ]
     },
     "execution_count": 36,
     "metadata": {},
     "output_type": "execute_result"
    }
   ],
   "source": [
    "\n",
    "cn = 'tool_selected_type'\n",
    "mask_series = ~csv_stats_df[cn].isnull()\n",
    "sorted(csv_stats_df[mask_series][cn].unique())"
   ]
  },
  {
   "cell_type": "code",
   "execution_count": 37,
   "id": "611f530b-1591-4900-913c-80a79d5a0683",
   "metadata": {},
   "outputs": [
    {
     "data": {
      "text/plain": [
       "['Gauze_Dressing', 'Gauze_Pack', 'Nasal Airway', 'Naso', 'Needle', 'Tourniquet']"
      ]
     },
     "execution_count": 37,
     "metadata": {},
     "output_type": "execute_result"
    }
   ],
   "source": [
    "\n",
    "cn = 'tool_type'\n",
    "mask_series = ~csv_stats_df[cn].isnull()\n",
    "sorted(csv_stats_df[mask_series][cn].unique())"
   ]
  },
  {
   "cell_type": "code",
   "execution_count": 46,
   "id": "e0248b30-a3e5-41cc-a73d-bfd519fce270",
   "metadata": {},
   "outputs": [
    {
     "data": {
      "text/html": [
       "<div>\n",
       "<style scoped>\n",
       "    .dataframe tbody tr th:only-of-type {\n",
       "        vertical-align: middle;\n",
       "    }\n",
       "\n",
       "    .dataframe tbody tr th {\n",
       "        vertical-align: top;\n",
       "    }\n",
       "\n",
       "    .dataframe thead th {\n",
       "        text-align: right;\n",
       "    }\n",
       "</style>\n",
       "<table border=\"1\" class=\"dataframe\">\n",
       "  <thead>\n",
       "    <tr style=\"text-align: right;\">\n",
       "      <th></th>\n",
       "      <th>82202</th>\n",
       "      <th>107846</th>\n",
       "      <th>8861</th>\n",
       "      <th>123547</th>\n",
       "      <th>120815</th>\n",
       "      <th>131113</th>\n",
       "      <th>14761</th>\n",
       "      <th>196648</th>\n",
       "      <th>167898</th>\n",
       "      <th>22537</th>\n",
       "    </tr>\n",
       "  </thead>\n",
       "  <tbody>\n",
       "    <tr>\n",
       "      <th>tool_applied_attach_message</th>\n",
       "      <td>NaN</td>\n",
       "      <td>NaN</td>\n",
       "      <td>NaN</td>\n",
       "      <td>NaN</td>\n",
       "      <td>NaN</td>\n",
       "      <td>NaN</td>\n",
       "      <td>NaN</td>\n",
       "      <td>NaN</td>\n",
       "      <td>NaN</td>\n",
       "      <td>NaN</td>\n",
       "    </tr>\n",
       "    <tr>\n",
       "      <th>tool_applied_attachment_point</th>\n",
       "      <td>NaN</td>\n",
       "      <td>NaN</td>\n",
       "      <td>NaN</td>\n",
       "      <td>NaN</td>\n",
       "      <td>NaN</td>\n",
       "      <td>NaN</td>\n",
       "      <td>NaN</td>\n",
       "      <td>NaN</td>\n",
       "      <td>NaN</td>\n",
       "      <td>NaN</td>\n",
       "    </tr>\n",
       "    <tr>\n",
       "      <th>tool_applied_data</th>\n",
       "      <td>NaN</td>\n",
       "      <td>NaN</td>\n",
       "      <td>NaN</td>\n",
       "      <td>NaN</td>\n",
       "      <td>NaN</td>\n",
       "      <td>NaN</td>\n",
       "      <td>NaN</td>\n",
       "      <td>NaN</td>\n",
       "      <td>NaN</td>\n",
       "      <td>NaN</td>\n",
       "    </tr>\n",
       "    <tr>\n",
       "      <th>tool_applied_patient_id</th>\n",
       "      <td>NaN</td>\n",
       "      <td>NaN</td>\n",
       "      <td>NaN</td>\n",
       "      <td>NaN</td>\n",
       "      <td>NaN</td>\n",
       "      <td>NaN</td>\n",
       "      <td>NaN</td>\n",
       "      <td>NaN</td>\n",
       "      <td>NaN</td>\n",
       "      <td>NaN</td>\n",
       "    </tr>\n",
       "    <tr>\n",
       "      <th>tool_applied_sender</th>\n",
       "      <td>NaN</td>\n",
       "      <td>NaN</td>\n",
       "      <td>NaN</td>\n",
       "      <td>NaN</td>\n",
       "      <td>NaN</td>\n",
       "      <td>NaN</td>\n",
       "      <td>NaN</td>\n",
       "      <td>NaN</td>\n",
       "      <td>NaN</td>\n",
       "      <td>NaN</td>\n",
       "    </tr>\n",
       "    <tr>\n",
       "      <th>tool_applied_tool_location</th>\n",
       "      <td>NaN</td>\n",
       "      <td>NaN</td>\n",
       "      <td>NaN</td>\n",
       "      <td>NaN</td>\n",
       "      <td>NaN</td>\n",
       "      <td>NaN</td>\n",
       "      <td>NaN</td>\n",
       "      <td>NaN</td>\n",
       "      <td>NaN</td>\n",
       "      <td>NaN</td>\n",
       "    </tr>\n",
       "    <tr>\n",
       "      <th>tool_applied_type</th>\n",
       "      <td>NaN</td>\n",
       "      <td>NaN</td>\n",
       "      <td>NaN</td>\n",
       "      <td>NaN</td>\n",
       "      <td>NaN</td>\n",
       "      <td>NaN</td>\n",
       "      <td>NaN</td>\n",
       "      <td>NaN</td>\n",
       "      <td>NaN</td>\n",
       "      <td>NaN</td>\n",
       "    </tr>\n",
       "    <tr>\n",
       "      <th>tool_discarded_count</th>\n",
       "      <td>0.0</td>\n",
       "      <td>1.0</td>\n",
       "      <td>NaN</td>\n",
       "      <td>NaN</td>\n",
       "      <td>0.0</td>\n",
       "      <td>2.0</td>\n",
       "      <td>NaN</td>\n",
       "      <td>993.0</td>\n",
       "      <td>998.0</td>\n",
       "      <td>0.0</td>\n",
       "    </tr>\n",
       "    <tr>\n",
       "      <th>tool_discarded_location</th>\n",
       "      <td>(-4.2, 0.9, -22.8)</td>\n",
       "      <td>(4.2, 0.2, -54.2)</td>\n",
       "      <td>NaN</td>\n",
       "      <td>NaN</td>\n",
       "      <td>(3.8, 0.3, 0.3)</td>\n",
       "      <td>(5.2, 0.2, 0.7)</td>\n",
       "      <td>NaN</td>\n",
       "      <td>(9.8, 1.2, 20.1)</td>\n",
       "      <td>(1.2, 0.9, 1.6)</td>\n",
       "      <td>(-5.2, 0.0, 0.4)</td>\n",
       "    </tr>\n",
       "    <tr>\n",
       "      <th>tool_discarded_type</th>\n",
       "      <td>Pain Meds</td>\n",
       "      <td>SAM Splint</td>\n",
       "      <td>NaN</td>\n",
       "      <td>NaN</td>\n",
       "      <td>Pulse Oximeter</td>\n",
       "      <td>Gauze</td>\n",
       "      <td>NaN</td>\n",
       "      <td>Hemostatic Gauze</td>\n",
       "      <td>SAM Splint</td>\n",
       "      <td>Pulse Oximeter</td>\n",
       "    </tr>\n",
       "    <tr>\n",
       "      <th>tool_hover_count</th>\n",
       "      <td>NaN</td>\n",
       "      <td>NaN</td>\n",
       "      <td>NaN</td>\n",
       "      <td>NaN</td>\n",
       "      <td>NaN</td>\n",
       "      <td>NaN</td>\n",
       "      <td>NaN</td>\n",
       "      <td>NaN</td>\n",
       "      <td>NaN</td>\n",
       "      <td>NaN</td>\n",
       "    </tr>\n",
       "    <tr>\n",
       "      <th>tool_hover_type</th>\n",
       "      <td>NaN</td>\n",
       "      <td>NaN</td>\n",
       "      <td>NaN</td>\n",
       "      <td>NaN</td>\n",
       "      <td>NaN</td>\n",
       "      <td>NaN</td>\n",
       "      <td>NaN</td>\n",
       "      <td>NaN</td>\n",
       "      <td>NaN</td>\n",
       "      <td>NaN</td>\n",
       "    </tr>\n",
       "    <tr>\n",
       "      <th>tool_selected_count</th>\n",
       "      <td>NaN</td>\n",
       "      <td>NaN</td>\n",
       "      <td>7.0</td>\n",
       "      <td>3.0</td>\n",
       "      <td>NaN</td>\n",
       "      <td>NaN</td>\n",
       "      <td>997.0</td>\n",
       "      <td>NaN</td>\n",
       "      <td>NaN</td>\n",
       "      <td>NaN</td>\n",
       "    </tr>\n",
       "    <tr>\n",
       "      <th>tool_selected_type</th>\n",
       "      <td>NaN</td>\n",
       "      <td>NaN</td>\n",
       "      <td>Burn Dressing</td>\n",
       "      <td>IV Saline</td>\n",
       "      <td>NaN</td>\n",
       "      <td>NaN</td>\n",
       "      <td>Pain Meds</td>\n",
       "      <td>NaN</td>\n",
       "      <td>NaN</td>\n",
       "      <td>NaN</td>\n",
       "    </tr>\n",
       "    <tr>\n",
       "      <th>tool_type</th>\n",
       "      <td>NaN</td>\n",
       "      <td>NaN</td>\n",
       "      <td>NaN</td>\n",
       "      <td>NaN</td>\n",
       "      <td>NaN</td>\n",
       "      <td>NaN</td>\n",
       "      <td>NaN</td>\n",
       "      <td>NaN</td>\n",
       "      <td>NaN</td>\n",
       "      <td>NaN</td>\n",
       "    </tr>\n",
       "  </tbody>\n",
       "</table>\n",
       "</div>"
      ],
      "text/plain": [
       "                                           82202              107846  \\\n",
       "tool_applied_attach_message                   NaN                NaN   \n",
       "tool_applied_attachment_point                 NaN                NaN   \n",
       "tool_applied_data                             NaN                NaN   \n",
       "tool_applied_patient_id                       NaN                NaN   \n",
       "tool_applied_sender                           NaN                NaN   \n",
       "tool_applied_tool_location                    NaN                NaN   \n",
       "tool_applied_type                             NaN                NaN   \n",
       "tool_discarded_count                          0.0                1.0   \n",
       "tool_discarded_location        (-4.2, 0.9, -22.8)  (4.2, 0.2, -54.2)   \n",
       "tool_discarded_type                     Pain Meds         SAM Splint   \n",
       "tool_hover_count                              NaN                NaN   \n",
       "tool_hover_type                               NaN                NaN   \n",
       "tool_selected_count                           NaN                NaN   \n",
       "tool_selected_type                            NaN                NaN   \n",
       "tool_type                                     NaN                NaN   \n",
       "\n",
       "                                      8861       123547           120815  \\\n",
       "tool_applied_attach_message              NaN        NaN              NaN   \n",
       "tool_applied_attachment_point            NaN        NaN              NaN   \n",
       "tool_applied_data                        NaN        NaN              NaN   \n",
       "tool_applied_patient_id                  NaN        NaN              NaN   \n",
       "tool_applied_sender                      NaN        NaN              NaN   \n",
       "tool_applied_tool_location               NaN        NaN              NaN   \n",
       "tool_applied_type                        NaN        NaN              NaN   \n",
       "tool_discarded_count                     NaN        NaN              0.0   \n",
       "tool_discarded_location                  NaN        NaN  (3.8, 0.3, 0.3)   \n",
       "tool_discarded_type                      NaN        NaN   Pulse Oximeter   \n",
       "tool_hover_count                         NaN        NaN              NaN   \n",
       "tool_hover_type                          NaN        NaN              NaN   \n",
       "tool_selected_count                      7.0        3.0              NaN   \n",
       "tool_selected_type             Burn Dressing  IV Saline              NaN   \n",
       "tool_type                                NaN        NaN              NaN   \n",
       "\n",
       "                                        131113     14761             196648  \\\n",
       "tool_applied_attach_message                NaN        NaN               NaN   \n",
       "tool_applied_attachment_point              NaN        NaN               NaN   \n",
       "tool_applied_data                          NaN        NaN               NaN   \n",
       "tool_applied_patient_id                    NaN        NaN               NaN   \n",
       "tool_applied_sender                        NaN        NaN               NaN   \n",
       "tool_applied_tool_location                 NaN        NaN               NaN   \n",
       "tool_applied_type                          NaN        NaN               NaN   \n",
       "tool_discarded_count                       2.0        NaN             993.0   \n",
       "tool_discarded_location        (5.2, 0.2, 0.7)        NaN  (9.8, 1.2, 20.1)   \n",
       "tool_discarded_type                      Gauze        NaN  Hemostatic Gauze   \n",
       "tool_hover_count                           NaN        NaN               NaN   \n",
       "tool_hover_type                            NaN        NaN               NaN   \n",
       "tool_selected_count                        NaN      997.0               NaN   \n",
       "tool_selected_type                         NaN  Pain Meds               NaN   \n",
       "tool_type                                  NaN        NaN               NaN   \n",
       "\n",
       "                                        167898            22537   \n",
       "tool_applied_attach_message                NaN               NaN  \n",
       "tool_applied_attachment_point              NaN               NaN  \n",
       "tool_applied_data                          NaN               NaN  \n",
       "tool_applied_patient_id                    NaN               NaN  \n",
       "tool_applied_sender                        NaN               NaN  \n",
       "tool_applied_tool_location                 NaN               NaN  \n",
       "tool_applied_type                          NaN               NaN  \n",
       "tool_discarded_count                     998.0               0.0  \n",
       "tool_discarded_location        (1.2, 0.9, 1.6)  (-5.2, 0.0, 0.4)  \n",
       "tool_discarded_type                 SAM Splint    Pulse Oximeter  \n",
       "tool_hover_count                           NaN               NaN  \n",
       "tool_hover_type                            NaN               NaN  \n",
       "tool_selected_count                        NaN               NaN  \n",
       "tool_selected_type                         NaN               NaN  \n",
       "tool_type                                  NaN               NaN  "
      ]
     },
     "execution_count": 46,
     "metadata": {},
     "output_type": "execute_result"
    }
   ],
   "source": [
    "\n",
    "columns_list = sorted([cn for cn in csv_stats_df.columns if 'tool' in cn])\n",
    "csv_stats_df[columns_list].drop_duplicates().sample(10).T"
   ]
  },
  {
   "cell_type": "code",
   "execution_count": 39,
   "id": "5b2de0d4-2e72-45f0-849d-62713fd19ca7",
   "metadata": {},
   "outputs": [
    {
     "data": {
      "text/plain": [
       "['abdomen', 'chest', 'head', 'leftArm', 'leftLeg', 'neck', 'rightArm', 'rightLeg']"
      ]
     },
     "execution_count": 39,
     "metadata": {},
     "output_type": "execute_result"
    }
   ],
   "source": [
    "\n",
    "cn = 'injury_body_region'\n",
    "mask_series = ~csv_stats_df[cn].isnull()\n",
    "sorted(csv_stats_df[mask_series][cn].unique())"
   ]
  },
  {
   "cell_type": "code",
   "execution_count": 45,
   "id": "1f01d4c4-c249-45b6-b295-896c474a901b",
   "metadata": {},
   "outputs": [
    {
     "data": {
      "text/plain": [
       "['abdomen', 'chest', 'head', 'leftArm', 'leftHand', 'leftLeg', 'neck', 'rightArm', 'rightHand', 'rightLeg']"
      ]
     },
     "execution_count": 45,
     "metadata": {},
     "output_type": "execute_result"
    }
   ],
   "source": [
    "\n",
    "cn = 'injury_record_body_region'\n",
    "mask_series = ~csv_stats_df[cn].isnull()\n",
    "sorted(csv_stats_df[mask_series][cn].unique())"
   ]
  },
  {
   "cell_type": "code",
   "execution_count": 40,
   "id": "5346e364-aab8-4970-be66-af178c743e97",
   "metadata": {},
   "outputs": [
    {
     "data": {
      "text/plain": [
       "['Ear Bleed', 'Face Shrapnel', 'L Bicep Puncture', 'L Calf Shrapnel', 'L Chest Burn', 'L Chest Collapse', 'L Forearm Burn', 'L Leg Broken', 'L Lower Leg Burn', 'L Neck Puncture', 'L Shin Amputation', 'L Shoulder Broken', 'L Shoulder Puncture', 'L Side Puncture', 'L Stomach Puncture', 'L Thigh Puncture', 'L Upper Leg Burn', 'L Wrist Amputation', 'R Bicep Puncture', 'R Calf Laceration', 'R Calf Shrapnel', 'R Chest Burn', 'R Forearm Burn', 'R Forearm Laceration', 'R Leg Broken', 'R Lower Leg Burn', 'R Palm Laceration', 'R Shin Amputation', 'R Shoulder Broken', 'R Shoulder Puncture', 'R Stomach Puncture', 'R Thigh Puncture', 'R Upper Leg Burn', 'Unspecified']"
      ]
     },
     "execution_count": 40,
     "metadata": {},
     "output_type": "execute_result"
    }
   ],
   "source": [
    "\n",
    "cn = 'injury_id'\n",
    "mask_series = ~csv_stats_df[cn].isnull()\n",
    "sorted(csv_stats_df[mask_series][cn].unique())"
   ]
  },
  {
   "cell_type": "code",
   "execution_count": 44,
   "id": "97b9e3ed-12c9-488e-ba19-755960278472",
   "metadata": {},
   "outputs": [
    {
     "data": {
      "text/plain": [
       "['airway', 'decompress', 'gauzePressure', 'none', 'tourniquet', 'woundpack']"
      ]
     },
     "execution_count": 44,
     "metadata": {},
     "output_type": "execute_result"
    }
   ],
   "source": [
    "\n",
    "cn = 'injury_required_procedure'\n",
    "mask_series = ~csv_stats_df[cn].isnull()\n",
    "sorted(csv_stats_df[mask_series][cn].unique())"
   ]
  },
  {
   "cell_type": "code",
   "execution_count": 43,
   "id": "fc152a3f-ea4c-4be7-a2aa-5ba2b00ed276",
   "metadata": {},
   "outputs": [
    {
     "data": {
      "text/plain": [
       "['airway', 'burnDressing', 'decompress', 'gauzePressure', 'none', 'splint', 'tourniquet', 'woundpack']"
      ]
     },
     "execution_count": 43,
     "metadata": {},
     "output_type": "execute_result"
    }
   ],
   "source": [
    "\n",
    "cn = 'injury_record_required_procedure'\n",
    "mask_series = ~csv_stats_df[cn].isnull()\n",
    "sorted(csv_stats_df[mask_series][cn].unique())"
   ]
  },
  {
   "cell_type": "code",
   "execution_count": 42,
   "id": "a431049e-be0b-4f64-a261-a18d9e13b122",
   "metadata": {},
   "outputs": [
    {
     "data": {
      "text/plain": [
       "['airway', 'burnDressing', 'decompress', 'gauzePressure', 'none', 'splint', 'tourniquet', 'woundpack']"
      ]
     },
     "execution_count": 42,
     "metadata": {},
     "output_type": "execute_result"
    }
   ],
   "source": [
    "\n",
    "cn = 'injury_treated_required_procedure'\n",
    "mask_series = ~csv_stats_df[cn].isnull()\n",
    "sorted(csv_stats_df[mask_series][cn].unique())"
   ]
  },
  {
   "cell_type": "code",
   "execution_count": 48,
   "id": "d40e6fbf-596b-4630-b272-1e714baef3f7",
   "metadata": {},
   "outputs": [
    {
     "data": {
      "text/plain": [
       "['abdomen', 'chest', 'head', 'leftArm', 'leftHand', 'leftLeg', 'neck', 'rightArm', 'rightHand', 'rightLeg']"
      ]
     },
     "execution_count": 48,
     "metadata": {},
     "output_type": "execute_result"
    }
   ],
   "source": [
    "\n",
    "cn = 'injury_record_body_region'\n",
    "mask_series = ~csv_stats_df[cn].isnull()\n",
    "sorted(csv_stats_df[mask_series][cn].unique())"
   ]
  },
  {
   "cell_type": "code",
   "execution_count": 51,
   "id": "45570eaa-7e56-402b-b811-2b6d09f2b4c9",
   "metadata": {},
   "outputs": [
    {
     "name": "stdout",
     "output_type": "stream",
     "text": [
      "\n",
      "        self.tool_type_to_required_procedure_dict = {\n",
      "            'Tourniquet': 'tourniquet',\n",
      "            'Gauze_Pack': 'woundpack',\n",
      "            'Hemostatic Gauze': '',\n",
      "            'IV Blood': '',\n",
      "            'Needle': 'decompress',\n",
      "            'Naso': 'airway',\n",
      "            'Nasal Airway': 'airway',\n",
      "            'Burn Dressing': '',\n",
      "            'Gauze_Dressing': 'gauzePressure',\n",
      "            'Gauze': '',\n",
      "            'IV Saline': '',\n",
      "            'Pain Meds': '',\n",
      "            'Pulse Oximeter': '',\n",
      "            'SAM Splint': '',\n",
      "        }\n"
     ]
    }
   ],
   "source": [
    "\n",
    "print(\"\"\"\n",
    "        self.tool_type_to_required_procedure_dict = {\"\"\")\n",
    "for tool_type in [\n",
    "    'Tourniquet', 'Gauze_Pack', 'Hemostatic Gauze', 'IV Blood', 'Needle', 'Naso', 'Nasal Airway', 'Burn Dressing',\n",
    "    'Gauze_Dressing', 'Gauze', 'IV Saline', 'Pain Meds', 'Pulse Oximeter', 'SAM Splint'\n",
    "]:\n",
    "    print(f\"\"\"            '{tool_type}': '{fu.tool_type_to_required_procedure_dict.get(tool_type, \"\")}',\"\"\")\n",
    "print(\"\"\"        }\"\"\")"
   ]
  },
  {
   "cell_type": "code",
   "execution_count": 52,
   "id": "d8317937-a557-4b96-b58a-d702dc459a7e",
   "metadata": {},
   "outputs": [
    {
     "name": "stdout",
     "output_type": "stream",
     "text": [
      "\n",
      "        self.required_procedure_to_tool_type_dict = {\n",
      "            'tourniquet': 'Tourniquet',\n",
      "            'gauzePressure': 'Gauze_Dressing',\n",
      "            'decompress': 'Needle',\n",
      "            'woundpack': 'Gauze_Pack',\n",
      "            'airway': 'Nasal Airway',\n",
      "            'burnDressing': '',\n",
      "            'splint': '',\n",
      "            'none': '',\n",
      "        }\n"
     ]
    }
   ],
   "source": [
    "\n",
    "print(\"\"\"\n",
    "        self.required_procedure_to_tool_type_dict = {\"\"\")\n",
    "for required_procedure in ['tourniquet', 'gauzePressure', 'decompress', 'woundpack', 'airway', 'burnDressing', 'splint', 'none']:\n",
    "    print(f\"\"\"            '{required_procedure}': '{fu.required_procedure_to_tool_type_dict.get(required_procedure, \"\")}',\"\"\")\n",
    "print(\"\"\"        }\"\"\")"
   ]
  }
 ],
 "metadata": {
  "kernelspec": {
   "display_name": "ITM Analysis Reporting (Python 3.11.7)",
   "language": "python",
   "name": "itm_analysis_reporting"
  },
  "language_info": {
   "codemirror_mode": {
    "name": "ipython",
    "version": 3
   },
   "file_extension": ".py",
   "mimetype": "text/x-python",
   "name": "python",
   "nbconvert_exporter": "python",
   "pygments_lexer": "ipython3",
   "version": "3.7.12"
  }
 },
 "nbformat": 4,
 "nbformat_minor": 5
}

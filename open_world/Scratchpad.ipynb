{
 "cells": [
  {
   "cell_type": "code",
   "execution_count": 22,
   "id": "733d4183-f287-4716-b4cc-13d9faa86caf",
   "metadata": {},
   "outputs": [
    {
     "name": "stdout",
     "output_type": "stream",
     "text": [
      "Pretty printing has been turned ON\n"
     ]
    }
   ],
   "source": [
    "\n",
    "# Set up notebook\n",
    "%pprint\n",
    "import sys\n",
    "if ('../py' not in sys.path): sys.path.insert(1, '../py')"
   ]
  },
  {
   "cell_type": "code",
   "execution_count": 23,
   "id": "460a2dd2-087a-46df-a2c1-610bf75ace38",
   "metadata": {},
   "outputs": [],
   "source": [
    "\n",
    "# load libraries\n",
    "from FRVRS import nu, fu\n",
    "from numpy import nan\n",
    "from pandas import (\n",
    "    CategoricalDtype, DataFrame, Index, NaT, Series, concat, get_dummies, isna, notnull, read_csv, read_excel, to_datetime, to_numeric\n",
    ")\n",
    "from re import split, search, sub, MULTILINE\n",
    "from scipy.stats import f_oneway, ttest_ind, kruskal, norm\n",
    "import itertools\n",
    "import os.path as osp\n",
    "import re\n",
    "import statsmodels.api as sm"
   ]
  },
  {
   "cell_type": "code",
   "execution_count": null,
   "id": "5ef8a12c-73da-41bb-9a39-c973cd60770b",
   "metadata": {},
   "outputs": [],
   "source": [
    "\n",
    "mask_series = (error_types_df.responder_category != 'Nurse or Other HP')\n",
    "triage_error_rates_df = fu.create_triage_error_rates_data_frame(error_types_df[mask_series], groupby_columns=['responder_category'])"
   ]
  },
  {
   "cell_type": "code",
   "execution_count": null,
   "id": "4f177805-756a-4a23-8c3f-62b93f284db3",
   "metadata": {},
   "outputs": [],
   "source": [
    "\n",
    "        is_expectant_treated = fu.get_is_expectant_treated(patient_df, verbose=False)\n",
    "        row_dict['is_expectant_treated'] = is_expectant_treated\n",
    "                    row_dict['is_treating_expectants'] = fu.get_is_treating_expectants(scene_df)"
   ]
  }
 ],
 "metadata": {
  "kernelspec": {
   "display_name": "ITM Analysis Reporting (Python 3.11.7)",
   "language": "python",
   "name": "itm_analysis_reporting"
  },
  "language_info": {
   "codemirror_mode": {
    "name": "ipython",
    "version": 3
   },
   "file_extension": ".py",
   "mimetype": "text/x-python",
   "name": "python",
   "nbconvert_exporter": "python",
   "pygments_lexer": "ipython3",
   "version": "3.7.12"
  }
 },
 "nbformat": 4,
 "nbformat_minor": 5
}

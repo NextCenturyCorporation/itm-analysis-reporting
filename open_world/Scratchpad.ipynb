{
 "cells": [
  {
   "cell_type": "code",
   "execution_count": 1,
   "id": "733d4183-f287-4716-b4cc-13d9faa86caf",
   "metadata": {},
   "outputs": [
    {
     "name": "stdout",
     "output_type": "stream",
     "text": [
      "Pretty printing has been turned OFF\n"
     ]
    }
   ],
   "source": [
    "\n",
    "# Set up notebook\n",
    "%pprint\n",
    "import sys\n",
    "if ('../py' not in sys.path): sys.path.insert(1, '../py')"
   ]
  },
  {
   "cell_type": "code",
   "execution_count": 2,
   "id": "460a2dd2-087a-46df-a2c1-610bf75ace38",
   "metadata": {},
   "outputs": [],
   "source": [
    "\n",
    "# load libraries\n",
    "from FRVRS import nu, fu\n",
    "from numpy import nan\n",
    "from pandas import (\n",
    "    CategoricalDtype, DataFrame, Index, NaT, Series, concat, get_dummies, isna, notnull, read_csv, read_excel, to_datetime, to_numeric\n",
    ")\n",
    "from re import split, search, sub, MULTILINE\n",
    "from scipy.stats import f_oneway, ttest_ind, kruskal, norm\n",
    "import itertools\n",
    "import os.path as osp\n",
    "import re\n",
    "import statsmodels.api as sm"
   ]
  },
  {
   "cell_type": "markdown",
   "id": "f377d96e-431b-43b2-9196-e5e182a117b2",
   "metadata": {},
   "source": [
    "\n",
    "## Use the CSV Data from the Last Successful Build"
   ]
  },
  {
   "cell_type": "code",
   "execution_count": 3,
   "id": "018887ec-d560-4a1d-b268-2e1ac4caa20f",
   "metadata": {},
   "outputs": [
    {
     "name": "stdout",
     "output_type": "stream",
     "text": [
      "No pickle exists for metrics_evaluation_open_world_csv_stats_df20240516 - attempting to load /mnt/c/Users/DaveBabbitt/Documents/GitHub/itm-analysis-reporting/saves/csv/metrics_evaluation_open_world_csv_stats_df20240516.csv.\n",
      "(158663, 125)\n",
      "['participant_id']\n"
     ]
    }
   ],
   "source": [
    "\n",
    "# load the CSV data frame from the last successful build\n",
    "data_frames_dict = nu.load_data_frames(\n",
    "    verbose=True, metrics_evaluation_open_world_csv_stats_df20240516=''\n",
    ")\n",
    "csv_stats_df = data_frames_dict['metrics_evaluation_open_world_csv_stats_df20240516'].copy()\n",
    "print(csv_stats_df.shape)\n",
    "print(sorted([cn for cn in csv_stats_df.columns if 'partici' in cn]))"
   ]
  },
  {
   "cell_type": "markdown",
   "id": "74c12bdb-b5a3-4a48-b30a-2781b4dbb42d",
   "metadata": {},
   "source": [
    "\n",
    "### Truncate the CSV data to only include our patients at the times they were engaged"
   ]
  },
  {
   "cell_type": "code",
   "execution_count": 4,
   "id": "b4a2f197-03c1-4078-9163-265c702938d4",
   "metadata": {},
   "outputs": [
    {
     "name": "stdout",
     "output_type": "stream",
     "text": [
      "(51, 2)\n"
     ]
    }
   ],
   "source": [
    "\n",
    "# Build a dataset of each CSV file and the action tick where CACI patients first appear\n",
    "desert_patients_list = [\n",
    "    'Open World Marine 1 Female Root', 'Open World Marine 2 Male Root', 'Open World Civilian 1 Male Root', 'Open World Civilian 2 Female Root'\n",
    "]\n",
    "jungle_patients_list = [\n",
    "    'Open World Marine 1 Male Root', 'Open World Marine 2 Female Root', 'Open World Marine 3 Male Root', 'Open World Marine 4 Male Root'\n",
    "]\n",
    "submarine_patients_list = ['Navy Soldier 1 Male Root', 'Navy Soldier 2 Male Root', 'Navy Soldier 3 Male Root', 'Navy Soldier 4 Female Root']\n",
    "urban_patients_list = ['Marine 1 Male Root', 'Marine 2 Male Root', 'Marine 3 Male Root', 'Marine 4 Male Root', 'Civilian 1 Female Root']\n",
    "patients_set = set(desert_patients_list + jungle_patients_list + submarine_patients_list + urban_patients_list)\n",
    "mask_series = csv_stats_df.patient_id.isin(patients_set)\n",
    "rows_list = []\n",
    "for csv_file_name, csv_file_name_df in csv_stats_df[mask_series].groupby('csv_file_name'):\n",
    "    row_dict = {'csv_file_name': csv_file_name}\n",
    "    action_tick = csv_file_name_df.action_tick.min()\n",
    "    row_dict['first_occurence'] = action_tick\n",
    "    rows_list.append(row_dict)\n",
    "first_occurence_df = DataFrame(rows_list)\n",
    "print(first_occurence_df.shape)"
   ]
  },
  {
   "cell_type": "code",
   "execution_count": 5,
   "id": "b95af5c8-ca51-4bce-8bd0-a062eb8f57d6",
   "metadata": {},
   "outputs": [
    {
     "name": "stdout",
     "output_type": "stream",
     "text": [
      "(137063, 125)\n"
     ]
    }
   ],
   "source": [
    "\n",
    "# From each file, filter out the time before the first appearance of the CACI patients\n",
    "truncated_df = DataFrame([])\n",
    "for (csv_file_name, first_occurence), _ in first_occurence_df.groupby(['csv_file_name', 'first_occurence']):\n",
    "    mask_series = (csv_stats_df.csv_file_name == csv_file_name) & (csv_stats_df.action_tick >= first_occurence)\n",
    "    df = csv_stats_df[mask_series]\n",
    "    truncated_df = concat([truncated_df, df], axis='index')\n",
    "print(truncated_df.shape)"
   ]
  },
  {
   "cell_type": "code",
   "execution_count": 6,
   "id": "491fda01-246f-4fb8-95cf-d2f0f73e1589",
   "metadata": {},
   "outputs": [
    {
     "data": {
      "text/plain": [
       "['patient U Root', 'patient V Root', 'patient W Root', 'patient X Root', 'electrician Root', 'bystander Root', 'Simulation Root', 'Patient V Root', 'Patient U Root', 'Patient W Root', 'Adept Victim Root', 'Adept Shooter Root', 'Patient X Root', 'NPC 2 Root', 'NPC 1 Root', 'NPC 3 Root', 'NPC 4 Root', 'US Soldier 1 Root', 'Local Soldier 1 Root', 'Civilian 1 Root', 'NPC Root', 'Civilian 2 Root']"
      ]
     },
     "execution_count": 6,
     "metadata": {},
     "output_type": "execute_result"
    }
   ],
   "source": [
    "\n",
    "# Create a list of patients that CACI doesn't care about\n",
    "mask_series = ~csv_stats_df.patient_id.isin(patients_set) & ~csv_stats_df.patient_id.isnull()\n",
    "non_patients_list = csv_stats_df[mask_series].patient_id.unique().tolist()\n",
    "non_patients_list"
   ]
  },
  {
   "cell_type": "code",
   "execution_count": 7,
   "id": "fceb9614-0385-4c89-982c-932f58bb8a3d",
   "metadata": {},
   "outputs": [
    {
     "name": "stdout",
     "output_type": "stream",
     "text": [
      "(124203, 125)\n"
     ]
    }
   ],
   "source": [
    "\n",
    "# Filter out just the patients that CACI doesn't care about\n",
    "mask_series = ~truncated_df.patient_id.isin(non_patients_list)\n",
    "truncated_df = truncated_df[mask_series]\n",
    "print(truncated_df.shape)"
   ]
  },
  {
   "cell_type": "markdown",
   "id": "586b0502-dde5-467d-bd0e-3c5ffac2ff28",
   "metadata": {},
   "source": [
    "\n",
    "## Create the Scene Data"
   ]
  },
  {
   "cell_type": "code",
   "execution_count": 8,
   "id": "0a75e6b1-89ad-43de-ad73-b44f5c95aae0",
   "metadata": {},
   "outputs": [
    {
     "name": "stdout",
     "output_type": "stream",
     "text": [
      "(67, 17)\n"
     ]
    }
   ],
   "source": [
    "\n",
    "# Create the scene data frame precursor\n",
    "distance_delta_df = fu.get_distance_deltas_data_frame(truncated_df)\n",
    "print(distance_delta_df.shape)"
   ]
  },
  {
   "cell_type": "code",
   "execution_count": 9,
   "id": "3e724349-d69d-4cf4-b105-56da55a5f072",
   "metadata": {},
   "outputs": [
    {
     "name": "stdout",
     "output_type": "stream",
     "text": [
      "(67, 30)\n"
     ]
    }
   ],
   "source": [
    "\n",
    "# Create the scene stats data frame\n",
    "rows_list = []\n",
    "for (session_uuid, scene_id), idx_df in distance_delta_df.groupby(fu.scene_groupby_columns):\n",
    "    row_dict = list(idx_df.T.to_dict().values())[0]\n",
    "    \n",
    "    # mean_patient_count\n",
    "    patient_count = row_dict.pop('patient_count')\n",
    "    row_dict.update({'scene_patient_count': patient_count})\n",
    "    \n",
    "    # Get the whole scene history\n",
    "    mask_series = True\n",
    "    for cn in fu.scene_groupby_columns: mask_series &= (truncated_df[cn] == eval(cn))\n",
    "    scene_df = truncated_df[mask_series]\n",
    "    \n",
    "    if scene_df.shape[0]:\n",
    "        row_dict['participant_id'] = scene_df.participant_id.iloc[0]\n",
    "        \n",
    "        # Get the count of all the patient injuries\n",
    "        all_patient_injuries_count = 0\n",
    "        for patient_id, patient_df in scene_df.groupby('patient_id'):\n",
    "            all_patient_injuries_count += patient_df.injury_id.nunique()\n",
    "        row_dict['scene_patient_injuries_count'] = all_patient_injuries_count\n",
    "        \n",
    "        # percent_injury_correctly_treated\n",
    "        correctly_treated_count = fu.get_injury_correctly_treated_count(scene_df)\n",
    "        row_dict['scene_correctly_treated_count'] = correctly_treated_count\n",
    "        try: percent_injury_correctly_treated = 100 * correctly_treated_count / all_patient_injuries_count\n",
    "        except ZeroDivisionError: percent_injury_correctly_treated = nan\n",
    "        row_dict['scene_percent_injury_correctly_treated'] = percent_injury_correctly_treated\n",
    "        \n",
    "        # mean_pulse_taken_count\n",
    "        pulse_taken_count = fu.get_pulse_taken_count(scene_df)\n",
    "        row_dict['scene_pulse_taken_count'] = pulse_taken_count\n",
    "        \n",
    "        # mean_stills_value\n",
    "        row_dict['scene_stills_value'] = fu.get_stills_value(scene_df)\n",
    "        \n",
    "        # mean_teleport_count\n",
    "        row_dict['scene_teleport_count'] = fu.get_teleport_count(scene_df)\n",
    "        \n",
    "        # mean_time_to_hemorrhage_control_per_patient\n",
    "        row_dict['scene_time_to_hemorrhage_control_per_patient'] = fu.get_time_to_hemorrhage_control_per_patient(scene_df)\n",
    "        \n",
    "        # mean_triage_time\n",
    "        row_dict['scene_triage_time'] = fu.get_triage_time(scene_df)\n",
    "        \n",
    "        # mean_percent_accurate_tagging\n",
    "        # total_action_count\n",
    "        mask_series = scene_df.action_type.isin(fu.action_types_list)\n",
    "        row_dict['scene_action_count'] = scene_df[mask_series].shape[0]\n",
    "        \n",
    "        # total_assessment_count\n",
    "        mask_series = scene_df.action_type.isin(['PATIENT_ENGAGED', 'PULSE_TAKEN'])\n",
    "        row_dict['scene_assessment_count'] = scene_df[mask_series].shape[0]\n",
    "        \n",
    "        # total_treatment_count\n",
    "        mask_series = scene_df.action_type.isin(['INJURY_TREATED'])\n",
    "        row_dict['scene_treatment_count'] = scene_df[mask_series].shape[0]\n",
    "        \n",
    "        # total_tag_application_count\n",
    "        mask_series = scene_df.action_type.isin(['TAG_APPLIED'])\n",
    "        row_dict['scene_tag_application_count'] = scene_df[mask_series].shape[0]\n",
    "        \n",
    "        # treated_expectant_count\n",
    "    \n",
    "    rows_list.append(row_dict)\n",
    "scene_stats_df = DataFrame(rows_list).drop_duplicates()\n",
    "print(scene_stats_df.shape)"
   ]
  },
  {
   "cell_type": "code",
   "execution_count": 10,
   "id": "4953a618-e68c-4fd0-9834-ed8f638eb74e",
   "metadata": {},
   "outputs": [
    {
     "name": "stdout",
     "output_type": "stream",
     "text": [
      "                  record_count\n",
      "encounter_layout              \n",
      "Desert                      15\n",
      "Jungle                      13\n",
      "Submarine                   13\n",
      "Urban                       13\n",
      "NaN                         13\n"
     ]
    }
   ],
   "source": [
    "\n",
    "# Add the encounter layout column\n",
    "new_column_name = 'encounter_layout'\n",
    "encounter_layouts_list = ['Desert', 'Jungle', 'Submarine', 'Urban']\n",
    "for (session_uuid, scene_id), scene_df in csv_stats_df.groupby(fu.scene_groupby_columns):\n",
    "    for env_str in encounter_layouts_list:\n",
    "        patients_list = eval(f'{env_str.lower()}_patients_list')\n",
    "        if all(map(lambda patient_id: patient_id in scene_df.patient_id.unique().tolist(), patients_list)):\n",
    "            mask_series = (scene_stats_df.session_uuid == session_uuid) & (scene_stats_df.scene_id == scene_id)\n",
    "            scene_stats_df.loc[mask_series, new_column_name] = env_str\n",
    "print(scene_stats_df.groupby(new_column_name, dropna=False).size().to_frame().rename(columns={0: 'record_count'}))"
   ]
  },
  {
   "cell_type": "markdown",
   "id": "fd0b0848-2843-411e-8917-c3cb87e9af65",
   "metadata": {},
   "source": [
    "\n",
    "### Add the mean % accurate tagging column"
   ]
  },
  {
   "cell_type": "code",
   "execution_count": 11,
   "id": "5b6659a7-006b-4876-b746-6b792cd5b83b",
   "metadata": {},
   "outputs": [],
   "source": [
    "\n",
    "# Create the tag-to-SALT data frame\n",
    "tag_to_salt_df = fu.get_is_tag_correct_data_frame(truncated_df, groupby_column='participant_id')"
   ]
  },
  {
   "cell_type": "code",
   "execution_count": 12,
   "id": "d6d3f9ee-4391-487c-a0a9-3688fb8e6c95",
   "metadata": {},
   "outputs": [],
   "source": [
    "\n",
    "# Get the percentage tag correct counts for each scene for each group\n",
    "correct_count_by_tag_df = fu.get_percentage_tag_correct_data_frame(tag_to_salt_df, groupby_column='participant_id')"
   ]
  },
  {
   "cell_type": "code",
   "execution_count": 13,
   "id": "dccf4b73-fae2-4864-9bd0-83246e3d3645",
   "metadata": {},
   "outputs": [],
   "source": [
    "\n",
    "# Group the scene stats by participant ID to get the tagging accuracy measure\n",
    "for participant_id, idx_df in scene_stats_df.groupby('participant_id'):\n",
    "    \n",
    "    # mean_percent_accurate_tagging\n",
    "    mask_series = (correct_count_by_tag_df.participant_id == participant_id)\n",
    "    scene_stats_df.loc[idx_df.index, 'mean_percent_accurate_tagging'] = correct_count_by_tag_df[mask_series].percentage_tag_correct.mean()"
   ]
  },
  {
   "cell_type": "markdown",
   "id": "39edd47c-b555-4e00-af44-fe8aa42e76bc",
   "metadata": {},
   "source": [
    "\n",
    "### Add the treated-expectant count column"
   ]
  },
  {
   "cell_type": "code",
   "execution_count": 14,
   "id": "ffd84466-185c-4786-9039-cc75650b9129",
   "metadata": {},
   "outputs": [],
   "source": [
    "\n",
    "# Loop through each patient to build the max salt and treated-expectant measures\n",
    "rows_list = []\n",
    "for (session_uuid, scene_id, patient_id), patient_df in truncated_df.groupby(fu.patient_groupby_columns):\n",
    "    row_dict = {cn: eval(cn) for cn in fu.patient_groupby_columns}\n",
    "    row_dict['max_salt'] = fu.get_max_salt(patient_df, session_uuid=session_uuid, scene_id=scene_id, random_patient_id=patient_id)[1]\n",
    "    if (row_dict['max_salt'] == 'EXPECTANT'):\n",
    "        mask_series = ~patient_df.injury_treated_required_procedure.isnull() | ~patient_df.tool_applied_type.isnull()\n",
    "        row_dict['treated_expectant'] = {True: 'yes', False: 'no'}[mask_series.any()]\n",
    "    else: row_dict['treated_expectant'] = nan\n",
    "    rows_list.append(row_dict)\n",
    "treated_expectant_df = DataFrame(rows_list)"
   ]
  },
  {
   "cell_type": "code",
   "execution_count": 15,
   "id": "753f5d34-2ade-40f8-8908-59395fdd2828",
   "metadata": {},
   "outputs": [],
   "source": [
    "\n",
    "# Loop through each scene to build the treated-expectant counts\n",
    "for (session_uuid, scene_id), scene_df in treated_expectant_df.groupby(fu.scene_groupby_columns):\n",
    "    mask_series = (scene_df.treated_expectant == 'yes')\n",
    "    \n",
    "    # treated_expectant_count\n",
    "    treated_expectant_count = mask_series.sum()\n",
    "    mask_series = (scene_stats_df.session_uuid == session_uuid) & (scene_stats_df.scene_id == scene_id)\n",
    "    scene_stats_df.loc[mask_series, 'treated_expectant_count'] = treated_expectant_count"
   ]
  },
  {
   "cell_type": "code",
   "execution_count": 16,
   "id": "2ba5162f-4f84-4771-8fa1-b5364fdcc932",
   "metadata": {},
   "outputs": [
    {
     "name": "stdout",
     "output_type": "stream",
     "text": [
      "\n",
      "Columns to merge the participant data with the scene stats on:\n",
      "['participant_id']\n",
      "\n",
      "The participant data columns we want to have in the merge:\n",
      "['AD_KDMA_Sim', 'AD_KDMA_Text', 'PropTrust', 'ST_KDMA_Sim', 'ST_KDMA_Text', 'participant_id']\n"
     ]
    }
   ],
   "source": [
    "\n",
    "# Add the survey columns\n",
    "survey_columns = ['AD_KDMA_Sim', 'AD_KDMA_Text', 'PropTrust', 'ST_KDMA_Sim', 'ST_KDMA_Text']\n",
    "if any(map(lambda x: x not in scene_stats_df.columns, survey_columns)):\n",
    "    file_path = osp.join(nu.data_folder, 'xlsx', 'participant_data_0420.xlsx')\n",
    "    participant_data_df = read_excel(file_path).rename(columns={'ParticipantID': 'participant_id'})\n",
    "    \n",
    "    print(\"\\nColumns to merge the participant data with the scene stats on:\")\n",
    "    on_columns = sorted(set(scene_stats_df.columns).intersection(set(participant_data_df.columns)))\n",
    "    assert on_columns, \"You have nothing to merge the participant dataset with the scene stats on\"\n",
    "    print(on_columns)\n",
    "\n",
    "    print(\"\\nThe participant data columns we want to have in the merge:\")\n",
    "    survey_set = set(on_columns + survey_columns)\n",
    "    all_set = set(participant_data_df.columns)\n",
    "    assert survey_set.issubset(all_set), f\"You're missing {survey_set.difference(all_set)} from participant_data_0420.xlsx\"\n",
    "    columns_list = sorted(survey_set)\n",
    "    print(columns_list)\n",
    "    \n",
    "    # mean_AD_KDMA_Sim\n",
    "    # mean_AD_KDMA_Text\n",
    "    # mean_PropTrust\n",
    "    # mean_ST_KDMA_Sim\n",
    "    # mean_ST_KDMA_Text\n",
    "    scene_stats_df = scene_stats_df.merge(participant_data_df[columns_list], how='left', on=on_columns)"
   ]
  },
  {
   "cell_type": "markdown",
   "id": "73276495-3737-40a4-946a-d10e210c31d3",
   "metadata": {},
   "source": [
    "\n",
    "### Truncate the scene data to only include our patients at the times they were engaged"
   ]
  },
  {
   "cell_type": "code",
   "execution_count": 17,
   "id": "50f75f9f-5c92-41b7-8886-42863a2687e0",
   "metadata": {},
   "outputs": [
    {
     "name": "stdout",
     "output_type": "stream",
     "text": [
      "\n",
      "Filtered out 13 unnamed encounter layouts\n"
     ]
    }
   ],
   "source": [
    "\n",
    "# Filter out the unnamed layouts\n",
    "mask_series = scene_stats_df.encounter_layout.isin(encounter_layouts_list)\n",
    "pre_count = scene_stats_df.shape[0]\n",
    "scene_stats_df = scene_stats_df[mask_series]\n",
    "print(f\"\\nFiltered out {pre_count - scene_stats_df.shape[0]} unnamed encounter layouts\")"
   ]
  },
  {
   "cell_type": "code",
   "execution_count": 18,
   "id": "52a044d2-4050-4625-a133-229d406436c0",
   "metadata": {},
   "outputs": [
    {
     "name": "stdout",
     "output_type": "stream",
     "text": [
      "\n",
      "There are 0 out of 54 scenes with no teleports\n"
     ]
    }
   ],
   "source": [
    "\n",
    "# Check for zero teleports\n",
    "mask_series = (scene_stats_df.scene_teleport_count < 1)\n",
    "print(f\"\\nThere are {scene_stats_df[mask_series].shape[0]} out of {scene_stats_df.shape[0]} scenes with no teleports\")"
   ]
  },
  {
   "cell_type": "code",
   "execution_count": 19,
   "id": "ebae65a8-e0c2-4a46-9f81-b55d80f07b44",
   "metadata": {},
   "outputs": [
    {
     "name": "stdout",
     "output_type": "stream",
     "text": [
      "Saving to /mnt/c/Users/DaveBabbitt/Documents/GitHub/itm-analysis-reporting/saves/csv/truncated_scene_stats_df.csv\n"
     ]
    }
   ],
   "source": [
    "\n",
    "# Save the scene stats dataset\n",
    "nu.save_data_frames(truncated_scene_stats_df=scene_stats_df, verbose=True)"
   ]
  },
  {
   "cell_type": "markdown",
   "id": "2bc0d37f-0621-4806-aaaf-bc2f9551d2f9",
   "metadata": {},
   "source": [
    "\n",
    "## Create the ANOVA Dataframe"
   ]
  },
  {
   "cell_type": "code",
   "execution_count": 20,
   "id": "3bf68be1-a86f-4ec1-9a07-78175d7361b3",
   "metadata": {},
   "outputs": [
    {
     "name": "stdout",
     "output_type": "stream",
     "text": [
      "\n",
      "Columns to merge the scene stats dataset with the CSV stats on:\n",
      "['participant_id', 'scene_id', 'session_uuid']\n"
     ]
    }
   ],
   "source": [
    "\n",
    "# Get the columns to merge the scene stats dataset with the CSV stats on\n",
    "print(\"\\nColumns to merge the scene stats dataset with the CSV stats on:\")\n",
    "on_columns = sorted(set(csv_stats_df.columns).intersection(set(scene_stats_df.columns)))\n",
    "print(on_columns)"
   ]
  },
  {
   "cell_type": "code",
   "execution_count": 21,
   "id": "f1179a79-594d-4def-99d5-eeb901e7bd24",
   "metadata": {},
   "outputs": [
    {
     "name": "stdout",
     "output_type": "stream",
     "text": [
      "\n",
      "The scene stats dataset columns we want to have in the merge:\n",
      "{'scene_treatment_count', 'AD_KDMA_Sim', 'mean_percent_accurate_tagging', 'scene_patient_count', 'scene_tag_application_count', 'ST_KDMA_Sim', 'scene_triage_time', 'treated_expectant_count', 'scene_time_to_hemorrhage_control_per_patient', 'ST_KDMA_Text', 'scene_percent_injury_correctly_treated', 'AD_KDMA_Text', 'PropTrust', 'scene_pulse_taken_count', 'scene_stills_value', 'scene_teleport_count', 'scene_action_count', 'scene_assessment_count'}\n"
     ]
    }
   ],
   "source": [
    "\n",
    "# Get the scene stats dataset columns we want to have in the merge\n",
    "print('\\nThe scene stats dataset columns we want to have in the merge:')\n",
    "mean_analysis_columns = sorted([\n",
    "    'scene_percent_injury_correctly_treated', 'scene_pulse_taken_count', 'scene_stills_value', 'scene_teleport_count',\n",
    "    'scene_time_to_hemorrhage_control_per_patient', 'scene_triage_time', 'scene_patient_count', 'mean_percent_accurate_tagging'\n",
    "] + survey_columns)\n",
    "sum_analysis_columns = sorted([\n",
    "    'scene_action_count', 'scene_assessment_count', 'scene_treatment_count', 'scene_tag_application_count', 'treated_expectant_count'\n",
    "])\n",
    "analysis_set = set(mean_analysis_columns + sum_analysis_columns)\n",
    "all_set = set(scene_stats_df.columns)\n",
    "assert analysis_set.issubset(all_set), f\"You're missing {analysis_set.difference(all_set)} from your analysis_columns\"\n",
    "print(analysis_set)"
   ]
  },
  {
   "cell_type": "code",
   "execution_count": 22,
   "id": "04a675b5-8b87-44bc-882f-bf03d32a8328",
   "metadata": {},
   "outputs": [
    {
     "name": "stdout",
     "output_type": "stream",
     "text": [
      "\n",
      "Merge the scene stats with the CSV stats\n"
     ]
    }
   ],
   "source": [
    "\n",
    "# Merge the scene stats with the CSV stats\n",
    "print(\"\\nMerge the scene stats with the CSV stats\")\n",
    "columns_list = on_columns + mean_analysis_columns + sum_analysis_columns\n",
    "assert set(columns_list).issubset(set(scene_stats_df.columns)), \"You've lost access to the analysis columns\"\n",
    "merge_df = csv_stats_df.merge(scene_stats_df[columns_list], on=on_columns, how='left').drop_duplicates()"
   ]
  },
  {
   "cell_type": "code",
   "execution_count": 23,
   "id": "d0573d4a-e96b-4b80-8db7-b179dc3a92af",
   "metadata": {},
   "outputs": [
    {
     "name": "stdout",
     "output_type": "stream",
     "text": [
      "\n",
      "The merge dataset columns we want to have in the groupby:\n",
      "['AD_KDMA_Sim', 'AD_KDMA_Text', 'PropTrust', 'ST_KDMA_Sim', 'ST_KDMA_Text', 'mean_percent_accurate_tagging', 'participant_id', 'scene_action_count', 'scene_assessment_count', 'scene_id', 'scene_patient_count', 'scene_percent_injury_correctly_treated', 'scene_pulse_taken_count', 'scene_stills_value', 'scene_tag_application_count', 'scene_teleport_count', 'scene_time_to_hemorrhage_control_per_patient', 'scene_treatment_count', 'scene_triage_time', 'session_uuid', 'treated_expectant_count']\n"
     ]
    }
   ],
   "source": [
    "\n",
    "# Get the merge dataset columns we want to have in the groupby\n",
    "print('\\nThe merge dataset columns we want to have in the groupby:')\n",
    "columns_list = sorted(set(\n",
    "    on_columns + mean_analysis_columns + sum_analysis_columns\n",
    ").intersection(set(merge_df.columns)))\n",
    "print(columns_list)"
   ]
  },
  {
   "cell_type": "code",
   "execution_count": 24,
   "id": "d4695bef-e0e6-4be5-9216-0161319f7a6e",
   "metadata": {},
   "outputs": [
    {
     "name": "stdout",
     "output_type": "stream",
     "text": [
      "\n",
      "The numeric columns we want to take the mean of:\n",
      "['AD_KDMA_Sim', 'AD_KDMA_Text', 'PropTrust', 'ST_KDMA_Sim', 'ST_KDMA_Text', 'mean_percent_accurate_tagging', 'scene_patient_count', 'scene_percent_injury_correctly_treated', 'scene_pulse_taken_count', 'scene_stills_value', 'scene_teleport_count', 'scene_time_to_hemorrhage_control_per_patient', 'scene_triage_time']\n"
     ]
    }
   ],
   "source": [
    "\n",
    "# Get the numeric columns we want to take the mean of\n",
    "print(\"\\nThe numeric columns we want to take the mean of:\")\n",
    "df = merge_df[on_columns + mean_analysis_columns]\n",
    "assert set(df.columns).issubset(set(merge_df.columns)), \"You've lost access to the mean analysis columns\"\n",
    "mean_numeric_columns = sorted(set(nu.get_numeric_columns(df)).difference(set(\n",
    "    on_columns\n",
    ")))\n",
    "print(mean_numeric_columns)"
   ]
  },
  {
   "cell_type": "code",
   "execution_count": 25,
   "id": "145100d2-d707-468a-ad2d-995eb7b8fbab",
   "metadata": {},
   "outputs": [
    {
     "name": "stdout",
     "output_type": "stream",
     "text": [
      "\n",
      "The numeric columns we want to take the sum of:\n",
      "['scene_action_count', 'scene_assessment_count', 'scene_tag_application_count', 'scene_treatment_count', 'treated_expectant_count']\n"
     ]
    }
   ],
   "source": [
    "\n",
    "# Get the numeric columns we want to take the sum of\n",
    "print(\"\\nThe numeric columns we want to take the sum of:\")\n",
    "df = merge_df[on_columns + sum_analysis_columns]\n",
    "assert set(df.columns).issubset(set(merge_df.columns)), \"You've lost access to the sum analysis columns\"\n",
    "sum_numeric_columns = sorted(set(nu.get_numeric_columns(df)).difference(set(\n",
    "    on_columns\n",
    ")))\n",
    "print(sum_numeric_columns)"
   ]
  },
  {
   "cell_type": "code",
   "execution_count": 26,
   "id": "b603f864-ab75-4c29-bebf-1f94d293e7c0",
   "metadata": {},
   "outputs": [
    {
     "name": "stdout",
     "output_type": "stream",
     "text": [
      "\n",
      "The other columns we do not want to take the mean or sum of:\n",
      "['participant_id', 'scene_id', 'session_uuid']\n"
     ]
    }
   ],
   "source": [
    "\n",
    "# Get the other columns we do not want to take the mean or sum of\n",
    "print(\"\\nThe other columns we do not want to take the mean or sum of:\")\n",
    "other_columns = sorted(set(on_columns + mean_analysis_columns + sum_analysis_columns).difference(set(\n",
    "    mean_numeric_columns + sum_numeric_columns\n",
    ")))\n",
    "print(other_columns)"
   ]
  },
  {
   "cell_type": "code",
   "execution_count": 27,
   "id": "226bdc47-f7ac-48de-8081-d00ae892867f",
   "metadata": {},
   "outputs": [
    {
     "name": "stdout",
     "output_type": "stream",
     "text": [
      "\n",
      "Columns to merge the summed half of the merge with the meaned half of the merge on:\n",
      "['participant_id', 'scene_id', 'session_uuid']\n"
     ]
    }
   ],
   "source": [
    "\n",
    "# Get the means and sums datasets and the columns to merge the summed half of the merge with the meaned half of the merge on\n",
    "means_df = merge_df[mean_numeric_columns+on_columns].groupby(on_columns).mean().reset_index(drop=False).rename(\n",
    "    columns={cn: 'mean_'+cn.replace('mean_', '').replace('scene_', '') for cn in mean_numeric_columns}\n",
    ").dropna(axis='columns', how='all')\n",
    "sums_df = merge_df[sum_numeric_columns+on_columns].groupby(on_columns).sum().reset_index(drop=False).rename(\n",
    "    columns={cn: 'sum_'+cn.replace('sum_', '').replace('scene_', '') for cn in sum_numeric_columns}\n",
    ").dropna(axis='columns', how='all')\n",
    "print(\"\\nColumns to merge the summed half of the merge with the meaned half of the merge on:\")\n",
    "on_columns = sorted(set(means_df.columns).intersection(set(sums_df.columns)))\n",
    "print(on_columns)\n",
    "left_df = means_df.merge(sums_df, on=on_columns, how='outer').drop_duplicates()"
   ]
  },
  {
   "cell_type": "code",
   "execution_count": 28,
   "id": "3f6045ba-4e00-40f7-bdfa-fbff47900954",
   "metadata": {},
   "outputs": [
    {
     "name": "stdout",
     "output_type": "stream",
     "text": [
      "\n",
      "Columns to merge the unaggregated half of the merge with the aggregated half of the merge on:\n",
      "['participant_id', 'scene_id', 'session_uuid']\n"
     ]
    }
   ],
   "source": [
    "\n",
    "# Get the columns to merge the unaggregated half of the merge with the aggregated half of the merge on\n",
    "right_df = merge_df[other_columns].drop_duplicates().dropna(axis='columns', how='all')\n",
    "print(\"\\nColumns to merge the unaggregated half of the merge with the aggregated half of the merge on:\")\n",
    "on_columns = sorted(set(left_df.columns).intersection(set(right_df.columns)))\n",
    "print(on_columns)"
   ]
  },
  {
   "cell_type": "code",
   "execution_count": 29,
   "id": "f147fe6b-a276-4a3c-9fec-21443ee65cca",
   "metadata": {},
   "outputs": [
    {
     "name": "stdout",
     "output_type": "stream",
     "text": [
      "\n",
      "Aggregate the data from the merged datasets and group by participant, session, and scene to get the means and sums of the numeric columns\n"
     ]
    }
   ],
   "source": [
    "\n",
    "# Merge the unaggregated half of the merge with the aggregated half\n",
    "print(\n",
    "    \"\\nAggregate the data from the merged datasets and group by participant, session,\"\n",
    "    \" and scene to get the means and sums of the numeric columns\"\n",
    ")\n",
    "anova_df = left_df.merge(right_df, on=on_columns, how='outer').drop_duplicates()\n",
    "assert set(\n",
    "    ['mean_'+cn for cn in survey_columns]\n",
    ").issubset(set(anova_df.columns)), \"You've lost acces to the survey columns (PropTrust, et al)\"\n",
    "assert len(anova_df.groupby(\n",
    "    ['participant_id', 'scene_id', 'session_uuid']\n",
    ").groups.keys()) == anova_df.shape[0], \"You have duplicate rows in anova_df\""
   ]
  },
  {
   "cell_type": "code",
   "execution_count": 30,
   "id": "f90326aa-5291-4f91-9e56-8b88584b4a12",
   "metadata": {},
   "outputs": [
    {
     "name": "stdout",
     "output_type": "stream",
     "text": [
      "\n",
      "Add the sim environment back in\n",
      "                  record_count\n",
      "encounter_layout              \n",
      "Desert                      15\n",
      "Jungle                      13\n",
      "Submarine                   13\n",
      "Urban                       13\n"
     ]
    }
   ],
   "source": [
    "\n",
    "# Add the sim environment back in\n",
    "print(\"\\nAdd the sim environment back in\")\n",
    "new_column = 'encounter_layout'\n",
    "on_columns = sorted(set(anova_df.columns).intersection(set(scene_stats_df.columns)))\n",
    "columns_list = on_columns + [new_column]\n",
    "assert set(columns_list).issubset(set(scene_stats_df.columns)), f\"You've lost acces to the {new_column} column\"\n",
    "anova_df = anova_df.merge(\n",
    "    scene_stats_df[columns_list], on=on_columns, how='left'\n",
    ")\n",
    "print(anova_df.groupby(new_column).size().to_frame().rename(columns={0: 'record_count'}).sort_values(\n",
    "    'record_count', ascending=False\n",
    ").head(5))"
   ]
  },
  {
   "cell_type": "code",
   "execution_count": 31,
   "id": "d526244e-a45c-4e72-981e-11719532b888",
   "metadata": {},
   "outputs": [
    {
     "name": "stdout",
     "output_type": "stream",
     "text": [
      "\n",
      "There are 0 out of 68 participations with low patient counts\n"
     ]
    }
   ],
   "source": [
    "\n",
    "# Check for low patient counts\n",
    "mask_series = (anova_df.mean_patient_count < 4)\n",
    "print(f\"\\nThere are {anova_df[mask_series].shape[0]} out of {anova_df.shape[0]} participations with low patient counts\")"
   ]
  },
  {
   "cell_type": "code",
   "execution_count": 32,
   "id": "98aee246-f73b-467c-bcda-548b69b963fa",
   "metadata": {},
   "outputs": [
    {
     "name": "stdout",
     "output_type": "stream",
     "text": [
      "Saving to /mnt/c/Users/DaveBabbitt/Documents/GitHub/itm-analysis-reporting/saves/csv/truncated_anova_df.csv\n"
     ]
    }
   ],
   "source": [
    "\n",
    "# Store the results\n",
    "columns_list = anova_df.columns.tolist()\n",
    "nu.save_data_frames(truncated_anova_df=anova_df[columns_list], verbose=True)"
   ]
  },
  {
   "cell_type": "code",
   "execution_count": 33,
   "id": "d5b14e4a-dc26-49fd-bf8b-87e06c545d4a",
   "metadata": {},
   "outputs": [
    {
     "data": {
      "text/html": [
       "<div>\n",
       "<style scoped>\n",
       "    .dataframe tbody tr th:only-of-type {\n",
       "        vertical-align: middle;\n",
       "    }\n",
       "\n",
       "    .dataframe tbody tr th {\n",
       "        vertical-align: top;\n",
       "    }\n",
       "\n",
       "    .dataframe thead th {\n",
       "        text-align: right;\n",
       "    }\n",
       "</style>\n",
       "<table border=\"1\" class=\"dataframe\">\n",
       "  <thead>\n",
       "    <tr style=\"text-align: right;\">\n",
       "      <th></th>\n",
       "      <th>count</th>\n",
       "      <th>mean</th>\n",
       "      <th>std</th>\n",
       "      <th>min</th>\n",
       "      <th>25%</th>\n",
       "      <th>50%</th>\n",
       "      <th>75%</th>\n",
       "      <th>max</th>\n",
       "    </tr>\n",
       "  </thead>\n",
       "  <tbody>\n",
       "    <tr>\n",
       "      <th>mean_AD_KDMA_Sim</th>\n",
       "      <td>54.0</td>\n",
       "      <td>4.229938e-01</td>\n",
       "      <td>1.081691e-01</td>\n",
       "      <td>0.175000</td>\n",
       "      <td>0.341667</td>\n",
       "      <td>4.416667e-01</td>\n",
       "      <td>4.750000e-01</td>\n",
       "      <td>8.000000e-01</td>\n",
       "    </tr>\n",
       "    <tr>\n",
       "      <th>mean_AD_KDMA_Text</th>\n",
       "      <td>54.0</td>\n",
       "      <td>4.083333e-01</td>\n",
       "      <td>9.269718e-02</td>\n",
       "      <td>0.141667</td>\n",
       "      <td>0.366667</td>\n",
       "      <td>4.166667e-01</td>\n",
       "      <td>4.666667e-01</td>\n",
       "      <td>6.250000e-01</td>\n",
       "    </tr>\n",
       "    <tr>\n",
       "      <th>mean_PropTrust</th>\n",
       "      <td>51.0</td>\n",
       "      <td>3.627451e+00</td>\n",
       "      <td>9.058993e-01</td>\n",
       "      <td>0.000000</td>\n",
       "      <td>3.666667</td>\n",
       "      <td>4.000000e+00</td>\n",
       "      <td>4.000000e+00</td>\n",
       "      <td>4.333333e+00</td>\n",
       "    </tr>\n",
       "    <tr>\n",
       "      <th>mean_ST_KDMA_Sim</th>\n",
       "      <td>54.0</td>\n",
       "      <td>5.524821e-01</td>\n",
       "      <td>6.101352e-02</td>\n",
       "      <td>0.361538</td>\n",
       "      <td>0.530528</td>\n",
       "      <td>5.538462e-01</td>\n",
       "      <td>5.955128e-01</td>\n",
       "      <td>6.433566e-01</td>\n",
       "    </tr>\n",
       "    <tr>\n",
       "      <th>mean_ST_KDMA_Text</th>\n",
       "      <td>54.0</td>\n",
       "      <td>3.778463e-01</td>\n",
       "      <td>8.540882e-02</td>\n",
       "      <td>0.222553</td>\n",
       "      <td>0.312732</td>\n",
       "      <td>3.809398e-01</td>\n",
       "      <td>4.315112e-01</td>\n",
       "      <td>5.691236e-01</td>\n",
       "    </tr>\n",
       "    <tr>\n",
       "      <th>mean_percent_accurate_tagging</th>\n",
       "      <td>54.0</td>\n",
       "      <td>3.111111e+01</td>\n",
       "      <td>2.030003e+01</td>\n",
       "      <td>0.000000</td>\n",
       "      <td>12.625000</td>\n",
       "      <td>2.875000e+01</td>\n",
       "      <td>4.250000e+01</td>\n",
       "      <td>7.500000e+01</td>\n",
       "    </tr>\n",
       "    <tr>\n",
       "      <th>mean_patient_count</th>\n",
       "      <td>54.0</td>\n",
       "      <td>4.240741e+00</td>\n",
       "      <td>4.315477e-01</td>\n",
       "      <td>4.000000</td>\n",
       "      <td>4.000000</td>\n",
       "      <td>4.000000e+00</td>\n",
       "      <td>4.000000e+00</td>\n",
       "      <td>5.000000e+00</td>\n",
       "    </tr>\n",
       "    <tr>\n",
       "      <th>mean_percent_injury_correctly_treated</th>\n",
       "      <td>52.0</td>\n",
       "      <td>3.726908e+01</td>\n",
       "      <td>2.654799e+01</td>\n",
       "      <td>0.000000</td>\n",
       "      <td>13.621795</td>\n",
       "      <td>4.006410e+01</td>\n",
       "      <td>5.785714e+01</td>\n",
       "      <td>8.500000e+01</td>\n",
       "    </tr>\n",
       "    <tr>\n",
       "      <th>mean_pulse_taken_count</th>\n",
       "      <td>54.0</td>\n",
       "      <td>8.111111e+00</td>\n",
       "      <td>7.642154e+00</td>\n",
       "      <td>0.000000</td>\n",
       "      <td>2.000000</td>\n",
       "      <td>6.000000e+00</td>\n",
       "      <td>1.175000e+01</td>\n",
       "      <td>2.600000e+01</td>\n",
       "    </tr>\n",
       "    <tr>\n",
       "      <th>mean_stills_value</th>\n",
       "      <td>54.0</td>\n",
       "      <td>6.851852e-01</td>\n",
       "      <td>4.688031e-01</td>\n",
       "      <td>0.000000</td>\n",
       "      <td>0.000000</td>\n",
       "      <td>1.000000e+00</td>\n",
       "      <td>1.000000e+00</td>\n",
       "      <td>1.000000e+00</td>\n",
       "    </tr>\n",
       "    <tr>\n",
       "      <th>mean_teleport_count</th>\n",
       "      <td>54.0</td>\n",
       "      <td>6.455556e+01</td>\n",
       "      <td>3.827343e+01</td>\n",
       "      <td>1.000000</td>\n",
       "      <td>35.750000</td>\n",
       "      <td>6.150000e+01</td>\n",
       "      <td>8.175000e+01</td>\n",
       "      <td>1.680000e+02</td>\n",
       "    </tr>\n",
       "    <tr>\n",
       "      <th>mean_time_to_hemorrhage_control_per_patient</th>\n",
       "      <td>52.0</td>\n",
       "      <td>1.147501e+04</td>\n",
       "      <td>1.520396e+04</td>\n",
       "      <td>0.000000</td>\n",
       "      <td>0.000000</td>\n",
       "      <td>7.013583e+03</td>\n",
       "      <td>1.513112e+04</td>\n",
       "      <td>7.459150e+04</td>\n",
       "    </tr>\n",
       "    <tr>\n",
       "      <th>mean_triage_time</th>\n",
       "      <td>54.0</td>\n",
       "      <td>8.211507e+05</td>\n",
       "      <td>3.145597e+05</td>\n",
       "      <td>18810.000000</td>\n",
       "      <td>622083.750000</td>\n",
       "      <td>8.446520e+05</td>\n",
       "      <td>9.623475e+05</td>\n",
       "      <td>1.570828e+06</td>\n",
       "    </tr>\n",
       "    <tr>\n",
       "      <th>sum_action_count</th>\n",
       "      <td>68.0</td>\n",
       "      <td>5.064132e+06</td>\n",
       "      <td>6.834964e+06</td>\n",
       "      <td>0.000000</td>\n",
       "      <td>241118.250000</td>\n",
       "      <td>2.423936e+06</td>\n",
       "      <td>7.100355e+06</td>\n",
       "      <td>3.123966e+07</td>\n",
       "    </tr>\n",
       "    <tr>\n",
       "      <th>sum_assessment_count</th>\n",
       "      <td>68.0</td>\n",
       "      <td>3.916074e+04</td>\n",
       "      <td>5.470787e+04</td>\n",
       "      <td>0.000000</td>\n",
       "      <td>0.000000</td>\n",
       "      <td>1.899200e+04</td>\n",
       "      <td>4.990300e+04</td>\n",
       "      <td>2.271540e+05</td>\n",
       "    </tr>\n",
       "    <tr>\n",
       "      <th>sum_tag_application_count</th>\n",
       "      <td>68.0</td>\n",
       "      <td>7.269103e+03</td>\n",
       "      <td>9.751252e+03</td>\n",
       "      <td>0.000000</td>\n",
       "      <td>0.000000</td>\n",
       "      <td>2.711000e+03</td>\n",
       "      <td>1.136200e+04</td>\n",
       "      <td>3.554000e+04</td>\n",
       "    </tr>\n",
       "    <tr>\n",
       "      <th>sum_treatment_count</th>\n",
       "      <td>68.0</td>\n",
       "      <td>2.549938e+04</td>\n",
       "      <td>3.938095e+04</td>\n",
       "      <td>0.000000</td>\n",
       "      <td>0.000000</td>\n",
       "      <td>1.101250e+04</td>\n",
       "      <td>3.332125e+04</td>\n",
       "      <td>2.367270e+05</td>\n",
       "    </tr>\n",
       "    <tr>\n",
       "      <th>sum_treated_expectant_count</th>\n",
       "      <td>68.0</td>\n",
       "      <td>0.000000e+00</td>\n",
       "      <td>0.000000e+00</td>\n",
       "      <td>0.000000</td>\n",
       "      <td>0.000000</td>\n",
       "      <td>0.000000e+00</td>\n",
       "      <td>0.000000e+00</td>\n",
       "      <td>0.000000e+00</td>\n",
       "    </tr>\n",
       "  </tbody>\n",
       "</table>\n",
       "</div>"
      ],
      "text/plain": [
       "                                             count          mean  \\\n",
       "mean_AD_KDMA_Sim                              54.0  4.229938e-01   \n",
       "mean_AD_KDMA_Text                             54.0  4.083333e-01   \n",
       "mean_PropTrust                                51.0  3.627451e+00   \n",
       "mean_ST_KDMA_Sim                              54.0  5.524821e-01   \n",
       "mean_ST_KDMA_Text                             54.0  3.778463e-01   \n",
       "mean_percent_accurate_tagging                 54.0  3.111111e+01   \n",
       "mean_patient_count                            54.0  4.240741e+00   \n",
       "mean_percent_injury_correctly_treated         52.0  3.726908e+01   \n",
       "mean_pulse_taken_count                        54.0  8.111111e+00   \n",
       "mean_stills_value                             54.0  6.851852e-01   \n",
       "mean_teleport_count                           54.0  6.455556e+01   \n",
       "mean_time_to_hemorrhage_control_per_patient   52.0  1.147501e+04   \n",
       "mean_triage_time                              54.0  8.211507e+05   \n",
       "sum_action_count                              68.0  5.064132e+06   \n",
       "sum_assessment_count                          68.0  3.916074e+04   \n",
       "sum_tag_application_count                     68.0  7.269103e+03   \n",
       "sum_treatment_count                           68.0  2.549938e+04   \n",
       "sum_treated_expectant_count                   68.0  0.000000e+00   \n",
       "\n",
       "                                                      std           min  \\\n",
       "mean_AD_KDMA_Sim                             1.081691e-01      0.175000   \n",
       "mean_AD_KDMA_Text                            9.269718e-02      0.141667   \n",
       "mean_PropTrust                               9.058993e-01      0.000000   \n",
       "mean_ST_KDMA_Sim                             6.101352e-02      0.361538   \n",
       "mean_ST_KDMA_Text                            8.540882e-02      0.222553   \n",
       "mean_percent_accurate_tagging                2.030003e+01      0.000000   \n",
       "mean_patient_count                           4.315477e-01      4.000000   \n",
       "mean_percent_injury_correctly_treated        2.654799e+01      0.000000   \n",
       "mean_pulse_taken_count                       7.642154e+00      0.000000   \n",
       "mean_stills_value                            4.688031e-01      0.000000   \n",
       "mean_teleport_count                          3.827343e+01      1.000000   \n",
       "mean_time_to_hemorrhage_control_per_patient  1.520396e+04      0.000000   \n",
       "mean_triage_time                             3.145597e+05  18810.000000   \n",
       "sum_action_count                             6.834964e+06      0.000000   \n",
       "sum_assessment_count                         5.470787e+04      0.000000   \n",
       "sum_tag_application_count                    9.751252e+03      0.000000   \n",
       "sum_treatment_count                          3.938095e+04      0.000000   \n",
       "sum_treated_expectant_count                  0.000000e+00      0.000000   \n",
       "\n",
       "                                                       25%           50%  \\\n",
       "mean_AD_KDMA_Sim                                  0.341667  4.416667e-01   \n",
       "mean_AD_KDMA_Text                                 0.366667  4.166667e-01   \n",
       "mean_PropTrust                                    3.666667  4.000000e+00   \n",
       "mean_ST_KDMA_Sim                                  0.530528  5.538462e-01   \n",
       "mean_ST_KDMA_Text                                 0.312732  3.809398e-01   \n",
       "mean_percent_accurate_tagging                    12.625000  2.875000e+01   \n",
       "mean_patient_count                                4.000000  4.000000e+00   \n",
       "mean_percent_injury_correctly_treated            13.621795  4.006410e+01   \n",
       "mean_pulse_taken_count                            2.000000  6.000000e+00   \n",
       "mean_stills_value                                 0.000000  1.000000e+00   \n",
       "mean_teleport_count                              35.750000  6.150000e+01   \n",
       "mean_time_to_hemorrhage_control_per_patient       0.000000  7.013583e+03   \n",
       "mean_triage_time                             622083.750000  8.446520e+05   \n",
       "sum_action_count                             241118.250000  2.423936e+06   \n",
       "sum_assessment_count                              0.000000  1.899200e+04   \n",
       "sum_tag_application_count                         0.000000  2.711000e+03   \n",
       "sum_treatment_count                               0.000000  1.101250e+04   \n",
       "sum_treated_expectant_count                       0.000000  0.000000e+00   \n",
       "\n",
       "                                                      75%           max  \n",
       "mean_AD_KDMA_Sim                             4.750000e-01  8.000000e-01  \n",
       "mean_AD_KDMA_Text                            4.666667e-01  6.250000e-01  \n",
       "mean_PropTrust                               4.000000e+00  4.333333e+00  \n",
       "mean_ST_KDMA_Sim                             5.955128e-01  6.433566e-01  \n",
       "mean_ST_KDMA_Text                            4.315112e-01  5.691236e-01  \n",
       "mean_percent_accurate_tagging                4.250000e+01  7.500000e+01  \n",
       "mean_patient_count                           4.000000e+00  5.000000e+00  \n",
       "mean_percent_injury_correctly_treated        5.785714e+01  8.500000e+01  \n",
       "mean_pulse_taken_count                       1.175000e+01  2.600000e+01  \n",
       "mean_stills_value                            1.000000e+00  1.000000e+00  \n",
       "mean_teleport_count                          8.175000e+01  1.680000e+02  \n",
       "mean_time_to_hemorrhage_control_per_patient  1.513112e+04  7.459150e+04  \n",
       "mean_triage_time                             9.623475e+05  1.570828e+06  \n",
       "sum_action_count                             7.100355e+06  3.123966e+07  \n",
       "sum_assessment_count                         4.990300e+04  2.271540e+05  \n",
       "sum_tag_application_count                    1.136200e+04  3.554000e+04  \n",
       "sum_treatment_count                          3.332125e+04  2.367270e+05  \n",
       "sum_treated_expectant_count                  0.000000e+00  0.000000e+00  "
      ]
     },
     "execution_count": 33,
     "metadata": {},
     "output_type": "execute_result"
    }
   ],
   "source": [
    "\n",
    "# Formally describe the analytic columns\n",
    "columns_list = ['mean_'+cn for cn in survey_columns] + [\n",
    "    'mean_percent_accurate_tagging', 'mean_patient_count', 'mean_percent_injury_correctly_treated', 'mean_pulse_taken_count',\n",
    "    'mean_stills_value', 'mean_teleport_count', 'mean_time_to_hemorrhage_control_per_patient', 'mean_triage_time',\n",
    "    'sum_action_count', 'sum_assessment_count', 'sum_tag_application_count', 'sum_treatment_count', 'sum_treated_expectant_count'\n",
    "]\n",
    "anova_df[columns_list].describe().T"
   ]
  },
  {
   "cell_type": "code",
   "execution_count": 40,
   "id": "207381e3-d53e-47c4-8b48-13164f57fe16",
   "metadata": {},
   "outputs": [
    {
     "name": "stdout",
     "output_type": "stream",
     "text": [
      "Saving to /mnt/c/Users/DaveBabbitt/Documents/GitHub/itm-analysis-reporting/saves/csv/description_df.csv\n"
     ]
    },
    {
     "data": {
      "text/html": [
       "<div>\n",
       "<style scoped>\n",
       "    .dataframe tbody tr th:only-of-type {\n",
       "        vertical-align: middle;\n",
       "    }\n",
       "\n",
       "    .dataframe tbody tr th {\n",
       "        vertical-align: top;\n",
       "    }\n",
       "\n",
       "    .dataframe thead th {\n",
       "        text-align: right;\n",
       "    }\n",
       "</style>\n",
       "<table border=\"1\" class=\"dataframe\">\n",
       "  <thead>\n",
       "    <tr style=\"text-align: right;\">\n",
       "      <th></th>\n",
       "      <th>min</th>\n",
       "      <th>median</th>\n",
       "      <th>max</th>\n",
       "      <th>IQR</th>\n",
       "      <th>range</th>\n",
       "      <th>mean</th>\n",
       "      <th>SD</th>\n",
       "    </tr>\n",
       "  </thead>\n",
       "  <tbody>\n",
       "    <tr>\n",
       "      <th>mean_AD_KDMA_Sim</th>\n",
       "      <td>0.1750</td>\n",
       "      <td>0.4417</td>\n",
       "      <td>0.8000</td>\n",
       "      <td>0.1333</td>\n",
       "      <td>0.6250</td>\n",
       "      <td>0.4230</td>\n",
       "      <td>0.1082</td>\n",
       "    </tr>\n",
       "    <tr>\n",
       "      <th>mean_AD_KDMA_Text</th>\n",
       "      <td>0.1417</td>\n",
       "      <td>0.4167</td>\n",
       "      <td>0.6250</td>\n",
       "      <td>0.1000</td>\n",
       "      <td>0.4833</td>\n",
       "      <td>0.4083</td>\n",
       "      <td>0.0927</td>\n",
       "    </tr>\n",
       "    <tr>\n",
       "      <th>mean_PropTrust</th>\n",
       "      <td>0.0000</td>\n",
       "      <td>4.0000</td>\n",
       "      <td>4.3333</td>\n",
       "      <td>0.3333</td>\n",
       "      <td>4.3333</td>\n",
       "      <td>3.6275</td>\n",
       "      <td>0.9059</td>\n",
       "    </tr>\n",
       "    <tr>\n",
       "      <th>mean_ST_KDMA_Sim</th>\n",
       "      <td>0.3615</td>\n",
       "      <td>0.5538</td>\n",
       "      <td>0.6434</td>\n",
       "      <td>0.0650</td>\n",
       "      <td>0.2818</td>\n",
       "      <td>0.5525</td>\n",
       "      <td>0.0610</td>\n",
       "    </tr>\n",
       "    <tr>\n",
       "      <th>mean_ST_KDMA_Text</th>\n",
       "      <td>0.2226</td>\n",
       "      <td>0.3809</td>\n",
       "      <td>0.5691</td>\n",
       "      <td>0.1188</td>\n",
       "      <td>0.3466</td>\n",
       "      <td>0.3778</td>\n",
       "      <td>0.0854</td>\n",
       "    </tr>\n",
       "    <tr>\n",
       "      <th>mean_percent_accurate_tagging</th>\n",
       "      <td>0.0000</td>\n",
       "      <td>28.7500</td>\n",
       "      <td>75.0000</td>\n",
       "      <td>29.8750</td>\n",
       "      <td>75.0000</td>\n",
       "      <td>31.1111</td>\n",
       "      <td>20.3000</td>\n",
       "    </tr>\n",
       "    <tr>\n",
       "      <th>mean_patient_count</th>\n",
       "      <td>4.0000</td>\n",
       "      <td>4.0000</td>\n",
       "      <td>5.0000</td>\n",
       "      <td>0.0000</td>\n",
       "      <td>1.0000</td>\n",
       "      <td>4.2407</td>\n",
       "      <td>0.4315</td>\n",
       "    </tr>\n",
       "    <tr>\n",
       "      <th>mean_percent_injury_correctly_treated</th>\n",
       "      <td>0.0000</td>\n",
       "      <td>40.0641</td>\n",
       "      <td>85.0000</td>\n",
       "      <td>44.2353</td>\n",
       "      <td>85.0000</td>\n",
       "      <td>37.2691</td>\n",
       "      <td>26.5480</td>\n",
       "    </tr>\n",
       "    <tr>\n",
       "      <th>mean_pulse_taken_count</th>\n",
       "      <td>0.0000</td>\n",
       "      <td>6.0000</td>\n",
       "      <td>26.0000</td>\n",
       "      <td>9.7500</td>\n",
       "      <td>26.0000</td>\n",
       "      <td>8.1111</td>\n",
       "      <td>7.6422</td>\n",
       "    </tr>\n",
       "    <tr>\n",
       "      <th>mean_stills_value</th>\n",
       "      <td>0.0000</td>\n",
       "      <td>1.0000</td>\n",
       "      <td>1.0000</td>\n",
       "      <td>1.0000</td>\n",
       "      <td>1.0000</td>\n",
       "      <td>0.6852</td>\n",
       "      <td>0.4688</td>\n",
       "    </tr>\n",
       "    <tr>\n",
       "      <th>mean_teleport_count</th>\n",
       "      <td>1.0000</td>\n",
       "      <td>61.5000</td>\n",
       "      <td>168.0000</td>\n",
       "      <td>46.0000</td>\n",
       "      <td>167.0000</td>\n",
       "      <td>64.5556</td>\n",
       "      <td>38.2734</td>\n",
       "    </tr>\n",
       "    <tr>\n",
       "      <th>mean_time_to_hemorrhage_control_per_patient</th>\n",
       "      <td>0.0000</td>\n",
       "      <td>7013.5833</td>\n",
       "      <td>74591.5000</td>\n",
       "      <td>15131.1250</td>\n",
       "      <td>74591.5000</td>\n",
       "      <td>11475.0064</td>\n",
       "      <td>15203.9634</td>\n",
       "    </tr>\n",
       "    <tr>\n",
       "      <th>mean_triage_time</th>\n",
       "      <td>18810.0000</td>\n",
       "      <td>844652.0000</td>\n",
       "      <td>1570828.0000</td>\n",
       "      <td>340263.7500</td>\n",
       "      <td>1552018.0000</td>\n",
       "      <td>821150.7222</td>\n",
       "      <td>314559.7220</td>\n",
       "    </tr>\n",
       "    <tr>\n",
       "      <th>sum_action_count</th>\n",
       "      <td>0.0000</td>\n",
       "      <td>2423936.0000</td>\n",
       "      <td>31239660.0000</td>\n",
       "      <td>6859236.7500</td>\n",
       "      <td>31239660.0000</td>\n",
       "      <td>5064132.0000</td>\n",
       "      <td>6834963.7072</td>\n",
       "    </tr>\n",
       "    <tr>\n",
       "      <th>sum_assessment_count</th>\n",
       "      <td>0.0000</td>\n",
       "      <td>18992.0000</td>\n",
       "      <td>227154.0000</td>\n",
       "      <td>49903.0000</td>\n",
       "      <td>227154.0000</td>\n",
       "      <td>39160.7353</td>\n",
       "      <td>54707.8702</td>\n",
       "    </tr>\n",
       "    <tr>\n",
       "      <th>sum_tag_application_count</th>\n",
       "      <td>0.0000</td>\n",
       "      <td>2711.0000</td>\n",
       "      <td>35540.0000</td>\n",
       "      <td>11362.0000</td>\n",
       "      <td>35540.0000</td>\n",
       "      <td>7269.1029</td>\n",
       "      <td>9751.2518</td>\n",
       "    </tr>\n",
       "    <tr>\n",
       "      <th>sum_treatment_count</th>\n",
       "      <td>0.0000</td>\n",
       "      <td>11012.5000</td>\n",
       "      <td>236727.0000</td>\n",
       "      <td>33321.2500</td>\n",
       "      <td>236727.0000</td>\n",
       "      <td>25499.3824</td>\n",
       "      <td>39380.9505</td>\n",
       "    </tr>\n",
       "    <tr>\n",
       "      <th>sum_treated_expectant_count</th>\n",
       "      <td>0.0000</td>\n",
       "      <td>0.0000</td>\n",
       "      <td>0.0000</td>\n",
       "      <td>0.0000</td>\n",
       "      <td>0.0000</td>\n",
       "      <td>0.0000</td>\n",
       "      <td>0.0000</td>\n",
       "    </tr>\n",
       "  </tbody>\n",
       "</table>\n",
       "</div>"
      ],
      "text/plain": [
       "                                                    min        median  \\\n",
       "mean_AD_KDMA_Sim                                 0.1750        0.4417   \n",
       "mean_AD_KDMA_Text                                0.1417        0.4167   \n",
       "mean_PropTrust                                   0.0000        4.0000   \n",
       "mean_ST_KDMA_Sim                                 0.3615        0.5538   \n",
       "mean_ST_KDMA_Text                                0.2226        0.3809   \n",
       "mean_percent_accurate_tagging                    0.0000       28.7500   \n",
       "mean_patient_count                               4.0000        4.0000   \n",
       "mean_percent_injury_correctly_treated            0.0000       40.0641   \n",
       "mean_pulse_taken_count                           0.0000        6.0000   \n",
       "mean_stills_value                                0.0000        1.0000   \n",
       "mean_teleport_count                              1.0000       61.5000   \n",
       "mean_time_to_hemorrhage_control_per_patient      0.0000     7013.5833   \n",
       "mean_triage_time                             18810.0000   844652.0000   \n",
       "sum_action_count                                 0.0000  2423936.0000   \n",
       "sum_assessment_count                             0.0000    18992.0000   \n",
       "sum_tag_application_count                        0.0000     2711.0000   \n",
       "sum_treatment_count                              0.0000    11012.5000   \n",
       "sum_treated_expectant_count                      0.0000        0.0000   \n",
       "\n",
       "                                                       max           IQR  \\\n",
       "mean_AD_KDMA_Sim                                    0.8000        0.1333   \n",
       "mean_AD_KDMA_Text                                   0.6250        0.1000   \n",
       "mean_PropTrust                                      4.3333        0.3333   \n",
       "mean_ST_KDMA_Sim                                    0.6434        0.0650   \n",
       "mean_ST_KDMA_Text                                   0.5691        0.1188   \n",
       "mean_percent_accurate_tagging                      75.0000       29.8750   \n",
       "mean_patient_count                                  5.0000        0.0000   \n",
       "mean_percent_injury_correctly_treated              85.0000       44.2353   \n",
       "mean_pulse_taken_count                             26.0000        9.7500   \n",
       "mean_stills_value                                   1.0000        1.0000   \n",
       "mean_teleport_count                               168.0000       46.0000   \n",
       "mean_time_to_hemorrhage_control_per_patient     74591.5000    15131.1250   \n",
       "mean_triage_time                              1570828.0000   340263.7500   \n",
       "sum_action_count                             31239660.0000  6859236.7500   \n",
       "sum_assessment_count                           227154.0000    49903.0000   \n",
       "sum_tag_application_count                       35540.0000    11362.0000   \n",
       "sum_treatment_count                            236727.0000    33321.2500   \n",
       "sum_treated_expectant_count                         0.0000        0.0000   \n",
       "\n",
       "                                                     range          mean  \\\n",
       "mean_AD_KDMA_Sim                                    0.6250        0.4230   \n",
       "mean_AD_KDMA_Text                                   0.4833        0.4083   \n",
       "mean_PropTrust                                      4.3333        3.6275   \n",
       "mean_ST_KDMA_Sim                                    0.2818        0.5525   \n",
       "mean_ST_KDMA_Text                                   0.3466        0.3778   \n",
       "mean_percent_accurate_tagging                      75.0000       31.1111   \n",
       "mean_patient_count                                  1.0000        4.2407   \n",
       "mean_percent_injury_correctly_treated              85.0000       37.2691   \n",
       "mean_pulse_taken_count                             26.0000        8.1111   \n",
       "mean_stills_value                                   1.0000        0.6852   \n",
       "mean_teleport_count                               167.0000       64.5556   \n",
       "mean_time_to_hemorrhage_control_per_patient     74591.5000    11475.0064   \n",
       "mean_triage_time                              1552018.0000   821150.7222   \n",
       "sum_action_count                             31239660.0000  5064132.0000   \n",
       "sum_assessment_count                           227154.0000    39160.7353   \n",
       "sum_tag_application_count                       35540.0000     7269.1029   \n",
       "sum_treatment_count                            236727.0000    25499.3824   \n",
       "sum_treated_expectant_count                         0.0000        0.0000   \n",
       "\n",
       "                                                       SD  \n",
       "mean_AD_KDMA_Sim                                   0.1082  \n",
       "mean_AD_KDMA_Text                                  0.0927  \n",
       "mean_PropTrust                                     0.9059  \n",
       "mean_ST_KDMA_Sim                                   0.0610  \n",
       "mean_ST_KDMA_Text                                  0.0854  \n",
       "mean_percent_accurate_tagging                     20.3000  \n",
       "mean_patient_count                                 0.4315  \n",
       "mean_percent_injury_correctly_treated             26.5480  \n",
       "mean_pulse_taken_count                             7.6422  \n",
       "mean_stills_value                                  0.4688  \n",
       "mean_teleport_count                               38.2734  \n",
       "mean_time_to_hemorrhage_control_per_patient    15203.9634  \n",
       "mean_triage_time                              314559.7220  \n",
       "sum_action_count                             6834963.7072  \n",
       "sum_assessment_count                           54707.8702  \n",
       "sum_tag_application_count                       9751.2518  \n",
       "sum_treatment_count                            39380.9505  \n",
       "sum_treated_expectant_count                        0.0000  "
      ]
     },
     "metadata": {},
     "output_type": "display_data"
    }
   ],
   "source": [
    "\n",
    "# Get statistics using OSU format\n",
    "columns_list = ['mean_'+cn for cn in survey_columns] + [\n",
    "    'mean_percent_accurate_tagging', 'mean_patient_count', 'mean_percent_injury_correctly_treated', 'mean_pulse_taken_count',\n",
    "    'mean_stills_value', 'mean_teleport_count', 'mean_time_to_hemorrhage_control_per_patient', 'mean_triage_time',\n",
    "    'sum_action_count', 'sum_assessment_count', 'sum_tag_application_count', 'sum_treatment_count', 'sum_treated_expectant_count'\n",
    "]\n",
    "description_df = nu.get_statistics(anova_df, columns_list).T\n",
    "\n",
    "# Calculate range and IQR\n",
    "description_df['range'] = description_df['max'] - description_df['min']\n",
    "description_df['IQR'] = description_df['75%'] - description_df['25%']\n",
    "\n",
    "# Define the index list\n",
    "index_list = ['min', 'median', 'max', 'IQR', 'range', 'mean', 'SD']\n",
    "\n",
    "# Set formatting to prevent scientific notation (assuming numeric columns)\n",
    "description_df = description_df[index_list].applymap('{:.4f}'.format)  # Format as floats with 4 decimals\n",
    "\n",
    "# Display the DataFrame subset\n",
    "nu.save_data_frames(description_df=description_df, verbose=True)\n",
    "display(description_df)"
   ]
  },
  {
   "cell_type": "markdown",
   "id": "e19765b9-bf27-4015-bf4d-5611af98c108",
   "metadata": {},
   "source": [
    "\n",
    "# Plot the Correlations"
   ]
  },
  {
   "cell_type": "code",
   "execution_count": 25,
   "id": "cb39844f-3e44-4422-9e7c-509b9fd5afc9",
   "metadata": {},
   "outputs": [],
   "source": [
    "\n",
    "# Define a means to plot a correlation graph\n",
    "import matplotlib.colors as colors\n",
    "import numpy as np\n",
    "import matplotlib.pyplot as plt\n",
    "\n",
    "def plot_correlation_graph(correlations, title_str='Correlation Matrix of ??', ax=None):\n",
    "    \n",
    "    # Plotting the correlation matrix using matplotlib\n",
    "    if ax is None:\n",
    "        fig, ax = plt.subplots(figsize=(8, 6))\n",
    "    cmap = plt.get_cmap('coolwarm')\n",
    "    norm = colors.Normalize(vmin=-1, vmax=1)\n",
    "\n",
    "    # Create the heatmap\n",
    "    cax = ax.matshow(correlations, cmap=cmap, norm=norm)\n",
    "\n",
    "    # Add a color bar\n",
    "    fig.colorbar(cax)\n",
    "\n",
    "    # Set up axes\n",
    "    ax.set_xticks(np.arange(len(correlations.columns)))\n",
    "    ax.set_yticks(np.arange(len(correlations.columns)))\n",
    "    ax.set_xticklabels(correlations.columns)\n",
    "    ax.set_yticklabels(correlations.columns)\n",
    "\n",
    "    # Rotate the tick labels and set their alignment.\n",
    "    plt.setp(ax.get_xticklabels(), rotation=45, ha='left', rotation_mode='anchor')\n",
    "\n",
    "    # Add text annotations.\n",
    "    for (i, j), val in np.ndenumerate(correlations):\n",
    "        ax.text(j, i, f'{val:.3f}', ha='center', va='center', color='black', fontsize=48/correlations.shape[0])\n",
    "    plt.title(title_str)\n",
    "    plt.show()"
   ]
  },
  {
   "cell_type": "code",
   "execution_count": 38,
   "id": "9c490830-cf1f-4e73-a21d-6d51d5f974a5",
   "metadata": {},
   "outputs": [
    {
     "name": "stdout",
     "output_type": "stream",
     "text": [
      "Saving to /mnt/c/Users/DaveBabbitt/Documents/GitHub/itm-analysis-reporting/saves/csv/correlations_df.csv\n"
     ]
    },
    {
     "data": {
      "image/png": "[encoded data removed]",
      "text/plain": [
       "<Figure size 800x600 with 2 Axes>"
      ]
     },
     "metadata": {},
     "output_type": "display_data"
    }
   ],
   "source": [
    "\n",
    "# Plot the correlations of all the numeric columns in the ANOVA dataset\n",
    "columns_list = ['mean_'+cn for cn in survey_columns] + [\n",
    "    'mean_percent_accurate_tagging', 'mean_patient_count', 'mean_percent_injury_correctly_treated', 'mean_pulse_taken_count',\n",
    "    'mean_stills_value', 'mean_teleport_count', 'mean_time_to_hemorrhage_control_per_patient', 'mean_triage_time',\n",
    "    'sum_action_count', 'sum_assessment_count', 'sum_tag_application_count', 'sum_treatment_count', 'sum_treated_expectant_count'\n",
    "]\n",
    "# columns_list = ['mean_'+cn for cn in survey_columns]\n",
    "df = anova_df[columns_list]\n",
    "correlations_df = df.corr().round(3)\n",
    "nu.save_data_frames(correlations_df=correlations_df, verbose=True)\n",
    "plot_correlation_graph(correlations_df, title_str=f\"Correlation Matrix of all Numeric ANOVA columns\")"
   ]
  },
  {
   "cell_type": "code",
   "execution_count": null,
   "id": "e20dd612-8ab5-4315-8239-194b4e748b46",
   "metadata": {},
   "outputs": [],
   "source": [
    "raise"
   ]
  },
  {
   "cell_type": "markdown",
   "id": "31e52c66-a42e-480c-9400-c593f8e8146d",
   "metadata": {},
   "source": [
    "\n",
    "----"
   ]
  },
  {
   "cell_type": "raw",
   "id": "3fa2625e-6bb4-40e7-9b90-da76ff0f14db",
   "metadata": {},
   "source": [
    "\n",
    "CACI needs 18 total variables:\n",
    "mean_AD_KDMA_Sim\n",
    "mean_AD_KDMA_Text\n",
    "mean_PropTrust\n",
    "mean_ST_KDMA_Sim\n",
    "mean_ST_KDMA_Text\n",
    "percent_injury_correcly_treated\n",
    "mean_pulse_taken_count\n",
    "mean_stills_value\n",
    "mean_teleport_count\n",
    "mean_time_to_hemorrhage_control_per_patient\n",
    "mean_triage_time\n",
    "mean_patient_count\n",
    "mean_percent_accurate_tagging\n",
    "total_action_count\n",
    "total_assessment_count\n",
    "total_treatment_count\n",
    "total_tag_application_count\n",
    "treated_expectant_count"
   ]
  },
  {
   "cell_type": "code",
   "execution_count": null,
   "id": "e17ecfc8-891b-42fa-bd50-5a543f300e4b",
   "metadata": {},
   "outputs": [],
   "source": [
    "\n",
    "# Check for miscalculated injury columns\n",
    "assert (\n",
    "    scene_stats_df.all_patient_injuries_count == scene_stats_df[\n",
    "        ['injury_correctly_treated_count', 'injury_not_treated_count', 'injury_wrongly_treated_count']\n",
    "    ].sum(axis='columns')\n",
    ").all(), \"The sum of the various injury counts does not match the total injury count for all rows.\""
   ]
  },
  {
   "cell_type": "code",
   "execution_count": null,
   "id": "629cc02c-3fca-4894-8a88-a1e6cc1f7fc0",
   "metadata": {},
   "outputs": [],
   "source": [
    "\n",
    "new_column_name = 'scene_type'\n",
    "if (new_column_name in scene_stats_df.columns): scene_stats_df = scene_stats_df.drop(columns=new_column_name)\n",
    "if (new_column_name not in scene_stats_df.columns): scene_stats_df[new_column_name] = 'Triage'\n",
    "column_value = 'Orientation'\n",
    "if (column_value not in scene_stats_df.scene_type):\n",
    "    for (session_uuid, scene_id), scene_df in csv_stats_df.groupby(fu.scene_groupby_columns):\n",
    "        patients_list = sorted(scene_df[~scene_df.patient_id.isnull()].patient_id.unique())\n",
    "        is_mike_series = Series(patients_list).map(lambda x: 'mike' in str(x).lower())\n",
    "        if is_mike_series.all():\n",
    "            mask_series = True\n",
    "            for cn in fu.scene_groupby_columns: mask_series &= (scene_stats_df[cn] == eval(cn))\n",
    "            scene_stats_df.loc[mask_series, new_column_name] = column_value\n",
    "    display(\n",
    "        scene_stats_df.groupby([new_column_name]).size().to_frame().rename(\n",
    "            columns={0: 'record_count'}\n",
    "        ).sort_values(new_column_name, ascending=False).head(20)\n",
    "    )"
   ]
  },
  {
   "cell_type": "code",
   "execution_count": null,
   "id": "26e7f6d4-a6be-4e80-85d9-f10c161a4095",
   "metadata": {},
   "outputs": [],
   "source": [
    "\n",
    "new_column_name = 'is_scene_aborted'\n",
    "if (new_column_name not in scene_stats_df.columns):\n",
    "    \n",
    "    # 1 second = 1,000 milliseconds; 1 minute = 60 seconds\n",
    "    scene_stats_df[new_column_name] = False\n",
    "    for (session_uuid, scene_id), scene_df in csv_stats_df.groupby(fu.scene_groupby_columns):\n",
    "        mask_series = True\n",
    "        for cn in fu.scene_groupby_columns: mask_series &= (scene_stats_df[cn] == eval(cn))\n",
    "        scene_stats_df.loc[mask_series, new_column_name] = fu.get_is_scene_aborted(scene_df)\n",
    "print(scene_stats_df.groupby(new_column_name).size().to_frame().rename(columns={0: 'record_count'}))"
   ]
  },
  {
   "cell_type": "code",
   "execution_count": null,
   "id": "fa0bd595-1933-4f64-bfc5-31b357fdc728",
   "metadata": {},
   "outputs": [],
   "source": [
    "\n",
    "scene_columns_set = set(scene_stats_df.columns)\n",
    "logs_columns_set = set(csv_stats_df.columns)\n",
    "intersection_columns = set(['is_scene_aborted'])\n",
    "\n",
    "drop_columns = sorted(scene_columns_set.intersection(logs_columns_set).intersection(intersection_columns))\n",
    "if drop_columns:\n",
    "    print(\"\\nDrop the logs columns already recorded in the scene stats data frames\")\n",
    "    print(drop_columns)\n",
    "    csv_stats_df = csv_stats_df.drop(columns=drop_columns)\n",
    "\n",
    "columns_list = ['encounter_layout', 'scene_type', 'teleport_count']\n",
    "display(\n",
    "    scene_stats_df[columns_list].groupby(columns_list, dropna=False).size().to_frame().rename(\n",
    "        columns={0: 'record_count'}\n",
    "    ).sort_values(columns_list, ascending=[False]*len(columns_list))\n",
    ")"
   ]
  },
  {
   "cell_type": "code",
   "execution_count": null,
   "id": "98ece840-d10c-4653-85d9-7b2a8f3c5c17",
   "metadata": {},
   "outputs": [],
   "source": [
    "\n",
    "mask_series = scene_stats_df.scene_type.isin(['Orientation'])\n",
    "pre_count = scene_stats_df.shape[0]\n",
    "scene_stats_df = scene_stats_df[~mask_series]\n",
    "print(f\"\\nFiltered out {pre_count - scene_stats_df.shape[0]} orientation scenes\")"
   ]
  },
  {
   "cell_type": "code",
   "execution_count": null,
   "id": "9d51d7b9-ea59-48db-9f2b-aadce0c9d614",
   "metadata": {},
   "outputs": [],
   "source": [
    "\n",
    "print(\"\\nBreak up the metadata columns into their own columns\")\n",
    "metadata_columns = sorted([cn for cn in merge_df.columns if cn.endswith('_metadata')])\n",
    "for cn in metadata_columns:\n",
    "    str_prefix = split('_metadata', cn, 0)[0]\n",
    "    \n",
    "    # Split the pipe-delimited values into a DataFrame\n",
    "    split_df = merge_df[cn].str.split('|', expand=True)\n",
    "    \n",
    "    # Change the column names to reflect the content\n",
    "    split_df.columns = [\n",
    "        f'{str_prefix}_patient_id', f'{str_prefix}_engagement_start', f'{str_prefix}_location_tuple', f'{str_prefix}_patient_sort',\n",
    "        f'{str_prefix}_predicted_priority', f'{str_prefix}_injury_severity'\n",
    "    ]\n",
    "    \n",
    "    # Make engagement_start an integer\n",
    "    # split_df[f'{str_prefix}_engagement_start'] = split_df[f'{str_prefix}_engagement_start'].fillna(0).astype(int)\n",
    "    split_df[f'{str_prefix}_engagement_start'] = to_numeric(split_df[f'{str_prefix}_engagement_start'], errors='coerce')\n",
    "    \n",
    "    # Add the split columns to the original DataFrame\n",
    "    merge_df = concat([merge_df, split_df], axis='columns')\n",
    "    \n",
    "    # Drop the original column\n",
    "    merge_df = merge_df.drop(columns=[cn, f'{str_prefix}_predicted_priority'])"
   ]
  },
  {
   "cell_type": "code",
   "execution_count": null,
   "id": "5a81bb29-9d33-45f9-bf9e-c9abdbeafbd8",
   "metadata": {},
   "outputs": [],
   "source": [
    "\n",
    "patient_id_columns = sorted([cn for cn in merge_df.columns if cn.endswith('_patient_id')])\n",
    "engagement_start_columns = sorted([cn for cn in merge_df.columns if cn.endswith('_engagement_start')])\n",
    "location_tuple_columns = sorted([cn for cn in merge_df.columns if cn.endswith('_location_tuple')])\n",
    "patient_sort_columns = sorted([cn for cn in merge_df.columns if cn.endswith('_patient_sort')])\n",
    "injury_severity_columns = sorted([cn for cn in merge_df.columns if cn.endswith('_injury_severity')])"
   ]
  },
  {
   "cell_type": "code",
   "execution_count": null,
   "id": "077da151-ff43-43ca-91aa-40c816a5c786",
   "metadata": {},
   "outputs": [],
   "source": [
    "\n",
    "new_column_name = 'prioritize_high_injury_severity_patients'\n",
    "if injury_severity_columns and (new_column_name not in merge_df.columns):\n",
    "    print(\"\\nAdd the prioritize patients columns\")\n",
    "    prioritize_columns = [new_column_name]\n",
    "    merge_df[new_column_name] = 0\n",
    "    def f(srs):\n",
    "        is_maxed = nan\n",
    "        injury_severity_list = []\n",
    "        for column_name, column_value in srs.iteritems():\n",
    "            if column_name.endswith('_injury_severity') and not isna(column_value):\n",
    "                injury_severity_list.append(column_value)\n",
    "        if injury_severity_list:\n",
    "            is_maxed = int(srs.engaged_patient00_injury_severity == max(injury_severity_list))\n",
    "        return is_maxed\n",
    "    merge_df[new_column_name] = merge_df.apply(f, axis='columns')\n",
    "    print(merge_df.groupby(new_column_name, dropna=False).size().to_frame().rename(columns={0: 'record_count'}))"
   ]
  },
  {
   "cell_type": "code",
   "execution_count": null,
   "id": "8311399d-1771-4ed6-aab6-d26638de186a",
   "metadata": {},
   "outputs": [],
   "source": [
    "\n",
    "print(\"\\nAdd medical role back in\")\n",
    "new_column = 'MedRole'\n",
    "column_name = 'medical_role'\n",
    "if new_column in scene_stats_df.columns:\n",
    "    on_columns = sorted(set(anova_df.columns).intersection(set(scene_stats_df.columns)))\n",
    "    columns_list = on_columns + [new_column]\n",
    "    anova_df = anova_df.merge(\n",
    "        scene_stats_df[columns_list], on=on_columns, how='left'\n",
    "    ).rename(columns={new_column: column_name})\n",
    "    anova_df[column_name] = anova_df[column_name].map(\n",
    "        lambda cv: get_value_description('MedRole', cv)\n",
    "    ).replace('', nan)\n",
    "print(anova_df.groupby(column_name).size().to_frame().rename(columns={0: 'record_count'}).sort_values(\n",
    "    'record_count', ascending=False\n",
    ").head(5))"
   ]
  },
  {
   "cell_type": "code",
   "execution_count": null,
   "id": "fe7c2a5c-fea0-4f86-a311-889eb0f2753c",
   "metadata": {},
   "outputs": [],
   "source": [
    "\n",
    "dfs_list = [fn for fn in dir() if fn.endswith('_df')]\n",
    "columns_list = []\n",
    "df_columns_dict = {}\n",
    "for df_name in dfs_list:\n",
    "    df_columns_list = eval(f'{df_name}.columns.tolist()')\n",
    "    columns_list.extend(df_columns_list)\n",
    "    df_columns_dict[df_name] = df_columns_list\n",
    "columns_set = set(columns_list)"
   ]
  },
  {
   "cell_type": "code",
   "execution_count": null,
   "id": "139ce1af-bb06-41fc-867d-44c96d770622",
   "metadata": {},
   "outputs": [],
   "source": [
    "\n",
    "variables_list = \"\"\"mean_AD_KDMA_Sim\n",
    "mean_AD_KDMA_Text\n",
    "mean_PropTrust\n",
    "mean_ST_KDMA_Sim\n",
    "mean_ST_KDMA_Text\n",
    "percent_injury_correctly_treated\n",
    "mean_pulse_taken_count\n",
    "mean_stills_value\n",
    "mean_teleport_count\n",
    "mean_time_to_hemorrhage_control_per_patient\n",
    "mean_triage_time\n",
    "mean_patient_count\n",
    "mean_percent_accurate_tagging\n",
    "total_action_count\n",
    "total_assessment_count\n",
    "total_treatment_count\n",
    "total_tag_application_count\n",
    "treated_expectant_count\"\"\".split('\\n')\n",
    "needed_variables_list = []\n",
    "for variable_name in variables_list:\n",
    "    if variable_name not in columns_set:\n",
    "        needed_variables_list.append(variable_name)"
   ]
  },
  {
   "cell_type": "code",
   "execution_count": null,
   "id": "09ed78f1-fc6d-4121-adb8-cc2caae42a58",
   "metadata": {},
   "outputs": [],
   "source": [
    "\n",
    "needed_variables_list"
   ]
  },
  {
   "cell_type": "code",
   "execution_count": null,
   "id": "90533469-1cfc-49e9-948a-2ede6c162179",
   "metadata": {},
   "outputs": [],
   "source": [
    "\n",
    "unsort_dict = {}\n",
    "for df_name, columns_list in df_columns_dict.items():\n",
    "    for column_name in columns_list:\n",
    "        df_name_set = unsort_dict.get(column_name, set())\n",
    "        df_name_set.add(df_name)\n",
    "        unsort_dict[column_name] = df_name_set\n",
    "for variable_name in sorted(set(variables_list).difference(set(needed_variables_list))):\n",
    "    hasit_set = unsort_dict.get(variable_name, set())\n",
    "    print(variable_name, hasit_set)"
   ]
  },
  {
   "cell_type": "code",
   "execution_count": null,
   "id": "7b57b8f1-d1aa-441f-bf95-70d9dee2cd57",
   "metadata": {},
   "outputs": [],
   "source": [
    "\n",
    "[cn for cn in columns_set if ('injury' in str(cn)) and ('correct' in str(cn))]"
   ]
  },
  {
   "cell_type": "code",
   "execution_count": null,
   "id": "58f149e2-2c43-4587-ac0d-5beb7a2d0c08",
   "metadata": {},
   "outputs": [],
   "source": [
    "\n",
    "[cn for cn in columns_set if ('injury' in str(cn)) and ('correct' not in str(cn)) and ('count' in str(cn))]"
   ]
  },
  {
   "cell_type": "code",
   "execution_count": null,
   "id": "6e0e8ec9-3e95-45e1-8c49-3d675b5c3030",
   "metadata": {},
   "outputs": [],
   "source": [
    "\n",
    "[cn for cn in columns_set if ('percent' in str(cn))]"
   ]
  },
  {
   "cell_type": "code",
   "execution_count": null,
   "id": "4a76ad1d-3a4e-4cde-b0ca-5328932f55d7",
   "metadata": {},
   "outputs": [],
   "source": [
    "\n",
    "[cn for cn in columns_set if ('total' in str(cn))]"
   ]
  },
  {
   "cell_type": "code",
   "execution_count": null,
   "id": "269e8df5-5099-4bdb-b08b-c123df07f9f9",
   "metadata": {},
   "outputs": [],
   "source": [
    "\n",
    "for participant_id, participant_df in anova_df.groupby('participant_id'):\n",
    "    \n",
    "    # mean_AD_KDMA_Sim\n",
    "    mean_AD_KDMA_Sim = participant_df.mean_AD_KDMA_Sim.mean()\n",
    "    \n",
    "    # mean_AD_KDMA_Text\n",
    "    mean_AD_KDMA_Text = participant_df.mean_AD_KDMA_Text.mean()\n",
    "    \n",
    "    # mean_PropTrust\n",
    "    mean_PropTrust = participant_df.mean_PropTrust.mean()\n",
    "    \n",
    "    # mean_ST_KDMA_Sim\n",
    "    mean_ST_KDMA_Sim = participant_df.mean_ST_KDMA_Sim.mean()\n",
    "    \n",
    "    # mean_ST_KDMA_Text\n",
    "    mean_ST_KDMA_Text = participant_df.mean_ST_KDMA_Text.mean()\n",
    "    \n",
    "    # percent_injury_correctly_treated\n",
    "    total_injury_count = len(triage_paper_df[base_mask_series].groupby(fu.injury_groupby_columns).groups)\n",
    "    fu.get_injury_not_treated_count(scene_df)\n",
    "    fu.get_injury_correctly_treated_count(scene_df)\n",
    "    fu.get_injury_wrongly_treated_count(scene_df)\n",
    "    percent_injury_correctly_treated = 100 * correctly_treated_count / total_count\n",
    "    \n",
    "    # mean_pulse_taken_count\n",
    "    mean_pulse_taken_count = participant_df.mean_pulse_taken_count.mean()\n",
    "    \n",
    "    # mean_stills_value\n",
    "    mean_stills_value = participant_df.mean_stills_value.mean()\n",
    "    \n",
    "    # mean_teleport_count\n",
    "    mean_teleport_count = participant_df.mean_teleport_count.mean()\n",
    "    \n",
    "    # mean_time_to_hemorrhage_control_per_patient\n",
    "    mean_time_to_hemorrhage_control_per_patient = participant_df.mean_time_to_hemorrhage_control_per_patient.mean()\n",
    "    \n",
    "    # mean_triage_time\n",
    "    mean_triage_time = participant_df.mean_triage_time.mean()\n",
    "    \n",
    "    # mean_patient_count\n",
    "    mean_patient_count = participant_df.mean_patient_count.mean()\n",
    "    \n",
    "    # mean_percent_accurate_tagging\n",
    "    mask_series = (correct_count_by_tag_df.participant_id == participant_id)\n",
    "    row_dict['mean_percent_accurate_tagging'] = correct_count_by_tag_df[mask_series].percentage_tag_correct.mean()\n",
    "    \n",
    "    # total_action_count\n",
    "    mask_series = participant_df.action_type.isin(self.action_types_list)\n",
    "    row_dict['action_count'] = participant_df[mask_series].shape[0]\n",
    "    row_dict['total_action_count'] = scene_df.action_count.sum()\n",
    "    \n",
    "    # total_assessment_count\n",
    "    mask_series = patient_df.action_type.isin(['PATIENT_ENGAGED', 'PULSE_TAKEN'])\n",
    "    row_dict['assessment_count'] = patient_df[mask_series].shape[0]\n",
    "    row_dict['total_assessment_count'] = scene_df.assessment_count.sum()\n",
    "    \n",
    "    # total_treatment_count\n",
    "    mask_series = patient_df.action_type.isin(['INJURY_TREATED'])\n",
    "    row_dict['treatment_count'] = patient_df[mask_series].shape[0]\n",
    "    row_dict['total_treatment_count'] = scene_df.treatment_count.sum()\n",
    "    \n",
    "    # total_tag_application_count\n",
    "    mask_series = patient_df.action_type.isin(['TAG_APPLIED'])\n",
    "    row_dict['tag_application_count'] = patient_df[mask_series].shape[0]\n",
    "    row_dict['total_tag_application_count'] = scene_df.tag_application_count.sum()\n",
    "    \n",
    "    # treated_expectant_count\n",
    "    row_dict['max_salt'] = self.get_max_salt(patient_df, session_uuid=session_uuid, scene_id=scene_id, random_patient_id=patient_id)\n",
    "    if (row_dict['max_salt'] == 'EXPECTANT'):\n",
    "        mask_series = ~patient_df.injury_treated_required_procedure.isnull() | ~patient_df.tool_applied_type.isnull()\n",
    "        row_dict['treated_expectant'] = {True: 'yes', False: 'no'}[mask_series.any()]\n",
    "    else: row_dict['treated_expectant'] = nan\n",
    "    mask_series = (scene_df.treated_expectant == 'yes')\n",
    "    row_dict['treated_expectant_count'] = mask_series.sum()\n",
    "    "
   ]
  },
  {
   "cell_type": "markdown",
   "id": "00eb6980-807c-44fe-8acf-e510c138a1d4",
   "metadata": {},
   "source": [
    "\n",
    "----"
   ]
  },
  {
   "cell_type": "code",
   "execution_count": null,
   "id": "114f48a4-8958-491c-9f2e-2cbead9b1986",
   "metadata": {},
   "outputs": [],
   "source": [
    "\n",
    "# Get column and value descriptions dataset\n",
    "file_path = osp.join(nu.data_folder, 'xlsx', 'Metrics_Evaluation_Dataset_organization_for_BBAI.xlsx')\n",
    "dataset_organization_df = read_excel(file_path)\n",
    "\n",
    "# Fix the doubled up descriptions\n",
    "mask_series = dataset_organization_df.Labels.map(lambda x: ';' in str(x))\n",
    "for row_index, label in dataset_organization_df[mask_series].Labels.items():\n",
    "    labels_list = split(' *; *', str(label), 0)\n",
    "    dataset_organization_df.loc[row_index, 'Labels'] = labels_list[0]\n",
    "    \n",
    "    # Append the new row to the DataFrame\n",
    "    new_row = dataset_organization_df.loc[row_index].copy()\n",
    "    new_row['Labels'] = labels_list[1]\n",
    "    dataset_organization_df = concat([dataset_organization_df, new_row], ignore_index=True)\n",
    "\n",
    "# Append the AD_Del_Omni_Text row to the DataFrame\n",
    "mask_series = (dataset_organization_df.Variable == 'AD_Del_Omni')\n",
    "new_row = dataset_organization_df.loc[mask_series].copy()\n",
    "new_row['Variable'] = 'AD_Del_Omni_Text'\n",
    "dataset_organization_df = concat([dataset_organization_df, new_row], ignore_index=True)"
   ]
  },
  {
   "cell_type": "code",
   "execution_count": null,
   "id": "914bdc5e-2fc1-4a49-a072-85effaaaf694",
   "metadata": {},
   "outputs": [],
   "source": [
    "\n",
    "# Get the column name description dictionary\n",
    "mask_series = ~dataset_organization_df.Description.isnull()\n",
    "df = dataset_organization_df[mask_series]\n",
    "COLUMN_NAME_DESCRIPTION_DICT = df.set_index('Variable').Description.to_dict()\n",
    "new_description_dict = COLUMN_NAME_DESCRIPTION_DICT.copy()\n",
    "for k, v in COLUMN_NAME_DESCRIPTION_DICT.items():\n",
    "    new_description_dict[k] = v\n",
    "    if (not k.endswith('_Text')):\n",
    "        new_key_name = f'{k}_Text'\n",
    "        new_description_dict[new_key_name] = new_description_dict.get(new_key_name, v)\n",
    "COLUMN_NAME_DESCRIPTION_DICT = new_description_dict.copy()"
   ]
  },
  {
   "cell_type": "code",
   "execution_count": null,
   "id": "8ff40340-a23b-4bd4-b792-6a19c39521eb",
   "metadata": {},
   "outputs": [],
   "source": [
    "\n",
    "# Create the value description function\n",
    "numeric_categories_mask_series = dataset_organization_df.Labels.map(lambda x: '=' in str(x))\n",
    "value_descriptions_columns = dataset_organization_df[numeric_categories_mask_series].Variable.unique().tolist()\n",
    "def get_value_description(column_name, column_value):\n",
    "    \"\"\"\n",
    "    Get the description of a given value for a specific column.\n",
    "    \n",
    "    Parameters:\n",
    "        column_name (str):\n",
    "            The name of the column.\n",
    "        column_value (Any):\n",
    "            The value of the column.\n",
    "    \n",
    "    Returns:\n",
    "        str: The description of the value.\n",
    "    \"\"\"\n",
    "    value_description = ''\n",
    "    \n",
    "    # Check if the column value is not NaN\n",
    "    if not isna(column_value):\n",
    "        \n",
    "        # Create a boolean mask to filter the dataset_organization_df\n",
    "        mask_series = (dataset_organization_df.Variable == column_name) & ~dataset_organization_df.Labels.isnull()\n",
    "        \n",
    "        # Check if there are any matching rows\n",
    "        if mask_series.any():\n",
    "            \n",
    "            # Filter the DataFrame using the mask\n",
    "            df = dataset_organization_df[mask_series]\n",
    "            \n",
    "            # Create a new mask to find rows with labels matching the column value\n",
    "            mask_series = df.Labels.map(lambda label: split(' *= *', str(label), 0)[0] == str(int(float(column_value))))\n",
    "            \n",
    "            # Check if there are any matching rows\n",
    "            if mask_series.any():\n",
    "                \n",
    "                # Get the label for the matching row\n",
    "                label = df[mask_series].Labels.squeeze()\n",
    "                \n",
    "                # Extract the description from the label\n",
    "                value_description = split(' *= *', str(label), 0)[1]\n",
    "    \n",
    "    return value_description"
   ]
  },
  {
   "cell_type": "code",
   "execution_count": null,
   "id": "ac2aa510-115c-42c2-bd05-11aaa7b45266",
   "metadata": {},
   "outputs": [],
   "source": [
    "\n",
    "def convert_column_to_categorical(categorical_df, column_name, verbose=False):\n",
    "    if (column_name in categorical_df.columns):\n",
    "        display_results = False\n",
    "        name_parts_list = column_name.split('_')\n",
    "        \n",
    "        # Find the order attribute\n",
    "        attribute_name = 'XXXX'\n",
    "        for i in range(3):\n",
    "            if not hasattr(fu, attribute_name):\n",
    "                attribute_name = f\"{'_'.join(name_parts_list[i:])}_order\"\n",
    "                if verbose: print(f\"Finding {attribute_name} as the order attribute\")\n",
    "            else:\n",
    "                break\n",
    "    \n",
    "        # Check if the order attribute exists\n",
    "        if hasattr(fu, attribute_name):\n",
    "            \n",
    "            # Check for missing elements\n",
    "            mask_series = ~categorical_df[column_name].isnull()\n",
    "            feature_set = set(categorical_df[mask_series][column_name].unique())\n",
    "            order_set = set(eval(f\"fu.{attribute_name}\"))\n",
    "            assert feature_set.issubset(order_set), f\"You're missing {feature_set.difference(order_set)} from fu.{attribute_name}\"\n",
    "            \n",
    "            # Find the category attribute\n",
    "            attribute_name = 'XXXX'\n",
    "            for i in range(3):\n",
    "                if not hasattr(fu, attribute_name):\n",
    "                    attribute_name = f\"{'_'.join(name_parts_list[i:])}_category_order\"\n",
    "                    if verbose: print(f\"Finding {attribute_name} as the category attribute\")\n",
    "                else:\n",
    "                    break\n",
    "            \n",
    "            # Check if the category attribute exists\n",
    "            if hasattr(fu, attribute_name):\n",
    "                if verbose: print(f\"\\nConvert {column_name} column to categorical\")\n",
    "                categorical_df[column_name] = categorical_df[column_name].astype(eval(f\"fu.{attribute_name}\"))\n",
    "                display_results = True\n",
    "            else:\n",
    "                if verbose: print(f\"AttributeError: 'FRVRSUtilities' object has no attribute '{attribute_name}'\")\n",
    "            \n",
    "        if verbose and display_results:\n",
    "            print(categorical_df[column_name].nunique())\n",
    "            display(categorical_df.groupby(column_name).size().to_frame().rename(\n",
    "                columns={0: 'record_count'}\n",
    "            ).sort_values('record_count', ascending=False).head(20))\n",
    "    \n",
    "    return categorical_df\n",
    "\n",
    "def add_modal_column(new_column_name, modal_df, is_categorical=True, verbose=False):\n",
    "    if (new_column_name not in modal_df.columns):\n",
    "        name_parts_list = new_column_name.split('_')\n",
    "        if verbose: print(f\"\\nModalize into one {' '.join(name_parts_list)} column if possible\")\n",
    "        \n",
    "        # Find the columns list attribute\n",
    "        attribute_name = 'XXXX'\n",
    "        for i in range(3):\n",
    "            if not hasattr(fu, attribute_name):\n",
    "                attribute_name = f\"{'_'.join(name_parts_list[i:])}_columns_list\"\n",
    "            else:\n",
    "                break\n",
    "\n",
    "        modal_df = nu.modalize_columns(modal_df, eval(f\"fu.{attribute_name}\"), new_column_name)\n",
    "        if is_categorical:\n",
    "            modal_df = convert_column_to_categorical(modal_df, new_column_name, verbose=verbose)\n",
    "        elif verbose:\n",
    "            print(modal_df[new_column_name].nunique())\n",
    "            display(modal_df.groupby(new_column_name).size().to_frame().rename(\n",
    "                columns={0: 'record_count'}\n",
    "            ).sort_values('record_count', ascending=False).head(20))\n",
    "    \n",
    "    return modal_df"
   ]
  },
  {
   "cell_type": "code",
   "execution_count": null,
   "id": "a669e65a-e6b7-49f0-bd92-4e8d268c0c1f",
   "metadata": {},
   "outputs": [],
   "source": [
    "\n",
    "mask_series = (scene_stats_df.teleport_count < 1)\n",
    "print(f\"There are {scene_stats_df[mask_series].shape[0]} out of {scene_stats_df.shape[0]} scenes with no teleports\")"
   ]
  },
  {
   "cell_type": "code",
   "execution_count": null,
   "id": "a921d15b-c5b9-42a6-a657-c8bbd94d2ab1",
   "metadata": {},
   "outputs": [],
   "source": [
    "\n",
    "[cn for cn in [set(\n",
    "    [f'csv_stats_df.{cn}' for cn in csv_stats_df.columns] + [f'scene_stats_df.{cn}' for cn in scene_stats_df.columns]\n",
    ")]]"
   ]
  },
  {
   "cell_type": "code",
   "execution_count": null,
   "id": "4bd4847a-cace-4eb5-b287-8007d8a5a6d0",
   "metadata": {},
   "outputs": [],
   "source": [
    "\n",
    "desert_patients_list = [\n",
    "    'Open World Marine 1 Female Root', 'Open World Marine 2 Male Root', 'Open World Civilian 1 Male Root', 'Open World Civilian 2 Female Root'\n",
    "]\n",
    "jungle_patients_list = [\n",
    "    'Open World Marine 1 Male Root', 'Open World Marine 2 Female Root', 'Open World Marine 3 Male Root', 'Open World Marine 4 Male Root'\n",
    "]\n",
    "submarine_patients_list = ['Navy Soldier 1 Male Root', 'Navy Soldier 2 Male Root', 'Navy Soldier 3 Male Root', 'Navy Soldier 4 Female Root']\n",
    "urban_patients_list = ['Marine 1 Male Root', 'Marine 2 Male Root', 'Marine 3 Male Root', 'Marine 4 Male Root', 'Civilian 1 Female Root']\n",
    "patients_list = desert_patients_list + jungle_patients_list + submarine_patients_list + urban_patients_list\n",
    "assert set(patients_list).issubset(\n",
    "    set(csv_stats_df.patient_id)\n",
    "), f\"csv_stats_df is missing these patients: {set(patients_list).difference(set(csv_stats_df.patient_id))}\""
   ]
  },
  {
   "cell_type": "code",
   "execution_count": null,
   "id": "a764bab3-65f0-4228-b7f2-e77613787414",
   "metadata": {},
   "outputs": [],
   "source": [
    "\n",
    "set(csv_stats_df.patient_id).difference(set(patients_list))"
   ]
  },
  {
   "cell_type": "markdown",
   "id": "529f4b69-3b1c-4e68-a3f4-a89d26fb7c05",
   "metadata": {},
   "source": [
    "\n",
    "## Stacked graph for triage errors"
   ]
  },
  {
   "cell_type": "code",
   "execution_count": null,
   "id": "b94af009-79f4-4dbd-9482-89bb6b6705b6",
   "metadata": {},
   "outputs": [],
   "source": [
    "\n",
    "# load data frames\n",
    "data_frames_dict = nu.load_data_frames(\n",
    "    verbose=True, metrics_evaluation_open_world_csv_stats_df=''\n",
    ")\n",
    "csv_stats_df = data_frames_dict['metrics_evaluation_open_world_csv_stats_df'].copy()\n",
    "print(sorted([cn for cn in csv_stats_df.columns if 'partici' in cn]))"
   ]
  },
  {
   "cell_type": "code",
   "execution_count": null,
   "id": "96640f66-8431-4fe7-82d0-3107aa14a46b",
   "metadata": {},
   "outputs": [],
   "source": [
    "\n",
    "# Create the tag-to-SALT data frame\n",
    "print(\"\\nColumns to merge the scene stats dataset with the CSV stats on:\")\n",
    "on_columns = sorted(set(csv_stats_df.columns).intersection(set(scene_stats_df.columns)))\n",
    "print(on_columns)"
   ]
  },
  {
   "cell_type": "code",
   "execution_count": null,
   "id": "e1b4e3cb-a526-43aa-a27f-e18d8818b8a5",
   "metadata": {},
   "outputs": [],
   "source": [
    "\n",
    "print('\\nThe scene stats dataset columns we want to have in the merge:')\n",
    "analysis_columns = sorted(set([\n",
    "    'actual_engagement_distance', 'first_engagement', 'first_treatment', 'injury_correctly_treated_count', 'injury_not_treated_count',\n",
    "    'injury_treatments_count', 'injury_wrongly_treated_count', 'last_engagement', 'last_still_engagement', 'measure_of_right_ordering',\n",
    "    'patient_count', 'percent_hemorrhage_controlled', 'pulse_taken_count', 'stills_value', 'teleport_count',\n",
    "    'time_to_hemorrhage_control_per_patient', 'time_to_last_hemorrhage_controlled', 'total_actions_count', 'triage_time',\n",
    "    'voice_capture_count', 'walk_command_count', 'walk_value', 'walkers_value', 'wave_command_count', 'wave_value'\n",
    "]).intersection(set(scene_stats_df.columns)))\n",
    "print(analysis_columns)\n",
    "\n",
    "# Merge the scene stats with the CSV stats\n",
    "survey_columns = ['AD_KDMA_Sim', 'AD_KDMA_Text', 'PropTrust', 'ST_KDMA_Sim', 'ST_KDMA_Text', 'YrsMilExp']\n",
    "columns_list = on_columns + analysis_columns + survey_columns\n",
    "assert set(columns_list).issubset(set(scene_stats_df.columns)), \"You've lost access to the analysis columns\"\n",
    "merge_df = csv_stats_df.merge(scene_stats_df[columns_list], on=on_columns, how='left').drop_duplicates()"
   ]
  },
  {
   "cell_type": "code",
   "execution_count": null,
   "id": "8ee4dd03-1aa4-4f1f-a24c-1ab14c878276",
   "metadata": {},
   "outputs": [],
   "source": [
    "\n",
    "# Add medical role back in\n",
    "new_column = 'MedRole'\n",
    "column_name = 'medical_role'\n",
    "if new_column in scene_stats_df.columns:\n",
    "    on_columns = sorted(set(merge_df.columns).intersection(set(scene_stats_df.columns)))\n",
    "    columns_list = on_columns + [new_column]\n",
    "    merge_df = merge_df.merge(\n",
    "        scene_stats_df[columns_list], on=on_columns, how='left'\n",
    "    ).rename(columns={new_column: column_name})\n",
    "    merge_df[column_name] = merge_df[column_name].map(lambda cv: get_value_description('MedRole', cv)).replace('', nan)\n",
    "print(merge_df.groupby(column_name).size().to_frame().rename(columns={0: 'record_count'}).sort_values(\n",
    "    'record_count', ascending=False\n",
    ").head(5))"
   ]
  },
  {
   "cell_type": "code",
   "execution_count": null,
   "id": "5795f16d-87f7-4057-a3f3-83938446283f",
   "metadata": {},
   "outputs": [],
   "source": [
    "\n",
    "tag_to_salt_df = fu.get_is_tag_correct_data_frame(merge_df, groupby_column='participant_id')"
   ]
  },
  {
   "cell_type": "code",
   "execution_count": null,
   "id": "4387d6d8-aae6-40f2-a39c-895eeb961ace",
   "metadata": {},
   "outputs": [],
   "source": [
    "\n",
    "# Use the patients lists from the March 25th ITM BBAI Exploratory analysis email\n",
    "desert_patients_list = [\n",
    "    'Open World Marine 1 Female Root', 'Open World Marine 2 Male Root', 'Open World Civilian 1 Male Root', 'Open World Civilian 2 Female Root'\n",
    "]\n",
    "jungle_patients_list = [\n",
    "    'Open World Marine 1 Male Root', 'Open World Marine 2 Female Root', 'Open World Marine 3 Male Root', 'Open World Marine 4 Male Root'\n",
    "]\n",
    "submarine_patients_list = ['Navy Soldier 1 Male Root', 'Navy Soldier 2 Male Root', 'Navy Soldier 3 Male Root', 'Navy Soldier 4 Female Root']\n",
    "urban_patients_list = ['Marine 1 Male Root', 'Marine 2 Male Root', 'Marine 3 Male Root', 'Marine 4 Male Root', 'Civilian 1 Female Root']\n",
    "patients_list = desert_patients_list + jungle_patients_list + submarine_patients_list + urban_patients_list\n",
    "assert set(patients_list).issubset(\n",
    "    set(tag_to_salt_df.patient_id)\n",
    "), f\"tag_to_salt_df is missing these patients: {set(patients_list).difference(set(tag_to_salt_df.patient_id))}\"\n",
    "mask_series = tag_to_salt_df.patient_id.isin(patients_list)\n",
    "tag_to_salt_df = tag_to_salt_df[mask_series]"
   ]
  },
  {
   "cell_type": "code",
   "execution_count": null,
   "id": "c0d38747-ffe1-4542-ad80-55e08e27cb42",
   "metadata": {},
   "outputs": [],
   "source": [
    "\n",
    "# Add participant id back in\n",
    "new_column = 'participant_id'\n",
    "if (new_column in scene_stats_df.columns) and (new_column not in tag_to_salt_df.columns):\n",
    "    on_columns = sorted(set(tag_to_salt_df.columns).intersection(set(scene_stats_df.columns)).intersection(set(['scene_id', 'session_uuid'])))\n",
    "    print(on_columns)\n",
    "    columns_list = on_columns + [new_column]\n",
    "    tag_to_salt_df = tag_to_salt_df.merge(scene_stats_df[columns_list], on=on_columns)"
   ]
  },
  {
   "cell_type": "code",
   "execution_count": null,
   "id": "6c630fd0-7e33-45d5-a0df-dce107eea5af",
   "metadata": {},
   "outputs": [],
   "source": [
    "\n",
    "import numpy as np\n",
    "\n",
    "# Compute error_type, removing \"Not Tagged\" from consideration\n",
    "def f(df):\n",
    "    if df.last_tag in fu.error_table_df.index: error_type = fu.error_table_df[fu.error_table_df.index == df.last_tag][df.max_salt].squeeze()\n",
    "    else: error_type = np.nan\n",
    "    \n",
    "    return error_type\n",
    "groupby_columns = ['last_tag', 'max_salt', 'participant_id']\n",
    "error_types_df = tag_to_salt_df.groupby(groupby_columns).patient_count.sum().to_frame().reset_index(drop=False)\n",
    "error_types_df['error_type'] = error_types_df.apply(f, axis='columns')\n",
    "\n",
    "# Convert the columns to the custom categorical type\n",
    "error_types_df['last_tag'] = error_types_df['last_tag'].astype(fu.colors_category_order)\n",
    "error_types_df['max_salt'] = error_types_df['max_salt'].astype(fu.salt_category_order)\n",
    "error_types_df['error_type'] = error_types_df['error_type'].astype(fu.errors_category_order)\n",
    "\n",
    "# Sort the DataFrame based on the custom categorical orders\n",
    "error_types_df = error_types_df.sort_values(by=groupby_columns+['error_type'])"
   ]
  },
  {
   "cell_type": "code",
   "execution_count": null,
   "id": "efbe574c-3f7c-46d9-bfc3-b282e2025b2d",
   "metadata": {},
   "outputs": [],
   "source": [
    "\n",
    "mask_series = (error_types_df.patient_count > 0)\n",
    "error_types_df[mask_series].sort_values('patient_count', ascending=False).head()"
   ]
  },
  {
   "cell_type": "code",
   "execution_count": null,
   "id": "b3d01ce7-73bc-41a4-ae61-24fc9674044f",
   "metadata": {},
   "outputs": [],
   "source": [
    "\n",
    "# Get triage error rates\n",
    "import re\n",
    "\n",
    "rows_list = []\n",
    "for participant_id, responder_categories_df in error_types_df.groupby('participant_id'):\n",
    "    row_dict = {'participant_id': participant_id}\n",
    "    df = responder_categories_df.groupby('error_type').patient_count.sum().reset_index(drop=False)\n",
    "    total_patient_count = df.patient_count.sum()\n",
    "    error_dict = df.set_index('error_type').patient_count.to_dict()\n",
    "\n",
    "    over_patient_count = error_dict.get('Over', 0)\n",
    "    over_triage_error_rate = 100*over_patient_count/total_patient_count\n",
    "    row_dict['over_triage_error_rate'] = round(over_triage_error_rate, 1)\n",
    "\n",
    "    under_patient_count = error_dict.get('Under', 0)\n",
    "    under_triage_error_rate = 100*under_patient_count/total_patient_count\n",
    "    row_dict['under_triage_error_rate'] = round(under_triage_error_rate, 1)\n",
    "\n",
    "    critical_patient_count = error_dict.get('Critical', 0)\n",
    "    critical_triage_error_rate = 100*critical_patient_count/total_patient_count\n",
    "    row_dict['critical_triage_error_rate'] = round(critical_triage_error_rate, 1)\n",
    "    \n",
    "    rows_list.append(row_dict)\n",
    "triage_error_rates_df = DataFrame(rows_list)"
   ]
  },
  {
   "cell_type": "code",
   "execution_count": null,
   "id": "fbbf8c4a-c319-4b38-99db-d7a0618082f8",
   "metadata": {},
   "outputs": [],
   "source": [
    "\n",
    "CATEGORY_DICT = {participant_id: participant_id for participant_id in triage_error_rates_df.participant_id}\n",
    "CATEGORY_DICT.update({'Paramedic': 'EMT-Paramedic', 'EM Resident': 'EM-Resident'})"
   ]
  },
  {
   "cell_type": "code",
   "execution_count": null,
   "id": "f974c49b-92a1-4a14-a266-bc163fcf2cb2",
   "metadata": {},
   "outputs": [],
   "source": [
    "\n",
    "suffixing_fn = lambda x: f'{x}-triage Error' if (x in ['Over', 'Under']) else (f'{x} Error' if (x in ['Critical']) else x)\n",
    "def show_stacked_horizontal_bar_chart(rates_df, ylabel=''):\n",
    "    labels_list = [CATEGORY_DICT[c] for c in FILTERED_CATEGORIES_LIST][::-1]\n",
    "    over_values, under_values, critical_values = [], [], []\n",
    "    for column_value in FILTERED_CATEGORIES_LIST[::-1]:\n",
    "        mask_series = (rates_df.participant_id == column_value)\n",
    "        over_values.append(rates_df[mask_series].over_triage_error_rate.squeeze())\n",
    "        under_values.append(rates_df[mask_series].under_triage_error_rate.squeeze())\n",
    "        critical_values.append(rates_df[mask_series].critical_triage_error_rate.squeeze())\n",
    "    \n",
    "    # Create a horizontal bar chart for the first set of values\n",
    "    over_bar = plt.barh(labels_list, over_values, color='#000000', label=suffixing_fn('Over'))\n",
    "    \n",
    "    # Create a stacked horizontal bar chart for the second set of values\n",
    "    under_bar = plt.barh(labels_list, under_values, color='#717171', label=suffixing_fn('Under'), left=over_values)\n",
    "    \n",
    "    # Create a stacked horizontal bar chart for the third set of values\n",
    "    # The data labels for critical errors should be in white (for better contrast)\n",
    "    critical_bar = plt.barh(\n",
    "        labels_list, critical_values, color='#bb0000', label=suffixing_fn('Critical'),\n",
    "        left=[v1 + v2 for v1, v2 in zip(over_values, under_values)]\n",
    "    )\n",
    "    \n",
    "    # Annotate the values of each value set inside their respective rectangles\n",
    "    for bars, values in zip([over_bar, under_bar, critical_bar], [over_values, under_values, critical_values]):\n",
    "        for bar, value in zip(bars, values):\n",
    "            if (value >= 1): plt.text(\n",
    "                bar.get_x() + bar.get_width()/2, bar.get_y() + bar.get_height()/2, f'{value:.01f}%', va='center', ha='center',\n",
    "                color='white', fontsize=6\n",
    "            )\n",
    "            elif (value > 0): plt.text(\n",
    "                bar.get_x() + bar.get_width()/2, bar.get_y() + bar.get_height() + 0.06, f'{value:.01f}%', va='center', ha='center',\n",
    "                color='black', fontsize=6\n",
    "            )\n",
    "    \n",
    "    # Set the title, labels, legend, and grid\n",
    "    plt.title('Triage Errors')\n",
    "    plt.xlabel('Percent (%)')\n",
    "    plt.ylabel(ylabel)\n",
    "    plt.legend(bbox_to_anchor=(1.4, 0.62), loc='center right')\n",
    "    plt.grid(False)\n",
    "    \n",
    "    # Display the chart\n",
    "    plt.show()"
   ]
  },
  {
   "cell_type": "code",
   "execution_count": null,
   "id": "4768f779-e1de-47b0-b0ab-56afced30d54",
   "metadata": {},
   "outputs": [],
   "source": [
    "\n",
    "import matplotlib.pyplot as plt\n",
    "\n",
    "FILTERED_CATEGORIES_LIST = [i for i in range(2024201, 2024228) if i in triage_error_rates_df.participant_id.tolist()]\n",
    "show_stacked_horizontal_bar_chart(triage_error_rates_df, ylabel='Participant ID')"
   ]
  },
  {
   "cell_type": "code",
   "execution_count": null,
   "id": "d0df18f9-1031-4de8-899d-dc4b4c48d160",
   "metadata": {},
   "outputs": [],
   "source": [
    "\n",
    "columns_list = sorted([cn for cn in scene_stats_df.columns if any(map(\n",
    "    lambda x: x in cn, ['Med']\n",
    "))])\n",
    "print(columns_list)"
   ]
  },
  {
   "cell_type": "code",
   "execution_count": null,
   "id": "cbc09f1c-ab2c-4ef6-aac4-34228a10d81a",
   "metadata": {},
   "outputs": [],
   "source": [
    "\n",
    "triage_error_rates_df.set_index('participant_id')"
   ]
  },
  {
   "cell_type": "code",
   "execution_count": null,
   "id": "2c459321-f5f0-4e89-a076-7704136d045b",
   "metadata": {},
   "outputs": [],
   "source": [
    "\n",
    "merge_df[columns_list].groupby('medical_role').mean().reset_index(drop=False)"
   ]
  },
  {
   "cell_type": "code",
   "execution_count": null,
   "id": "7961b52b-227e-4ace-a608-8716923e5846",
   "metadata": {},
   "outputs": [],
   "source": [
    "\n",
    "import seaborn as sns\n",
    "import matplotlib.pyplot as plt\n",
    "from matplotlib.text import Text\n",
    "\n",
    "# Create a figure and subplots\n",
    "fig, ax = plt.subplots(1, 1, figsize=(9, 9))\n",
    "\n",
    "# Create a box plot of all the columns\n",
    "columns_list = [\n",
    "    'percent_injury_correctly_treated',\n",
    "]\n",
    "sns.boxplot(scene_stats_df[columns_list], ax=ax)\n",
    "\n",
    "# Label the y-axis\n",
    "ax.set_ylabel('Percents of Injuries Correctly Treated (%)')\n",
    "\n",
    "# Humanize y tick labels\n",
    "ax.set_yticklabels([\n",
    "    Text(0, -10.0, '-10.0%'), Text(0, 0.0, '0.0%'), Text(0, 10.0, '10.0%'), Text(0, 20.0, '20.0%'), Text(0, 30.0, '30.0%'),\n",
    "    Text(0, 40.0, '40.0%'), Text(0, 50.0, '50.0%'), Text(0, 60.0, '60.0%'), Text(0, 70.0, '70.0%'), Text(0, 80.0, '80.0%'),\n",
    "    Text(0, 90.0, '90.0%')\n",
    "])\n",
    "\n",
    "plt.show()"
   ]
  },
  {
   "cell_type": "code",
   "execution_count": null,
   "id": "2c6b0de5-b0a7-4d70-9092-d1593e8173e3",
   "metadata": {},
   "outputs": [],
   "source": [
    "\n",
    "# Create a figure and subplots\n",
    "fig, ax = plt.subplots(1, 1, figsize=(9, 9))\n",
    "\n",
    "# Create a box plot of all the columns\n",
    "columns_list = [\n",
    "    'injury_treatments_count',\n",
    "    'pulse_taken_count',\n",
    "    'patient_count',\n",
    "    'teleport_count',\n",
    "]\n",
    "sns.boxplot(scene_stats_df[columns_list], ax=ax)\n",
    "\n",
    "# Label the y-axis\n",
    "ax.set_ylabel('Various Counts')\n",
    "\n",
    "plt.show()"
   ]
  },
  {
   "cell_type": "code",
   "execution_count": null,
   "id": "07c80d82-5f81-4c7f-a450-996e0d7d1a6c",
   "metadata": {},
   "outputs": [],
   "source": [
    "\n",
    "import humanize\n",
    "from datetime import timedelta\n",
    "\n",
    "# Create a figure and subplots\n",
    "fig, ax = plt.subplots(1, 1, figsize=(9, 9))\n",
    "\n",
    "# Create a box plot of all the columns\n",
    "columns_list = [\n",
    "    'time_to_hemorrhage_control_per_patient',\n",
    "    'triage_time',\n",
    "]\n",
    "sns.boxplot(scene_stats_df[columns_list], ax=ax)\n",
    "\n",
    "# Label the y-axis\n",
    "ax.set_ylabel('Various Times in Milliseconds')\n",
    "\n",
    "# Humanize y tick labels\n",
    "ax.set_yticklabels([\n",
    "    Text(0, -250000.0, '4 minutes and\\n10 seconds'), Text(0, 0.0, '0 seconds'), Text(0, 250000.0, '4 minutes and\\n10 seconds'),\n",
    "    Text(0, 500000.0, '8 minutes and\\n20 seconds'), Text(0, 750000.0, '12 minutes and\\n30 seconds'),\n",
    "    Text(0, 1000000.0, '16 minutes and\\n40 seconds'), Text(0, 1250000.0, '20 minutes and\\n50 seconds'), Text(0, 1500000.0, '25 minutes'),\n",
    "    Text(0, 1750000.0, '29 minutes and\\n10 seconds'), Text(0, 2000000.0, '33 minutes and\\n20 seconds'),\n",
    "    Text(0, 2250000.0, '37 minutes and\\n30 seconds')\n",
    "])\n",
    "\n",
    "plt.show()"
   ]
  },
  {
   "cell_type": "code",
   "execution_count": null,
   "id": "0ddb61a6-2065-4fcc-aa11-00eec95e8462",
   "metadata": {},
   "outputs": [],
   "source": [
    "\n",
    "from datetime import date\n",
    "\n",
    "today = date.today()\n",
    "for fn in dir():\n",
    "    if fn.endswith('_df'):\n",
    "        nu.save_data_frames(**{f'{today.year}{today.month:02d}{today.day:02d}participant_id_{fn}': eval(fn)}, verbose=True)"
   ]
  },
  {
   "cell_type": "code",
   "execution_count": null,
   "id": "4ddfd7fa-5b6f-4e80-beb5-492bd5ee923c",
   "metadata": {},
   "outputs": [],
   "source": [
    "\n",
    "columns_list = ['AD_KDMA_Sim', 'AD_KDMA_Text', 'PropTrust', 'ST_KDMA_Sim', 'ST_KDMA_Text', 'YrsMilExp', 'medical_role']\n",
    "df = merge_df[columns_list].groupby('medical_role').mean()\n",
    "df = df.rename(columns={cn: 'mean_'+cn for cn in df.columns}).reset_index(drop=False)\n",
    "df.medical_role = df.medical_role.map({\n",
    "    'EM faculty': 'EM Faculty', 'EM resident': 'EM Resident', 'Medical student': 'Medical Student',\n",
    "    'Other': 'Other', 'Paramedic': 'Paramedic'\n",
    "})\n",
    "on_columns = sorted(set(triage_error_rates_df.columns).intersection(set(df.columns)))\n",
    "print(on_columns)\n",
    "triage_error_rates_df.merge(df, on=on_columns).T"
   ]
  },
  {
   "cell_type": "code",
   "execution_count": null,
   "id": "38fab5ff-fd5d-4a11-80af-52221c9c1e79",
   "metadata": {},
   "outputs": [],
   "source": [
    "\n",
    "# Search for teleports and get the euclidean distance to the nearest patient"
   ]
  },
  {
   "cell_type": "code",
   "execution_count": null,
   "id": "677a2a7c-6143-4cf2-a62b-ab19f41cdff6",
   "metadata": {},
   "outputs": [],
   "source": [
    "\n",
    "mask_series = (csv_stats_df.injury_required_procedure == 'none')\n",
    "';'.join(csv_stats_df[mask_series].csv_file_name.unique().tolist())"
   ]
  },
  {
   "cell_type": "code",
   "execution_count": null,
   "id": "176dc954-2568-4f19-b9e2-f6d298dc25b2",
   "metadata": {},
   "outputs": [],
   "source": [
    "\n",
    "# load data frames\n",
    "data_frames_dict = nu.load_data_frames(\n",
    "    verbose=True, metrics_evaluation_open_world_anova_df=''\n",
    ")\n",
    "anova_df = data_frames_dict['metrics_evaluation_open_world_anova_df'].copy()\n",
    "print(sorted([cn for cn in anova_df.columns if 'trust' in cn.lower()]))"
   ]
  },
  {
   "cell_type": "code",
   "execution_count": null,
   "id": "024f8e14-4238-4f05-b977-a2a8797b7586",
   "metadata": {},
   "outputs": [],
   "source": [
    "\n",
    "anova_df.mean_PropTrust.unique().tolist()"
   ]
  },
  {
   "cell_type": "code",
   "execution_count": null,
   "id": "4703671f-d5fa-4ed6-a487-aa8be006cf48",
   "metadata": {},
   "outputs": [],
   "source": [
    "\n",
    "def entitle_column_name(column_name):\n",
    "    \"\"\"\n",
    "    Entitles a column name based on specified rules.\n",
    "    \n",
    "    Parameters:\n",
    "        column_name (str):\n",
    "            The name of the column to be entitled.\n",
    "    \n",
    "    Returns:\n",
    "        str\n",
    "            The entitled column name.\n",
    "    \n",
    "    Notes:\n",
    "        - If the column name starts with 'mean_' and the substring after 'mean_' exists in the value_description_dict,\n",
    "          the entitled name is obtained from the corresponding value in the dictionary, prepended with 'Average ' if necessary.\n",
    "        - Otherwise, the column name is split into parts, and each part is processed to ensure proper capitalization and word replacements.\n",
    "    \"\"\"\n",
    "    \n",
    "    # Check if the column name starts with 'mean_' and is present in the value_description_dict\n",
    "    if column_name.startswith('mean_') and (column_name[5:] in value_description_dict):\n",
    "        entitled_name = value_description_dict[column_name[5:]]\n",
    "        \n",
    "        # Prepend 'Average ' if the entitled name does not already start with it\n",
    "        if not entitled_name.startswith('Average '):\n",
    "            entitled_name = 'Average ' + entitled_name\n",
    "    else:\n",
    "        new_parts_list = []\n",
    "        old_parts_list = [op for op in split('_', column_name, 0) if op]  # Split the column name by underscores\n",
    "        for name_part in old_parts_list:\n",
    "            \n",
    "            # Check if the part contains a capital letter followed by lowercase letters (camelCase)\n",
    "            if search('[A-Z][a-z]+', name_part):\n",
    "                humps_list = [hp for hp in split('([A-Z][a-z]+)', name_part, 0) if hp]  # Split camelCase parts\n",
    "                for i, hump_part in enumerate(humps_list):\n",
    "                    \n",
    "                    # Capitalize each part if it is all lowercase\n",
    "                    if hump_part == hump_part.lower():\n",
    "                        humps_list[i] = hump_part.title()\n",
    "                    \n",
    "                    # Replace specific abbreviations with full words\n",
    "                    elif hump_part == 'Sim':\n",
    "                        humps_list[i] = 'Simulation'\n",
    "                    elif hump_part == 'Yrs':\n",
    "                        humps_list[i] = 'Years of'\n",
    "                    elif hump_part == 'Mil':\n",
    "                        humps_list[i] = 'Military'\n",
    "                    elif hump_part == 'Exp':\n",
    "                        humps_list[i] = 'Experience'\n",
    "                new_parts_list.extend(humps_list)\n",
    "            else:\n",
    "                \n",
    "                # Process parts that are not in camelCase\n",
    "                if name_part == name_part.lower():\n",
    "                    \n",
    "                    # Capitalize if the part is all lowercase and meets certain conditions\n",
    "                    if (len(name_part) > 2) and (name_part != 'uuid'):\n",
    "                        name_part = name_part.title()\n",
    "                    \n",
    "                    # Convert certain parts to uppercase\n",
    "                    elif name_part not in ['to', 'of', 'per']:\n",
    "                        name_part = name_part.upper()\n",
    "                new_parts_list.append(name_part)\n",
    "        \n",
    "        # Replace 'Mean' with 'Average' if it is the first part\n",
    "        if new_parts_list[0] == 'Mean':\n",
    "            new_parts_list[0] = 'Average'\n",
    "        entitled_name = ' '.join(new_parts_list)\n",
    "    \n",
    "    return entitled_name"
   ]
  },
  {
   "cell_type": "code",
   "execution_count": null,
   "id": "58f7af94-4c22-4d7d-9f1a-e5c0431aa701",
   "metadata": {},
   "outputs": [],
   "source": [
    "\n",
    "print(\"\\nGet column and value descriptions\")\n",
    "file_path = osp.join(nu.data_folder, 'xlsx', 'Metrics_Evaluation_Dataset_organization_for_BBAI.xlsx')\n",
    "dataset_organization_df = read_excel(file_path)\n",
    "\n",
    "print(\"\\nFix the doubled up descriptions\")\n",
    "mask_series = dataset_organization_df.Labels.map(lambda x: ';' in str(x))\n",
    "for row_index, label in dataset_organization_df[mask_series].Labels.items():\n",
    "    labels_list = split(' *; *', str(label), 0)\n",
    "    dataset_organization_df.loc[row_index, 'Labels'] = labels_list[0]\n",
    "    \n",
    "    # Append the new row to the DataFrame\n",
    "    new_row = dataset_organization_df.loc[row_index].copy()\n",
    "    new_row['Labels'] = labels_list[1]\n",
    "    dataset_organization_df = concat([dataset_organization_df, new_row], ignore_index=True)\n",
    "\n",
    "# Append the AD_Del_Omni_Text row to the DataFrame\n",
    "mask_series = (dataset_organization_df.Variable == 'AD_Del_Omni')\n",
    "new_row = dataset_organization_df.loc[mask_series].copy()\n",
    "new_row['Variable'] = 'AD_Del_Omni_Text'\n",
    "dataset_organization_df = concat([dataset_organization_df, new_row], ignore_index=True)\n",
    "\n",
    "print(\"\\nGet the column value descriptions\")\n",
    "mask_series = ~dataset_organization_df.Description.isnull()\n",
    "df = dataset_organization_df[mask_series]\n",
    "value_description_dict = df.set_index('Variable').Description.to_dict()\n",
    "new_description_dict = value_description_dict.copy()\n",
    "for k, v in value_description_dict.items():\n",
    "    new_description_dict[k] = v\n",
    "    if (not k.endswith('_Text')):\n",
    "        new_key_name = f'{k}_Text'\n",
    "        new_description_dict[new_key_name] = new_description_dict.get(new_key_name, v)\n",
    "value_description_dict = new_description_dict.copy()"
   ]
  },
  {
   "cell_type": "code",
   "execution_count": null,
   "id": "61d48b06-0fe7-473d-97a4-f36b0aec0d4f",
   "metadata": {},
   "outputs": [],
   "source": [
    "\n",
    "groupby_columns = ['participant_id', 'session_uuid', 'scene_id']\n",
    "rows_list = []\n",
    "for (participant_id, session_uuid, scene_id), scene_df in scene_stats_df.groupby(groupby_columns):\n",
    "    row_dict = {}\n",
    "    for cn in groupby_columns: row_dict[cn] = eval(cn)\n",
    "    for cn in scene_df.columns:\n",
    "        if 'injur' in cn:\n",
    "            row_dict[cn] = scene_df[cn].squeeze()\n",
    "    rows_list.append(row_dict)\n",
    "injury_counts_df = DataFrame(rows_list)"
   ]
  },
  {
   "cell_type": "code",
   "execution_count": null,
   "id": "4e6a8561-03a2-4d8e-af6a-fd3ab8745855",
   "metadata": {},
   "outputs": [],
   "source": [
    "\n",
    "columns_list = [cn for cn in injury_counts_df.columns if 'injur' in cn]\n",
    "injury_counts_df[columns_list]"
   ]
  },
  {
   "cell_type": "code",
   "execution_count": null,
   "id": "4cf11fb9-5cf1-412f-9724-748c96f66e58",
   "metadata": {},
   "outputs": [],
   "source": [
    "\n",
    "assert (\n",
    "    scene_stats_df.all_patient_injuries_count == scene_stats_df[\n",
    "        ['injury_correctly_treated_count', 'injury_not_treated_count', 'injury_wrongly_treated_count']\n",
    "    ].sum(axis='columns')\n",
    ").all(), \"The sum of the various injury counts does not match the total injury count for all rows.\""
   ]
  },
  {
   "cell_type": "code",
   "execution_count": null,
   "id": "269310da-3df9-4369-850d-9e7d674d5991",
   "metadata": {},
   "outputs": [],
   "source": [
    "\n",
    "df = injury_counts_df.sample(5)\n",
    "print(f\"\"\"\n",
    "        # Create a mock DataFrame with all injury columns\n",
    "        self.injury_counts_df = DataFrame({{\n",
    "            \"all_patient_injuries_count\": {df.all_patient_injuries_count.tolist()}\n",
    "            \"injury_correctly_treated_count\": {df.injury_correctly_treated_count.tolist()}\n",
    "            \"injury_not_treated_count\": {df.injury_not_treated_count.tolist()}\n",
    "            \"injury_wrongly_treated_count\": {df.injury_wrongly_treated_count.tolist()}\n",
    "        }})\"\"\")"
   ]
  },
  {
   "cell_type": "code",
   "execution_count": null,
   "id": "36eef4b7-a041-4571-ae9b-34a1a826c313",
   "metadata": {},
   "outputs": [],
   "source": [
    "\n",
    "groupby_columns = ['participant_id', 'session_uuid', 'scene_id']\n",
    "millisecond_threshold = 0\n",
    "for (participant_id, session_uuid, scene_id), scene_df in csv_stats_df.groupby(groupby_columns):\n",
    "    \n",
    "    # Loop through each injury and make a determination if it's treated or not\n",
    "    injury_correctly_treated_count = 0\n",
    "    for patient_id, patient_df in scene_df.groupby('patient_id'):\n",
    "        for injury_id, injury_df in patient_df.groupby('injury_id'):\n",
    "            is_correctly_treated = fu.get_is_injury_correctly_treated(injury_df, patient_df)\n",
    "            if is_correctly_treated: injury_correctly_treated_count += 1"
   ]
  },
  {
   "cell_type": "code",
   "execution_count": null,
   "id": "8a56d1c5-656a-4f95-b4a0-4a4432afcb03",
   "metadata": {},
   "outputs": [],
   "source": [
    "\n",
    "mask_series = (injury_df.action_type == 'INJURY_TREATED')\n",
    "action_ticks_list = sorted(injury_df[mask_series].action_tick.unique())\n",
    "mask_series = ~injury_df.injury_required_procedure.isnull()\n",
    "required_procedure = injury_df[mask_series].injury_required_procedure.mode().squeeze()\n",
    "print(required_procedure)\n",
    "for action_tick in action_ticks_list:\n",
    "    mask_series = patient_df.action_tick.map(\n",
    "        lambda ts: abs(ts - action_tick) < millisecond_threshold\n",
    "    ) & patient_df.action_type.isin(['TOOL_APPLIED'])\n",
    "    if mask_series.any():\n",
    "        print([(\n",
    "            required_procedure == self.tool_type_to_required_procedure_dict.get(tool_type)\n",
    "        ) for tool_type in patient_df[mask_series].tool_applied_type])\n",
    "        is_correctly_treated = any([(\n",
    "            required_procedure == self.tool_type_to_required_procedure_dict.get(tool_type)\n",
    "        ) for tool_type in patient_df[mask_series].tool_applied_type])"
   ]
  },
  {
   "cell_type": "code",
   "execution_count": null,
   "id": "a30f5f09-c21b-4da7-a9a5-be2a878fa6ec",
   "metadata": {},
   "outputs": [],
   "source": [
    "\n",
    "injury_df.dropna(axis='columns', how='all').T"
   ]
  },
  {
   "cell_type": "code",
   "execution_count": null,
   "id": "f477c558-c837-4be9-9790-c72219ca4a66",
   "metadata": {},
   "outputs": [],
   "source": [
    "\n",
    "columns_list = ['action_type', 'action_tick']\n",
    "patient_df[columns_list]"
   ]
  },
  {
   "cell_type": "code",
   "execution_count": null,
   "id": "8f33b25f-d66d-40c1-96f0-14f8ab8a9385",
   "metadata": {},
   "outputs": [],
   "source": [
    "\n",
    "from pandas import Series\n",
    "\n",
    "groupby_columns = ['participant_id', 'session_uuid', 'scene_id', 'patient_id']\n",
    "for (participant_id, session_uuid, scene_id, patient_id), patient_df in csv_stats_df.groupby(groupby_columns):\n",
    "    for injury_id, injury_df in patient_df.groupby('injury_id'):\n",
    "        action_ticks_list = sorted(injury_df.action_tick.unique())\n",
    "        mask_series = ~patient_df.tool_type.isnull() & patient_df.action_tick.isin(action_ticks_list)\n",
    "        if mask_series.any():\n",
    "            df = patient_df[mask_series]\n",
    "            mask_series = ~injury_df.injury_record_required_procedure.isnull()\n",
    "            required_procedure = injury_df[mask_series].injury_record_required_procedure.mode().squeeze()\n",
    "            if isinstance(required_procedure, Series):\n",
    "                required_procedure = '(who knows?)'\n",
    "                raise\n",
    "            for tool_type in df.tool_type:\n",
    "                is_correctly_treated = (required_procedure == fu.tool_type_to_required_procedure_dict.get(tool_type))\n",
    "                print(\n",
    "                    f'{patient_id} has a {injury_id} which requires a {required_procedure} and'\n",
    "                    f' it {\"was\" if is_correctly_treated else \"was not\"} correctly treated'\n",
    "                )\n",
    "                raise"
   ]
  },
  {
   "cell_type": "code",
   "execution_count": null,
   "id": "7ebb44af-16ef-4148-87e5-f4d047f7e979",
   "metadata": {},
   "outputs": [],
   "source": [
    "\n",
    "columns_list = [cn for cn in injury_df.columns if 'required_procedure' in cn]\n",
    "injury_df[columns_list]"
   ]
  },
  {
   "cell_type": "code",
   "execution_count": null,
   "id": "9d1f69bf-ce48-4258-b1aa-8f7879258a40",
   "metadata": {},
   "outputs": [],
   "source": [
    "\n",
    "osp.basename(osp.join('../data/logs', df.csv_file_subpath.squeeze()))"
   ]
  },
  {
   "cell_type": "code",
   "execution_count": null,
   "id": "f3a4855a-ed51-4f87-8fdd-c91686285b3d",
   "metadata": {},
   "outputs": [],
   "source": []
  }
 ],
 "metadata": {
  "kernelspec": {
   "display_name": "ITM Analysis Reporting (Python 3.11.7)",
   "language": "python",
   "name": "itm_analysis_reporting"
  },
  "language_info": {
   "codemirror_mode": {
    "name": "ipython",
    "version": 3
   },
   "file_extension": ".py",
   "mimetype": "text/x-python",
   "name": "python",
   "nbconvert_exporter": "python",
   "pygments_lexer": "ipython3",
   "version": "3.7.12"
  }
 },
 "nbformat": 4,
 "nbformat_minor": 5
}

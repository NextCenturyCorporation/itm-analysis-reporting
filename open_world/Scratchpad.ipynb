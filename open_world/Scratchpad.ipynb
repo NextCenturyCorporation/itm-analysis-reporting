{
 "cells": [
  {
   "cell_type": "code",
   "execution_count": 1,
   "id": "733d4183-f287-4716-b4cc-13d9faa86caf",
   "metadata": {},
   "outputs": [
    {
     "name": "stdout",
     "output_type": "stream",
     "text": [
      "Pretty printing has been turned OFF\n"
     ]
    }
   ],
   "source": [
    "\n",
    "# Set up notebook\n",
    "%pprint\n",
    "import sys\n",
    "if ('../py' not in sys.path): sys.path.insert(1, '../py')"
   ]
  },
  {
   "cell_type": "code",
   "execution_count": 2,
   "id": "460a2dd2-087a-46df-a2c1-610bf75ace38",
   "metadata": {},
   "outputs": [],
   "source": [
    "\n",
    "# load libraries\n",
    "from FRVRS import nu, fu\n",
    "from numpy import nan\n",
    "from pandas import (\n",
    "    CategoricalDtype, DataFrame, Index, NaT, Series, concat, get_dummies, isna, notnull, read_csv, read_excel, to_datetime, to_numeric\n",
    ")\n",
    "from re import split, search, sub, MULTILINE\n",
    "from scipy.stats import f_oneway, ttest_ind, kruskal, norm\n",
    "import itertools\n",
    "import os.path as osp\n",
    "import re\n",
    "import statsmodels.api as sm"
   ]
  },
  {
   "cell_type": "markdown",
   "id": "f377d96e-431b-43b2-9196-e5e182a117b2",
   "metadata": {},
   "source": [
    "\n",
    "## Use the CSV Data from the Last Successful Build"
   ]
  },
  {
   "cell_type": "code",
   "execution_count": 11,
   "id": "018887ec-d560-4a1d-b268-2e1ac4caa20f",
   "metadata": {},
   "outputs": [
    {
     "name": "stdout",
     "output_type": "stream",
     "text": [
      "No pickle exists for csv_stats_df - attempting to load /mnt/c/Users/DaveBabbitt/Documents/GitHub/itm-analysis-reporting/saves/csv/csv_stats_df.csv.\n",
      "(158663, 125)\n",
      "['injury_record_patient_id', 'injury_treated_patient_id', 'patient_id', 'player_gaze_patient_id', 'pulse_taken_patient_id', 'tag_applied_patient_id', 'tool_applied_patient_id', 'triage_level_walk_if_can_patient_id', 'triage_level_walked_patient_id', 'triage_level_wave_if_can_patient_id', 'triage_level_waved_patient_id']\n"
     ]
    }
   ],
   "source": [
    "\n",
    "# load the CSV data frame from the last successful build\n",
    "df_name = 'csv_stats_df'\n",
    "data_frames_dict = nu.load_data_frames(\n",
    "    verbose=True, **{df_name: ''}\n",
    ")\n",
    "csv_stats_df = data_frames_dict[df_name].copy()\n",
    "print(csv_stats_df.shape)\n",
    "print(sorted([cn for cn in csv_stats_df.columns if 'patient_id' in cn]))"
   ]
  },
  {
   "cell_type": "markdown",
   "id": "cf630578-a66b-4d10-a4b0-392d300237d3",
   "metadata": {},
   "source": [
    "\n",
    "## Use the is-military classifier to give every patient column a value between 0 and 1"
   ]
  },
  {
   "cell_type": "code",
   "execution_count": 12,
   "id": "f3a4855a-ed51-4f87-8fdd-c91686285b3d",
   "metadata": {},
   "outputs": [],
   "source": [
    "\n",
    "from sklearn.feature_extraction.text import CountVectorizer, TfidfTransformer\n",
    "\n",
    "is_military_classifier = nu.load_object('is_military_classifier')\n",
    "is_military_tt = nu.load_object('is_military_tt')\n",
    "is_military_cv = nu.load_object('is_military_cv')"
   ]
  },
  {
   "cell_type": "code",
   "execution_count": 14,
   "id": "ba77d164-550d-440f-8741-f4f429cae316",
   "metadata": {},
   "outputs": [],
   "source": [
    "\n",
    "for patient_id, patients_df in csv_stats_df.groupby('patient_id'):\n",
    "    if any(map(lambda x: x in patient_id.lower(), ['civilian'])):\n",
    "        is_military = 0.0\n",
    "    elif any(map(lambda x: x in patient_id.lower(), ['officer', 'soldier', 'marine', 'military', 'navy'])):\n",
    "        is_military = 1.0\n",
    "    else:\n",
    "        \n",
    "        # Predict if its military\n",
    "        X_test = is_military_tt.transform(is_military_cv.transform([patient_id])).toarray()\n",
    "        is_military = is_military_classifier.predict_proba(X_test)[0][1]\n",
    "    \n",
    "    # Store the prediction in the predict_proba column\n",
    "    csv_stats_df.loc[patients_df.index, 'is_military_prediction'] = is_military"
   ]
  },
  {
   "cell_type": "code",
   "execution_count": 16,
   "id": "e26978ea-953f-4c10-b97c-abc6e7596b21",
   "metadata": {},
   "outputs": [
    {
     "data": {
      "text/plain": [
       "['Local Soldier 1 Root', 'Marine 1 Male Root', 'Marine 2 Male Root', 'Marine 3 Male Root', 'Marine 4 Male Root', 'Navy Soldier 1 Male Root', 'Navy Soldier 2 Male Root', 'Navy Soldier 3 Male Root', 'Navy Soldier 4 Female Root', 'Open World Marine 1 Female Root', 'Open World Marine 1 Male Root', 'Open World Marine 2 Female Root', 'Open World Marine 2 Male Root', 'Open World Marine 3 Male Root', 'Open World Marine 4 Male Root', 'US Soldier 1 Root']"
      ]
     },
     "execution_count": 16,
     "metadata": {},
     "output_type": "execute_result"
    }
   ],
   "source": [
    "\n",
    "mask_series = (csv_stats_df.is_military_prediction == 1.0) & ~csv_stats_df.patient_id.isnull()\n",
    "sorted(csv_stats_df[mask_series].patient_id.unique())"
   ]
  },
  {
   "cell_type": "code",
   "execution_count": 17,
   "id": "7b649e40-f019-47a4-94b1-49246da00a87",
   "metadata": {},
   "outputs": [
    {
     "data": {
      "text/plain": [
       "['Adept Shooter Root', 'Adept Victim Root', 'Civilian 1 Female Root', 'Civilian 1 Root', 'Civilian 2 Root', 'NPC 1 Root', 'NPC 2 Root', 'NPC 3 Root', 'NPC 4 Root', 'NPC Root', 'Open World Civilian 1 Male Root', 'Open World Civilian 2 Female Root', 'Patient U Root', 'Patient V Root', 'Patient W Root', 'Patient X Root', 'Simulation Root', 'bystander Root', 'electrician Root', 'patient U Root', 'patient V Root', 'patient W Root', 'patient X Root']"
      ]
     },
     "execution_count": 17,
     "metadata": {},
     "output_type": "execute_result"
    }
   ],
   "source": [
    "\n",
    "mask_series = (csv_stats_df.is_military_prediction == 0.0) & ~csv_stats_df.patient_id.isnull()\n",
    "sorted(csv_stats_df[mask_series].patient_id.unique())"
   ]
  },
  {
   "cell_type": "code",
   "execution_count": 18,
   "id": "6ce53633-2f20-4348-924a-b5f2821a5c1d",
   "metadata": {},
   "outputs": [
    {
     "data": {
      "text/plain": [
       "[]"
      ]
     },
     "execution_count": 18,
     "metadata": {},
     "output_type": "execute_result"
    }
   ],
   "source": [
    "\n",
    "mask_series = (csv_stats_df.is_military_prediction < 1.0) & (csv_stats_df.is_military_prediction > 0.0) & ~csv_stats_df.patient_id.isnull()\n",
    "sorted(csv_stats_df[mask_series].patient_id.unique())"
   ]
  },
  {
   "cell_type": "code",
   "execution_count": 20,
   "id": "79ad15ad-eb52-4269-864f-8911393ca38a",
   "metadata": {},
   "outputs": [],
   "source": [
    "\n",
    "def get_actual_engagement_order(scene_df, include_noninteracteds=False, verbose=False):\n",
    "    \"\"\"\n",
    "    Get the chronological order of engagement starts for each patient in a scene.\n",
    "    \n",
    "    Parameters:\n",
    "        - scene_df (pandas.DataFrame): DataFrame containing scene data, including patient IDs, action types,\n",
    "          action ticks, location IDs, patient sorts, and DTR triage priority model predictions.\n",
    "        - verbose (bool, optional): If True, prints debug information. Default is False.\n",
    "    \n",
    "    Returns:\n",
    "        - engagement_order (list): List of tuples containing engagement information ordered chronologically:\n",
    "            - patient_id (int): The ID of the patient.\n",
    "            - engagement_start (int): The action tick at which the engagement started.\n",
    "            - location_tuple ((int, int)): A tuple representing the (x, z) coordinates of the engagement location.\n",
    "            - patient_sort (str or None): The patient's SORT designation, if available.\n",
    "            - is_military_prediction (float): The patient's predicted militariness\n",
    "            - injury_severity (str): The patient's severity\n",
    "    \"\"\"\n",
    "    engagement_starts_list = []\n",
    "    for patient_id, patient_df in scene_df.groupby('patient_id'):\n",
    "        \n",
    "        # Get the cluster ID, if available\n",
    "        mask_series = ~patient_df.patient_sort.isnull()\n",
    "        patient_sort = (\n",
    "            patient_df[mask_series].sort_values('action_tick').iloc[-1].patient_sort\n",
    "            if mask_series.any()\n",
    "            else None\n",
    "        )\n",
    "        \n",
    "        # Get the is-military prediction\n",
    "        if 'is_military_prediction' in patient_df.columns:\n",
    "            mask_series = ~patient_df.is_military_prediction.isnull()\n",
    "            predicted_military = (\n",
    "                patient_df[mask_series].is_military_prediction.mean()\n",
    "                if mask_series.any()\n",
    "                else None\n",
    "            )\n",
    "        else: predicted_military = None\n",
    "        \n",
    "        # Get the maximum injury severity\n",
    "        injury_severity = fu.get_maximum_injury_severity(patient_df)\n",
    "        \n",
    "        # Check if the responder even interacted with this patient\n",
    "        mask_series = patient_df.action_type.isin(fu.responder_negotiations_list)\n",
    "        if mask_series.any():\n",
    "            df = patient_df[mask_series].sort_values('action_tick')\n",
    "            \n",
    "            # Get the first engagement start that has a location\n",
    "            mask_series = ~df.location_id.isnull()\n",
    "            if mask_series.any():\n",
    "                engagement_start = df[mask_series].iloc[0].action_tick\n",
    "                engagement_location = eval(df[mask_series].iloc[0].location_id) # Evaluate string to get tuple\n",
    "                location_tuple = (engagement_location[0], engagement_location[2])\n",
    "            else:\n",
    "                engagement_start = df.iloc[0].action_tick\n",
    "                location_tuple = (0.0, 0.0)\n",
    "            \n",
    "            # Add engagement information to the list\n",
    "            engagement_tuple = (patient_id, engagement_start, location_tuple, patient_sort, predicted_military, injury_severity)\n",
    "            engagement_starts_list.append(engagement_tuple)\n",
    "        \n",
    "        # Add -99999 for engagement_start if you're including non-interacted-with patients\n",
    "        elif include_noninteracteds:\n",
    "            engagement_tuple = (patient_id, -99999, None, patient_sort, predicted_military, injury_severity)\n",
    "            engagement_starts_list.append(engagement_tuple)\n",
    "    \n",
    "    # Sort the starts list chronologically\n",
    "    engagement_order = sorted(engagement_starts_list, key=lambda x: x[1], reverse=False)\n",
    "    \n",
    "    return engagement_order"
   ]
  },
  {
   "cell_type": "code",
   "execution_count": 19,
   "id": "51153d19-bcf0-4660-a17f-65a8232941a3",
   "metadata": {},
   "outputs": [
    {
     "data": {
      "text/plain": [
       "[0.0, 0.0, 0.0, 0.0, 0.0, 1.0, 1.0, 1.0, 1.0, 1.0, 0.0, 0.0, 0.0, 0.0, 0.0, 1.0, 1.0, 1.0, 1.0, 0.0, 0.0, 1.0, 1.0, 1.0, 1.0, 1.0, 1.0, 0.0, 0.0, 0.0, 0.0, 0.0, 1.0, 0.0, 0.0, 0.0, 0.0, 0.0, 0.0]"
      ]
     },
     "execution_count": 19,
     "metadata": {},
     "output_type": "execute_result"
    }
   ],
   "source": [
    "\n",
    "[patients_df.is_military_prediction.unique().item() for patient_id, patients_df in csv_stats_df.groupby('patient_id')]"
   ]
  },
  {
   "cell_type": "code",
   "execution_count": 30,
   "id": "134ef2f2-e6f2-47f3-9933-8cff9e0e8922",
   "metadata": {},
   "outputs": [],
   "source": [
    "\n",
    "rows_list = []\n",
    "groupby_columns = ['participant_id', 'session_uuid']\n",
    "for (participant_id, session_uuid), session_df in csv_stats_df.groupby(groupby_columns):\n",
    "    row_dict = {cn: eval(cn) for cn in groupby_columns}\n",
    "    \n",
    "    # Extract the actual and ideal sequences of first interactions from the scene in terms of is/isn't military\n",
    "    engagement_starts_list = fu.get_actual_engagement_order(session_df)\n",
    "    actual_sequence = []\n",
    "    for engagement_tuple in engagement_starts_list:\n",
    "        patient_id = engagement_tuple[0]\n",
    "        if any(map(lambda x: x in patient_id.lower(), ['civilian'])):\n",
    "            is_military = 0.0\n",
    "        elif any(map(lambda x: x in patient_id.lower(), ['officer', 'soldier', 'marine', 'military', 'navy'])):\n",
    "            is_military = 1.0\n",
    "        else:\n",
    "            X_test = is_military_tt.transform(is_military_cv.transform([patient_id])).toarray()\n",
    "            is_military = is_military_classifier.predict_proba(X_test)[0][1]\n",
    "        actual_sequence.append(is_military)\n",
    "    ideal_sequence = sorted(actual_sequence)[::-1]\n",
    "    \n",
    "    # Calculate the R-squared adjusted value as a measure of right ordering\n",
    "    measure_of_right_ordering = fu.get_measure_of_ordering(Series(actual_sequence), Series(ideal_sequence))\n",
    "    row_dict['measure_of_right_ordering'] = measure_of_right_ordering\n",
    "\n",
    "    rows_list.append(row_dict)\n",
    "right_ordering_df = DataFrame(rows_list)"
   ]
  },
  {
   "cell_type": "code",
   "execution_count": 53,
   "id": "d4859608-89ab-4e0a-ba4d-3efdda67d38c",
   "metadata": {},
   "outputs": [
    {
     "data": {
      "image/png": "[encoded data removed]",
      "text/plain": [
       "<Figure size 1244.44x700 with 1 Axes>"
      ]
     },
     "metadata": {},
     "output_type": "display_data"
    }
   ],
   "source": [
    "\n",
    "from matplotlib import colors as colors, pyplot as plt\n",
    "import humanize\n",
    "\n",
    "fig_height = 7\n",
    "fig_size=(nu.twitter_aspect_ratio*fig_height, fig_height)\n",
    "fig, ax = plt.subplots(figsize=fig_size)\n",
    "axes_subplot_obj = right_ordering_df.measure_of_right_ordering.hist(ax=ax, align='mid', edgecolor='black')\n",
    "\n",
    "# Display x value of each bar on bar\n",
    "bars_collection = axes_subplot_obj.patches\n",
    "for rect in bars_collection:\n",
    "    height = rect.get_height()\n",
    "    x_value = rect.get_x() + rect.get_width() / 2.0\n",
    "    ax.text(x_value, height, f'{x_value:0.2f}', ha='center', va='bottom')\n",
    "\n",
    "# Set the grid, title, and labels\n",
    "plt.grid(False)\n",
    "ax.set_title('Histogram of a Measure of the Tendency to Treat Military Patients First')\n",
    "ax.set_xlabel('R-squared Adjusted Value against the Military-favoring Sequence')\n",
    "ax.set_ylabel('Count of Instances in Bin');"
   ]
  },
  {
   "cell_type": "code",
   "execution_count": 51,
   "id": "f0470c2e-a17e-464a-bb42-fea7efdf9edc",
   "metadata": {},
   "outputs": [
    {
     "data": {
      "text/plain": [
       "['_PROPERTIES_EXCLUDED_FROM_SET', '__class__', '__delattr__', '__dict__', '__dir__', '__doc__', '__eq__', '__format__', '__ge__', '__getattribute__', '__getstate__', '__gt__', '__hash__', '__init__', '__init_subclass__', '__le__', '__lt__', '__module__', '__ne__', '__new__', '__reduce__', '__reduce_ex__', '__repr__', '__setattr__', '__sizeof__', '__str__', '__subclasshook__', '__weakref__', '_agg_filter', '_alias_map', '_alpha', '_animated', '_antialiased', '_axes', '_bind_draw_path_function', '_callbacks', '_capstyle', '_clipon', '_clippath', '_cm_set', '_convert_units', '_convert_xy_units', '_dashes', '_dashoffset', '_default_contains', '_edge_default', '_edgecolor', '_facecolor', '_fill', '_get_clipping_extent_bbox', '_gid', '_hatch', '_hatch_color', '_height', '_in_layout', '_joinstyle', '_label', '_linestyle', '_linewidth', '_mouseover', '_original_edgecolor', '_original_facecolor', '_path_effects', '_picker', '_process_radius', '_rasterized', '_remove_method', '_set_alpha_for_array', '_set_edgecolor', '_set_facecolor', '_set_gc_clip', '_sketch', '_snap', '_stale', '_sticky_edges', '_transform', '_transformSet', '_update_set_signature_and_docstring', '_url', '_us_dashes', '_visible', '_width', '_x0', '_y0', 'add_callback', 'angle', 'axes', 'clipbox', 'contains', 'contains_point', 'contains_points', 'convert_xunits', 'convert_yunits', 'draw', 'figure', 'fill', 'findobj', 'format_cursor_data', 'get_aa', 'get_agg_filter', 'get_alpha', 'get_angle', 'get_animated', 'get_antialiased', 'get_bbox', 'get_capstyle', 'get_children', 'get_clip_box', 'get_clip_on', 'get_clip_path', 'get_cursor_data', 'get_data_transform', 'get_ec', 'get_edgecolor', 'get_extents', 'get_facecolor', 'get_fc', 'get_figure', 'get_fill', 'get_gid', 'get_hatch', 'get_height', 'get_in_layout', 'get_joinstyle', 'get_label', 'get_linestyle', 'get_linewidth', 'get_ls', 'get_lw', 'get_patch_transform', 'get_path', 'get_path_effects', 'get_picker', 'get_rasterized', 'get_sketch_params', 'get_snap', 'get_tightbbox', 'get_transform', 'get_transformed_clip_path_and_affine', 'get_url', 'get_verts', 'get_visible', 'get_width', 'get_window_extent', 'get_x', 'get_xy', 'get_y', 'get_zorder', 'have_units', 'is_transform_set', 'mouseover', 'pchanged', 'pick', 'pickable', 'properties', 'remove', 'remove_callback', 'set', 'set_aa', 'set_agg_filter', 'set_alpha', 'set_angle', 'set_animated', 'set_antialiased', 'set_bounds', 'set_capstyle', 'set_clip_box', 'set_clip_on', 'set_clip_path', 'set_color', 'set_ec', 'set_edgecolor', 'set_facecolor', 'set_fc', 'set_figure', 'set_fill', 'set_gid', 'set_hatch', 'set_height', 'set_in_layout', 'set_joinstyle', 'set_label', 'set_linestyle', 'set_linewidth', 'set_ls', 'set_lw', 'set_path_effects', 'set_picker', 'set_rasterized', 'set_sketch_params', 'set_snap', 'set_transform', 'set_url', 'set_visible', 'set_width', 'set_x', 'set_xy', 'set_y', 'set_zorder', 'stale', 'stale_callback', 'sticky_edges', 'update', 'update_from', 'validCap', 'validJoin', 'xy', 'zorder']"
      ]
     },
     "execution_count": 51,
     "metadata": {},
     "output_type": "execute_result"
    }
   ],
   "source": [
    "\n",
    "dir(rect)"
   ]
  },
  {
   "cell_type": "code",
   "execution_count": null,
   "id": "f7755c75-58bc-4d6f-8683-f5eac8444d28",
   "metadata": {},
   "outputs": [],
   "source": []
  }
 ],
 "metadata": {
  "kernelspec": {
   "display_name": "ITM Analysis Reporting (Python 3.11.7)",
   "language": "python",
   "name": "itm_analysis_reporting"
  },
  "language_info": {
   "codemirror_mode": {
    "name": "ipython",
    "version": 3
   },
   "file_extension": ".py",
   "mimetype": "text/x-python",
   "name": "python",
   "nbconvert_exporter": "python",
   "pygments_lexer": "ipython3",
   "version": "3.7.12"
  }
 },
 "nbformat": 4,
 "nbformat_minor": 5
}

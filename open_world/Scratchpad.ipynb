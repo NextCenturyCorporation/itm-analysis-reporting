{
 "cells": [
  {
   "cell_type": "code",
   "execution_count": 1,
   "id": "733d4183-f287-4716-b4cc-13d9faa86caf",
   "metadata": {},
   "outputs": [
    {
     "name": "stdout",
     "output_type": "stream",
     "text": [
      "Pretty printing has been turned OFF\n"
     ]
    }
   ],
   "source": [
    "\n",
    "# Set up notebook\n",
    "%pprint\n",
    "import sys\n",
    "if ('../py' not in sys.path): sys.path.insert(1, '../py')"
   ]
  },
  {
   "cell_type": "code",
   "execution_count": 2,
   "id": "460a2dd2-087a-46df-a2c1-610bf75ace38",
   "metadata": {},
   "outputs": [],
   "source": [
    "\n",
    "# load libraries\n",
    "from FRVRS import nu, fu\n",
    "from numpy import nan\n",
    "from pandas import (\n",
    "    CategoricalDtype, DataFrame, Index, NaT, Series, concat, get_dummies, isna, notnull, read_csv, read_excel, to_datetime, to_numeric\n",
    ")\n",
    "from re import split, search, sub, MULTILINE\n",
    "from scipy.stats import f_oneway, ttest_ind, kruskal, norm\n",
    "import itertools\n",
    "import os.path as osp\n",
    "import re\n",
    "import statsmodels.api as sm"
   ]
  },
  {
   "cell_type": "markdown",
   "id": "f377d96e-431b-43b2-9196-e5e182a117b2",
   "metadata": {},
   "source": [
    "\n",
    "## Use the CSV Data from the Last Successful Build"
   ]
  },
  {
   "cell_type": "code",
   "execution_count": 11,
   "id": "018887ec-d560-4a1d-b268-2e1ac4caa20f",
   "metadata": {},
   "outputs": [
    {
     "name": "stdout",
     "output_type": "stream",
     "text": [
      "No pickle exists for csv_stats_df - attempting to load /mnt/c/Users/DaveBabbitt/Documents/GitHub/itm-analysis-reporting/saves/csv/csv_stats_df.csv.\n",
      "(158663, 125)\n",
      "['injury_record_patient_id', 'injury_treated_patient_id', 'patient_id', 'player_gaze_patient_id', 'pulse_taken_patient_id', 'tag_applied_patient_id', 'tool_applied_patient_id', 'triage_level_walk_if_can_patient_id', 'triage_level_walked_patient_id', 'triage_level_wave_if_can_patient_id', 'triage_level_waved_patient_id']\n"
     ]
    }
   ],
   "source": [
    "\n",
    "# load the CSV data frame from the last successful build\n",
    "df_name = 'csv_stats_df'\n",
    "data_frames_dict = nu.load_data_frames(\n",
    "    verbose=True, **{df_name: ''}\n",
    ")\n",
    "csv_stats_df = data_frames_dict[df_name].copy()\n",
    "print(csv_stats_df.shape)\n",
    "print(sorted([cn for cn in csv_stats_df.columns if 'patient_id' in cn]))"
   ]
  },
  {
   "cell_type": "markdown",
   "id": "cf630578-a66b-4d10-a4b0-392d300237d3",
   "metadata": {},
   "source": [
    "\n",
    "## Use the is-military classifier to give every patient column a value between 0 and 1"
   ]
  },
  {
   "cell_type": "code",
   "execution_count": 12,
   "id": "f3a4855a-ed51-4f87-8fdd-c91686285b3d",
   "metadata": {},
   "outputs": [],
   "source": [
    "\n",
    "from sklearn.feature_extraction.text import CountVectorizer, TfidfTransformer\n",
    "\n",
    "is_military_classifier = nu.load_object('is_military_classifier')\n",
    "is_military_tt = nu.load_object('is_military_tt')\n",
    "is_military_cv = nu.load_object('is_military_cv')"
   ]
  },
  {
   "cell_type": "code",
   "execution_count": 14,
   "id": "ba77d164-550d-440f-8741-f4f429cae316",
   "metadata": {},
   "outputs": [],
   "source": [
    "\n",
    "for patient_id, patients_df in csv_stats_df.groupby('patient_id'):\n",
    "    if any(map(lambda x: x in patient_id.lower(), ['civilian'])):\n",
    "        is_military = 0.0\n",
    "    elif any(map(lambda x: x in patient_id.lower(), ['officer', 'soldier', 'marine', 'military', 'navy'])):\n",
    "        is_military = 1.0\n",
    "    else:\n",
    "        \n",
    "        # Predict if its military\n",
    "        X_test = is_military_tt.transform(is_military_cv.transform([patient_id])).toarray()\n",
    "        is_military = is_military_classifier.predict_proba(X_test)[0][1]\n",
    "    \n",
    "    # Store the prediction in the predict_proba column\n",
    "    csv_stats_df.loc[patients_df.index, 'is_military_prediction'] = is_military"
   ]
  },
  {
   "cell_type": "code",
   "execution_count": 16,
   "id": "e26978ea-953f-4c10-b97c-abc6e7596b21",
   "metadata": {},
   "outputs": [
    {
     "data": {
      "text/plain": [
       "['Local Soldier 1 Root', 'Marine 1 Male Root', 'Marine 2 Male Root', 'Marine 3 Male Root', 'Marine 4 Male Root', 'Navy Soldier 1 Male Root', 'Navy Soldier 2 Male Root', 'Navy Soldier 3 Male Root', 'Navy Soldier 4 Female Root', 'Open World Marine 1 Female Root', 'Open World Marine 1 Male Root', 'Open World Marine 2 Female Root', 'Open World Marine 2 Male Root', 'Open World Marine 3 Male Root', 'Open World Marine 4 Male Root', 'US Soldier 1 Root']"
      ]
     },
     "execution_count": 16,
     "metadata": {},
     "output_type": "execute_result"
    }
   ],
   "source": [
    "\n",
    "mask_series = (csv_stats_df.is_military_prediction == 1.0) & ~csv_stats_df.patient_id.isnull()\n",
    "sorted(csv_stats_df[mask_series].patient_id.unique())"
   ]
  },
  {
   "cell_type": "code",
   "execution_count": 17,
   "id": "7b649e40-f019-47a4-94b1-49246da00a87",
   "metadata": {},
   "outputs": [
    {
     "data": {
      "text/plain": [
       "['Adept Shooter Root', 'Adept Victim Root', 'Civilian 1 Female Root', 'Civilian 1 Root', 'Civilian 2 Root', 'NPC 1 Root', 'NPC 2 Root', 'NPC 3 Root', 'NPC 4 Root', 'NPC Root', 'Open World Civilian 1 Male Root', 'Open World Civilian 2 Female Root', 'Patient U Root', 'Patient V Root', 'Patient W Root', 'Patient X Root', 'Simulation Root', 'bystander Root', 'electrician Root', 'patient U Root', 'patient V Root', 'patient W Root', 'patient X Root']"
      ]
     },
     "execution_count": 17,
     "metadata": {},
     "output_type": "execute_result"
    }
   ],
   "source": [
    "\n",
    "mask_series = (csv_stats_df.is_military_prediction == 0.0) & ~csv_stats_df.patient_id.isnull()\n",
    "sorted(csv_stats_df[mask_series].patient_id.unique())"
   ]
  },
  {
   "cell_type": "code",
   "execution_count": 18,
   "id": "6ce53633-2f20-4348-924a-b5f2821a5c1d",
   "metadata": {},
   "outputs": [
    {
     "data": {
      "text/plain": [
       "[]"
      ]
     },
     "execution_count": 18,
     "metadata": {},
     "output_type": "execute_result"
    }
   ],
   "source": [
    "\n",
    "mask_series = (csv_stats_df.is_military_prediction < 1.0) & (csv_stats_df.is_military_prediction > 0.0) & ~csv_stats_df.patient_id.isnull()\n",
    "sorted(csv_stats_df[mask_series].patient_id.unique())"
   ]
  },
  {
   "cell_type": "code",
   "execution_count": 19,
   "id": "51153d19-bcf0-4660-a17f-65a8232941a3",
   "metadata": {},
   "outputs": [
    {
     "data": {
      "text/plain": [
       "[0.0, 0.0, 0.0, 0.0, 0.0, 1.0, 1.0, 1.0, 1.0, 1.0, 0.0, 0.0, 0.0, 0.0, 0.0, 1.0, 1.0, 1.0, 1.0, 0.0, 0.0, 1.0, 1.0, 1.0, 1.0, 1.0, 1.0, 0.0, 0.0, 0.0, 0.0, 0.0, 1.0, 0.0, 0.0, 0.0, 0.0, 0.0, 0.0]"
      ]
     },
     "execution_count": 19,
     "metadata": {},
     "output_type": "execute_result"
    }
   ],
   "source": [
    "\n",
    "[patients_df.is_military_prediction.unique().item() for patient_id, patients_df in csv_stats_df.groupby('patient_id')]"
   ]
  },
  {
   "cell_type": "code",
   "execution_count": null,
   "id": "79ad15ad-eb52-4269-864f-8911393ca38a",
   "metadata": {},
   "outputs": [],
   "source": [
    "\n",
    "def get_actual_engagement_order(scene_df, include_noninteracteds=False, verbose=False):\n",
    "    \"\"\"\n",
    "    Get the chronological order of engagement starts for each patient in a scene.\n",
    "    \n",
    "    Parameters:\n",
    "        - scene_df (pandas.DataFrame): DataFrame containing scene data, including patient IDs, action types,\n",
    "          action ticks, location IDs, patient sorts, and DTR triage priority model predictions.\n",
    "        - verbose (bool, optional): If True, prints debug information. Default is False.\n",
    "    \n",
    "    Returns:\n",
    "        - engagement_order (list): List of tuples containing engagement information ordered chronologically:\n",
    "            - patient_id (int): The ID of the patient.\n",
    "            - engagement_start (int): The action tick at which the engagement started.\n",
    "            - location_tuple ((int, int)): A tuple representing the (x, z) coordinates of the engagement location.\n",
    "            - patient_sort (str or None): The patient's SORT designation, if available.\n",
    "            - is_military_prediction (float): The patient's predicted militariness\n",
    "            - injury_severity (str): The patient's severity\n",
    "    \"\"\"\n",
    "    engagement_starts_list = []\n",
    "    for patient_id, patient_df in scene_df.groupby('patient_id'):\n",
    "        \n",
    "        # Get the cluster ID, if available\n",
    "        mask_series = ~patient_df.patient_sort.isnull()\n",
    "        patient_sort = (\n",
    "            patient_df[mask_series].sort_values('action_tick').iloc[-1].patient_sort\n",
    "            if mask_series.any()\n",
    "            else None\n",
    "        )\n",
    "        \n",
    "        # Get the is-military prediction\n",
    "        if 'is_military_prediction' in patient_df.columns:\n",
    "            mask_series = ~patient_df.is_military_prediction.isnull()\n",
    "            predicted_military = (\n",
    "                patient_df[mask_series].is_military_prediction.mean()\n",
    "                if mask_series.any()\n",
    "                else None\n",
    "            )\n",
    "        else: predicted_military = None\n",
    "        \n",
    "        # Get the maximum injury severity\n",
    "        injury_severity = fu.get_maximum_injury_severity(patient_df)\n",
    "        \n",
    "        # Check if the responder even interacted with this patient\n",
    "        mask_series = patient_df.action_type.isin(fu.responder_negotiations_list)\n",
    "        if mask_series.any():\n",
    "            df = patient_df[mask_series].sort_values('action_tick')\n",
    "            \n",
    "            # Get the first engagement start that has a location\n",
    "            mask_series = ~df.location_id.isnull()\n",
    "            if mask_series.any():\n",
    "                engagement_start = df[mask_series].iloc[0].action_tick\n",
    "                engagement_location = eval(df[mask_series].iloc[0].location_id) # Evaluate string to get tuple\n",
    "                location_tuple = (engagement_location[0], engagement_location[2])\n",
    "            else:\n",
    "                engagement_start = df.iloc[0].action_tick\n",
    "                location_tuple = (0.0, 0.0)\n",
    "            \n",
    "            # Add engagement information to the list\n",
    "            engagement_tuple = (patient_id, engagement_start, location_tuple, patient_sort, predicted_military, injury_severity)\n",
    "            engagement_starts_list.append(engagement_tuple)\n",
    "        \n",
    "        # Add -99999 for engagement_start if you're including non-interacted-with patients\n",
    "        elif include_noninteracteds:\n",
    "            engagement_tuple = (patient_id, -99999, None, patient_sort, predicted_military, injury_severity)\n",
    "            engagement_starts_list.append(engagement_tuple)\n",
    "    \n",
    "    # Sort the starts list chronologically\n",
    "    engagement_order = sorted(engagement_starts_list, key=lambda x: x[1], reverse=False)\n",
    "    \n",
    "    return engagement_order"
   ]
  }
 ],
 "metadata": {
  "kernelspec": {
   "display_name": "ITM Analysis Reporting (Python 3.11.7)",
   "language": "python",
   "name": "itm_analysis_reporting"
  },
  "language_info": {
   "codemirror_mode": {
    "name": "ipython",
    "version": 3
   },
   "file_extension": ".py",
   "mimetype": "text/x-python",
   "name": "python",
   "nbconvert_exporter": "python",
   "pygments_lexer": "ipython3",
   "version": "3.7.12"
  }
 },
 "nbformat": 4,
 "nbformat_minor": 5
}

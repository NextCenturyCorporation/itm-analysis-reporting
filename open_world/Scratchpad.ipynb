{
 "cells": [
  {
   "cell_type": "code",
   "execution_count": null,
   "id": "9f1285cd-7472-4840-907c-e3b0b06ce052",
   "metadata": {},
   "outputs": [],
   "source": []
  },
  {
   "cell_type": "code",
   "execution_count": 1,
   "id": "733d4183-f287-4716-b4cc-13d9faa86caf",
   "metadata": {},
   "outputs": [
    {
     "name": "stdout",
     "output_type": "stream",
     "text": [
      "Pretty printing has been turned OFF\n"
     ]
    }
   ],
   "source": [
    "\n",
    "# Set up notebook\n",
    "%pprint\n",
    "import sys\n",
    "if ('../py' not in sys.path): sys.path.insert(1, '../py')"
   ]
  },
  {
   "cell_type": "code",
   "execution_count": 2,
   "id": "460a2dd2-087a-46df-a2c1-610bf75ace38",
   "metadata": {},
   "outputs": [],
   "source": [
    "\n",
    "# load libraries\n",
    "from FRVRS import nu, fu\n",
    "from numpy import nan\n",
    "from pandas import DataFrame, read_csv, read_excel, concat, get_dummies, isna\n",
    "from re import split, search, sub\n",
    "from scipy.stats import f_oneway, ttest_ind, kruskal, norm\n",
    "import itertools\n",
    "import os.path as osp\n",
    "import statsmodels.api as sm"
   ]
  },
  {
   "cell_type": "code",
   "execution_count": 3,
   "id": "b94af009-79f4-4dbd-9482-89bb6b6705b6",
   "metadata": {},
   "outputs": [
    {
     "name": "stdout",
     "output_type": "stream",
     "text": [
      "No pickle exists for metrics_evaluation_open_world_csv_stats_df - attempting to load /mnt/c/Users/DaveBabbitt/Documents/GitHub/itm-analysis-reporting/saves/csv/metrics_evaluation_open_world_csv_stats_df.csv.\n",
      "[]\n"
     ]
    }
   ],
   "source": [
    "\n",
    "# load data frames\n",
    "data_frames_dict = nu.load_data_frames(\n",
    "    verbose=True, metrics_evaluation_open_world_csv_stats_df=''\n",
    ")\n",
    "csv_stats_df = data_frames_dict['metrics_evaluation_open_world_csv_stats_df'].copy()\n",
    "print(sorted([cn for cn in csv_stats_df.columns if 'all' in cn]))"
   ]
  },
  {
   "cell_type": "code",
   "execution_count": 4,
   "id": "bada6956-bed0-4bc7-b6a5-a6ffcdd5792e",
   "metadata": {},
   "outputs": [
    {
     "name": "stdout",
     "output_type": "stream",
     "text": [
      "No pickle exists for metrics_evaluation_open_world_scene_stats_df - attempting to load /mnt/c/Users/DaveBabbitt/Documents/GitHub/itm-analysis-reporting/saves/csv/metrics_evaluation_open_world_scene_stats_df.csv.\n",
      "['all_patient_injuries_count']\n"
     ]
    }
   ],
   "source": [
    "\n",
    "# load data frames\n",
    "data_frames_dict = nu.load_data_frames(\n",
    "    verbose=True, metrics_evaluation_open_world_scene_stats_df=''\n",
    ")\n",
    "scene_stats_df = data_frames_dict['metrics_evaluation_open_world_scene_stats_df'].copy()\n",
    "print(sorted([cn for cn in scene_stats_df.columns if 'all' in cn]))"
   ]
  },
  {
   "cell_type": "code",
   "execution_count": 5,
   "id": "61d48b06-0fe7-473d-97a4-f36b0aec0d4f",
   "metadata": {},
   "outputs": [],
   "source": [
    "\n",
    "groupby_columns = ['participant_id', 'session_uuid', 'scene_id']\n",
    "rows_list = []\n",
    "for (participant_id, session_uuid, scene_id), scene_df in scene_stats_df.groupby(groupby_columns):\n",
    "    row_dict = {}\n",
    "    for cn in groupby_columns: row_dict[cn] = eval(cn)\n",
    "    for cn in scene_df.columns:\n",
    "        if 'injur' in cn:\n",
    "            row_dict[cn] = scene_df[cn].squeeze()\n",
    "    rows_list.append(row_dict)\n",
    "injury_counts_df = DataFrame(rows_list)"
   ]
  },
  {
   "cell_type": "code",
   "execution_count": 6,
   "id": "4e6a8561-03a2-4d8e-af6a-fd3ab8745855",
   "metadata": {},
   "outputs": [
    {
     "data": {
      "text/html": [
       "<div>\n",
       "<style scoped>\n",
       "    .dataframe tbody tr th:only-of-type {\n",
       "        vertical-align: middle;\n",
       "    }\n",
       "\n",
       "    .dataframe tbody tr th {\n",
       "        vertical-align: top;\n",
       "    }\n",
       "\n",
       "    .dataframe thead th {\n",
       "        text-align: right;\n",
       "    }\n",
       "</style>\n",
       "<table border=\"1\" class=\"dataframe\">\n",
       "  <thead>\n",
       "    <tr style=\"text-align: right;\">\n",
       "      <th></th>\n",
       "      <th>all_patient_injuries_count</th>\n",
       "      <th>injury_correctly_treated_count</th>\n",
       "      <th>injury_not_treated_count</th>\n",
       "      <th>injury_wrongly_treated_count</th>\n",
       "    </tr>\n",
       "  </thead>\n",
       "  <tbody>\n",
       "    <tr>\n",
       "      <th>0</th>\n",
       "      <td>31</td>\n",
       "      <td>15</td>\n",
       "      <td>10</td>\n",
       "      <td>6</td>\n",
       "    </tr>\n",
       "    <tr>\n",
       "      <th>1</th>\n",
       "      <td>18</td>\n",
       "      <td>0</td>\n",
       "      <td>18</td>\n",
       "      <td>0</td>\n",
       "    </tr>\n",
       "    <tr>\n",
       "      <th>2</th>\n",
       "      <td>0</td>\n",
       "      <td>0</td>\n",
       "      <td>0</td>\n",
       "      <td>0</td>\n",
       "    </tr>\n",
       "    <tr>\n",
       "      <th>3</th>\n",
       "      <td>0</td>\n",
       "      <td>0</td>\n",
       "      <td>0</td>\n",
       "      <td>0</td>\n",
       "    </tr>\n",
       "    <tr>\n",
       "      <th>4</th>\n",
       "      <td>23</td>\n",
       "      <td>11</td>\n",
       "      <td>8</td>\n",
       "      <td>4</td>\n",
       "    </tr>\n",
       "    <tr>\n",
       "      <th>...</th>\n",
       "      <td>...</td>\n",
       "      <td>...</td>\n",
       "      <td>...</td>\n",
       "      <td>...</td>\n",
       "    </tr>\n",
       "    <tr>\n",
       "      <th>63</th>\n",
       "      <td>19</td>\n",
       "      <td>5</td>\n",
       "      <td>9</td>\n",
       "      <td>5</td>\n",
       "    </tr>\n",
       "    <tr>\n",
       "      <th>64</th>\n",
       "      <td>23</td>\n",
       "      <td>12</td>\n",
       "      <td>7</td>\n",
       "      <td>4</td>\n",
       "    </tr>\n",
       "    <tr>\n",
       "      <th>65</th>\n",
       "      <td>31</td>\n",
       "      <td>23</td>\n",
       "      <td>2</td>\n",
       "      <td>6</td>\n",
       "    </tr>\n",
       "    <tr>\n",
       "      <th>66</th>\n",
       "      <td>31</td>\n",
       "      <td>10</td>\n",
       "      <td>20</td>\n",
       "      <td>1</td>\n",
       "    </tr>\n",
       "    <tr>\n",
       "      <th>67</th>\n",
       "      <td>23</td>\n",
       "      <td>5</td>\n",
       "      <td>15</td>\n",
       "      <td>3</td>\n",
       "    </tr>\n",
       "  </tbody>\n",
       "</table>\n",
       "<p>68 rows × 4 columns</p>\n",
       "</div>"
      ],
      "text/plain": [
       "    all_patient_injuries_count  injury_correctly_treated_count  \\\n",
       "0                           31                              15   \n",
       "1                           18                               0   \n",
       "2                            0                               0   \n",
       "3                            0                               0   \n",
       "4                           23                              11   \n",
       "..                         ...                             ...   \n",
       "63                          19                               5   \n",
       "64                          23                              12   \n",
       "65                          31                              23   \n",
       "66                          31                              10   \n",
       "67                          23                               5   \n",
       "\n",
       "    injury_not_treated_count  injury_wrongly_treated_count  \n",
       "0                         10                             6  \n",
       "1                         18                             0  \n",
       "2                          0                             0  \n",
       "3                          0                             0  \n",
       "4                          8                             4  \n",
       "..                       ...                           ...  \n",
       "63                         9                             5  \n",
       "64                         7                             4  \n",
       "65                         2                             6  \n",
       "66                        20                             1  \n",
       "67                        15                             3  \n",
       "\n",
       "[68 rows x 4 columns]"
      ]
     },
     "execution_count": 6,
     "metadata": {},
     "output_type": "execute_result"
    }
   ],
   "source": [
    "\n",
    "columns_list = [cn for cn in injury_counts_df.columns if 'injur' in cn]\n",
    "injury_counts_df[columns_list]"
   ]
  },
  {
   "cell_type": "code",
   "execution_count": 5,
   "id": "36eef4b7-a041-4571-ae9b-34a1a826c313",
   "metadata": {},
   "outputs": [],
   "source": [
    "\n",
    "groupby_columns = ['participant_id', 'session_uuid', 'scene_id']\n",
    "millisecond_threshold = 3\n",
    "for (participant_id, session_uuid, scene_id), scene_df in csv_stats_df.groupby(groupby_columns):\n",
    "    \n",
    "    # Loop through each injury and make a determination if it's treated or not\n",
    "    injury_correctly_treated_count = 0\n",
    "    for patient_id, patient_df in scene_df.groupby('patient_id'):\n",
    "        for injury_id, injury_df in patient_df.groupby('injury_id'):\n",
    "            is_correctly_treated = fu.get_is_injury_correctly_treated(injury_df, patient_df)\n",
    "            if is_correctly_treated: injury_correctly_treated_count += 1"
   ]
  },
  {
   "cell_type": "code",
   "execution_count": 6,
   "id": "8a56d1c5-656a-4f95-b4a0-4a4432afcb03",
   "metadata": {},
   "outputs": [
    {
     "name": "stdout",
     "output_type": "stream",
     "text": [
      "none\n"
     ]
    }
   ],
   "source": [
    "\n",
    "mask_series = (injury_df.action_type == 'INJURY_TREATED')\n",
    "action_ticks_list = sorted(injury_df[mask_series].action_tick.unique())\n",
    "mask_series = ~injury_df.injury_required_procedure.isnull()\n",
    "required_procedure = injury_df[mask_series].injury_required_procedure.mode().squeeze()\n",
    "print(required_procedure)\n",
    "for action_tick in action_ticks_list:\n",
    "    mask_series = patient_df.action_tick.map(\n",
    "        lambda ts: abs(ts - action_tick) < millisecond_threshold\n",
    "    ) & patient_df.action_type.isin(['TOOL_APPLIED'])\n",
    "    if mask_series.any():\n",
    "        print([(required_procedure == self.tool_type_to_required_procedure_dict.get(tool_type)) for tool_type in patient_df[mask_series].tool_applied_type])\n",
    "        is_correctly_treated = any(\n",
    "            [(required_procedure == self.tool_type_to_required_procedure_dict.get(tool_type)) for tool_type in patient_df[mask_series].tool_applied_type]\n",
    "        )"
   ]
  },
  {
   "cell_type": "code",
   "execution_count": 7,
   "id": "a30f5f09-c21b-4da7-a9a5-be2a878fa6ec",
   "metadata": {},
   "outputs": [
    {
     "data": {
      "text/html": [
       "<div>\n",
       "<style scoped>\n",
       "    .dataframe tbody tr th:only-of-type {\n",
       "        vertical-align: middle;\n",
       "    }\n",
       "\n",
       "    .dataframe tbody tr th {\n",
       "        vertical-align: top;\n",
       "    }\n",
       "\n",
       "    .dataframe thead th {\n",
       "        text-align: right;\n",
       "    }\n",
       "</style>\n",
       "<table border=\"1\" class=\"dataframe\">\n",
       "  <thead>\n",
       "    <tr style=\"text-align: right;\">\n",
       "      <th></th>\n",
       "      <th>42508</th>\n",
       "    </tr>\n",
       "  </thead>\n",
       "  <tbody>\n",
       "    <tr>\n",
       "      <th>action_type</th>\n",
       "      <td>INJURY_TREATED</td>\n",
       "    </tr>\n",
       "    <tr>\n",
       "      <th>action_tick</th>\n",
       "      <td>1286988</td>\n",
       "    </tr>\n",
       "    <tr>\n",
       "      <th>event_time</th>\n",
       "      <td>2024-03-14 10:57:00</td>\n",
       "    </tr>\n",
       "    <tr>\n",
       "      <th>session_uuid</th>\n",
       "      <td>23081f6e-875e-44f5-8bd0-edc3905f5c2c</td>\n",
       "    </tr>\n",
       "    <tr>\n",
       "      <th>csv_file_subpath</th>\n",
       "      <td>Human_Sim_Metrics_Data_4-12-2024/23081f6e-875e...</td>\n",
       "    </tr>\n",
       "    <tr>\n",
       "      <th>injury_treated_id</th>\n",
       "      <td>Unspecified</td>\n",
       "    </tr>\n",
       "    <tr>\n",
       "      <th>injury_treated_patient_id</th>\n",
       "      <td>Civilian 1 Female Root</td>\n",
       "    </tr>\n",
       "    <tr>\n",
       "      <th>injury_treated_required_procedure</th>\n",
       "      <td>none</td>\n",
       "    </tr>\n",
       "    <tr>\n",
       "      <th>injury_treated_severity</th>\n",
       "      <td>medium</td>\n",
       "    </tr>\n",
       "    <tr>\n",
       "      <th>injury_treated_body_region</th>\n",
       "      <td>leftArm</td>\n",
       "    </tr>\n",
       "    <tr>\n",
       "      <th>injury_treated_injury_treated</th>\n",
       "      <td>False</td>\n",
       "    </tr>\n",
       "    <tr>\n",
       "      <th>injury_treated_injury_treated_with_wrong_treatment</th>\n",
       "      <td>False</td>\n",
       "    </tr>\n",
       "    <tr>\n",
       "      <th>injury_treated_injury_injury_locator</th>\n",
       "      <td>(0.0, 0.0, 0.0)</td>\n",
       "    </tr>\n",
       "    <tr>\n",
       "      <th>scene_id</th>\n",
       "      <td>0</td>\n",
       "    </tr>\n",
       "    <tr>\n",
       "      <th>participant_id</th>\n",
       "      <td>2024201</td>\n",
       "    </tr>\n",
       "    <tr>\n",
       "      <th>csv_file_name</th>\n",
       "      <td>23081f6e-875e-44f5-8bd0-edc3905f5c2c_2024201.csv</td>\n",
       "    </tr>\n",
       "    <tr>\n",
       "      <th>patient_id</th>\n",
       "      <td>Civilian 1 Female Root</td>\n",
       "    </tr>\n",
       "    <tr>\n",
       "      <th>injury_id</th>\n",
       "      <td>Unspecified</td>\n",
       "    </tr>\n",
       "    <tr>\n",
       "      <th>location_id</th>\n",
       "      <td>(0.0, 0.0, 0.0)</td>\n",
       "    </tr>\n",
       "    <tr>\n",
       "      <th>injury_severity</th>\n",
       "      <td>medium</td>\n",
       "    </tr>\n",
       "    <tr>\n",
       "      <th>injury_required_procedure</th>\n",
       "      <td>none</td>\n",
       "    </tr>\n",
       "    <tr>\n",
       "      <th>injury_body_region</th>\n",
       "      <td>leftArm</td>\n",
       "    </tr>\n",
       "  </tbody>\n",
       "</table>\n",
       "</div>"
      ],
      "text/plain": [
       "                                                                                                42508\n",
       "action_type                                                                            INJURY_TREATED\n",
       "action_tick                                                                                   1286988\n",
       "event_time                                                                        2024-03-14 10:57:00\n",
       "session_uuid                                                     23081f6e-875e-44f5-8bd0-edc3905f5c2c\n",
       "csv_file_subpath                                    Human_Sim_Metrics_Data_4-12-2024/23081f6e-875e...\n",
       "injury_treated_id                                                                         Unspecified\n",
       "injury_treated_patient_id                                                      Civilian 1 Female Root\n",
       "injury_treated_required_procedure                                                                none\n",
       "injury_treated_severity                                                                        medium\n",
       "injury_treated_body_region                                                                    leftArm\n",
       "injury_treated_injury_treated                                                                   False\n",
       "injury_treated_injury_treated_with_wrong_treatment                                              False\n",
       "injury_treated_injury_injury_locator                                                  (0.0, 0.0, 0.0)\n",
       "scene_id                                                                                            0\n",
       "participant_id                                                                                2024201\n",
       "csv_file_name                                        23081f6e-875e-44f5-8bd0-edc3905f5c2c_2024201.csv\n",
       "patient_id                                                                     Civilian 1 Female Root\n",
       "injury_id                                                                                 Unspecified\n",
       "location_id                                                                           (0.0, 0.0, 0.0)\n",
       "injury_severity                                                                                medium\n",
       "injury_required_procedure                                                                        none\n",
       "injury_body_region                                                                            leftArm"
      ]
     },
     "execution_count": 7,
     "metadata": {},
     "output_type": "execute_result"
    }
   ],
   "source": [
    "\n",
    "injury_df.dropna(axis='columns', how='all').T"
   ]
  },
  {
   "cell_type": "code",
   "execution_count": 22,
   "id": "677a2a7c-6143-4cf2-a62b-ab19f41cdff6",
   "metadata": {},
   "outputs": [
    {
     "data": {
      "text/plain": [
       "array(['Unspecified', 'Ear Bleed'], dtype=object)"
      ]
     },
     "execution_count": 22,
     "metadata": {},
     "output_type": "execute_result"
    }
   ],
   "source": [
    "\n",
    "mask_series = (csv_stats_df.injury_required_procedure == 'none')\n",
    "csv_stats_df[mask_series].injury_id.unique()"
   ]
  },
  {
   "cell_type": "code",
   "execution_count": 16,
   "id": "f477c558-c837-4be9-9790-c72219ca4a66",
   "metadata": {},
   "outputs": [
    {
     "data": {
      "text/html": [
       "<div>\n",
       "<style scoped>\n",
       "    .dataframe tbody tr th:only-of-type {\n",
       "        vertical-align: middle;\n",
       "    }\n",
       "\n",
       "    .dataframe tbody tr th {\n",
       "        vertical-align: top;\n",
       "    }\n",
       "\n",
       "    .dataframe thead th {\n",
       "        text-align: right;\n",
       "    }\n",
       "</style>\n",
       "<table border=\"1\" class=\"dataframe\">\n",
       "  <thead>\n",
       "    <tr style=\"text-align: right;\">\n",
       "      <th></th>\n",
       "      <th>action_type</th>\n",
       "      <th>action_tick</th>\n",
       "    </tr>\n",
       "  </thead>\n",
       "  <tbody>\n",
       "    <tr>\n",
       "      <th>42381</th>\n",
       "      <td>PATIENT_ENGAGED</td>\n",
       "      <td>1262495</td>\n",
       "    </tr>\n",
       "    <tr>\n",
       "      <th>42407</th>\n",
       "      <td>BREATHING_CHECKED</td>\n",
       "      <td>1266435</td>\n",
       "    </tr>\n",
       "    <tr>\n",
       "      <th>42408</th>\n",
       "      <td>INJURY_TREATED</td>\n",
       "      <td>1267526</td>\n",
       "    </tr>\n",
       "    <tr>\n",
       "      <th>42409</th>\n",
       "      <td>TOOL_APPLIED</td>\n",
       "      <td>1267526</td>\n",
       "    </tr>\n",
       "    <tr>\n",
       "      <th>42420</th>\n",
       "      <td>INJURY_TREATED</td>\n",
       "      <td>1273515</td>\n",
       "    </tr>\n",
       "    <tr>\n",
       "      <th>42422</th>\n",
       "      <td>PULSE_TAKEN</td>\n",
       "      <td>1273567</td>\n",
       "    </tr>\n",
       "    <tr>\n",
       "      <th>42483</th>\n",
       "      <td>INJURY_TREATED</td>\n",
       "      <td>1281386</td>\n",
       "    </tr>\n",
       "    <tr>\n",
       "      <th>42485</th>\n",
       "      <td>PULSE_TAKEN</td>\n",
       "      <td>1281897</td>\n",
       "    </tr>\n",
       "    <tr>\n",
       "      <th>42508</th>\n",
       "      <td>INJURY_TREATED</td>\n",
       "      <td>1286988</td>\n",
       "    </tr>\n",
       "    <tr>\n",
       "      <th>42626</th>\n",
       "      <td>PATIENT_DEMOTED</td>\n",
       "      <td>192305</td>\n",
       "    </tr>\n",
       "    <tr>\n",
       "      <th>42647</th>\n",
       "      <td>PATIENT_RECORD</td>\n",
       "      <td>193949</td>\n",
       "    </tr>\n",
       "    <tr>\n",
       "      <th>42648</th>\n",
       "      <td>INJURY_RECORD</td>\n",
       "      <td>193949</td>\n",
       "    </tr>\n",
       "    <tr>\n",
       "      <th>42649</th>\n",
       "      <td>INJURY_RECORD</td>\n",
       "      <td>193949</td>\n",
       "    </tr>\n",
       "    <tr>\n",
       "      <th>42650</th>\n",
       "      <td>INJURY_RECORD</td>\n",
       "      <td>193949</td>\n",
       "    </tr>\n",
       "  </tbody>\n",
       "</table>\n",
       "</div>"
      ],
      "text/plain": [
       "             action_type  action_tick\n",
       "42381    PATIENT_ENGAGED      1262495\n",
       "42407  BREATHING_CHECKED      1266435\n",
       "42408     INJURY_TREATED      1267526\n",
       "42409       TOOL_APPLIED      1267526\n",
       "42420     INJURY_TREATED      1273515\n",
       "42422        PULSE_TAKEN      1273567\n",
       "42483     INJURY_TREATED      1281386\n",
       "42485        PULSE_TAKEN      1281897\n",
       "42508     INJURY_TREATED      1286988\n",
       "42626    PATIENT_DEMOTED       192305\n",
       "42647     PATIENT_RECORD       193949\n",
       "42648      INJURY_RECORD       193949\n",
       "42649      INJURY_RECORD       193949\n",
       "42650      INJURY_RECORD       193949"
      ]
     },
     "execution_count": 16,
     "metadata": {},
     "output_type": "execute_result"
    }
   ],
   "source": [
    "\n",
    "columns_list = ['action_type', 'action_tick']\n",
    "patient_df[columns_list]"
   ]
  },
  {
   "cell_type": "code",
   "execution_count": 29,
   "id": "8f33b25f-d66d-40c1-96f0-14f8ab8a9385",
   "metadata": {},
   "outputs": [
    {
     "name": "stdout",
     "output_type": "stream",
     "text": [
      "Adept Shooter Root has a R Bicep Puncture which requires a tourniquet and it was correctly treated\n"
     ]
    },
    {
     "ename": "RuntimeError",
     "evalue": "No active exception to reraise",
     "output_type": "error",
     "traceback": [
      "\u001b[0;31m---------------------------------------------------------------------------\u001b[0m",
      "\u001b[0;31mRuntimeError\u001b[0m                              Traceback (most recent call last)",
      "\u001b[0;32m/tmp/ipykernel_6817/3824210221.py\u001b[0m in \u001b[0;36m<module>\u001b[0;34m\u001b[0m\n\u001b[1;32m     18\u001b[0m                     \u001b[0;34mf'{patient_id} has a {injury_id} which requires a {required_procedure} and it {\"was\" if is_correctly_treated else \"was not\"} correctly treated'\u001b[0m\u001b[0;34m\u001b[0m\u001b[0;34m\u001b[0m\u001b[0m\n\u001b[1;32m     19\u001b[0m                 )\n\u001b[0;32m---> 20\u001b[0;31m                 \u001b[0;32mraise\u001b[0m\u001b[0;34m\u001b[0m\u001b[0;34m\u001b[0m\u001b[0m\n\u001b[0m",
      "\u001b[0;31mRuntimeError\u001b[0m: No active exception to reraise"
     ]
    }
   ],
   "source": [
    "\n",
    "from pandas import Series\n",
    "\n",
    "groupby_columns = ['participant_id', 'session_uuid', 'scene_id', 'patient_id']\n",
    "for (participant_id, session_uuid, scene_id, patient_id), patient_df in csv_stats_df.groupby(groupby_columns):\n",
    "    for injury_id, injury_df in patient_df.groupby('injury_id'):\n",
    "        action_ticks_list = sorted(injury_df.action_tick.unique())\n",
    "        mask_series = ~patient_df.tool_type.isnull() & patient_df.action_tick.isin(action_ticks_list)\n",
    "        if mask_series.any():\n",
    "            df = patient_df[mask_series]\n",
    "            mask_series = ~injury_df.injury_record_required_procedure.isnull()\n",
    "            required_procedure = injury_df[mask_series].injury_record_required_procedure.mode().squeeze()\n",
    "            if isinstance(required_procedure, Series):\n",
    "                required_procedure = '(who knows?)'\n",
    "                raise\n",
    "            for tool_type in df.tool_type:\n",
    "                is_correctly_treated = (required_procedure == fu.tool_type_to_required_procedure_dict.get(tool_type))\n",
    "                print(\n",
    "                    f'{patient_id} has a {injury_id} which requires a {required_procedure} and it {\"was\" if is_correctly_treated else \"was not\"} correctly treated'\n",
    "                )\n",
    "                raise"
   ]
  },
  {
   "cell_type": "code",
   "execution_count": 30,
   "id": "7ebb44af-16ef-4148-87e5-f4d047f7e979",
   "metadata": {},
   "outputs": [
    {
     "data": {
      "text/html": [
       "<div>\n",
       "<style scoped>\n",
       "    .dataframe tbody tr th:only-of-type {\n",
       "        vertical-align: middle;\n",
       "    }\n",
       "\n",
       "    .dataframe tbody tr th {\n",
       "        vertical-align: top;\n",
       "    }\n",
       "\n",
       "    .dataframe thead th {\n",
       "        text-align: right;\n",
       "    }\n",
       "</style>\n",
       "<table border=\"1\" class=\"dataframe\">\n",
       "  <thead>\n",
       "    <tr style=\"text-align: right;\">\n",
       "      <th></th>\n",
       "      <th>injury_record_required_procedure</th>\n",
       "      <th>injury_treated_required_procedure</th>\n",
       "      <th>injury_required_procedure</th>\n",
       "    </tr>\n",
       "  </thead>\n",
       "  <tbody>\n",
       "    <tr>\n",
       "      <th>42658</th>\n",
       "      <td>tourniquet</td>\n",
       "      <td>NaN</td>\n",
       "      <td>tourniquet</td>\n",
       "    </tr>\n",
       "    <tr>\n",
       "      <th>44199</th>\n",
       "      <td>NaN</td>\n",
       "      <td>tourniquet</td>\n",
       "      <td>tourniquet</td>\n",
       "    </tr>\n",
       "  </tbody>\n",
       "</table>\n",
       "</div>"
      ],
      "text/plain": [
       "      injury_record_required_procedure injury_treated_required_procedure  \\\n",
       "42658                       tourniquet                               NaN   \n",
       "44199                              NaN                        tourniquet   \n",
       "\n",
       "      injury_required_procedure  \n",
       "42658                tourniquet  \n",
       "44199                tourniquet  "
      ]
     },
     "execution_count": 30,
     "metadata": {},
     "output_type": "execute_result"
    }
   ],
   "source": [
    "\n",
    "columns_list = [cn for cn in injury_df.columns if 'required_procedure' in cn]\n",
    "injury_df[columns_list]"
   ]
  },
  {
   "cell_type": "code",
   "execution_count": 54,
   "id": "9d1f69bf-ce48-4258-b1aa-8f7879258a40",
   "metadata": {},
   "outputs": [
    {
     "data": {
      "text/plain": [
       "'04f80090-9e61-431d-8473-dccb75fed04d_2024207.csv'"
      ]
     },
     "execution_count": 54,
     "metadata": {},
     "output_type": "execute_result"
    }
   ],
   "source": [
    "\n",
    "osp.basename(osp.join('../data/logs', df.csv_file_subpath.squeeze()))"
   ]
  },
  {
   "cell_type": "code",
   "execution_count": null,
   "id": "f3a4855a-ed51-4f87-8fdd-c91686285b3d",
   "metadata": {},
   "outputs": [],
   "source": []
  }
 ],
 "metadata": {
  "kernelspec": {
   "display_name": "ITM Analysis Reporting (Python 3.11.7)",
   "language": "python",
   "name": "itm_analysis_reporting"
  },
  "language_info": {
   "codemirror_mode": {
    "name": "ipython",
    "version": 3
   },
   "file_extension": ".py",
   "mimetype": "text/x-python",
   "name": "python",
   "nbconvert_exporter": "python",
   "pygments_lexer": "ipython3",
   "version": "3.7.12"
  }
 },
 "nbformat": 4,
 "nbformat_minor": 5
}

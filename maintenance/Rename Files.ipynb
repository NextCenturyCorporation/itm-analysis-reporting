{
 "cells": [
  {
   "cell_type": "code",
   "execution_count": null,
   "id": "948bce2c-72dd-49a1-b742-bd842a5b4784",
   "metadata": {},
   "outputs": [],
   "source": []
  },
  {
   "cell_type": "code",
   "execution_count": 1,
   "id": "a0ac669e-80e2-4263-8d1a-be00db9ba7be",
   "metadata": {},
   "outputs": [
    {
     "name": "stdout",
     "output_type": "stream",
     "text": [
      "Pretty printing has been turned OFF\n"
     ]
    }
   ],
   "source": [
    "\n",
    "%pprint\n",
    "import sys\n",
    "sys.path.insert(1, '../py')"
   ]
  },
  {
   "cell_type": "code",
   "execution_count": 2,
   "id": "7a8702e4-e111-43e9-a84f-63f70664a9d6",
   "metadata": {},
   "outputs": [],
   "source": [
    "\n",
    "from datetime import datetime\n",
    "from notebook_utils import NotebookUtilities\n",
    "import csv\n",
    "import os\n",
    "import shutil\n",
    "\n",
    "nu = NotebookUtilities(data_folder_path=os.path.abspath('../data'), saves_folder_path=os.path.abspath('../saves'))\n",
    "rename_folder = os.path.join(nu.saves_folder, 'rename')\n",
    "for old_sub_directory, directories_list, files_list in os.walk(nu.data_logs_folder):\n",
    "    for old_file_name in files_list:\n",
    "        if old_file_name.endswith('.csv'):\n",
    "            old_file_path = os.path.join(old_sub_directory, old_file_name)\n",
    "            with open(old_file_path, 'r') as f:\n",
    "                reader = csv.reader(f, delimiter=',', quotechar='\"')\n",
    "                for values_list in reader:\n",
    "                    date_str = values_list[2]\n",
    "                    break\n",
    "                try: date_obj = datetime.strptime(date_str, '%m/%d/%Y %H:%M')\n",
    "                except ValueError: date_obj = datetime.strptime(date_str, '%m/%d/%Y %I:%M:%S %p')\n",
    "                new_file_name = date_obj.strftime('%y.%m.%d.%H%M.csv')\n",
    "                new_sub_directory = os.sep.join([rename_folder] + old_sub_directory.split(os.sep)[1:])\n",
    "                os.makedirs(new_sub_directory, exist_ok=True)\n",
    "                new_file_path = os.path.join(new_sub_directory, new_file_name)\n",
    "                if not os.path.exists(new_file_path): shutil.copy(old_file_path, new_file_path)"
   ]
  },
  {
   "cell_type": "code",
   "execution_count": null,
   "id": "2e9fddd8-880e-4dc6-81e6-37b84840eecc",
   "metadata": {},
   "outputs": [],
   "source": []
  }
 ],
 "metadata": {
  "kernelspec": {
   "display_name": "LlamaIndex (Python 3.10.9)",
   "language": "python",
   "name": "llama_index"
  },
  "language_info": {
   "codemirror_mode": {
    "name": "ipython",
    "version": 3
   },
   "file_extension": ".py",
   "mimetype": "text/x-python",
   "name": "python",
   "nbconvert_exporter": "python",
   "pygments_lexer": "ipython3",
   "version": "3.10.9"
  }
 },
 "nbformat": 4,
 "nbformat_minor": 5
}

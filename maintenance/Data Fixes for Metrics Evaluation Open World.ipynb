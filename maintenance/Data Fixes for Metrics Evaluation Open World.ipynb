{
 "cells": [
  {
   "cell_type": "code",
   "execution_count": 1,
   "id": "0d497083-b501-4f84-bca7-d691eded680d",
   "metadata": {},
   "outputs": [
    {
     "name": "stdout",
     "output_type": "stream",
     "text": [
      "Pretty printing has been turned OFF\n"
     ]
    }
   ],
   "source": [
    "\n",
    "# Set up the notebook\n",
    "%pprint\n",
    "import sys\n",
    "if ('../py' not in sys.path): sys.path.insert(1, '../py')"
   ]
  },
  {
   "cell_type": "code",
   "execution_count": 2,
   "id": "16caa025-311a-4cf5-a53a-7258640a8a7b",
   "metadata": {},
   "outputs": [],
   "source": [
    "\n",
    "# Load libraries\n",
    "from FRVRS import nu, fu\n",
    "import os.path as osp\n",
    "from pandas import DataFrame\n",
    "import pandas as pd"
   ]
  },
  {
   "cell_type": "markdown",
   "id": "9fe874fd-4fdb-47b2-aec5-0c09e07cc1e4",
   "metadata": {},
   "source": [
    "\n",
    "# Data Fixes for Metrics Evaluation Open World"
   ]
  },
  {
   "cell_type": "code",
   "execution_count": 3,
   "id": "5c8efbc6-3281-42a4-8c8e-4fe8062b7723",
   "metadata": {},
   "outputs": [
    {
     "name": "stdout",
     "output_type": "stream",
     "text": [
      "Attempting to load /mnt/c/Users/DaveBabbitt/Documents/GitHub/itm-analysis-reporting/saves/pkl/metrics_evaluation_open_world_df.pkl.\n",
      "Attempting to load /mnt/c/Users/DaveBabbitt/Documents/GitHub/itm-analysis-reporting/saves/pkl/metrics_evaluation_open_world_file_stats_df.pkl.\n",
      "Attempting to load /mnt/c/Users/DaveBabbitt/Documents/GitHub/itm-analysis-reporting/saves/pkl/metrics_evaluation_open_world_scene_stats_df.pkl.\n"
     ]
    }
   ],
   "source": [
    "\n",
    "# load data frames\n",
    "data_frames_list = nu.load_data_frames(\n",
    "    metrics_evaluation_open_world_df='', metrics_evaluation_open_world_file_stats_df='', metrics_evaluation_open_world_scene_stats_df=''\n",
    ")\n",
    "metrics_evaluation_open_world_df = data_frames_list['metrics_evaluation_open_world_df']\n",
    "metrics_evaluation_open_world_file_stats_df = data_frames_list['metrics_evaluation_open_world_file_stats_df']\n",
    "metrics_evaluation_open_world_scene_stats_df = data_frames_list['metrics_evaluation_open_world_scene_stats_df']"
   ]
  },
  {
   "cell_type": "code",
   "execution_count": 4,
   "id": "fedcd61f-86f0-4f26-a82d-5b78998ceb40",
   "metadata": {},
   "outputs": [
    {
     "name": "stdout",
     "output_type": "stream",
     "text": [
      "(199476, 107)\n",
      "Pickling to /mnt/c/Users/DaveBabbitt/Documents/GitHub/itm-analysis-reporting/saves/pkl/metrics_evaluation_open_world_df.pkl\n",
      "Saving to /mnt/c/Users/DaveBabbitt/Documents/GitHub/itm-analysis-reporting/saves/csv/metrics_evaluation_open_world_df.csv\n"
     ]
    }
   ],
   "source": [
    "\n",
    "logs_columns_set = set(metrics_evaluation_open_world_df.columns)\n",
    "file_columns_set = set(metrics_evaluation_open_world_file_stats_df.columns)\n",
    "intersection_columns = set(['file_name', 'logger_version', 'is_scene_aborted'])\n",
    "\n",
    "# Drop the logs columns already recorded in the file and scene stats data frames\n",
    "drop_columns = list(logs_columns_set.intersection(file_columns_set).intersection(intersection_columns))\n",
    "if drop_columns:\n",
    "    metrics_evaluation_open_world_df = metrics_evaluation_open_world_df.drop(columns=drop_columns)\n",
    "    print(metrics_evaluation_open_world_df.shape) # (276926, 107)\n",
    "    nu.store_objects(metrics_evaluation_open_world_df=metrics_evaluation_open_world_df)\n",
    "    nu.save_data_frames(metrics_evaluation_open_world_df=metrics_evaluation_open_world_df)"
   ]
  },
  {
   "cell_type": "code",
   "execution_count": 5,
   "id": "c4385ef6-f73f-4ca5-a108-6c430acf3759",
   "metadata": {},
   "outputs": [],
   "source": [
    "\n",
    "logs_columns_set = set(metrics_evaluation_open_world_df.columns)\n",
    "intersection_columns = set([\n",
    "    'injury_record_injury_treated', 'injury_record_injury_treated_with_wrong_treatment', 'patient_demoted_health_level', 'patient_demoted_health_time_remaining',\n",
    "    'patient_demoted_hearing', 'patient_hearing', 'patient_record_health_level', 'patient_record_hearing', 'player_location_left_hand_location',\n",
    "    'player_location_right_hand_location'\n",
    "])\n",
    "\n",
    "# Drop the file stats columns that came with the process but are covered well enough in the logs data frame and add no value here\n",
    "drop_columns = sorted(logs_columns_set.intersection(file_columns_set).intersection(intersection_columns))\n",
    "if drop_columns:\n",
    "    metrics_evaluation_open_world_file_stats_df = metrics_evaluation_open_world_file_stats_df.drop(columns=drop_columns)\n",
    "    print(metrics_evaluation_open_world_file_stats_df.shape) # (86, 12)\n",
    "    nu.store_objects(metrics_evaluation_open_world_file_stats_df=metrics_evaluation_open_world_file_stats_df)\n",
    "    nu.save_data_frames(metrics_evaluation_open_world_file_stats_df=metrics_evaluation_open_world_file_stats_df)"
   ]
  },
  {
   "cell_type": "code",
   "execution_count": 6,
   "id": "8dacb6c3-2baa-421c-b1c9-bb21fdb2b731",
   "metadata": {},
   "outputs": [
    {
     "name": "stdout",
     "output_type": "stream",
     "text": [
      "(76, 48)\n",
      "Pickling to /mnt/c/Users/DaveBabbitt/Documents/GitHub/itm-analysis-reporting/saves/pkl/metrics_evaluation_open_world_scene_stats_df.pkl\n",
      "Saving to /mnt/c/Users/DaveBabbitt/Documents/GitHub/itm-analysis-reporting/saves/csv/metrics_evaluation_open_world_scene_stats_df.csv\n"
     ]
    }
   ],
   "source": [
    "\n",
    "file_columns_set = set(metrics_evaluation_open_world_file_stats_df.columns)\n",
    "scene_columns_set = set(metrics_evaluation_open_world_scene_stats_df.columns)\n",
    "intersection_columns = set(['logger_version'])\n",
    "\n",
    "# Drop the scene columns already recorded in the file stats data frames\n",
    "drop_columns = sorted(file_columns_set.intersection(scene_columns_set).intersection(intersection_columns))\n",
    "if drop_columns:\n",
    "    metrics_evaluation_open_world_scene_stats_df = metrics_evaluation_open_world_scene_stats_df.drop(columns=drop_columns)\n",
    "    print(metrics_evaluation_open_world_scene_stats_df.shape) # (133, 48)\n",
    "    nu.store_objects(metrics_evaluation_open_world_scene_stats_df=metrics_evaluation_open_world_scene_stats_df)\n",
    "    nu.save_data_frames(metrics_evaluation_open_world_scene_stats_df=metrics_evaluation_open_world_scene_stats_df)"
   ]
  },
  {
   "cell_type": "code",
   "execution_count": 7,
   "id": "c8fe582d-0a3f-40bf-8d7d-9448334c0de4",
   "metadata": {},
   "outputs": [],
   "source": [
    "\n",
    "# Remove duplicates from the file stats data frame\n",
    "subset_columns = ['session_uuid']\n",
    "mask_series = metrics_evaluation_open_world_file_stats_df.duplicated(subset=subset_columns)\n",
    "if mask_series.any():\n",
    "    metrics_evaluation_open_world_file_stats_df = metrics_evaluation_open_world_file_stats_df[~mask_series]\n",
    "    print(metrics_evaluation_open_world_file_stats_df.shape)\n",
    "    nu.store_objects(metrics_evaluation_open_world_file_stats_df=metrics_evaluation_open_world_file_stats_df)\n",
    "    nu.save_data_frames(metrics_evaluation_open_world_file_stats_df=metrics_evaluation_open_world_file_stats_df)"
   ]
  },
  {
   "cell_type": "code",
   "execution_count": 8,
   "id": "ac18b354-2d34-444e-aa76-eda3be7b52db",
   "metadata": {},
   "outputs": [],
   "source": [
    "\n",
    "# Remove duplicates from the scene stats data frame\n",
    "subset_columns = ['session_uuid', 'scene_id']\n",
    "mask_series = metrics_evaluation_open_world_scene_stats_df.duplicated(subset=subset_columns)\n",
    "if mask_series.any():\n",
    "    metrics_evaluation_open_world_scene_stats_df = metrics_evaluation_open_world_scene_stats_df[~mask_series]\n",
    "    print(metrics_evaluation_open_world_scene_stats_df.shape)\n",
    "    nu.store_objects(metrics_evaluation_open_world_scene_stats_df=metrics_evaluation_open_world_scene_stats_df)\n",
    "    nu.save_data_frames(metrics_evaluation_open_world_scene_stats_df=metrics_evaluation_open_world_scene_stats_df)"
   ]
  },
  {
   "cell_type": "markdown",
   "id": "d05c7a30-006e-480d-8531-9585d5526dde",
   "metadata": {},
   "source": [
    "\n",
    "## Provide OSU with Correctly Grouped Responder Type Stats"
   ]
  },
  {
   "cell_type": "raw",
   "id": "f3b236d3-fff2-4e9b-8c38-d959fcdf25a0",
   "metadata": {},
   "source": [
    "\n",
    "Paramedic\t221\n",
    "Physician Student\t42\n",
    "EMT-Basic\t27\n",
    "Physician Resident\t32\n",
    "Physician Faculty\t4\n",
    "Nurses\t1\n",
    "Other\t1"
   ]
  },
  {
   "cell_type": "code",
   "execution_count": 9,
   "id": "1dac8e96-dc5b-4708-b384-c393a86f867d",
   "metadata": {},
   "outputs": [
    {
     "name": "stdout",
     "output_type": "stream",
     "text": [
      "Attempting to load /mnt/c/Users/DaveBabbitt/Documents/GitHub/itm-analysis-reporting/saves/pkl/first_responder_master_registry_file_stats_df.pkl.\n"
     ]
    },
    {
     "data": {
      "text/plain": [
       "['EM Resident', 'EMT-Basic', 'Medical Student', 'Other', 'Paramedic']"
      ]
     },
     "execution_count": 9,
     "metadata": {},
     "output_type": "execute_result"
    }
   ],
   "source": [
    "\n",
    "data_frames_list = nu.load_data_frames(first_responder_master_registry_file_stats_df='')\n",
    "df = data_frames_list['first_responder_master_registry_file_stats_df']\n",
    "mask_series = ~df.responder_category.isnull()\n",
    "sorted(df[mask_series].responder_category.unique())"
   ]
  },
  {
   "cell_type": "code",
   "execution_count": 10,
   "id": "7561ce57-9574-4507-a997-cb6504d12f27",
   "metadata": {},
   "outputs": [
    {
     "name": "stdout",
     "output_type": "stream",
     "text": [
      "Pickling to /mnt/c/Users/DaveBabbitt/Documents/GitHub/itm-analysis-reporting/saves/pkl/metrics_evaluation_open_world_file_stats_df.pkl\n",
      "Saving to /mnt/c/Users/DaveBabbitt/Documents/GitHub/itm-analysis-reporting/saves/csv/metrics_evaluation_open_world_file_stats_df.csv\n",
      "(60, 3573)\n"
     ]
    },
    {
     "data": {
      "text/html": [
       "<div>\n",
       "<style scoped>\n",
       "    .dataframe tbody tr th:only-of-type {\n",
       "        vertical-align: middle;\n",
       "    }\n",
       "\n",
       "    .dataframe tbody tr th {\n",
       "        vertical-align: top;\n",
       "    }\n",
       "\n",
       "    .dataframe thead th {\n",
       "        text-align: right;\n",
       "    }\n",
       "</style>\n",
       "<table border=\"1\" class=\"dataframe\">\n",
       "  <thead>\n",
       "    <tr style=\"text-align: right;\">\n",
       "      <th></th>\n",
       "      <th>record_count</th>\n",
       "    </tr>\n",
       "    <tr>\n",
       "      <th>responder_category</th>\n",
       "      <th></th>\n",
       "    </tr>\n",
       "  </thead>\n",
       "  <tbody>\n",
       "    <tr>\n",
       "      <th>EM Resident</th>\n",
       "      <td>60</td>\n",
       "    </tr>\n",
       "  </tbody>\n",
       "</table>\n",
       "</div>"
      ],
      "text/plain": [
       "                    record_count\n",
       "responder_category              \n",
       "EM Resident                   60"
      ]
     },
     "metadata": {},
     "output_type": "display_data"
    }
   ],
   "source": [
    "\n",
    "# Add a column that correctly groups responder types\n",
    "new_column_name = 'responder_category'\n",
    "if (new_column_name in metrics_evaluation_open_world_file_stats_df.columns):\n",
    "    metrics_evaluation_open_world_file_stats_df = metrics_evaluation_open_world_file_stats_df.drop(columns=[new_column_name])\n",
    "    print(metrics_evaluation_open_world_file_stats_df.shape)\n",
    "if (new_column_name not in metrics_evaluation_open_world_file_stats_df.columns):\n",
    "    metrics_evaluation_open_world_file_stats_df[new_column_name] = 'EM Resident'\n",
    "    \n",
    "    # Store the results and show the new data frame shape\n",
    "    nu.store_objects(metrics_evaluation_open_world_file_stats_df=metrics_evaluation_open_world_file_stats_df)\n",
    "    nu.save_data_frames(metrics_evaluation_open_world_file_stats_df=metrics_evaluation_open_world_file_stats_df)\n",
    "    print(metrics_evaluation_open_world_file_stats_df.shape) # (86, 13)\n",
    "\n",
    "display(metrics_evaluation_open_world_file_stats_df.groupby(new_column_name).size().to_frame().rename(columns={0: 'record_count'}).sort_values(\n",
    "    'record_count', ascending=False\n",
    ").head(5))"
   ]
  },
  {
   "cell_type": "code",
   "execution_count": 11,
   "id": "56504454-21ac-40dc-a49d-3fe0c58d9afe",
   "metadata": {},
   "outputs": [
    {
     "data": {
      "text/plain": [
       "['responder_type']"
      ]
     },
     "execution_count": 11,
     "metadata": {},
     "output_type": "execute_result"
    }
   ],
   "source": [
    "\n",
    "file_columns_set = set(metrics_evaluation_open_world_file_stats_df.columns)\n",
    "intersection_columns = set(['overall_category', 'global_category', 'global_description', 'sub_category', 'sub_description', 'responder_type'])\n",
    "sorted(file_columns_set.intersection(intersection_columns))"
   ]
  },
  {
   "cell_type": "code",
   "execution_count": 12,
   "id": "d3c4afdd-e65b-4785-97b4-50dfc25bdbbc",
   "metadata": {},
   "outputs": [
    {
     "name": "stdout",
     "output_type": "stream",
     "text": [
      "Pickling to /mnt/c/Users/DaveBabbitt/Documents/GitHub/itm-analysis-reporting/saves/pkl/metrics_evaluation_open_world_file_stats_df.pkl\n",
      "Saving to /mnt/c/Users/DaveBabbitt/Documents/GitHub/itm-analysis-reporting/saves/csv/metrics_evaluation_open_world_file_stats_df.csv\n",
      "(60, 3578)\n"
     ]
    },
    {
     "data": {
      "text/html": [
       "<div>\n",
       "<style scoped>\n",
       "    .dataframe tbody tr th:only-of-type {\n",
       "        vertical-align: middle;\n",
       "    }\n",
       "\n",
       "    .dataframe tbody tr th {\n",
       "        vertical-align: top;\n",
       "    }\n",
       "\n",
       "    .dataframe thead th {\n",
       "        text-align: right;\n",
       "    }\n",
       "</style>\n",
       "<table border=\"1\" class=\"dataframe\">\n",
       "  <thead>\n",
       "    <tr style=\"text-align: right;\">\n",
       "      <th></th>\n",
       "      <th></th>\n",
       "      <th></th>\n",
       "      <th></th>\n",
       "      <th></th>\n",
       "      <th></th>\n",
       "      <th>record_count</th>\n",
       "    </tr>\n",
       "    <tr>\n",
       "      <th>overall_category</th>\n",
       "      <th>global_category</th>\n",
       "      <th>global_description</th>\n",
       "      <th>sub_category</th>\n",
       "      <th>sub_description</th>\n",
       "      <th>responder_type</th>\n",
       "      <th></th>\n",
       "    </tr>\n",
       "  </thead>\n",
       "  <tbody>\n",
       "  </tbody>\n",
       "</table>\n",
       "</div>"
      ],
      "text/plain": [
       "Empty DataFrame\n",
       "Columns: [record_count]\n",
       "Index: []"
      ]
     },
     "metadata": {},
     "output_type": "display_data"
    }
   ],
   "source": [
    "\n",
    "# Add responder types subgrouping columns\n",
    "groupby_columns = ['overall_category', 'global_category', 'global_description', 'sub_category', 'sub_description', 'responder_type']\n",
    "if any(map(lambda x: x not in metrics_evaluation_open_world_file_stats_df.columns, groupby_columns)):\n",
    "    file_path = '../data/xlsx/Responder_Categories_and_Counts_DPW.xlsx'\n",
    "    dpw_responder_categories_df = pd.read_excel(file_path)\n",
    "\n",
    "    # Get description data frame\n",
    "    mask_series = dpw_responder_categories_df.isna().all(axis='columns')\n",
    "    idx = dpw_responder_categories_df[mask_series].index.min()\n",
    "    where_df = dpw_responder_categories_df.iloc[idx+1:]\n",
    "    \n",
    "    # Get categories data frame\n",
    "    dpw_responder_categories_df = dpw_responder_categories_df.iloc[:idx].dropna(axis='columns', how='all')\n",
    "    dpw_responder_categories_df.columns = ['overall_category', 'responder_type', 'global_category', 'sub_category', 'record_count']\n",
    "    \n",
    "    # Create global description column\n",
    "    columns_list = ['global_category', 'global_description', 'record_count']\n",
    "    df = where_df.iloc[:, 1:4].dropna(axis='index', how='all')\n",
    "    df.columns = columns_list\n",
    "    global_description_dict = df.set_index('global_category').global_description.to_dict()\n",
    "    dpw_responder_categories_df['global_description'] = dpw_responder_categories_df.global_category.map(global_description_dict)\n",
    "    \n",
    "    # Create sub description column\n",
    "    columns_list = ['sub_category', 'sub_description', 'record_count']\n",
    "    df = where_df.iloc[:, 5:8].dropna(axis='index', how='all')\n",
    "    df.columns = columns_list\n",
    "    sub_description_dict = df.set_index('sub_category').sub_description.to_dict()\n",
    "    dpw_responder_categories_df['sub_description'] = dpw_responder_categories_df.sub_category.map(sub_description_dict)\n",
    "    \n",
    "    # Add columns to file stats data frame\n",
    "    df = dpw_responder_categories_df[groupby_columns].groupby(groupby_columns).size().reset_index(drop=False)\n",
    "    assert not (df[0] != 1).any(), \"You will have a problem with responder types\"\n",
    "    df = df.drop(columns=[0])\n",
    "    assert not (df.groupby('responder_type').size() != 1).any(), \"You have a problem with responder types\"\n",
    "    for (overall_category, global_category, global_description, sub_category, sub_description, responder_type), _ in df.groupby(groupby_columns):\n",
    "        mask_series = (metrics_evaluation_open_world_file_stats_df.responder_type == responder_type)\n",
    "        for cn in groupby_columns: metrics_evaluation_open_world_file_stats_df.loc[mask_series, cn] = eval(cn)\n",
    "    \n",
    "    # Store the results and show the new data frame shape\n",
    "    nu.store_objects(metrics_evaluation_open_world_file_stats_df=metrics_evaluation_open_world_file_stats_df)\n",
    "    nu.save_data_frames(metrics_evaluation_open_world_file_stats_df=metrics_evaluation_open_world_file_stats_df)\n",
    "    print(metrics_evaluation_open_world_file_stats_df.shape) # (86, 18)\n",
    "\n",
    "# overall_category\tglobal_category\tglobal_description\tsub_category\tsub_description\tresponder_type\trecord_count\n",
    "# EM Resident\tDOC\tPhysicians\tDRS\tPhysician Resident\tEM-RES1\t15\n",
    "display(metrics_evaluation_open_world_file_stats_df.groupby(groupby_columns).size().to_frame().rename(columns={0: 'record_count'}).sort_values(\n",
    "    'record_count', ascending=False\n",
    ").head(5))"
   ]
  },
  {
   "cell_type": "code",
   "execution_count": null,
   "id": "328c08cd-3039-4c7c-bef8-daea10d20550",
   "metadata": {},
   "outputs": [],
   "source": []
  }
 ],
 "metadata": {
  "kernelspec": {
   "display_name": "ITM Analysis Reporting (Python 3.11.7)",
   "language": "python",
   "name": "itm_analysis_reporting"
  },
  "language_info": {
   "codemirror_mode": {
    "name": "ipython",
    "version": 3
   },
   "file_extension": ".py",
   "mimetype": "text/x-python",
   "name": "python",
   "nbconvert_exporter": "python",
   "pygments_lexer": "ipython3",
   "version": "3.7.12"
  }
 },
 "nbformat": 4,
 "nbformat_minor": 5
}

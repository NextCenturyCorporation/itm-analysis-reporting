{
 "cells": [
  {
   "cell_type": "code",
   "execution_count": 1,
   "id": "a51ab3c6-9bc9-4299-86d6-64763b66e8f7",
   "metadata": {
    "tags": []
   },
   "outputs": [
    {
     "name": "stdout",
     "output_type": "stream",
     "text": [
      "Pretty printing has been turned OFF\n"
     ]
    }
   ],
   "source": [
    "\n",
    "%pprint\n",
    "import sys\n",
    "sys.path.insert(1, '../py')"
   ]
  },
  {
   "cell_type": "code",
   "execution_count": 2,
   "id": "d5c96aaf-34eb-4e78-b477-d2e6bd721e2b",
   "metadata": {},
   "outputs": [],
   "source": [
    "\n",
    "from notebook_utils import NotebookUtilities\n",
    "from scrape_utils import WebScrapingUtilities\n",
    "from pandas import DataFrame\n",
    "import os\n",
    "import os.path as osp\n",
    "import random\n",
    "import re\n",
    "import logging\n",
    "\n",
    "nu = NotebookUtilities(\n",
    "    data_folder_path=osp.abspath('../data'),\n",
    "    saves_folder_path=osp.abspath('../saves')\n",
    ")\n",
    "wsu = WebScrapingUtilities(\n",
    "    s=nu,\n",
    "    secrets_json_path=osp.abspath(osp.join(nu.data_folder, 'secrets', 'itm_secrets.json'))\n",
    ")"
   ]
  },
  {
   "cell_type": "markdown",
   "id": "aba76ba4-1188-4912-80b4-c9cb20ec01f0",
   "metadata": {},
   "source": [
    "\n",
    "## Extract the text from PDFs and save it into text documents"
   ]
  },
  {
   "cell_type": "code",
   "execution_count": 4,
   "id": "3655159d-289f-4306-b6ac-6c70ee1d02c9",
   "metadata": {},
   "outputs": [
    {
     "name": "stdout",
     "output_type": "stream",
     "text": [
      "Text length for ../data/Domain_Knowledge/DoDTR-Data-Dictionary-External.pdf is 108,559 characters.\n",
      "Text length for ../data/Domain_Knowledge/Prolonged_Casualty_Care_Guidelines_21_Dec_2021_ID91.pdf is 189,573 characters.\n",
      "Text length for ../data/Domain_Knowledge/SchauerMedicBag.pdf is 21,231 characters.\n",
      "Text length for ../data/Domain_Knowledge/soldiers-manual-68w.pdf is 1,173,340 characters.\n",
      "Text length for ../data/Domain_Knowledge/Tactical_Combat_Casualty_Care.pdf is 11,606 characters.\n",
      "Text length for ../data/Domain_Knowledge/Tactical_Combat_Casualty_Care_(TCCC)_Guidelines_for_Medical_Personnel.pdf is 38,094 characters.\n",
      "Text length for ../data/Domain_Knowledge/TCCC - Guidelines for Medical Personnel.pdf is 38,094 characters.\n",
      "Text length for ../data/Domain_Knowledge/TCCC_Quick_Reference_Guide_2017.pdf is 90,731 characters.\n",
      "Text length for ../data/Domain_Knowledge/Fundamentals of Military Medicine/Fund ch 1.pdf is 73,877 characters.\n",
      "Text length for ../data/Domain_Knowledge/Fundamentals of Military Medicine/Fund ch 10.pdf is 48,674 characters.\n",
      "Text length for ../data/Domain_Knowledge/Fundamentals of Military Medicine/Fund ch 11.pdf is 57,584 characters.\n",
      "Text length for ../data/Domain_Knowledge/Fundamentals of Military Medicine/Fund ch 12.pdf is 54,300 characters.\n",
      "Text length for ../data/Domain_Knowledge/Fundamentals of Military Medicine/Fund ch 13.pdf is 31,861 characters.\n",
      "Text length for ../data/Domain_Knowledge/Fundamentals of Military Medicine/Fund ch 14.pdf is 72,202 characters.\n",
      "Text length for ../data/Domain_Knowledge/Fundamentals of Military Medicine/Fund ch 15.pdf is 33,300 characters.\n",
      "Text length for ../data/Domain_Knowledge/Fundamentals of Military Medicine/Fund ch 16.pdf is 48,714 characters.\n",
      "Text length for ../data/Domain_Knowledge/Fundamentals of Military Medicine/Fund ch 17.pdf is 32,394 characters.\n",
      "Text length for ../data/Domain_Knowledge/Fundamentals of Military Medicine/Fund ch 18.pdf is 57,506 characters.\n",
      "Text length for ../data/Domain_Knowledge/Fundamentals of Military Medicine/Fund ch 19.pdf is 26,648 characters.\n",
      "Text length for ../data/Domain_Knowledge/Fundamentals of Military Medicine/Fund ch 2.pdf is 52,161 characters.\n",
      "Text length for ../data/Domain_Knowledge/Fundamentals of Military Medicine/Fund ch 20.pdf is 45,156 characters.\n",
      "Text length for ../data/Domain_Knowledge/Fundamentals of Military Medicine/Fund ch 21.pdf is 48,641 characters.\n",
      "Text length for ../data/Domain_Knowledge/Fundamentals of Military Medicine/Fund ch 22.pdf is 40,528 characters.\n",
      "Text length for ../data/Domain_Knowledge/Fundamentals of Military Medicine/Fund ch 23.pdf is 85,934 characters.\n",
      "Text length for ../data/Domain_Knowledge/Fundamentals of Military Medicine/Fund ch 24.pdf is 60,817 characters.\n",
      "Text length for ../data/Domain_Knowledge/Fundamentals of Military Medicine/Fund ch 25.pdf is 63,985 characters.\n",
      "Text length for ../data/Domain_Knowledge/Fundamentals of Military Medicine/Fund ch 26.pdf is 41,464 characters.\n",
      "Text length for ../data/Domain_Knowledge/Fundamentals of Military Medicine/Fund ch 27.pdf is 41,199 characters.\n",
      "Text length for ../data/Domain_Knowledge/Fundamentals of Military Medicine/Fund ch 28.pdf is 34,748 characters.\n",
      "Text length for ../data/Domain_Knowledge/Fundamentals of Military Medicine/Fund ch 29.pdf is 59,115 characters.\n",
      "Text length for ../data/Domain_Knowledge/Fundamentals of Military Medicine/Fund ch 3.pdf is 69,666 characters.\n",
      "Text length for ../data/Domain_Knowledge/Fundamentals of Military Medicine/Fund ch 30.pdf is 38,001 characters.\n",
      "Text length for ../data/Domain_Knowledge/Fundamentals of Military Medicine/Fund ch 31.pdf is 50,583 characters.\n",
      "Text length for ../data/Domain_Knowledge/Fundamentals of Military Medicine/Fund ch 32.pdf is 85,420 characters.\n",
      "Text length for ../data/Domain_Knowledge/Fundamentals of Military Medicine/Fund ch 33.pdf is 109,647 characters.\n",
      "Text length for ../data/Domain_Knowledge/Fundamentals of Military Medicine/Fund ch 34.pdf is 110,350 characters.\n",
      "Text length for ../data/Domain_Knowledge/Fundamentals of Military Medicine/Fund ch 35.pdf is 98,087 characters.\n",
      "Text length for ../data/Domain_Knowledge/Fundamentals of Military Medicine/Fund ch 36.pdf is 68,678 characters.\n",
      "Text length for ../data/Domain_Knowledge/Fundamentals of Military Medicine/Fund ch 37.pdf is 47,992 characters.\n",
      "Text length for ../data/Domain_Knowledge/Fundamentals of Military Medicine/Fund ch 38.pdf is 70,955 characters.\n",
      "Text length for ../data/Domain_Knowledge/Fundamentals of Military Medicine/Fund ch 39.pdf is 83,867 characters.\n",
      "Text length for ../data/Domain_Knowledge/Fundamentals of Military Medicine/Fund ch 4.pdf is 64,552 characters.\n",
      "Text length for ../data/Domain_Knowledge/Fundamentals of Military Medicine/Fund ch 40.pdf is 78,331 characters.\n",
      "Text length for ../data/Domain_Knowledge/Fundamentals of Military Medicine/Fund ch 5.pdf is 100,281 characters.\n",
      "Text length for ../data/Domain_Knowledge/Fundamentals of Military Medicine/Fund ch 6.pdf is 56,134 characters.\n",
      "Text length for ../data/Domain_Knowledge/Fundamentals of Military Medicine/Fund ch 7.pdf is 71,241 characters.\n",
      "Text length for ../data/Domain_Knowledge/Fundamentals of Military Medicine/Fund ch 8.pdf is 83,049 characters.\n",
      "Text length for ../data/Domain_Knowledge/Fundamentals of Military Medicine/Fund ch 9.pdf is 31,800 characters.\n",
      "Text length for ../data/Domain_Knowledge/Military Medical Ethics, Vol 1/Ethics-ch-01.pdf is 77,392 characters.\n",
      "Text length for ../data/Domain_Knowledge/Military Medical Ethics, Vol 1/Ethics-ch-02.pdf is 155,315 characters.\n",
      "Text length for ../data/Domain_Knowledge/Military Medical Ethics, Vol 1/Ethics-ch-03.pdf is 171,251 characters.\n",
      "Text length for ../data/Domain_Knowledge/Military Medical Ethics, Vol 1/Ethics-ch-04.pdf is 90,750 characters.\n",
      "Text length for ../data/Domain_Knowledge/Military Medical Ethics, Vol 1/Ethics-ch-05.pdf is 118,990 characters.\n",
      "Text length for ../data/Domain_Knowledge/Military Medical Ethics, Vol 1/Ethics-ch-06.pdf is 184,309 characters.\n",
      "Text length for ../data/Domain_Knowledge/Military Medical Ethics, Vol 1/Ethics-ch-07.pdf is 93,843 characters.\n",
      "Text length for ../data/Domain_Knowledge/Military Medical Ethics, Vol 1/Ethics-ch-08.pdf is 134,352 characters.\n",
      "Text length for ../data/Domain_Knowledge/Military Medical Ethics, Vol 1/Ethics-ch-09.pdf is 68,263 characters.\n",
      "Text length for ../data/Domain_Knowledge/Military Medical Ethics, Vol 1/Ethics-ch-10.pdf is 102,112 characters.\n",
      "Text length for ../data/Domain_Knowledge/Military Medical Ethics, Vol 1/Ethics-ch-11.pdf is 164,517 characters.\n",
      "Text length for ../data/Domain_Knowledge/Military Medical Ethics, Vol 1/Ethics-ch-12.pdf is 161,677 characters.\n",
      "Text length for ../data/Domain_Knowledge/Military Medical Ethics, Vol 2/Ethics-ch-13.pdf is 151,785 characters.\n",
      "Text length for ../data/Domain_Knowledge/Military Medical Ethics, Vol 2/Ethics-ch-14.pdf is 119,305 characters.\n",
      "Text length for ../data/Domain_Knowledge/Military Medical Ethics, Vol 2/Ethics-ch-15.pdf is 102,496 characters.\n",
      "Text length for ../data/Domain_Knowledge/Military Medical Ethics, Vol 2/Ethics-ch-16.pdf is 168,664 characters.\n",
      "Text length for ../data/Domain_Knowledge/Military Medical Ethics, Vol 2/Ethics-ch-17.pdf is 106,977 characters.\n",
      "Text length for ../data/Domain_Knowledge/Military Medical Ethics, Vol 2/Ethics-ch-18.pdf is 130,495 characters.\n",
      "Text length for ../data/Domain_Knowledge/Military Medical Ethics, Vol 2/Ethics-ch-19.pdf is 496,625 characters.\n",
      "Text length for ../data/Domain_Knowledge/Military Medical Ethics, Vol 2/Ethics-ch-20.pdf is 108,406 characters.\n",
      "Text length for ../data/Domain_Knowledge/Military Medical Ethics, Vol 2/Ethics-ch-21.pdf is 123,733 characters.\n",
      "Text length for ../data/Domain_Knowledge/Military Medical Ethics, Vol 2/Ethics-ch-22.pdf is 88,184 characters.\n",
      "Text length for ../data/Domain_Knowledge/Military Medical Ethics, Vol 2/Ethics-ch-23.pdf is 134,985 characters.\n",
      "Text length for ../data/Domain_Knowledge/Military Medical Ethics, Vol 2/Ethics-ch-24.pdf is 138,725 characters.\n",
      "Text length for ../data/Domain_Knowledge/Military Medical Ethics, Vol 2/Ethics-ch-25.pdf is 105,489 characters.\n",
      "Text length for ../data/Domain_Knowledge/Military Medical Ethics, Vol 2/Ethics-ch-26.pdf is 82,451 characters.\n",
      "Text length for ../data/Domain_Knowledge/Military Medical Ethics, Vol 2/Ethics-ch-27.pdf is 62,462 characters.\n",
      "Text length for ../data/Domain_Knowledge/Rules of Engagement/3-84-D11-LEGAL-ROE.pdf is 6,677 characters.\n",
      "Text length for ../data/Domain_Knowledge/Rules of Engagement/ARN19354_FM 6-27 _C1_FINAL_WEB_v2.pdf is 791,854 characters.\n"
     ]
    }
   ],
   "source": [
    "\n",
    "# Get text from PDFs\n",
    "if nu.pickle_exists('domain_knowledge_sentences_dict'):\n",
    "    domain_knowledge_sentences_dict = nu.load_object('domain_knowledge_sentences_dict')\n",
    "    for file_path, text in domain_knowledge_sentences_dict.items():\n",
    "        text_length = len(text)\n",
    "        print(f'Text length for {file_path} is {text_length:,} characters.')\n",
    "        with open(file_path.replace('.pdf', '.txt'), 'w', encoding=nu.encoding_type) as f: f.write(text)"
   ]
  },
  {
   "cell_type": "code",
   "execution_count": 5,
   "id": "b7419d9f-969d-4787-90e9-2fd5e870c9e4",
   "metadata": {},
   "outputs": [
    {
     "name": "stdout",
     "output_type": "stream",
     "text": [
      "Attempting to open /mnt/c/Users/DaveBabbitt/Documents/GitHub/itm-analysis-reporting/data/Domain_Knowledge/Rules of Engagement/ARN19354_FM 6-27 _C1_FINAL_WEB_v2.txt\n"
     ]
    }
   ],
   "source": [
    "\n",
    "nu.open_path_in_notepad('../data/Domain_Knowledge/Rules of Engagement/ARN19354_FM 6-27 _C1_FINAL_WEB_v2.txt', verbose=True)"
   ]
  },
  {
   "cell_type": "code",
   "execution_count": 10,
   "id": "162fb50e-2df7-4dd5-a3bf-015158bc41a3",
   "metadata": {},
   "outputs": [
    {
     "data": {
      "text/plain": [
       "dict_keys(['../data/Domain_Knowledge/Fundamentals of Military Medicine/Fund ch 36.pdf'])"
      ]
     },
     "execution_count": 10,
     "metadata": {},
     "output_type": "execute_result"
    }
   ],
   "source": [
    "\n",
    "nu.get_random_subdictionary(domain_knowledge_sentences_dict, 1).keys()"
   ]
  },
  {
   "cell_type": "code",
   "execution_count": 13,
   "id": "af45efe2-7b72-40c5-82bd-8d72298e5321",
   "metadata": {},
   "outputs": [
    {
     "name": "stdout",
     "output_type": "stream",
     "text": [
      "Pickling to /mnt/c/Users/DaveBabbitt/Documents/GitHub/itm-analysis-reporting/saves/pkl/domain_knowledge_sentences_dict.pkl\n"
     ]
    }
   ],
   "source": [
    "\n",
    "# Get text from PDFs\n",
    "txt_dict = {}\n",
    "for file_path in domain_knowledge_sentences_dict.keys():\n",
    "    assert file_path.endswith('.pdf'), f'{file_path} is not a PDF.'\n",
    "    file_path = file_path.replace('.pdf', '.txt')\n",
    "    with open(file_path, 'r', encoding=nu.encoding_type) as f: text = f.read()\n",
    "    txt_dict[file_path] = text\n",
    "nu.store_objects(domain_knowledge_sentences_dict=txt_dict)"
   ]
  },
  {
   "cell_type": "code",
   "execution_count": null,
   "id": "d3083085-8b20-4a66-8b2a-b2e8ba4a256f",
   "metadata": {},
   "outputs": [],
   "source": []
  }
 ],
 "metadata": {
  "kernelspec": {
   "display_name": "LlamaIndex (Python 3.10.13)",
   "language": "python",
   "name": "llama_index"
  },
  "language_info": {
   "codemirror_mode": {
    "name": "ipython",
    "version": 3
   },
   "file_extension": ".py",
   "mimetype": "text/x-python",
   "name": "python",
   "nbconvert_exporter": "python",
   "pygments_lexer": "ipython3",
   "version": "3.9.18"
  }
 },
 "nbformat": 4,
 "nbformat_minor": 5
}

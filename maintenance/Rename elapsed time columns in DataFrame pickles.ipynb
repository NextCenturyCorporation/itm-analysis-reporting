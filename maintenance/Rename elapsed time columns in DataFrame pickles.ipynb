{
 "cells": [
  {
   "cell_type": "markdown",
   "id": "69561fad-9118-488d-a1f5-fc68710ef746",
   "metadata": {},
   "source": [
    "\n",
    "# Rename elapsed time columns in DataFrame pickles"
   ]
  },
  {
   "cell_type": "code",
   "execution_count": 1,
   "id": "e788bd6b-a2e3-4c70-8245-2a0c5377a429",
   "metadata": {},
   "outputs": [
    {
     "name": "stdout",
     "output_type": "stream",
     "text": [
      "Pretty printing has been turned OFF\n"
     ]
    }
   ],
   "source": [
    "\n",
    "%pprint\n",
    "import sys\n",
    "sys.path.insert(1, '../py')"
   ]
  },
  {
   "cell_type": "code",
   "execution_count": 2,
   "id": "368d5d54-6bd0-4c56-bfa5-5e89ef2d7853",
   "metadata": {},
   "outputs": [],
   "source": [
    "\n",
    "from datetime import timedelta\n",
    "from notebook_utils import NotebookUtilities\n",
    "from os import path as osp\n",
    "from pandas import DataFrame\n",
    "import matplotlib.pyplot as plt\n",
    "import numpy as np\n",
    "import os\n",
    "import pandas as pd\n",
    "import re\n",
    "\n",
    "nu = NotebookUtilities(data_folder_path=os.path.abspath('../data'))"
   ]
  },
  {
   "cell_type": "code",
   "execution_count": 4,
   "id": "ac0b7aa3-9567-4f60-82a5-06f974151a39",
   "metadata": {},
   "outputs": [
    {
     "name": "stdout",
     "output_type": "stream",
     "text": [
      "Pickling to C:\\Users\\DaveBabbitt\\Documents\\GitHub\\itm-analysis-reporting\\saves\\pkl\\frvrs_logs_df.pkl\n",
      "Pickling to C:\\Users\\DaveBabbitt\\Documents\\GitHub\\itm-analysis-reporting\\saves\\pkl\\sub_directory_df.pkl\n"
     ]
    }
   ],
   "source": [
    "\n",
    "for pickle_name in nu.list_dfs_in_folder():\n",
    "    df = nu.load_object(pickle_name)\n",
    "    if 'elapsed_time' in df.columns:\n",
    "        df = df.rename(columns={'elapsed_time': 'action_tick'})\n",
    "        nu.store_objects(**{pickle_name: df})"
   ]
  },
  {
   "cell_type": "code",
   "execution_count": null,
   "id": "7746de21-5b78-45e8-8468-b9048ba1069d",
   "metadata": {},
   "outputs": [],
   "source": []
  }
 ],
 "metadata": {
  "kernelspec": {
   "display_name": "LlamaIndex (Python 3.10.9)",
   "language": "python",
   "name": "llama_index"
  },
  "language_info": {
   "codemirror_mode": {
    "name": "ipython",
    "version": 3
   },
   "file_extension": ".py",
   "mimetype": "text/x-python",
   "name": "python",
   "nbconvert_exporter": "python",
   "pygments_lexer": "ipython3",
   "version": "3.10.9"
  }
 },
 "nbformat": 4,
 "nbformat_minor": 5
}

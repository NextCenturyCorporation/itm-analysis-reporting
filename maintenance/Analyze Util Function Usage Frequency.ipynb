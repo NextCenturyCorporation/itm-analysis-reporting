{
 "cells": [
  {
   "cell_type": "code",
   "execution_count": 1,
   "id": "9ec7bb7a-4a26-4148-bf38-2593c86b894a",
   "metadata": {},
   "outputs": [
    {
     "name": "stdout",
     "output_type": "stream",
     "text": [
      "Pretty printing has been turned OFF\n"
     ]
    }
   ],
   "source": [
    "\n",
    "%pprint\n",
    "import sys\n",
    "sys.path.insert(1, '../py')"
   ]
  },
  {
   "cell_type": "code",
   "execution_count": 4,
   "id": "9ac7853d-010c-4297-8643-f19dac612707",
   "metadata": {},
   "outputs": [],
   "source": [
    "\n",
    "from FRVRS import nu\n",
    "import os.path as osp\n",
    "import re\n",
    "import os\n",
    "import pandas as pd"
   ]
  },
  {
   "cell_type": "markdown",
   "id": "eb549c7a-9401-497d-98c4-3334cfdd498a",
   "metadata": {},
   "source": [
    "\n",
    "# Analyze Util Function Usage Frequency"
   ]
  },
  {
   "cell_type": "code",
   "execution_count": 5,
   "id": "50ae3017-2820-44f4-a13b-7d50b7d4c8a9",
   "metadata": {},
   "outputs": [],
   "source": [
    "\n",
    "nu.delete_ipynb_checkpoint_folders()"
   ]
  },
  {
   "cell_type": "code",
   "execution_count": 3,
   "id": "1d2fec69-5864-4032-bcf0-9996e68162a5",
   "metadata": {
    "tags": []
   },
   "outputs": [
    {
     "ename": "FileNotFoundError",
     "evalue": "[Errno 2] No such file or directory: '../py/frvrs_utils.py'",
     "output_type": "error",
     "traceback": [
      "\u001b[0;31m---------------------------------------------------------------------------\u001b[0m",
      "\u001b[0;31mFileNotFoundError\u001b[0m                         Traceback (most recent call last)",
      "\u001b[0;32m/tmp/ipykernel_2194/508485206.py\u001b[0m in \u001b[0;36m<module>\u001b[0;34m\u001b[0m\n\u001b[1;32m      3\u001b[0m \u001b[0mfunctions_list\u001b[0m \u001b[0;34m=\u001b[0m \u001b[0;34m[\u001b[0m\u001b[0;34m]\u001b[0m\u001b[0;34m\u001b[0m\u001b[0;34m\u001b[0m\u001b[0m\n\u001b[1;32m      4\u001b[0m \u001b[0;32mfor\u001b[0m \u001b[0mfile_path\u001b[0m \u001b[0;32min\u001b[0m \u001b[0;34m[\u001b[0m\u001b[0;34m'frvrs_utils.py'\u001b[0m\u001b[0;34m,\u001b[0m \u001b[0;34m'notebook_utils.py'\u001b[0m\u001b[0;34m]\u001b[0m\u001b[0;34m:\u001b[0m\u001b[0;34m\u001b[0m\u001b[0;34m\u001b[0m\u001b[0m\n\u001b[0;32m----> 5\u001b[0;31m     \u001b[0;32mwith\u001b[0m \u001b[0mopen\u001b[0m\u001b[0;34m(\u001b[0m\u001b[0;34mf'../py/{file_path}'\u001b[0m\u001b[0;34m,\u001b[0m \u001b[0;34m'r'\u001b[0m\u001b[0;34m,\u001b[0m \u001b[0mencoding\u001b[0m\u001b[0;34m=\u001b[0m\u001b[0mnu\u001b[0m\u001b[0;34m.\u001b[0m\u001b[0mencoding_type\u001b[0m\u001b[0;34m)\u001b[0m \u001b[0;32mas\u001b[0m \u001b[0mf\u001b[0m\u001b[0;34m:\u001b[0m \u001b[0mtext\u001b[0m \u001b[0;34m=\u001b[0m \u001b[0mf\u001b[0m\u001b[0;34m.\u001b[0m\u001b[0mread\u001b[0m\u001b[0;34m(\u001b[0m\u001b[0;34m)\u001b[0m\u001b[0;34m\u001b[0m\u001b[0;34m\u001b[0m\u001b[0m\n\u001b[0m\u001b[1;32m      6\u001b[0m     \u001b[0;32mfor\u001b[0m \u001b[0mmatch_obj\u001b[0m \u001b[0;32min\u001b[0m \u001b[0mdefs_regex\u001b[0m\u001b[0;34m.\u001b[0m\u001b[0mfinditer\u001b[0m\u001b[0;34m(\u001b[0m\u001b[0mtext\u001b[0m\u001b[0;34m)\u001b[0m\u001b[0;34m:\u001b[0m\u001b[0;34m\u001b[0m\u001b[0;34m\u001b[0m\u001b[0m\n\u001b[1;32m      7\u001b[0m         \u001b[0mfunctions_list\u001b[0m\u001b[0;34m.\u001b[0m\u001b[0mappend\u001b[0m\u001b[0;34m(\u001b[0m\u001b[0;34m''\u001b[0m\u001b[0;34m.\u001b[0m\u001b[0mjoin\u001b[0m\u001b[0;34m(\u001b[0m\u001b[0;34m[\u001b[0m\u001b[0ms\u001b[0m\u001b[0;34m[\u001b[0m\u001b[0;36m0\u001b[0m\u001b[0;34m]\u001b[0m \u001b[0;32mfor\u001b[0m \u001b[0ms\u001b[0m \u001b[0;32min\u001b[0m \u001b[0mfile_path\u001b[0m\u001b[0;34m.\u001b[0m\u001b[0msplit\u001b[0m\u001b[0;34m(\u001b[0m\u001b[0;34m'.'\u001b[0m\u001b[0;34m)\u001b[0m\u001b[0;34m[\u001b[0m\u001b[0;36m0\u001b[0m\u001b[0;34m]\u001b[0m\u001b[0;34m.\u001b[0m\u001b[0msplit\u001b[0m\u001b[0;34m(\u001b[0m\u001b[0;34m'_'\u001b[0m\u001b[0;34m)\u001b[0m\u001b[0;34m]\u001b[0m\u001b[0;34m)\u001b[0m \u001b[0;34m+\u001b[0m \u001b[0;34m'\\\\.'\u001b[0m \u001b[0;34m+\u001b[0m \u001b[0mmatch_obj\u001b[0m\u001b[0;34m.\u001b[0m\u001b[0mgroup\u001b[0m\u001b[0;34m(\u001b[0m\u001b[0;36m1\u001b[0m\u001b[0;34m)\u001b[0m \u001b[0;34m+\u001b[0m \u001b[0mmatch_obj\u001b[0m\u001b[0;34m.\u001b[0m\u001b[0mgroup\u001b[0m\u001b[0;34m(\u001b[0m\u001b[0;36m2\u001b[0m\u001b[0;34m)\u001b[0m\u001b[0;34m)\u001b[0m\u001b[0;34m\u001b[0m\u001b[0;34m\u001b[0m\u001b[0m\n",
      "\u001b[0;31mFileNotFoundError\u001b[0m: [Errno 2] No such file or directory: '../py/frvrs_utils.py'"
     ]
    }
   ],
   "source": [
    "\n",
    "# Create a regular expression of all the utils functions\n",
    "defs_regex = re.compile(r'^    def ([a-z]+)([a-z_]+)\\(\\s*self,\\s+([^\\)]+)\\):', re.MULTILINE)\n",
    "functions_list = []\n",
    "for file_path in ['frvrs_utils.py', 'notebook_utils.py']:\n",
    "    with open(f'../py/{file_path}', 'r', encoding=nu.encoding_type) as f: text = f.read()\n",
    "    for match_obj in defs_regex.finditer(text):\n",
    "        functions_list.append(''.join([s[0] for s in file_path.split('.')[0].split('_')]) + '\\\\.' + match_obj.group(1) + match_obj.group(2))\n",
    "\n",
    "functions_regex = re.compile('\\\\b(' + '|'.join(functions_list) + ')\\\\b')"
   ]
  },
  {
   "cell_type": "code",
   "execution_count": null,
   "id": "fe619e96-f812-4b88-a46c-95261bd727c0",
   "metadata": {},
   "outputs": [],
   "source": [
    "\n",
    "# Tabulate util function usage frequency\n",
    "usage_frequency_dict = {}\n",
    "for sub_directory, directories_list, files_list in os.walk(nu.github_folder):\n",
    "    if '.ipynb_checkpoints' not in sub_directory:\n",
    "        for file_name in files_list:\n",
    "            if file_name.endswith('.ipynb') and not ('Attic' in file_name):\n",
    "                file_path = osp.join(sub_directory, file_name)\n",
    "                with open(file_path, 'r', encoding=nu.encoding_type) as f:\n",
    "                    lines_list = f.readlines()\n",
    "                    for line in lines_list:\n",
    "                        match_obj = functions_regex.search(line)\n",
    "                        if match_obj:\n",
    "                            fn = match_obj.group(1)\n",
    "                            usage_frequency_dict[fn] = usage_frequency_dict.get(fn, 0) + 1"
   ]
  },
  {
   "cell_type": "code",
   "execution_count": null,
   "id": "88ea74d2-5562-4363-85e9-3000508b9783",
   "metadata": {},
   "outputs": [],
   "source": [
    "\n",
    "usage_frequency_df = pd.Series(usage_frequency_dict).to_frame().reset_index().rename(columns={0: 'usage_frequency', 'index': 'function_call'})\n",
    "usage_frequency_df.sort_values('usage_frequency', ascending=False).head(20)"
   ]
  },
  {
   "cell_type": "code",
   "execution_count": null,
   "id": "3460db06-c183-4726-8a29-0ff4e42b20f3",
   "metadata": {},
   "outputs": [],
   "source": [
    "\n",
    "mask_series = (usage_frequency_df.usage_frequency == 1)\n",
    "usage_frequency_df[mask_series]"
   ]
  },
  {
   "cell_type": "code",
   "execution_count": null,
   "id": "3df930c2-c181-442c-ac5b-64f627f60384",
   "metadata": {},
   "outputs": [],
   "source": []
  }
 ],
 "metadata": {
  "kernelspec": {
   "display_name": "ITM Analysis Reporting (Python 3.11.5)",
   "language": "python",
   "name": "itm_analysis_reporting"
  },
  "language_info": {
   "codemirror_mode": {
    "name": "ipython",
    "version": 3
   },
   "file_extension": ".py",
   "mimetype": "text/x-python",
   "name": "python",
   "nbconvert_exporter": "python",
   "pygments_lexer": "ipython3",
   "version": "3.7.12"
  }
 },
 "nbformat": 4,
 "nbformat_minor": 5
}

{
 "cells": [
  {
   "cell_type": "code",
   "execution_count": null,
   "id": "51983607-fe63-4f08-9d48-39872e96f382",
   "metadata": {},
   "outputs": [],
   "source": []
  },
  {
   "cell_type": "code",
   "execution_count": 1,
   "id": "10424a25-1991-45fd-8815-2eee8d12128e",
   "metadata": {},
   "outputs": [
    {
     "name": "stdout",
     "output_type": "stream",
     "text": [
      "Hours in March 2023: 184\n",
      "Hours in April 2023: 160\n",
      "Hours in May 2023: 176\n",
      "Hours in June 2023: 168\n",
      "Hours in July 2023: 160\n",
      "Hours in August 2023: 184\n",
      "Hours in September 2023: 160\n",
      "Hours in October 2023: 168\n",
      "Hours in November 2023: 160\n",
      "Hours in December 2023: 160\n",
      "Hours in January 2024: 168\n",
      "Hours in February 2024: 160\n"
     ]
    }
   ],
   "source": [
    "\n",
    "from pandas.tseries.holiday import get_calendar\n",
    "from datetime import datetime\n",
    "from calendar import February, monthrange\n",
    "import pandas as pd\n",
    "\n",
    "\n",
    "# Create a calendar with US federal holidays\n",
    "# https://www.opm.gov/policy-data-oversight/pay-leave/federal-holidays/#url=2023\n",
    "# https://www.opm.gov/policy-data-oversight/pay-leave/federal-holidays/#url=2024\n",
    "cal = get_calendar('USFederalHolidayCalendar')\n",
    "start_dt = datetime(2023, 3, 1)\n",
    "end_dt = datetime(2024, February, monthrange(2024, February)[1])\n",
    "holidays = cal.holidays(start=start_dt, end=end_dt)\n",
    "\n",
    "\n",
    "# Generate a \"business days\" date range for the specified months\n",
    "date_range = pd.date_range(start=start_dt, end=end_dt, freq='B')\n",
    "\n",
    "\n",
    "# Filter out holidays from the date range\n",
    "workdays = date_range[~date_range.isin(holidays)]\n",
    "\n",
    "\n",
    "# Display workdays by month\n",
    "workdays_by_month = workdays.to_period('M').value_counts().sort_index()\n",
    "for month, count in workdays_by_month.items():\n",
    "    month_str = month.to_timestamp().strftime('%B %Y')\n",
    "    print(f'Hours in {month_str}: {count*8}')"
   ]
  }
 ],
 "metadata": {
  "kernelspec": {
   "display_name": "ITM Analysis Reporting (Python 3.11.5)",
   "language": "python",
   "name": "itm_analysis_reporting"
  },
  "language_info": {
   "codemirror_mode": {
    "name": "ipython",
    "version": 3
   },
   "file_extension": ".py",
   "mimetype": "text/x-python",
   "name": "python",
   "nbconvert_exporter": "python",
   "pygments_lexer": "ipython3",
   "version": "3.7.12"
  }
 },
 "nbformat": 4,
 "nbformat_minor": 5
}

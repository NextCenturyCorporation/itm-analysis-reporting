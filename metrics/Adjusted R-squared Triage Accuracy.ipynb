{
 "cells": [
  {
   "cell_type": "code",
   "execution_count": 1,
   "id": "f303819c-dc03-46ab-a5fc-d1de4fe42714",
   "metadata": {},
   "outputs": [
    {
     "name": "stdout",
     "output_type": "stream",
     "text": [
      "Pretty printing has been turned OFF\n"
     ]
    }
   ],
   "source": [
    "\n",
    "%pprint\n",
    "import sys\n",
    "sys.path.insert(1, '../py')"
   ]
  },
  {
   "cell_type": "code",
   "execution_count": 2,
   "id": "f88993e1-de14-424b-a21c-ca2308d8ee91",
   "metadata": {},
   "outputs": [],
   "source": [
    "\n",
    "import os\n",
    "from pandas import DataFrame\n",
    "import pandas as pd\n",
    "from notebook_utils import NotebookUtilities\n",
    "import matplotlib.pyplot as plt\n",
    "import re\n",
    "import humanize\n",
    "from datetime import timedelta\n",
    "\n",
    "nu = NotebookUtilities(data_folder_path=os.path.abspath('../data'))"
   ]
  },
  {
   "cell_type": "code",
   "execution_count": 3,
   "id": "a6971d12-57c5-48d0-97a4-1fd8abeb97c7",
   "metadata": {},
   "outputs": [
    {
     "name": "stdout",
     "output_type": "stream",
     "text": [
      "(832366, 110)\n"
     ]
    }
   ],
   "source": [
    "\n",
    "# Get all CSVs into one data frame\n",
    "if nu.pickle_exists('frvrs_logs_df'):\n",
    "    frvrs_logs_df = nu.load_object('frvrs_logs_df')\n",
    "    print(frvrs_logs_df.shape)\n",
    "    # df = frvrs_logs_df.sample(4).dropna(axis='columns', how='all')\n",
    "    # display(df.T)"
   ]
  },
  {
   "cell_type": "markdown",
   "id": "d5c52311-5909-477d-a708-dbb4a8133df1",
   "metadata": {},
   "source": [
    "\n",
    "# Triage Accuracy\n",
    "\n",
    "(How many patients did they get right and do they do it in the right order, for example: still or obvious life threat first (Red, Gray, Black), then wavers, then walkers last.)"
   ]
  },
  {
   "cell_type": "markdown",
   "id": "01800a78-04bb-4350-8e29-d27d8eaa30cb",
   "metadata": {},
   "source": [
    "\n",
    "### Adjusted R-squared\n",
    "\n",
    "I am using the adjusted R-squared value of a linear regression model fit as a measure of how well trainees engaged the still first, then wavers, then walkers last. A score of 1.0 will mean that the trainee performed the ideal sequence. A score of -1.0 means that the trainee performed the opposite sequence.\n",
    "\n",
    "The algorithm will work for any number of patients. It allows for any number of still patients, which will be correctly placed in the beginning of the ideal sequence. The numbers are just the milliseconds of elapsed time at the engagement of a patient. The scenes are zero-indexed _SESSION_START_ to _SESSION_END_ segments. Time group 1 is the 2nd session in the file, for instance.\n",
    "\n",
    "This is possibly also a measure of Tolerance for Risk (see https://nextcentury.atlassian.net/wiki/spaces/ITMC/pages/2998960129/KDMAs)."
   ]
  },
  {
   "cell_type": "code",
   "execution_count": 4,
   "id": "f7f54c03-cb20-497c-b010-1892c6c6fafe",
   "metadata": {},
   "outputs": [],
   "source": [
    "\n",
    "# Create a dataset of measures of right ordering\n",
    "if nu.pickle_exists('engagment_sort_df'):\n",
    "    engagment_sort_df = nu.load_object('engagment_sort_df')\n",
    "else:\n",
    "    import statsmodels.api as sm\n",
    "    groupby_columns = ['session_uuid', 'time_group']\n",
    "    gb = frvrs_logs_df.groupby(groupby_columns)\n",
    "    rows_list = []\n",
    "    for (session_uuid, time_group), df1 in gb:\n",
    "        row_dict = {}\n",
    "        \n",
    "        # Add the logger version for the current group\n",
    "        logger_version = df1.logger_version.unique().item()\n",
    "        row_dict['logger_version'] = logger_version\n",
    "        \n",
    "        # Populate the row_dict with values from the groupby_columns\n",
    "        for cn in groupby_columns: row_dict[cn] = eval(cn)\n",
    "    \n",
    "        # Get the last engagement time among all the obvious life threats\n",
    "        assert ('tag_applied_type' in df1.columns)\n",
    "        mask_series = df1.tag_applied_type.isin(['red', 'gray', 'black'])\n",
    "        df = df1[mask_series]\n",
    "        if df.shape[0]:\n",
    "            # display(df.sample(min(4, df[mask_series].shape[0])).dropna(axis='columns', how='all').T)\n",
    "            patient_ids_list = df.patient_id.unique().tolist()\n",
    "            mask_series = True\n",
    "            for cn in groupby_columns: mask_series &= (frvrs_logs_df[cn] == eval(cn))\n",
    "            mask_series &= frvrs_logs_df.patient_id.isin(patient_ids_list)\n",
    "            mask_series &= (frvrs_logs_df.action_type == 'PATIENT_ENGAGED')\n",
    "            row_dict['last_threat_engaged'] = frvrs_logs_df[mask_series].elapsed_time.max()\n",
    "    \n",
    "        # Group the patients by engagement SORT category and get lists of their elapsed times\n",
    "        engaged_sort_dict = {}\n",
    "        for patient_engaged_sort, df2 in df1.groupby('patient_engaged_sort'):\n",
    "            if patient_engaged_sort in ['still', 'waver', 'walker']:\n",
    "                patient_ids_list = df2.patient_id.unique().tolist()\n",
    "                mask_series = True\n",
    "                for cn in groupby_columns: mask_series &= (frvrs_logs_df[cn] == eval(cn))\n",
    "                mask_series &= frvrs_logs_df.patient_id.isin(patient_ids_list)\n",
    "                mask_series &= (frvrs_logs_df.action_type == 'PATIENT_ENGAGED')\n",
    "                row_dict[f'last_{patient_engaged_sort}_engaged'] = frvrs_logs_df[mask_series].elapsed_time.max()\n",
    "                engaged_sort_dict[patient_engaged_sort] = frvrs_logs_df[mask_series].sort_values(\n",
    "                    ['elapsed_time']\n",
    "                ).elapsed_time.tolist()\n",
    "        \n",
    "        # Get an R-squared Adjusted as a measure of right ordering\n",
    "        # if (session_uuid == '7de52180-d823-4f9e-9003-aeab8139970b') and (time_group == 1): raise\n",
    "        ideal_sequence = []\n",
    "        for sort in ['still', 'waver', 'walker']: ideal_sequence.extend(engaged_sort_dict.get(sort, []))\n",
    "        ideal_sequence = pd.Series(data=ideal_sequence)\n",
    "        actual_sequence = ideal_sequence.sort_values(ascending=True)\n",
    "        X, y = ideal_sequence.values.reshape(-1, 1), actual_sequence.values.reshape(-1, 1)\n",
    "        if X.shape[0]:\n",
    "            X1 = sm.add_constant(X)\n",
    "            try: rsquared_adj = sm.OLS(y, X1).fit().rsquared_adj\n",
    "            except: rsquared_adj = np.nan\n",
    "            row_dict['rsquared_adj'] = rsquared_adj\n",
    "        \n",
    "        rows_list.append(row_dict)\n",
    "    \n",
    "    engagment_sort_df = DataFrame(rows_list)\n",
    "    nu.store_objects(engagment_sort_df=engagment_sort_df)"
   ]
  },
  {
   "cell_type": "code",
   "execution_count": 5,
   "id": "db8dadf0-d5ec-4428-bb66-b8e3593b1b43",
   "metadata": {},
   "outputs": [
    {
     "data": {
      "text/html": [
       "<div>\n",
       "<style scoped>\n",
       "    .dataframe tbody tr th:only-of-type {\n",
       "        vertical-align: middle;\n",
       "    }\n",
       "\n",
       "    .dataframe tbody tr th {\n",
       "        vertical-align: top;\n",
       "    }\n",
       "\n",
       "    .dataframe thead th {\n",
       "        text-align: right;\n",
       "    }\n",
       "</style>\n",
       "<table border=\"1\" class=\"dataframe\">\n",
       "  <thead>\n",
       "    <tr style=\"text-align: right;\">\n",
       "      <th></th>\n",
       "      <th>827</th>\n",
       "      <th>948</th>\n",
       "      <th>244</th>\n",
       "      <th>242</th>\n",
       "    </tr>\n",
       "  </thead>\n",
       "  <tbody>\n",
       "    <tr>\n",
       "      <th>logger_version</th>\n",
       "      <td>1.3</td>\n",
       "      <td>1.0</td>\n",
       "      <td>1.3</td>\n",
       "      <td>1.0</td>\n",
       "    </tr>\n",
       "    <tr>\n",
       "      <th>session_uuid</th>\n",
       "      <td>c849bff1-beb3-44ab-bdea-751d75878437</td>\n",
       "      <td>e072d31f-2592-4c7e-8709-3db1e111240c</td>\n",
       "      <td>3228f729-d512-431a-bb96-d6f9aacb5d00</td>\n",
       "      <td>321db911-0ed9-421a-9219-bb02038ac660</td>\n",
       "    </tr>\n",
       "    <tr>\n",
       "      <th>time_group</th>\n",
       "      <td>1</td>\n",
       "      <td>0</td>\n",
       "      <td>1</td>\n",
       "      <td>1</td>\n",
       "    </tr>\n",
       "    <tr>\n",
       "      <th>last_threat_engaged</th>\n",
       "      <td>207425.0</td>\n",
       "      <td>NaN</td>\n",
       "      <td>NaN</td>\n",
       "      <td>613308.0</td>\n",
       "    </tr>\n",
       "    <tr>\n",
       "      <th>last_walker_engaged</th>\n",
       "      <td>246614.0</td>\n",
       "      <td>NaN</td>\n",
       "      <td>NaN</td>\n",
       "      <td>445243.0</td>\n",
       "    </tr>\n",
       "    <tr>\n",
       "      <th>rsquared_adj</th>\n",
       "      <td>0.26428</td>\n",
       "      <td>NaN</td>\n",
       "      <td>NaN</td>\n",
       "      <td>0.169937</td>\n",
       "    </tr>\n",
       "    <tr>\n",
       "      <th>last_still_engaged</th>\n",
       "      <td>190030.0</td>\n",
       "      <td>NaN</td>\n",
       "      <td>NaN</td>\n",
       "      <td>583104.0</td>\n",
       "    </tr>\n",
       "    <tr>\n",
       "      <th>last_waver_engaged</th>\n",
       "      <td>207425.0</td>\n",
       "      <td>NaN</td>\n",
       "      <td>NaN</td>\n",
       "      <td>655814.0</td>\n",
       "    </tr>\n",
       "    <tr>\n",
       "      <th>stills_finished_first</th>\n",
       "      <td>True</td>\n",
       "      <td>NaN</td>\n",
       "      <td>NaN</td>\n",
       "      <td>False</td>\n",
       "    </tr>\n",
       "  </tbody>\n",
       "</table>\n",
       "</div>"
      ],
      "text/plain": [
       "                                                        827  \\\n",
       "logger_version                                          1.3   \n",
       "session_uuid           c849bff1-beb3-44ab-bdea-751d75878437   \n",
       "time_group                                                1   \n",
       "last_threat_engaged                                207425.0   \n",
       "last_walker_engaged                                246614.0   \n",
       "rsquared_adj                                        0.26428   \n",
       "last_still_engaged                                 190030.0   \n",
       "last_waver_engaged                                 207425.0   \n",
       "stills_finished_first                                  True   \n",
       "\n",
       "                                                        948  \\\n",
       "logger_version                                          1.0   \n",
       "session_uuid           e072d31f-2592-4c7e-8709-3db1e111240c   \n",
       "time_group                                                0   \n",
       "last_threat_engaged                                     NaN   \n",
       "last_walker_engaged                                     NaN   \n",
       "rsquared_adj                                            NaN   \n",
       "last_still_engaged                                      NaN   \n",
       "last_waver_engaged                                      NaN   \n",
       "stills_finished_first                                   NaN   \n",
       "\n",
       "                                                        244  \\\n",
       "logger_version                                          1.3   \n",
       "session_uuid           3228f729-d512-431a-bb96-d6f9aacb5d00   \n",
       "time_group                                                1   \n",
       "last_threat_engaged                                     NaN   \n",
       "last_walker_engaged                                     NaN   \n",
       "rsquared_adj                                            NaN   \n",
       "last_still_engaged                                      NaN   \n",
       "last_waver_engaged                                      NaN   \n",
       "stills_finished_first                                   NaN   \n",
       "\n",
       "                                                        242  \n",
       "logger_version                                          1.0  \n",
       "session_uuid           321db911-0ed9-421a-9219-bb02038ac660  \n",
       "time_group                                                1  \n",
       "last_threat_engaged                                613308.0  \n",
       "last_walker_engaged                                445243.0  \n",
       "rsquared_adj                                       0.169937  \n",
       "last_still_engaged                                 583104.0  \n",
       "last_waver_engaged                                 655814.0  \n",
       "stills_finished_first                                 False  "
      ]
     },
     "metadata": {},
     "output_type": "display_data"
    }
   ],
   "source": [
    "\n",
    "# Display a sample of the data frame, dropping columns with all NaN values and transposing it\n",
    "display(engagment_sort_df.sample(min(4, engagment_sort_df.shape[0])).dropna(axis='columns', how='all').T)"
   ]
  },
  {
   "cell_type": "markdown",
   "id": "832b498d-6064-4e8f-baa3-b2d23375cb7e",
   "metadata": {},
   "source": [
    "\n",
    "Here is a histogram of the values:"
   ]
  },
  {
   "cell_type": "code",
   "execution_count": 6,
   "id": "1e234605-ddc4-45d7-a4c0-b04662b30f84",
   "metadata": {},
   "outputs": [
    {
     "data": {
      "image/png": "[encoded data removed]",
      "text/plain": [
       "<Figure size 1800x900 with 1 Axes>"
      ]
     },
     "metadata": {},
     "output_type": "display_data"
    }
   ],
   "source": [
    "\n",
    "# Display a histogram of the distribution of the measure of\n",
    "# how well trainees engaged the still first, then wavers, then walkers last\n",
    "xlabel = 'R-squared Adjusted as a Measure of Right Ordering'\n",
    "get_xtick_text = lambda text_obj: round(text_obj.get_position()[0], 2)\n",
    "title = 'Histogram of the Measure of how well Trainees Engaged the Still First, then Wavers, then Walkers Last'\n",
    "ylabel = 'Count of Responders in Range'\n",
    "ax = nu.plot_histogram(engagment_sort_df, 'rsquared_adj', xlabel=xlabel, xtick_text_fn=get_xtick_text, title=title, ylabel=ylabel, xticks_are_temporal=False)"
   ]
  },
  {
   "cell_type": "code",
   "execution_count": 7,
   "id": "20e29a1a-d124-4cbd-bcfe-9d44d00f0ab4",
   "metadata": {},
   "outputs": [
    {
     "data": {
      "text/html": [
       "<div>\n",
       "<style scoped>\n",
       "    .dataframe tbody tr th:only-of-type {\n",
       "        vertical-align: middle;\n",
       "    }\n",
       "\n",
       "    .dataframe tbody tr th {\n",
       "        vertical-align: top;\n",
       "    }\n",
       "\n",
       "    .dataframe thead th {\n",
       "        text-align: right;\n",
       "    }\n",
       "</style>\n",
       "<table border=\"1\" class=\"dataframe\">\n",
       "  <thead>\n",
       "    <tr style=\"text-align: right;\">\n",
       "      <th></th>\n",
       "      <th>mean</th>\n",
       "      <th>mode</th>\n",
       "      <th>median</th>\n",
       "      <th>SD</th>\n",
       "      <th>min</th>\n",
       "      <th>25%</th>\n",
       "      <th>50%</th>\n",
       "      <th>75%</th>\n",
       "      <th>max</th>\n",
       "    </tr>\n",
       "  </thead>\n",
       "  <tbody>\n",
       "    <tr>\n",
       "      <th>rsquared_adj</th>\n",
       "      <td>0.6</td>\n",
       "      <td>1.0</td>\n",
       "      <td>0.6</td>\n",
       "      <td>0.4</td>\n",
       "      <td>-0.5</td>\n",
       "      <td>0.3</td>\n",
       "      <td>0.6</td>\n",
       "      <td>1.0</td>\n",
       "      <td>1.0</td>\n",
       "    </tr>\n",
       "  </tbody>\n",
       "</table>\n",
       "</div>"
      ],
      "text/plain": [
       "              mean  mode  median   SD  min  25%  50%  75%  max\n",
       "rsquared_adj   0.6   1.0     0.6  0.4 -0.5  0.3  0.6  1.0  1.0"
      ]
     },
     "metadata": {},
     "output_type": "display_data"
    }
   ],
   "source": [
    "\n",
    "# Can you provide the following statistics for this distribution: mean, median, mode, SD, Interquartile range?\n",
    "columns_list = [\n",
    "    'rsquared_adj'\n",
    "]\n",
    "df = engagment_sort_df[columns_list]\n",
    "display(nu.get_statistics(columns_list, df).applymap(lambda x: round(x, 1), na_action='ignore').T)"
   ]
  },
  {
   "cell_type": "markdown",
   "id": "a7798ac0-ea5e-4eec-a283-64fe7434221c",
   "metadata": {},
   "source": [
    "\n",
    "## How many responders did the right order? Should be a percentage of all responders\n"
   ]
  },
  {
   "cell_type": "code",
   "execution_count": 8,
   "id": "f04d3a88-3edc-4499-99c1-bd3fd710c773",
   "metadata": {},
   "outputs": [
    {
     "name": "stdout",
     "output_type": "stream",
     "text": [
      "15.04% of all responders engaged the still first, then wavers, then walkers last, in an ideal sequence.\n"
     ]
    }
   ],
   "source": [
    "\n",
    "total_count = engagment_sort_df.shape[0]\n",
    "mask_series = (engagment_sort_df.rsquared_adj == 1.0)\n",
    "correct_count = engagment_sort_df[mask_series].shape[0]\n",
    "percentage_tag_correct = 100*correct_count/total_count\n",
    "print(f'{percentage_tag_correct:.2f}% of all responders engaged the still first, then wavers, then walkers last, in an ideal sequence.')"
   ]
  },
  {
   "cell_type": "code",
   "execution_count": null,
   "id": "769bfcba-6ea3-42bf-948c-15fe3fb1ecef",
   "metadata": {},
   "outputs": [],
   "source": []
  }
 ],
 "metadata": {
  "kernelspec": {
   "display_name": "Notebooks (Python 3.9.16)",
   "language": "python",
   "name": "nb_env"
  },
  "language_info": {
   "codemirror_mode": {
    "name": "ipython",
    "version": 3
   },
   "file_extension": ".py",
   "mimetype": "text/x-python",
   "name": "python",
   "nbconvert_exporter": "python",
   "pygments_lexer": "ipython3",
   "version": "3.9.16"
  }
 },
 "nbformat": 4,
 "nbformat_minor": 5
}

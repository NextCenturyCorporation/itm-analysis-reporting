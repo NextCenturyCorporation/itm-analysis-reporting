{
 "cells": [
  {
   "cell_type": "code",
   "execution_count": 1,
   "id": "f303819c-dc03-46ab-a5fc-d1de4fe42714",
   "metadata": {},
   "outputs": [
    {
     "name": "stdout",
     "output_type": "stream",
     "text": [
      "Pretty printing has been turned OFF\n"
     ]
    }
   ],
   "source": [
    "\n",
    "%pprint\n",
    "import sys\n",
    "sys.path.insert(1, '../py')"
   ]
  },
  {
   "cell_type": "code",
   "execution_count": 2,
   "id": "f88993e1-de14-424b-a21c-ca2308d8ee91",
   "metadata": {},
   "outputs": [],
   "source": [
    "\n",
    "import os\n",
    "from pandas import DataFrame\n",
    "import pandas as pd\n",
    "from notebook_utils import NotebookUtilities\n",
    "import matplotlib.pyplot as plt\n",
    "import re\n",
    "import humanize\n",
    "from datetime import timedelta\n",
    "\n",
    "nu = NotebookUtilities(data_folder_path=os.path.abspath('../data'))"
   ]
  },
  {
   "cell_type": "code",
   "execution_count": 3,
   "id": "a6971d12-57c5-48d0-97a4-1fd8abeb97c7",
   "metadata": {},
   "outputs": [
    {
     "name": "stdout",
     "output_type": "stream",
     "text": [
      "(832366, 110)\n"
     ]
    }
   ],
   "source": [
    "\n",
    "# Get all CSVs into one data frame\n",
    "if nu.pickle_exists('frvrs_logs_df'):\n",
    "    frvrs_logs_df = nu.load_object('frvrs_logs_df')\n",
    "    print(frvrs_logs_df.shape)\n",
    "    # df = frvrs_logs_df.sample(4).dropna(axis='columns', how='all')\n",
    "    # display(df.T)"
   ]
  },
  {
   "cell_type": "markdown",
   "id": "d5c52311-5909-477d-a708-dbb4a8133df1",
   "metadata": {},
   "source": [
    "\n",
    "# Triage Accuracy\n",
    "\n",
    "(How many patients did they get right and do they do it in the right order, for example: still or obvious life threat first (Red, Gray, Black), then wavers, then walkers last.)"
   ]
  },
  {
   "cell_type": "markdown",
   "id": "01800a78-04bb-4350-8e29-d27d8eaa30cb",
   "metadata": {},
   "source": [
    "\n",
    "### Adjusted R-squared\n",
    "\n",
    "I am using the adjusted R-squared value of a linear regression model fit as a measure of how well trainees engaged the still first, then wavers, then walkers last. A score of 1.0 will mean that the trainee performed the ideal sequence. A score of -1.0 means that the trainee performed the opposite sequence.\n",
    "\n",
    "The algorithm will work for any number of patients. It allows for any number of still patients, which will be correctly placed in the beginning of the ideal sequence. The numbers are just the milliseconds of elapsed time at the engagement of a patient. The scenes are zero-indexed _SESSION_START_ to _SESSION_END_ segments. Time group 1 is the 2nd session in the file, for instance.\n",
    "\n",
    "This is possibly also a measure of Tolerance for Risk (see https://nextcentury.atlassian.net/wiki/spaces/ITMC/pages/2998960129/KDMAs)."
   ]
  },
  {
   "cell_type": "code",
   "execution_count": 4,
   "id": "f7f54c03-cb20-497c-b010-1892c6c6fafe",
   "metadata": {},
   "outputs": [],
   "source": [
    "\n",
    "# Create a dataset of measures of right ordering\n",
    "if nu.pickle_exists('engagment_sort_df'):\n",
    "    engagment_sort_df = nu.load_object('engagment_sort_df')\n",
    "else:\n",
    "    import statsmodels.api as sm\n",
    "    groupby_columns = ['session_uuid', 'time_group']\n",
    "    gb = frvrs_logs_df.groupby(groupby_columns)\n",
    "    rows_list = []\n",
    "    for (session_uuid, time_group), df1 in gb:\n",
    "        row_dict = {}\n",
    "        \n",
    "        # Add the logger version for the current group\n",
    "        logger_version = df1.logger_version.unique().item()\n",
    "        row_dict['logger_version'] = logger_version\n",
    "        \n",
    "        # Populate the row_dict with values from the groupby_columns\n",
    "        for cn in groupby_columns: row_dict[cn] = eval(cn)\n",
    "    \n",
    "        # Get the last engagement time among all the obvious life threats\n",
    "        assert ('tag_applied_type' in df1.columns)\n",
    "        mask_series = df1.tag_applied_type.isin(['red', 'gray', 'black'])\n",
    "        df = df1[mask_series]\n",
    "        if df.shape[0]:\n",
    "            # display(df.sample(min(4, df[mask_series].shape[0])).dropna(axis='columns', how='all').T)\n",
    "            patient_ids_list = df.patient_id.unique().tolist()\n",
    "            mask_series = True\n",
    "            for cn in groupby_columns: mask_series &= (frvrs_logs_df[cn] == eval(cn))\n",
    "            mask_series &= frvrs_logs_df.patient_id.isin(patient_ids_list)\n",
    "            mask_series &= (frvrs_logs_df.action_type == 'PATIENT_ENGAGED')\n",
    "            row_dict['last_threat_engaged'] = frvrs_logs_df[mask_series].elapsed_time.max()\n",
    "    \n",
    "        # Group the patients by engagement SORT category and get lists of their elapsed times\n",
    "        engaged_sort_dict = {}\n",
    "        for patient_engaged_sort, df2 in df1.groupby('patient_engaged_sort'):\n",
    "            if patient_engaged_sort in ['still', 'waver', 'walker']:\n",
    "                patient_ids_list = df2.patient_id.unique().tolist()\n",
    "                mask_series = True\n",
    "                for cn in groupby_columns: mask_series &= (frvrs_logs_df[cn] == eval(cn))\n",
    "                mask_series &= frvrs_logs_df.patient_id.isin(patient_ids_list)\n",
    "                mask_series &= (frvrs_logs_df.action_type == 'PATIENT_ENGAGED')\n",
    "                row_dict[f'last_{patient_engaged_sort}_engaged'] = frvrs_logs_df[mask_series].elapsed_time.max()\n",
    "                engaged_sort_dict[patient_engaged_sort] = frvrs_logs_df[mask_series].sort_values(\n",
    "                    ['elapsed_time']\n",
    "                ).elapsed_time.tolist()\n",
    "        \n",
    "        # Get an R-squared Adjusted as a measure of right ordering\n",
    "        # if (session_uuid == '7de52180-d823-4f9e-9003-aeab8139970b') and (time_group == 1): raise\n",
    "        ideal_sequence = []\n",
    "        for sort in ['still', 'waver', 'walker']: ideal_sequence.extend(engaged_sort_dict.get(sort, []))\n",
    "        ideal_sequence = pd.Series(data=ideal_sequence)\n",
    "        actual_sequence = ideal_sequence.sort_values(ascending=True)\n",
    "        X, y = ideal_sequence.values.reshape(-1, 1), actual_sequence.values.reshape(-1, 1)\n",
    "        if X.shape[0]:\n",
    "            X1 = sm.add_constant(X)\n",
    "            try: rsquared_adj = sm.OLS(y, X1).fit().rsquared_adj\n",
    "            except: rsquared_adj = np.nan\n",
    "            row_dict['rsquared_adj'] = rsquared_adj\n",
    "        \n",
    "        rows_list.append(row_dict)\n",
    "    \n",
    "    engagment_sort_df = DataFrame(rows_list)\n",
    "    nu.store_objects(engagment_sort_df=engagment_sort_df)"
   ]
  },
  {
   "cell_type": "code",
   "execution_count": 5,
   "id": "db8dadf0-d5ec-4428-bb66-b8e3593b1b43",
   "metadata": {},
   "outputs": [
    {
     "data": {
      "text/html": [
       "<div>\n",
       "<style scoped>\n",
       "    .dataframe tbody tr th:only-of-type {\n",
       "        vertical-align: middle;\n",
       "    }\n",
       "\n",
       "    .dataframe tbody tr th {\n",
       "        vertical-align: top;\n",
       "    }\n",
       "\n",
       "    .dataframe thead th {\n",
       "        text-align: right;\n",
       "    }\n",
       "</style>\n",
       "<table border=\"1\" class=\"dataframe\">\n",
       "  <thead>\n",
       "    <tr style=\"text-align: right;\">\n",
       "      <th></th>\n",
       "      <th>110</th>\n",
       "      <th>384</th>\n",
       "      <th>1077</th>\n",
       "      <th>314</th>\n",
       "    </tr>\n",
       "  </thead>\n",
       "  <tbody>\n",
       "    <tr>\n",
       "      <th>logger_version</th>\n",
       "      <td>1.0</td>\n",
       "      <td>1.0</td>\n",
       "      <td>1.3</td>\n",
       "      <td>1.3</td>\n",
       "    </tr>\n",
       "    <tr>\n",
       "      <th>session_uuid</th>\n",
       "      <td>158e6365-673b-4030-8b36-6704be5996a2</td>\n",
       "      <td>5aca0157-02d0-4409-a4fe-f64d03fd34a1</td>\n",
       "      <td>fd1c7057-2c2d-4dec-9297-92ef0621c15e</td>\n",
       "      <td>433e6561-c9cd-48c8-91a8-0318e656996f</td>\n",
       "    </tr>\n",
       "    <tr>\n",
       "      <th>time_group</th>\n",
       "      <td>1</td>\n",
       "      <td>2</td>\n",
       "      <td>2</td>\n",
       "      <td>2</td>\n",
       "    </tr>\n",
       "    <tr>\n",
       "      <th>last_threat_engaged</th>\n",
       "      <td>NaN</td>\n",
       "      <td>472448.0</td>\n",
       "      <td>558645.0</td>\n",
       "      <td>504050.0</td>\n",
       "    </tr>\n",
       "    <tr>\n",
       "      <th>last_walker_engaged</th>\n",
       "      <td>NaN</td>\n",
       "      <td>481239.0</td>\n",
       "      <td>479354.0</td>\n",
       "      <td>803808.0</td>\n",
       "    </tr>\n",
       "    <tr>\n",
       "      <th>rsquared_adj</th>\n",
       "      <td>NaN</td>\n",
       "      <td>0.46642</td>\n",
       "      <td>0.209767</td>\n",
       "      <td>0.878222</td>\n",
       "    </tr>\n",
       "    <tr>\n",
       "      <th>last_still_engaged</th>\n",
       "      <td>NaN</td>\n",
       "      <td>472448.0</td>\n",
       "      <td>285778.0</td>\n",
       "      <td>570493.0</td>\n",
       "    </tr>\n",
       "    <tr>\n",
       "      <th>last_waver_engaged</th>\n",
       "      <td>NaN</td>\n",
       "      <td>383518.0</td>\n",
       "      <td>558645.0</td>\n",
       "      <td>689564.0</td>\n",
       "    </tr>\n",
       "    <tr>\n",
       "      <th>stills_finished_first</th>\n",
       "      <td>NaN</td>\n",
       "      <td>False</td>\n",
       "      <td>True</td>\n",
       "      <td>True</td>\n",
       "    </tr>\n",
       "  </tbody>\n",
       "</table>\n",
       "</div>"
      ],
      "text/plain": [
       "                                                       110   \\\n",
       "logger_version                                          1.0   \n",
       "session_uuid           158e6365-673b-4030-8b36-6704be5996a2   \n",
       "time_group                                                1   \n",
       "last_threat_engaged                                     NaN   \n",
       "last_walker_engaged                                     NaN   \n",
       "rsquared_adj                                            NaN   \n",
       "last_still_engaged                                      NaN   \n",
       "last_waver_engaged                                      NaN   \n",
       "stills_finished_first                                   NaN   \n",
       "\n",
       "                                                       384   \\\n",
       "logger_version                                          1.0   \n",
       "session_uuid           5aca0157-02d0-4409-a4fe-f64d03fd34a1   \n",
       "time_group                                                2   \n",
       "last_threat_engaged                                472448.0   \n",
       "last_walker_engaged                                481239.0   \n",
       "rsquared_adj                                        0.46642   \n",
       "last_still_engaged                                 472448.0   \n",
       "last_waver_engaged                                 383518.0   \n",
       "stills_finished_first                                 False   \n",
       "\n",
       "                                                       1077  \\\n",
       "logger_version                                          1.3   \n",
       "session_uuid           fd1c7057-2c2d-4dec-9297-92ef0621c15e   \n",
       "time_group                                                2   \n",
       "last_threat_engaged                                558645.0   \n",
       "last_walker_engaged                                479354.0   \n",
       "rsquared_adj                                       0.209767   \n",
       "last_still_engaged                                 285778.0   \n",
       "last_waver_engaged                                 558645.0   \n",
       "stills_finished_first                                  True   \n",
       "\n",
       "                                                       314   \n",
       "logger_version                                          1.3  \n",
       "session_uuid           433e6561-c9cd-48c8-91a8-0318e656996f  \n",
       "time_group                                                2  \n",
       "last_threat_engaged                                504050.0  \n",
       "last_walker_engaged                                803808.0  \n",
       "rsquared_adj                                       0.878222  \n",
       "last_still_engaged                                 570493.0  \n",
       "last_waver_engaged                                 689564.0  \n",
       "stills_finished_first                                  True  "
      ]
     },
     "metadata": {},
     "output_type": "display_data"
    }
   ],
   "source": [
    "\n",
    "# Display a sample of the data frame, dropping columns with all NaN values and transposing it\n",
    "display(engagment_sort_df.sample(min(4, engagment_sort_df.shape[0])).dropna(axis='columns', how='all').T)"
   ]
  },
  {
   "cell_type": "markdown",
   "id": "832b498d-6064-4e8f-baa3-b2d23375cb7e",
   "metadata": {},
   "source": [
    "\n",
    "Here is a histogram of the values:"
   ]
  },
  {
   "cell_type": "code",
   "execution_count": 6,
   "id": "1e234605-ddc4-45d7-a4c0-b04662b30f84",
   "metadata": {},
   "outputs": [
    {
     "data": {
      "image/png": "[encoded data removed]",
      "text/plain": [
       "<Figure size 1800x900 with 1 Axes>"
      ]
     },
     "metadata": {},
     "output_type": "display_data"
    }
   ],
   "source": [
    "\n",
    "# Display a histogram of the distribution of the measure of\n",
    "# how well trainees engaged the still first, then wavers, then walkers last\n",
    "xlabel = 'R-squared Adjusted as a Measure of Right Ordering'\n",
    "get_xtick_text = lambda text_obj: round(text_obj.get_position()[0], 2)\n",
    "title = 'Histogram of the Measure of how well Trainees Engaged the Still First, then Wavers, then Walkers Last'\n",
    "ylabel = 'Count of Responders in Range'\n",
    "ax = nu.plot_histogram(engagment_sort_df, 'rsquared_adj', xlabel=xlabel, xtick_text_fn=get_xtick_text, title=title, ylabel=ylabel, xticks_are_temporal=False)"
   ]
  },
  {
   "cell_type": "code",
   "execution_count": 7,
   "id": "20e29a1a-d124-4cbd-bcfe-9d44d00f0ab4",
   "metadata": {},
   "outputs": [
    {
     "data": {
      "text/html": [
       "<div>\n",
       "<style scoped>\n",
       "    .dataframe tbody tr th:only-of-type {\n",
       "        vertical-align: middle;\n",
       "    }\n",
       "\n",
       "    .dataframe tbody tr th {\n",
       "        vertical-align: top;\n",
       "    }\n",
       "\n",
       "    .dataframe thead th {\n",
       "        text-align: right;\n",
       "    }\n",
       "</style>\n",
       "<table border=\"1\" class=\"dataframe\">\n",
       "  <thead>\n",
       "    <tr style=\"text-align: right;\">\n",
       "      <th></th>\n",
       "      <th>mean</th>\n",
       "      <th>mode</th>\n",
       "      <th>median</th>\n",
       "      <th>SD</th>\n",
       "      <th>min</th>\n",
       "      <th>25%</th>\n",
       "      <th>50%</th>\n",
       "      <th>75%</th>\n",
       "      <th>max</th>\n",
       "    </tr>\n",
       "  </thead>\n",
       "  <tbody>\n",
       "    <tr>\n",
       "      <th>rsquared_adj</th>\n",
       "      <td>0.6</td>\n",
       "      <td>1.0</td>\n",
       "      <td>0.6</td>\n",
       "      <td>0.4</td>\n",
       "      <td>-0.5</td>\n",
       "      <td>0.3</td>\n",
       "      <td>0.6</td>\n",
       "      <td>1.0</td>\n",
       "      <td>1.0</td>\n",
       "    </tr>\n",
       "  </tbody>\n",
       "</table>\n",
       "</div>"
      ],
      "text/plain": [
       "              mean  mode  median   SD  min  25%  50%  75%  max\n",
       "rsquared_adj   0.6   1.0     0.6  0.4 -0.5  0.3  0.6  1.0  1.0"
      ]
     },
     "metadata": {},
     "output_type": "display_data"
    }
   ],
   "source": [
    "\n",
    "# Can you provide the following statistics for this distribution: mean, median, mode, SD, Interquartile range?\n",
    "columns_list = [\n",
    "    'rsquared_adj'\n",
    "]\n",
    "df = engagment_sort_df[columns_list]\n",
    "display(nu.get_statistics(columns_list, df).applymap(lambda x: round(x, 1), na_action='ignore').T)"
   ]
  },
  {
   "cell_type": "markdown",
   "id": "fe7b3360-5d53-48ff-b471-99ae581886e3",
   "metadata": {},
   "source": [
    "\n",
    "## Did they get the correct tag applied?"
   ]
  },
  {
   "cell_type": "code",
   "execution_count": 8,
   "id": "66cad260-bb4f-4d54-8f63-f9924b9f8832",
   "metadata": {},
   "outputs": [
    {
     "name": "stdout",
     "output_type": "stream",
     "text": [
      "red ['voice_capture_message', 'voice_command_command_description', 'tag_selected_type', 'tag_applied_type', 'tag_discarded_type']\n",
      "yellow ['voice_capture_message', 'voice_command_command_description', 'tag_selected_type', 'tag_applied_type', 'tag_discarded_type']\n",
      "black ['voice_capture_message', 'voice_command_command_description', 'tag_selected_type', 'tag_applied_type', 'tag_discarded_type']\n",
      "gray ['voice_capture_message', 'voice_command_command_description', 'tag_selected_type', 'tag_applied_type', 'tag_discarded_type']\n",
      "green ['voice_capture_message', 'voice_command_command_description', 'tag_selected_type', 'tag_applied_type', 'tag_discarded_type']\n"
     ]
    }
   ],
   "source": [
    "\n",
    "# Investigate the presence of colors\n",
    "colors_list = [\n",
    "    'red',\n",
    "    'yellow',\n",
    "    'black',\n",
    "    'gray',\n",
    "    'green'\n",
    "]\n",
    "for color in colors_list:\n",
    "    srs = frvrs_logs_df.applymap(lambda x: color in str(x).lower(), na_action='ignore').sum()\n",
    "    columns_list = srs[srs != 0].index.tolist()\n",
    "    if columns_list:\n",
    "        print(color, columns_list)"
   ]
  },
  {
   "cell_type": "markdown",
   "id": "4be9ca22-19aa-47c3-b6af-3a76a9a14244",
   "metadata": {},
   "source": [
    "\n",
    "### Build a model to predict *tag_applied_type*"
   ]
  },
  {
   "cell_type": "code",
   "execution_count": 50,
   "id": "025cfb18-be70-4796-b77c-c2ba9d794263",
   "metadata": {},
   "outputs": [],
   "source": [
    "\n",
    "# Display a sample of the data frame, dropping columns with all NaN values and transposing it\n",
    "# display(frvrs_logs_df[mask_series].sample(min(4, frvrs_logs_df[mask_series].shape[0])).dropna(axis='columns', how='all').T)\n",
    "\n",
    "# Get the supervised learning and group by columns\n",
    "input_features = [\n",
    "    'patient_record_salt', 'patient_record_sort', 'patient_record_pulse', 'patient_record_breath', 'patient_record_hearing', 'patient_record_mood',\n",
    "    'patient_record_pose', 'injury_record_id', 'injury_record_required_procedure', 'injury_record_severity', 'injury_record_body_region',\n",
    "    'injury_record_injury_treated', 'injury_record_injury_treated_with_wrong_treatment', 'pulse_taken_pulse_name', 'patient_engaged_salt',\n",
    "    'patient_engaged_sort', 'patient_engaged_pulse', 'patient_engaged_breath', 'patient_engaged_hearing', 'patient_engaged_mood', 'patient_engaged_pose',\n",
    "    'injury_treated_id', 'injury_treated_required_procedure', 'injury_treated_severity', 'injury_treated_body_region', 'injury_treated_injury_treated',\n",
    "    'injury_treated_injury_treated_with_wrong_treatment', 'tool_applied_type', 'tool_applied_attachment_point', 'tool_applied_tool_location',\n",
    "    'tool_applied_data', 'tool_applied_sender'\n",
    "    ]\n",
    "target_variable = 'tag_applied_type'\n",
    "groupby_columns = ['session_uuid', 'time_group', 'patient_id']\n",
    "\n",
    "def one_hot_encode(df, columns):\n",
    "    \"\"\"\n",
    "    One-hot encodes the given columns in the given DataFrame.\n",
    "    \n",
    "    Args:\n",
    "        df: A DataFrame.\n",
    "        columns: A list of column names to encode.\n",
    "    \n",
    "    Returns:\n",
    "        A DataFrame with the encoded columns.\n",
    "    \"\"\"\n",
    "    \n",
    "    dummies = pd.get_dummies(df[columns], dummy_na=True)\n",
    "    df = pd.concat([df, dummies], axis='columns').drop(columns, axis='columns')\n",
    "    \n",
    "    return df"
   ]
  },
  {
   "cell_type": "markdown",
   "id": "957f2632-26c2-4b65-82c7-2d859c6ae7ed",
   "metadata": {},
   "source": [
    "\n",
    "#### Create a data frame with all the feature columns"
   ]
  },
  {
   "cell_type": "code",
   "execution_count": null,
   "id": "1546acd9-9a93-4584-ad72-ed9828ed10dc",
   "metadata": {},
   "outputs": [
    {
     "name": "stderr",
     "output_type": "stream",
     "text": [
      " 35%|███▌      | 1735/4938 [2:33:21<21:10:48, 23.81s/it]"
     ]
    }
   ],
   "source": [
    "\n",
    "from tqdm import tqdm\n",
    "\n",
    "# Keep track of the target variable and input features columns and the input features columns prepended with each of the action types\n",
    "columns_list = [target_variable] + input_features\n",
    "renamed_columns_list = [target_variable] + [action_type.lower() + '_' + cn for cn in input_features for action_type in frvrs_logs_df.action_type.unique()]\n",
    "\n",
    "# Group each patient, run, and session with non-null tag applied types\n",
    "tag_mask_series = ~frvrs_logs_df.tag_applied_type.isnull()\n",
    "gb = frvrs_logs_df[tag_mask_series].sort_values(['elapsed_time']).groupby(groupby_columns)\n",
    "\n",
    "# Initialize (if necessary) an empty data frame to store patient history data and iterate over the patient groups\n",
    "if nu.pickle_exists('patient_history_df'): patient_history_df = nu.load_object('patient_history_df')\n",
    "else: patient_history_df = pd.DataFrame([], columns=renamed_columns_list)\n",
    "for (session_uuid, time_group, patient_id), df1 in tqdm(gb, total=gb.size().shape[0]):\n",
    "    \n",
    "    # Create a mask for the specific patient\n",
    "    patient_mask_series = True\n",
    "    for cn in groupby_columns: patient_mask_series &= (frvrs_logs_df[cn] == eval(cn))\n",
    "\n",
    "    # Create a mask for the patient's entire history, excluding the rows with applied tag types\n",
    "    mask_series = ~tag_mask_series & patient_mask_series\n",
    "\n",
    "    # If the patient's history is empty, create a new data frame with the patient's data\n",
    "    if not patient_history_df[mask_series].shape[0]:\n",
    "\n",
    "        # Expand the data frame to the patient's entire history\n",
    "        df1 = frvrs_logs_df[patient_mask_series].sort_values('elapsed_time')\n",
    "        \n",
    "        # Initialize an empty DataFrame for each action type and loop over the action type groups\n",
    "        action_type_df = pd.DataFrame([], columns=renamed_columns_list)\n",
    "        gb1 = df1.groupby('action_type')\n",
    "        for action_type, df in gb1:\n",
    "            \n",
    "            # Rename the columns of the data frame to match the desired format and fill in any missing values using the forward fill and backward fill methods\n",
    "            df = df[columns_list].rename(columns={cn: action_type.lower() + '_' + cn for cn in input_features}).fillna(method='ffill').fillna(method='bfill')\n",
    "\n",
    "            # Concatenate the data frame to the action_type_df data frame\n",
    "            action_type_df = pd.concat([action_type_df, df], axis='index')\n",
    "        \n",
    "        # Rename the columns of the action_type_df data frame to match the desired format, and fill in any missing values using the forward fill and backward fill methods\n",
    "        df = action_type_df[renamed_columns_list].fillna(method='ffill').fillna(method='bfill')\n",
    "\n",
    "        # Concatenate the data frame to the patient_history_df data frame\n",
    "        patient_history_df = pd.concat([patient_history_df, df], axis='index')\n",
    "        \n",
    "        # Store the patient_history_df data frame\n",
    "        nu.store_objects(patient_history_df=patient_history_df, verbose=False)"
   ]
  },
  {
   "cell_type": "code",
   "execution_count": null,
   "id": "55a2dedd-7b24-45b4-bc4f-8544d9af29fa",
   "metadata": {},
   "outputs": [],
   "source": [
    "\n",
    "print(patient_history_df.shape)\n",
    "sorted(patient_history_df.columns)"
   ]
  },
  {
   "cell_type": "code",
   "execution_count": null,
   "id": "2be3ffd4-d6ec-4289-aeb5-fa81b4676dcb",
   "metadata": {},
   "outputs": [],
   "source": [
    "\n",
    "df = patient_history_df.sample(min(4, patient_history_df.shape[0])).dropna(axis='columns', how='all').T\n",
    "display(df.sample(min(20, df.shape[0])).sort_index())"
   ]
  },
  {
   "cell_type": "markdown",
   "id": "11f8d010-d905-45b0-95de-958f41a28046",
   "metadata": {},
   "source": [
    "\n",
    "#### One-hot encode it"
   ]
  },
  {
   "cell_type": "code",
   "execution_count": null,
   "id": "7fff551d-e08a-4e88-9e1b-037abd0a420a",
   "metadata": {},
   "outputs": [],
   "source": [
    "\n",
    "# One-hot encode the input features columns in the patient history data frame\n",
    "ascii_regex = re.compile('[^a-z0-9]+')\n",
    "one_hot_encode_df = one_hot_encode(patient_history_df, [action_type.lower() + '_' + cn for cn in input_features for action_type in frvrs_logs_df.action_type.unique()])\n",
    "one_hot_encode_df = one_hot_encode_df.rename(columns={cn: ascii_regex.sub('_', cn.lower()).strip('_') for cn in one_hot_encode_df.columns})\n",
    "columns_list = [cn for cn in one_hot_encode_df.columns if any(map(lambda x: cn.endswith(x), ['_null', '_nan']))]\n",
    "print(columns_list)\n",
    "# display(one_hot_encode_df[columns_list].sample(min(4, one_hot_encode_df.shape[0])).dropna(axis='columns', how='all').T)"
   ]
  },
  {
   "cell_type": "code",
   "execution_count": null,
   "id": "b0cabcaf-b349-4ad1-ab18-d41bec59d35e",
   "metadata": {},
   "outputs": [],
   "source": [
    "\n",
    "one_hot_encode_df.shape, one_hot_encode_df.dropna(axis='index', how='any').shape"
   ]
  },
  {
   "cell_type": "code",
   "execution_count": null,
   "id": "2e26f101-f817-4243-b041-621ab2988274",
   "metadata": {},
   "outputs": [],
   "source": [
    "\n",
    "# Analyze the input features\n",
    "column_descriptions_df = nu.get_column_descriptions(one_hot_encode_df)\n",
    "# mask_series = column_descriptions_df.min_value.isnull()\n",
    "display(column_descriptions_df.sample(min(20, column_descriptions_df.shape[0])).sort_index())"
   ]
  },
  {
   "cell_type": "markdown",
   "id": "08a6aae8-bd75-405b-adc7-76448ffd3ee5",
   "metadata": {},
   "source": [
    "\n",
    "#### Train a classifier on it"
   ]
  },
  {
   "cell_type": "code",
   "execution_count": null,
   "id": "133d8740-5942-4a7f-af82-300b9eca020b",
   "metadata": {},
   "outputs": [],
   "source": [
    "\n",
    "# Train a classifier on the patient history data frame\n",
    "from sklearn.linear_model import LogisticRegression\n",
    "from sklearn.ensemble import RandomForestClassifier, HistGradientBoostingClassifier\n",
    "from sklearn.model_selection import train_test_split\n",
    "import numpy as np\n",
    "\n",
    "# Split the data into training and test sets\n",
    "df = one_hot_encode_df.dropna(axis='index', how='any')\n",
    "X_train, X_test, y_train, y_test = train_test_split(\n",
    "    df.drop('tag_applied_type', axis='columns'),\n",
    "    df.tag_applied_type,\n",
    "    test_size=0.25,\n",
    "    random_state=42\n",
    ")\n",
    "\n",
    "# Convert the uint8 features to floats\n",
    "X_train = X_train.astype('float32')\n",
    "X_test = X_test.astype('float32')"
   ]
  },
  {
   "cell_type": "code",
   "execution_count": null,
   "id": "c67b27a5-4746-4199-8eaa-de5a7b34dcaf",
   "metadata": {},
   "outputs": [],
   "source": [
    "\n",
    "# Create a random forest classifier\n",
    "rf_classifier = RandomForestClassifier()\n",
    "rf_classifier.fit(X_train, y_train)\n",
    "\n",
    "# Evaluate the classifier on the test set\n",
    "y_pred = rf_classifier.predict(X_test)\n",
    "rf_accuracy = np.mean(y_pred == y_test)\n",
    "\n",
    "# Calculate the feature importances\n",
    "feature_importances = rf_classifier.feature_importances_\n",
    "\n",
    "# Create a data frame to store the feature names and feature importances\n",
    "feature_importances_df = pd.DataFrame()\n",
    "feature_importances_df['feature_name'] = df.drop('tag_applied_type', axis='columns').columns\n",
    "feature_importances_df['feature_importance'] = feature_importances"
   ]
  },
  {
   "cell_type": "code",
   "execution_count": null,
   "id": "9e6af298-eedc-499f-aebf-64d6d9beb1fe",
   "metadata": {},
   "outputs": [],
   "source": [
    "\n",
    "# Train a logistic regression classifier\n",
    "lr_classifier = LogisticRegression()\n",
    "lr_classifier.fit(X_train, y_train)\n",
    "\n",
    "# Evaluate the classifier on the test set\n",
    "y_pred = lr_classifier.predict(X_test)\n",
    "lr_accuracy = np.mean(y_pred == y_test)\n",
    "\n",
    "# Get the coefficients of the logistic regression model\n",
    "feature_coefficients = lr_classifier.coef_[0]\n",
    "\n",
    "# Create a data frame to store the feature names and feature coefficients\n",
    "feature_coefficients_df = pd.DataFrame()\n",
    "feature_coefficients_df['feature_name'] = df.drop('tag_applied_type', axis='columns').columns\n",
    "feature_coefficients_df['feature_coefficient'] = feature_coefficients\n",
    "feature_coefficients_df['absolute_coefficient'] = feature_coefficients_df.feature_coefficient.map(lambda x: abs(x))"
   ]
  },
  {
   "cell_type": "code",
   "execution_count": null,
   "id": "c5b40617-2d8a-4fe3-993f-6b45f21e0913",
   "metadata": {},
   "outputs": [],
   "source": [
    "\n",
    "# Train a histogram-based gradient boosting classifier\n",
    "hgb_classifier = HistGradientBoostingClassifier()\n",
    "hgb_classifier.fit(X_train, y_train)\n",
    "\n",
    "# Evaluate the classifier on the test set\n",
    "y_pred = hgb_classifier.predict(X_test)\n",
    "hgb_accuracy = np.mean(y_pred == y_test)"
   ]
  },
  {
   "cell_type": "markdown",
   "id": "8e8d9df6-a45c-4362-b153-222e4fd1919c",
   "metadata": {},
   "source": [
    "\n",
    "#### Evaluate it and its inference model"
   ]
  },
  {
   "cell_type": "code",
   "execution_count": null,
   "id": "07e30eae-8db2-4261-99fa-112b34abe46f",
   "metadata": {},
   "outputs": [],
   "source": [
    "\n",
    "# Print the accuracy\n",
    "print('RF Accuracy:', rf_accuracy)\n",
    "print('LR Accuracy:', lr_accuracy)\n",
    "print('HGB Accuracy:', hgb_accuracy)\n",
    "\n",
    "# Print the data frames\n",
    "display(feature_importances_df.sort_values('feature_importance', ascending=False).head(10))\n",
    "columns_list = ['feature_name', 'feature_coefficient']\n",
    "display(feature_coefficients_df.sort_values('absolute_coefficient', ascending=False)[columns_list].head(10))"
   ]
  },
  {
   "cell_type": "code",
   "execution_count": null,
   "id": "ee33f3d5-9778-4c85-bfae-8456908b9196",
   "metadata": {},
   "outputs": [],
   "source": [
    "\n",
    "input_encode_df = one_hot_encode_df.sample(1)\n",
    "input_encode_idx = input_encode_df.index.tolist()[0]\n",
    "print(input_encode_df.shape)\n",
    "mask_series = (input_encode_df.T[input_encode_idx] == 0)\n",
    "df = input_encode_df.T[~mask_series]\n",
    "enc_idx_list = df.index.tolist()\n",
    "display(df)"
   ]
  },
  {
   "cell_type": "code",
   "execution_count": null,
   "id": "ae92427f-d245-487e-a32a-a5a336c2bf03",
   "metadata": {},
   "outputs": [],
   "source": [
    "\n",
    "mask_series = (frvrs_logs_df.index == input_encode_idx)\n",
    "df = frvrs_logs_df[mask_series]\n",
    "print(df.shape)\n",
    "cn_set = set()\n",
    "for cn in frvrs_logs_df.columns:\n",
    "    for enc_idx in enc_idx_list:\n",
    "        if enc_idx.startswith(cn): cn_set.add(cn)\n",
    "columns_list = ['tag_applied_type'] + list(cn_set)\n",
    "display(df[columns_list].T)"
   ]
  },
  {
   "cell_type": "code",
   "execution_count": null,
   "id": "c3cb1e8e-cbf1-466b-aef7-c128334578ba",
   "metadata": {},
   "outputs": [],
   "source": [
    "\n",
    "mask_series = (patient_history_df.index == input_encode_idx)\n",
    "df = patient_history_df[mask_series]\n",
    "print(df.shape)\n",
    "cn_set = set()\n",
    "for cn in patient_history_df.columns:\n",
    "    for enc_idx in enc_idx_list:\n",
    "        if enc_idx.startswith(cn): cn_set.add(cn)\n",
    "columns_list = ['tag_applied_type'] + list(cn_set - set(['tag_applied_type']))\n",
    "display(df[columns_list].T)"
   ]
  },
  {
   "cell_type": "code",
   "execution_count": null,
   "id": "51a42c47-50e1-434e-a61b-adc38cd25dbd",
   "metadata": {},
   "outputs": [],
   "source": [
    "\n",
    "# Convert the input features to a NumPy array\n",
    "input_features_array = np.array(input_encode_df.drop('tag_applied_type', axis='columns').values)\n",
    "actual_tag_applied_type = input_encode_df.tag_applied_type.squeeze()"
   ]
  },
  {
   "cell_type": "code",
   "execution_count": null,
   "id": "fb09dbd8-d660-40c7-afd1-71396207a9c6",
   "metadata": {},
   "outputs": [],
   "source": [
    "\n",
    "# Predict the applied tag type\n",
    "predicted_tag_applied_type = sorted(\n",
    "    [(c, p) for c, p in zip(lr_classifier.classes_, lr_classifier.predict_proba(input_features_array)[0])], key=lambda x: x[1], reverse=True\n",
    ")[0][0]\n",
    "print(f'LR: predicted: {predicted_tag_applied_type}, actual: {actual_tag_applied_type}')"
   ]
  },
  {
   "cell_type": "code",
   "execution_count": null,
   "id": "44e6e809-af17-41c0-a224-a9cc281342bc",
   "metadata": {},
   "outputs": [],
   "source": [
    "\n",
    "# Predict the applied tag type\n",
    "predicted_tag_applied_type = sorted(\n",
    "    [(c, p) for c, p in zip(rf_classifier.classes_, rf_classifier.predict_proba(input_features_array)[0])], key=lambda x: x[1], reverse=True\n",
    ")[0][0]\n",
    "print(f'RF: predicted: {predicted_tag_applied_type}, actual: {actual_tag_applied_type}')"
   ]
  },
  {
   "cell_type": "code",
   "execution_count": null,
   "id": "0ed145e9-2a3d-44a9-80fe-aeb2cd7c63a0",
   "metadata": {},
   "outputs": [],
   "source": [
    "\n",
    "# Predict the applied tag type\n",
    "predicted_tag_applied_type = sorted(\n",
    "    [(c, p) for c, p in zip(hgb_classifier.classes_, hgb_classifier.predict_proba(input_features_array)[0])], key=lambda x: x[1], reverse=True\n",
    ")[0][0]\n",
    "print(f'HGB: predicted: {predicted_tag_applied_type}, actual: {actual_tag_applied_type}')"
   ]
  },
  {
   "cell_type": "markdown",
   "id": "8e10d8a2-a7c9-4314-920b-1b3063d61340",
   "metadata": {},
   "source": [
    "\n",
    "## How many patients did they get right? Should be percentage per responders\r\n"
   ]
  },
  {
   "cell_type": "markdown",
   "id": "25598d51-4266-4ff8-a60b-63e42f879f2b",
   "metadata": {},
   "source": [
    "\n",
    "### Break down accuracy for each responder by tag\n"
   ]
  },
  {
   "cell_type": "markdown",
   "id": "ca893d2f-4086-4798-8d8e-2fa701f188e5",
   "metadata": {},
   "source": [
    "\n",
    "## How many responders did the right order? Should be a percentage of all responders\n"
   ]
  },
  {
   "cell_type": "markdown",
   "id": "14ad5290-4ecf-4191-ba42-fc9396b39a47",
   "metadata": {},
   "source": [
    "\n",
    "\n",
    "## Did they get it right?"
   ]
  },
  {
   "cell_type": "code",
   "execution_count": 4,
   "id": "42db5530-54d2-40df-8cf5-73e724bda76b",
   "metadata": {},
   "outputs": [
    {
     "name": "stdout",
     "output_type": "stream",
     "text": [
      "\n",
      "injury_record_injury_treated_with_wrong_treatment\n"
     ]
    },
    {
     "data": {
      "text/plain": [
       "[nan, False]"
      ]
     },
     "metadata": {},
     "output_type": "display_data"
    },
    {
     "name": "stdout",
     "output_type": "stream",
     "text": [
      "\n",
      "injury_record_injury_treated\n"
     ]
    },
    {
     "data": {
      "text/plain": [
       "[nan, False]"
      ]
     },
     "metadata": {},
     "output_type": "display_data"
    },
    {
     "name": "stdout",
     "output_type": "stream",
     "text": [
      "\n",
      "injury_treated_injury_treated_with_wrong_treatment\n"
     ]
    },
    {
     "data": {
      "text/plain": [
       "[nan, False, True]"
      ]
     },
     "metadata": {},
     "output_type": "display_data"
    },
    {
     "name": "stdout",
     "output_type": "stream",
     "text": [
      "\n",
      "injury_treated_injury_treated\n"
     ]
    },
    {
     "data": {
      "text/plain": [
       "[nan, True, False]"
      ]
     },
     "metadata": {},
     "output_type": "display_data"
    }
   ],
   "source": [
    "\n",
    "# Show all combinations of the treated/wrongly columns\n",
    "columns_list = [\n",
    "    'injury_record_injury_treated_with_wrong_treatment', 'injury_record_injury_treated',\n",
    "    'injury_treated_injury_treated_with_wrong_treatment', 'injury_treated_injury_treated'\n",
    "]\n",
    "df = frvrs_logs_df[columns_list].drop_duplicates()\n",
    "for cn in columns_list:\n",
    "    print()\n",
    "    print(cn)\n",
    "    display(df[cn].unique().tolist())\n",
    "    # mask_series = ~frvrs_logs_df[cn].isnull()\n",
    "    # display(frvrs_logs_df[mask_series].sample(min(4, frvrs_logs_df[mask_series].shape[0])).dropna(axis='columns', how='all').T)"
   ]
  },
  {
   "cell_type": "code",
   "execution_count": 5,
   "id": "769bd829-2309-4533-bbb2-e2ee6c1320cc",
   "metadata": {},
   "outputs": [],
   "source": [
    "\n",
    "if nu.pickle_exists('patient_count_df'):\n",
    "    patient_count_df = nu.load_object('patient_count_df')\n",
    "else:\n",
    "    \n",
    "    # Create a list of the columns to group by\n",
    "    groupby_columns = ['session_uuid', 'time_group', 'patient_id']\n",
    "    \n",
    "    # Group the frvrs_logs_df dataframe by the groupby columns\n",
    "    gb = frvrs_logs_df.sort_values(['elapsed_time']).groupby(groupby_columns)\n",
    "    \n",
    "    # Initialize an empty list to store rows\n",
    "    rows_list = []\n",
    "    \n",
    "    # Iterate over the grouped dataframe\n",
    "    for (session_uuid, time_group, patient_id), df1 in gb:\n",
    "        \n",
    "        # Get the logger version for the current group\n",
    "        logger_version = df1.logger_version.unique().item()\n",
    "    \n",
    "        # Iterate over the possible values for the two columns\n",
    "        for wrong in [True, False]:\n",
    "            for eventually in [True, False]:\n",
    "                \n",
    "                # Create a dictionary to store the results for the current group\n",
    "                row_dict = {}\n",
    "                \n",
    "                # Add the logger version to the row dictionary\n",
    "                row_dict['logger_version'] = logger_version\n",
    "                \n",
    "                # Populate the row_dict with values from the groupby_columns\n",
    "                for cn in groupby_columns: row_dict[cn] = eval(cn)\n",
    "                \n",
    "                # Add the current values of the two columns to the row dictionary\n",
    "                row_dict['injury_treated_injury_treated_with_wrong_treatment'] = wrong\n",
    "                row_dict['injury_treated_injury_treated'] = eventually\n",
    "    \n",
    "                # Initialize a filter rows to add conditions via a loop\n",
    "                mask_series = True\n",
    "    \n",
    "                # Add conditions for each column in groupby_columns\n",
    "                for cn in groupby_columns: mask_series &= (frvrs_logs_df[cn] == eval(cn))\n",
    "                \n",
    "                # Add the two columns to the mask series\n",
    "                mask_series &= (frvrs_logs_df.injury_treated_injury_treated_with_wrong_treatment == wrong)\n",
    "                mask_series &= (frvrs_logs_df.injury_treated_injury_treated == eventually)\n",
    "    \n",
    "                # Calculate the unique patient count for the filtered rows\n",
    "                row_dict['patient_count'] = frvrs_logs_df[mask_series].patient_id.unique().shape[0]\n",
    "    \n",
    "                # Add the row dictionary to the rows list\n",
    "                rows_list.append(row_dict)\n",
    "    \n",
    "    # Create a DataFrame from the list of rows\n",
    "    patient_count_df = DataFrame(rows_list)\n",
    "    nu.store_objects(patient_count_df=patient_count_df)"
   ]
  },
  {
   "cell_type": "code",
   "execution_count": 6,
   "id": "e4343f03-c5bf-445e-9b2e-dc2e71d78dde",
   "metadata": {},
   "outputs": [
    {
     "data": {
      "text/html": [
       "<div>\n",
       "<style scoped>\n",
       "    .dataframe tbody tr th:only-of-type {\n",
       "        vertical-align: middle;\n",
       "    }\n",
       "\n",
       "    .dataframe tbody tr th {\n",
       "        vertical-align: top;\n",
       "    }\n",
       "\n",
       "    .dataframe thead th {\n",
       "        text-align: right;\n",
       "    }\n",
       "</style>\n",
       "<table border=\"1\" class=\"dataframe\">\n",
       "  <thead>\n",
       "    <tr style=\"text-align: right;\">\n",
       "      <th></th>\n",
       "      <th>injury_treated_injury_treated_with_wrong_treatment</th>\n",
       "      <th>injury_treated_injury_treated</th>\n",
       "    </tr>\n",
       "  </thead>\n",
       "  <tbody>\n",
       "    <tr>\n",
       "      <th>4</th>\n",
       "      <td>True</td>\n",
       "      <td>True</td>\n",
       "    </tr>\n",
       "    <tr>\n",
       "      <th>5</th>\n",
       "      <td>True</td>\n",
       "      <td>False</td>\n",
       "    </tr>\n",
       "    <tr>\n",
       "      <th>54</th>\n",
       "      <td>False</td>\n",
       "      <td>True</td>\n",
       "    </tr>\n",
       "  </tbody>\n",
       "</table>\n",
       "</div>"
      ],
      "text/plain": [
       "    injury_treated_injury_treated_with_wrong_treatment  \\\n",
       "4                                                True    \n",
       "5                                                True    \n",
       "54                                              False    \n",
       "\n",
       "    injury_treated_injury_treated  \n",
       "4                            True  \n",
       "5                           False  \n",
       "54                           True  "
      ]
     },
     "metadata": {},
     "output_type": "display_data"
    },
    {
     "data": {
      "text/html": [
       "<div>\n",
       "<style scoped>\n",
       "    .dataframe tbody tr th:only-of-type {\n",
       "        vertical-align: middle;\n",
       "    }\n",
       "\n",
       "    .dataframe tbody tr th {\n",
       "        vertical-align: top;\n",
       "    }\n",
       "\n",
       "    .dataframe thead th {\n",
       "        text-align: right;\n",
       "    }\n",
       "</style>\n",
       "<table border=\"1\" class=\"dataframe\">\n",
       "  <thead>\n",
       "    <tr style=\"text-align: right;\">\n",
       "      <th></th>\n",
       "      <th>17590</th>\n",
       "      <th>14166</th>\n",
       "      <th>36260</th>\n",
       "      <th>38154</th>\n",
       "    </tr>\n",
       "  </thead>\n",
       "  <tbody>\n",
       "    <tr>\n",
       "      <th>logger_version</th>\n",
       "      <td>1.3</td>\n",
       "      <td>1.0</td>\n",
       "      <td>1.3</td>\n",
       "      <td>1.3</td>\n",
       "    </tr>\n",
       "    <tr>\n",
       "      <th>session_uuid</th>\n",
       "      <td>71197277-ba36-4a82-9ae0-0016e7756665</td>\n",
       "      <td>5c8b0274-379c-40ca-b6ff-b846f9e14ad5</td>\n",
       "      <td>eb641af4-13da-4e13-a5dd-02eb0e7e6c23</td>\n",
       "      <td>f7d9738a-35c1-4af0-8e98-5bf3a1cff310</td>\n",
       "    </tr>\n",
       "    <tr>\n",
       "      <th>time_group</th>\n",
       "      <td>1</td>\n",
       "      <td>2</td>\n",
       "      <td>2</td>\n",
       "      <td>2</td>\n",
       "    </tr>\n",
       "    <tr>\n",
       "      <th>patient_id</th>\n",
       "      <td>Mike_3 Root</td>\n",
       "      <td>Gloria_8 Root</td>\n",
       "      <td>Mike_5 Root</td>\n",
       "      <td>Mike_5 Root</td>\n",
       "    </tr>\n",
       "    <tr>\n",
       "      <th>injury_treated_injury_treated_with_wrong_treatment</th>\n",
       "      <td>False</td>\n",
       "      <td>False</td>\n",
       "      <td>True</td>\n",
       "      <td>False</td>\n",
       "    </tr>\n",
       "    <tr>\n",
       "      <th>injury_treated_injury_treated</th>\n",
       "      <td>True</td>\n",
       "      <td>True</td>\n",
       "      <td>True</td>\n",
       "      <td>True</td>\n",
       "    </tr>\n",
       "    <tr>\n",
       "      <th>patient_count</th>\n",
       "      <td>1</td>\n",
       "      <td>1</td>\n",
       "      <td>1</td>\n",
       "      <td>1</td>\n",
       "    </tr>\n",
       "  </tbody>\n",
       "</table>\n",
       "</div>"
      ],
      "text/plain": [
       "                                                                                   17590  \\\n",
       "logger_version                                                                       1.3   \n",
       "session_uuid                                        71197277-ba36-4a82-9ae0-0016e7756665   \n",
       "time_group                                                                             1   \n",
       "patient_id                                                                   Mike_3 Root   \n",
       "injury_treated_injury_treated_with_wrong_treatment                                 False   \n",
       "injury_treated_injury_treated                                                       True   \n",
       "patient_count                                                                          1   \n",
       "\n",
       "                                                                                   14166  \\\n",
       "logger_version                                                                       1.0   \n",
       "session_uuid                                        5c8b0274-379c-40ca-b6ff-b846f9e14ad5   \n",
       "time_group                                                                             2   \n",
       "patient_id                                                                 Gloria_8 Root   \n",
       "injury_treated_injury_treated_with_wrong_treatment                                 False   \n",
       "injury_treated_injury_treated                                                       True   \n",
       "patient_count                                                                          1   \n",
       "\n",
       "                                                                                   36260  \\\n",
       "logger_version                                                                       1.3   \n",
       "session_uuid                                        eb641af4-13da-4e13-a5dd-02eb0e7e6c23   \n",
       "time_group                                                                             2   \n",
       "patient_id                                                                   Mike_5 Root   \n",
       "injury_treated_injury_treated_with_wrong_treatment                                  True   \n",
       "injury_treated_injury_treated                                                       True   \n",
       "patient_count                                                                          1   \n",
       "\n",
       "                                                                                   38154  \n",
       "logger_version                                                                       1.3  \n",
       "session_uuid                                        f7d9738a-35c1-4af0-8e98-5bf3a1cff310  \n",
       "time_group                                                                             2  \n",
       "patient_id                                                                   Mike_5 Root  \n",
       "injury_treated_injury_treated_with_wrong_treatment                                 False  \n",
       "injury_treated_injury_treated                                                       True  \n",
       "patient_count                                                                          1  "
      ]
     },
     "metadata": {},
     "output_type": "display_data"
    },
    {
     "data": {
      "text/html": [
       "<div>\n",
       "<style scoped>\n",
       "    .dataframe tbody tr th:only-of-type {\n",
       "        vertical-align: middle;\n",
       "    }\n",
       "\n",
       "    .dataframe tbody tr th {\n",
       "        vertical-align: top;\n",
       "    }\n",
       "\n",
       "    .dataframe thead th {\n",
       "        text-align: right;\n",
       "    }\n",
       "</style>\n",
       "<table border=\"1\" class=\"dataframe\">\n",
       "  <thead>\n",
       "    <tr style=\"text-align: right;\">\n",
       "      <th></th>\n",
       "      <th></th>\n",
       "      <th>patient_count</th>\n",
       "    </tr>\n",
       "    <tr>\n",
       "      <th>injury_treated_injury_treated_with_wrong_treatment</th>\n",
       "      <th>injury_treated_injury_treated</th>\n",
       "      <th></th>\n",
       "    </tr>\n",
       "  </thead>\n",
       "  <tbody>\n",
       "    <tr>\n",
       "      <th>False</th>\n",
       "      <th>True</th>\n",
       "      <td>2971</td>\n",
       "    </tr>\n",
       "    <tr>\n",
       "      <th rowspan=\"2\" valign=\"top\">True</th>\n",
       "      <th>False</th>\n",
       "      <td>503</td>\n",
       "    </tr>\n",
       "    <tr>\n",
       "      <th>True</th>\n",
       "      <td>373</td>\n",
       "    </tr>\n",
       "  </tbody>\n",
       "</table>\n",
       "</div>"
      ],
      "text/plain": [
       "                                                                                  patient_count\n",
       "injury_treated_injury_treated_with_wrong_treatment injury_treated_injury_treated               \n",
       "False                                              True                                    2971\n",
       "True                                               False                                    503\n",
       "                                                   True                                     373"
      ]
     },
     "metadata": {},
     "output_type": "display_data"
    },
    {
     "data": {
      "text/html": [
       "<div>\n",
       "<style scoped>\n",
       "    .dataframe tbody tr th:only-of-type {\n",
       "        vertical-align: middle;\n",
       "    }\n",
       "\n",
       "    .dataframe tbody tr th {\n",
       "        vertical-align: top;\n",
       "    }\n",
       "\n",
       "    .dataframe thead th {\n",
       "        text-align: right;\n",
       "    }\n",
       "</style>\n",
       "<table border=\"1\" class=\"dataframe\">\n",
       "  <thead>\n",
       "    <tr style=\"text-align: right;\">\n",
       "      <th></th>\n",
       "      <th>patient_count</th>\n",
       "    </tr>\n",
       "    <tr>\n",
       "      <th>injury_treated_injury_treated_with_wrong_treatment</th>\n",
       "      <th></th>\n",
       "    </tr>\n",
       "  </thead>\n",
       "  <tbody>\n",
       "    <tr>\n",
       "      <th>False</th>\n",
       "      <td>2971</td>\n",
       "    </tr>\n",
       "    <tr>\n",
       "      <th>True</th>\n",
       "      <td>373</td>\n",
       "    </tr>\n",
       "  </tbody>\n",
       "</table>\n",
       "</div>"
      ],
      "text/plain": [
       "                                                    patient_count\n",
       "injury_treated_injury_treated_with_wrong_treatment               \n",
       "False                                                        2971\n",
       "True                                                          373"
      ]
     },
     "metadata": {},
     "output_type": "display_data"
    }
   ],
   "source": [
    "\n",
    "# Get the distribution of wrong treatments\n",
    "mask_series = (patient_count_df.patient_count > 0)\n",
    "columns_list = [\n",
    "    'injury_treated_injury_treated_with_wrong_treatment', 'injury_treated_injury_treated'\n",
    "]\n",
    "df = patient_count_df[mask_series]\n",
    "display(df[columns_list].drop_duplicates())\n",
    "display(df.sample(min(4, patient_count_df[mask_series].shape[0])).dropna(axis='columns', how='all').T)\n",
    "display(df.groupby(columns_list).sum().patient_count.to_frame())\n",
    "mask_series = (df.injury_treated_injury_treated == True)\n",
    "display(df[mask_series].groupby('injury_treated_injury_treated_with_wrong_treatment').sum().patient_count.to_frame())"
   ]
  },
  {
   "cell_type": "code",
   "execution_count": 7,
   "id": "b8949ce7-8558-4975-8318-029fce379d29",
   "metadata": {},
   "outputs": [],
   "source": [
    "\n",
    "if nu.pickle_exists('rightly_treated_count_df'):\n",
    "    rightly_treated_count_df = nu.load_object('rightly_treated_count_df')\n",
    "else:\n",
    "    \n",
    "    # Get the distribution of right treatments\n",
    "    groupby_columns = ['session_uuid', 'time_group']\n",
    "    \n",
    "    # Group the patient count data frame by the groupby columns\n",
    "    gb = patient_count_df.groupby(groupby_columns)\n",
    "    \n",
    "    # Initialize an empty list to store rows\n",
    "    rows_list = []\n",
    "    \n",
    "    # Iterate over the grouped dataframe\n",
    "    for (session_uuid, time_group), df1 in gb:\n",
    "        \n",
    "        # Create a dictionary to store the results for the current group\n",
    "        row_dict = {}\n",
    "        \n",
    "        # Get the logger version for the current group\n",
    "        logger_version = df1.logger_version.unique().item()\n",
    "        \n",
    "        # Add the logger version to the row dictionary\n",
    "        row_dict['logger_version'] = logger_version\n",
    "        \n",
    "        # Populate the row_dict with values from the groupby_columns\n",
    "        for cn in groupby_columns: row_dict[cn] = eval(cn)\n",
    "        \n",
    "        # Count all the patients up\n",
    "        mask_series = True\n",
    "        for cn in groupby_columns: mask_series &= (frvrs_logs_df[cn] == eval(cn))\n",
    "        row_dict['patient_count'] = frvrs_logs_df[mask_series].patient_id.unique().shape[0]\n",
    "        \n",
    "        # Create a filter to get all treated patients and count them up\n",
    "        mask_series = (df1.injury_treated_injury_treated == True)\n",
    "        row_dict['treated_count'] = df1[mask_series].patient_count.sum()\n",
    "        \n",
    "        # Create a filter to get all rightly treated patients and count them up\n",
    "        mask_series = (df1.injury_treated_injury_treated == True) & (df1.injury_treated_injury_treated_with_wrong_treatment == False)\n",
    "        row_dict['rightly_treated_count'] = df1[mask_series].patient_count.sum()\n",
    "        \n",
    "        # Create a filter to get all wrongly treated patients and count them up\n",
    "        mask_series = (df1.injury_treated_injury_treated_with_wrong_treatment == True)\n",
    "        row_dict['mistaken_attempts_count'] = df1[mask_series].patient_count.sum()\n",
    "        \n",
    "        # Add the row dictionary to the rows list\n",
    "        rows_list.append(row_dict)\n",
    "    \n",
    "    # Create a DataFrame from the list of rows\n",
    "    rightly_treated_count_df = DataFrame(rows_list)\n",
    "    nu.store_objects(rightly_treated_count_df=rightly_treated_count_df)"
   ]
  },
  {
   "cell_type": "code",
   "execution_count": 8,
   "id": "2c247d6c-461a-40ce-bd41-c9352812e3de",
   "metadata": {},
   "outputs": [
    {
     "data": {
      "text/html": [
       "<div>\n",
       "<style scoped>\n",
       "    .dataframe tbody tr th:only-of-type {\n",
       "        vertical-align: middle;\n",
       "    }\n",
       "\n",
       "    .dataframe tbody tr th {\n",
       "        vertical-align: top;\n",
       "    }\n",
       "\n",
       "    .dataframe thead th {\n",
       "        text-align: right;\n",
       "    }\n",
       "</style>\n",
       "<table border=\"1\" class=\"dataframe\">\n",
       "  <thead>\n",
       "    <tr style=\"text-align: right;\">\n",
       "      <th></th>\n",
       "      <th>937</th>\n",
       "      <th>381</th>\n",
       "      <th>245</th>\n",
       "      <th>202</th>\n",
       "    </tr>\n",
       "  </thead>\n",
       "  <tbody>\n",
       "    <tr>\n",
       "      <th>logger_version</th>\n",
       "      <td>1.0</td>\n",
       "      <td>1.3</td>\n",
       "      <td>1.3</td>\n",
       "      <td>1.0</td>\n",
       "    </tr>\n",
       "    <tr>\n",
       "      <th>session_uuid</th>\n",
       "      <td>e2ddf563-3583-404c-917a-8eb7bec38471</td>\n",
       "      <td>5d916938-e0d3-47ee-8f55-12bf12283ee1</td>\n",
       "      <td>33f3d2d4-49b4-43cf-80d4-cd7d5993aca4</td>\n",
       "      <td>2d511693-6144-45ee-89df-aba0ca629c84</td>\n",
       "    </tr>\n",
       "    <tr>\n",
       "      <th>time_group</th>\n",
       "      <td>2</td>\n",
       "      <td>1</td>\n",
       "      <td>1</td>\n",
       "      <td>1</td>\n",
       "    </tr>\n",
       "    <tr>\n",
       "      <th>patient_count</th>\n",
       "      <td>12</td>\n",
       "      <td>11</td>\n",
       "      <td>13</td>\n",
       "      <td>13</td>\n",
       "    </tr>\n",
       "    <tr>\n",
       "      <th>treated_count</th>\n",
       "      <td>5</td>\n",
       "      <td>1</td>\n",
       "      <td>4</td>\n",
       "      <td>4</td>\n",
       "    </tr>\n",
       "    <tr>\n",
       "      <th>rightly_treated_count</th>\n",
       "      <td>5</td>\n",
       "      <td>1</td>\n",
       "      <td>3</td>\n",
       "      <td>3</td>\n",
       "    </tr>\n",
       "    <tr>\n",
       "      <th>mistaken_attempts_count</th>\n",
       "      <td>1</td>\n",
       "      <td>1</td>\n",
       "      <td>1</td>\n",
       "      <td>2</td>\n",
       "    </tr>\n",
       "  </tbody>\n",
       "</table>\n",
       "</div>"
      ],
      "text/plain": [
       "                                                          937  \\\n",
       "logger_version                                            1.0   \n",
       "session_uuid             e2ddf563-3583-404c-917a-8eb7bec38471   \n",
       "time_group                                                  2   \n",
       "patient_count                                              12   \n",
       "treated_count                                               5   \n",
       "rightly_treated_count                                       5   \n",
       "mistaken_attempts_count                                     1   \n",
       "\n",
       "                                                          381  \\\n",
       "logger_version                                            1.3   \n",
       "session_uuid             5d916938-e0d3-47ee-8f55-12bf12283ee1   \n",
       "time_group                                                  1   \n",
       "patient_count                                              11   \n",
       "treated_count                                               1   \n",
       "rightly_treated_count                                       1   \n",
       "mistaken_attempts_count                                     1   \n",
       "\n",
       "                                                          245  \\\n",
       "logger_version                                            1.3   \n",
       "session_uuid             33f3d2d4-49b4-43cf-80d4-cd7d5993aca4   \n",
       "time_group                                                  1   \n",
       "patient_count                                              13   \n",
       "treated_count                                               4   \n",
       "rightly_treated_count                                       3   \n",
       "mistaken_attempts_count                                     1   \n",
       "\n",
       "                                                          202  \n",
       "logger_version                                            1.0  \n",
       "session_uuid             2d511693-6144-45ee-89df-aba0ca629c84  \n",
       "time_group                                                  1  \n",
       "patient_count                                              13  \n",
       "treated_count                                               4  \n",
       "rightly_treated_count                                       3  \n",
       "mistaken_attempts_count                                     2  "
      ]
     },
     "metadata": {},
     "output_type": "display_data"
    }
   ],
   "source": [
    "\n",
    "# Visualize some mistaken attempts\n",
    "mask_series = (rightly_treated_count_df.mistaken_attempts_count > 0)\n",
    "df = rightly_treated_count_df[mask_series]\n",
    "display(df.sample(min(4, df[mask_series].shape[0])).dropna(axis='columns', how='all').T)"
   ]
  },
  {
   "cell_type": "code",
   "execution_count": 9,
   "id": "c415e343-f50c-4df5-be70-d66b46b0f555",
   "metadata": {},
   "outputs": [
    {
     "data": {
      "text/html": [
       "<div>\n",
       "<style scoped>\n",
       "    .dataframe tbody tr th:only-of-type {\n",
       "        vertical-align: middle;\n",
       "    }\n",
       "\n",
       "    .dataframe tbody tr th {\n",
       "        vertical-align: top;\n",
       "    }\n",
       "\n",
       "    .dataframe thead th {\n",
       "        text-align: right;\n",
       "    }\n",
       "</style>\n",
       "<table border=\"1\" class=\"dataframe\">\n",
       "  <thead>\n",
       "    <tr style=\"text-align: right;\">\n",
       "      <th></th>\n",
       "    </tr>\n",
       "  </thead>\n",
       "  <tbody>\n",
       "  </tbody>\n",
       "</table>\n",
       "</div>"
      ],
      "text/plain": [
       "Empty DataFrame\n",
       "Columns: []\n",
       "Index: []"
      ]
     },
     "metadata": {},
     "output_type": "display_data"
    }
   ],
   "source": [
    "\n",
    "# Are there more treated patients than possible?\n",
    "mask_series = (rightly_treated_count_df.treated_count > rightly_treated_count_df.patient_count)\n",
    "df = rightly_treated_count_df[mask_series]\n",
    "display(df.sample(min(4, df[mask_series].shape[0])).dropna(axis='columns', how='all').T)"
   ]
  },
  {
   "cell_type": "code",
   "execution_count": 10,
   "id": "11b3ddca-e88e-44c4-bfd7-09c73e5c81df",
   "metadata": {},
   "outputs": [
    {
     "data": {
      "text/html": [
       "<div>\n",
       "<style scoped>\n",
       "    .dataframe tbody tr th:only-of-type {\n",
       "        vertical-align: middle;\n",
       "    }\n",
       "\n",
       "    .dataframe tbody tr th {\n",
       "        vertical-align: top;\n",
       "    }\n",
       "\n",
       "    .dataframe thead th {\n",
       "        text-align: right;\n",
       "    }\n",
       "</style>\n",
       "<table border=\"1\" class=\"dataframe\">\n",
       "  <thead>\n",
       "    <tr style=\"text-align: right;\">\n",
       "      <th></th>\n",
       "    </tr>\n",
       "  </thead>\n",
       "  <tbody>\n",
       "  </tbody>\n",
       "</table>\n",
       "</div>"
      ],
      "text/plain": [
       "Empty DataFrame\n",
       "Columns: []\n",
       "Index: []"
      ]
     },
     "metadata": {},
     "output_type": "display_data"
    }
   ],
   "source": [
    "\n",
    "# Are there more rightly treated patients than treated patients?\n",
    "mask_series = (rightly_treated_count_df.rightly_treated_count > rightly_treated_count_df.patient_count)\n",
    "df = rightly_treated_count_df[mask_series]\n",
    "display(df.sample(min(4, df[mask_series].shape[0])).dropna(axis='columns', how='all').T)"
   ]
  },
  {
   "cell_type": "code",
   "execution_count": 11,
   "id": "30dedf17-b6c7-49df-b9ed-058485ac0cec",
   "metadata": {},
   "outputs": [
    {
     "data": {
      "image/png": "[encoded data removed]",
      "text/plain": [
       "<Figure size 640x480 with 4 Axes>"
      ]
     },
     "metadata": {},
     "output_type": "display_data"
    }
   ],
   "source": [
    "\n",
    "# Visualize histograms of all the distributions\n",
    "columns_list = ['patient_count', 'treated_count', 'rightly_treated_count', 'mistaken_attempts_count']\n",
    "rightly_treated_count_df[columns_list].hist();"
   ]
  },
  {
   "cell_type": "markdown",
   "id": "065bcacb-b285-44f6-b068-eab2bd128a22",
   "metadata": {},
   "source": [
    "\n",
    "\n",
    "## Did they do it in the right order?\n",
    "\n",
    "(Red, Gray, Black), then wavers, then walkers last"
   ]
  },
  {
   "cell_type": "code",
   "execution_count": 12,
   "id": "a274d77c-99e0-468e-ae5f-336b3b145473",
   "metadata": {},
   "outputs": [
    {
     "data": {
      "text/plain": [
       "['voice_capture_message', 'voice_command_command_description', 'tag_selected_type', 'tag_applied_type', 'tag_discarded_type']"
      ]
     },
     "execution_count": 12,
     "metadata": {},
     "output_type": "execute_result"
    }
   ],
   "source": [
    "\n",
    "# Investigate the presence of black\n",
    "srs = frvrs_logs_df.applymap(lambda x: 'black' in str(x).lower(), na_action='ignore').sum()\n",
    "columns_list = srs[srs != 0].index.tolist()\n",
    "columns_list"
   ]
  },
  {
   "cell_type": "code",
   "execution_count": 13,
   "id": "e9088738-51f3-4d6e-a66b-a6ab278f5819",
   "metadata": {},
   "outputs": [
    {
     "data": {
      "text/plain": [
       "['action_type', 'patient_demoted_sort', 'voice_capture_message', 'voice_command_message', 'voice_command_command_description', 'patient_record_sort', 's_a_l_t_wave_if_can_sort_command_text', 's_a_l_t_waved_sort_command_text', 'patient_engaged_sort']"
      ]
     },
     "execution_count": 13,
     "metadata": {},
     "output_type": "execute_result"
    }
   ],
   "source": [
    "\n",
    "# Investigate the presence of wave\n",
    "srs = frvrs_logs_df.applymap(lambda x: 'wave' in str(x).lower(), na_action='ignore').sum()\n",
    "columns_list = srs[srs != 0].index.tolist()\n",
    "columns_list"
   ]
  },
  {
   "cell_type": "markdown",
   "id": "808b5036-dd90-47f5-b512-6a312fb9fe92",
   "metadata": {},
   "source": [
    "\n",
    "#### Edge cases\n",
    "\n",
    "The worst-case scenario is displayed as the blue vertical bar at the far left of the histogram. The best-case scenario is a component of the right-most vertical bar."
   ]
  },
  {
   "cell_type": "code",
   "execution_count": 17,
   "id": "be5b2e20-f7e7-4f01-a51e-fe54e465be0f",
   "metadata": {},
   "outputs": [
    {
     "data": {
      "text/html": [
       "<div>\n",
       "<style scoped>\n",
       "    .dataframe tbody tr th:only-of-type {\n",
       "        vertical-align: middle;\n",
       "    }\n",
       "\n",
       "    .dataframe tbody tr th {\n",
       "        vertical-align: top;\n",
       "    }\n",
       "\n",
       "    .dataframe thead th {\n",
       "        text-align: right;\n",
       "    }\n",
       "</style>\n",
       "<table border=\"1\" class=\"dataframe\">\n",
       "  <thead>\n",
       "    <tr style=\"text-align: right;\">\n",
       "      <th></th>\n",
       "      <th>277</th>\n",
       "      <th>522</th>\n",
       "      <th>785</th>\n",
       "      <th>402</th>\n",
       "    </tr>\n",
       "  </thead>\n",
       "  <tbody>\n",
       "    <tr>\n",
       "      <th>logger_version</th>\n",
       "      <td>1.3</td>\n",
       "      <td>1.0</td>\n",
       "      <td>1.3</td>\n",
       "      <td>1.0</td>\n",
       "    </tr>\n",
       "    <tr>\n",
       "      <th>session_uuid</th>\n",
       "      <td>37ed31fb-6f8a-4cc0-b80e-ac4138e42405</td>\n",
       "      <td>741e494b-63ff-4ea2-ad88-657f2276045d</td>\n",
       "      <td>b5a82a5b-e259-4d87-bdb7-94f9cb1ce6ea</td>\n",
       "      <td>5dce5abe-7ded-46e7-8d07-b2e2cd76ef55</td>\n",
       "    </tr>\n",
       "    <tr>\n",
       "      <th>time_group</th>\n",
       "      <td>2</td>\n",
       "      <td>1</td>\n",
       "      <td>1</td>\n",
       "      <td>1</td>\n",
       "    </tr>\n",
       "    <tr>\n",
       "      <th>last_threat_engaged</th>\n",
       "      <td>1005491.0</td>\n",
       "      <td>271506.0</td>\n",
       "      <td>279352.0</td>\n",
       "      <td>143073.0</td>\n",
       "    </tr>\n",
       "    <tr>\n",
       "      <th>last_walker_engaged</th>\n",
       "      <td>1005491.0</td>\n",
       "      <td>272859.0</td>\n",
       "      <td>283207.0</td>\n",
       "      <td>157464.0</td>\n",
       "    </tr>\n",
       "    <tr>\n",
       "      <th>rsquared_adj</th>\n",
       "      <td>1.0</td>\n",
       "      <td>1.0</td>\n",
       "      <td>1.0</td>\n",
       "      <td>1.0</td>\n",
       "    </tr>\n",
       "    <tr>\n",
       "      <th>last_still_engaged</th>\n",
       "      <td>530803.0</td>\n",
       "      <td>89570.0</td>\n",
       "      <td>48755.0</td>\n",
       "      <td>58727.0</td>\n",
       "    </tr>\n",
       "    <tr>\n",
       "      <th>last_waver_engaged</th>\n",
       "      <td>778433.0</td>\n",
       "      <td>108946.0</td>\n",
       "      <td>124270.0</td>\n",
       "      <td>116633.0</td>\n",
       "    </tr>\n",
       "    <tr>\n",
       "      <th>stills_finished_first</th>\n",
       "      <td>True</td>\n",
       "      <td>True</td>\n",
       "      <td>True</td>\n",
       "      <td>True</td>\n",
       "    </tr>\n",
       "  </tbody>\n",
       "</table>\n",
       "</div>"
      ],
      "text/plain": [
       "                                                        277  \\\n",
       "logger_version                                          1.3   \n",
       "session_uuid           37ed31fb-6f8a-4cc0-b80e-ac4138e42405   \n",
       "time_group                                                2   \n",
       "last_threat_engaged                               1005491.0   \n",
       "last_walker_engaged                               1005491.0   \n",
       "rsquared_adj                                            1.0   \n",
       "last_still_engaged                                 530803.0   \n",
       "last_waver_engaged                                 778433.0   \n",
       "stills_finished_first                                  True   \n",
       "\n",
       "                                                        522  \\\n",
       "logger_version                                          1.0   \n",
       "session_uuid           741e494b-63ff-4ea2-ad88-657f2276045d   \n",
       "time_group                                                1   \n",
       "last_threat_engaged                                271506.0   \n",
       "last_walker_engaged                                272859.0   \n",
       "rsquared_adj                                            1.0   \n",
       "last_still_engaged                                  89570.0   \n",
       "last_waver_engaged                                 108946.0   \n",
       "stills_finished_first                                  True   \n",
       "\n",
       "                                                        785  \\\n",
       "logger_version                                          1.3   \n",
       "session_uuid           b5a82a5b-e259-4d87-bdb7-94f9cb1ce6ea   \n",
       "time_group                                                1   \n",
       "last_threat_engaged                                279352.0   \n",
       "last_walker_engaged                                283207.0   \n",
       "rsquared_adj                                            1.0   \n",
       "last_still_engaged                                  48755.0   \n",
       "last_waver_engaged                                 124270.0   \n",
       "stills_finished_first                                  True   \n",
       "\n",
       "                                                        402  \n",
       "logger_version                                          1.0  \n",
       "session_uuid           5dce5abe-7ded-46e7-8d07-b2e2cd76ef55  \n",
       "time_group                                                1  \n",
       "last_threat_engaged                                143073.0  \n",
       "last_walker_engaged                                157464.0  \n",
       "rsquared_adj                                            1.0  \n",
       "last_still_engaged                                  58727.0  \n",
       "last_waver_engaged                                 116633.0  \n",
       "stills_finished_first                                  True  "
      ]
     },
     "metadata": {},
     "output_type": "display_data"
    }
   ],
   "source": [
    "\n",
    "# Display a sample of adjusted R-squared at its maximum, dropping columns with all NaN values and transposing it\n",
    "max_rsquared_adj = engagment_sort_df.rsquared_adj.max()\n",
    "mask_series = engagment_sort_df.rsquared_adj.isin([max_rsquared_adj])\n",
    "df = engagment_sort_df[mask_series]\n",
    "display(df.sample(min(4, df[mask_series].shape[0])).dropna(axis='columns', how='all').T)"
   ]
  },
  {
   "cell_type": "code",
   "execution_count": 18,
   "id": "747e5d36-db46-44a4-b542-dfcb4e65d5d2",
   "metadata": {},
   "outputs": [
    {
     "data": {
      "text/html": [
       "<div>\n",
       "<style scoped>\n",
       "    .dataframe tbody tr th:only-of-type {\n",
       "        vertical-align: middle;\n",
       "    }\n",
       "\n",
       "    .dataframe tbody tr th {\n",
       "        vertical-align: top;\n",
       "    }\n",
       "\n",
       "    .dataframe thead th {\n",
       "        text-align: right;\n",
       "    }\n",
       "</style>\n",
       "<table border=\"1\" class=\"dataframe\">\n",
       "  <thead>\n",
       "    <tr style=\"text-align: right;\">\n",
       "      <th></th>\n",
       "      <th>65</th>\n",
       "    </tr>\n",
       "  </thead>\n",
       "  <tbody>\n",
       "    <tr>\n",
       "      <th>logger_version</th>\n",
       "      <td>1.0</td>\n",
       "    </tr>\n",
       "    <tr>\n",
       "      <th>session_uuid</th>\n",
       "      <td>0b891add-e0c3-463d-948d-7f491f1d10ef</td>\n",
       "    </tr>\n",
       "    <tr>\n",
       "      <th>time_group</th>\n",
       "      <td>4</td>\n",
       "    </tr>\n",
       "    <tr>\n",
       "      <th>last_threat_engaged</th>\n",
       "      <td>676501.0</td>\n",
       "    </tr>\n",
       "    <tr>\n",
       "      <th>last_walker_engaged</th>\n",
       "      <td>653151.0</td>\n",
       "    </tr>\n",
       "    <tr>\n",
       "      <th>rsquared_adj</th>\n",
       "      <td>-0.5</td>\n",
       "    </tr>\n",
       "    <tr>\n",
       "      <th>last_still_engaged</th>\n",
       "      <td>676501.0</td>\n",
       "    </tr>\n",
       "    <tr>\n",
       "      <th>last_waver_engaged</th>\n",
       "      <td>722393.0</td>\n",
       "    </tr>\n",
       "    <tr>\n",
       "      <th>stills_finished_first</th>\n",
       "      <td>False</td>\n",
       "    </tr>\n",
       "  </tbody>\n",
       "</table>\n",
       "</div>"
      ],
      "text/plain": [
       "                                                         65\n",
       "logger_version                                          1.0\n",
       "session_uuid           0b891add-e0c3-463d-948d-7f491f1d10ef\n",
       "time_group                                                4\n",
       "last_threat_engaged                                676501.0\n",
       "last_walker_engaged                                653151.0\n",
       "rsquared_adj                                           -0.5\n",
       "last_still_engaged                                 676501.0\n",
       "last_waver_engaged                                 722393.0\n",
       "stills_finished_first                                 False"
      ]
     },
     "metadata": {},
     "output_type": "display_data"
    }
   ],
   "source": [
    "\n",
    "# Display a sample of adjusted R-squared at its minimum, dropping columns with all NaN values and transposing it\n",
    "min_rsquared_adj = engagment_sort_df.rsquared_adj.min()\n",
    "mask_series = engagment_sort_df.rsquared_adj.isin([min_rsquared_adj])\n",
    "df = engagment_sort_df[mask_series]\n",
    "display(df.sample(min(4, df[mask_series].shape[0])).dropna(axis='columns', how='all').T)"
   ]
  },
  {
   "cell_type": "code",
   "execution_count": 19,
   "id": "270cacad-1722-465d-9d31-547f06c440ce",
   "metadata": {},
   "outputs": [
    {
     "name": "stdout",
     "output_type": "stream",
     "text": [
      "ideal_sequence = [88520, 54614, 102065]\n",
      "actual_sequence = [54614, 88520, 102065]\n",
      "rsquared_adj = -0.9971283921806686\n"
     ]
    }
   ],
   "source": [
    "\n",
    "# In the worse-case scenario, the trainee was supposed to engage the waver first, then the two walkers\n",
    "# Instead, they engaged one of the walkers, then a waver, then the other walker\n",
    "session_uuid = '274ce308-c366-4829-b9cc-d535b51d16d3'\n",
    "time_group = 1\n",
    "engaged_sort_dict = {'walker': [54614, 102065], 'waver': [88520]}\n",
    "ideal_sequence = []\n",
    "for sort in ['still', 'waver', 'walker']: ideal_sequence.extend(engaged_sort_dict.get(sort, []))\n",
    "ideal_sequence = pd.Series(data=ideal_sequence)\n",
    "actual_sequence = ideal_sequence.sort_values(ascending=True)\n",
    "print(f'ideal_sequence = {ideal_sequence.tolist()}\\nactual_sequence = {actual_sequence.tolist()}')\n",
    "X, y = ideal_sequence.values.reshape(-1, 1), actual_sequence.values.reshape(-1, 1)\n",
    "X1 = sm.add_constant(X)\n",
    "try: rsquared_adj = sm.OLS(y, X1).fit().rsquared_adj\n",
    "except: rsquared_adj = np.nan\n",
    "print(f'rsquared_adj = {rsquared_adj}')"
   ]
  },
  {
   "cell_type": "code",
   "execution_count": 20,
   "id": "b087d88b-b194-424c-bb32-a0d4d3b8cacf",
   "metadata": {},
   "outputs": [
    {
     "name": "stdout",
     "output_type": "stream",
     "text": [
      "ideal_sequence = [56434, 108854, 164294, 195562, 208187, 210397, 211747, 212450, 212649]\n",
      "actual_sequence = [56434, 108854, 164294, 195562, 208187, 210397, 211747, 212450, 212649]\n",
      "rsquared_adj = 1.0\n"
     ]
    }
   ],
   "source": [
    "\n",
    "# In the best-case scenario, the trainee was supposed to engage the still first, then the waver, then the walkers\n",
    "# They executed this in the correct sequence\n",
    "session_uuid = '7de52180-d823-4f9e-9003-aeab8139970b'\n",
    "time_group = 1\n",
    "engaged_sort_dict = {'still': [56434], 'walker': [164294, 195562, 208187, 210397, 211747, 212450, 212649], 'waver': [108854]}\n",
    "ideal_sequence = []\n",
    "for sort in ['still', 'waver', 'walker']: ideal_sequence.extend(engaged_sort_dict.get(sort, []))\n",
    "ideal_sequence = pd.Series(data=ideal_sequence)\n",
    "actual_sequence = ideal_sequence.sort_values(ascending=True)\n",
    "print(f'ideal_sequence = {ideal_sequence.tolist()}\\nactual_sequence = {actual_sequence.tolist()}')\n",
    "X, y = ideal_sequence.values.reshape(-1, 1), actual_sequence.values.reshape(-1, 1)\n",
    "X1 = sm.add_constant(X)\n",
    "try: rsquared_adj = sm.OLS(y, X1).fit().rsquared_adj\n",
    "except: rsquared_adj = np.nan\n",
    "print(f'rsquared_adj = {rsquared_adj}')"
   ]
  },
  {
   "cell_type": "markdown",
   "id": "a0a8ff25-2d3c-4206-98cc-fc6bde4bf51d",
   "metadata": {},
   "source": [
    "\n",
    "### Stills Finished First"
   ]
  },
  {
   "cell_type": "code",
   "execution_count": 21,
   "id": "344cf92c-550c-498c-821f-4aec4daf6576",
   "metadata": {},
   "outputs": [
    {
     "data": {
      "text/html": [
       "<div>\n",
       "<style scoped>\n",
       "    .dataframe tbody tr th:only-of-type {\n",
       "        vertical-align: middle;\n",
       "    }\n",
       "\n",
       "    .dataframe tbody tr th {\n",
       "        vertical-align: top;\n",
       "    }\n",
       "\n",
       "    .dataframe thead th {\n",
       "        text-align: right;\n",
       "    }\n",
       "</style>\n",
       "<table border=\"1\" class=\"dataframe\">\n",
       "  <thead>\n",
       "    <tr style=\"text-align: right;\">\n",
       "      <th></th>\n",
       "      <th>862</th>\n",
       "      <th>731</th>\n",
       "      <th>466</th>\n",
       "      <th>783</th>\n",
       "    </tr>\n",
       "  </thead>\n",
       "  <tbody>\n",
       "    <tr>\n",
       "      <th>logger_version</th>\n",
       "      <td>1.0</td>\n",
       "      <td>1.0</td>\n",
       "      <td>1.0</td>\n",
       "      <td>1.3</td>\n",
       "    </tr>\n",
       "    <tr>\n",
       "      <th>session_uuid</th>\n",
       "      <td>cf953248-e6cf-4544-95ce-4843d0f56f10</td>\n",
       "      <td>ab1f8cd1-8d65-45da-b087-89b25ff46c66</td>\n",
       "      <td>693461dd-b8f6-4c60-92b6-bd1db0ffcac8</td>\n",
       "      <td>b541f5c9-93fe-4ef3-9fe7-38493b8aa8a8</td>\n",
       "    </tr>\n",
       "    <tr>\n",
       "      <th>time_group</th>\n",
       "      <td>2</td>\n",
       "      <td>1</td>\n",
       "      <td>1</td>\n",
       "      <td>2</td>\n",
       "    </tr>\n",
       "    <tr>\n",
       "      <th>last_threat_engaged</th>\n",
       "      <td>822747.0</td>\n",
       "      <td>748245.0</td>\n",
       "      <td>447319.0</td>\n",
       "      <td>712932.0</td>\n",
       "    </tr>\n",
       "    <tr>\n",
       "      <th>last_walker_engaged</th>\n",
       "      <td>770516.0</td>\n",
       "      <td>613587.0</td>\n",
       "      <td>392835.0</td>\n",
       "      <td>681491.0</td>\n",
       "    </tr>\n",
       "    <tr>\n",
       "      <th>rsquared_adj</th>\n",
       "      <td>0.516312</td>\n",
       "      <td>0.058678</td>\n",
       "      <td>0.180085</td>\n",
       "      <td>0.446786</td>\n",
       "    </tr>\n",
       "    <tr>\n",
       "      <th>last_still_engaged</th>\n",
       "      <td>822747.0</td>\n",
       "      <td>748245.0</td>\n",
       "      <td>447319.0</td>\n",
       "      <td>712932.0</td>\n",
       "    </tr>\n",
       "    <tr>\n",
       "      <th>last_waver_engaged</th>\n",
       "      <td>835218.0</td>\n",
       "      <td>735900.0</td>\n",
       "      <td>301317.0</td>\n",
       "      <td>570074.0</td>\n",
       "    </tr>\n",
       "    <tr>\n",
       "      <th>stills_finished_first</th>\n",
       "      <td>False</td>\n",
       "      <td>False</td>\n",
       "      <td>False</td>\n",
       "      <td>False</td>\n",
       "    </tr>\n",
       "  </tbody>\n",
       "</table>\n",
       "</div>"
      ],
      "text/plain": [
       "                                                        862  \\\n",
       "logger_version                                          1.0   \n",
       "session_uuid           cf953248-e6cf-4544-95ce-4843d0f56f10   \n",
       "time_group                                                2   \n",
       "last_threat_engaged                                822747.0   \n",
       "last_walker_engaged                                770516.0   \n",
       "rsquared_adj                                       0.516312   \n",
       "last_still_engaged                                 822747.0   \n",
       "last_waver_engaged                                 835218.0   \n",
       "stills_finished_first                                 False   \n",
       "\n",
       "                                                        731  \\\n",
       "logger_version                                          1.0   \n",
       "session_uuid           ab1f8cd1-8d65-45da-b087-89b25ff46c66   \n",
       "time_group                                                1   \n",
       "last_threat_engaged                                748245.0   \n",
       "last_walker_engaged                                613587.0   \n",
       "rsquared_adj                                       0.058678   \n",
       "last_still_engaged                                 748245.0   \n",
       "last_waver_engaged                                 735900.0   \n",
       "stills_finished_first                                 False   \n",
       "\n",
       "                                                        466  \\\n",
       "logger_version                                          1.0   \n",
       "session_uuid           693461dd-b8f6-4c60-92b6-bd1db0ffcac8   \n",
       "time_group                                                1   \n",
       "last_threat_engaged                                447319.0   \n",
       "last_walker_engaged                                392835.0   \n",
       "rsquared_adj                                       0.180085   \n",
       "last_still_engaged                                 447319.0   \n",
       "last_waver_engaged                                 301317.0   \n",
       "stills_finished_first                                 False   \n",
       "\n",
       "                                                        783  \n",
       "logger_version                                          1.3  \n",
       "session_uuid           b541f5c9-93fe-4ef3-9fe7-38493b8aa8a8  \n",
       "time_group                                                2  \n",
       "last_threat_engaged                                712932.0  \n",
       "last_walker_engaged                                681491.0  \n",
       "rsquared_adj                                       0.446786  \n",
       "last_still_engaged                                 712932.0  \n",
       "last_waver_engaged                                 570074.0  \n",
       "stills_finished_first                                 False  "
      ]
     },
     "metadata": {},
     "output_type": "display_data"
    }
   ],
   "source": [
    "\n",
    "# Verify that the stills were finished first\n",
    "import numpy as np\n",
    "\n",
    "def f(df):\n",
    "    last_still_engaged = df.last_still_engaged\n",
    "    last_walker_engaged = df.last_walker_engaged\n",
    "    last_waver_engaged = df.last_waver_engaged\n",
    "    min_engagement = min(last_still_engaged, last_walker_engaged, last_waver_engaged)\n",
    "\n",
    "    return (last_still_engaged == min_engagement)\n",
    "engagment_sort_df['stills_finished_first'] = engagment_sort_df.apply(f, axis='columns')\n",
    "\n",
    "# Create a mask where any of the last engaged columns are NaN and set the stills finished first column to NaN if true\n",
    "columns_list = ['last_still_engaged', 'last_walker_engaged', 'last_waver_engaged']\n",
    "mask_series = engagment_sort_df[columns_list].isnull().any(axis='columns')\n",
    "engagment_sort_df.loc[mask_series, 'stills_finished_first'] = np.nan\n",
    "\n",
    "mask_series = (engagment_sort_df.stills_finished_first == False)\n",
    "df = engagment_sort_df[mask_series]\n",
    "display(df.sample(min(4, df[mask_series].shape[0])).dropna(axis='columns', how='all').T)"
   ]
  },
  {
   "cell_type": "code",
   "execution_count": 25,
   "id": "a8ac18ca-4381-499a-8d59-81a44331d604",
   "metadata": {},
   "outputs": [
    {
     "data": {
      "text/plain": [
       "are you hurt anywhere else                     16\n",
       "do you have any other injuries                 13\n",
       "if you can hear me wave your hand               9\n",
       "are you hurting anywhere else                   7\n",
       "anybody that can wave wave                      6\n",
       "have you heard anywhere else                    5\n",
       "sir can you tell me your name                   5\n",
       "if you can hear my voice I want you to wave     4\n",
       "if you can hear my voice wave                   4\n",
       "are you injured anywhere else                   4\n",
       "Name: voice_capture_message, dtype: int64"
      ]
     },
     "execution_count": 25,
     "metadata": {},
     "output_type": "execute_result"
    }
   ],
   "source": [
    "\n",
    "cn = 'voice_capture_message'\n",
    "mask_series = frvrs_logs_df[cn].isnull()\n",
    "# sorted([vc for vc in frvrs_logs_df[~mask_series][cn]], key=lambda x: len(x))[-10:]\n",
    "srs = frvrs_logs_df[~mask_series][cn].value_counts()\n",
    "mask_series = srs.index.map(lambda x: len(x) > 25)\n",
    "srs[mask_series].head(10)"
   ]
  },
  {
   "cell_type": "code",
   "execution_count": null,
   "id": "769bfcba-6ea3-42bf-948c-15fe3fb1ecef",
   "metadata": {},
   "outputs": [],
   "source": []
  }
 ],
 "metadata": {
  "kernelspec": {
   "display_name": "Notebooks (Python 3.9.16)",
   "language": "python",
   "name": "nb_env"
  },
  "language_info": {
   "codemirror_mode": {
    "name": "ipython",
    "version": 3
   },
   "file_extension": ".py",
   "mimetype": "text/x-python",
   "name": "python",
   "nbconvert_exporter": "python",
   "pygments_lexer": "ipython3",
   "version": "3.9.16"
  }
 },
 "nbformat": 4,
 "nbformat_minor": 5
}

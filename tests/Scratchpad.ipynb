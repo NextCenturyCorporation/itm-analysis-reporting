{
 "cells": [
  {
   "cell_type": "code",
   "execution_count": 1,
   "id": "34ec8ce4-499a-4767-99f1-eda09ef729dc",
   "metadata": {
    "tags": []
   },
   "outputs": [],
   "source": [
    "\n",
    "import sys\n",
    "sys.path.insert(1, '../py')\n",
    "from FRVRS import nu, fu\n",
    "nu.delete_ipynb_checkpoint_folders()"
   ]
  },
  {
   "cell_type": "code",
   "execution_count": 2,
   "id": "4341412b-72af-498f-85ec-015e4c7af72c",
   "metadata": {},
   "outputs": [
    {
     "name": "stdout",
     "output_type": "stream",
     "text": [
      "Pretty printing has been turned OFF\n"
     ]
    }
   ],
   "source": [
    "\n",
    "# Set up notebook\n",
    "%pprint\n",
    "import sys\n",
    "sys.path.insert(1, '../tests')"
   ]
  },
  {
   "cell_type": "code",
   "execution_count": 3,
   "id": "19504feb-41b6-42ba-ac10-a13f40f01166",
   "metadata": {},
   "outputs": [],
   "source": [
    "\n",
    "import unittest"
   ]
  },
  {
   "cell_type": "code",
   "execution_count": 4,
   "id": "7d4285f4-3dab-4854-8898-aee456544295",
   "metadata": {},
   "outputs": [
    {
     "name": "stderr",
     "output_type": "stream",
     "text": [
      ".................\n",
      "----------------------------------------------------------------------\n",
      "Ran 17 tests in 34.517s\n",
      "\n",
      "OK\n"
     ]
    },
    {
     "data": {
      "text/plain": [
       "<unittest.runner.TextTestResult run=17 errors=0 failures=0>"
      ]
     },
     "execution_count": 4,
     "metadata": {},
     "output_type": "execute_result"
    }
   ],
   "source": [
    "\n",
    "# Create another test suite\n",
    "suite = unittest.TestSuite()\n",
    "\n",
    "# Add all test cases from the class to the suite\n",
    "from test_frvrs_utils_other_functions import TestFormatTimedelta\n",
    "suite.addTest(unittest.makeSuite(TestFormatTimedelta))\n",
    "from test_frvrs_utils_pandas_functions import TestGetStatistics, TestGetElevensDataFrame\n",
    "suite.addTest(unittest.makeSuite(TestGetStatistics))\n",
    "suite.addTest(unittest.makeSuite(TestGetElevensDataFrame))\n",
    "from test_frvrs_utils_patient_functions import TestGetMaxSalt, TestGetLastTag, TestIsPatientHemorrhagingFunction, TestGetTimeToHemorrhageControl\n",
    "suite.addTest(unittest.makeSuite(TestGetMaxSalt))\n",
    "suite.addTest(unittest.makeSuite(TestGetLastTag))\n",
    "suite.addTest(unittest.makeSuite(TestIsPatientHemorrhagingFunction))\n",
    "suite.addTest(unittest.makeSuite(TestGetTimeToHemorrhageControl))\n",
    "\n",
    "# Run the test suite\n",
    "runner = unittest.TextTestRunner()\n",
    "runner.run(suite)"
   ]
  },
  {
   "cell_type": "code",
   "execution_count": 5,
   "id": "d855a2b5-a498-43d7-bb44-e54529d4d2db",
   "metadata": {},
   "outputs": [
    {
     "name": "stderr",
     "output_type": "stream",
     "text": [
      ".....EEEEEE\n",
      "======================================================================\n",
      "ERROR: test_multiple_patients_hemorrhage (test_frvrs_utils_scene_functions.TestGetTimeToLastHemorrhageControlled)\n",
      "----------------------------------------------------------------------\n",
      "Traceback (most recent call last):\n",
      "  File \"/mnt/c/Users/DaveBabbitt/Documents/GitHub/itm-analysis-reporting/tests/test_frvrs_utils_scene_functions.py\", line 984, in test_multiple_patients_hemorrhage\n",
      "    self.patch_get_time_to_hemorrhage_control(side_effect=get_time_to_hemorrhage_control)\n",
      "  File \"/mnt/c/Users/DaveBabbitt/Documents/GitHub/itm-analysis-reporting/tests/test_frvrs_utils_scene_functions.py\", line 1004, in patch_get_time_to_hemorrhage_control\n",
      "    return patcher.start()\n",
      "  File \"/home/dbabbitt/anaconda3/envs/itm_analysis_reporting/lib/python3.7/unittest/mock.py\", line 1442, in start\n",
      "    result = self.__enter__()\n",
      "  File \"/home/dbabbitt/anaconda3/envs/itm_analysis_reporting/lib/python3.7/unittest/mock.py\", line 1307, in __enter__\n",
      "    original, local = self.get_original()\n",
      "  File \"/home/dbabbitt/anaconda3/envs/itm_analysis_reporting/lib/python3.7/unittest/mock.py\", line 1281, in get_original\n",
      "    \"%s does not have the attribute %r\" % (target, name)\n",
      "AttributeError: test_multiple_patients_hemorrhage (test_frvrs_utils_scene_functions.TestGetTimeToLastHemorrhageControlled) does not have the attribute 'get_time_to_hemorrhage_control'\n",
      "\n",
      "======================================================================\n",
      "ERROR: test_multiple_patients_hemorrhage (test_frvrs_utils_scene_functions.TestGetTimeToLastHemorrhageControlled)\n",
      "----------------------------------------------------------------------\n",
      "Traceback (most recent call last):\n",
      "  File \"/home/dbabbitt/anaconda3/envs/itm_analysis_reporting/lib/python3.7/unittest/mock.py\", line 1455, in stop\n",
      "    return self.__exit__(None, None, None)\n",
      "  File \"/home/dbabbitt/anaconda3/envs/itm_analysis_reporting/lib/python3.7/unittest/mock.py\", line 1419, in __exit__\n",
      "    raise RuntimeError('stop called on unstarted patcher')\n",
      "RuntimeError: stop called on unstarted patcher\n",
      "\n",
      "======================================================================\n",
      "ERROR: test_no_hemorrhage (test_frvrs_utils_scene_functions.TestGetTimeToLastHemorrhageControlled)\n",
      "----------------------------------------------------------------------\n",
      "Traceback (most recent call last):\n",
      "  File \"/mnt/c/Users/DaveBabbitt/Documents/GitHub/itm-analysis-reporting/tests/test_frvrs_utils_scene_functions.py\", line 953, in test_no_hemorrhage\n",
      "    self.patch_is_patient_hemorrhaging(return_value=False)\n",
      "  File \"/mnt/c/Users/DaveBabbitt/Documents/GitHub/itm-analysis-reporting/tests/test_frvrs_utils_scene_functions.py\", line 999, in patch_is_patient_hemorrhaging\n",
      "    return patcher.start()\n",
      "  File \"/home/dbabbitt/anaconda3/envs/itm_analysis_reporting/lib/python3.7/unittest/mock.py\", line 1442, in start\n",
      "    result = self.__enter__()\n",
      "  File \"/home/dbabbitt/anaconda3/envs/itm_analysis_reporting/lib/python3.7/unittest/mock.py\", line 1307, in __enter__\n",
      "    original, local = self.get_original()\n",
      "  File \"/home/dbabbitt/anaconda3/envs/itm_analysis_reporting/lib/python3.7/unittest/mock.py\", line 1281, in get_original\n",
      "    \"%s does not have the attribute %r\" % (target, name)\n",
      "AttributeError: test_no_hemorrhage (test_frvrs_utils_scene_functions.TestGetTimeToLastHemorrhageControlled) does not have the attribute 'is_patient_hemorrhaging'\n",
      "\n",
      "======================================================================\n",
      "ERROR: test_no_hemorrhage (test_frvrs_utils_scene_functions.TestGetTimeToLastHemorrhageControlled)\n",
      "----------------------------------------------------------------------\n",
      "Traceback (most recent call last):\n",
      "  File \"/home/dbabbitt/anaconda3/envs/itm_analysis_reporting/lib/python3.7/unittest/mock.py\", line 1455, in stop\n",
      "    return self.__exit__(None, None, None)\n",
      "  File \"/home/dbabbitt/anaconda3/envs/itm_analysis_reporting/lib/python3.7/unittest/mock.py\", line 1419, in __exit__\n",
      "    raise RuntimeError('stop called on unstarted patcher')\n",
      "RuntimeError: stop called on unstarted patcher\n",
      "\n",
      "======================================================================\n",
      "ERROR: test_single_patient_hemorrhage (test_frvrs_utils_scene_functions.TestGetTimeToLastHemorrhageControlled)\n",
      "----------------------------------------------------------------------\n",
      "Traceback (most recent call last):\n",
      "  File \"/mnt/c/Users/DaveBabbitt/Documents/GitHub/itm-analysis-reporting/tests/test_frvrs_utils_scene_functions.py\", line 963, in test_single_patient_hemorrhage\n",
      "    self.patch_get_time_to_hemorrhage_control(return_value=1000)\n",
      "  File \"/mnt/c/Users/DaveBabbitt/Documents/GitHub/itm-analysis-reporting/tests/test_frvrs_utils_scene_functions.py\", line 1004, in patch_get_time_to_hemorrhage_control\n",
      "    return patcher.start()\n",
      "  File \"/home/dbabbitt/anaconda3/envs/itm_analysis_reporting/lib/python3.7/unittest/mock.py\", line 1442, in start\n",
      "    result = self.__enter__()\n",
      "  File \"/home/dbabbitt/anaconda3/envs/itm_analysis_reporting/lib/python3.7/unittest/mock.py\", line 1307, in __enter__\n",
      "    original, local = self.get_original()\n",
      "  File \"/home/dbabbitt/anaconda3/envs/itm_analysis_reporting/lib/python3.7/unittest/mock.py\", line 1281, in get_original\n",
      "    \"%s does not have the attribute %r\" % (target, name)\n",
      "AttributeError: test_single_patient_hemorrhage (test_frvrs_utils_scene_functions.TestGetTimeToLastHemorrhageControlled) does not have the attribute 'get_time_to_hemorrhage_control'\n",
      "\n",
      "======================================================================\n",
      "ERROR: test_single_patient_hemorrhage (test_frvrs_utils_scene_functions.TestGetTimeToLastHemorrhageControlled)\n",
      "----------------------------------------------------------------------\n",
      "Traceback (most recent call last):\n",
      "  File \"/home/dbabbitt/anaconda3/envs/itm_analysis_reporting/lib/python3.7/unittest/mock.py\", line 1455, in stop\n",
      "    return self.__exit__(None, None, None)\n",
      "  File \"/home/dbabbitt/anaconda3/envs/itm_analysis_reporting/lib/python3.7/unittest/mock.py\", line 1419, in __exit__\n",
      "    raise RuntimeError('stop called on unstarted patcher')\n",
      "RuntimeError: stop called on unstarted patcher\n",
      "\n",
      "----------------------------------------------------------------------\n",
      "Ran 8 tests in 0.068s\n",
      "\n",
      "FAILED (errors=6)\n"
     ]
    },
    {
     "data": {
      "text/plain": [
       "<unittest.runner.TextTestResult run=8 errors=6 failures=0>"
      ]
     },
     "execution_count": 5,
     "metadata": {},
     "output_type": "execute_result"
    }
   ],
   "source": [
    "\n",
    "# Create another test suite\n",
    "suite = unittest.TestSuite()\n",
    "\n",
    "# Add all test cases from the class to the suite\n",
    "from test_frvrs_utils_scene_functions import TestGetTriageTime, TestGetPercentHemorrhageControlled, TestGetTimeToLastHemorrhageControlled\n",
    "suite.addTest(unittest.makeSuite(TestGetTriageTime))\n",
    "suite.addTest(unittest.makeSuite(TestGetPercentHemorrhageControlled))\n",
    "suite.addTest(unittest.makeSuite(TestGetTimeToLastHemorrhageControlled))\n",
    "\n",
    "# Run the test suite\n",
    "runner = unittest.TextTestRunner()\n",
    "runner.run(suite)"
   ]
  },
  {
   "cell_type": "markdown",
   "id": "6d3d9f71-3ee7-445f-8750-b8a1697793fd",
   "metadata": {},
   "source": [
    "\n",
    "# Create some good Mock Data"
   ]
  },
  {
   "cell_type": "code",
   "execution_count": 4,
   "id": "83a2d52e-c4ad-4d33-ae5d-33b66149c15d",
   "metadata": {},
   "outputs": [
    {
     "name": "stdout",
     "output_type": "stream",
     "text": [
      "(401177, 111)\n",
      "(332, 19)\n",
      "(486, 48)\n",
      "(399048, 115)\n"
     ]
    }
   ],
   "source": [
    "\n",
    "# Get the standard data frames\n",
    "if ('../py' not in sys.path): sys.path.insert(1, '../py')\n",
    "from FRVRS import fu, nu\n",
    "data_frames_list = nu.load_data_frames(\n",
    "    verbose=False, first_responder_master_registry_df='', first_responder_master_registry_file_stats_df='', first_responder_master_registry_scene_stats_df=''\n",
    ")\n",
    "triage_paper_df = data_frames_list['first_responder_master_registry_df']\n",
    "print(triage_paper_df.shape)\n",
    "file_stats_df = data_frames_list['first_responder_master_registry_file_stats_df']\n",
    "print(file_stats_df.shape)\n",
    "scene_stats_df = data_frames_list['first_responder_master_registry_scene_stats_df']\n",
    "print(scene_stats_df.shape)\n",
    "elevens_df = fu.get_elevens_data_frame(\n",
    "    triage_paper_df, file_stats_df, scene_stats_df, needed_columns=['scene_type', 'is_scene_aborted', 'is_a_one_triage_file', 'responder_category']\n",
    ")\n",
    "print(elevens_df.shape)"
   ]
  },
  {
   "cell_type": "code",
   "execution_count": 15,
   "id": "3061b8aa-b062-4b42-a129-901b39852cea",
   "metadata": {},
   "outputs": [
    {
     "data": {
      "text/plain": [
       "True"
      ]
     },
     "execution_count": 15,
     "metadata": {},
     "output_type": "execute_result"
    }
   ],
   "source": [
    "\n",
    "# Get all the non-hemorrhaging procedures\n",
    "from random import choices\n",
    "import pandas as pd\n",
    "\n",
    "nons_list = sorted(set(fu.injury_required_procedure_order).difference(set(fu.hemorrhage_control_procedures_list)))\n",
    "\n",
    "# Create a list 10 elements long using choices with replacement\n",
    "ten_element_list = choices(nons_list, k=10)\n",
    "\n",
    "scene_df = DataFrame({\n",
    "    'action_tick': [\n",
    "        53712, 111438, 173005, 201999, 235440,\n",
    "        249305, 296810, 329527, 363492, 442375\n",
    "    ],\n",
    "    'patient_id': [\n",
    "        'Gloria_2 Root', 'Lily_1 Root', 'Lily_1 Root', 'Mike_3 Root', 'Helga_0 Root',\n",
    "        'Helga_0 Root', 'Mike_6 Root', 'Mike_9 Root', 'Mike_9 Root', 'Mike_4 Root'\n",
    "    ],\n",
    "    'injury_id': [\n",
    "        'L Shin Amputation', 'R Thigh Laceration', 'R Bicep Puncture', 'R Wrist Amputation', 'L Stomach Puncture',\n",
    "        'L Thigh Puncture', 'R Chest Collapse', 'L Side Puncture', 'L Thigh Puncture', 'R Palm Laceration'\n",
    "    ],\n",
    "    'injury_required_procedure': ten_element_list,\n",
    "    'injury_record_required_procedure': ten_element_list,\n",
    "    'injury_treated_required_procedure': ten_element_list,\n",
    "    'injury_treated_injury_treated_with_wrong_treatment': some_trues\n",
    "})\n",
    "pd.isna(fu.get_percent_hemorrhage_controlled(scene_df))"
   ]
  },
  {
   "cell_type": "code",
   "execution_count": null,
   "id": "b7c2b214-e8f5-4afd-ba72-17de8f115885",
   "metadata": {},
   "outputs": [],
   "source": [
    "\n",
    "# Find an injury where the required procedures don't match\n",
    "columns_list = ['injury_record_required_procedure', 'injury_treated_required_procedure']\n",
    "rows_list = []\n",
    "for (session_uuid, scene_id, patient_id, injury_id), injury_df in elevens_df.groupby(fu.injury_groupby_columns):\n",
    "    row_dict = {cn: eval(cn) for cn in fu.injury_groupby_columns}\n",
    "    df = injury_df[columns_list].drop_duplicates()\n",
    "    row_dict['row_count'] = df.shape[0]\n",
    "    rows_list.append(row_dict)\n",
    "df = DataFrame(rows_list)\n",
    "df.sort_values('row_count', ascending=False)"
   ]
  },
  {
   "cell_type": "code",
   "execution_count": null,
   "id": "971bcb89-808c-4460-aa00-e1ef51ce4754",
   "metadata": {},
   "outputs": [],
   "source": [
    "\n",
    "# Find an injury where the required procedures don't match\n",
    "columns_list = ['injury_record_required_procedure', 'injury_treated_required_procedure']\n",
    "rows_list = []\n",
    "for (session_uuid, scene_id, patient_id, injury_id), injury_df in elevens_df.groupby(fu.injury_groupby_columns):\n",
    "    row_dict = {cn: eval(cn) for cn in fu.injury_groupby_columns}\n",
    "    df = injury_df[columns_list].drop_duplicates()\n",
    "    if df.shape[0] == 1: display(df); break"
   ]
  },
  {
   "cell_type": "code",
   "execution_count": null,
   "id": "cafefa73-e579-4116-9f0f-9840f50e5733",
   "metadata": {},
   "outputs": [],
   "source": [
    "\n",
    "# Get the scenes with the highest hemorrhage control percentage\n",
    "max_percent = scene_stats_df.percent_hemorrhage_controlled.max()\n",
    "mask_series = (scene_stats_df.percent_hemorrhage_controlled == max_percent)\n",
    "df = scene_stats_df[mask_series]\n",
    "on_columns = sorted(set(elevens_df.columns).intersection(set(df.columns)))\n",
    "merge_df = elevens_df.merge(df, on=on_columns, how='inner')"
   ]
  },
  {
   "cell_type": "code",
   "execution_count": null,
   "id": "66f9e14c-b6ce-4c3c-ad04-4fbeee523911",
   "metadata": {},
   "outputs": [],
   "source": [
    "\n",
    "# Find the scenes with wrong treatments in them\n",
    "mask_series = (merge_df.injury_treated_injury_treated_with_wrong_treatment == True)\n",
    "display(mask_series.value_counts(dropna=False))\n",
    "for (session_uuid, scene_id), scene_df in merge_df[mask_series].groupby(fu.scene_groupby_columns):\n",
    "    \n",
    "    # Get the entire scene history\n",
    "    scene_mask_series = True\n",
    "    for cn in fu.scene_groupby_columns: scene_mask_series &= (merge_df[cn] == eval(cn))\n",
    "    scene_df = merge_df[scene_mask_series]\n",
    "    \n",
    "    display(scene_df.injury_treated_injury_treated_with_wrong_treatment.value_counts(dropna=False))\n",
    "    # if (scene_df.shape[0] >= 5): break"
   ]
  },
  {
   "cell_type": "code",
   "execution_count": null,
   "id": "bae974e7-0884-4551-ba7d-31b60846b2d9",
   "metadata": {},
   "outputs": [],
   "source": [
    "\n",
    "mask_series = ~scene_df.injury_required_procedure.isnull()\n",
    "print(scene_df[mask_series].shape)\n",
    "scene_df[mask_series].injury_required_procedure.unique()"
   ]
  },
  {
   "cell_type": "code",
   "execution_count": null,
   "id": "38a39539-6688-4a2a-92d9-33269a3c9763",
   "metadata": {},
   "outputs": [],
   "source": [
    "\n",
    "mask_series = ~scene_df.injury_treated_injury_treated_with_wrong_treatment.isnull()\n",
    "print(scene_df[mask_series].shape)\n",
    "scene_df[mask_series].injury_treated_injury_treated_with_wrong_treatment.unique()"
   ]
  },
  {
   "cell_type": "code",
   "execution_count": null,
   "id": "ae256d81-aacb-42a6-a99c-5e3dedc2d2af",
   "metadata": {},
   "outputs": [],
   "source": [
    "\n",
    "# df = scene_df.sample(15)\n",
    "# while not df.injury_treated_injury_treated_with_wrong_treatment.any(): df = scene_df.sample(15)\n",
    "mask_series = ~scene_df.injury_treated_injury_treated_with_wrong_treatment.isnull()\n",
    "df = scene_df[mask_series]\n",
    "columns_list = [\n",
    "    'injury_id', 'injury_required_procedure', 'injury_record_required_procedure', 'injury_treated_required_procedure',\n",
    "    'injury_treated_injury_treated_with_wrong_treatment'\n",
    "]\n",
    "print(f\"\"\"\n",
    "    def setUp(self):\n",
    "        # Create a sample DataFrame\n",
    "        self.scene_df = DataFrame({{\n",
    "            'action_tick': {df.action_tick.tolist()},\n",
    "            'patient_id': {df.patient_id.tolist()},\"\"\")\n",
    "for cn in columns_list: print(f\"\"\"            '{cn}': {df[cn].tolist()},\"\"\")\n",
    "print(f\"\"\"        }})\"\"\")"
   ]
  },
  {
   "cell_type": "code",
   "execution_count": 16,
   "id": "3b38b6fd-8a49-4758-ae40-b02917097d49",
   "metadata": {},
   "outputs": [
    {
     "name": "stdout",
     "output_type": "stream",
     "text": [
      "Hemorrhage-related injuries that have been recorded or treated: 8\n",
      "Injuries requiring hemorrhage control procedures: 8\n",
      "Hemorrhage-related injuries that have been treated: 7\n",
      "Percentage of hemorrhage controlled: 87.50%\n"
     ]
    },
    {
     "data": {
      "text/html": [
       "<div>\n",
       "<style scoped>\n",
       "    .dataframe tbody tr th:only-of-type {\n",
       "        vertical-align: middle;\n",
       "    }\n",
       "\n",
       "    .dataframe tbody tr th {\n",
       "        vertical-align: top;\n",
       "    }\n",
       "\n",
       "    .dataframe thead th {\n",
       "        text-align: right;\n",
       "    }\n",
       "</style>\n",
       "<table border=\"1\" class=\"dataframe\">\n",
       "  <thead>\n",
       "    <tr style=\"text-align: right;\">\n",
       "      <th></th>\n",
       "      <th>injury_required_procedure</th>\n",
       "      <th>injury_record_required_procedure</th>\n",
       "      <th>injury_treated_required_procedure</th>\n",
       "      <th>injury_treated_injury_treated_with_wrong_treatment</th>\n",
       "    </tr>\n",
       "  </thead>\n",
       "  <tbody>\n",
       "    <tr>\n",
       "      <th>0</th>\n",
       "      <td>tourniquet</td>\n",
       "      <td>tourniquet</td>\n",
       "      <td>tourniquet</td>\n",
       "      <td>False</td>\n",
       "    </tr>\n",
       "    <tr>\n",
       "      <th>4</th>\n",
       "      <td>woundpack</td>\n",
       "      <td>woundpack</td>\n",
       "      <td>woundpack</td>\n",
       "      <td>False</td>\n",
       "    </tr>\n",
       "    <tr>\n",
       "      <th>5</th>\n",
       "      <td>tourniquet</td>\n",
       "      <td>tourniquet</td>\n",
       "      <td>tourniquet</td>\n",
       "      <td>True</td>\n",
       "    </tr>\n",
       "    <tr>\n",
       "      <th>6</th>\n",
       "      <td>decompress</td>\n",
       "      <td>decompress</td>\n",
       "      <td>decompress</td>\n",
       "      <td>False</td>\n",
       "    </tr>\n",
       "    <tr>\n",
       "      <th>9</th>\n",
       "      <td>gauzePressure</td>\n",
       "      <td>gauzePressure</td>\n",
       "      <td>gauzePressure</td>\n",
       "      <td>False</td>\n",
       "    </tr>\n",
       "  </tbody>\n",
       "</table>\n",
       "</div>"
      ],
      "text/plain": [
       "  injury_required_procedure injury_record_required_procedure  \\\n",
       "0                tourniquet                       tourniquet   \n",
       "4                 woundpack                        woundpack   \n",
       "5                tourniquet                       tourniquet   \n",
       "6                decompress                       decompress   \n",
       "9             gauzePressure                    gauzePressure   \n",
       "\n",
       "  injury_treated_required_procedure  \\\n",
       "0                        tourniquet   \n",
       "4                         woundpack   \n",
       "5                        tourniquet   \n",
       "6                        decompress   \n",
       "9                     gauzePressure   \n",
       "\n",
       "   injury_treated_injury_treated_with_wrong_treatment  \n",
       "0                                              False   \n",
       "4                                              False   \n",
       "5                                               True   \n",
       "6                                              False   \n",
       "9                                              False   "
      ]
     },
     "metadata": {},
     "output_type": "display_data"
    },
    {
     "data": {
      "text/plain": [
       "87.5"
      ]
     },
     "execution_count": 16,
     "metadata": {},
     "output_type": "execute_result"
    }
   ],
   "source": [
    "\n",
    "from pandas import DataFrame\n",
    "from numpy import nan\n",
    "\n",
    "# Create a sample DataFrame\n",
    "procedures_list = [\n",
    "    'tourniquet', 'tourniquet', 'tourniquet', 'tourniquet', 'woundpack',\n",
    "    'tourniquet', 'decompress', 'woundpack', 'tourniquet', 'gauzePressure'\n",
    "]\n",
    "all_trues = [True] * len(procedures_list)\n",
    "some_trues = [\n",
    "    False, False, False, False, False,\n",
    "    True, False, False, False, False\n",
    "]\n",
    "all_falses = [False] * len(procedures_list)\n",
    "scene_df = DataFrame({\n",
    "    'action_tick': [\n",
    "        53712, 111438, 173005, 201999, 235440,\n",
    "        249305, 296810, 329527, 363492, 442375\n",
    "    ],\n",
    "    'patient_id': [\n",
    "        'Gloria_2 Root', 'Lily_1 Root', 'Lily_1 Root', 'Mike_3 Root', 'Helga_0 Root',\n",
    "        'Helga_0 Root', 'Mike_6 Root', 'Mike_9 Root', 'Mike_9 Root', 'Mike_4 Root'\n",
    "    ],\n",
    "    'injury_id': [\n",
    "        'L Shin Amputation', 'R Thigh Laceration', 'R Bicep Puncture', 'R Wrist Amputation', 'L Stomach Puncture',\n",
    "        'L Thigh Puncture', 'R Chest Collapse', 'L Side Puncture', 'L Thigh Puncture', 'R Palm Laceration'\n",
    "    ],\n",
    "    'injury_required_procedure': procedures_list,\n",
    "    'injury_record_required_procedure': procedures_list,\n",
    "    'injury_treated_required_procedure': procedures_list,\n",
    "    'injury_treated_injury_treated_with_wrong_treatment': some_trues\n",
    "})\n",
    "fu.get_percent_hemorrhage_controlled(scene_df, verbose=True)"
   ]
  },
  {
   "cell_type": "code",
   "execution_count": 18,
   "id": "9d09a462-19d3-4c6c-a4a8-77e95d512007",
   "metadata": {},
   "outputs": [
    {
     "data": {
      "text/plain": [
       "87.5"
      ]
     },
     "execution_count": 18,
     "metadata": {},
     "output_type": "execute_result"
    }
   ],
   "source": [
    "\n",
    "# Test the function with duplicate treatment entries for the same injury\n",
    "duplicate_df = scene_df.append(scene_df.iloc[3])\n",
    "fu.get_percent_hemorrhage_controlled(duplicate_df)"
   ]
  },
  {
   "cell_type": "code",
   "execution_count": 8,
   "id": "fef46b8e-febb-4ed2-b675-3b5ba1253e9c",
   "metadata": {},
   "outputs": [
    {
     "name": "stdout",
     "output_type": "stream",
     "text": [
      "\n",
      "patient_id: ['Gloria_2 Root']\n",
      "injury_id: ['L Shin Amputation']\n",
      "injury_required_procedure: ['tourniquet']\n",
      "injury_record_required_procedure: ['tourniquet']\n",
      "injury_treated_required_procedure: ['tourniquet']\n",
      "injury_treated_injury_treated_with_wrong_treatment: [False]\n",
      "\n",
      "patient_id: ['Helga_0 Root']\n",
      "injury_id: ['L Stomach Puncture']\n",
      "injury_required_procedure: ['woundpack']\n",
      "injury_record_required_procedure: ['woundpack']\n",
      "injury_treated_required_procedure: ['woundpack']\n",
      "injury_treated_injury_treated_with_wrong_treatment: [False]\n",
      "\n",
      "patient_id: ['Helga_0 Root']\n",
      "injury_id: ['L Thigh Puncture']\n",
      "injury_required_procedure: ['tourniquet']\n",
      "injury_record_required_procedure: ['tourniquet']\n",
      "injury_treated_required_procedure: ['tourniquet']\n",
      "injury_treated_injury_treated_with_wrong_treatment: [True]\n",
      "\n",
      "patient_id: ['Lily_1 Root']\n",
      "injury_id: ['R Bicep Puncture']\n",
      "injury_required_procedure: ['tourniquet']\n",
      "injury_record_required_procedure: ['tourniquet']\n",
      "injury_treated_required_procedure: ['tourniquet']\n",
      "injury_treated_injury_treated_with_wrong_treatment: [False]\n",
      "\n",
      "patient_id: ['Lily_1 Root']\n",
      "injury_id: ['R Thigh Laceration']\n",
      "injury_required_procedure: ['tourniquet']\n",
      "injury_record_required_procedure: ['tourniquet']\n",
      "injury_treated_required_procedure: ['tourniquet']\n",
      "injury_treated_injury_treated_with_wrong_treatment: [False]\n",
      "\n",
      "patient_id: ['Mike_3 Root']\n",
      "injury_id: ['R Wrist Amputation']\n",
      "injury_required_procedure: ['tourniquet']\n",
      "injury_record_required_procedure: ['tourniquet']\n",
      "injury_treated_required_procedure: ['tourniquet']\n",
      "injury_treated_injury_treated_with_wrong_treatment: [False]\n",
      "\n",
      "patient_id: ['Mike_4 Root']\n",
      "injury_id: ['R Palm Laceration']\n",
      "injury_required_procedure: ['gauzePressure']\n",
      "injury_record_required_procedure: ['gauzePressure']\n",
      "injury_treated_required_procedure: ['gauzePressure']\n",
      "injury_treated_injury_treated_with_wrong_treatment: [False]\n",
      "\n",
      "patient_id: ['Mike_6 Root']\n",
      "injury_id: ['R Chest Collapse']\n",
      "injury_required_procedure: ['decompress']\n",
      "injury_record_required_procedure: ['decompress']\n",
      "injury_treated_required_procedure: ['decompress']\n",
      "injury_treated_injury_treated_with_wrong_treatment: [False]\n",
      "\n",
      "patient_id: ['Mike_9 Root']\n",
      "injury_id: ['L Side Puncture']\n",
      "injury_required_procedure: ['woundpack']\n",
      "injury_record_required_procedure: ['woundpack']\n",
      "injury_treated_required_procedure: ['woundpack']\n",
      "injury_treated_injury_treated_with_wrong_treatment: [False]\n",
      "\n",
      "patient_id: ['Mike_9 Root']\n",
      "injury_id: ['L Thigh Puncture']\n",
      "injury_required_procedure: ['tourniquet']\n",
      "injury_record_required_procedure: ['tourniquet']\n",
      "injury_treated_required_procedure: ['tourniquet']\n",
      "injury_treated_injury_treated_with_wrong_treatment: [False]\n"
     ]
    }
   ],
   "source": [
    "\n",
    "# Loop through each injury, examining its required procedures and wrong treatments\n",
    "columns_list = [\n",
    "    'patient_id', 'injury_id', 'injury_required_procedure', 'injury_record_required_procedure', 'injury_treated_required_procedure',\n",
    "    'injury_treated_injury_treated_with_wrong_treatment'\n",
    "]\n",
    "for (patient_id, injury_id), injury_df in scene_df.groupby(['patient_id', 'injury_id']):\n",
    "    print()\n",
    "    for cn in columns_list: print(f'{cn}: {injury_df[cn].tolist()}')"
   ]
  },
  {
   "cell_type": "code",
   "execution_count": 66,
   "id": "1303ce1e-8627-40e3-b0bd-d1cef1159cfe",
   "metadata": {},
   "outputs": [],
   "source": [
    "\n",
    "for (session_uuid, scene_id, patient_id), patient_df in merge_df[mask_series].groupby(fu.patient_groupby_columns):\n",
    "    \n",
    "    # Get the entire patient history\n",
    "    patient_mask_series = True\n",
    "    for cn in fu.patient_groupby_columns: patient_mask_series &= (merge_df[cn] == eval(cn))\n",
    "    patient_df = merge_df[patient_mask_series]\n",
    "    \n",
    "    if (patient_df.shape[0] >= 5): break"
   ]
  },
  {
   "cell_type": "code",
   "execution_count": 29,
   "id": "1b94e253-7827-49ab-ba8a-7c17aeafceb2",
   "metadata": {},
   "outputs": [],
   "source": [
    "\n",
    "from pandas import Series, concat\n",
    "\n",
    "for responder_category, responder_categories_df in elevens_df.groupby('responder_category'):\n",
    "    if (responder_category != 'Nurse or Other HP'):\n",
    "        describable_df = concat([\n",
    "            Series(\n",
    "                [fu.get_triage_time(scene_df) for _, scene_df in responder_categories_df.groupby(fu.scene_groupby_columns)]\n",
    "            ).to_frame().rename(columns={0: 'triage_time'}),\n",
    "            Series(\n",
    "                [fu.get_time_to_last_hemorrhage_controlled(scene_df) for _, scene_df in responder_categories_df.groupby(fu.scene_groupby_columns)]\n",
    "            ).to_frame().rename(columns={0: 'last_controlled_time'})\n",
    "        ], axis='columns')\n",
    "        break"
   ]
  },
  {
   "cell_type": "code",
   "execution_count": 34,
   "id": "f4df99b4-c0b0-4e23-a0aa-a84f08bf0002",
   "metadata": {},
   "outputs": [
    {
     "name": "stdout",
     "output_type": "stream",
     "text": [
      "\n",
      "        # Create a sample DataFrame\n",
      "        self.describable_df = DataFrame({\n",
      "            'triage_time': [461207, 615663, 649185, 19615, 488626],\n",
      "            'last_controlled_time': [377263, 574558, 462280, 0, 321956]\n",
      "        })\n"
     ]
    }
   ],
   "source": [
    "\n",
    "df = describable_df.sample(5)\n",
    "print(f\"\"\"\n",
    "        # Create a sample DataFrame\n",
    "        self.describable_df = DataFrame({{\n",
    "            'triage_time': {df.triage_time.tolist()},\n",
    "            'last_controlled_time': {df.last_controlled_time.tolist()}\n",
    "        }})\"\"\")"
   ]
  },
  {
   "cell_type": "code",
   "execution_count": 37,
   "id": "e5f4372e-1a1f-491f-8b48-dc10cfefcbb9",
   "metadata": {},
   "outputs": [
    {
     "data": {
      "text/plain": [
       "{'triage_time': [446859.2, 19615.0, 488626.0, 251951.57452415334, 19615.0, 461207.0, 488626.0, 615663.0, 649185.0], 'last_controlled_time': [347211.4, 0.0, 377263.0, 216231.3283379631, 0.0, 321956.0, 377263.0, 462280.0, 574558.0]}"
      ]
     },
     "execution_count": 37,
     "metadata": {},
     "output_type": "execute_result"
    }
   ],
   "source": [
    "\n",
    "# Create a sample DataFrame\n",
    "describable_df = DataFrame({\n",
    "    'triage_time': [461207, 615663, 649185, 19615, 488626],\n",
    "    'last_controlled_time': [377263, 574558, 462280, 0, 321956]\n",
    "})\n",
    "expected_df = DataFrame(\n",
    "    {\n",
    "        'triage_time': [446859.2, 19615.0, 488626.0, 251951.57452415334, 19615.0, 461207.0, 488626.0, 615663.0, 649185.0],\n",
    "        'last_controlled_time': [347211.4, 0.0, 377263.0, 216231.3283379631, 0.0, 321956.0, 377263.0, 462280.0, 574558.0]\n",
    "    },\n",
    "    index=['mean', 'mode', 'median', 'SD', 'min', '25%', '50%', '75%', 'max']\n",
    ")\n",
    "\n",
    "# Test with all columns\n",
    "columns_list = describable_df.columns.tolist()\n",
    "actual_df = fu.get_statistics(describable_df, columns_list)\n",
    "actual_df.to_dict(orient='list')"
   ]
  },
  {
   "cell_type": "code",
   "execution_count": 6,
   "id": "86e598b3-e518-43f7-addf-b541332ee860",
   "metadata": {},
   "outputs": [
    {
     "name": "stdout",
     "output_type": "stream",
     "text": [
      "\n",
      "        # Create a mock DataFrame with scene start and end time columns\n",
      "        self.scene_df = pd.DataFrame({\n",
      "            \"action_tick\": [575896, 693191, 699598]\n",
      "        })\n"
     ]
    }
   ],
   "source": [
    "\n",
    "for (session_uuid, scene_id), scene_df in elevens_df.groupby(fu.scene_groupby_columns):\n",
    "    if scene_df.shape[0] >= 2: break\n",
    "df = scene_df.sample(3)\n",
    "print(f\"\"\"\n",
    "        # Create a mock DataFrame with scene start and end time columns\n",
    "        self.scene_df = DataFrame({{\n",
    "            \"action_tick\": {df.action_tick.tolist()}\n",
    "        }})\"\"\")"
   ]
  },
  {
   "cell_type": "code",
   "execution_count": 9,
   "id": "2e69ab5a-c435-4c56-9cc3-845b34652f2e",
   "metadata": {},
   "outputs": [
    {
     "data": {
      "text/plain": [
       "123702"
      ]
     },
     "execution_count": 9,
     "metadata": {},
     "output_type": "execute_result"
    }
   ],
   "source": [
    "\n",
    "# Create a mock DataFrame with scene start and end time columns\n",
    "from pandas import DataFrame\n",
    "scene_df = DataFrame({\n",
    "    \"action_tick\": [575896, 693191, 699598]\n",
    "})\n",
    "fu.get_triage_time(scene_df)"
   ]
  },
  {
   "cell_type": "code",
   "execution_count": 3,
   "id": "646912a9-465a-42f7-ad21-fb49e9cc54fd",
   "metadata": {
    "tags": []
   },
   "outputs": [
    {
     "name": "stdout",
     "output_type": "stream",
     "text": [
      "zero seconds: '0 sec' or '00:00'\n",
      "thirty seconds: '30 sec' or '00:30'\n",
      "one minute: '1 min' or '01:00'\n",
      "a minute and a half: '1:30' or '01:30'\n",
      "two minutes: '2 min' or '02:00'\n"
     ]
    }
   ],
   "source": [
    "\n",
    "# Example usage\n",
    "zero_seconds_s = fu.format_timedelta(timedelta(seconds=0), minimum_unit='seconds')\n",
    "zero_seconds_m = fu.format_timedelta(timedelta(seconds=0), minimum_unit='minutes')\n",
    "thirty_seconds_s = fu.format_timedelta(timedelta(seconds=30), minimum_unit='seconds')\n",
    "thirty_seconds_m = fu.format_timedelta(timedelta(seconds=30), minimum_unit='minutes')\n",
    "one_minute_s = fu.format_timedelta(timedelta(minutes=1, seconds=0), minimum_unit='seconds')\n",
    "one_minute_m = fu.format_timedelta(timedelta(minutes=1, seconds=0), minimum_unit='minutes')\n",
    "a_minute_and_a_half_s = fu.format_timedelta(timedelta(minutes=1, seconds=30), minimum_unit='seconds')\n",
    "a_minute_and_a_half_m = fu.format_timedelta(timedelta(minutes=1, seconds=30), minimum_unit='minutes')\n",
    "two_minute_s = fu.format_timedelta(timedelta(minutes=2, seconds=0), minimum_unit='seconds')\n",
    "two_minute_m = fu.format_timedelta(timedelta(minutes=2, seconds=0), minimum_unit='minutes')\n",
    "\n",
    "print(\n",
    "    f\"zero seconds: '{zero_seconds_s}' or '{zero_seconds_m}'\\n\"\n",
    "    f\"thirty seconds: '{thirty_seconds_s}' or '{thirty_seconds_m}'\\n\"\n",
    "    f\"one minute: '{one_minute_s}' or '{one_minute_m}'\\n\"\n",
    "    f\"a minute and a half: '{a_minute_and_a_half_s}' or '{a_minute_and_a_half_m}'\\n\"\n",
    "    f\"two minutes: '{two_minute_s}' or '{two_minute_m}'\"\n",
    ")"
   ]
  },
  {
   "cell_type": "code",
   "execution_count": 48,
   "id": "f40e0d49-71e3-4fe9-ba1a-ef093967eb89",
   "metadata": {},
   "outputs": [],
   "source": [
    "\n",
    "mask_series = ~elevens_df.injury_required_procedure.isnull()\n",
    "for (session_uuid, scene_id, patient_id), patient_df in elevens_df[mask_series].groupby(fu.patient_groupby_columns):\n",
    "    if patient_df.shape[0] >= 3:\n",
    "        \n",
    "        # Get the entire history of this patient\n",
    "        mask_series = True\n",
    "        for cn in fu.patient_groupby_columns: mask_series &= (elevens_df[cn] == eval(cn))\n",
    "        patient_df = elevens_df[mask_series]\n",
    "        \n",
    "        mask_series = ~patient_df.injury_record_required_procedure.isnull()\n",
    "        record_count = patient_df[mask_series].shape[0]\n",
    "        mask_series = ~patient_df.injury_treated_required_procedure.isnull()\n",
    "        treated_count = patient_df[mask_series].shape[0]\n",
    "        if (record_count > 1) and (treated_count > 1): break"
   ]
  },
  {
   "cell_type": "code",
   "execution_count": 52,
   "id": "4f14423a-ef2a-4e01-a902-890010fd9311",
   "metadata": {},
   "outputs": [
    {
     "name": "stdout",
     "output_type": "stream",
     "text": [
      "\n",
      "        # Create mock data for the patient DataFrame\n",
      "        self.patient_df = DataFrame({\n",
      "            'action_type': ['INJURY_TREATED', 'INJURY_TREATED', 'INJURY_RECORD'],\n",
      "            'action_tick': [455202, 448909, 305828],\n",
      "            'injury_id': ['R Side Puncture', 'R Thigh Laceration', 'R Side Puncture'],\n",
      "            'injury_record_required_procedure': [nan, nan, 'woundpack'],\n",
      "            'injury_treated_required_procedure': ['woundpack', 'gauzePressure', nan]\n",
      "        })\n"
     ]
    }
   ],
   "source": [
    "\n",
    "mask_series = ~patient_df.injury_required_procedure.isnull()\n",
    "df = patient_df[mask_series].sample(3)\n",
    "print(f\"\"\"\n",
    "        # Create mock data for the patient DataFrame\n",
    "        self.patient_df = DataFrame({{\n",
    "            'action_type': {df.action_type.tolist()},\n",
    "            'action_tick': {df.action_tick.tolist()},\n",
    "            'injury_id': {df.injury_id.tolist()},\n",
    "            'injury_record_required_procedure': {df.injury_record_required_procedure.tolist()},\n",
    "            'injury_treated_required_procedure': {df.injury_treated_required_procedure.tolist()}\n",
    "        }})\"\"\")"
   ]
  },
  {
   "cell_type": "code",
   "execution_count": 53,
   "id": "746d526d-069e-4004-9fd2-786d6d60da36",
   "metadata": {},
   "outputs": [
    {
     "data": {
      "text/plain": [
       "['PULSE_TAKEN', 'PATIENT_ENGAGED', 'INJURY_TREATED', 'TAG_APPLIED', 'TOOL_APPLIED']"
      ]
     },
     "execution_count": 53,
     "metadata": {},
     "output_type": "execute_result"
    }
   ],
   "source": [
    "\n",
    "fu.responder_negotiations_list"
   ]
  },
  {
   "cell_type": "code",
   "execution_count": 55,
   "id": "f22af08f-af2e-40b5-837a-f0fa595b5ea1",
   "metadata": {},
   "outputs": [
    {
     "data": {
      "text/plain": [
       "6293"
      ]
     },
     "execution_count": 55,
     "metadata": {},
     "output_type": "execute_result"
    }
   ],
   "source": [
    "\n",
    "# Create mock data for the patient DataFrame\n",
    "from numpy import nan\n",
    "\n",
    "# Create mock data for the patient DataFrame\n",
    "patient_df = DataFrame({\n",
    "    'action_type': ['INJURY_TREATED', 'INJURY_TREATED', 'INJURY_RECORD'],\n",
    "    'action_tick': [455202, 448909, 305828],\n",
    "    'injury_id': ['R Side Puncture', 'R Thigh Laceration', 'R Side Puncture'],\n",
    "    'injury_record_required_procedure': [nan, nan, 'woundpack'],\n",
    "    'injury_treated_required_procedure': ['woundpack', 'gauzePressure', nan]\n",
    "})\n",
    "fu.get_time_to_hemorrhage_control(patient_df, verbose=False)"
   ]
  },
  {
   "cell_type": "code",
   "execution_count": 56,
   "id": "a3a68d91-8913-402a-8b10-0e4ad4acb27d",
   "metadata": {},
   "outputs": [
    {
     "data": {
      "text/plain": [
       "155202"
      ]
     },
     "execution_count": 56,
     "metadata": {},
     "output_type": "execute_result"
    }
   ],
   "source": [
    "\n",
    "scene_start = 300_000\n",
    "fu.get_time_to_hemorrhage_control(patient_df, scene_start=scene_start, verbose=False)"
   ]
  },
  {
   "cell_type": "code",
   "execution_count": null,
   "id": "10aa375f-8db4-4d66-95ea-3b83615fcf2b",
   "metadata": {},
   "outputs": [],
   "source": [
    "\n",
    "functions_list = [\n",
    "    'colors_category_order', 'error_table_df', 'errors_category_order', 'format_timedelta', 'get_elevens_data_frame', 'get_last_tag',\n",
    "    'get_max_salt', 'get_percent_hemorrhage_controlled', 'get_statistics', 'get_time_to_hemorrhage_control',\n",
    "    'get_time_to_last_hemorrhage_controlled', 'get_triage_time', 'hemorrhage_control_procedures_list', 'is_patient_hemorrhaging',\n",
    "    'patient_groupby_columns', 'salt_category_order', 'salt_to_tag_dict', 'scene_groupby_columns', 'tag_colors'\n",
    "]\n",
    "function_regex = re.compile(r'\\b(' + '|'.join(functions_list) + r')\\b')"
   ]
  },
  {
   "cell_type": "code",
   "execution_count": 4,
   "id": "0e809093-fb0b-4781-b416-6381c9374e82",
   "metadata": {},
   "outputs": [
    {
     "name": "stderr",
     "output_type": "stream",
     "text": [
      "......\n",
      "----------------------------------------------------------------------\n",
      "Ran 6 tests in 0.008s\n",
      "\n",
      "OK\n"
     ]
    },
    {
     "data": {
      "text/plain": [
       "<unittest.runner.TextTestResult run=6 errors=0 failures=0>"
      ]
     },
     "execution_count": 4,
     "metadata": {},
     "output_type": "execute_result"
    }
   ],
   "source": [
    "\n",
    "# Create another test suite\n",
    "suite = unittest.TestSuite()\n",
    "\n",
    "# Add all test cases from the class to the suite\n",
    "from test_color_functions import TestColorDistanceFrom, TestGetTextColor\n",
    "suite.addTest(unittest.makeSuite(TestColorDistanceFrom))\n",
    "suite.addTest(unittest.makeSuite(TestGetTextColor))\n",
    "\n",
    "# Run the test suite\n",
    "runner = unittest.TextTestRunner()\n",
    "runner.run(suite)"
   ]
  },
  {
   "cell_type": "code",
   "execution_count": null,
   "id": "ac6f7720-fea3-42a7-a3fc-7ecaecc4d8d9",
   "metadata": {},
   "outputs": [],
   "source": []
  }
 ],
 "metadata": {
  "kernelspec": {
   "display_name": "ITM Analysis Reporting (Python 3.11.5)",
   "language": "python",
   "name": "itm_analysis_reporting"
  },
  "language_info": {
   "codemirror_mode": {
    "name": "ipython",
    "version": 3
   },
   "file_extension": ".py",
   "mimetype": "text/x-python",
   "name": "python",
   "nbconvert_exporter": "python",
   "pygments_lexer": "ipython3",
   "version": "3.7.12"
  }
 },
 "nbformat": 4,
 "nbformat_minor": 5
}

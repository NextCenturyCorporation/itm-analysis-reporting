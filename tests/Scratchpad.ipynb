{
 "cells": [
  {
   "cell_type": "code",
   "execution_count": 1,
   "id": "4341412b-72af-498f-85ec-015e4c7af72c",
   "metadata": {},
   "outputs": [
    {
     "name": "stdout",
     "output_type": "stream",
     "text": [
      "Pretty printing has been turned OFF\n"
     ]
    }
   ],
   "source": [
    "\n",
    "# Set up notebook\n",
    "%pprint\n",
    "import sys\n",
    "sys.path.insert(1, '../tests')"
   ]
  },
  {
   "cell_type": "code",
   "execution_count": 2,
   "id": "19504feb-41b6-42ba-ac10-a13f40f01166",
   "metadata": {},
   "outputs": [],
   "source": [
    "\n",
    "import unittest"
   ]
  },
  {
   "cell_type": "code",
   "execution_count": 3,
   "id": "7d4285f4-3dab-4854-8898-aee456544295",
   "metadata": {},
   "outputs": [
    {
     "name": "stderr",
     "output_type": "stream",
     "text": [
      "..\n",
      "----------------------------------------------------------------------\n",
      "Ran 2 tests in 0.018s\n",
      "\n",
      "OK\n"
     ]
    },
    {
     "data": {
      "text/plain": [
       "<unittest.runner.TextTestResult run=2 errors=0 failures=0>"
      ]
     },
     "execution_count": 3,
     "metadata": {},
     "output_type": "execute_result"
    }
   ],
   "source": [
    "\n",
    "# Create another test suite\n",
    "suite = unittest.TestSuite()\n",
    "\n",
    "# Add all test cases from the class to the suite\n",
    "from test_frvrs_utils_patient_functions import TestGetTimeToHemorrhageControl\n",
    "suite.addTest(unittest.makeSuite(TestGetTimeToHemorrhageControl))\n",
    "\n",
    "# Run the test suite\n",
    "runner = unittest.TextTestRunner()\n",
    "runner.run(suite)"
   ]
  },
  {
   "cell_type": "code",
   "execution_count": 4,
   "id": "0e809093-fb0b-4781-b416-6381c9374e82",
   "metadata": {},
   "outputs": [
    {
     "name": "stderr",
     "output_type": "stream",
     "text": [
      "...\n",
      "----------------------------------------------------------------------\n",
      "Ran 3 tests in 0.003s\n",
      "\n",
      "OK\n"
     ]
    },
    {
     "data": {
      "text/plain": [
       "<unittest.runner.TextTestResult run=3 errors=0 failures=0>"
      ]
     },
     "execution_count": 4,
     "metadata": {},
     "output_type": "execute_result"
    }
   ],
   "source": [
    "\n",
    "# Create another test suite\n",
    "suite = unittest.TestSuite()\n",
    "\n",
    "# Add all test cases from the class to the suite\n",
    "from test_color_functions import TestColorDistanceFrom\n",
    "suite.addTest(unittest.makeSuite(TestColorDistanceFrom))\n",
    "\n",
    "# Run the test suite\n",
    "runner = unittest.TextTestRunner()\n",
    "runner.run(suite)"
   ]
  },
  {
   "cell_type": "code",
   "execution_count": 5,
   "id": "65af5564-efca-4384-8e9b-f76d70a052b8",
   "metadata": {},
   "outputs": [
    {
     "name": "stderr",
     "output_type": "stream",
     "text": [
      "...\n",
      "----------------------------------------------------------------------\n",
      "Ran 3 tests in 0.004s\n",
      "\n",
      "OK\n"
     ]
    },
    {
     "data": {
      "text/plain": [
       "<unittest.runner.TextTestResult run=3 errors=0 failures=0>"
      ]
     },
     "execution_count": 5,
     "metadata": {},
     "output_type": "execute_result"
    }
   ],
   "source": [
    "\n",
    "# Create another test suite\n",
    "suite = unittest.TestSuite()\n",
    "\n",
    "# Add all test cases from the class to the suite\n",
    "from test_color_functions import TestGetTextColor\n",
    "suite.addTest(unittest.makeSuite(TestGetTextColor))\n",
    "\n",
    "# Run the test suite\n",
    "runner = unittest.TextTestRunner()\n",
    "runner.run(suite)"
   ]
  },
  {
   "cell_type": "markdown",
   "id": "6d3d9f71-3ee7-445f-8750-b8a1697793fd",
   "metadata": {},
   "source": [
    "\n",
    "# Create some good Mock Data"
   ]
  },
  {
   "cell_type": "code",
   "execution_count": 9,
   "id": "78471d12-e022-4556-8967-69641832ee86",
   "metadata": {},
   "outputs": [
    {
     "name": "stdout",
     "output_type": "stream",
     "text": [
      "Attempting to load /mnt/c/Users/DaveBabbitt/Documents/GitHub/itm-analysis-reporting/saves/pkl/first_responder_master_registry_df.pkl.\n",
      "Attempting to load /mnt/c/Users/DaveBabbitt/Documents/GitHub/itm-analysis-reporting/saves/pkl/first_responder_master_registry_file_stats_df.pkl.\n",
      "Attempting to load /mnt/c/Users/DaveBabbitt/Documents/GitHub/itm-analysis-reporting/saves/pkl/first_responder_master_registry_scene_stats_df.pkl.\n"
     ]
    }
   ],
   "source": [
    "\n",
    "sys.path.insert(1, '../py')\n",
    "from FRVRS import fu, nu\n",
    "data_frames_list = nu.load_data_frames(\n",
    "    first_responder_master_registry_df='', first_responder_master_registry_file_stats_df='', first_responder_master_registry_scene_stats_df=''\n",
    ")\n",
    "triage_paper_df = data_frames_list['first_responder_master_registry_df']\n",
    "file_stats_df = data_frames_list['first_responder_master_registry_file_stats_df']\n",
    "scene_stats_df = data_frames_list['first_responder_master_registry_scene_stats_df']\n",
    "elevens_df = fu.get_elevens_data_frame(\n",
    "    triage_paper_df, file_stats_df, scene_stats_df, needed_columns=['scene_type', 'is_scene_aborted', 'is_a_one_triage_file', 'responder_category']\n",
    ")"
   ]
  },
  {
   "cell_type": "code",
   "execution_count": 48,
   "id": "f40e0d49-71e3-4fe9-ba1a-ef093967eb89",
   "metadata": {},
   "outputs": [],
   "source": [
    "\n",
    "mask_series = ~elevens_df.injury_required_procedure.isnull()\n",
    "for (session_uuid, scene_id, patient_id), patient_df in elevens_df[mask_series].groupby(fu.patient_groupby_columns):\n",
    "    if patient_df.shape[0] >= 3:\n",
    "        \n",
    "        # Get the entire history of this patient\n",
    "        mask_series = True\n",
    "        for cn in fu.patient_groupby_columns: mask_series &= (elevens_df[cn] == eval(cn))\n",
    "        patient_df = elevens_df[mask_series]\n",
    "        \n",
    "        mask_series = ~patient_df.injury_record_required_procedure.isnull()\n",
    "        record_count = patient_df[mask_series].shape[0]\n",
    "        mask_series = ~patient_df.injury_treated_required_procedure.isnull()\n",
    "        treated_count = patient_df[mask_series].shape[0]\n",
    "        if (record_count > 1) and (treated_count > 1): break"
   ]
  },
  {
   "cell_type": "code",
   "execution_count": 52,
   "id": "4f14423a-ef2a-4e01-a902-890010fd9311",
   "metadata": {},
   "outputs": [
    {
     "name": "stdout",
     "output_type": "stream",
     "text": [
      "\n",
      "        # Create mock data for the patient DataFrame\n",
      "        self.patient_df = DataFrame({\n",
      "            'action_type': ['INJURY_TREATED', 'INJURY_TREATED', 'INJURY_RECORD'],\n",
      "            'action_tick': [455202, 448909, 305828],\n",
      "            'injury_id': ['R Side Puncture', 'R Thigh Laceration', 'R Side Puncture'],\n",
      "            'injury_record_required_procedure': [nan, nan, 'woundpack'],\n",
      "            'injury_treated_required_procedure': ['woundpack', 'gauzePressure', nan]\n",
      "        })\n"
     ]
    }
   ],
   "source": [
    "\n",
    "mask_series = ~patient_df.injury_required_procedure.isnull()\n",
    "df = patient_df[mask_series].sample(3)\n",
    "print(f\"\"\"\n",
    "        # Create mock data for the patient DataFrame\n",
    "        self.patient_df = DataFrame({{\n",
    "            'action_type': {df.action_type.tolist()},\n",
    "            'action_tick': {df.action_tick.tolist()},\n",
    "            'injury_id': {df.injury_id.tolist()},\n",
    "            'injury_record_required_procedure': {df.injury_record_required_procedure.tolist()},\n",
    "            'injury_treated_required_procedure': {df.injury_treated_required_procedure.tolist()}\n",
    "        }})\"\"\")"
   ]
  },
  {
   "cell_type": "code",
   "execution_count": 53,
   "id": "746d526d-069e-4004-9fd2-786d6d60da36",
   "metadata": {},
   "outputs": [
    {
     "data": {
      "text/plain": [
       "['PULSE_TAKEN', 'PATIENT_ENGAGED', 'INJURY_TREATED', 'TAG_APPLIED', 'TOOL_APPLIED']"
      ]
     },
     "execution_count": 53,
     "metadata": {},
     "output_type": "execute_result"
    }
   ],
   "source": [
    "\n",
    "fu.responder_negotiations_list"
   ]
  },
  {
   "cell_type": "code",
   "execution_count": 55,
   "id": "f22af08f-af2e-40b5-837a-f0fa595b5ea1",
   "metadata": {},
   "outputs": [
    {
     "data": {
      "text/plain": [
       "6293"
      ]
     },
     "execution_count": 55,
     "metadata": {},
     "output_type": "execute_result"
    }
   ],
   "source": [
    "\n",
    "# Create mock data for the patient DataFrame\n",
    "from pandas import DataFrame\n",
    "from numpy import nan\n",
    "\n",
    "# Create mock data for the patient DataFrame\n",
    "patient_df = DataFrame({\n",
    "    'action_type': ['INJURY_TREATED', 'INJURY_TREATED', 'INJURY_RECORD'],\n",
    "    'action_tick': [455202, 448909, 305828],\n",
    "    'injury_id': ['R Side Puncture', 'R Thigh Laceration', 'R Side Puncture'],\n",
    "    'injury_record_required_procedure': [nan, nan, 'woundpack'],\n",
    "    'injury_treated_required_procedure': ['woundpack', 'gauzePressure', nan]\n",
    "})\n",
    "fu.get_time_to_hemorrhage_control(patient_df, verbose=False)"
   ]
  },
  {
   "cell_type": "code",
   "execution_count": 56,
   "id": "a3a68d91-8913-402a-8b10-0e4ad4acb27d",
   "metadata": {},
   "outputs": [
    {
     "data": {
      "text/plain": [
       "155202"
      ]
     },
     "execution_count": 56,
     "metadata": {},
     "output_type": "execute_result"
    }
   ],
   "source": [
    "\n",
    "scene_start = 300_000\n",
    "fu.get_time_to_hemorrhage_control(patient_df, scene_start=scene_start, verbose=False)"
   ]
  },
  {
   "cell_type": "code",
   "execution_count": null,
   "id": "ac6f7720-fea3-42a7-a3fc-7ecaecc4d8d9",
   "metadata": {},
   "outputs": [],
   "source": []
  }
 ],
 "metadata": {
  "kernelspec": {
   "display_name": "ITM Analysis Reporting (Python 3.11.5)",
   "language": "python",
   "name": "itm_analysis_reporting"
  },
  "language_info": {
   "codemirror_mode": {
    "name": "ipython",
    "version": 3
   },
   "file_extension": ".py",
   "mimetype": "text/x-python",
   "name": "python",
   "nbconvert_exporter": "python",
   "pygments_lexer": "ipython3",
   "version": "3.7.12"
  }
 },
 "nbformat": 4,
 "nbformat_minor": 5
}

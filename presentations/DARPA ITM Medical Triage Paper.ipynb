{
 "cells": [
  {
   "cell_type": "code",
   "execution_count": 1,
   "id": "710c8979-b516-4884-ba6d-98a9bdcec416",
   "metadata": {},
   "outputs": [
    {
     "name": "stdout",
     "output_type": "stream",
     "text": [
      "Pretty printing has been turned OFF\n"
     ]
    }
   ],
   "source": [
    "\n",
    "# Set up notebook\n",
    "%pprint\n",
    "import sys\n",
    "if ('../py' not in sys.path): sys.path.insert(1, '../py')"
   ]
  },
  {
   "cell_type": "code",
   "execution_count": 2,
   "id": "1c3393a4-7aab-4188-843e-826149df6d23",
   "metadata": {},
   "outputs": [],
   "source": [
    "\n",
    "# load libraries\n",
    "from FRVRS import fu, nu\n",
    "from datetime import date, timedelta\n",
    "from pandas import DataFrame, to_datetime, Series\n",
    "import numpy as np\n",
    "import os\n",
    "import os.path as osp\n",
    "from IPython.display import HTML\n",
    "import pandas as pd"
   ]
  },
  {
   "cell_type": "raw",
   "id": "6b745eb4-3cc8-4a12-9413-e534a75151b1",
   "metadata": {},
   "source": [
    "\n",
    "# Test all the methods used in this notebook in one test suite\n",
    "import unittest\n",
    "if ('../tests' not in sys.path): sys.path.insert(1, '../tests')\n",
    "suite = unittest.TestSuite()\n",
    "\n",
    "# Add all test cases from each class to the suite\n",
    "from test_frvrs_utils_darpa_triage_paper_functions import (\n",
    "    TestFormatTimedelta, TestGetStatistics, TestGetElevensDataFrame, TestGetMaxSalt, TestGetLastTag, TestIsPatientHemorrhagingFunction,\n",
    "    TestGetTimeToHemorrhageControl, TestGetTriageTime, TestGetPercentHemorrhageControlled, TestGetTimeToLastHemorrhageControlled\n",
    ")\n",
    "suite.addTest(unittest.makeSuite(TestFormatTimedelta))\n",
    "suite.addTest(unittest.makeSuite(TestGetStatistics))\n",
    "suite.addTest(unittest.makeSuite(TestGetElevensDataFrame))\n",
    "suite.addTest(unittest.makeSuite(TestGetMaxSalt))\n",
    "suite.addTest(unittest.makeSuite(TestGetLastTag))\n",
    "suite.addTest(unittest.makeSuite(TestIsPatientHemorrhagingFunction))\n",
    "suite.addTest(unittest.makeSuite(TestGetTimeToHemorrhageControl))\n",
    "suite.addTest(unittest.makeSuite(TestGetTriageTime))\n",
    "suite.addTest(unittest.makeSuite(TestGetPercentHemorrhageControlled))\n",
    "suite.addTest(unittest.makeSuite(TestGetTimeToLastHemorrhageControlled))\n",
    "\n",
    "# Run the test suite\n",
    "runner = unittest.TextTestRunner()\n",
    "runner.run(suite)"
   ]
  },
  {
   "cell_type": "markdown",
   "id": "0ec3e473-70ed-474f-b73f-f4ad9dc34e4d",
   "metadata": {},
   "source": [
    "\n",
    "# DARPA ITM Medical Triage Paper\n",
    "\n",
    "> Once we finalize all complete records for the registry (or identify the subset for analyses), based on our slack discussion, we'll need to redo some of the analyses for the paper. I made a listing below of what I think we need for the article and based on the feedback that I've received so far."
   ]
  },
  {
   "cell_type": "code",
   "execution_count": 3,
   "id": "60c41bbd-d759-42c4-839f-69f6bd450de2",
   "metadata": {},
   "outputs": [
    {
     "name": "stdout",
     "output_type": "stream",
     "text": [
      "401177 332 111\n",
      "332 332 19\n",
      "486 332 48\n"
     ]
    }
   ],
   "source": [
    "\n",
    "# load data frames\n",
    "data_frames_list = nu.load_data_frames(\n",
    "    first_responder_master_registry_df='', first_responder_master_registry_file_stats_df='', first_responder_master_registry_scene_stats_df='',\n",
    "    verbose=False\n",
    ")\n",
    "triage_paper_df = data_frames_list['first_responder_master_registry_df']\n",
    "print(triage_paper_df.shape[0], triage_paper_df.session_uuid.nunique(), triage_paper_df.shape[1])\n",
    "file_stats_df = data_frames_list['first_responder_master_registry_file_stats_df']\n",
    "print(file_stats_df.shape[0], file_stats_df.file_name.nunique(), file_stats_df.shape[1])\n",
    "scene_stats_df = data_frames_list['first_responder_master_registry_scene_stats_df']\n",
    "print(scene_stats_df.shape[0], scene_stats_df.session_uuid.nunique(), scene_stats_df.shape[1])"
   ]
  },
  {
   "cell_type": "code",
   "execution_count": 4,
   "id": "b8dcc69e-a48d-401c-96b2-f1b0cab7e36a",
   "metadata": {},
   "outputs": [
    {
     "name": "stdout",
     "output_type": "stream",
     "text": [
      "388974 316 116\n"
     ]
    }
   ],
   "source": [
    "\n",
    "patient_count_filter_fn = lambda scene_df: (scene_df.patient_id.nunique() == 11)\n",
    "elevens_df = fu.get_elevens_data_frame(\n",
    "    triage_paper_df, file_stats_df, scene_stats_df,\n",
    "    needed_columns=['scene_type', 'is_scene_aborted', 'is_a_one_triage_file', 'responder_category', 'responder_type'],\n",
    "    patient_count_filter_fn=patient_count_filter_fn\n",
    ")\n",
    "print(elevens_df.shape[0], elevens_df.session_uuid.nunique(), elevens_df.shape[1])"
   ]
  },
  {
   "cell_type": "code",
   "execution_count": 5,
   "id": "a6ff17fe-d88e-4ba6-a996-79b559da797e",
   "metadata": {},
   "outputs": [],
   "source": [
    "\n",
    "mask_series = ~triage_paper_df.session_uuid.isnull()\n",
    "registry_session_uuids_list = sorted(triage_paper_df[mask_series].session_uuid.unique())"
   ]
  },
  {
   "cell_type": "markdown",
   "id": "98382403-ed41-42ba-ba85-6246e099d9bd",
   "metadata": {},
   "source": [
    "\n",
    "## Triage efficiency (mean, SD, median, IQR) by each responder type"
   ]
  },
  {
   "cell_type": "markdown",
   "id": "f00bcecb-c469-413e-bb6a-cc84acffc91b",
   "metadata": {},
   "source": [
    "\n",
    "* **Time to triage scene**"
   ]
  },
  {
   "cell_type": "code",
   "execution_count": 7,
   "id": "0d7308e9-36ad-4532-b0b5-440241a76206",
   "metadata": {},
   "outputs": [],
   "source": [
    "\n",
    "# Get whisker plot for Time to triage scene\n",
    "import seaborn as sns\n",
    "import matplotlib.pyplot as plt\n",
    "\n",
    "temporalize_fn = lambda x: fu.format_timedelta(timedelta(milliseconds=int(x)), minimum_unit='minutes')\n",
    "def show_whisker_plot(y_column_name, y_label, scene_fn, ytick_fn=temporalize_fn, logs_df=elevens_df, print_responder_counts=False, verbose=False):\n",
    "    x_column_name = 'responder_category'\n",
    "    x_label = ' '.join([w.title() for w in x_column_name.split('_')])\n",
    "    responder_categories_list = ['EMT-Basic', 'Paramedic', 'Medical Student', 'EM Resident']\n",
    "    responder_categories_dict = {o: n for o, n in zip(\n",
    "        responder_categories_list, ['EMT-Basic', 'EMT-Paramedic', 'Medical Student', 'EM-Resident']\n",
    "    )}\n",
    "    rows_list = []\n",
    "    for responder_category in responder_categories_list:\n",
    "        mask_series = (logs_df[x_column_name] == responder_category)\n",
    "        responder_categories_df = logs_df[mask_series]\n",
    "        if verbose: print('session_uuid in responder_categories_df:', bool('session_uuid' in responder_categories_df.columns))\n",
    "        gb = responder_categories_df.groupby(fu.scene_groupby_columns)\n",
    "        for (session_uuid, scene_id), scene_df in gb:\n",
    "            if verbose: print('session_uuid in scene_df:', bool('session_uuid' in scene_df.columns))\n",
    "            row_dict = {}\n",
    "            if 'session_uuid' in scene_df.columns: row_dict['session_uuid'] = session_uuid\n",
    "            if 'scene_id' in scene_df.columns: row_dict['scene_id'] = scene_id\n",
    "            row_dict[x_column_name] = responder_category\n",
    "            row_dict[y_column_name] = scene_fn(scene_df)\n",
    "            row_dict['scene_count'] = gb.size().shape[0]\n",
    "            rows_list.append(row_dict)\n",
    "    df = DataFrame(rows_list)\n",
    "\n",
    "    # Create a figure and subplots\n",
    "    fig, ax = plt.subplots(1, 1, figsize=(9, 9))\n",
    "\n",
    "    # Create a box plot of the y column grouped by the x column\n",
    "    ax = sns.boxplot(\n",
    "        x=x_column_name,\n",
    "        y=y_column_name,\n",
    "        showmeans=True,\n",
    "        data=df,\n",
    "        ax=ax\n",
    "    )\n",
    "\n",
    "    # Rotate the x-axis labels to prevent overlapping\n",
    "    plt.xticks(rotation=45)\n",
    "\n",
    "    # Label the x- and y-axis\n",
    "    ax.set_xlabel(x_label)\n",
    "    ax.set_ylabel(y_label)\n",
    "\n",
    "    # Humanize y tick labels\n",
    "    locs, labels = plt.yticks()\n",
    "    yticklabels_list = []\n",
    "    for ytick_value, text_obj in zip(locs, labels):\n",
    "        text_obj.set_text(\n",
    "            ytick_fn(ytick_value)\n",
    "        )\n",
    "        yticklabels_list.append(text_obj)\n",
    "    plt.yticks(locs[1:], yticklabels_list[1:])\n",
    "\n",
    "    # Re-label x tick labels\n",
    "    locs, labels = plt.xticks()\n",
    "    xticklabels_list = []\n",
    "    for idx, text_obj in zip(locs, labels):\n",
    "        text_obj.set_text(responder_categories_dict[responder_categories_list[idx]])\n",
    "        xticklabels_list.append(text_obj)\n",
    "    plt.xticks(locs, xticklabels_list)\n",
    "\n",
    "    plt.show()\n",
    "    \n",
    "    if print_responder_counts:\n",
    "        for responder_category, xlabel in zip(responder_categories_list, [text_obj.get_text() for text_obj in labels]):\n",
    "            mask_series = (df[x_column_name] == responder_category)\n",
    "            scene_count = df[mask_series].scene_count.tolist()[0]\n",
    "            print(f'{xlabel}: {scene_count} responders')"
   ]
  },
  {
   "cell_type": "code",
   "execution_count": 8,
   "id": "d8446225-4486-4289-8578-cc0d6900c4d8",
   "metadata": {},
   "outputs": [
    {
     "name": "stdout",
     "output_type": "stream",
     "text": [
      "EM Resident: 8:19 (SD = 2:14, Median = 8:21, IQR = (7:31, 8:54))\n",
      "EMT-Basic: 8:17 (SD = 2:09, Median = 7:41, IQR = (6:47, 9:36))\n",
      "Medical Student: 8:28 (SD = 2:30, Median = 8:42, IQR = (7:18, 10:12))\n",
      "Other: 9:45 (SD = 3:34, Median = 7:53, IQR = (7:20, 11:27))\n",
      "Paramedic: 7:33 (SD = 1:54, Median = 7:22, IQR = (6:11, 8:34))\n",
      "\n"
     ]
    },
    {
     "data": {
      "text/html": [
       "<table border=\"1\" class=\"dataframe\">\n",
       "  <thead>\n",
       "    <tr style=\"text-align: right;\">\n",
       "      <th></th>\n",
       "      <th>Mean Time to Triage Scene</th>\n",
       "      <th>SD</th>\n",
       "      <th>Median</th>\n",
       "      <th>IQR</th>\n",
       "    </tr>\n",
       "  </thead>\n",
       "  <tbody>\n",
       "    <tr>\n",
       "      <th>EM Resident</th>\n",
       "      <td>8:19</td>\n",
       "      <td>2:14</td>\n",
       "      <td>8:21</td>\n",
       "      <td>(7:31, 8:54)</td>\n",
       "    </tr>\n",
       "    <tr>\n",
       "      <th>EMT-Basic</th>\n",
       "      <td>8:17</td>\n",
       "      <td>2:09</td>\n",
       "      <td>7:41</td>\n",
       "      <td>(6:47, 9:36)</td>\n",
       "    </tr>\n",
       "    <tr>\n",
       "      <th>Medical Student</th>\n",
       "      <td>8:28</td>\n",
       "      <td>2:30</td>\n",
       "      <td>8:42</td>\n",
       "      <td>(7:18, 10:12)</td>\n",
       "    </tr>\n",
       "    <tr>\n",
       "      <th>Other</th>\n",
       "      <td>9:45</td>\n",
       "      <td>3:34</td>\n",
       "      <td>7:53</td>\n",
       "      <td>(7:20, 11:27)</td>\n",
       "    </tr>\n",
       "    <tr>\n",
       "      <th>Paramedic</th>\n",
       "      <td>7:33</td>\n",
       "      <td>1:54</td>\n",
       "      <td>7:22</td>\n",
       "      <td>(6:11, 8:34)</td>\n",
       "    </tr>\n",
       "  </tbody>\n",
       "</table>"
      ],
      "text/plain": [
       "<IPython.core.display.HTML object>"
      ]
     },
     "execution_count": 8,
     "metadata": {},
     "output_type": "execute_result"
    }
   ],
   "source": [
    "\n",
    "# Get info for Time to triage scene\n",
    "from datetime import timedelta\n",
    "\n",
    "cn = 'triage_time'\n",
    "statistics_df = DataFrame([])\n",
    "for responder_category, responder_categories_df in elevens_df.groupby('responder_category'):\n",
    "    df = Series(\n",
    "        [fu.get_triage_time(scene_df) for _, scene_df in responder_categories_df.groupby(fu.scene_groupby_columns)]\n",
    "    ).to_frame().rename(columns={0: cn})\n",
    "    df = nu.get_statistics(df, [cn]).applymap(temporalize_fn, na_action='ignore')\n",
    "    statistics_df = pd.concat([statistics_df, df.rename(columns={cn: responder_category}).T], axis='index')\n",
    "    ttts_dict = df.to_dict()[cn]\n",
    "    print(\n",
    "        f\"{responder_category}: {ttts_dict['mean']} (SD = {ttts_dict['SD']}, Median = {ttts_dict['median']},\"\n",
    "        f\" IQR = ({ttts_dict['25%']}, {ttts_dict['75%']}))\"\n",
    "    )\n",
    "\n",
    "# Display it as HTML\n",
    "statistics_df['IQR'] = '(' + statistics_df['25%'] + ', ' + statistics_df['75%'] + ')'\n",
    "columns_list = ['Mean Time to Triage Scene', 'SD', 'Median', 'IQR']\n",
    "print()\n",
    "HTML(statistics_df.rename(columns={'mean': columns_list[0], 'median': columns_list[2]})[columns_list].to_html())"
   ]
  },
  {
   "cell_type": "code",
   "execution_count": 9,
   "id": "40367b46-8798-459c-94c0-b2636a2f8b05",
   "metadata": {},
   "outputs": [
    {
     "data": {
      "image/png": "[encoded data removed]",
      "text/plain": [
       "<Figure size 900x900 with 1 Axes>"
      ]
     },
     "metadata": {},
     "output_type": "display_data"
    }
   ],
   "source": [
    "\n",
    "y_column_name = 'triage_time'\n",
    "y_label = 'Mean Time to Triage Scene (sec)'\n",
    "scene_fn = lambda scene_df: fu.get_triage_time(scene_df)\n",
    "show_whisker_plot(y_column_name, y_label, scene_fn, ytick_fn=temporalize_fn, logs_df=elevens_df, verbose=False)"
   ]
  },
  {
   "cell_type": "markdown",
   "id": "4cc18446-602a-4685-879b-26289561256b",
   "metadata": {},
   "source": [
    "\n",
    "* **Hemorrhage Control for all Life-threatening Bleeding (and percentage of participants who implemented all required hemorrhage control)**"
   ]
  },
  {
   "cell_type": "code",
   "execution_count": 10,
   "id": "84c6a3f2-7f0d-4331-bd8c-b440c6178777",
   "metadata": {},
   "outputs": [
    {
     "name": "stdout",
     "output_type": "stream",
     "text": [
      "EM Resident: 6:31 at 83% (SD = 2:08, Median = 6:33, IQR = (5:21, 7:28))\n",
      "EMT-Basic: 5:14 at 95% (SD = 2:12, Median = 4:25, IQR = (3:55, 6:21))\n",
      "Medical Student: 6:06 at 82% (SD = 2:17, Median = 5:46, IQR = (4:47, 7:23))\n",
      "Other: 7:14 at 100% (SD = 3:20, Median = 6:12, IQR = (4:49, 9:24))\n",
      "Paramedic: 5:08 at 95% (SD = 1:37, Median = 4:54, IQR = (4:05, 5:59))\n",
      "\n"
     ]
    },
    {
     "data": {
      "text/html": [
       "<table border=\"1\" class=\"dataframe\">\n",
       "  <thead>\n",
       "    <tr style=\"text-align: right;\">\n",
       "      <th></th>\n",
       "      <th>Mean Time to Hemorrhage Control</th>\n",
       "      <th>%</th>\n",
       "      <th>SD</th>\n",
       "      <th>Median</th>\n",
       "      <th>IQR</th>\n",
       "    </tr>\n",
       "  </thead>\n",
       "  <tbody>\n",
       "    <tr>\n",
       "      <th>EM Resident</th>\n",
       "      <td>6:31</td>\n",
       "      <td>83</td>\n",
       "      <td>2:08</td>\n",
       "      <td>6:33</td>\n",
       "      <td>(5:21, 7:28)</td>\n",
       "    </tr>\n",
       "    <tr>\n",
       "      <th>EMT-Basic</th>\n",
       "      <td>5:14</td>\n",
       "      <td>95</td>\n",
       "      <td>2:12</td>\n",
       "      <td>4:25</td>\n",
       "      <td>(3:55, 6:21)</td>\n",
       "    </tr>\n",
       "    <tr>\n",
       "      <th>Medical Student</th>\n",
       "      <td>6:06</td>\n",
       "      <td>82</td>\n",
       "      <td>2:17</td>\n",
       "      <td>5:46</td>\n",
       "      <td>(4:47, 7:23)</td>\n",
       "    </tr>\n",
       "    <tr>\n",
       "      <th>Other</th>\n",
       "      <td>7:14</td>\n",
       "      <td>100</td>\n",
       "      <td>3:20</td>\n",
       "      <td>6:12</td>\n",
       "      <td>(4:49, 9:24)</td>\n",
       "    </tr>\n",
       "    <tr>\n",
       "      <th>Paramedic</th>\n",
       "      <td>5:08</td>\n",
       "      <td>95</td>\n",
       "      <td>1:37</td>\n",
       "      <td>4:54</td>\n",
       "      <td>(4:05, 5:59)</td>\n",
       "    </tr>\n",
       "  </tbody>\n",
       "</table>"
      ],
      "text/plain": [
       "<IPython.core.display.HTML object>"
      ]
     },
     "execution_count": 10,
     "metadata": {},
     "output_type": "execute_result"
    }
   ],
   "source": [
    "\n",
    "# Get info for Hemorrhage control for all life-threatening bleeding percentage\n",
    "cn = 'last_controlled_time'\n",
    "statistics_df = DataFrame([])\n",
    "for responder_category, responder_categories_df in elevens_df.groupby('responder_category'):\n",
    "    df = Series(\n",
    "        [fu.get_time_to_last_hemorrhage_controlled(scene_df) for _, scene_df in responder_categories_df.groupby(fu.scene_groupby_columns)]\n",
    "    ).to_frame().rename(columns={0: cn})\n",
    "    df = nu.get_statistics(df, [cn]).applymap(lambda x: fu.format_timedelta(timedelta(milliseconds=int(x)), minimum_unit='minutes'), na_action='ignore')\n",
    "    hcfaltb_dict = df.to_dict()[cn]\n",
    "    df = df.rename(columns={cn: responder_category}).T\n",
    "    phc = int(Series(\n",
    "        [fu.get_percent_hemorrhage_controlled(scene_df, verbose=False) for _, scene_df in responder_categories_df.groupby(fu.scene_groupby_columns)]\n",
    "    ).mean())\n",
    "    df['phc'] = phc\n",
    "    statistics_df = pd.concat([statistics_df, df], axis='index')\n",
    "    print(\n",
    "        f\"{responder_category}: {hcfaltb_dict['mean']} at {phc}% (SD = {hcfaltb_dict['SD']}, Median = {hcfaltb_dict['median']},\"\n",
    "        f\" IQR = ({hcfaltb_dict['25%']}, {hcfaltb_dict['75%']}))\"\n",
    "    )\n",
    "\n",
    "# Display it as HTML\n",
    "statistics_df['IQR'] = '(' + statistics_df['25%'] + ', ' + statistics_df['75%'] + ')'\n",
    "columns_list = ['Mean Time to Hemorrhage Control', '%', 'SD', 'Median', 'IQR']\n",
    "print()\n",
    "HTML(statistics_df.rename(columns={'mean': columns_list[0], 'median': columns_list[3], 'phc':  columns_list[1]})[columns_list].to_html())"
   ]
  },
  {
   "cell_type": "code",
   "execution_count": 11,
   "id": "2f3000ed-ec31-4e29-94a1-020af3c5821b",
   "metadata": {},
   "outputs": [
    {
     "data": {
      "image/png": "[encoded data removed]",
      "text/plain": [
       "<Figure size 900x900 with 1 Axes>"
      ]
     },
     "metadata": {},
     "output_type": "display_data"
    }
   ],
   "source": [
    "\n",
    "y_column_name = 'time_to_last_hemorrhage_controlled'\n",
    "y_label = 'Mean Time to Hemorrhage Control (sec)'\n",
    "scene_fn = lambda scene_df: fu.get_time_to_last_hemorrhage_controlled(scene_df)\n",
    "show_whisker_plot(y_column_name, y_label, scene_fn, temporalize_fn)"
   ]
  },
  {
   "cell_type": "markdown",
   "id": "d972d426-25dc-47fc-bec4-fd946b76807d",
   "metadata": {},
   "source": [
    "\n",
    "* **Hemorrhage Control per Patient**"
   ]
  },
  {
   "cell_type": "code",
   "execution_count": 12,
   "id": "57842ce1-0566-4d44-9f3a-3ed00d274e52",
   "metadata": {},
   "outputs": [
    {
     "name": "stdout",
     "output_type": "stream",
     "text": [
      "EM Resident: 38 sec (SD = 1:16, Median = 12 sec, IQR = (2 sec, 30 sec))\n",
      "EMT-Basic: 15 sec (SD = 34 sec, Median = 7 sec, IQR = (2 sec, 17 sec))\n",
      "Medical Student: 34 sec (SD = 1:14, Median = 10 sec, IQR = (1 sec, 23 sec))\n",
      "Other: 30 sec (SD = 56 sec, Median = 13 sec, IQR = (5 sec, 24 sec))\n",
      "Paramedic: 15 sec (SD = 31 sec, Median = 8 sec, IQR = (2 sec, 15 sec))\n",
      "\n"
     ]
    },
    {
     "data": {
      "text/html": [
       "<table border=\"1\" class=\"dataframe\">\n",
       "  <thead>\n",
       "    <tr style=\"text-align: right;\">\n",
       "      <th></th>\n",
       "      <th>Mean Time for Hemorrhage control per Patient</th>\n",
       "      <th>SD</th>\n",
       "      <th>Median</th>\n",
       "      <th>IQR</th>\n",
       "    </tr>\n",
       "  </thead>\n",
       "  <tbody>\n",
       "    <tr>\n",
       "      <th>EM Resident</th>\n",
       "      <td>38 sec</td>\n",
       "      <td>1:16</td>\n",
       "      <td>12 sec</td>\n",
       "      <td>(2 sec, 30 sec)</td>\n",
       "    </tr>\n",
       "    <tr>\n",
       "      <th>EMT-Basic</th>\n",
       "      <td>15 sec</td>\n",
       "      <td>34 sec</td>\n",
       "      <td>7 sec</td>\n",
       "      <td>(2 sec, 17 sec)</td>\n",
       "    </tr>\n",
       "    <tr>\n",
       "      <th>Medical Student</th>\n",
       "      <td>34 sec</td>\n",
       "      <td>1:14</td>\n",
       "      <td>10 sec</td>\n",
       "      <td>(1 sec, 23 sec)</td>\n",
       "    </tr>\n",
       "    <tr>\n",
       "      <th>Other</th>\n",
       "      <td>30 sec</td>\n",
       "      <td>56 sec</td>\n",
       "      <td>13 sec</td>\n",
       "      <td>(5 sec, 24 sec)</td>\n",
       "    </tr>\n",
       "    <tr>\n",
       "      <th>Paramedic</th>\n",
       "      <td>15 sec</td>\n",
       "      <td>31 sec</td>\n",
       "      <td>8 sec</td>\n",
       "      <td>(2 sec, 15 sec)</td>\n",
       "    </tr>\n",
       "  </tbody>\n",
       "</table>"
      ],
      "text/plain": [
       "<IPython.core.display.HTML object>"
      ]
     },
     "execution_count": 12,
     "metadata": {},
     "output_type": "execute_result"
    }
   ],
   "source": [
    "\n",
    "# Get info for Hemorrhage control per patient\n",
    "cn = 'controlled_time'\n",
    "statistics_df = DataFrame([])\n",
    "for responder_category, responder_categories_df in elevens_df.groupby('responder_category'):\n",
    "    times_list = []\n",
    "    for _, scene_df in responder_categories_df.groupby(fu.scene_groupby_columns):\n",
    "        for _, patient_df in scene_df.groupby('patient_id'):\n",
    "            if fu.get_is_patient_hemorrhaging(patient_df):\n",
    "                controlled_time = fu.get_time_to_hemorrhage_control(patient_df, scene_start=None)\n",
    "                times_list.append(controlled_time)\n",
    "    df = Series(times_list).to_frame().rename(columns={0: cn})\n",
    "    df = nu.get_statistics(df, [cn]).applymap(lambda x: fu.format_timedelta(timedelta(milliseconds=int(x)), minimum_unit='seconds'), na_action='ignore')\n",
    "    statistics_df = pd.concat([statistics_df, df.rename(columns={cn: responder_category}).T], axis='index')\n",
    "    hcpp_dict = df.to_dict()[cn]\n",
    "    print(\n",
    "        f\"{responder_category}: {hcpp_dict['mean']} (SD = {hcpp_dict['SD']}, Median = {hcpp_dict['median']},\"\n",
    "        f\" IQR = ({hcpp_dict['25%']}, {hcpp_dict['75%']}))\"\n",
    "    )\n",
    "\n",
    "# Display it as HTML\n",
    "statistics_df['IQR'] = '(' + statistics_df['25%'] + ', ' + statistics_df['75%'] + ')'\n",
    "columns_list = ['Mean Time for Hemorrhage control per Patient', 'SD', 'Median', 'IQR']\n",
    "print()\n",
    "HTML(statistics_df.rename(columns={'mean': columns_list[0], 'median': columns_list[2]})[columns_list].to_html())"
   ]
  },
  {
   "cell_type": "code",
   "execution_count": 13,
   "id": "7182d58a-0b20-407b-a2f6-c831e628a311",
   "metadata": {},
   "outputs": [
    {
     "data": {
      "image/png": "[encoded data removed]",
      "text/plain": [
       "<Figure size 900x900 with 1 Axes>"
      ]
     },
     "metadata": {},
     "output_type": "display_data"
    }
   ],
   "source": [
    "\n",
    "y_column_name = 'time_to_hemorrhage_control'\n",
    "y_label = 'Mean Time for Hemorrhage control per Patient (sec)'\n",
    "scene_fn = lambda scene_df: fu.get_time_to_hemorrhage_control(scene_df)\n",
    "show_whisker_plot(y_column_name, y_label, scene_fn, temporalize_fn)"
   ]
  },
  {
   "cell_type": "markdown",
   "id": "698ba211-e6d8-402a-9e4c-723cfda21637",
   "metadata": {},
   "source": [
    "\n",
    "## Triage accuracy (mean, SD, median, IQR) by each responder type (to keep things simple let's not break this out by individual tag category as we had it, but by overall rates for each responder type)"
   ]
  },
  {
   "cell_type": "code",
   "execution_count": 14,
   "id": "e6197920-f871-45eb-bc8f-252381705044",
   "metadata": {},
   "outputs": [],
   "source": [
    "\n",
    "# Iterate through each patient of each scene of each session of the 11-patient data frame\n",
    "rows_list = []\n",
    "for responder_category, responder_categories_df in elevens_df.groupby('responder_category'):\n",
    "    for (session_uuid, scene_id, patient_id), patient_df in responder_categories_df.sort_values(['action_tick']).groupby(fu.patient_groupby_columns):\n",
    "\n",
    "        # Get non-null tag applied types and patient record SALTs\n",
    "        mask_series = ~patient_df.tag_applied_type.isnull() | ~patient_df.patient_record_salt.isnull()\n",
    "        if mask_series.any():\n",
    "            tags_and_salts_df = patient_df[mask_series]\n",
    "\n",
    "            # Add the groupby columns and an account of the patient's existence to the row dictionary\n",
    "            row_dict = {cn: eval(cn) for cn in fu.patient_groupby_columns}\n",
    "            row_dict['responder_category'] = responder_category\n",
    "            row_dict['patient_count'] = 1\n",
    "\n",
    "            # Add the TAG_APPLIED tag value for this patient\n",
    "            last_tag = fu.get_last_tag(tags_and_salts_df)\n",
    "            row_dict['last_tag'] = last_tag\n",
    "\n",
    "            # Add the PATIENT_RECORD SALT value for this patient\n",
    "            max_salt = fu.get_max_salt(patient_df=tags_and_salts_df)\n",
    "            row_dict['max_salt'] = max_salt\n",
    "\n",
    "            # Add the predicted tag value for this patient based on the SALT value\n",
    "            try: predicted_tag = fu.salt_to_tag_dict.get(max_salt, np.nan)\n",
    "            except Exception: predicted_tag = np.nan\n",
    "            row_dict['predicted_tag'] = predicted_tag\n",
    "\n",
    "            # Add if the tagging was correct for this patient, then the row to the list\n",
    "            row_dict['is_tag_correct'] = bool(last_tag == predicted_tag)\n",
    "            rows_list.append(row_dict)\n",
    "\n",
    "# Create the tag-to-SALT data frame\n",
    "tag_to_salt_df = pd.DataFrame(rows_list)\n",
    "\n",
    "# Convert the tagged, SALT, and predicted tag columns to their custom categorical types\n",
    "tag_to_salt_df.last_tag = tag_to_salt_df.last_tag.astype(fu.colors_category_order)\n",
    "tag_to_salt_df.max_salt = tag_to_salt_df.max_salt.astype(fu.salt_category_order)\n",
    "tag_to_salt_df.predicted_tag = tag_to_salt_df.predicted_tag.astype(fu.colors_category_order)\n",
    "\n",
    "# Sort the data frame based on the custom categorical orders\n",
    "tag_to_salt_df = tag_to_salt_df.sort_values('predicted_tag')"
   ]
  },
  {
   "cell_type": "code",
   "execution_count": 15,
   "id": "8a3aada9-5b98-478c-b24c-ac81c3fec285",
   "metadata": {},
   "outputs": [],
   "source": [
    "\n",
    "# Get the total and correct counts for each run for each tag\n",
    "rows_list = []\n",
    "\n",
    "# Add the normal section\n",
    "groupby_columns = ['session_uuid', 'scene_id', 'predicted_tag']\n",
    "for responder_category, responder_categories_df in tag_to_salt_df.groupby('responder_category'):\n",
    "    for (session_uuid, scene_id, predicted_tag), df in responder_categories_df.groupby(groupby_columns):\n",
    "        \n",
    "        # Add the groupby columns to the row dictionary\n",
    "        row_dict = {cn: eval(cn) for cn in groupby_columns}\n",
    "        row_dict['responder_category'] = responder_category\n",
    "\n",
    "        # Add the total and correct counts for this run\n",
    "        mask_series = (df.is_tag_correct == True)\n",
    "        correct_count = df[mask_series].patient_count.sum()\n",
    "        row_dict['correct_count'] = correct_count\n",
    "        total_count = df.patient_count.sum()\n",
    "        row_dict['total_count'] = total_count\n",
    "\n",
    "        # Add percentage that tag is correct\n",
    "        try: percentage_tag_correct = 100*correct_count/total_count\n",
    "        except Exception: percentage_tag_correct = np.nan\n",
    "        row_dict['percentage_tag_correct'] = percentage_tag_correct\n",
    "\n",
    "        # Add the row dictionary to the list\n",
    "        rows_list.append(row_dict)\n",
    "\n",
    "    # Add the not-tagged section\n",
    "    for (session_uuid, scene_id), df in responder_categories_df.groupby(fu.scene_groupby_columns):\n",
    "\n",
    "        # Add the groupby columns to the row dictionary\n",
    "        row_dict = {cn: eval(cn) for cn in fu.scene_groupby_columns}\n",
    "        row_dict['predicted_tag'] = 'Not Tagged'\n",
    "        row_dict['responder_category'] = responder_category\n",
    "\n",
    "        # Add the total and correct counts for this run\n",
    "        mask_series = (df.is_tag_correct == True)\n",
    "        correct_count = df[mask_series].patient_count.sum()\n",
    "        row_dict['correct_count'] = correct_count\n",
    "        total_count = df.patient_count.sum()\n",
    "        row_dict['total_count'] = total_count\n",
    "\n",
    "        # Add percentage that tag is correct\n",
    "        try: percentage_tag_correct = 100*correct_count/total_count\n",
    "        except Exception: percentage_tag_correct = np.nan\n",
    "        row_dict['percentage_tag_correct'] = percentage_tag_correct\n",
    "\n",
    "        # Add the row dictionary to the list\n",
    "        rows_list.append(row_dict)\n",
    "\n",
    "# Create the correct count data frame\n",
    "correct_count_by_tag_df = pd.DataFrame(rows_list)\n",
    "correct_count_by_tag_df.predicted_tag = correct_count_by_tag_df.predicted_tag.astype(fu.colors_category_order)"
   ]
  },
  {
   "cell_type": "markdown",
   "id": "51497e53-573a-4f4c-8631-abffb3fe53f7",
   "metadata": {},
   "source": [
    "\n",
    "* **triage tag accuracy**"
   ]
  },
  {
   "cell_type": "code",
   "execution_count": 16,
   "id": "a34e2bd8-7df0-42c1-8420-dfbd56fef8d7",
   "metadata": {},
   "outputs": [
    {
     "name": "stdout",
     "output_type": "stream",
     "text": [
      "EM Resident: accurately tagged 69.6% of patients (SD = 37.8, Median = 100.0, IQR = (50.0, 100.0))\n",
      "EMT-Basic: accurately tagged 80.2% of patients (SD = 31.2, Median = 100.0, IQR = (70.8, 100.0))\n",
      "Medical Student: accurately tagged 66.3% of patients (SD = 38.9, Median = 75.0, IQR = (33.3, 100.0))\n",
      "Other: accurately tagged 80.8% of patients (SD = 30.5, Median = 100.0, IQR = (66.7, 100.0))\n",
      "Paramedic: accurately tagged 77.4% of patients (SD = 34.0, Median = 100.0, IQR = (66.7, 100.0))\n",
      "\n"
     ]
    },
    {
     "data": {
      "text/html": [
       "<table border=\"1\" class=\"dataframe\">\n",
       "  <thead>\n",
       "    <tr style=\"text-align: right;\">\n",
       "      <th></th>\n",
       "      <th>Mean % Accurately Tagged</th>\n",
       "      <th>SD</th>\n",
       "      <th>Median</th>\n",
       "      <th>IQR</th>\n",
       "    </tr>\n",
       "  </thead>\n",
       "  <tbody>\n",
       "    <tr>\n",
       "      <th>EM Resident</th>\n",
       "      <td>69.6</td>\n",
       "      <td>37.8</td>\n",
       "      <td>100.0</td>\n",
       "      <td>(50.0, 100.0)</td>\n",
       "    </tr>\n",
       "    <tr>\n",
       "      <th>EMT-Basic</th>\n",
       "      <td>80.2</td>\n",
       "      <td>31.2</td>\n",
       "      <td>100.0</td>\n",
       "      <td>(70.8, 100.0)</td>\n",
       "    </tr>\n",
       "    <tr>\n",
       "      <th>Medical Student</th>\n",
       "      <td>66.3</td>\n",
       "      <td>38.9</td>\n",
       "      <td>75.0</td>\n",
       "      <td>(33.3, 100.0)</td>\n",
       "    </tr>\n",
       "    <tr>\n",
       "      <th>Other</th>\n",
       "      <td>80.8</td>\n",
       "      <td>30.5</td>\n",
       "      <td>100.0</td>\n",
       "      <td>(66.7, 100.0)</td>\n",
       "    </tr>\n",
       "    <tr>\n",
       "      <th>Paramedic</th>\n",
       "      <td>77.4</td>\n",
       "      <td>34.0</td>\n",
       "      <td>100.0</td>\n",
       "      <td>(66.7, 100.0)</td>\n",
       "    </tr>\n",
       "  </tbody>\n",
       "</table>"
      ],
      "text/plain": [
       "<IPython.core.display.HTML object>"
      ]
     },
     "execution_count": 16,
     "metadata": {},
     "output_type": "execute_result"
    }
   ],
   "source": [
    "\n",
    "# Get info for triage tag accuracy\n",
    "cn = 'percentage_tag_correct'\n",
    "statistics_df = DataFrame([])\n",
    "for responder_category, responder_categories_df in correct_count_by_tag_df.groupby('responder_category'):\n",
    "    mask_series = responder_categories_df.predicted_tag.isin(fu.tag_colors[:-1])\n",
    "    df = responder_categories_df[mask_series]\n",
    "    df = nu.get_statistics(df, [cn])\n",
    "    statistics_df = pd.concat([statistics_df, df.rename(columns={cn: responder_category}).T], axis='index')\n",
    "    tta_dict = df.to_dict()[cn]\n",
    "    print(\n",
    "        f\"{responder_category}: accurately tagged {tta_dict['mean']:.1f}% of patients (SD = {tta_dict['SD']:.1f}, Median = {tta_dict['median']},\"\n",
    "        f\" IQR = ({tta_dict['25%']:.1f}, {tta_dict['75%']}))\"\n",
    "    )\n",
    "\n",
    "# Display as HTML\n",
    "statistics_df['IQR'] = '(' + statistics_df['25%'].map(lambda x: str(round(x, 1))) + ', ' + statistics_df['75%'].map(lambda x: str(x)) + ')'\n",
    "for cn in ['mean', 'SD']: statistics_df[cn] = statistics_df[cn].map(lambda x: str(round(x, 1)))\n",
    "columns_list = ['Mean % Accurately Tagged', 'SD', 'Median', 'IQR']\n",
    "print()\n",
    "HTML(statistics_df.rename(columns={'mean': columns_list[0], 'median': columns_list[2]})[columns_list].to_html())"
   ]
  },
  {
   "cell_type": "code",
   "execution_count": 17,
   "id": "339de5ac-a7d7-4636-9844-39598b5ece54",
   "metadata": {},
   "outputs": [
    {
     "data": {
      "image/png": "[encoded data removed]",
      "text/plain": [
       "<Figure size 900x900 with 1 Axes>"
      ]
     },
     "metadata": {},
     "output_type": "display_data"
    }
   ],
   "source": [
    "\n",
    "y_column_name = 'percentage_tag_correct'\n",
    "y_label = 'Mean % Accurately Tagged'\n",
    "scene_fn = lambda scene_df: scene_df[y_column_name].mean()\n",
    "percents_fn = lambda x: f'{int(x)}%' if (x<=100) else ''\n",
    "show_whisker_plot(y_column_name, y_label, scene_fn, ytick_fn=percents_fn, logs_df=correct_count_by_tag_df)"
   ]
  },
  {
   "cell_type": "markdown",
   "id": "ae2d7ab2-a01d-47dd-9f07-3b3fc4e80818",
   "metadata": {},
   "source": [
    "\n",
    "To do formal comparisons we need to run statistics like ANOVA and t-tests. We'll need the values for each measure per responder. Something like this below:\n",
    "<table>\n",
    "    <tr><th>ID</th><th>Group</th><th>TTS</th><th>THC</th><th>THCP</th><th>Tag Accuracy</th></tr>\n",
    "    <tr><td>Responder 1</td><td>EM Resident</td><td>8:20</td><td>6:10</td><td>25</td><td>81</td></tr>\n",
    "    <tr><td>Responder 2</td><td>EMT-Basic</td><td>8:05</td><td>5:02</td><td>15</td><td>75</td></tr>\n",
    "    <tr><td>Responder 3</td><td>Paramedic</td><td>7:40</td><td>4:30</td><td>18</td><td>78</td></tr>\n",
    "</table>\n",
    "etc."
   ]
  },
  {
   "cell_type": "code",
   "execution_count": 20,
   "id": "b2b098da-a81f-421f-b2f8-f3c4616ea031",
   "metadata": {},
   "outputs": [
    {
     "name": "stdout",
     "output_type": "stream",
     "text": [
      "Saving to /mnt/c/Users/DaveBabbitt/Documents/GitHub/itm-analysis-reporting/saves/csv/anova_df.csv\n",
      "315 315 7\n"
     ]
    }
   ],
   "source": [
    "\n",
    "if nu.csv_exists('anova_df', folder_path=nu.saves_folder): anova_df = nu.load_csv(csv_name='anova_df', folder_path=nu.saves_folder)\n",
    "else:\n",
    "    mask_series = (elevens_df.scene_type == 'Triage') & (elevens_df.is_scene_aborted == False)\n",
    "    gb = elevens_df[mask_series].groupby(['session_uuid', 'responder_category'])\n",
    "    rows_list = []\n",
    "    for i, ((session_uuid, responder_category), session_df) in enumerate(gb):\n",
    "        largest_tuple = sorted([(scene_df, scene_df.shape[0], scene_id) for scene_id, scene_df in session_df.groupby('scene_id')], key=lambda x: x[1])[-1]\n",
    "        responder_categories_df = largest_tuple[0]\n",
    "        row_dict = {'ID': f'Responder {i+1}', 'Group': responder_category, 'session_uuid': session_uuid}\n",
    "        row_dict['TtTS'] = fu.get_triage_time(responder_categories_df)\n",
    "        row_dict['TtHC'] = fu.get_time_to_last_hemorrhage_controlled(responder_categories_df)\n",
    "        times_list = []\n",
    "        for _, patient_df in responder_categories_df.groupby('patient_id'):\n",
    "            if fu.get_is_patient_hemorrhaging(patient_df):\n",
    "                controlled_time = fu.get_time_to_hemorrhage_control(patient_df, scene_start=None)\n",
    "                times_list.append(controlled_time)\n",
    "        row_dict['MTfHCpP'] = Series(times_list).mean()\n",
    "        scene_id = largest_tuple[2]\n",
    "        mask_series = (correct_count_by_tag_df.session_uuid == session_uuid) & (correct_count_by_tag_df.scene_id == scene_id)\n",
    "        mask_series &= (correct_count_by_tag_df.responder_category == responder_category)\n",
    "        if mask_series.any():\n",
    "            row_dict['MPAT'] = correct_count_by_tag_df[mask_series].percentage_tag_correct.mean()\n",
    "        rows_list.append(row_dict)\n",
    "    anova_df = DataFrame(rows_list)\n",
    "    nu.save_data_frames(anova_df=anova_df)\n",
    "print(anova_df.shape[0], anova_df.session_uuid.nunique(), anova_df.shape[1])"
   ]
  },
  {
   "cell_type": "code",
   "execution_count": 17,
   "id": "f5190abb-eb19-48ee-83f3-77ce1eb57344",
   "metadata": {},
   "outputs": [],
   "source": [
    "\n",
    "# Compute error_type, removing \"Not Tagged\" from consideration\n",
    "def f(df):\n",
    "    if df.last_tag in fu.error_table_df.index: error_type = fu.error_table_df[fu.error_table_df.index == df.last_tag][df.max_salt].squeeze()\n",
    "    else: error_type = np.nan\n",
    "\n",
    "    return error_type\n",
    "groupby_columns = ['last_tag', 'max_salt', 'responder_category']\n",
    "error_types_df = tag_to_salt_df.groupby(groupby_columns).patient_count.sum().to_frame().reset_index(drop=False)\n",
    "error_types_df['error_type'] = error_types_df.apply(f, axis='columns')\n",
    "\n",
    "# Convert the columns to the custom categorical type\n",
    "error_types_df['last_tag'] = error_types_df['last_tag'].astype(fu.colors_category_order)\n",
    "error_types_df['max_salt'] = error_types_df['max_salt'].astype(fu.salt_category_order)\n",
    "error_types_df['error_type'] = error_types_df['error_type'].astype(fu.errors_category_order)\n",
    "\n",
    "# Sort the DataFrame based on the custom categorical orders\n",
    "error_types_df = error_types_df.sort_values(by=groupby_columns+['error_type'])"
   ]
  },
  {
   "cell_type": "markdown",
   "id": "46fed4a3-6ee0-417c-a102-ac451b31e163",
   "metadata": {},
   "source": [
    "\n",
    "* **over-triage error rate**"
   ]
  },
  {
   "cell_type": "markdown",
   "id": "46fe6fb8-d8cc-4f66-b20b-c437029a421f",
   "metadata": {},
   "source": [
    "\n",
    "* **under-triage error rate**"
   ]
  },
  {
   "cell_type": "markdown",
   "id": "d5eb2064-dfc2-4827-bf45-af6ab69202dd",
   "metadata": {},
   "source": [
    "\n",
    "* **critical-triage error rate**"
   ]
  },
  {
   "cell_type": "code",
   "execution_count": 18,
   "id": "6536bd5d-fa7c-4346-a664-3d0182279a0a",
   "metadata": {},
   "outputs": [
    {
     "name": "stdout",
     "output_type": "stream",
     "text": [
      "EM Resident: over-triage error rate 10.8%, under-triage error rate 9.0%, critical-triage error rate 5.4%\n",
      "EMT-Basic: over-triage error rate 9.6%, under-triage error rate 8.4%, critical-triage error rate 2.4%\n",
      "Medical Student: over-triage error rate 12.1%, under-triage error rate 13.0%, critical-triage error rate 4.2%\n",
      "Other: over-triage error rate 10.6%, under-triage error rate 10.6%, critical-triage error rate 4.5%\n",
      "Paramedic: over-triage error rate 10.0%, under-triage error rate 8.5%, critical-triage error rate 2.7%\n",
      "\n"
     ]
    },
    {
     "data": {
      "text/html": [
       "<table border=\"1\" class=\"dataframe\">\n",
       "  <thead>\n",
       "    <tr style=\"text-align: right;\"><th></th><th colspan=\"3\">Triage Error Rate (%)</th></tr>\n",
       "    <tr><th></th><th>Over</th><th>Under</th><th>Critical</th></tr><tr><th></th><th></th><th></th><th></th></tr>\n",
       "  </thead>\n",
       "  <tbody>\n",
       "    <tr>\n",
       "      <th>EM Resident</th>\n",
       "      <td>10.8</td>\n",
       "      <td>9.0</td>\n",
       "      <td>5.4</td>\n",
       "    </tr>\n",
       "    <tr>\n",
       "      <th>EMT-Basic</th>\n",
       "      <td>9.6</td>\n",
       "      <td>8.4</td>\n",
       "      <td>2.4</td>\n",
       "    </tr>\n",
       "    <tr>\n",
       "      <th>Medical Student</th>\n",
       "      <td>12.1</td>\n",
       "      <td>13.0</td>\n",
       "      <td>4.2</td>\n",
       "    </tr>\n",
       "    <tr>\n",
       "      <th>Other</th>\n",
       "      <td>10.6</td>\n",
       "      <td>10.6</td>\n",
       "      <td>4.5</td>\n",
       "    </tr>\n",
       "    <tr>\n",
       "      <th>Paramedic</th>\n",
       "      <td>10.0</td>\n",
       "      <td>8.5</td>\n",
       "      <td>2.7</td>\n",
       "    </tr>\n",
       "  </tbody>\n",
       "</table>"
      ],
      "text/plain": [
       "<IPython.core.display.HTML object>"
      ]
     },
     "execution_count": 18,
     "metadata": {},
     "output_type": "execute_result"
    }
   ],
   "source": [
    "\n",
    "# Get triage error rates\n",
    "import re\n",
    "\n",
    "rows_list = []\n",
    "for responder_category, responder_categories_df in error_types_df.groupby('responder_category'):\n",
    "    row_dict = {'responder_category': responder_category}\n",
    "    df = responder_categories_df.groupby('error_type').patient_count.sum().reset_index(drop=False)\n",
    "    total_patient_count = df.patient_count.sum()\n",
    "    error_dict = df.set_index('error_type').patient_count.to_dict()\n",
    "\n",
    "    over_patient_count = error_dict.get('Over', 0)\n",
    "    over_triage_error_rate = 100*over_patient_count/total_patient_count\n",
    "    row_dict['over_triage_error_rate'] = round(over_triage_error_rate, 1)\n",
    "\n",
    "    under_patient_count = error_dict.get('Under', 0)\n",
    "    under_triage_error_rate = 100*under_patient_count/total_patient_count\n",
    "    row_dict['under_triage_error_rate'] = round(under_triage_error_rate, 1)\n",
    "\n",
    "    critical_patient_count = error_dict.get('Critical', 0)\n",
    "    critical_triage_error_rate = 100*critical_patient_count/total_patient_count\n",
    "    row_dict['critical_triage_error_rate'] = round(critical_triage_error_rate, 1)\n",
    "\n",
    "    print(\n",
    "        f\"{responder_category}: over-triage error rate {over_triage_error_rate:.1f}%, under-triage error rate {under_triage_error_rate:.1f}%,\"\n",
    "        f\" critical-triage error rate {critical_triage_error_rate:.1f}%\"\n",
    "    )\n",
    "    rows_list.append(row_dict)\n",
    "\n",
    "# Display as HTML\n",
    "triage_error_rates_df = DataFrame(rows_list)\n",
    "html_str = triage_error_rates_df.set_index('responder_category').to_html()\n",
    "html_str = html_str.replace('<th>responder_category</th>', '<th></th>')\n",
    "colspan_regex = re.compile(r'<tr style=\"text-align: right;\">\\s+<th></th>(\\s+<th>[a-z]+_triage_error_rate</th>){3}\\s+</tr>')\n",
    "html_str = colspan_regex.sub('<tr style=\"text-align: right;\"><th></th><th colspan=\"3\">Triage Error Rate (%)</th></tr>', html_str, 1)\n",
    "th_regex = re.compile(r\"<tr>\\s+<th></th>\\s+<th></th>\\s+<th></th>\\s+<th></th>\\s+</tr>\")\n",
    "html_str = th_regex.sub(\"<tr><th></th><th>Over</th><th>Under</th><th>Critical</th></tr><tr><th></th><th></th><th></th><th></th></tr>\", html_str, 1)\n",
    "print()\n",
    "HTML(html_str)"
   ]
  },
  {
   "cell_type": "code",
   "execution_count": 21,
   "id": "aaa758b3-6003-44df-a020-655041e30693",
   "metadata": {},
   "outputs": [
    {
     "data": {
      "text/html": [
       "<b>Results:</b> The mean time to triage and treat the entire scene was 7:51\n",
       "minutes (SD = 2:07). A robust 92% of participants successfully controlled all\n",
       "life-threatening hemorrhage, with a mean time of 5:27 minutes (SD = 1:56). \n",
       "Hemorrhage control per patient took a mean of 0:21 seconds (SD = 0:49). \n",
       "Only 17% of participants effectively executed the SALT recommended global sort \n",
       "commands, however they accurately applied triage tags to 75% of patients."
      ],
      "text/plain": [
       "<IPython.core.display.HTML object>"
      ]
     },
     "execution_count": 21,
     "metadata": {},
     "output_type": "execute_result"
    }
   ],
   "source": [
    "\n",
    "triage_time_df = Series(\n",
    "    [fu.get_triage_time(scene_df) for _, scene_df in elevens_df.groupby(fu.scene_groupby_columns)]\n",
    ").to_frame().rename(columns={0: 'triage_time'})\n",
    "last_controlled_time_df = Series(\n",
    "    [fu.get_time_to_last_hemorrhage_controlled(scene_df) for _, scene_df in elevens_df.groupby(fu.scene_groupby_columns)]\n",
    ").to_frame().rename(columns={0: 'last_controlled_time'})\n",
    "phc = int(Series(\n",
    "    [fu.get_percent_hemorrhage_controlled(scene_df, verbose=False) for _, scene_df in elevens_df.groupby(fu.scene_groupby_columns)]\n",
    ").mean())\n",
    "times_list = []\n",
    "for _, scene_df in elevens_df.groupby(fu.scene_groupby_columns):\n",
    "    for _, patient_df in scene_df.groupby('patient_id'):\n",
    "        if fu.get_is_patient_hemorrhaging(patient_df):\n",
    "            controlled_time = fu.get_time_to_hemorrhage_control(patient_df, scene_start=None)\n",
    "            times_list.append(controlled_time)\n",
    "controlled_time_df = Series(times_list).to_frame().rename(columns={0: 'controlled_time'})\n",
    "ptc = int(Series([\n",
    "    scene_df[scene_df.predicted_tag.isin(fu.tag_colors[:-1])].percentage_tag_correct.mean()\n",
    "    for _, scene_df in correct_count_by_tag_df.groupby(fu.scene_groupby_columns)\n",
    "]).mean())\n",
    "HTML(f\"\"\"<b>Results:</b> The mean time to triage and treat the entire scene was {temporalize_fn(triage_time_df.mean())}\n",
    "minutes (SD = {temporalize_fn(triage_time_df.std())}). A robust {phc}% of participants successfully controlled all\n",
    "life-threatening hemorrhage, with a mean time of {temporalize_fn(last_controlled_time_df.mean())} minutes (SD = {temporalize_fn(last_controlled_time_df.std())}). \n",
    "Hemorrhage control per patient took a mean of {temporalize_fn(controlled_time_df.mean())} seconds (SD = {temporalize_fn(controlled_time_df.std())}). \n",
    "Only 17% of participants effectively executed the SALT recommended global sort \n",
    "commands, however they accurately applied triage tags to {ptc}% of patients.\"\"\")"
   ]
  },
  {
   "cell_type": "code",
   "execution_count": 25,
   "id": "4ed0fee3-6149-4d15-b0f2-c23f74d81aa6",
   "metadata": {},
   "outputs": [
    {
     "data": {
      "text/plain": [
       "responder_category\n",
       "EM Resident         32\n",
       "EMT-Basic           23\n",
       "Medical Student     45\n",
       "Other                6\n",
       "Paramedic          224\n",
       "Name: session_uuid, dtype: int64"
      ]
     },
     "execution_count": 25,
     "metadata": {},
     "output_type": "execute_result"
    }
   ],
   "source": [
    "\n",
    "# display(elevens_df.groupby(['responder_category', 'session_uuid']).size().to_frame().rename(columns={0: 'record_count'}))\n",
    "elevens_df.groupby('responder_category')['session_uuid'].nunique()"
   ]
  },
  {
   "cell_type": "code",
   "execution_count": 37,
   "id": "859eb8af-3c14-4822-84b6-268bea91efc0",
   "metadata": {},
   "outputs": [
    {
     "data": {
      "text/html": [
       "<h3 style=\"text-align: center\">Results</h3>\n",
       "<h4>Triage Efficiency</h4>\n",
       "The mean time to triage the entire scene was 7:51 minutes (SD = 2:07). A\n",
       "robust 92% of participants successfully implemented all required hemorrhage control,\n",
       "with a mean time of 5:27 minutes for life-threatening hemorrhage control\n",
       "(SD = 1:56). Hemorrhage control per patient took a median of 0:21\n",
       "seconds (SD = 0:49). All triage efficiency measures have been listed in table 2 with\n",
       "means, standard deviations, medians and interquartile range values.\n",
       "<table style=\"margin: 0 auto;\">\n",
       "    <caption>Table 2. Triage efficiency measures related to time. All values are in minutes:seconds</caption>\n",
       "    <tr><th>Measure</th><th>Mean Time (SD)</th><th>Median Time (IQR)</th></tr>\n",
       "    <tr>\n",
       "        <td>Time to Triage Scene</td>\n",
       "        <td>7:51<br />(2:07)</td>\n",
       "        <td>7:39<br />(6:34, 8:57)</td>\n",
       "    </tr>\n",
       "    <tr>\n",
       "        <td>Hemorrhage Control for all Life-threatening<br />Bleeding<br />(implemented by 93% of participants)</td>\n",
       "        <td>5:27<br />(1:56)</td>\n",
       "        <td>5:08<br />(4:07, 6:30)</td>\n",
       "    </tr>\n",
       "    <tr>\n",
       "        <td>Hemorrhage Control per Patient</td>\n",
       "        <td>0:21<br />(0:49)</td>\n",
       "        <td>0:09<br />(0:02, 0:18)</td>\n",
       "    </tr>\n",
       "</table>"
      ],
      "text/plain": [
       "<IPython.core.display.HTML object>"
      ]
     },
     "execution_count": 37,
     "metadata": {},
     "output_type": "execute_result"
    }
   ],
   "source": [
    "\n",
    "ttt_dict = nu.get_statistics(triage_time_df, ['triage_time']).applymap(temporalize_fn, na_action='ignore').to_dict()['triage_time']\n",
    "hc_dict = nu.get_statistics(last_controlled_time_df, ['last_controlled_time']).applymap(temporalize_fn, na_action='ignore').to_dict()['last_controlled_time']\n",
    "hcpp_dict = nu.get_statistics(controlled_time_df, ['controlled_time']).applymap(temporalize_fn, na_action='ignore').to_dict()['controlled_time']\n",
    "HTML(f\"\"\"<h3 style=\"text-align: center\">Results</h3>\n",
    "<h4>Triage Efficiency</h4>\n",
    "The mean time to triage the entire scene was {temporalize_fn(triage_time_df.mean())} minutes (SD = {temporalize_fn(triage_time_df.std())}). A\n",
    "robust {phc}% of participants successfully implemented all required hemorrhage control,\n",
    "with a mean time of {temporalize_fn(last_controlled_time_df.mean())} minutes for life-threatening hemorrhage control\n",
    "(SD = {temporalize_fn(last_controlled_time_df.std())}). Hemorrhage control per patient took a median of {temporalize_fn(controlled_time_df.mean())}\n",
    "seconds (SD = {temporalize_fn(controlled_time_df.std())}). All triage efficiency measures have been listed in table 2 with\n",
    "means, standard deviations, medians and interquartile range values.\n",
    "<table style=\"margin: 0 auto;\">\n",
    "    <caption>Table 2. Triage efficiency measures related to time. All values are in minutes:seconds</caption>\n",
    "    <tr><th>Measure</th><th>Mean Time (SD)</th><th>Median Time (IQR)</th></tr>\n",
    "    <tr>\n",
    "        <td>Time to Triage Scene</td>\n",
    "        <td>{ttt_dict['mean']}<br />({ttt_dict['SD']})</td>\n",
    "        <td>{ttt_dict['median']}<br />({ttt_dict['25%']}, {ttt_dict['75%']})</td>\n",
    "    </tr>\n",
    "    <tr>\n",
    "        <td>Hemorrhage Control for all Life-threatening<br />Bleeding<br />(implemented by 93% of participants)</td>\n",
    "        <td>{hc_dict['mean']}<br />({hc_dict['SD']})</td>\n",
    "        <td>{hc_dict['median']}<br />({hc_dict['25%']}, {hc_dict['75%']})</td>\n",
    "    </tr>\n",
    "    <tr>\n",
    "        <td>Hemorrhage Control per Patient</td>\n",
    "        <td>{hcpp_dict['mean']}<br />({hcpp_dict['SD']})</td>\n",
    "        <td>{hcpp_dict['median']}<br />({hcpp_dict['25%']}, {hcpp_dict['75%']})</td>\n",
    "    </tr>\n",
    "</table>\"\"\")"
   ]
  },
  {
   "cell_type": "code",
   "execution_count": 41,
   "id": "cdbb1264-87a9-49e3-b72f-a756a3edbbaa",
   "metadata": {},
   "outputs": [
    {
     "data": {
      "text/html": [
       "\n",
       "Patients who can follow simple voice commands are asked to walk and are prioritized last for individual assessment.\n",
       "329 learners properly issued this command, and 136 learners visited walkers last.\n"
      ],
      "text/plain": [
       "<IPython.core.display.HTML object>"
      ]
     },
     "execution_count": 41,
     "metadata": {},
     "output_type": "execute_result"
    }
   ],
   "source": [
    "\n",
    "issued_walk_count = Series(\n",
    "    [fu.get_walk_value(scene_df) for _, scene_df in elevens_df.groupby(fu.scene_groupby_columns)]\n",
    ").sum()\n",
    "visited_last_count = Series(\n",
    "    [fu.get_walkers_value(scene_df) for _, scene_df in elevens_df.groupby(fu.scene_groupby_columns)]\n",
    ").sum()\n",
    "HTML(f\"\"\"\n",
    "Patients who can follow simple voice commands are asked to walk and are prioritized last for individual assessment.\n",
    "{issued_walk_count} learners properly issued this command, and {visited_last_count} learners visited walkers last.\n",
    "\"\"\")"
   ]
  },
  {
   "cell_type": "code",
   "execution_count": 42,
   "id": "81f975b0-2f59-4704-b3aa-03264eac0871",
   "metadata": {},
   "outputs": [
    {
     "data": {
      "text/html": [
       "\n",
       "By assessing the patients who are still first, the provider is likely to approach those patients who may require lifesaving interventions.\n",
       "278 providers issued the wave command.\n"
      ],
      "text/plain": [
       "<IPython.core.display.HTML object>"
      ]
     },
     "execution_count": 42,
     "metadata": {},
     "output_type": "execute_result"
    }
   ],
   "source": [
    "\n",
    "issued_wave_count = Series(\n",
    "    [fu.get_wave_value(scene_df) for _, scene_df in elevens_df.groupby(fu.scene_groupby_columns)]\n",
    ").sum()\n",
    "HTML(f\"\"\"\n",
    "By assessing the patients who are still first, the provider is likely to approach those patients who may require lifesaving interventions.\n",
    "{issued_wave_count} providers issued the wave command.\n",
    "\"\"\")"
   ]
  },
  {
   "cell_type": "code",
   "execution_count": null,
   "id": "0d2b8ded-78a1-42f6-b942-75c4473ab0f5",
   "metadata": {},
   "outputs": [],
   "source": [
    "\n",
    "suffixing_fn = lambda x: f'{x}-triage Error' if (x in ['Over', 'Under']) else (f'{x} Error' if (x in ['Critical']) else x)\n",
    "responder_categories_list = ['EMT-Basic', 'Paramedic', 'Medical Student', 'EM Resident', 'EM-Faculty']\n",
    "responder_categories_dict = {o: n for o, n in zip(\n",
    "    responder_categories_list, ['EMT-Basic', 'EMT-Paramedic', 'Medical Student', 'EM-Resident', 'EM-Faculty']\n",
    ")}\n",
    "over_values, under_values, critical_values = [], [], []\n",
    "for responder_category in responder_categories_list:\n",
    "    mask_series = (triage_error_rates_df.responder_category == responder_category)\n",
    "    df = triage_error_rates_df[mask_series]\n",
    "    over_values.append(df.over_triage_error_rate.squeeze())\n",
    "    under_values.append(df.under_triage_error_rate.squeeze())\n",
    "    critical_values.append(df.critical_triage_error_rate.squeeze())\n",
    "\n",
    "# Create a horizontal bar chart for the first set of values\n",
    "over_bar = plt.barh([responder_categories_dict[o] for o in responder_categories_list], over_values, color='#000000', label=suffixing_fn('Over'))\n",
    "\n",
    "# Create a stacked horizontal bar chart for the second set of values\n",
    "under_bar = plt.barh(\n",
    "    [responder_categories_dict[o] for o in responder_categories_list], under_values, color='#717170', label=suffixing_fn('Under'), left=over_values\n",
    ")\n",
    "\n",
    "# Create a stacked horizontal bar chart for the third set of values\n",
    "critical_bar = plt.barh([\n",
    "    responder_categories_dict[o] for o in responder_categories_list], critical_values, color='#bb0000', label=suffixing_fn('Critical'),\n",
    "    left=[v1 + v2 for v1, v2 in zip(over_values, under_values)\n",
    "])\n",
    "\n",
    "# Annotate the values of each value set inside their respective rectangles\n",
    "for bars, values in zip([over_bar, under_bar, critical_bar], [over_values, under_values, critical_values]):\n",
    "    for bar, value in zip(bars, values):\n",
    "        if (value > 2.7): plt.text(\n",
    "            bar.get_x() + bar.get_width()/2, bar.get_y() + bar.get_height()/2, f'{value:.01f}%', va='center', ha='center',\n",
    "            color=nu.get_text_color(bar_color_rgb=bar.get_facecolor())\n",
    "        )\n",
    "        elif (value > 2.4): plt.text(\n",
    "            bar.get_x() + bar.get_width()/2, bar.get_y() + bar.get_height()/2, f'{value:.01f}%', va='center', ha='center',\n",
    "            color=nu.get_text_color(bar_color_rgb=bar.get_facecolor()), fontdict={'size': 10}\n",
    "        )\n",
    "        elif (value > 0): plt.text(\n",
    "            bar.get_x() + bar.get_width()/2, bar.get_y() + bar.get_height()/2, f'{value:.01f}%', va='center', ha='center',\n",
    "            color=nu.get_text_color(bar_color_rgb=bar.get_facecolor()), fontdict={'size': 9}\n",
    "        )\n",
    "\n",
    "# Set the title, labels, and grid\n",
    "plt.title('Triage Errors')\n",
    "plt.xlabel('Percent (%)')\n",
    "plt.ylabel('')\n",
    "plt.grid(False)\n",
    "\n",
    "# Set legend placement outside the plot\n",
    "plt.legend(loc='lower left', bbox_to_anchor=(0.74, 0))\n",
    "\n",
    "# Remove x-axis ticks\n",
    "plt.xticks([])\n",
    "\n",
    "# Display the chart\n",
    "plt.show()"
   ]
  },
  {
   "cell_type": "markdown",
   "id": "bc618ea3-407a-423b-b17b-b362a39474c4",
   "metadata": {},
   "source": [
    "\n",
    "## SALT triage performance"
   ]
  },
  {
   "cell_type": "markdown",
   "id": "890c8d6c-f34e-4c10-8bc7-1818d8a2aa51",
   "metadata": {},
   "source": [
    "\n",
    "Once Nick provides this, check against \"3 correct orders\" by marking anything outside of these orders as incorrect. We can also check performance for each of the different categories (walker, waver, still, life-threatening)"
   ]
  },
  {
   "cell_type": "markdown",
   "id": "b3c8adbc-26cb-41f3-80fc-dd56eefc9013",
   "metadata": {},
   "source": [
    "\n",
    "# Maintenance/Attic"
   ]
  },
  {
   "cell_type": "code",
   "execution_count": 39,
   "id": "2d8d8d8b-84c4-4e54-bf87-ca09b9633274",
   "metadata": {},
   "outputs": [
    {
     "name": "stdout",
     "output_type": "stream",
     "text": [
      "If you take the \"Nurse\", \"Other HP\", \"EM-FAC\", and \"EMS FELO\" responder types and combine them into the \"Other\" responder category,\n"
     ]
    }
   ],
   "source": [
    "\n",
    "responder_types_list = ['Nurse', 'Other HP', 'EM-FAC', 'EMS FELO']\n",
    "rt_str = nu.conjunctify_nouns([f'\"{tn}\"' for tn in responder_types_list])\n",
    "print(f'If you take the {rt_str} responder types and combine them into the \"Other\" responder category,')"
   ]
  },
  {
   "cell_type": "code",
   "execution_count": 8,
   "id": "b4a7c27a-e654-4170-9fd0-c5decd363416",
   "metadata": {},
   "outputs": [
    {
     "data": {
      "text/html": [
       "<div>\n",
       "<style scoped>\n",
       "    .dataframe tbody tr th:only-of-type {\n",
       "        vertical-align: middle;\n",
       "    }\n",
       "\n",
       "    .dataframe tbody tr th {\n",
       "        vertical-align: top;\n",
       "    }\n",
       "\n",
       "    .dataframe thead th {\n",
       "        text-align: right;\n",
       "    }\n",
       "</style>\n",
       "<table border=\"1\" class=\"dataframe\">\n",
       "  <thead>\n",
       "    <tr style=\"text-align: right;\">\n",
       "      <th></th>\n",
       "      <th>injury_id</th>\n",
       "      <th>injury_required_procedure</th>\n",
       "    </tr>\n",
       "  </thead>\n",
       "  <tbody>\n",
       "    <tr>\n",
       "      <th>188374</th>\n",
       "      <td>Face Shrapnel</td>\n",
       "      <td>gauzePressure</td>\n",
       "    </tr>\n",
       "    <tr>\n",
       "      <th>400747</th>\n",
       "      <td>Face Shrapnel</td>\n",
       "      <td>airway</td>\n",
       "    </tr>\n",
       "    <tr>\n",
       "      <th>10347</th>\n",
       "      <td>Forehead Scrape</td>\n",
       "      <td>gauzePressure</td>\n",
       "    </tr>\n",
       "    <tr>\n",
       "      <th>300718</th>\n",
       "      <td>Forehead Scrape</td>\n",
       "      <td>none</td>\n",
       "    </tr>\n",
       "    <tr>\n",
       "      <th>401011</th>\n",
       "      <td>L Forearm Laceration</td>\n",
       "      <td>gauzePressure</td>\n",
       "    </tr>\n",
       "    <tr>\n",
       "      <th>374878</th>\n",
       "      <td>L Side Puncture</td>\n",
       "      <td>woundpack</td>\n",
       "    </tr>\n",
       "    <tr>\n",
       "      <th>394051</th>\n",
       "      <td>L Thigh Puncture</td>\n",
       "      <td>tourniquet</td>\n",
       "    </tr>\n",
       "    <tr>\n",
       "      <th>221235</th>\n",
       "      <td>R Bicep Puncture</td>\n",
       "      <td>tourniquet</td>\n",
       "    </tr>\n",
       "    <tr>\n",
       "      <th>392566</th>\n",
       "      <td>R Calf Laceration</td>\n",
       "      <td>gauzePressure</td>\n",
       "    </tr>\n",
       "    <tr>\n",
       "      <th>189625</th>\n",
       "      <td>R Calf Shrapnel</td>\n",
       "      <td>tourniquet</td>\n",
       "    </tr>\n",
       "    <tr>\n",
       "      <th>378639</th>\n",
       "      <td>R Calf Shrapnel</td>\n",
       "      <td>gauzePressure</td>\n",
       "    </tr>\n",
       "    <tr>\n",
       "      <th>216944</th>\n",
       "      <td>R Palm Laceration</td>\n",
       "      <td>gauzePressure</td>\n",
       "    </tr>\n",
       "    <tr>\n",
       "      <th>395716</th>\n",
       "      <td>R Shin Amputation</td>\n",
       "      <td>tourniquet</td>\n",
       "    </tr>\n",
       "    <tr>\n",
       "      <th>193745</th>\n",
       "      <td>R Side Puncture</td>\n",
       "      <td>woundpack</td>\n",
       "    </tr>\n",
       "    <tr>\n",
       "      <th>395257</th>\n",
       "      <td>R Thigh Laceration</td>\n",
       "      <td>tourniquet</td>\n",
       "    </tr>\n",
       "    <tr>\n",
       "      <th>194023</th>\n",
       "      <td>R Thigh Laceration</td>\n",
       "      <td>gauzePressure</td>\n",
       "    </tr>\n",
       "  </tbody>\n",
       "</table>\n",
       "</div>"
      ],
      "text/plain": [
       "                   injury_id injury_required_procedure\n",
       "188374         Face Shrapnel             gauzePressure\n",
       "400747         Face Shrapnel                    airway\n",
       "10347        Forehead Scrape             gauzePressure\n",
       "300718       Forehead Scrape                      none\n",
       "401011  L Forearm Laceration             gauzePressure\n",
       "374878       L Side Puncture                 woundpack\n",
       "394051      L Thigh Puncture                tourniquet\n",
       "221235      R Bicep Puncture                tourniquet\n",
       "392566     R Calf Laceration             gauzePressure\n",
       "189625       R Calf Shrapnel                tourniquet\n",
       "378639       R Calf Shrapnel             gauzePressure\n",
       "216944     R Palm Laceration             gauzePressure\n",
       "395716     R Shin Amputation                tourniquet\n",
       "193745       R Side Puncture                 woundpack\n",
       "395257    R Thigh Laceration                tourniquet\n",
       "194023    R Thigh Laceration             gauzePressure"
      ]
     },
     "execution_count": 8,
     "metadata": {},
     "output_type": "execute_result"
    }
   ],
   "source": [
    "\n",
    "# Got it. So some people treated the same injury twice which you excluded which makes sense. And what were the errors that people made?\n",
    "columns_list = [\n",
    "    'injury_id', 'injury_required_procedure'\n",
    "]\n",
    "mask_series = (elevens_df.injury_treated_injury_treated_with_wrong_treatment == True)\n",
    "elevens_df[mask_series][columns_list].drop_duplicates(subset=columns_list, keep='last').sort_values(columns_list)"
   ]
  },
  {
   "cell_type": "code",
   "execution_count": 25,
   "id": "c3f9ae88-f441-47da-b907-967d028910c6",
   "metadata": {},
   "outputs": [
    {
     "name": "stdout",
     "output_type": "stream",
     "text": [
      "I think 22.03.16.0944.csv, 22.03.16.1215r.csv, 22.03.16.1239.csv, 22.12.06.1332.csv, 22.12.07.0804.csv, 22.12.07.1305.csv, 22.12.08.0835.csv, 22.12.08.1316.csv, 23.03.14.0807.csv, and 23.08.02.0802.csv provide excellent examples of tools applied wrongly multiple times to treat hemorrhages.\n"
     ]
    }
   ],
   "source": [
    "\n",
    "# Provide OSU with 10 example CSVs that demonstrate the low hemorrhage percents\n",
    "rows_list = []\n",
    "for (session_uuid, scene_id), scene_df in elevens_df.groupby(fu.scene_groupby_columns):\n",
    "    row_dict = {cn: eval(cn) for cn in fu.scene_groupby_columns}\n",
    "    row_dict['wrong_treatment_count'] = scene_df[scene_df.injury_treated_injury_treated_with_wrong_treatment == True].shape[0]\n",
    "    row_dict['hemorrhage_count'] = scene_df[scene_df.injury_treated_required_procedure.isin(fu.hemorrhage_control_procedures_list)].shape[0]\n",
    "    rows_list.append(row_dict)\n",
    "df = DataFrame(rows_list)\n",
    "session_uuids_list = sorted(df.sort_values(['hemorrhage_count', 'wrong_treatment_count'], ascending=[False, False]).head(10).session_uuid)\n",
    "mask_series = file_stats_df.session_uuid.isin(session_uuids_list)\n",
    "list_str = nu.conjunctify_nouns(sorted(file_stats_df[mask_series].session_file_name))\n",
    "print(f'I think {list_str} provide excellent examples of tools applied wrongly multiple times to treat hemorrhages.')"
   ]
  },
  {
   "cell_type": "code",
   "execution_count": 19,
   "id": "f6edc2e0-b681-4e0f-8bd6-f01a8a226bf4",
   "metadata": {},
   "outputs": [
    {
     "data": {
      "text/plain": [
       "['EM-FAC', 'EM-RES1', 'EM-RES2', 'EM-RES3', 'EMIM-RES1', 'EMIM-RES3', 'EMS FELO', 'EMT-Basic', 'EMT-I', 'EMT-Intermediate', 'M4-ATEM', 'M4-FM', 'M4-SURGERY', 'M4-SY', 'Nurse', 'Other HP', 'Paramedic', 'TEMS']"
      ]
     },
     "execution_count": 19,
     "metadata": {},
     "output_type": "execute_result"
    }
   ],
   "source": [
    "\n",
    "mask_series = ~elevens_df.responder_type.isnull()\n",
    "sorted(elevens_df[mask_series].responder_type.unique())"
   ]
  },
  {
   "cell_type": "code",
   "execution_count": 20,
   "id": "0f9960d4-c375-4ca6-b7db-81d59a3212a7",
   "metadata": {},
   "outputs": [
    {
     "data": {
      "text/html": [
       "<div>\n",
       "<style scoped>\n",
       "    .dataframe tbody tr th:only-of-type {\n",
       "        vertical-align: middle;\n",
       "    }\n",
       "\n",
       "    .dataframe tbody tr th {\n",
       "        vertical-align: top;\n",
       "    }\n",
       "\n",
       "    .dataframe thead th {\n",
       "        text-align: right;\n",
       "    }\n",
       "</style>\n",
       "<table border=\"1\" class=\"dataframe\">\n",
       "  <thead>\n",
       "    <tr style=\"text-align: right;\">\n",
       "      <th></th>\n",
       "      <th>responder_category</th>\n",
       "      <th>responder_type</th>\n",
       "      <th>record_count</th>\n",
       "    </tr>\n",
       "  </thead>\n",
       "  <tbody>\n",
       "    <tr>\n",
       "      <th>1</th>\n",
       "      <td>EM Resident</td>\n",
       "      <td>EM-RES2</td>\n",
       "      <td>84512</td>\n",
       "    </tr>\n",
       "    <tr>\n",
       "      <th>2</th>\n",
       "      <td>EM Resident</td>\n",
       "      <td>EM-RES3</td>\n",
       "      <td>74047</td>\n",
       "    </tr>\n",
       "    <tr>\n",
       "      <th>0</th>\n",
       "      <td>EM Resident</td>\n",
       "      <td>EM-RES1</td>\n",
       "      <td>13410</td>\n",
       "    </tr>\n",
       "    <tr>\n",
       "      <th>4</th>\n",
       "      <td>EM Resident</td>\n",
       "      <td>EMIM-RES3</td>\n",
       "      <td>780</td>\n",
       "    </tr>\n",
       "    <tr>\n",
       "      <th>3</th>\n",
       "      <td>EM Resident</td>\n",
       "      <td>EMIM-RES1</td>\n",
       "      <td>525</td>\n",
       "    </tr>\n",
       "    <tr>\n",
       "      <th>5</th>\n",
       "      <td>EMT-Basic</td>\n",
       "      <td>EMT-Basic</td>\n",
       "      <td>16639</td>\n",
       "    </tr>\n",
       "    <tr>\n",
       "      <th>6</th>\n",
       "      <td>Medical Student</td>\n",
       "      <td>M4-ATEM</td>\n",
       "      <td>19486</td>\n",
       "    </tr>\n",
       "    <tr>\n",
       "      <th>7</th>\n",
       "      <td>Medical Student</td>\n",
       "      <td>M4-FM</td>\n",
       "      <td>13521</td>\n",
       "    </tr>\n",
       "    <tr>\n",
       "      <th>8</th>\n",
       "      <td>Medical Student</td>\n",
       "      <td>M4-SURGERY</td>\n",
       "      <td>2767</td>\n",
       "    </tr>\n",
       "    <tr>\n",
       "      <th>9</th>\n",
       "      <td>Medical Student</td>\n",
       "      <td>M4-SY</td>\n",
       "      <td>2126</td>\n",
       "    </tr>\n",
       "    <tr>\n",
       "      <th>10</th>\n",
       "      <td>Other</td>\n",
       "      <td>EM-FAC</td>\n",
       "      <td>3670</td>\n",
       "    </tr>\n",
       "    <tr>\n",
       "      <th>11</th>\n",
       "      <td>Other</td>\n",
       "      <td>EMS FELO</td>\n",
       "      <td>1890</td>\n",
       "    </tr>\n",
       "    <tr>\n",
       "      <th>12</th>\n",
       "      <td>Other</td>\n",
       "      <td>Nurse</td>\n",
       "      <td>571</td>\n",
       "    </tr>\n",
       "    <tr>\n",
       "      <th>13</th>\n",
       "      <td>Other</td>\n",
       "      <td>Other HP</td>\n",
       "      <td>521</td>\n",
       "    </tr>\n",
       "    <tr>\n",
       "      <th>16</th>\n",
       "      <td>Paramedic</td>\n",
       "      <td>Paramedic</td>\n",
       "      <td>159227</td>\n",
       "    </tr>\n",
       "    <tr>\n",
       "      <th>14</th>\n",
       "      <td>Paramedic</td>\n",
       "      <td>EMT-I</td>\n",
       "      <td>2757</td>\n",
       "    </tr>\n",
       "    <tr>\n",
       "      <th>17</th>\n",
       "      <td>Paramedic</td>\n",
       "      <td>TEMS</td>\n",
       "      <td>1318</td>\n",
       "    </tr>\n",
       "    <tr>\n",
       "      <th>15</th>\n",
       "      <td>Paramedic</td>\n",
       "      <td>EMT-Intermediate</td>\n",
       "      <td>998</td>\n",
       "    </tr>\n",
       "  </tbody>\n",
       "</table>\n",
       "</div>"
      ],
      "text/plain": [
       "   responder_category    responder_type  record_count\n",
       "1         EM Resident           EM-RES2         84512\n",
       "2         EM Resident           EM-RES3         74047\n",
       "0         EM Resident           EM-RES1         13410\n",
       "4         EM Resident         EMIM-RES3           780\n",
       "3         EM Resident         EMIM-RES1           525\n",
       "5           EMT-Basic         EMT-Basic         16639\n",
       "6     Medical Student           M4-ATEM         19486\n",
       "7     Medical Student             M4-FM         13521\n",
       "8     Medical Student        M4-SURGERY          2767\n",
       "9     Medical Student             M4-SY          2126\n",
       "10              Other            EM-FAC          3670\n",
       "11              Other          EMS FELO          1890\n",
       "12              Other             Nurse           571\n",
       "13              Other          Other HP           521\n",
       "16          Paramedic         Paramedic        159227\n",
       "14          Paramedic             EMT-I          2757\n",
       "17          Paramedic              TEMS          1318\n",
       "15          Paramedic  EMT-Intermediate           998"
      ]
     },
     "metadata": {},
     "output_type": "display_data"
    }
   ],
   "source": [
    "\n",
    "df = elevens_df.groupby(['responder_category', 'responder_type']).size().to_frame().rename(columns={0: 'record_count'}).reset_index(drop=False)\n",
    "display(df.sort_values(['responder_category', 'record_count'], ascending=[True, False]))"
   ]
  },
  {
   "cell_type": "code",
   "execution_count": 21,
   "id": "a8c85ef1-9163-4b83-b928-045447824224",
   "metadata": {},
   "outputs": [
    {
     "data": {
      "text/html": [
       "<div>\n",
       "<style scoped>\n",
       "    .dataframe tbody tr th:only-of-type {\n",
       "        vertical-align: middle;\n",
       "    }\n",
       "\n",
       "    .dataframe tbody tr th {\n",
       "        vertical-align: top;\n",
       "    }\n",
       "\n",
       "    .dataframe thead th {\n",
       "        text-align: right;\n",
       "    }\n",
       "</style>\n",
       "<table border=\"1\" class=\"dataframe\">\n",
       "  <thead>\n",
       "    <tr style=\"text-align: right;\">\n",
       "      <th></th>\n",
       "      <th>record_count</th>\n",
       "    </tr>\n",
       "    <tr>\n",
       "      <th>responder_category</th>\n",
       "      <th></th>\n",
       "    </tr>\n",
       "  </thead>\n",
       "  <tbody>\n",
       "    <tr>\n",
       "      <th>EM Resident</th>\n",
       "      <td>173274</td>\n",
       "    </tr>\n",
       "    <tr>\n",
       "      <th>Paramedic</th>\n",
       "      <td>164300</td>\n",
       "    </tr>\n",
       "    <tr>\n",
       "      <th>Medical Student</th>\n",
       "      <td>37900</td>\n",
       "    </tr>\n",
       "    <tr>\n",
       "      <th>EMT-Basic</th>\n",
       "      <td>16639</td>\n",
       "    </tr>\n",
       "    <tr>\n",
       "      <th>Other</th>\n",
       "      <td>6652</td>\n",
       "    </tr>\n",
       "  </tbody>\n",
       "</table>\n",
       "</div>"
      ],
      "text/plain": [
       "                    record_count\n",
       "responder_category              \n",
       "EM Resident               173274\n",
       "Paramedic                 164300\n",
       "Medical Student            37900\n",
       "EMT-Basic                  16639\n",
       "Other                       6652"
      ]
     },
     "metadata": {},
     "output_type": "display_data"
    }
   ],
   "source": [
    "\n",
    "display(elevens_df.groupby(['responder_category']).size().to_frame().rename(columns={0: 'record_count'}).sort_values(\n",
    "    'record_count', ascending=False\n",
    "))"
   ]
  },
  {
   "cell_type": "code",
   "execution_count": 22,
   "id": "7c74d56f-0a42-4827-aa09-6b4e2c5f9d40",
   "metadata": {},
   "outputs": [
    {
     "data": {
      "text/html": [
       "<div>\n",
       "<style scoped>\n",
       "    .dataframe tbody tr th:only-of-type {\n",
       "        vertical-align: middle;\n",
       "    }\n",
       "\n",
       "    .dataframe tbody tr th {\n",
       "        vertical-align: top;\n",
       "    }\n",
       "\n",
       "    .dataframe thead th {\n",
       "        text-align: right;\n",
       "    }\n",
       "</style>\n",
       "<table border=\"1\" class=\"dataframe\">\n",
       "  <thead>\n",
       "    <tr style=\"text-align: right;\">\n",
       "      <th></th>\n",
       "      <th>record_count</th>\n",
       "    </tr>\n",
       "    <tr>\n",
       "      <th>responder_type</th>\n",
       "      <th></th>\n",
       "    </tr>\n",
       "  </thead>\n",
       "  <tbody>\n",
       "    <tr>\n",
       "      <th>Paramedic</th>\n",
       "      <td>159227</td>\n",
       "    </tr>\n",
       "    <tr>\n",
       "      <th>EM-RES2</th>\n",
       "      <td>84512</td>\n",
       "    </tr>\n",
       "    <tr>\n",
       "      <th>EM-RES3</th>\n",
       "      <td>74047</td>\n",
       "    </tr>\n",
       "    <tr>\n",
       "      <th>M4-ATEM</th>\n",
       "      <td>19486</td>\n",
       "    </tr>\n",
       "    <tr>\n",
       "      <th>EMT-Basic</th>\n",
       "      <td>16639</td>\n",
       "    </tr>\n",
       "    <tr>\n",
       "      <th>M4-FM</th>\n",
       "      <td>13521</td>\n",
       "    </tr>\n",
       "    <tr>\n",
       "      <th>EM-RES1</th>\n",
       "      <td>13410</td>\n",
       "    </tr>\n",
       "    <tr>\n",
       "      <th>EM-FAC</th>\n",
       "      <td>3670</td>\n",
       "    </tr>\n",
       "    <tr>\n",
       "      <th>M4-SURGERY</th>\n",
       "      <td>2767</td>\n",
       "    </tr>\n",
       "    <tr>\n",
       "      <th>EMT-I</th>\n",
       "      <td>2757</td>\n",
       "    </tr>\n",
       "    <tr>\n",
       "      <th>M4-SY</th>\n",
       "      <td>2126</td>\n",
       "    </tr>\n",
       "    <tr>\n",
       "      <th>EMS FELO</th>\n",
       "      <td>1890</td>\n",
       "    </tr>\n",
       "    <tr>\n",
       "      <th>TEMS</th>\n",
       "      <td>1318</td>\n",
       "    </tr>\n",
       "    <tr>\n",
       "      <th>EMT-Intermediate</th>\n",
       "      <td>998</td>\n",
       "    </tr>\n",
       "    <tr>\n",
       "      <th>EMIM-RES3</th>\n",
       "      <td>780</td>\n",
       "    </tr>\n",
       "    <tr>\n",
       "      <th>Nurse</th>\n",
       "      <td>571</td>\n",
       "    </tr>\n",
       "    <tr>\n",
       "      <th>EMIM-RES1</th>\n",
       "      <td>525</td>\n",
       "    </tr>\n",
       "    <tr>\n",
       "      <th>Other HP</th>\n",
       "      <td>521</td>\n",
       "    </tr>\n",
       "  </tbody>\n",
       "</table>\n",
       "</div>"
      ],
      "text/plain": [
       "                  record_count\n",
       "responder_type                \n",
       "Paramedic               159227\n",
       "EM-RES2                  84512\n",
       "EM-RES3                  74047\n",
       "M4-ATEM                  19486\n",
       "EMT-Basic                16639\n",
       "M4-FM                    13521\n",
       "EM-RES1                  13410\n",
       "EM-FAC                    3670\n",
       "M4-SURGERY                2767\n",
       "EMT-I                     2757\n",
       "M4-SY                     2126\n",
       "EMS FELO                  1890\n",
       "TEMS                      1318\n",
       "EMT-Intermediate           998\n",
       "EMIM-RES3                  780\n",
       "Nurse                      571\n",
       "EMIM-RES1                  525\n",
       "Other HP                   521"
      ]
     },
     "metadata": {},
     "output_type": "display_data"
    }
   ],
   "source": [
    "\n",
    "display(elevens_df.groupby(['responder_type']).size().to_frame().rename(columns={0: 'record_count'}).sort_values(\n",
    "    'record_count', ascending=False\n",
    "))"
   ]
  },
  {
   "cell_type": "code",
   "execution_count": null,
   "id": "9c641ced-5c48-49b5-bd6f-0b610a289d37",
   "metadata": {},
   "outputs": [],
   "source": []
  }
 ],
 "metadata": {
  "kernelspec": {
   "display_name": "ITM Analysis Reporting (Python 3.11.7)",
   "language": "python",
   "name": "itm_analysis_reporting"
  },
  "language_info": {
   "codemirror_mode": {
    "name": "ipython",
    "version": 3
   },
   "file_extension": ".py",
   "mimetype": "text/x-python",
   "name": "python",
   "nbconvert_exporter": "python",
   "pygments_lexer": "ipython3",
   "version": "3.7.12"
  }
 },
 "nbformat": 4,
 "nbformat_minor": 5
}

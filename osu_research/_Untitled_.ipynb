{
 "cells": [
  {
   "cell_type": "code",
   "execution_count": null,
   "id": "79879cc2-14c3-440d-ad54-a0c307e41e46",
   "metadata": {},
   "outputs": [],
   "source": []
  },
  {
   "cell_type": "markdown",
   "id": "3a6a0ab3-580a-4bf3-9c9f-f279ea31a1c4",
   "metadata": {},
   "source": [
    "\n",
    "## Add a column \"HC_completed\" where you provide a 1 for hemorrage control completed for that responder for the scene and a 0 for those that didnt"
   ]
  },
  {
   "cell_type": "code",
   "execution_count": null,
   "id": "7936a1ff-2d06-40dd-a486-b4989a7b0e07",
   "metadata": {},
   "outputs": [],
   "source": [
    "\n",
    "file_name = 'swaps_walk_wave_anova_df20240516.xlsx'"
   ]
  }
 ],
 "metadata": {
  "kernelspec": {
   "display_name": "ITM Analysis Reporting (Python 3.11.7)",
   "language": "python",
   "name": "itm_analysis_reporting"
  },
  "language_info": {
   "codemirror_mode": {
    "name": "ipython",
    "version": 3
   },
   "file_extension": ".py",
   "mimetype": "text/x-python",
   "name": "python",
   "nbconvert_exporter": "python",
   "pygments_lexer": "ipython3",
   "version": "3.7.12"
  }
 },
 "nbformat": 4,
 "nbformat_minor": 5
}

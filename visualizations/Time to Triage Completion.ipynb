{
 "cells": [
  {
   "cell_type": "markdown",
   "id": "ee04f911-bff9-4241-bedd-39b24c959d53",
   "metadata": {},
   "source": [
    "\n",
    "# Triage Efficiency\n",
    "\n",
    "(how long it takes to triage the scene) What record in the FRVRS log is there that shows that the scene triage is complete?"
   ]
  },
  {
   "cell_type": "markdown",
   "id": "23515b16-8840-42a6-9573-3baef53df79f",
   "metadata": {},
   "source": [
    "\n",
    "## 0. Importing libraries and still patients data frame"
   ]
  },
  {
   "cell_type": "code",
   "execution_count": 1,
   "id": "da79f296-3ed4-4893-ad7f-f50e54cdd0de",
   "metadata": {},
   "outputs": [
    {
     "name": "stdout",
     "output_type": "stream",
     "text": [
      "Pretty printing has been turned OFF\n"
     ]
    }
   ],
   "source": [
    "\n",
    "%pprint\n",
    "import sys\n",
    "sys.path.insert(1, '../py')"
   ]
  },
  {
   "cell_type": "code",
   "execution_count": 2,
   "id": "47504478-1c6d-47ec-a319-9516c91cb86d",
   "metadata": {},
   "outputs": [],
   "source": [
    "\n",
    "from datetime import timedelta\n",
    "from notebook_utils import NotebookUtilities\n",
    "from pandas import DataFrame\n",
    "import humanize\n",
    "import matplotlib.pyplot as plt\n",
    "import numpy as np\n",
    "import os\n",
    "import pandas as pd\n",
    "import re\n",
    "\n",
    "nu = NotebookUtilities(data_folder_path=os.path.abspath('../data'))"
   ]
  },
  {
   "cell_type": "code",
   "execution_count": 3,
   "id": "608ac193-e705-45cb-ba98-9d973271ce58",
   "metadata": {},
   "outputs": [
    {
     "name": "stdout",
     "output_type": "stream",
     "text": [
      "(2968, 9)\n"
     ]
    },
    {
     "data": {
      "text/html": [
       "<div>\n",
       "<style scoped>\n",
       "    .dataframe tbody tr th:only-of-type {\n",
       "        vertical-align: middle;\n",
       "    }\n",
       "\n",
       "    .dataframe tbody tr th {\n",
       "        vertical-align: top;\n",
       "    }\n",
       "\n",
       "    .dataframe thead th {\n",
       "        text-align: right;\n",
       "    }\n",
       "</style>\n",
       "<table border=\"1\" class=\"dataframe\">\n",
       "  <thead>\n",
       "    <tr style=\"text-align: right;\">\n",
       "      <th></th>\n",
       "      <th>2287</th>\n",
       "      <th>270</th>\n",
       "      <th>2380</th>\n",
       "      <th>1138</th>\n",
       "    </tr>\n",
       "  </thead>\n",
       "  <tbody>\n",
       "    <tr>\n",
       "      <th>logger_version</th>\n",
       "      <td>1.0</td>\n",
       "      <td>1.3</td>\n",
       "      <td>1.0</td>\n",
       "      <td>1.0</td>\n",
       "    </tr>\n",
       "    <tr>\n",
       "      <th>session_uuid</th>\n",
       "      <td>cdc7b0ec-a883-4705-9b55-b618d429808e</td>\n",
       "      <td>14678e1f-aa1c-4a67-a31f-65dd3e2238ca</td>\n",
       "      <td>d347b967-5e20-4527-95dd-3a0fdf73af1d</td>\n",
       "      <td>60d42fe6-f30b-4eab-ba01-644dde714e4d</td>\n",
       "    </tr>\n",
       "    <tr>\n",
       "      <th>time_group</th>\n",
       "      <td>2</td>\n",
       "      <td>0</td>\n",
       "      <td>2</td>\n",
       "      <td>2</td>\n",
       "    </tr>\n",
       "    <tr>\n",
       "      <th>patient_id</th>\n",
       "      <td>Bob_0 Root</td>\n",
       "      <td>Mike_6 Root</td>\n",
       "      <td>Gary_1 Root</td>\n",
       "      <td>Bob_0 Root</td>\n",
       "    </tr>\n",
       "    <tr>\n",
       "      <th>first_notice</th>\n",
       "      <td>223819</td>\n",
       "      <td>23792</td>\n",
       "      <td>374162</td>\n",
       "      <td>357743</td>\n",
       "    </tr>\n",
       "    <tr>\n",
       "      <th>first_action</th>\n",
       "      <td>231006.0</td>\n",
       "      <td>NaN</td>\n",
       "      <td>380952.0</td>\n",
       "      <td>368365.0</td>\n",
       "    </tr>\n",
       "    <tr>\n",
       "      <th>first_engagement</th>\n",
       "      <td>438422.0</td>\n",
       "      <td>NaN</td>\n",
       "      <td>405623.0</td>\n",
       "      <td>404448.0</td>\n",
       "    </tr>\n",
       "    <tr>\n",
       "      <th>notice_to_engagement</th>\n",
       "      <td>214603.0</td>\n",
       "      <td>NaN</td>\n",
       "      <td>31461.0</td>\n",
       "      <td>46705.0</td>\n",
       "    </tr>\n",
       "    <tr>\n",
       "      <th>action_to_engagement</th>\n",
       "      <td>207416.0</td>\n",
       "      <td>NaN</td>\n",
       "      <td>24671.0</td>\n",
       "      <td>36083.0</td>\n",
       "    </tr>\n",
       "  </tbody>\n",
       "</table>\n",
       "</div>"
      ],
      "text/plain": [
       "                                                      2287  \\\n",
       "logger_version                                         1.0   \n",
       "session_uuid          cdc7b0ec-a883-4705-9b55-b618d429808e   \n",
       "time_group                                               2   \n",
       "patient_id                                      Bob_0 Root   \n",
       "first_notice                                        223819   \n",
       "first_action                                      231006.0   \n",
       "first_engagement                                  438422.0   \n",
       "notice_to_engagement                              214603.0   \n",
       "action_to_engagement                              207416.0   \n",
       "\n",
       "                                                      270   \\\n",
       "logger_version                                         1.3   \n",
       "session_uuid          14678e1f-aa1c-4a67-a31f-65dd3e2238ca   \n",
       "time_group                                               0   \n",
       "patient_id                                     Mike_6 Root   \n",
       "first_notice                                         23792   \n",
       "first_action                                           NaN   \n",
       "first_engagement                                       NaN   \n",
       "notice_to_engagement                                   NaN   \n",
       "action_to_engagement                                   NaN   \n",
       "\n",
       "                                                      2380  \\\n",
       "logger_version                                         1.0   \n",
       "session_uuid          d347b967-5e20-4527-95dd-3a0fdf73af1d   \n",
       "time_group                                               2   \n",
       "patient_id                                     Gary_1 Root   \n",
       "first_notice                                        374162   \n",
       "first_action                                      380952.0   \n",
       "first_engagement                                  405623.0   \n",
       "notice_to_engagement                               31461.0   \n",
       "action_to_engagement                               24671.0   \n",
       "\n",
       "                                                      1138  \n",
       "logger_version                                         1.0  \n",
       "session_uuid          60d42fe6-f30b-4eab-ba01-644dde714e4d  \n",
       "time_group                                               2  \n",
       "patient_id                                      Bob_0 Root  \n",
       "first_notice                                        357743  \n",
       "first_action                                      368365.0  \n",
       "first_engagement                                  404448.0  \n",
       "notice_to_engagement                               46705.0  \n",
       "action_to_engagement                               36083.0  "
      ]
     },
     "metadata": {},
     "output_type": "display_data"
    }
   ],
   "source": [
    "\n",
    "# Get the time that all still patients are engaged\n",
    "if nu.pickle_exists('still_patients_df'):\n",
    "    still_patients_df = nu.load_object('still_patients_df')\n",
    "    print(still_patients_df.shape)\n",
    "    df = still_patients_df.sample(4).dropna(axis='columns', how='all')\n",
    "    display(df.T)"
   ]
  },
  {
   "cell_type": "markdown",
   "id": "34a78522-7745-464d-9c07-90f82f5b9133",
   "metadata": {},
   "source": [
    "\n",
    "<img src=\"http://localhost:8888/files/itm-analysis-reporting/saves/png/fs_pcp_time_to_triage_completion.png\" />"
   ]
  },
  {
   "cell_type": "code",
   "execution_count": 5,
   "id": "346b77ef-fbc4-4773-bb3f-7cd15eff8f5d",
   "metadata": {},
   "outputs": [
    {
     "data": {
      "image/png": "[encoded data removed]",
      "text/plain": [
       "<Figure size 1800x900 with 1 Axes>"
      ]
     },
     "metadata": {},
     "output_type": "display_data"
    }
   ],
   "source": [
    "\n",
    "# Get the time to engage the first stills\n",
    "groupby_columns = ['session_uuid', 'time_group']\n",
    "min_first_engagement_df = still_patients_df.groupby(groupby_columns).filter(\n",
    "    lambda df: not df.first_engagement.isnull().any()\n",
    ").groupby(groupby_columns).min().reset_index(drop=False).sort_values('first_engagement')\n",
    "min_first_engagement_df = min_first_engagement_df.rename(\n",
    "    columns={k: 'min_' + k for k in min_first_engagement_df.columns if k not in groupby_columns}\n",
    ")\n",
    "\n",
    "# Filter out anything after 16 minutes per Nicholas Kman\n",
    "sixteen_minutes = 1_000 * 60 * 16\n",
    "mask_series = (min_first_engagement_df.min_first_engagement < sixteen_minutes)\n",
    "df = min_first_engagement_df[mask_series]\n",
    "\n",
    "# Make it so that the x-axis tick labels appear like 0, 30, 1 min, 1:30, 2 min, etc\n",
    "get_xtick_text = lambda text_obj: nu.format_timedelta(\n",
    "    timedelta(milliseconds=int(text_obj.get_position()[0]))\n",
    ")\n",
    "\n",
    "# Histogram of the time that it takes to triage the scene (assuming a still patient is the first engaged)\n",
    "xlabel = 'Time spent before Engaging the First Still Patient'\n",
    "title = 'Histogram of the Average time it takes before Engaging the First Still Patient'\n",
    "ylabel = 'Count of Responders in Bin'\n",
    "ax = nu.plot_histogram(df, 'min_first_engagement', xlabel=xlabel, xtick_text_fn=get_xtick_text, title=title, ylabel=ylabel, xticks_are_temporal=True)"
   ]
  },
  {
   "cell_type": "code",
   "execution_count": 6,
   "id": "d8de35dd-3299-4ad7-9c38-3de35649fbf0",
   "metadata": {},
   "outputs": [
    {
     "data": {
      "text/html": [
       "<div>\n",
       "<style scoped>\n",
       "    .dataframe tbody tr th:only-of-type {\n",
       "        vertical-align: middle;\n",
       "    }\n",
       "\n",
       "    .dataframe tbody tr th {\n",
       "        vertical-align: top;\n",
       "    }\n",
       "\n",
       "    .dataframe thead th {\n",
       "        text-align: right;\n",
       "    }\n",
       "</style>\n",
       "<table border=\"1\" class=\"dataframe\">\n",
       "  <thead>\n",
       "    <tr style=\"text-align: right;\">\n",
       "      <th></th>\n",
       "      <th>mean</th>\n",
       "      <th>mode</th>\n",
       "      <th>median</th>\n",
       "      <th>SD</th>\n",
       "      <th>min</th>\n",
       "      <th>25%</th>\n",
       "      <th>50%</th>\n",
       "      <th>75%</th>\n",
       "      <th>max</th>\n",
       "    </tr>\n",
       "  </thead>\n",
       "  <tbody>\n",
       "    <tr>\n",
       "      <th>min_first_engagement</th>\n",
       "      <td>4:20</td>\n",
       "      <td>27</td>\n",
       "      <td>4:16</td>\n",
       "      <td>±2:50</td>\n",
       "      <td>27</td>\n",
       "      <td>1:33</td>\n",
       "      <td>4:16</td>\n",
       "      <td>6:21</td>\n",
       "      <td>15:35</td>\n",
       "    </tr>\n",
       "  </tbody>\n",
       "</table>\n",
       "</div>"
      ],
      "text/plain": [
       "                      mean mode median     SD min   25%   50%   75%    max\n",
       "min_first_engagement  4:20   27   4:16  ±2:50  27  1:33  4:16  6:21  15:35"
      ]
     },
     "metadata": {},
     "output_type": "display_data"
    }
   ],
   "source": [
    "\n",
    "# Can you provide the following statistics for this distribution: mean, median, mode, SD, Interquartile range?\n",
    "columns_list = [\n",
    "    'min_first_engagement'\n",
    "]\n",
    "\n",
    "# Filter out anything after 16 minutes per Nicholas Kman\n",
    "sixteen_minutes = 1_000 * 60 * 16\n",
    "mask_series = (min_first_engagement_df.min_first_engagement < sixteen_minutes)\n",
    "df = min_first_engagement_df[mask_series][columns_list]\n",
    "nu.show_time_statistics(columns_list, df)"
   ]
  },
  {
   "cell_type": "code",
   "execution_count": null,
   "id": "0b20036b-cfbc-47aa-ba8a-052b5fb9b0db",
   "metadata": {},
   "outputs": [],
   "source": []
  }
 ],
 "metadata": {
  "kernelspec": {
   "display_name": "Notebooks (Python 3.9.16)",
   "language": "python",
   "name": "nb_env"
  },
  "language_info": {
   "codemirror_mode": {
    "name": "ipython",
    "version": 3
   },
   "file_extension": ".py",
   "mimetype": "text/x-python",
   "name": "python",
   "nbconvert_exporter": "python",
   "pygments_lexer": "ipython3",
   "version": "3.9.16"
  }
 },
 "nbformat": 4,
 "nbformat_minor": 5
}

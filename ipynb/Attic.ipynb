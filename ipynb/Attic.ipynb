{
 "cells": [
  {
   "cell_type": "code",
   "execution_count": null,
   "id": "b4977cf9-7d70-40b0-b42c-b4479fae4d1c",
   "metadata": {},
   "outputs": [],
   "source": []
  },
  {
   "cell_type": "code",
   "execution_count": 8,
   "id": "c9c8c3eb-cece-464e-9306-9f5c49fbc71f",
   "metadata": {},
   "outputs": [
    {
     "name": "stdout",
     "output_type": "stream",
     "text": [
      "red ['voice_capture_message', 'voice_command_command_description', 'tag_selected_type', 'tag_applied_type', 'tag_discarded_type']\n",
      "yellow ['voice_capture_message', 'voice_command_command_description', 'tag_selected_type', 'tag_applied_type', 'tag_discarded_type']\n",
      "black ['voice_capture_message', 'voice_command_command_description', 'tag_selected_type', 'tag_applied_type', 'tag_discarded_type']\n",
      "gray ['voice_capture_message', 'voice_command_command_description', 'tag_selected_type', 'tag_applied_type', 'tag_discarded_type']\n",
      "green ['voice_capture_message', 'voice_command_command_description', 'tag_selected_type', 'tag_applied_type', 'tag_discarded_type']\n"
     ]
    }
   ],
   "source": [
    "\n",
    "# Investigate the presence of colors\n",
    "colors_list = [\n",
    "    'red',\n",
    "    'yellow',\n",
    "    'black',\n",
    "    'gray',\n",
    "    'green'\n",
    "]\n",
    "for color in colors_list:\n",
    "    srs = frvrs_logs_df.applymap(lambda x: color in str(x).lower(), na_action='ignore').sum()\n",
    "    columns_list = srs[srs != 0].index.tolist()\n",
    "    if columns_list:\n",
    "        print(color, columns_list)"
   ]
  },
  {
   "cell_type": "code",
   "execution_count": null,
   "id": "06e6cc79-81f9-4dbb-84bb-68b8d433e986",
   "metadata": {},
   "outputs": [],
   "source": [
    " if any(map(lambda x: (x in fn), ['class', 'featur']))"
   ]
  },
  {
   "cell_type": "code",
   "execution_count": 6,
   "id": "0f45c778-cba1-43e1-93c1-82d111b4ffdf",
   "metadata": {},
   "outputs": [
    {
     "name": "stdout",
     "output_type": "stream",
     "text": [
      "I'm looping through each patient, run, and session (x9,874) and the input features columns (x32) prepended with each of the action types (x26) for a total of 8,215,168 loops.\n"
     ]
    }
   ],
   "source": [
    "\n",
    "loop1 = frvrs_logs_df.groupby(['session_uuid', 'time_group', 'patient_id']).size().shape[0]\n",
    "input_features = [\n",
    "    'patient_record_salt', 'patient_record_sort', 'patient_record_pulse', 'patient_record_breath', 'patient_record_hearing', 'patient_record_mood',\n",
    "    'patient_record_pose', 'injury_record_id', 'injury_record_required_procedure', 'injury_record_severity', 'injury_record_body_region',\n",
    "    'injury_record_injury_treated', 'injury_record_injury_treated_with_wrong_treatment', 'pulse_taken_pulse_name', 'patient_engaged_salt',\n",
    "    'patient_engaged_sort', 'patient_engaged_pulse', 'patient_engaged_breath', 'patient_engaged_hearing', 'patient_engaged_mood', 'patient_engaged_pose',\n",
    "    'injury_treated_id', 'injury_treated_required_procedure', 'injury_treated_severity', 'injury_treated_body_region', 'injury_treated_injury_treated',\n",
    "    'injury_treated_injury_treated_with_wrong_treatment', 'tool_applied_type', 'tool_applied_attachment_point', 'tool_applied_tool_location',\n",
    "    'tool_applied_data', 'tool_applied_sender'\n",
    "    ]\n",
    "loop2 = len(input_features)\n",
    "loop3 = frvrs_logs_df.action_type.unique().shape[0]\n",
    "loop_total = loop1 * loop2 * loop3\n",
    "print(f\"I'm looping through each patient, run, and session (x{loop1:,}) and the input features columns (x{loop2}) prepended with each of the action types (x{loop3}) for a total of {loop_total:,} loops.\")"
   ]
  },
  {
   "cell_type": "code",
   "execution_count": 31,
   "id": "117ae871-9a4e-4cc8-94f2-c05b89c9a1dd",
   "metadata": {},
   "outputs": [
    {
     "data": {
      "text/html": [
       "<div>\n",
       "<style scoped>\n",
       "    .dataframe tbody tr th:only-of-type {\n",
       "        vertical-align: middle;\n",
       "    }\n",
       "\n",
       "    .dataframe tbody tr th {\n",
       "        vertical-align: top;\n",
       "    }\n",
       "\n",
       "    .dataframe thead th {\n",
       "        text-align: right;\n",
       "    }\n",
       "</style>\n",
       "<table border=\"1\" class=\"dataframe\">\n",
       "  <thead>\n",
       "    <tr style=\"text-align: right;\">\n",
       "      <th></th>\n",
       "      <th>notice_to_control_time</th>\n",
       "      <th>responder_count</th>\n",
       "    </tr>\n",
       "  </thead>\n",
       "  <tbody>\n",
       "    <tr>\n",
       "      <th>0</th>\n",
       "      <td>11219.0</td>\n",
       "      <td>98.0</td>\n",
       "    </tr>\n",
       "    <tr>\n",
       "      <th>1</th>\n",
       "      <td>258123.4</td>\n",
       "      <td>169.0</td>\n",
       "    </tr>\n",
       "    <tr>\n",
       "      <th>2</th>\n",
       "      <td>505027.8</td>\n",
       "      <td>140.0</td>\n",
       "    </tr>\n",
       "    <tr>\n",
       "      <th>3</th>\n",
       "      <td>751932.2</td>\n",
       "      <td>120.0</td>\n",
       "    </tr>\n",
       "    <tr>\n",
       "      <th>4</th>\n",
       "      <td>998836.6</td>\n",
       "      <td>56.0</td>\n",
       "    </tr>\n",
       "    <tr>\n",
       "      <th>5</th>\n",
       "      <td>1245741.0</td>\n",
       "      <td>22.0</td>\n",
       "    </tr>\n",
       "    <tr>\n",
       "      <th>6</th>\n",
       "      <td>1492645.4</td>\n",
       "      <td>7.0</td>\n",
       "    </tr>\n",
       "    <tr>\n",
       "      <th>7</th>\n",
       "      <td>1739549.8</td>\n",
       "      <td>0.0</td>\n",
       "    </tr>\n",
       "    <tr>\n",
       "      <th>8</th>\n",
       "      <td>1986454.2</td>\n",
       "      <td>5.0</td>\n",
       "    </tr>\n",
       "    <tr>\n",
       "      <th>9</th>\n",
       "      <td>2233358.6</td>\n",
       "      <td>1.0</td>\n",
       "    </tr>\n",
       "  </tbody>\n",
       "</table>\n",
       "</div>"
      ],
      "text/plain": [
       "   notice_to_control_time  responder_count\n",
       "0                 11219.0             98.0\n",
       "1                258123.4            169.0\n",
       "2                505027.8            140.0\n",
       "3                751932.2            120.0\n",
       "4                998836.6             56.0\n",
       "5               1245741.0             22.0\n",
       "6               1492645.4              7.0\n",
       "7               1739549.8              0.0\n",
       "8               1986454.2              5.0\n",
       "9               2233358.6              1.0"
      ]
     },
     "execution_count": 31,
     "metadata": {},
     "output_type": "execute_result"
    },
    {
     "data": {
      "image/png": "[encoded data removed]",
      "text/plain": [
       "<Figure size 640x480 with 1 Axes>"
      ]
     },
     "metadata": {},
     "output_type": "display_data"
    }
   ],
   "source": [
    "\n",
    "df = notice_to_control_time_df.groupby(groupby_columns).sum()\n",
    "hist_obj = df.notice_to_control_time.hist()\n",
    "[f'hist_obj.{fn}' for fn in dir(hist_obj) if any(map(lambda x: x in fn, ['height', 'bin', 'patch']))]\n",
    "\n",
    "# Extract heights and x-coordinates of the bars\n",
    "rows_list = [{'notice_to_control_time': rect.get_x(), 'responder_count': rect.get_height()} for rect in hist_obj.patches]\n",
    "pd.DataFrame(rows_list)"
   ]
  },
  {
   "cell_type": "code",
   "execution_count": 30,
   "id": "097cd49e-6777-4939-a997-1d8f2933fcd2",
   "metadata": {},
   "outputs": [
    {
     "data": {
      "text/plain": [
       "['hist_obj.get_adjustable', 'hist_obj.get_agg_filter', 'hist_obj.get_alpha', 'hist_obj.get_anchor', 'hist_obj.get_animated', 'hist_obj.get_aspect', 'hist_obj.get_autoscale_on', 'hist_obj.get_autoscalex_on', 'hist_obj.get_autoscaley_on', 'hist_obj.get_axes_locator', 'hist_obj.get_axisbelow', 'hist_obj.get_box_aspect', 'hist_obj.get_children', 'hist_obj.get_clip_box', 'hist_obj.get_clip_on', 'hist_obj.get_clip_path', 'hist_obj.get_cursor_data', 'hist_obj.get_data_ratio', 'hist_obj.get_default_bbox_extra_artists', 'hist_obj.get_facecolor', 'hist_obj.get_fc', 'hist_obj.get_figure', 'hist_obj.get_frame_on', 'hist_obj.get_gid', 'hist_obj.get_gridspec', 'hist_obj.get_images', 'hist_obj.get_in_layout', 'hist_obj.get_label', 'hist_obj.get_legend', 'hist_obj.get_legend_handles_labels', 'hist_obj.get_lines', 'hist_obj.get_mouseover', 'hist_obj.get_navigate', 'hist_obj.get_navigate_mode', 'hist_obj.get_path_effects', 'hist_obj.get_picker', 'hist_obj.get_position', 'hist_obj.get_rasterization_zorder', 'hist_obj.get_rasterized', 'hist_obj.get_renderer_cache', 'hist_obj.get_shared_x_axes', 'hist_obj.get_shared_y_axes', 'hist_obj.get_sketch_params', 'hist_obj.get_snap', 'hist_obj.get_subplotspec', 'hist_obj.get_tightbbox', 'hist_obj.get_title', 'hist_obj.get_transform', 'hist_obj.get_transformed_clip_path_and_affine', 'hist_obj.get_url', 'hist_obj.get_visible', 'hist_obj.get_window_extent', 'hist_obj.get_xaxis', 'hist_obj.get_xaxis_text1_transform', 'hist_obj.get_xaxis_text2_transform', 'hist_obj.get_xaxis_transform', 'hist_obj.get_xbound', 'hist_obj.get_xgridlines', 'hist_obj.get_xlabel', 'hist_obj.get_xlim', 'hist_obj.get_xmajorticklabels', 'hist_obj.get_xminorticklabels', 'hist_obj.get_xscale', 'hist_obj.get_xticklabels', 'hist_obj.get_xticklines', 'hist_obj.get_xticks', 'hist_obj.get_yaxis', 'hist_obj.get_yaxis_text1_transform', 'hist_obj.get_yaxis_text2_transform', 'hist_obj.get_yaxis_transform', 'hist_obj.get_ybound', 'hist_obj.get_ygridlines', 'hist_obj.get_ylabel', 'hist_obj.get_ylim', 'hist_obj.get_ymajorticklabels', 'hist_obj.get_yminorticklabels', 'hist_obj.get_yscale', 'hist_obj.get_yticklabels', 'hist_obj.get_yticklines', 'hist_obj.get_yticks', 'hist_obj.get_zorder']"
      ]
     },
     "execution_count": 30,
     "metadata": {},
     "output_type": "execute_result"
    }
   ],
   "source": [
    "\n",
    "[f'hist_obj.{fn}' for fn in dir(hist_obj) if fn.startswith('get_')]"
   ]
  },
  {
   "cell_type": "code",
   "execution_count": 29,
   "id": "aac749f0-c681-455f-97b1-306b095e04ad",
   "metadata": {},
   "outputs": [
    {
     "data": {
      "text/plain": [
       "\u001b[1;31mType:\u001b[0m           Rectangle\n",
       "\u001b[1;31mString form:\u001b[0m    Rectangle(xy=(0, 0), width=1, height=1, angle=0)\n",
       "\u001b[1;31mFile:\u001b[0m           c:\\users\\davebabbitt\\documents\\github\\notebooks\\nb_env\\lib\\site-packages\\matplotlib\\patches.py\n",
       "\u001b[1;31mDocstring:\u001b[0m     \n",
       "A rectangle defined via an anchor point *xy* and its *width* and *height*.\n",
       "\n",
       "The rectangle extends from ``xy[0]`` to ``xy[0] + width`` in x-direction\n",
       "and from ``xy[1]`` to ``xy[1] + height`` in y-direction. ::\n",
       "\n",
       "  :                +------------------+\n",
       "  :                |                  |\n",
       "  :              height               |\n",
       "  :                |                  |\n",
       "  :               (xy)---- width -----+\n",
       "\n",
       "One may picture *xy* as the bottom left corner, but which corner *xy* is\n",
       "actually depends on the direction of the axis and the sign of *width*\n",
       "and *height*; e.g. *xy* would be the bottom right corner if the x-axis\n",
       "was inverted or if *width* was negative.\n",
       "\u001b[1;31mInit docstring:\u001b[0m\n",
       "Parameters\n",
       "----------\n",
       "xy : (float, float)\n",
       "    The anchor point.\n",
       "width : float\n",
       "    Rectangle width.\n",
       "height : float\n",
       "    Rectangle height.\n",
       "angle : float, default: 0\n",
       "    Rotation in degrees anti-clockwise about the rotation point.\n",
       "rotation_point : {'xy', 'center', (number, number)}, default: 'xy'\n",
       "    If ``'xy'``, rotate around the anchor point. If ``'center'`` rotate\n",
       "    around the center. If 2-tuple of number, rotate around this\n",
       "    coordinate.\n",
       "\n",
       "Other Parameters\n",
       "----------------\n",
       "**kwargs : `.Patch` properties\n",
       "    Properties:\n",
       "    agg_filter: a filter function, which takes a (m, n, 3) float array and a dpi value, and returns a (m, n, 3) array and two offsets from the bottom left corner of the image\n",
       "    alpha: unknown\n",
       "    animated: bool\n",
       "    antialiased or aa: bool or None\n",
       "    capstyle: `.CapStyle` or {'butt', 'projecting', 'round'}\n",
       "    clip_box: `.Bbox`\n",
       "    clip_on: bool\n",
       "    clip_path: Patch or (Path, Transform) or None\n",
       "    color: color\n",
       "    edgecolor or ec: color or None\n",
       "    facecolor or fc: color or None\n",
       "    figure: `.Figure`\n",
       "    fill: bool\n",
       "    gid: str\n",
       "    hatch: {'/', '\\\\', '|', '-', '+', 'x', 'o', 'O', '.', '*'}\n",
       "    in_layout: bool\n",
       "    joinstyle: `.JoinStyle` or {'miter', 'round', 'bevel'}\n",
       "    label: object\n",
       "    linestyle or ls: {'-', '--', '-.', ':', '', (offset, on-off-seq), ...}\n",
       "    linewidth or lw: float or None\n",
       "    mouseover: bool\n",
       "    path_effects: `.AbstractPathEffect`\n",
       "    picker: None or bool or float or callable\n",
       "    rasterized: bool\n",
       "    sketch_params: (scale: float, length: float, randomness: float)\n",
       "    snap: bool or None\n",
       "    transform: `.Transform`\n",
       "    url: str\n",
       "    visible: bool\n",
       "    zorder: float\n"
      ]
     },
     "metadata": {},
     "output_type": "display_data"
    }
   ],
   "source": [
    "\n",
    "  #   +------------------+\n",
    "  #   |                  |\n",
    "  # height               |\n",
    "  #   |                  |\n",
    "  #  (xy)---- width -----+\n",
    "hist_obj.patch?"
   ]
  },
  {
   "cell_type": "code",
   "execution_count": 28,
   "id": "5380a958-c83e-4b50-96d5-9419f7a64888",
   "metadata": {},
   "outputs": [
    {
     "data": {
      "text/plain": [
       "['_PROPERTIES_EXCLUDED_FROM_SET', '__class__', '__delattr__', '__dict__', '__dir__', '__doc__', '__eq__', '__format__', '__ge__', '__getattribute__', '__getstate__', '__gt__', '__hash__', '__init__', '__init_subclass__', '__le__', '__lt__', '__module__', '__ne__', '__new__', '__reduce__', '__reduce_ex__', '__repr__', '__setattr__', '__sizeof__', '__str__', '__subclasshook__', '__weakref__', '_agg_filter', '_alias_map', '_alpha', '_animated', '_antialiased', '_aspect_ratio_correction', '_axes', '_callbacks', '_capstyle', '_clipon', '_clippath', '_cm_set', '_convert_units', '_convert_xy_units', '_dash_pattern', '_default_contains', '_draw_paths_with_artist_properties', '_edge_default', '_edgecolor', '_facecolor', '_fill', '_fully_clipped_to_axes', '_gid', '_hatch', '_hatch_color', '_height', '_in_layout', '_internal_update', '_joinstyle', '_label', '_linestyle', '_linewidth', '_mouseover', '_original_edgecolor', '_original_facecolor', '_path_effects', '_picker', '_process_radius', '_rasterized', '_remove_method', '_rotation_point', '_set_alpha_for_array', '_set_edgecolor', '_set_facecolor', '_set_gc_clip', '_sketch', '_snap', '_stale', '_sticky_edges', '_transform', '_transformSet', '_unscaled_dash_pattern', '_update_props', '_update_set_signature_and_docstring', '_url', '_visible', '_width', '_x0', '_y0', 'add_callback', 'angle', 'axes', 'clipbox', 'contains', 'contains_point', 'contains_points', 'convert_xunits', 'convert_yunits', 'draw', 'figure', 'fill', 'findobj', 'format_cursor_data', 'get_aa', 'get_agg_filter', 'get_alpha', 'get_angle', 'get_animated', 'get_antialiased', 'get_bbox', 'get_capstyle', 'get_center', 'get_children', 'get_clip_box', 'get_clip_on', 'get_clip_path', 'get_corners', 'get_cursor_data', 'get_data_transform', 'get_ec', 'get_edgecolor', 'get_extents', 'get_facecolor', 'get_fc', 'get_figure', 'get_fill', 'get_gid', 'get_hatch', 'get_height', 'get_in_layout', 'get_joinstyle', 'get_label', 'get_linestyle', 'get_linewidth', 'get_ls', 'get_lw', 'get_mouseover', 'get_patch_transform', 'get_path', 'get_path_effects', 'get_picker', 'get_rasterized', 'get_sketch_params', 'get_snap', 'get_tightbbox', 'get_transform', 'get_transformed_clip_path_and_affine', 'get_url', 'get_verts', 'get_visible', 'get_width', 'get_window_extent', 'get_x', 'get_xy', 'get_y', 'get_zorder', 'have_units', 'is_transform_set', 'mouseover', 'pchanged', 'pick', 'pickable', 'properties', 'remove', 'remove_callback', 'rotation_point', 'set', 'set_aa', 'set_agg_filter', 'set_alpha', 'set_angle', 'set_animated', 'set_antialiased', 'set_bounds', 'set_capstyle', 'set_clip_box', 'set_clip_on', 'set_clip_path', 'set_color', 'set_ec', 'set_edgecolor', 'set_facecolor', 'set_fc', 'set_figure', 'set_fill', 'set_gid', 'set_hatch', 'set_height', 'set_in_layout', 'set_joinstyle', 'set_label', 'set_linestyle', 'set_linewidth', 'set_ls', 'set_lw', 'set_mouseover', 'set_path_effects', 'set_picker', 'set_rasterized', 'set_sketch_params', 'set_snap', 'set_transform', 'set_url', 'set_visible', 'set_width', 'set_x', 'set_xy', 'set_y', 'set_zorder', 'stale', 'stale_callback', 'sticky_edges', 'update', 'update_from', 'xy', 'zorder']"
      ]
     },
     "metadata": {},
     "output_type": "display_data"
    }
   ],
   "source": [
    "\n",
    "for patch in hist_obj.patches:\n",
    "    display(dir(patch))\n",
    "    break"
   ]
  },
  {
   "cell_type": "code",
   "execution_count": 24,
   "id": "498a0e28-f0ad-4218-8e78-dc3d2ed4eab8",
   "metadata": {},
   "outputs": [
    {
     "name": "stdout",
     "output_type": "stream",
     "text": [
      "The most popular sequence length among the values of the time_groups_dict is 1, occurring 58 times.\n"
     ]
    }
   ],
   "source": [
    "\n",
    "from collections import Counter\n",
    "\n",
    "# Count the lengths of sequences in consecutive_time_groups_dict\n",
    "sequence_lengths = [len(actions_list) for actions_list in time_groups_dict.values()]\n",
    "\n",
    "# Find the most common sequence length and its count\n",
    "most_common_length, count = Counter(sequence_lengths).most_common(1)[0]\n",
    "\n",
    "print(f'The most popular sequence length among the values of the time_groups_dict is {most_common_length}, occurring {count} times.')"
   ]
  },
  {
   "cell_type": "code",
   "execution_count": 25,
   "id": "bb46fd7b-7a05-470b-8196-f571042cdd75",
   "metadata": {},
   "outputs": [
    {
     "name": "stdout",
     "output_type": "stream",
     "text": [
      "Value counts of unique sequence lengths:\n",
      "3     187\n",
      "5     125\n",
      "1      82\n",
      "4      74\n",
      "7      64\n",
      "6      51\n",
      "2      45\n",
      "9      29\n",
      "10     21\n",
      "8      15\n",
      "11     10\n",
      "12      8\n",
      "13      7\n",
      "14      4\n",
      "16      2\n",
      "15      1\n",
      "Name: count, dtype: int64\n"
     ]
    }
   ],
   "source": [
    "\n",
    "import pandas as pd\n",
    "from collections import Counter\n",
    "\n",
    "# Count the lengths of sequences in consecutive_time_groups_dict\n",
    "sequence_lengths = [len(actions_list) for actions_list in consecutive_time_groups_dict.values()]\n",
    "\n",
    "# Convert sequence_lengths list into a pandas Series\n",
    "sequence_lengths_series = pd.Series(sequence_lengths)\n",
    "\n",
    "# Get the value counts of unique sequence lengths\n",
    "value_counts = sequence_lengths_series.value_counts()\n",
    "\n",
    "print('Value counts of unique sequence lengths of the consecutive_time_groups_dict:')\n",
    "print(value_counts)"
   ]
  },
  {
   "cell_type": "code",
   "execution_count": 10,
   "id": "e45050a7-22de-4ab8-8d65-fd0cb0735b9c",
   "metadata": {},
   "outputs": [
    {
     "name": "stdout",
     "output_type": "stream",
     "text": [
      "\n",
      "notice_to_control_time_df = pd.DataFrame({'notice_to_control_time': [565204, 66933, 180636, 170767, 266339, 255253, 244320, 82204, 93897, 363529]})\n"
     ]
    }
   ],
   "source": [
    "\n",
    "import random\n",
    "\n",
    "values_list = random.sample(notice_to_control_time_df.notice_to_control_time.tolist(), 10)\n",
    "print(f'''\n",
    "notice_to_control_time_df = pd.DataFrame({{'notice_to_control_time': {values_list}}})''')"
   ]
  },
  {
   "cell_type": "code",
   "execution_count": null,
   "id": "bb59a213-2ae2-4ec9-a530-79eb2163a3dd",
   "metadata": {},
   "outputs": [],
   "source": [
    "\n",
    ".sort_values(list(columns_dict.values()), ascending=[False]*len(columns_dict.values()))"
   ]
  },
  {
   "cell_type": "code",
   "execution_count": null,
   "id": "7e863197-0d85-4d47-81d6-84e320f66d5f",
   "metadata": {},
   "outputs": [],
   "source": [
    "\n",
    "            # print(previous_time, elapsed_time, session_uuid, time_group, patient_id, previous_time > elapsed_time)\n",
    "            if (previous_time > elapsed_time):\n",
    "                display(df1[mask_series].sort_values('elapsed_time').head(4).dropna(axis='columns', how='all').T)\n",
    "                display(df2.sample(min(4, df2.shape[0])).dropna(axis='columns', how='all').T)\n",
    "                raise"
   ]
  },
  {
   "cell_type": "code",
   "execution_count": null,
   "id": "8bc13133-1baa-42da-aa0f-b57e6d93206e",
   "metadata": {},
   "outputs": [],
   "source": [
    "\n",
    "    print(f\"\"\"\n",
    "    groupby_columns = {df.columns.tolist()}\n",
    "    gb = df.groupby(groupby_columns)\n",
    "    rows_list = []\n",
    "    for ({', '.join(df.columns)}), df1 in gb:\"\"\")"
   ]
  },
  {
   "cell_type": "code",
   "execution_count": null,
   "id": "0bb9ef09-ff88-42dc-a16e-52fcd693b82d",
   "metadata": {},
   "outputs": [],
   "source": [
    "\n",
    "    \n",
    "    # Investigate the presence of trunk, neck, junctional or extremity info\n",
    "    for search_str in ['trunk', 'neck', 'junctional', 'extremity']:\n",
    "        srs = df2.applymap(lambda x: search_str in str(x).lower(), na_action='ignore').sum()\n",
    "        columns_list = srs[srs != 0].index.tolist()\n",
    "        if columns_list:\n",
    "            print(search_str, columns_list)"
   ]
  },
  {
   "cell_type": "code",
   "execution_count": null,
   "id": "56a2eab7-f393-4e55-8951-eca525cc8496",
   "metadata": {},
   "outputs": [],
   "source": [
    "\n",
    "required_columns_list = [cn for cn in frvrs_logs_df.columns if cn.endswith('_required_procedure')]\n",
    "mask_series = False\n",
    "for cn in required_columns_list: mask_series |= (frvrs_logs_df[cn].isin(['tourniquet', 'woundpack']))"
   ]
  },
  {
   "cell_type": "code",
   "execution_count": null,
   "id": "40fef0c1-be3b-49f3-a615-423a43fbcf66",
   "metadata": {},
   "outputs": [],
   "source": [
    "\n",
    "fn = lambda x: ('gaze' in str(x).lower())\n",
    "srs = frvrs_logs_df.applymap(fn, na_action='ignore').sum()\n",
    "columns_list = srs[srs != 0].index.tolist()\n",
    "print(columns_list)\n",
    "for cn in columns_list:\n",
    "    print(cn)\n",
    "    mask_series = frvrs_logs_df[cn].map(fn)\n",
    "    df = frvrs_logs_df[mask_series]\n",
    "    \n",
    "    # Display a sample of the data frame, dropping columns with all NaN values and transposing it\n",
    "    display(df.sample(min(4, df.shape[0])).dropna(axis='columns', how='all').T)"
   ]
  },
  {
   "cell_type": "code",
   "execution_count": null,
   "id": "13ef69da-20a3-4809-b3fd-397014b12103",
   "metadata": {},
   "outputs": [],
   "source": [
    "\n",
    "\n",
    "# tick_locations = ax.get_xticks()\n",
    "# print(tick_locations)\n",
    "\n",
    "# tick_labels = ax.get_xticklabels()\n",
    "# print(tick_labels)"
   ]
  },
  {
   "cell_type": "raw",
   "id": "09f3e59a-9148-4db2-b5bc-8735ca57dad1",
   "metadata": {},
   "source": [
    "\n",
    "# Look at the new actions\n",
    "df = DataFrame(gaze_rows_list)\n",
    "mask_series = (df.action_type == 'PLAYER_GAZE')\n",
    "df[mask_series].sample(min(4, df[mask_series].shape[0])).dropna(axis='columns', how='all').T"
   ]
  },
  {
   "cell_type": "raw",
   "id": "1292301d-f40a-475a-a1e1-b08213dfb4b3",
   "metadata": {},
   "source": [
    "\n",
    "# Write a note to get the schema\n",
    "old_actions_list = [\n",
    "    'SESSION_END', 'SESSION_START', 'BAG_ACCESS', 'BAG_CLOSED', 'INJURY_RECORD', 'INJURY_TREATED', 'PATIENT_DEMOTED',\n",
    "    'PATIENT_ENGAGED', 'PATIENT_RECORD', 'PULSE_TAKEN', 'S_A_L_T_WALKED', 'S_A_L_T_WALK_IF_CAN', 'S_A_L_T_WAVED',\n",
    "    'S_A_L_T_WAVE_IF_CAN', 'TAG_APPLIED', 'TAG_DISCARDED', 'TAG_SELECTED', 'TELEPORT', 'TOOL_APPLIED', 'TOOL_DISCARDED',\n",
    "    'TOOL_HOVER', 'TOOL_SELECTED', 'VOICE_CAPTURE', 'VOICE_COMMAND'\n",
    "]\n",
    "missing_actions_list = list(set(frvrs_logs_df.action_type.unique()) - set(old_actions_list))\n",
    "print(missing_actions_list)\n",
    "print(f'@Jeremy Patterson, do you have an updated MCIVR Metrics Types document? I need {nu.conjunctify_nouns(missing_actions_list)}.')\n",
    "for action in missing_actions_list:\n",
    "    print(f'''        elif (action_type == '{action}'): # {''.join([x.title() for x in action.split('_')])}\n",
    "            frvrs_logs_df.loc[row_index, '{action.lower()}_location'] = row_series[4] # Location\n",
    "            frvrs_logs_df.loc[row_index, '{action.lower()}_patient_id'] = row_series[5] # patientId\n",
    "            frvrs_logs_df.loc[row_index, '{action.lower()}_distance'] = row_series[7] # distance\n",
    "            frvrs_logs_df.loc[row_index, '{action.lower()}_rotation'] = row_series[8] # rotation''')"
   ]
  },
  {
   "cell_type": "raw",
   "id": "6959e659-5f6f-420d-a95e-192719c0ec12",
   "metadata": {},
   "source": [
    "\n",
    "text_editor_path = r'C:\\Program Files\\Notepad++\\notepad++.exe'\n",
    "!\"{text_editor_path}\" \"{os.path.abspath(file_path)}\""
   ]
  }
 ],
 "metadata": {
  "kernelspec": {
   "display_name": "Notebooks (Python 3.9.16)",
   "language": "python",
   "name": "nb_env"
  },
  "language_info": {
   "codemirror_mode": {
    "name": "ipython",
    "version": 3
   },
   "file_extension": ".py",
   "mimetype": "text/x-python",
   "name": "python",
   "nbconvert_exporter": "python",
   "pygments_lexer": "ipython3",
   "version": "3.9.16"
  }
 },
 "nbformat": 4,
 "nbformat_minor": 5
}

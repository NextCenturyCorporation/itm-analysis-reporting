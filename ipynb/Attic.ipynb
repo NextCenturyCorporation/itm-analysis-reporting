{
 "cells": [
  {
   "cell_type": "code",
   "execution_count": null,
   "id": "b4977cf9-7d70-40b0-b42c-b4479fae4d1c",
   "metadata": {},
   "outputs": [],
   "source": []
  },
  {
   "cell_type": "code",
   "execution_count": null,
   "id": "13ef69da-20a3-4809-b3fd-397014b12103",
   "metadata": {},
   "outputs": [],
   "source": [
    "\n",
    "\n",
    "# tick_locations = ax.get_xticks()\n",
    "# print(tick_locations)\n",
    "\n",
    "# tick_labels = ax.get_xticklabels()\n",
    "# print(tick_labels)"
   ]
  },
  {
   "cell_type": "raw",
   "id": "09f3e59a-9148-4db2-b5bc-8735ca57dad1",
   "metadata": {},
   "source": [
    "\n",
    "# Look at the new actions\n",
    "df = DataFrame(gaze_rows_list)\n",
    "mask_series = (df.action_type == 'PLAYER_GAZE')\n",
    "df[mask_series].sample(min(4, df[mask_series].shape[0])).dropna(axis='columns', how='all').T"
   ]
  },
  {
   "cell_type": "raw",
   "id": "1292301d-f40a-475a-a1e1-b08213dfb4b3",
   "metadata": {},
   "source": [
    "\n",
    "# Write a note to get the schema\n",
    "old_actions_list = [\n",
    "    'SESSION_END', 'SESSION_START', 'BAG_ACCESS', 'BAG_CLOSED', 'INJURY_RECORD', 'INJURY_TREATED', 'PATIENT_DEMOTED',\n",
    "    'PATIENT_ENGAGED', 'PATIENT_RECORD', 'PULSE_TAKEN', 'S_A_L_T_WALKED', 'S_A_L_T_WALK_IF_CAN', 'S_A_L_T_WAVED',\n",
    "    'S_A_L_T_WAVE_IF_CAN', 'TAG_APPLIED', 'TAG_DISCARDED', 'TAG_SELECTED', 'TELEPORT', 'TOOL_APPLIED', 'TOOL_DISCARDED',\n",
    "    'TOOL_HOVER', 'TOOL_SELECTED', 'VOICE_CAPTURE', 'VOICE_COMMAND'\n",
    "]\n",
    "missing_actions_list = list(set(frvrs_logs_df.action_type.unique()) - set(old_actions_list))\n",
    "print(missing_actions_list)\n",
    "print(f'@Jeremy Patterson, do you have an updated MCIVR Metrics Types document? I need {nu.conjunctify_nouns(missing_actions_list)}.')\n",
    "for action in missing_actions_list:\n",
    "    print(f'''        elif (action_type == '{action}'): # {''.join([x.title() for x in action.split('_')])}\n",
    "            frvrs_logs_df.loc[row_index, '{action.lower()}_location'] = row_series[4] # Location\n",
    "            frvrs_logs_df.loc[row_index, '{action.lower()}_patient_id'] = row_series[5] # patientId\n",
    "            frvrs_logs_df.loc[row_index, '{action.lower()}_distance'] = row_series[7] # distance\n",
    "            frvrs_logs_df.loc[row_index, '{action.lower()}_rotation'] = row_series[8] # rotation''')"
   ]
  },
  {
   "cell_type": "raw",
   "id": "6959e659-5f6f-420d-a95e-192719c0ec12",
   "metadata": {},
   "source": [
    "\n",
    "text_editor_path = r'C:\\Program Files\\Notepad++\\notepad++.exe'\n",
    "!\"{text_editor_path}\" \"{os.path.abspath(file_path)}\""
   ]
  }
 ],
 "metadata": {
  "kernelspec": {
   "display_name": "Notebooks (Python 3.9.16)",
   "language": "python",
   "name": "nb_env"
  },
  "language_info": {
   "codemirror_mode": {
    "name": "ipython",
    "version": 3
   },
   "file_extension": ".py",
   "mimetype": "text/x-python",
   "name": "python",
   "nbconvert_exporter": "python",
   "pygments_lexer": "ipython3",
   "version": "3.9.16"
  }
 },
 "nbformat": 4,
 "nbformat_minor": 5
}

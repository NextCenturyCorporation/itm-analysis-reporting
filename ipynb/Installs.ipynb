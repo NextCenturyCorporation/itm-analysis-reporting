{
 "cells": [
  {
   "cell_type": "code",
   "execution_count": 1,
   "metadata": {
    "editable": true,
    "slideshow": {
     "slide_type": ""
    },
    "tags": []
   },
   "outputs": [
    {
     "name": "stdout",
     "output_type": "stream",
     "text": [
      "/home/dbabbitt/anaconda3/envs/itm_analysis_reporting/bin/python -m pip install dtreeviz --upgrade\n",
      "Collecting dtreeviz\n",
      "  Downloading dtreeviz-2.2.2-py3-none-any.whl.metadata (2.4 kB)\n",
      "Collecting graphviz>=0.9 (from dtreeviz)\n",
      "  Downloading graphviz-0.20.1-py3-none-any.whl (47 kB)\n",
      "\u001b[2K     \u001b[90m━━━━━━━━━━━━━━━━━━━━━━━━━━━━━━━━━━━━━━━\u001b[0m \u001b[32m47.0/47.0 kB\u001b[0m \u001b[31m978.2 kB/s\u001b[0m eta \u001b[36m0:00:00\u001b[0m \u001b[36m0:00:01\u001b[0m\n",
      "\u001b[?25hRequirement already satisfied: pandas in /home/dbabbitt/anaconda3/envs/itm_analysis_reporting/lib/python3.7/site-packages (from dtreeviz) (1.3.5)\n",
      "Requirement already satisfied: numpy in /home/dbabbitt/anaconda3/envs/itm_analysis_reporting/lib/python3.7/site-packages (from dtreeviz) (1.21.6)\n",
      "Requirement already satisfied: scikit-learn in /home/dbabbitt/anaconda3/envs/itm_analysis_reporting/lib/python3.7/site-packages (from dtreeviz) (1.0.2)\n",
      "Requirement already satisfied: matplotlib in /home/dbabbitt/anaconda3/envs/itm_analysis_reporting/lib/python3.7/site-packages (from dtreeviz) (3.5.3)\n",
      "Collecting colour (from dtreeviz)\n",
      "  Downloading colour-0.1.5-py2.py3-none-any.whl (23 kB)\n",
      "Collecting pytest (from dtreeviz)\n",
      "  Downloading pytest-7.4.4-py3-none-any.whl.metadata (7.9 kB)\n",
      "Requirement already satisfied: cycler>=0.10 in /home/dbabbitt/anaconda3/envs/itm_analysis_reporting/lib/python3.7/site-packages (from matplotlib->dtreeviz) (0.11.0)\n",
      "Requirement already satisfied: fonttools>=4.22.0 in /home/dbabbitt/anaconda3/envs/itm_analysis_reporting/lib/python3.7/site-packages (from matplotlib->dtreeviz) (4.38.0)\n",
      "Requirement already satisfied: kiwisolver>=1.0.1 in /home/dbabbitt/anaconda3/envs/itm_analysis_reporting/lib/python3.7/site-packages (from matplotlib->dtreeviz) (1.4.4)\n",
      "Requirement already satisfied: packaging>=20.0 in /home/dbabbitt/anaconda3/envs/itm_analysis_reporting/lib/python3.7/site-packages (from matplotlib->dtreeviz) (23.2)\n",
      "Requirement already satisfied: pillow>=6.2.0 in /home/dbabbitt/anaconda3/envs/itm_analysis_reporting/lib/python3.7/site-packages (from matplotlib->dtreeviz) (9.2.0)\n",
      "Requirement already satisfied: pyparsing>=2.2.1 in /home/dbabbitt/anaconda3/envs/itm_analysis_reporting/lib/python3.7/site-packages (from matplotlib->dtreeviz) (3.1.1)\n",
      "Requirement already satisfied: python-dateutil>=2.7 in /home/dbabbitt/anaconda3/envs/itm_analysis_reporting/lib/python3.7/site-packages (from matplotlib->dtreeviz) (2.8.2)\n",
      "Requirement already satisfied: pytz>=2017.3 in /home/dbabbitt/anaconda3/envs/itm_analysis_reporting/lib/python3.7/site-packages (from pandas->dtreeviz) (2023.3.post1)\n",
      "Collecting iniconfig (from pytest->dtreeviz)\n",
      "  Using cached iniconfig-2.0.0-py3-none-any.whl (5.9 kB)\n",
      "Collecting pluggy<2.0,>=0.12 (from pytest->dtreeviz)\n",
      "  Using cached pluggy-1.2.0-py3-none-any.whl.metadata (4.4 kB)\n",
      "Requirement already satisfied: exceptiongroup>=1.0.0rc8 in /home/dbabbitt/anaconda3/envs/itm_analysis_reporting/lib/python3.7/site-packages (from pytest->dtreeviz) (1.2.0)\n",
      "Requirement already satisfied: tomli>=1.0.0 in /home/dbabbitt/anaconda3/envs/itm_analysis_reporting/lib/python3.7/site-packages (from pytest->dtreeviz) (2.0.1)\n",
      "Requirement already satisfied: importlib-metadata>=0.12 in /home/dbabbitt/anaconda3/envs/itm_analysis_reporting/lib/python3.7/site-packages (from pytest->dtreeviz) (4.11.4)\n",
      "Requirement already satisfied: scipy>=1.1.0 in /home/dbabbitt/anaconda3/envs/itm_analysis_reporting/lib/python3.7/site-packages (from scikit-learn->dtreeviz) (1.7.3)\n",
      "Requirement already satisfied: joblib>=0.11 in /home/dbabbitt/anaconda3/envs/itm_analysis_reporting/lib/python3.7/site-packages (from scikit-learn->dtreeviz) (1.3.2)\n",
      "Requirement already satisfied: threadpoolctl>=2.0.0 in /home/dbabbitt/anaconda3/envs/itm_analysis_reporting/lib/python3.7/site-packages (from scikit-learn->dtreeviz) (3.1.0)\n",
      "Requirement already satisfied: zipp>=0.5 in /home/dbabbitt/anaconda3/envs/itm_analysis_reporting/lib/python3.7/site-packages (from importlib-metadata>=0.12->pytest->dtreeviz) (3.15.0)\n",
      "Requirement already satisfied: typing-extensions>=3.6.4 in /home/dbabbitt/anaconda3/envs/itm_analysis_reporting/lib/python3.7/site-packages (from importlib-metadata>=0.12->pytest->dtreeviz) (4.4.0)\n",
      "Requirement already satisfied: six>=1.5 in /home/dbabbitt/anaconda3/envs/itm_analysis_reporting/lib/python3.7/site-packages (from python-dateutil>=2.7->matplotlib->dtreeviz) (1.16.0)\n",
      "Downloading dtreeviz-2.2.2-py3-none-any.whl (91 kB)\n",
      "\u001b[2K   \u001b[90m━━━━━━━━━━━━━━━━━━━━━━━━━━━━━━━━━━━━━━━━\u001b[0m \u001b[32m91.8/91.8 kB\u001b[0m \u001b[31m1.5 MB/s\u001b[0m eta \u001b[36m0:00:00\u001b[0ma \u001b[36m0:00:01\u001b[0m\n",
      "\u001b[?25hDownloading pytest-7.4.4-py3-none-any.whl (325 kB)\n",
      "\u001b[2K   \u001b[90m━━━━━━━━━━━━━━━━━━━━━━━━━━━━━━━━━━━━━━━━\u001b[0m \u001b[32m325.3/325.3 kB\u001b[0m \u001b[31m5.3 MB/s\u001b[0m eta \u001b[36m0:00:00\u001b[0ma \u001b[36m0:00:01\u001b[0m\n",
      "\u001b[?25hUsing cached pluggy-1.2.0-py3-none-any.whl (17 kB)\n",
      "Installing collected packages: colour, iniconfig, graphviz, pluggy, pytest, dtreeviz\n",
      "Successfully installed colour-0.1.5 dtreeviz-2.2.2 graphviz-0.20.1 iniconfig-2.0.0 pluggy-1.2.0 pytest-7.4.4\n"
     ]
    },
    {
     "data": {
      "text/plain": [
       "\u001b[0;31mType:\u001b[0m        module\n",
       "\u001b[0;31mString form:\u001b[0m <module 'statsmodels.api' from '/home/dbabbitt/anaconda3/envs/itm_analysis_reporting/lib/python3.7/site-packages/statsmodels/api.py'>\n",
       "\u001b[0;31mFile:\u001b[0m        ~/anaconda3/envs/itm_analysis_reporting/lib/python3.7/site-packages/statsmodels/api.py\n",
       "\u001b[0;31mDocstring:\u001b[0m   <no docstring>\n"
      ]
     },
     "metadata": {},
     "output_type": "display_data"
    }
   ],
   "source": [
    "\n",
    "import os.path as osp\n",
    "import sys\n",
    "\n",
    "anaconda_path = osp.dirname(sys.executable)\n",
    "scripts_path = osp.join(anaconda_path, 'Scripts')\n",
    "command_str = f'{sys.executable} -m pip install dtreeviz --upgrade'\n",
    "print(command_str)\n",
    "!{command_str}\n",
    "import statsmodels.api as sm\n",
    "sm?"
   ]
  },
  {
   "cell_type": "code",
   "execution_count": 3,
   "metadata": {},
   "outputs": [
    {
     "name": "stdout",
     "output_type": "stream",
     "text": [
      "1.7.3\n"
     ]
    },
    {
     "data": {
      "text/plain": [
       "'/home/dbabbitt/anaconda3/envs/itm_analysis_reporting/lib/python3.7/site-packages/scipy/__init__.py'"
      ]
     },
     "metadata": {},
     "output_type": "display_data"
    }
   ],
   "source": [
    "\n",
    "import scipy\n",
    "\n",
    "print(scipy.__version__)\n",
    "display(scipy.__file__)"
   ]
  },
  {
   "cell_type": "code",
   "execution_count": 8,
   "metadata": {},
   "outputs": [
    {
     "name": "stdout",
     "output_type": "stream",
     "text": [
      "C:\\Users\\DaveBabbitt\\anaconda3\\envs\\itm_analysis_reporting\\Lib\\distutils\n"
     ]
    }
   ],
   "source": [
    "\n",
    "file_path = f'{anaconda_path}\\\\Lib\\\\distutils'\n",
    "print(file_path)\n",
    "!start %windir%\\explorer.exe {file_path}"
   ]
  },
  {
   "cell_type": "code",
   "execution_count": 8,
   "metadata": {},
   "outputs": [
    {
     "data": {
      "text/plain": [
       "'C:\\\\Users\\\\DaveBabbitt\\\\anaconda3\\\\envs\\\\llama_index\\\\Scripts'"
      ]
     },
     "execution_count": 8,
     "metadata": {},
     "output_type": "execute_result"
    }
   ],
   "source": [
    "\n",
    "scripts_path"
   ]
  },
  {
   "cell_type": "code",
   "execution_count": null,
   "metadata": {},
   "outputs": [],
   "source": []
  }
 ],
 "metadata": {
  "kernelspec": {
   "display_name": "ITM Analysis Reporting (Python 3.11.5)",
   "language": "python",
   "name": "itm_analysis_reporting"
  },
  "language_info": {
   "codemirror_mode": {
    "name": "ipython",
    "version": 3
   },
   "file_extension": ".py",
   "mimetype": "text/x-python",
   "name": "python",
   "nbconvert_exporter": "python",
   "pygments_lexer": "ipython3",
   "version": "3.7.12"
  }
 },
 "nbformat": 4,
 "nbformat_minor": 4
}

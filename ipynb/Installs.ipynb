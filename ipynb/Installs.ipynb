{
 "cells": [
  {
   "cell_type": "code",
   "execution_count": 1,
   "metadata": {
    "editable": true,
    "slideshow": {
     "slide_type": ""
    },
    "tags": []
   },
   "outputs": [
    {
     "name": "stdout",
     "output_type": "stream",
     "text": [
      "/home/dbabbitt/anaconda3/envs/itm_analysis_reporting/bin/python -m pip install wordcloud --upgrade\n"
     ]
    }
   ],
   "source": [
    "\n",
    "import os.path as osp\n",
    "import sys\n",
    "\n",
    "anaconda_path = osp.dirname(sys.executable)\n",
    "scripts_path = osp.join(anaconda_path, 'Scripts')\n",
    "command_str = f'{sys.executable} -m pip install wordcloud --upgrade'\n",
    "print(command_str)\n",
    "# !{command_str}\n",
    "# from wordcloud import WordCloud\n",
    "# WordCloud?"
   ]
  },
  {
   "cell_type": "code",
   "execution_count": 4,
   "metadata": {
    "editable": true,
    "slideshow": {
     "slide_type": ""
    },
    "tags": []
   },
   "outputs": [
    {
     "name": "stdout",
     "output_type": "stream",
     "text": [
      "/home/dbabbitt/anaconda3/envs/itm_analysis_reporting/bin/python -m unittest /mnt/c/Users/DaveBabbitt/Documents/GitHub/itm-analysis-reporting/tests/test_color_functions.py\n",
      "E\n",
      "======================================================================\n",
      "ERROR: /mnt/c/Users/DaveBabbitt/Documents/GitHub/itm-analysis-reporting/tests/test_color_functions (unittest.loader._FailedTest)\n",
      "----------------------------------------------------------------------\n",
      "ImportError: Failed to import test module: /mnt/c/Users/DaveBabbitt/Documents/GitHub/itm-analysis-reporting/tests/test_color_functions\n",
      "Traceback (most recent call last):\n",
      "  File \"/home/dbabbitt/anaconda3/envs/itm_analysis_reporting/lib/python3.7/unittest/loader.py\", line 154, in loadTestsFromName\n",
      "    module = __import__(module_name)\n",
      "ModuleNotFoundError: No module named '/mnt/c/Users/DaveBabbitt/Documents/GitHub/itm-analysis-reporting/tests/test_color_functions'\n",
      "\n",
      "\n",
      "----------------------------------------------------------------------\n",
      "Ran 1 test in 0.000s\n",
      "\n",
      "FAILED (errors=1)\n"
     ]
    }
   ],
   "source": [
    "\n",
    "file_path = osp.abspath('../tests/test_color_functions.py')\n",
    "command_str = f'{sys.executable} -m unittest {file_path}'\n",
    "# python -m unittest /mnt/c/Users/DaveBabbitt/Documents/GitHub/itm-analysis-reporting/tests/test_color_distance_from.py\n",
    "print(command_str)\n",
    "!{command_str}"
   ]
  },
  {
   "cell_type": "code",
   "execution_count": 3,
   "metadata": {},
   "outputs": [
    {
     "name": "stdout",
     "output_type": "stream",
     "text": [
      "1.7.3\n"
     ]
    },
    {
     "data": {
      "text/plain": [
       "'/home/dbabbitt/anaconda3/envs/itm_analysis_reporting/lib/python3.7/site-packages/scipy/__init__.py'"
      ]
     },
     "metadata": {},
     "output_type": "display_data"
    }
   ],
   "source": [
    "\n",
    "import scipy\n",
    "\n",
    "print(scipy.__version__)\n",
    "display(scipy.__file__)"
   ]
  },
  {
   "cell_type": "code",
   "execution_count": 3,
   "metadata": {},
   "outputs": [
    {
     "name": "stdout",
     "output_type": "stream",
     "text": [
      "from unittest.mock import MagicMock, Mock, NonCallableMagicMock, NonCallableMock, PropertyMock, mock_open, patch\n"
     ]
    }
   ],
   "source": [
    "\n",
    "from unittest import mock\n",
    "\n",
    "print('from unittest.mock import ' + ', '.join([fn for fn in dir(mock) if (not fn.startswith('_')) and any(map(lambda x: x in fn.lower(), ['patch', 'mock']))]))"
   ]
  },
  {
   "cell_type": "code",
   "execution_count": 8,
   "metadata": {},
   "outputs": [
    {
     "data": {
      "text/plain": [
       "'C:\\\\Users\\\\DaveBabbitt\\\\anaconda3\\\\envs\\\\llama_index\\\\Scripts'"
      ]
     },
     "execution_count": 8,
     "metadata": {},
     "output_type": "execute_result"
    }
   ],
   "source": [
    "\n",
    "scripts_path"
   ]
  },
  {
   "cell_type": "code",
   "execution_count": null,
   "metadata": {},
   "outputs": [],
   "source": []
  }
 ],
 "metadata": {
  "kernelspec": {
   "display_name": "ITM Analysis Reporting (Python 3.11.5)",
   "language": "python",
   "name": "itm_analysis_reporting"
  },
  "language_info": {
   "codemirror_mode": {
    "name": "ipython",
    "version": 3
   },
   "file_extension": ".py",
   "mimetype": "text/x-python",
   "name": "python",
   "nbconvert_exporter": "python",
   "pygments_lexer": "ipython3",
   "version": "3.7.12"
  }
 },
 "nbformat": 4,
 "nbformat_minor": 4
}

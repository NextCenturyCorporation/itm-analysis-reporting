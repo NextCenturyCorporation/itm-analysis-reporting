{
 "cells": [
  {
   "cell_type": "code",
   "execution_count": 13,
   "metadata": {
    "editable": true,
    "slideshow": {
     "slide_type": ""
    },
    "tags": []
   },
   "outputs": [
    {
     "name": "stdout",
     "output_type": "stream",
     "text": [
      "/home/dbabbitt/anaconda3/envs/llama_index/bin/python -m pip install \"pycryptodome==3.19.0\" --upgrade\n",
      "Collecting pycryptodome==3.19.0\n",
      "  Using cached pycryptodome-3.19.0-cp35-abi3-manylinux_2_17_x86_64.manylinux2014_x86_64.whl.metadata (3.4 kB)\n",
      "Using cached pycryptodome-3.19.0-cp35-abi3-manylinux_2_17_x86_64.manylinux2014_x86_64.whl (2.1 MB)\n",
      "Installing collected packages: pycryptodome\n",
      "  Attempting uninstall: pycryptodome\n",
      "    Found existing installation: pycryptodome 3.15.0\n",
      "    Uninstalling pycryptodome-3.15.0:\n",
      "      Successfully uninstalled pycryptodome-3.15.0\n",
      "Successfully installed pycryptodome-3.19.0\n"
     ]
    },
    {
     "ename": "ModuleNotFoundError",
     "evalue": "No module named 'pycryptodome'",
     "output_type": "error",
     "traceback": [
      "\u001b[0;31m---------------------------------------------------------------------------\u001b[0m",
      "\u001b[0;31mModuleNotFoundError\u001b[0m                       Traceback (most recent call last)",
      "Cell \u001b[0;32mIn[13], line 12\u001b[0m\n\u001b[1;32m     10\u001b[0m \u001b[38;5;28mprint\u001b[39m(command_str)\n\u001b[1;32m     11\u001b[0m get_ipython()\u001b[38;5;241m.\u001b[39msystem(\u001b[38;5;124m'\u001b[39m\u001b[38;5;132;01m{command_str}\u001b[39;00m\u001b[38;5;124m'\u001b[39m)\n\u001b[0;32m---> 12\u001b[0m \u001b[38;5;28;01mimport\u001b[39;00m \u001b[38;5;21;01mpycryptodome\u001b[39;00m\n",
      "\u001b[0;31mModuleNotFoundError\u001b[0m: No module named 'pycryptodome'"
     ]
    }
   ],
   "source": [
    "\n",
    "import os, sys\n",
    "\n",
    "anaconda_path = os.path.dirname(sys.executable)\n",
    "scripts_path = os.path.join(anaconda_path, 'Scripts')\n",
    "# if scripts_path not in sys.path: sys.path.insert(1, scripts_path)\n",
    "# command_str = f'{sys.executable} -m pip uninstall PyPDF2 --yes'\n",
    "# print(command_str)\n",
    "# !{command_str}\n",
    "command_str = f'{sys.executable} -m pip install \"pycryptodome==3.19.0\" --upgrade'\n",
    "print(command_str)\n",
    "!{command_str}\n",
    "import pycryptodome"
   ]
  },
  {
   "cell_type": "code",
   "execution_count": 8,
   "metadata": {},
   "outputs": [
    {
     "name": "stdout",
     "output_type": "stream",
     "text": [
      "C:\\Users\\DaveBabbitt\\anaconda3\\envs\\itm_analysis_reporting\\Lib\\distutils\n"
     ]
    }
   ],
   "source": [
    "\n",
    "file_path = f'{anaconda_path}\\\\Lib\\\\distutils'\n",
    "print(file_path)\n",
    "!start %windir%\\explorer.exe {file_path}"
   ]
  },
  {
   "cell_type": "code",
   "execution_count": 8,
   "metadata": {},
   "outputs": [
    {
     "data": {
      "text/plain": [
       "'C:\\\\Users\\\\DaveBabbitt\\\\anaconda3\\\\envs\\\\llama_index\\\\Scripts'"
      ]
     },
     "execution_count": 8,
     "metadata": {},
     "output_type": "execute_result"
    }
   ],
   "source": [
    "\n",
    "scripts_path"
   ]
  },
  {
   "cell_type": "code",
   "execution_count": null,
   "metadata": {},
   "outputs": [],
   "source": []
  }
 ],
 "metadata": {
  "kernelspec": {
   "display_name": "LlamaIndex (Python 3.10.13)",
   "language": "python",
   "name": "llama_index"
  },
  "language_info": {
   "codemirror_mode": {
    "name": "ipython",
    "version": 3
   },
   "file_extension": ".py",
   "mimetype": "text/x-python",
   "name": "python",
   "nbconvert_exporter": "python",
   "pygments_lexer": "ipython3",
   "version": "3.11.5"
  }
 },
 "nbformat": 4,
 "nbformat_minor": 4
}

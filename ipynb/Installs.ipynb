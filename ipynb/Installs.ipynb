{
 "cells": [
  {
   "cell_type": "code",
   "execution_count": 3,
   "metadata": {
    "editable": true,
    "slideshow": {
     "slide_type": ""
    },
    "tags": []
   },
   "outputs": [
    {
     "name": "stdout",
     "output_type": "stream",
     "text": [
      "/home/dbabbitt/anaconda3/bin/python -m pip install humanize --upgrade\n",
      "Collecting humanize\n",
      "  Downloading humanize-4.9.0-py3-none-any.whl.metadata (7.9 kB)\n",
      "Downloading humanize-4.9.0-py3-none-any.whl (126 kB)\n",
      "\u001b[2K   \u001b[90m━━━━━━━━━━━━━━━━━━━━━━━━━━━━━━━━━━━━━━━━\u001b[0m \u001b[32m126.8/126.8 kB\u001b[0m \u001b[31m1.6 MB/s\u001b[0m eta \u001b[36m0:00:00\u001b[0ma \u001b[36m0:00:01\u001b[0m\n",
      "\u001b[?25hInstalling collected packages: humanize\n",
      "Successfully installed humanize-4.9.0\n"
     ]
    },
    {
     "data": {
      "text/plain": [
       "\u001b[0;31mSignature:\u001b[0m \u001b[0mstats\u001b[0m\u001b[0;34m.\u001b[0m\u001b[0mecdf\u001b[0m\u001b[0;34m(\u001b[0m\u001b[0msample\u001b[0m\u001b[0;34m:\u001b[0m \u001b[0;34m'npt.ArrayLike | CensoredData'\u001b[0m\u001b[0;34m)\u001b[0m \u001b[0;34m->\u001b[0m \u001b[0;34m'ECDFResult'\u001b[0m\u001b[0;34m\u001b[0m\u001b[0;34m\u001b[0m\u001b[0m\n",
       "\u001b[0;31mDocstring:\u001b[0m\n",
       "Empirical cumulative distribution function of a sample.\n",
       "\n",
       "The empirical cumulative distribution function (ECDF) is a step function\n",
       "estimate of the CDF of the distribution underlying a sample. This function\n",
       "returns objects representing both the empirical distribution function and\n",
       "its complement, the empirical survival function.\n",
       "\n",
       "Parameters\n",
       "----------\n",
       "sample : 1D array_like or `scipy.stats.CensoredData`\n",
       "    Besides array_like, instances of `scipy.stats.CensoredData` containing\n",
       "    uncensored and right-censored observations are supported. Currently,\n",
       "    other instances of `scipy.stats.CensoredData` will result in a\n",
       "    ``NotImplementedError``.\n",
       "\n",
       "Returns\n",
       "-------\n",
       "res : `~scipy.stats._result_classes.ECDFResult`\n",
       "    An object with the following attributes.\n",
       "\n",
       "    cdf : `~scipy.stats._result_classes.EmpiricalDistributionFunction`\n",
       "        An object representing the empirical cumulative distribution\n",
       "        function.\n",
       "    sf : `~scipy.stats._result_classes.EmpiricalDistributionFunction`\n",
       "        An object representing the empirical survival function.\n",
       "\n",
       "    The `cdf` and `sf` attributes themselves have the following attributes.\n",
       "\n",
       "    quantiles : ndarray\n",
       "        The unique values in the sample that defines the empirical CDF/SF.\n",
       "    probabilities : ndarray\n",
       "        The point estimates of the probabilities corresponding with\n",
       "        `quantiles`.\n",
       "\n",
       "    And the following methods:\n",
       "\n",
       "    evaluate(x) :\n",
       "        Evaluate the CDF/SF at the argument.\n",
       "\n",
       "    plot(ax) :\n",
       "        Plot the CDF/SF on the provided axes.\n",
       "\n",
       "    confidence_interval(confidence_level=0.95) :\n",
       "        Compute the confidence interval around the CDF/SF at the values in\n",
       "        `quantiles`.\n",
       "\n",
       "Notes\n",
       "-----\n",
       "When each observation of the sample is a precise measurement, the ECDF\n",
       "steps up by ``1/len(sample)`` at each of the observations [1]_.\n",
       "\n",
       "When observations are lower bounds, upper bounds, or both upper and lower\n",
       "bounds, the data is said to be \"censored\", and `sample` may be provided as\n",
       "an instance of `scipy.stats.CensoredData`.\n",
       "\n",
       "For right-censored data, the ECDF is given by the Kaplan-Meier estimator\n",
       "[2]_; other forms of censoring are not supported at this time.\n",
       "\n",
       "Confidence intervals are computed according to the Greenwood formula or the\n",
       "more recent \"Exponential Greenwood\" formula as described in [4]_.\n",
       "\n",
       "References\n",
       "----------\n",
       ".. [1] Conover, William Jay. Practical nonparametric statistics. Vol. 350.\n",
       "       John Wiley & Sons, 1999.\n",
       "\n",
       ".. [2] Kaplan, Edward L., and Paul Meier. \"Nonparametric estimation from\n",
       "       incomplete observations.\" Journal of the American statistical\n",
       "       association 53.282 (1958): 457-481.\n",
       "\n",
       ".. [3] Goel, Manish Kumar, Pardeep Khanna, and Jugal Kishore.\n",
       "       \"Understanding survival analysis: Kaplan-Meier estimate.\"\n",
       "       International journal of Ayurveda research 1.4 (2010): 274.\n",
       "\n",
       ".. [4] Sawyer, Stanley. \"The Greenwood and Exponential Greenwood Confidence\n",
       "       Intervals in Survival Analysis.\"\n",
       "       https://www.math.wustl.edu/~sawyer/handouts/greenwood.pdf\n",
       "\n",
       "Examples\n",
       "--------\n",
       "**Uncensored Data**\n",
       "\n",
       "As in the example from [1]_ page 79, five boys were selected at random from\n",
       "those in a single high school. Their one-mile run times were recorded as\n",
       "follows.\n",
       "\n",
       ">>> sample = [6.23, 5.58, 7.06, 6.42, 5.20]  # one-mile run times (minutes)\n",
       "\n",
       "The empirical distribution function, which approximates the distribution\n",
       "function of one-mile run times of the population from which the boys were\n",
       "sampled, is calculated as follows.\n",
       "\n",
       ">>> from scipy import stats\n",
       ">>> res = stats.ecdf(sample)\n",
       ">>> res.cdf.quantiles\n",
       "array([5.2 , 5.58, 6.23, 6.42, 7.06])\n",
       ">>> res.cdf.probabilities\n",
       "array([0.2, 0.4, 0.6, 0.8, 1. ])\n",
       "\n",
       "To plot the result as a step function:\n",
       "\n",
       ">>> import matplotlib.pyplot as plt\n",
       ">>> ax = plt.subplot()\n",
       ">>> res.cdf.plot(ax)\n",
       ">>> ax.set_xlabel('One-Mile Run Time (minutes)')\n",
       ">>> ax.set_ylabel('Empirical CDF')\n",
       ">>> plt.show()\n",
       "\n",
       "**Right-censored Data**\n",
       "\n",
       "As in the example from [1]_ page 91, the lives of ten car fanbelts were\n",
       "tested. Five tests concluded because the fanbelt being tested broke, but\n",
       "the remaining tests concluded for other reasons (e.g. the study ran out of\n",
       "funding, but the fanbelt was still functional). The mileage driven\n",
       "with the fanbelts were recorded as follows.\n",
       "\n",
       ">>> broken = [77, 47, 81, 56, 80]  # in thousands of miles driven\n",
       ">>> unbroken = [62, 60, 43, 71, 37]\n",
       "\n",
       "Precise survival times of the fanbelts that were still functional at the\n",
       "end of the tests are unknown, but they are known to exceed the values\n",
       "recorded in ``unbroken``. Therefore, these observations are said to be\n",
       "\"right-censored\", and the data is represented using\n",
       "`scipy.stats.CensoredData`.\n",
       "\n",
       ">>> sample = stats.CensoredData(uncensored=broken, right=unbroken)\n",
       "\n",
       "The empirical survival function is calculated as follows.\n",
       "\n",
       ">>> res = stats.ecdf(sample)\n",
       ">>> res.sf.quantiles\n",
       "array([37., 43., 47., 56., 60., 62., 71., 77., 80., 81.])\n",
       ">>> res.sf.probabilities\n",
       "array([1.   , 1.   , 0.875, 0.75 , 0.75 , 0.75 , 0.75 , 0.5  , 0.25 , 0.   ])\n",
       "\n",
       "To plot the result as a step function:\n",
       "\n",
       ">>> ax = plt.subplot()\n",
       ">>> res.cdf.plot(ax)\n",
       ">>> ax.set_xlabel('Fanbelt Survival Time (thousands of miles)')\n",
       ">>> ax.set_ylabel('Empirical SF')\n",
       ">>> plt.show()\n",
       "\u001b[0;31mFile:\u001b[0m      ~/anaconda3/lib/python3.11/site-packages/scipy/stats/_survival.py\n",
       "\u001b[0;31mType:\u001b[0m      function"
      ]
     },
     "metadata": {},
     "output_type": "display_data"
    }
   ],
   "source": [
    "\n",
    "import os, sys\n",
    "\n",
    "anaconda_path = os.path.dirname(sys.executable)\n",
    "scripts_path = os.path.join(anaconda_path, 'Scripts')\n",
    "# if scripts_path not in sys.path: sys.path.insert(1, scripts_path)\n",
    "# command_str = f'{sys.executable} -m pip uninstall PyPDF2 --yes'\n",
    "# print(command_str)\n",
    "# !{command_str}\n",
    "command_str = f'{sys.executable} -m pip install humanize --upgrade'\n",
    "print(command_str)\n",
    "!{command_str}\n",
    "from scipy import stats\n",
    "stats.ecdf?"
   ]
  },
  {
   "cell_type": "code",
   "execution_count": 3,
   "metadata": {},
   "outputs": [
    {
     "name": "stdout",
     "output_type": "stream",
     "text": [
      "1.7.3\n"
     ]
    },
    {
     "data": {
      "text/plain": [
       "'/home/dbabbitt/anaconda3/envs/itm_analysis_reporting/lib/python3.7/site-packages/scipy/__init__.py'"
      ]
     },
     "metadata": {},
     "output_type": "display_data"
    }
   ],
   "source": [
    "\n",
    "import scipy\n",
    "\n",
    "print(scipy.__version__)\n",
    "display(scipy.__file__)"
   ]
  },
  {
   "cell_type": "code",
   "execution_count": 8,
   "metadata": {},
   "outputs": [
    {
     "name": "stdout",
     "output_type": "stream",
     "text": [
      "C:\\Users\\DaveBabbitt\\anaconda3\\envs\\itm_analysis_reporting\\Lib\\distutils\n"
     ]
    }
   ],
   "source": [
    "\n",
    "file_path = f'{anaconda_path}\\\\Lib\\\\distutils'\n",
    "print(file_path)\n",
    "!start %windir%\\explorer.exe {file_path}"
   ]
  },
  {
   "cell_type": "code",
   "execution_count": 8,
   "metadata": {},
   "outputs": [
    {
     "data": {
      "text/plain": [
       "'C:\\\\Users\\\\DaveBabbitt\\\\anaconda3\\\\envs\\\\llama_index\\\\Scripts'"
      ]
     },
     "execution_count": 8,
     "metadata": {},
     "output_type": "execute_result"
    }
   ],
   "source": [
    "\n",
    "scripts_path"
   ]
  },
  {
   "cell_type": "code",
   "execution_count": null,
   "metadata": {},
   "outputs": [],
   "source": []
  }
 ],
 "metadata": {
  "kernelspec": {
   "display_name": "Python 3 (ipykernel)",
   "language": "python",
   "name": "python3"
  },
  "language_info": {
   "codemirror_mode": {
    "name": "ipython",
    "version": 3
   },
   "file_extension": ".py",
   "mimetype": "text/x-python",
   "name": "python",
   "nbconvert_exporter": "python",
   "pygments_lexer": "ipython3",
   "version": "3.11.5"
  }
 },
 "nbformat": 4,
 "nbformat_minor": 4
}

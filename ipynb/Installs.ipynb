{
 "cells": [
  {
   "cell_type": "code",
   "execution_count": 1,
   "metadata": {
    "editable": true,
    "slideshow": {
     "slide_type": ""
    },
    "tags": []
   },
   "outputs": [
    {
     "name": "stdout",
     "output_type": "stream",
     "text": [
      "/home/dbabbitt/anaconda3/envs/itm_analysis_reporting/bin/python -m pip install statsmodels --upgrade\n",
      "Collecting statsmodels\n",
      "  Downloading statsmodels-0.13.5-cp37-cp37m-manylinux_2_17_x86_64.manylinux2014_x86_64.whl (9.9 MB)\n",
      "\u001b[2K     \u001b[90m━━━━━━━━━━━━━━━━━━━━━━━━━━━━━━━━━━━━━━━━\u001b[0m \u001b[32m9.9/9.9 MB\u001b[0m \u001b[31m10.8 MB/s\u001b[0m eta \u001b[36m0:00:00\u001b[0m00:01\u001b[0m00:01\u001b[0m\n",
      "\u001b[?25hRequirement already satisfied: pandas>=0.25 in /home/dbabbitt/anaconda3/envs/itm_analysis_reporting/lib/python3.7/site-packages (from statsmodels) (1.3.5)\n",
      "Requirement already satisfied: patsy>=0.5.2 in /home/dbabbitt/anaconda3/envs/itm_analysis_reporting/lib/python3.7/site-packages (from statsmodels) (0.5.3)\n",
      "Requirement already satisfied: packaging>=21.3 in /home/dbabbitt/anaconda3/envs/itm_analysis_reporting/lib/python3.7/site-packages (from statsmodels) (23.2)\n",
      "Requirement already satisfied: scipy>=1.3 in /home/dbabbitt/anaconda3/envs/itm_analysis_reporting/lib/python3.7/site-packages (from statsmodels) (1.7.3)\n",
      "Requirement already satisfied: numpy>=1.17 in /home/dbabbitt/anaconda3/envs/itm_analysis_reporting/lib/python3.7/site-packages (from statsmodels) (1.21.6)\n",
      "Requirement already satisfied: python-dateutil>=2.7.3 in /home/dbabbitt/anaconda3/envs/itm_analysis_reporting/lib/python3.7/site-packages (from pandas>=0.25->statsmodels) (2.8.2)\n",
      "Requirement already satisfied: pytz>=2017.3 in /home/dbabbitt/anaconda3/envs/itm_analysis_reporting/lib/python3.7/site-packages (from pandas>=0.25->statsmodels) (2023.3.post1)\n",
      "Requirement already satisfied: six in /home/dbabbitt/anaconda3/envs/itm_analysis_reporting/lib/python3.7/site-packages (from patsy>=0.5.2->statsmodels) (1.16.0)\n",
      "Installing collected packages: statsmodels\n",
      "Successfully installed statsmodels-0.13.5\n"
     ]
    },
    {
     "data": {
      "text/plain": [
       "\u001b[0;31mType:\u001b[0m        module\n",
       "\u001b[0;31mString form:\u001b[0m <module 'statsmodels.api' from '/home/dbabbitt/anaconda3/envs/itm_analysis_reporting/lib/python3.7/site-packages/statsmodels/api.py'>\n",
       "\u001b[0;31mFile:\u001b[0m        ~/anaconda3/envs/itm_analysis_reporting/lib/python3.7/site-packages/statsmodels/api.py\n",
       "\u001b[0;31mDocstring:\u001b[0m   <no docstring>\n"
      ]
     },
     "metadata": {},
     "output_type": "display_data"
    }
   ],
   "source": [
    "\n",
    "import os.path as osp\n",
    "import sys\n",
    "\n",
    "anaconda_path = osp.dirname(sys.executable)\n",
    "scripts_path = osp.join(anaconda_path, 'Scripts')\n",
    "command_str = f'{sys.executable} -m pip install statsmodels --upgrade'\n",
    "print(command_str)\n",
    "!{command_str}\n",
    "import statsmodels.api as sm\n",
    "sm?"
   ]
  },
  {
   "cell_type": "code",
   "execution_count": 3,
   "metadata": {},
   "outputs": [
    {
     "name": "stdout",
     "output_type": "stream",
     "text": [
      "1.7.3\n"
     ]
    },
    {
     "data": {
      "text/plain": [
       "'/home/dbabbitt/anaconda3/envs/itm_analysis_reporting/lib/python3.7/site-packages/scipy/__init__.py'"
      ]
     },
     "metadata": {},
     "output_type": "display_data"
    }
   ],
   "source": [
    "\n",
    "import scipy\n",
    "\n",
    "print(scipy.__version__)\n",
    "display(scipy.__file__)"
   ]
  },
  {
   "cell_type": "code",
   "execution_count": 8,
   "metadata": {},
   "outputs": [
    {
     "name": "stdout",
     "output_type": "stream",
     "text": [
      "C:\\Users\\DaveBabbitt\\anaconda3\\envs\\itm_analysis_reporting\\Lib\\distutils\n"
     ]
    }
   ],
   "source": [
    "\n",
    "file_path = f'{anaconda_path}\\\\Lib\\\\distutils'\n",
    "print(file_path)\n",
    "!start %windir%\\explorer.exe {file_path}"
   ]
  },
  {
   "cell_type": "code",
   "execution_count": 8,
   "metadata": {},
   "outputs": [
    {
     "data": {
      "text/plain": [
       "'C:\\\\Users\\\\DaveBabbitt\\\\anaconda3\\\\envs\\\\llama_index\\\\Scripts'"
      ]
     },
     "execution_count": 8,
     "metadata": {},
     "output_type": "execute_result"
    }
   ],
   "source": [
    "\n",
    "scripts_path"
   ]
  },
  {
   "cell_type": "code",
   "execution_count": null,
   "metadata": {},
   "outputs": [],
   "source": []
  }
 ],
 "metadata": {
  "kernelspec": {
   "display_name": "ITM Analysis Reporting (Python 3.11.5)",
   "language": "python",
   "name": "itm_analysis_reporting"
  },
  "language_info": {
   "codemirror_mode": {
    "name": "ipython",
    "version": 3
   },
   "file_extension": ".py",
   "mimetype": "text/x-python",
   "name": "python",
   "nbconvert_exporter": "python",
   "pygments_lexer": "ipython3",
   "version": "3.7.12"
  }
 },
 "nbformat": 4,
 "nbformat_minor": 4
}

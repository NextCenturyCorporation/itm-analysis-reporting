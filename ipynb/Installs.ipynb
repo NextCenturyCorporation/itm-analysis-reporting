{
 "cells": [
  {
   "cell_type": "code",
   "execution_count": 1,
   "metadata": {
    "editable": true,
    "slideshow": {
     "slide_type": ""
    },
    "tags": []
   },
   "outputs": [
    {
     "name": "stdout",
     "output_type": "stream",
     "text": [
      "/home/dbabbitt/anaconda3/envs/itm_analysis_reporting/bin/python -m pip install mlxtend --upgrade\n",
      "Collecting mlxtend\n",
      "  Downloading mlxtend-0.23.0-py3-none-any.whl.metadata (7.3 kB)\n",
      "Requirement already satisfied: scipy>=1.2.1 in /home/dbabbitt/anaconda3/envs/itm_analysis_reporting/lib/python3.7/site-packages (from mlxtend) (1.7.3)\n",
      "Requirement already satisfied: numpy>=1.16.2 in /home/dbabbitt/anaconda3/envs/itm_analysis_reporting/lib/python3.7/site-packages (from mlxtend) (1.21.6)\n",
      "Requirement already satisfied: pandas>=0.24.2 in /home/dbabbitt/anaconda3/envs/itm_analysis_reporting/lib/python3.7/site-packages (from mlxtend) (1.3.5)\n",
      "Collecting scikit-learn>=1.0.2 (from mlxtend)\n",
      "  Downloading scikit_learn-1.0.2-cp37-cp37m-manylinux_2_17_x86_64.manylinux2014_x86_64.whl (24.8 MB)\n",
      "\u001b[2K     \u001b[90m━━━━━━━━━━━━━━━━━━━━━━━━━━━━━━━━━━━━━━━━\u001b[0m \u001b[32m24.8/24.8 MB\u001b[0m \u001b[31m10.2 MB/s\u001b[0m eta \u001b[36m0:00:00\u001b[0m00:01\u001b[0m00:01\u001b[0m\n",
      "\u001b[?25hRequirement already satisfied: matplotlib>=3.0.0 in /home/dbabbitt/anaconda3/envs/itm_analysis_reporting/lib/python3.7/site-packages (from mlxtend) (3.5.3)\n",
      "Requirement already satisfied: joblib>=0.13.2 in /home/dbabbitt/anaconda3/envs/itm_analysis_reporting/lib/python3.7/site-packages (from mlxtend) (1.3.2)\n",
      "Requirement already satisfied: cycler>=0.10 in /home/dbabbitt/anaconda3/envs/itm_analysis_reporting/lib/python3.7/site-packages (from matplotlib>=3.0.0->mlxtend) (0.11.0)\n",
      "Requirement already satisfied: fonttools>=4.22.0 in /home/dbabbitt/anaconda3/envs/itm_analysis_reporting/lib/python3.7/site-packages (from matplotlib>=3.0.0->mlxtend) (4.38.0)\n",
      "Requirement already satisfied: kiwisolver>=1.0.1 in /home/dbabbitt/anaconda3/envs/itm_analysis_reporting/lib/python3.7/site-packages (from matplotlib>=3.0.0->mlxtend) (1.4.4)\n",
      "Requirement already satisfied: packaging>=20.0 in /home/dbabbitt/anaconda3/envs/itm_analysis_reporting/lib/python3.7/site-packages (from matplotlib>=3.0.0->mlxtend) (23.2)\n",
      "Requirement already satisfied: pillow>=6.2.0 in /home/dbabbitt/anaconda3/envs/itm_analysis_reporting/lib/python3.7/site-packages (from matplotlib>=3.0.0->mlxtend) (9.2.0)\n",
      "Requirement already satisfied: pyparsing>=2.2.1 in /home/dbabbitt/anaconda3/envs/itm_analysis_reporting/lib/python3.7/site-packages (from matplotlib>=3.0.0->mlxtend) (3.1.1)\n",
      "Requirement already satisfied: python-dateutil>=2.7 in /home/dbabbitt/anaconda3/envs/itm_analysis_reporting/lib/python3.7/site-packages (from matplotlib>=3.0.0->mlxtend) (2.8.2)\n",
      "Requirement already satisfied: pytz>=2017.3 in /home/dbabbitt/anaconda3/envs/itm_analysis_reporting/lib/python3.7/site-packages (from pandas>=0.24.2->mlxtend) (2023.3.post1)\n",
      "Collecting threadpoolctl>=2.0.0 (from scikit-learn>=1.0.2->mlxtend)\n",
      "  Downloading threadpoolctl-3.1.0-py3-none-any.whl (14 kB)\n",
      "Requirement already satisfied: typing-extensions in /home/dbabbitt/anaconda3/envs/itm_analysis_reporting/lib/python3.7/site-packages (from kiwisolver>=1.0.1->matplotlib>=3.0.0->mlxtend) (4.1.1)\n",
      "Requirement already satisfied: six>=1.5 in /home/dbabbitt/anaconda3/envs/itm_analysis_reporting/lib/python3.7/site-packages (from python-dateutil>=2.7->matplotlib>=3.0.0->mlxtend) (1.16.0)\n",
      "Downloading mlxtend-0.23.0-py3-none-any.whl (1.4 MB)\n",
      "\u001b[2K   \u001b[90m━━━━━━━━━━━━━━━━━━━━━━━━━━━━━━━━━━━━━━━━\u001b[0m \u001b[32m1.4/1.4 MB\u001b[0m \u001b[31m8.2 MB/s\u001b[0m eta \u001b[36m0:00:00\u001b[0m00:01\u001b[0m00:01\u001b[0mm\n",
      "\u001b[?25hInstalling collected packages: threadpoolctl, scikit-learn, mlxtend\n",
      "Successfully installed mlxtend-0.23.0 scikit-learn-1.0.2 threadpoolctl-3.1.0\n"
     ]
    }
   ],
   "source": [
    "\n",
    "import os, sys\n",
    "\n",
    "anaconda_path = os.path.dirname(sys.executable)\n",
    "scripts_path = os.path.join(anaconda_path, 'Scripts')\n",
    "if scripts_path not in sys.path: sys.path.insert(1, scripts_path)\n",
    "command_str = f'{sys.executable} -m pip install mlxtend --upgrade'# --quiet\n",
    "print(command_str)\n",
    "!{command_str}"
   ]
  },
  {
   "cell_type": "code",
   "execution_count": 8,
   "metadata": {},
   "outputs": [
    {
     "name": "stdout",
     "output_type": "stream",
     "text": [
      "C:\\Users\\DaveBabbitt\\anaconda3\\envs\\itm_analysis_reporting\\Lib\\distutils\n"
     ]
    }
   ],
   "source": [
    "\n",
    "file_path = f'{anaconda_path}\\\\Lib\\\\distutils'\n",
    "print(file_path)\n",
    "!start %windir%\\explorer.exe {file_path}"
   ]
  },
  {
   "cell_type": "code",
   "execution_count": 8,
   "metadata": {},
   "outputs": [
    {
     "data": {
      "text/plain": [
       "'C:\\\\Users\\\\DaveBabbitt\\\\anaconda3\\\\envs\\\\llama_index\\\\Scripts'"
      ]
     },
     "execution_count": 8,
     "metadata": {},
     "output_type": "execute_result"
    }
   ],
   "source": [
    "\n",
    "scripts_path"
   ]
  },
  {
   "cell_type": "code",
   "execution_count": null,
   "metadata": {},
   "outputs": [],
   "source": []
  }
 ],
 "metadata": {
  "kernelspec": {
   "display_name": "ITM Analysis Reporting (Python 3.11.5)",
   "language": "python",
   "name": "itm_analysis_reporting"
  },
  "language_info": {
   "codemirror_mode": {
    "name": "ipython",
    "version": 3
   },
   "file_extension": ".py",
   "mimetype": "text/x-python",
   "name": "python",
   "nbconvert_exporter": "python",
   "pygments_lexer": "ipython3",
   "version": "3.7.12"
  }
 },
 "nbformat": 4,
 "nbformat_minor": 4
}

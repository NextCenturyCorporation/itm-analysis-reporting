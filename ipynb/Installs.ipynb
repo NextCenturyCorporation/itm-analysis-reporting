{
 "cells": [
  {
   "cell_type": "code",
   "execution_count": 1,
   "metadata": {
    "editable": true,
    "slideshow": {
     "slide_type": ""
    },
    "tags": []
   },
   "outputs": [
    {
     "name": "stdout",
     "output_type": "stream",
     "text": [
      "/home/dbabbitt/anaconda3/envs/itm_analysis_reporting/bin/python -m pip install networkx --upgrade\n",
      "Collecting networkx\n",
      "  Downloading networkx-2.6.3-py3-none-any.whl (1.9 MB)\n",
      "\u001b[2K     \u001b[90m━━━━━━━━━━━━━━━━━━━━━━━━━━━━━━━━━━━━━━━━\u001b[0m \u001b[32m1.9/1.9 MB\u001b[0m \u001b[31m7.4 MB/s\u001b[0m eta \u001b[36m0:00:00\u001b[0ma \u001b[36m0:00:01\u001b[0m\n",
      "\u001b[?25hInstalling collected packages: networkx\n",
      "Successfully installed networkx-2.6.3\n"
     ]
    }
   ],
   "source": [
    "\n",
    "import os, sys\n",
    "\n",
    "anaconda_path = os.path.dirname(sys.executable)\n",
    "scripts_path = os.path.join(anaconda_path, 'Scripts')\n",
    "# if scripts_path not in sys.path: sys.path.insert(1, scripts_path)\n",
    "# command_str = f'{sys.executable} -m pip uninstall PyPDF2 --yes'\n",
    "# print(command_str)\n",
    "# !{command_str}\n",
    "command_str = f'{sys.executable} -m pip install networkx --upgrade'\n",
    "print(command_str)\n",
    "!{command_str}\n",
    "import openpyxl"
   ]
  },
  {
   "cell_type": "code",
   "execution_count": 8,
   "metadata": {},
   "outputs": [
    {
     "name": "stdout",
     "output_type": "stream",
     "text": [
      "C:\\Users\\DaveBabbitt\\anaconda3\\envs\\itm_analysis_reporting\\Lib\\distutils\n"
     ]
    }
   ],
   "source": [
    "\n",
    "file_path = f'{anaconda_path}\\\\Lib\\\\distutils'\n",
    "print(file_path)\n",
    "!start %windir%\\explorer.exe {file_path}"
   ]
  },
  {
   "cell_type": "code",
   "execution_count": 8,
   "metadata": {},
   "outputs": [
    {
     "data": {
      "text/plain": [
       "'C:\\\\Users\\\\DaveBabbitt\\\\anaconda3\\\\envs\\\\llama_index\\\\Scripts'"
      ]
     },
     "execution_count": 8,
     "metadata": {},
     "output_type": "execute_result"
    }
   ],
   "source": [
    "\n",
    "scripts_path"
   ]
  },
  {
   "cell_type": "code",
   "execution_count": null,
   "metadata": {},
   "outputs": [],
   "source": []
  }
 ],
 "metadata": {
  "kernelspec": {
   "display_name": "ITM Analysis Reporting (Python 3.11.5)",
   "language": "python",
   "name": "itm_analysis_reporting"
  },
  "language_info": {
   "codemirror_mode": {
    "name": "ipython",
    "version": 3
   },
   "file_extension": ".py",
   "mimetype": "text/x-python",
   "name": "python",
   "nbconvert_exporter": "python",
   "pygments_lexer": "ipython3",
   "version": "3.7.12"
  }
 },
 "nbformat": 4,
 "nbformat_minor": 4
}

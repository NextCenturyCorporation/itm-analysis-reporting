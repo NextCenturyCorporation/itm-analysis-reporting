{
 "cells": [
  {
   "cell_type": "code",
   "execution_count": 16,
   "metadata": {
    "editable": true,
    "slideshow": {
     "slide_type": ""
    },
    "tags": []
   },
   "outputs": [
    {
     "name": "stdout",
     "output_type": "stream",
     "text": [
      "/home/dbabbitt/anaconda3/envs/llama_index/bin/python -m pip install cryptography --upgrade\n",
      "Requirement already satisfied: cryptography in /home/dbabbitt/anaconda3/envs/llama_index/lib/python3.9/site-packages (41.0.3)\n",
      "Collecting cryptography\n",
      "  Downloading cryptography-41.0.7-cp37-abi3-manylinux_2_28_x86_64.whl.metadata (5.2 kB)\n",
      "Requirement already satisfied: cffi>=1.12 in /home/dbabbitt/anaconda3/envs/llama_index/lib/python3.9/site-packages (from cryptography) (1.16.0)\n",
      "Requirement already satisfied: pycparser in /home/dbabbitt/anaconda3/envs/llama_index/lib/python3.9/site-packages (from cffi>=1.12->cryptography) (2.21)\n",
      "Downloading cryptography-41.0.7-cp37-abi3-manylinux_2_28_x86_64.whl (4.4 MB)\n",
      "\u001b[2K   \u001b[90m━━━━━━━━━━━━━━━━━━━━━━━━━━━━━━━━━━━━━━━━\u001b[0m \u001b[32m4.4/4.4 MB\u001b[0m \u001b[31m6.6 MB/s\u001b[0m eta \u001b[36m0:00:00\u001b[0m00:01\u001b[0m00:01\u001b[0m\n",
      "\u001b[?25hInstalling collected packages: cryptography\n",
      "  Attempting uninstall: cryptography\n",
      "    Found existing installation: cryptography 41.0.3\n",
      "    Uninstalling cryptography-41.0.3:\n",
      "      Successfully uninstalled cryptography-41.0.3\n",
      "Successfully installed cryptography-41.0.7\n"
     ]
    },
    {
     "ename": "ModuleNotFoundError",
     "evalue": "No module named 'cryptography'",
     "output_type": "error",
     "traceback": [
      "\u001b[0;31m---------------------------------------------------------------------------\u001b[0m",
      "\u001b[0;31mModuleNotFoundError\u001b[0m                       Traceback (most recent call last)",
      "Cell \u001b[0;32mIn[16], line 12\u001b[0m\n\u001b[1;32m     10\u001b[0m \u001b[38;5;28mprint\u001b[39m(command_str)\n\u001b[1;32m     11\u001b[0m get_ipython()\u001b[38;5;241m.\u001b[39msystem(\u001b[38;5;124m'\u001b[39m\u001b[38;5;132;01m{command_str}\u001b[39;00m\u001b[38;5;124m'\u001b[39m)\n\u001b[0;32m---> 12\u001b[0m \u001b[38;5;28;01mimport\u001b[39;00m \u001b[38;5;21;01mcryptography\u001b[39;00m\n",
      "\u001b[0;31mModuleNotFoundError\u001b[0m: No module named 'cryptography'"
     ]
    }
   ],
   "source": [
    "\n",
    "import os, sys\n",
    "\n",
    "anaconda_path = os.path.dirname(sys.executable)\n",
    "scripts_path = os.path.join(anaconda_path, 'Scripts')\n",
    "# if scripts_path not in sys.path: sys.path.insert(1, scripts_path)\n",
    "# command_str = f'{sys.executable} -m pip uninstall PyPDF2 --yes'\n",
    "# print(command_str)\n",
    "# !{command_str}\n",
    "command_str = f'{sys.executable} -m pip install cryptography --upgrade'\n",
    "print(command_str)\n",
    "!{command_str}\n",
    "import cryptography"
   ]
  },
  {
   "cell_type": "code",
   "execution_count": 8,
   "metadata": {},
   "outputs": [
    {
     "name": "stdout",
     "output_type": "stream",
     "text": [
      "C:\\Users\\DaveBabbitt\\anaconda3\\envs\\itm_analysis_reporting\\Lib\\distutils\n"
     ]
    }
   ],
   "source": [
    "\n",
    "file_path = f'{anaconda_path}\\\\Lib\\\\distutils'\n",
    "print(file_path)\n",
    "!start %windir%\\explorer.exe {file_path}"
   ]
  },
  {
   "cell_type": "code",
   "execution_count": 8,
   "metadata": {},
   "outputs": [
    {
     "data": {
      "text/plain": [
       "'C:\\\\Users\\\\DaveBabbitt\\\\anaconda3\\\\envs\\\\llama_index\\\\Scripts'"
      ]
     },
     "execution_count": 8,
     "metadata": {},
     "output_type": "execute_result"
    }
   ],
   "source": [
    "\n",
    "scripts_path"
   ]
  },
  {
   "cell_type": "code",
   "execution_count": null,
   "metadata": {},
   "outputs": [],
   "source": []
  }
 ],
 "metadata": {
  "kernelspec": {
   "display_name": "LlamaIndex (Python 3.10.13)",
   "language": "python",
   "name": "llama_index"
  },
  "language_info": {
   "codemirror_mode": {
    "name": "ipython",
    "version": 3
   },
   "file_extension": ".py",
   "mimetype": "text/x-python",
   "name": "python",
   "nbconvert_exporter": "python",
   "pygments_lexer": "ipython3",
   "version": "3.9.18"
  }
 },
 "nbformat": 4,
 "nbformat_minor": 4
}

{
 "cells": [
  {
   "cell_type": "code",
   "execution_count": 1,
   "metadata": {
    "tags": []
   },
   "outputs": [
    {
     "name": "stdout",
     "output_type": "stream",
     "text": [
      "Pretty printing has been turned OFF\n"
     ]
    }
   ],
   "source": [
    "\n",
    "# Set up notebook\n",
    "%pprint\n",
    "import sys\n",
    "if ('../py' not in sys.path): sys.path.insert(1, '../py')\n",
    "from FRVRS import nu, fu\n",
    "nu.delete_ipynb_checkpoint_folders()"
   ]
  },
  {
   "cell_type": "code",
   "execution_count": 11,
   "metadata": {},
   "outputs": [
    {
     "name": "stdout",
     "output_type": "stream",
     "text": [
      "Attempting to load /mnt/c/Users/DaveBabbitt/Documents/GitHub/itm-analysis-reporting/saves/pkl/metrics_evaluation_open_world_df.pkl.\n",
      "Attempting to load /mnt/c/Users/DaveBabbitt/Documents/GitHub/itm-analysis-reporting/saves/pkl/metrics_evaluation_open_world_file_stats_df.pkl.\n"
     ]
    }
   ],
   "source": [
    "\n",
    "data_frames_dict = nu.load_data_frames(\n",
    "    metrics_evaluation_open_world_df='', metrics_evaluation_open_world_file_stats_df=''\n",
    ")\n",
    "logs_df = data_frames_dict['metrics_evaluation_open_world_df']\n",
    "csv_files_list = sorted(logs_df.csv_file_name.unique())\n",
    "file_stats_df = data_frames_dict['metrics_evaluation_open_world_file_stats_df']\n",
    "json_files_list = sorted(file_stats_df.json_file_name.unique())"
   ]
  },
  {
   "cell_type": "code",
   "execution_count": 18,
   "metadata": {},
   "outputs": [],
   "source": [
    "\n",
    "Human_Sim_Metrics_csv_files_set = set()\n",
    "Human_Sim_Metrics_json_files_set = set()\n",
    "folder_path = '../data/logs/Human_Sim_Metrics_Data 4-12-2024'\n",
    "for sub_directory, directories_list, files_list in os.walk(folder_path):\n",
    "    for file_name in files_list:\n",
    "        if file_name.endswith('.json'):\n",
    "            # file_path = osp.join(sub_directory, file_name)\n",
    "            Human_Sim_Metrics_json_files_set.add(file_name)\n",
    "        elif file_name.endswith('.csv'):\n",
    "            # file_path = osp.join(sub_directory, file_name)\n",
    "            Human_Sim_Metrics_csv_files_set.add(file_name)"
   ]
  },
  {
   "cell_type": "code",
   "execution_count": 19,
   "metadata": {},
   "outputs": [
    {
     "data": {
      "text/plain": [
       "set()"
      ]
     },
     "execution_count": 19,
     "metadata": {},
     "output_type": "execute_result"
    }
   ],
   "source": [
    "\n",
    "set(csv_files_list).difference(Human_Sim_Metrics_csv_files_set)"
   ]
  },
  {
   "cell_type": "code",
   "execution_count": 20,
   "metadata": {},
   "outputs": [
    {
     "data": {
      "text/plain": [
       "{'703b9d0b-7786-4a4b-8a26-7c57d16b785a_2024226.csv', 'a3a7727b-dd25-4e78-8d63-e66573f5077e_2024224.csv', '84c92e21-764b-435b-9e55-0f12f60383fc_2024227.csv', 'a9c21d35-e8be-47fd-926a-a00dcd3e792b_2024225.csv', '8b6c4aed-0983-4a76-99fb-cec08dc26b92_2024224.csv', '05e0be07-479a-4ea4-9b90-3fc7b79ef7ff_2024225.csv', '9f3bb117-3a4b-4bc7-9237-e2d9920d5333_2024227.csv', '0e8693a1-1926-4d56-b0c4-ee2dc8181fc6_2024226.csv'}"
      ]
     },
     "execution_count": 20,
     "metadata": {},
     "output_type": "execute_result"
    }
   ],
   "source": [
    "\n",
    "Human_Sim_Metrics_csv_files_set.difference(set(csv_files_list))"
   ]
  },
  {
   "cell_type": "code",
   "execution_count": 21,
   "metadata": {},
   "outputs": [
    {
     "data": {
      "text/plain": [
       "set()"
      ]
     },
     "execution_count": 21,
     "metadata": {},
     "output_type": "execute_result"
    }
   ],
   "source": [
    "\n",
    "set(json_files_list).difference(Human_Sim_Metrics_json_files_set)"
   ]
  },
  {
   "cell_type": "code",
   "execution_count": 22,
   "metadata": {},
   "outputs": [
    {
     "data": {
      "text/plain": [
       "{'a3a7727b-dd25-4e78-8d63-e66573f5077e_2024224.json', '703b9d0b-7786-4a4b-8a26-7c57d16b785a_2024226.json', 'a9c21d35-e8be-47fd-926a-a00dcd3e792b_2024225.json', '0e8693a1-1926-4d56-b0c4-ee2dc8181fc6_2024226.json', '8b6c4aed-0983-4a76-99fb-cec08dc26b92_2024224.json', '84c92e21-764b-435b-9e55-0f12f60383fc_2024227.json', '05e0be07-479a-4ea4-9b90-3fc7b79ef7ff_2024225.json', '9f3bb117-3a4b-4bc7-9237-e2d9920d5333_2024227.json'}"
      ]
     },
     "execution_count": 22,
     "metadata": {},
     "output_type": "execute_result"
    }
   ],
   "source": [
    "\n",
    "Human_Sim_Metrics_json_files_set.difference(set(json_files_list))"
   ]
  },
  {
   "cell_type": "code",
   "execution_count": 23,
   "metadata": {},
   "outputs": [],
   "source": [
    "\n",
    "Open_World_Metrics_csv_files_set = set()\n",
    "Open_World_Metrics_json_files_set = set()\n",
    "folder_path = '../data/logs/Metrics Evaluation Open World'\n",
    "for sub_directory, directories_list, files_list in os.walk(folder_path):\n",
    "    for file_name in files_list:\n",
    "        if file_name.endswith('.json'):\n",
    "            # file_path = osp.join(sub_directory, file_name)\n",
    "            Open_World_Metrics_json_files_set.add(file_name)\n",
    "        elif file_name.endswith('.csv'):\n",
    "            # file_path = osp.join(sub_directory, file_name)\n",
    "            Open_World_Metrics_csv_files_set.add(file_name)"
   ]
  },
  {
   "cell_type": "code",
   "execution_count": 24,
   "metadata": {},
   "outputs": [
    {
     "data": {
      "text/plain": [
       "set()"
      ]
     },
     "execution_count": 24,
     "metadata": {},
     "output_type": "execute_result"
    }
   ],
   "source": [
    "\n",
    "set(csv_files_list).difference(Open_World_Metrics_csv_files_set)"
   ]
  },
  {
   "cell_type": "code",
   "execution_count": 25,
   "metadata": {},
   "outputs": [
    {
     "data": {
      "text/plain": [
       "{'703b9d0b-7786-4a4b-8a26-7c57d16b785a_2024226.csv', 'a3a7727b-dd25-4e78-8d63-e66573f5077e_2024224.csv', '84c92e21-764b-435b-9e55-0f12f60383fc_2024227.csv', 'a9c21d35-e8be-47fd-926a-a00dcd3e792b_2024225.csv', '8b6c4aed-0983-4a76-99fb-cec08dc26b92_2024224.csv', '05e0be07-479a-4ea4-9b90-3fc7b79ef7ff_2024225.csv', '9f3bb117-3a4b-4bc7-9237-e2d9920d5333_2024227.csv', '0e8693a1-1926-4d56-b0c4-ee2dc8181fc6_2024226.csv'}"
      ]
     },
     "execution_count": 25,
     "metadata": {},
     "output_type": "execute_result"
    }
   ],
   "source": [
    "\n",
    "Open_World_Metrics_csv_files_set.difference(set(csv_files_list))"
   ]
  },
  {
   "cell_type": "code",
   "execution_count": 27,
   "metadata": {},
   "outputs": [
    {
     "data": {
      "text/plain": [
       "set()"
      ]
     },
     "execution_count": 27,
     "metadata": {},
     "output_type": "execute_result"
    }
   ],
   "source": [
    "\n",
    "set(json_files_list).difference(Open_World_Metrics_json_files_set)"
   ]
  },
  {
   "cell_type": "code",
   "execution_count": 28,
   "metadata": {},
   "outputs": [
    {
     "data": {
      "text/plain": [
       "{'a3a7727b-dd25-4e78-8d63-e66573f5077e_2024224.json', '703b9d0b-7786-4a4b-8a26-7c57d16b785a_2024226.json', 'a9c21d35-e8be-47fd-926a-a00dcd3e792b_2024225.json', '0e8693a1-1926-4d56-b0c4-ee2dc8181fc6_2024226.json', '8b6c4aed-0983-4a76-99fb-cec08dc26b92_2024224.json', '84c92e21-764b-435b-9e55-0f12f60383fc_2024227.json', '05e0be07-479a-4ea4-9b90-3fc7b79ef7ff_2024225.json', '9f3bb117-3a4b-4bc7-9237-e2d9920d5333_2024227.json'}"
      ]
     },
     "execution_count": 28,
     "metadata": {},
     "output_type": "execute_result"
    }
   ],
   "source": [
    "\n",
    "Open_World_Metrics_json_files_set.difference(set(json_files_list))"
   ]
  },
  {
   "cell_type": "code",
   "execution_count": 29,
   "metadata": {},
   "outputs": [
    {
     "name": "stdout",
     "output_type": "stream",
     "text": [
      "../data/logs/Metrics Evaluation Open World/02d472ac-f6fe-474c-815d-6125fadfcbf7_2024211/02d472ac-f6fe-474c-815d-6125fadfcbf7_2024211.csv\n",
      "../data/logs/Metrics Evaluation Open World/02d472ac-f6fe-474c-815d-6125fadfcbf7_2024211/02d472ac-f6fe-474c-815d-6125fadfcbf7_2024211.json\n",
      "../data/logs/Metrics Evaluation Open World/04f80090-9e61-431d-8473-dccb75fed04d_2024207/04f80090-9e61-431d-8473-dccb75fed04d_2024207.csv\n",
      "../data/logs/Metrics Evaluation Open World/04f80090-9e61-431d-8473-dccb75fed04d_2024207/04f80090-9e61-431d-8473-dccb75fed04d_2024207.json\n",
      "../data/logs/Metrics Evaluation Open World/05e0be07-479a-4ea4-9b90-3fc7b79ef7ff_2024225/05e0be07-479a-4ea4-9b90-3fc7b79ef7ff_2024225.csv\n",
      "../data/logs/Metrics Evaluation Open World/05e0be07-479a-4ea4-9b90-3fc7b79ef7ff_2024225/05e0be07-479a-4ea4-9b90-3fc7b79ef7ff_2024225.json\n",
      "../data/logs/Metrics Evaluation Open World/0bc62b93-ac4d-40ef-bdfe-1d7badb24f70_2024208/0bc62b93-ac4d-40ef-bdfe-1d7badb24f70_2024208.csv\n",
      "../data/logs/Metrics Evaluation Open World/0bc62b93-ac4d-40ef-bdfe-1d7badb24f70_2024208/0bc62b93-ac4d-40ef-bdfe-1d7badb24f70_2024208.json\n",
      "../data/logs/Metrics Evaluation Open World/0e8693a1-1926-4d56-b0c4-ee2dc8181fc6_2024226/0e8693a1-1926-4d56-b0c4-ee2dc8181fc6_2024226.csv\n",
      "../data/logs/Metrics Evaluation Open World/0e8693a1-1926-4d56-b0c4-ee2dc8181fc6_2024226/0e8693a1-1926-4d56-b0c4-ee2dc8181fc6_2024226.json\n",
      "../data/logs/Metrics Evaluation Open World/1995e7ef-ef02-4fc1-b1ab-f137dbf69d48_2024217/1995e7ef-ef02-4fc1-b1ab-f137dbf69d48_2024217.csv\n",
      "../data/logs/Metrics Evaluation Open World/1995e7ef-ef02-4fc1-b1ab-f137dbf69d48_2024217/1995e7ef-ef02-4fc1-b1ab-f137dbf69d48_2024217.json\n",
      "../data/logs/Metrics Evaluation Open World/21f8cb5d-f5ac-4a01-9287-43df5f6751a1_2024219/21f8cb5d-f5ac-4a01-9287-43df5f6751a1_2024219.csv\n",
      "../data/logs/Metrics Evaluation Open World/21f8cb5d-f5ac-4a01-9287-43df5f6751a1_2024219/21f8cb5d-f5ac-4a01-9287-43df5f6751a1_2024219.json\n",
      "../data/logs/Metrics Evaluation Open World/220b609b-0e35-454e-9afd-c84cbfa3e3ad_2024202/220b609b-0e35-454e-9afd-c84cbfa3e3ad_2024202.csv\n",
      "../data/logs/Metrics Evaluation Open World/220b609b-0e35-454e-9afd-c84cbfa3e3ad_2024202/220b609b-0e35-454e-9afd-c84cbfa3e3ad_2024202.json\n",
      "../data/logs/Metrics Evaluation Open World/23081f6e-875e-44f5-8bd0-edc3905f5c2c_2024201/23081f6e-875e-44f5-8bd0-edc3905f5c2c_2024201.csv\n",
      "../data/logs/Metrics Evaluation Open World/23081f6e-875e-44f5-8bd0-edc3905f5c2c_2024201/23081f6e-875e-44f5-8bd0-edc3905f5c2c_2024201.json\n",
      "../data/logs/Metrics Evaluation Open World/287389c4-4c48-4483-87c0-6b363b57bde2_2024220/287389c4-4c48-4483-87c0-6b363b57bde2_2024220.csv\n",
      "../data/logs/Metrics Evaluation Open World/287389c4-4c48-4483-87c0-6b363b57bde2_2024220/287389c4-4c48-4483-87c0-6b363b57bde2_2024220.json\n",
      "../data/logs/Metrics Evaluation Open World/2e8f6555-a7fa-4b54-8132-c030d697b4ad_2024212/2e8f6555-a7fa-4b54-8132-c030d697b4ad_2024212.csv\n",
      "../data/logs/Metrics Evaluation Open World/2e8f6555-a7fa-4b54-8132-c030d697b4ad_2024212/2e8f6555-a7fa-4b54-8132-c030d697b4ad_2024212.json\n",
      "../data/logs/Metrics Evaluation Open World/37a554ee-fc49-4730-819c-2d97727bb0b7_2024218/37a554ee-fc49-4730-819c-2d97727bb0b7_2024218.csv\n",
      "../data/logs/Metrics Evaluation Open World/37a554ee-fc49-4730-819c-2d97727bb0b7_2024218/37a554ee-fc49-4730-819c-2d97727bb0b7_2024218.json\n",
      "../data/logs/Metrics Evaluation Open World/385032e9-9801-4dcf-a841-b3703a0d9acd_2024209/385032e9-9801-4dcf-a841-b3703a0d9acd_2024209.csv\n",
      "../data/logs/Metrics Evaluation Open World/385032e9-9801-4dcf-a841-b3703a0d9acd_2024209/385032e9-9801-4dcf-a841-b3703a0d9acd_2024209.json\n",
      "../data/logs/Metrics Evaluation Open World/3cf14e31-f416-4c78-8a69-91bf0c685448_2024215/3cf14e31-f416-4c78-8a69-91bf0c685448_2024215.csv\n",
      "../data/logs/Metrics Evaluation Open World/3cf14e31-f416-4c78-8a69-91bf0c685448_2024215/3cf14e31-f416-4c78-8a69-91bf0c685448_2024215.json\n",
      "../data/logs/Metrics Evaluation Open World/45365e18-6e38-48e7-b4a2-6b448b209034_2024218/45365e18-6e38-48e7-b4a2-6b448b209034_2024218.csv\n",
      "../data/logs/Metrics Evaluation Open World/45365e18-6e38-48e7-b4a2-6b448b209034_2024218/45365e18-6e38-48e7-b4a2-6b448b209034_2024218.json\n",
      "../data/logs/Metrics Evaluation Open World/499179ba-3138-4bae-918e-ffc7fb943760_2024206/499179ba-3138-4bae-918e-ffc7fb943760_2024206.csv\n",
      "../data/logs/Metrics Evaluation Open World/499179ba-3138-4bae-918e-ffc7fb943760_2024206/499179ba-3138-4bae-918e-ffc7fb943760_2024206.json\n",
      "../data/logs/Metrics Evaluation Open World/4bc46c8c-66e7-463d-b3a1-2a8303af4fd1_2024203/4bc46c8c-66e7-463d-b3a1-2a8303af4fd1_2024203.csv\n",
      "../data/logs/Metrics Evaluation Open World/4bc46c8c-66e7-463d-b3a1-2a8303af4fd1_2024203/4bc46c8c-66e7-463d-b3a1-2a8303af4fd1_2024203.json\n",
      "../data/logs/Metrics Evaluation Open World/4de6e23f-3c00-49d9-bbac-3a9febab4311_2024222/4de6e23f-3c00-49d9-bbac-3a9febab4311_2024222.csv\n",
      "../data/logs/Metrics Evaluation Open World/4de6e23f-3c00-49d9-bbac-3a9febab4311_2024222/4de6e23f-3c00-49d9-bbac-3a9febab4311_2024222.json\n",
      "../data/logs/Metrics Evaluation Open World/50b15e40-9860-4574-8ab8-0bd960fe27de_2024220/50b15e40-9860-4574-8ab8-0bd960fe27de_2024220.csv\n",
      "../data/logs/Metrics Evaluation Open World/50b15e40-9860-4574-8ab8-0bd960fe27de_2024220/50b15e40-9860-4574-8ab8-0bd960fe27de_2024220.json\n",
      "../data/logs/Metrics Evaluation Open World/5a909dc4-0f86-430d-a400-e37139cba69f_2024212/5a909dc4-0f86-430d-a400-e37139cba69f_2024212.csv\n",
      "../data/logs/Metrics Evaluation Open World/5a909dc4-0f86-430d-a400-e37139cba69f_2024212/5a909dc4-0f86-430d-a400-e37139cba69f_2024212.json\n",
      "../data/logs/Metrics Evaluation Open World/5d8d73a3-1898-4f64-8676-73edd1b7daa0_2024211/5d8d73a3-1898-4f64-8676-73edd1b7daa0_2024211.csv\n",
      "../data/logs/Metrics Evaluation Open World/5d8d73a3-1898-4f64-8676-73edd1b7daa0_2024211/5d8d73a3-1898-4f64-8676-73edd1b7daa0_2024211.json\n",
      "../data/logs/Metrics Evaluation Open World/5d94f0d4-a1b1-4d18-8a62-591e196006a9_2024219/5d94f0d4-a1b1-4d18-8a62-591e196006a9_2024219.csv\n",
      "../data/logs/Metrics Evaluation Open World/5d94f0d4-a1b1-4d18-8a62-591e196006a9_2024219/5d94f0d4-a1b1-4d18-8a62-591e196006a9_2024219.json\n",
      "../data/logs/Metrics Evaluation Open World/6666ee6b-863b-49d1-8097-97e6aa4fb39d_2024221/6666ee6b-863b-49d1-8097-97e6aa4fb39d_2024221.csv\n",
      "../data/logs/Metrics Evaluation Open World/6666ee6b-863b-49d1-8097-97e6aa4fb39d_2024221/6666ee6b-863b-49d1-8097-97e6aa4fb39d_2024221.json\n",
      "../data/logs/Metrics Evaluation Open World/67dc0230-511d-41ac-ae9b-850900ab9e6a_2024208/67dc0230-511d-41ac-ae9b-850900ab9e6a_2024208.csv\n",
      "../data/logs/Metrics Evaluation Open World/67dc0230-511d-41ac-ae9b-850900ab9e6a_2024208/67dc0230-511d-41ac-ae9b-850900ab9e6a_2024208.json\n",
      "../data/logs/Metrics Evaluation Open World/6a76af00-56ef-408f-a445-6f5168e090a8_2024221/6a76af00-56ef-408f-a445-6f5168e090a8_2024221.csv\n",
      "../data/logs/Metrics Evaluation Open World/6a76af00-56ef-408f-a445-6f5168e090a8_2024221/6a76af00-56ef-408f-a445-6f5168e090a8_2024221.json\n",
      "../data/logs/Metrics Evaluation Open World/6db9446c-2cd4-41b4-be8d-be5ccbbc6e05_2024217/6db9446c-2cd4-41b4-be8d-be5ccbbc6e05_2024217.csv\n",
      "../data/logs/Metrics Evaluation Open World/6db9446c-2cd4-41b4-be8d-be5ccbbc6e05_2024217/6db9446c-2cd4-41b4-be8d-be5ccbbc6e05_2024217.json\n",
      "../data/logs/Metrics Evaluation Open World/703b9d0b-7786-4a4b-8a26-7c57d16b785a_2024226/703b9d0b-7786-4a4b-8a26-7c57d16b785a_2024226.csv\n",
      "../data/logs/Metrics Evaluation Open World/703b9d0b-7786-4a4b-8a26-7c57d16b785a_2024226/703b9d0b-7786-4a4b-8a26-7c57d16b785a_2024226.json\n",
      "../data/logs/Metrics Evaluation Open World/70eef02d-d2d0-458e-a8bb-f6511bf47a0c_2024223/70eef02d-d2d0-458e-a8bb-f6511bf47a0c_2024223.csv\n",
      "../data/logs/Metrics Evaluation Open World/70eef02d-d2d0-458e-a8bb-f6511bf47a0c_2024223/70eef02d-d2d0-458e-a8bb-f6511bf47a0c_2024223.json\n",
      "../data/logs/Metrics Evaluation Open World/80f79d45-22fd-479d-b6e2-c62b5778e073_2024204/80f79d45-22fd-479d-b6e2-c62b5778e073_2024204.csv\n",
      "../data/logs/Metrics Evaluation Open World/80f79d45-22fd-479d-b6e2-c62b5778e073_2024204/80f79d45-22fd-479d-b6e2-c62b5778e073_2024204.json\n",
      "../data/logs/Metrics Evaluation Open World/84c92e21-764b-435b-9e55-0f12f60383fc_2024227/84c92e21-764b-435b-9e55-0f12f60383fc_2024227.csv\n",
      "../data/logs/Metrics Evaluation Open World/84c92e21-764b-435b-9e55-0f12f60383fc_2024227/84c92e21-764b-435b-9e55-0f12f60383fc_2024227.json\n",
      "../data/logs/Metrics Evaluation Open World/8839e3b8-be5e-4878-8aaf-26c656ae2270_2024207/8839e3b8-be5e-4878-8aaf-26c656ae2270_2024207.csv\n",
      "../data/logs/Metrics Evaluation Open World/8839e3b8-be5e-4878-8aaf-26c656ae2270_2024207/8839e3b8-be5e-4878-8aaf-26c656ae2270_2024207.json\n",
      "../data/logs/Metrics Evaluation Open World/8b6c4aed-0983-4a76-99fb-cec08dc26b92_2024224/8b6c4aed-0983-4a76-99fb-cec08dc26b92_2024224.csv\n",
      "../data/logs/Metrics Evaluation Open World/8b6c4aed-0983-4a76-99fb-cec08dc26b92_2024224/8b6c4aed-0983-4a76-99fb-cec08dc26b92_2024224.json\n",
      "../data/logs/Metrics Evaluation Open World/922ad146-241a-4ea6-8ff1-413d7e0d16ec_2024202/922ad146-241a-4ea6-8ff1-413d7e0d16ec_2024202.csv\n",
      "../data/logs/Metrics Evaluation Open World/922ad146-241a-4ea6-8ff1-413d7e0d16ec_2024202/922ad146-241a-4ea6-8ff1-413d7e0d16ec_2024202.json\n",
      "../data/logs/Metrics Evaluation Open World/9f3bb117-3a4b-4bc7-9237-e2d9920d5333_2024227/9f3bb117-3a4b-4bc7-9237-e2d9920d5333_2024227.csv\n",
      "../data/logs/Metrics Evaluation Open World/9f3bb117-3a4b-4bc7-9237-e2d9920d5333_2024227/9f3bb117-3a4b-4bc7-9237-e2d9920d5333_2024227.json\n",
      "../data/logs/Metrics Evaluation Open World/a3a7727b-dd25-4e78-8d63-e66573f5077e_2024224/a3a7727b-dd25-4e78-8d63-e66573f5077e_2024224.csv\n",
      "../data/logs/Metrics Evaluation Open World/a3a7727b-dd25-4e78-8d63-e66573f5077e_2024224/a3a7727b-dd25-4e78-8d63-e66573f5077e_2024224.json\n",
      "../data/logs/Metrics Evaluation Open World/a7ce6f7b-6466-4281-9496-92b640d9d04b_2024215/a7ce6f7b-6466-4281-9496-92b640d9d04b_2024215.csv\n",
      "../data/logs/Metrics Evaluation Open World/a7ce6f7b-6466-4281-9496-92b640d9d04b_2024215/a7ce6f7b-6466-4281-9496-92b640d9d04b_2024215.json\n",
      "../data/logs/Metrics Evaluation Open World/a9c21d35-e8be-47fd-926a-a00dcd3e792b_2024225/a9c21d35-e8be-47fd-926a-a00dcd3e792b_2024225.csv\n",
      "../data/logs/Metrics Evaluation Open World/a9c21d35-e8be-47fd-926a-a00dcd3e792b_2024225/a9c21d35-e8be-47fd-926a-a00dcd3e792b_2024225.json\n",
      "../data/logs/Metrics Evaluation Open World/acf74a81-a534-44c7-9cb1-67ec381b5ee0_2024203/acf74a81-a534-44c7-9cb1-67ec381b5ee0_2024203.csv\n",
      "../data/logs/Metrics Evaluation Open World/acf74a81-a534-44c7-9cb1-67ec381b5ee0_2024203/acf74a81-a534-44c7-9cb1-67ec381b5ee0_2024203.json\n",
      "../data/logs/Metrics Evaluation Open World/aecfcd56-2262-40a8-9bb8-088f57d46f3f_2024206/aecfcd56-2262-40a8-9bb8-088f57d46f3f_2024206.csv\n",
      "../data/logs/Metrics Evaluation Open World/aecfcd56-2262-40a8-9bb8-088f57d46f3f_2024206/aecfcd56-2262-40a8-9bb8-088f57d46f3f_2024206.json\n",
      "../data/logs/Metrics Evaluation Open World/b5989edc-8348-4b84-b649-87fc4f1cca53_2024209/b5989edc-8348-4b84-b649-87fc4f1cca53_2024209.csv\n",
      "../data/logs/Metrics Evaluation Open World/b5989edc-8348-4b84-b649-87fc4f1cca53_2024209/b5989edc-8348-4b84-b649-87fc4f1cca53_2024209.json\n",
      "../data/logs/Metrics Evaluation Open World/bccb0095-5efd-4c5c-ad58-8b8624f9ab56_2024201/bccb0095-5efd-4c5c-ad58-8b8624f9ab56_2024201.csv\n",
      "../data/logs/Metrics Evaluation Open World/bccb0095-5efd-4c5c-ad58-8b8624f9ab56_2024201/bccb0095-5efd-4c5c-ad58-8b8624f9ab56_2024201.json\n",
      "../data/logs/Metrics Evaluation Open World/c6d3a90f-68c0-4948-bd96-537e80973605_2024216/c6d3a90f-68c0-4948-bd96-537e80973605_2024216.csv\n",
      "../data/logs/Metrics Evaluation Open World/c6d3a90f-68c0-4948-bd96-537e80973605_2024216/c6d3a90f-68c0-4948-bd96-537e80973605_2024216.json\n",
      "../data/logs/Metrics Evaluation Open World/c99de80f-15cc-45cb-aa64-5af0f2f118ca_2024222/c99de80f-15cc-45cb-aa64-5af0f2f118ca_2024222.csv\n",
      "../data/logs/Metrics Evaluation Open World/c99de80f-15cc-45cb-aa64-5af0f2f118ca_2024222/c99de80f-15cc-45cb-aa64-5af0f2f118ca_2024222.json\n",
      "../data/logs/Metrics Evaluation Open World/c9a8dc60-f61d-44bb-bcb5-6e2466f3c9a0_2024223/c9a8dc60-f61d-44bb-bcb5-6e2466f3c9a0_2024223.csv\n",
      "../data/logs/Metrics Evaluation Open World/c9a8dc60-f61d-44bb-bcb5-6e2466f3c9a0_2024223/c9a8dc60-f61d-44bb-bcb5-6e2466f3c9a0_2024223.json\n",
      "../data/logs/Metrics Evaluation Open World/cbbf410f-4657-428e-9616-8a777cc4704d_2024204/cbbf410f-4657-428e-9616-8a777cc4704d_2024204.csv\n",
      "../data/logs/Metrics Evaluation Open World/cbbf410f-4657-428e-9616-8a777cc4704d_2024204/cbbf410f-4657-428e-9616-8a777cc4704d_2024204.json\n",
      "../data/logs/Metrics Evaluation Open World/d13091cc-98e4-4aba-8d02-7eca8bd1a30c_2024216/d13091cc-98e4-4aba-8d02-7eca8bd1a30c_2024216.csv\n",
      "../data/logs/Metrics Evaluation Open World/d13091cc-98e4-4aba-8d02-7eca8bd1a30c_2024216/d13091cc-98e4-4aba-8d02-7eca8bd1a30c_2024216.json\n",
      "../data/logs/Metrics Evaluation Open World/d2aaf0ef-a32f-4255-b3f5-56df927ae0b4_2024214/d2aaf0ef-a32f-4255-b3f5-56df927ae0b4_2024214.csv\n",
      "../data/logs/Metrics Evaluation Open World/d2aaf0ef-a32f-4255-b3f5-56df927ae0b4_2024214/d2aaf0ef-a32f-4255-b3f5-56df927ae0b4_2024214.json\n",
      "../data/logs/Metrics Evaluation Open World/ddfb4e6e-f7c3-4321-89df-b6208f336318_2024205/ddfb4e6e-f7c3-4321-89df-b6208f336318_2024205.csv\n",
      "../data/logs/Metrics Evaluation Open World/ddfb4e6e-f7c3-4321-89df-b6208f336318_2024205/ddfb4e6e-f7c3-4321-89df-b6208f336318_2024205.json\n",
      "../data/logs/Metrics Evaluation Open World/df2fcf88-874b-4cf9-9707-3fa0b30c348f_2024205/df2fcf88-874b-4cf9-9707-3fa0b30c348f_2024205.csv\n",
      "../data/logs/Metrics Evaluation Open World/df2fcf88-874b-4cf9-9707-3fa0b30c348f_2024205/df2fcf88-874b-4cf9-9707-3fa0b30c348f_2024205.json\n",
      "../data/logs/Metrics Evaluation Open World/dfec642f-45c9-4813-91d8-3445d5ca763c_2024213/dfec642f-45c9-4813-91d8-3445d5ca763c_2024213.csv\n",
      "../data/logs/Metrics Evaluation Open World/dfec642f-45c9-4813-91d8-3445d5ca763c_2024213/dfec642f-45c9-4813-91d8-3445d5ca763c_2024213.json\n",
      "../data/logs/Metrics Evaluation Open World/fc676b00-9559-467d-adbb-696dd6e9fb08_2024213/fc676b00-9559-467d-adbb-696dd6e9fb08_2024213.csv\n",
      "../data/logs/Metrics Evaluation Open World/fc676b00-9559-467d-adbb-696dd6e9fb08_2024213/fc676b00-9559-467d-adbb-696dd6e9fb08_2024213.json\n"
     ]
    }
   ],
   "source": [
    "\n",
    "folder_path = '../data/logs/Metrics Evaluation Open World'\n",
    "for sub_directory, directories_list, files_list in os.walk(folder_path):\n",
    "    for file_name in files_list:\n",
    "        if file_name in Open_World_Metrics_json_files_set:\n",
    "            file_path = osp.join(sub_directory, file_name)\n",
    "            print(file_path)\n",
    "        if file_name in Open_World_Metrics_csv_files_set:\n",
    "            file_path = osp.join(sub_directory, file_name)\n",
    "            print(file_path)"
   ]
  },
  {
   "cell_type": "code",
   "execution_count": 2,
   "metadata": {},
   "outputs": [],
   "source": [
    "\n",
    "# load libraries\n",
    "from datetime import timedelta\n",
    "from pandas import DataFrame\n",
    "import humanize\n",
    "import matplotlib.pyplot as plt\n",
    "import numpy as np\n",
    "import os\n",
    "import os.path as osp\n",
    "import pandas as pd\n",
    "import re"
   ]
  },
  {
   "cell_type": "code",
   "execution_count": 3,
   "metadata": {},
   "outputs": [
    {
     "name": "stdout",
     "output_type": "stream",
     "text": [
      "['os.DirEntry', 'os.O_DIRECT', 'os.O_DIRECTORY', 'os.ST_NODIRATIME', 'os.chdir', 'os.curdir', 'os.fchdir', 'os.listdir', 'os.makedirs', 'os.mkdir', 'os.pardir', 'os.removedirs', 'os.rmdir', 'os.scandir', 'os.supports_dir_fd']\n",
      "['osp.curdir', 'osp.dirname', 'osp.isdir', 'osp.pardir']\n",
      "['nu.github_folder']\n"
     ]
    }
   ],
   "source": [
    "\n",
    "print([f'os.{fn}' for fn in dir(os) if 'dir' in fn.lower()])\n",
    "print([f'osp.{fn}' for fn in dir(osp) if 'dir' in fn.lower()])\n",
    "print([f'nu.{fn}' for fn in dir(nu) if 'github' in fn])"
   ]
  },
  {
   "cell_type": "code",
   "execution_count": 4,
   "metadata": {},
   "outputs": [
    {
     "name": "stdout",
     "output_type": "stream",
     "text": [
      "['os.__name__', 'os.confstr_names', 'os.name', 'os.pathconf_names', 'os.rename', 'os.renames', 'os.sysconf_names', 'os.ttyname', 'os.uname', 'os.uname_result']\n",
      "['osp.__name__', 'osp.basename', 'osp.dirname', 'osp.supports_unicode_filenames']\n",
      "['nu.get_filename_from_url']\n"
     ]
    }
   ],
   "source": [
    "\n",
    "print([f'os.{fn}' for fn in dir(os) if 'name' in fn.lower()])\n",
    "print([f'osp.{fn}' for fn in dir(osp) if 'name' in fn.lower()])\n",
    "print([f'nu.{fn}' for fn in dir(nu) if 'name' in fn])"
   ]
  },
  {
   "cell_type": "code",
   "execution_count": 5,
   "metadata": {},
   "outputs": [
    {
     "data": {
      "text/plain": [
       "['Attic.ipynb', 'Installs.ipynb', 'OS Path Navigation.ipynb']"
      ]
     },
     "execution_count": 5,
     "metadata": {},
     "output_type": "execute_result"
    }
   ],
   "source": [
    "\n",
    "os.listdir(path=None)"
   ]
  },
  {
   "cell_type": "code",
   "execution_count": 16,
   "metadata": {},
   "outputs": [
    {
     "name": "stdout",
     "output_type": "stream",
     "text": [
      "\n",
      "open_world\n",
      "Analyze OW Patient Stats.ipynb\n",
      "Correct SORT Order Metric for Metrics Evaluation Open World.ipynb\n",
      "Data Fixes for Metrics Evaluation Open World.ipynb\n",
      "Dataset Built for Metrics Evaluation Open World.ipynb\n",
      "Examine Freeform Open World ADM JSON Files.ipynb\n",
      "Exploratory Analysis of Open World ITM Data.ipynb\n",
      "Explore OW Participants and Scenes.ipynb\n",
      "File Stats Created for Metrics Evaluation Open World.ipynb\n",
      "Scene Stats Created for Metrics Evaluation Open World.ipynb\n"
     ]
    }
   ],
   "source": [
    "\n",
    "for sub_directory, directories_list, files_list in os.walk(nu.github_folder):\n",
    "    file_names_list = []\n",
    "    for file_name in files_list:\n",
    "        if file_name.endswith('.ipynb') and re.search(r'(\\bOW\\b|Open(_|%20| )World)', file_name):\n",
    "            file_names_list.append(file_name)\n",
    "    if file_names_list:\n",
    "        print()\n",
    "        print(sub_directory.split('/')[-1])\n",
    "        print('\\n'.join(file_names_list))"
   ]
  },
  {
   "cell_type": "code",
   "execution_count": null,
   "metadata": {},
   "outputs": [],
   "source": [
    "\n",
    "# Define the starting directory\n",
    "root_dir = '/'\n",
    "\n",
    "# Use a recursive function to search for matching folders\n",
    "def find_python311_folders(directory):\n",
    "    found_folders = []\n",
    "    try: entries_list = os.scandir(directory)\n",
    "    except: entries_list = []\n",
    "    for entry in entries_list:\n",
    "        try: is_entry_dir = entry.is_dir()\n",
    "        except: is_entry_dir = False\n",
    "        if is_entry_dir:\n",
    "            \n",
    "            # Check if the current entry is the target folder\n",
    "            if entry.name == \"python3.11\": found_folders.append(os.path.join(directory, entry.name))\n",
    "            \n",
    "            # Recursively search subdirectories (except the target folder)\n",
    "            elif entry.name != \"python3.11\": found_folders.extend(find_python311_folders(os.path.join(directory, entry.name)))\n",
    "    \n",
    "    return found_folders\n",
    "\n",
    "# Start the search from the root directory\n",
    "python311_folders = find_python311_folders(root_dir)"
   ]
  },
  {
   "cell_type": "code",
   "execution_count": null,
   "metadata": {},
   "outputs": [],
   "source": [
    "\n",
    "# Print the found folders\n",
    "print(f\"Found python3.11 folders: {', '.join(python311_folders)}\")"
   ]
  },
  {
   "cell_type": "code",
   "execution_count": null,
   "metadata": {
    "tags": []
   },
   "outputs": [],
   "source": [
    "\n",
    "# Print out a section of the .gitignore\n",
    "black_list = ['.ipynb_checkpoints', '$Recycle.Bin', '.git']\n",
    "print()\n",
    "print('# exclude everything except personal directories')\n",
    "print('/*')\n",
    "print('!.gitignore')\n",
    "for sub_directory in os.listdir(nu.github_folder):\n",
    "    if all(map(lambda x: x not in sub_directory, black_list)) and osp.isdir(osp.join(nu.github_folder, sub_directory)): print(f'!/{sub_directory}')\n",
    "print('!README.md')"
   ]
  },
  {
   "cell_type": "code",
   "execution_count": null,
   "metadata": {},
   "outputs": [],
   "source": [
    "\n",
    "columns_set = set()\n",
    "for pickle_name in [fn.split('.')[0] for fn in os.listdir(s.saves_pickle_folder)]:\n",
    "    if pickle_name.endswith('_df'):\n",
    "        df = nu.load_object(pickle_name)\n",
    "        columns_set.update(df.columns[list(map(lambda x: ('year' in x) and (('begin' in x) or ('end' in x)), df.columns))])\n",
    "columns_set"
   ]
  },
  {
   "cell_type": "code",
   "execution_count": null,
   "metadata": {},
   "outputs": [],
   "source": [
    "\n",
    "# 'Intel64 Family 6 Model 60 Stepping 3, GenuineIntel'\n",
    "import platform\n",
    "\n",
    "platform.processor()"
   ]
  },
  {
   "cell_type": "code",
   "execution_count": null,
   "metadata": {},
   "outputs": [],
   "source": []
  }
 ],
 "metadata": {
  "kernelspec": {
   "display_name": "ITM Analysis Reporting (Python 3.11.7)",
   "language": "python",
   "name": "itm_analysis_reporting"
  },
  "language_info": {
   "codemirror_mode": {
    "name": "ipython",
    "version": 3
   },
   "file_extension": ".py",
   "mimetype": "text/x-python",
   "name": "python",
   "nbconvert_exporter": "python",
   "pygments_lexer": "ipython3",
   "version": "3.7.12"
  }
 },
 "nbformat": 4,
 "nbformat_minor": 4
}

{
 "cells": [
  {
   "cell_type": "code",
   "execution_count": 1,
   "metadata": {
    "tags": []
   },
   "outputs": [
    {
     "name": "stdout",
     "output_type": "stream",
     "text": [
      "Pretty printing has been turned OFF\n"
     ]
    }
   ],
   "source": [
    "\n",
    "# Set up notebook\n",
    "%pprint\n",
    "import sys\n",
    "if ('../py' not in sys.path): sys.path.insert(1, '../py')\n",
    "from FRVRS import nu, fu\n",
    "nu.delete_ipynb_checkpoint_folders()"
   ]
  },
  {
   "cell_type": "code",
   "execution_count": 2,
   "metadata": {},
   "outputs": [],
   "source": [
    "\n",
    "# load libraries\n",
    "from datetime import timedelta\n",
    "from pandas import DataFrame\n",
    "import humanize\n",
    "import matplotlib.pyplot as plt\n",
    "import numpy as np\n",
    "import os\n",
    "import os.path as osp\n",
    "import pandas as pd\n",
    "import re"
   ]
  },
  {
   "cell_type": "code",
   "execution_count": 3,
   "metadata": {},
   "outputs": [
    {
     "name": "stdout",
     "output_type": "stream",
     "text": [
      "['os.DirEntry', 'os.O_DIRECT', 'os.O_DIRECTORY', 'os.ST_NODIRATIME', 'os.chdir', 'os.curdir', 'os.fchdir', 'os.listdir', 'os.makedirs', 'os.mkdir', 'os.pardir', 'os.removedirs', 'os.rmdir', 'os.scandir', 'os.supports_dir_fd']\n",
      "['osp.curdir', 'osp.dirname', 'osp.isdir', 'osp.pardir']\n",
      "['nu.github_folder']\n"
     ]
    }
   ],
   "source": [
    "\n",
    "print([f'os.{fn}' for fn in dir(os) if 'dir' in fn.lower()])\n",
    "print([f'osp.{fn}' for fn in dir(osp) if 'dir' in fn.lower()])\n",
    "print([f'nu.{fn}' for fn in dir(nu) if 'github' in fn])"
   ]
  },
  {
   "cell_type": "code",
   "execution_count": 4,
   "metadata": {},
   "outputs": [
    {
     "name": "stdout",
     "output_type": "stream",
     "text": [
      "['os.__name__', 'os.confstr_names', 'os.name', 'os.pathconf_names', 'os.rename', 'os.renames', 'os.sysconf_names', 'os.ttyname', 'os.uname', 'os.uname_result']\n",
      "['osp.__name__', 'osp.basename', 'osp.dirname', 'osp.supports_unicode_filenames']\n",
      "['nu.get_filename_from_url']\n"
     ]
    }
   ],
   "source": [
    "\n",
    "print([f'os.{fn}' for fn in dir(os) if 'name' in fn.lower()])\n",
    "print([f'osp.{fn}' for fn in dir(osp) if 'name' in fn.lower()])\n",
    "print([f'nu.{fn}' for fn in dir(nu) if 'name' in fn])"
   ]
  },
  {
   "cell_type": "code",
   "execution_count": 5,
   "metadata": {},
   "outputs": [
    {
     "name": "stdout",
     "output_type": "stream",
     "text": [
      "../builders/Dataset Built for Metrics Evaluation Open World.ipynb\n",
      "../builders/File Stats Created for Metrics Evaluation Open World.ipynb\n",
      "../builders/Scene Stats Created for Metrics Evaluation Open World.ipynb\n",
      "../explorations/Analyze Metrics Evaluation Open World Patient Stats.ipynb\n",
      "../explorations/Metrics Evaluation Open World.ipynb\n",
      "../maintenance/Data Fixes for Metrics Evaluation Open World.ipynb\n",
      "../metrics/Correct SORT Order Metric for Metrics Evaluation Open World.ipynb\n"
     ]
    }
   ],
   "source": [
    "\n",
    "# Get the open world notebook names\n",
    "file_ending = '.ipynb'\n",
    "for sub_directory, directories_list, files_list in os.walk('../'):\n",
    "    for file_name in files_list:\n",
    "        if file_name.endswith(file_ending) and ('World' in file_name):\n",
    "            file_path = osp.join(sub_directory, file_name)\n",
    "            print(file_path)"
   ]
  },
  {
   "cell_type": "code",
   "execution_count": 12,
   "metadata": {},
   "outputs": [
    {
     "name": "stdout",
     "output_type": "stream",
     "text": [
      "\n",
      "\t02d472ac-f6fe-474c-815d-6125fadfcbf7_2024211\n",
      "\t04f80090-9e61-431d-8473-dccb75fed04d_2024207\n",
      "\t05e0be07-479a-4ea4-9b90-3fc7b79ef7ff_2024225\n",
      "\t0bc62b93-ac4d-40ef-bdfe-1d7badb24f70_2024208\n",
      "\t0e8693a1-1926-4d56-b0c4-ee2dc8181fc6_2024226\n",
      "\t1995e7ef-ef02-4fc1-b1ab-f137dbf69d48_2024217\n",
      "\t21f8cb5d-f5ac-4a01-9287-43df5f6751a1_2024219\n",
      "\t220b609b-0e35-454e-9afd-c84cbfa3e3ad_2024202\n",
      "\t23081f6e-875e-44f5-8bd0-edc3905f5c2c_2024201\n",
      "\t287389c4-4c48-4483-87c0-6b363b57bde2_2024220\n",
      "\t2e8f6555-a7fa-4b54-8132-c030d697b4ad_2024212\n",
      "\t37a554ee-fc49-4730-819c-2d97727bb0b7_2024218\n",
      "\t385032e9-9801-4dcf-a841-b3703a0d9acd_2024209\n",
      "\t3cf14e31-f416-4c78-8a69-91bf0c685448_2024215\n",
      "\t45365e18-6e38-48e7-b4a2-6b448b209034_2024218\n",
      "\t499179ba-3138-4bae-918e-ffc7fb943760_2024206\n",
      "\t4bc46c8c-66e7-463d-b3a1-2a8303af4fd1_2024203\n",
      "\t4de6e23f-3c00-49d9-bbac-3a9febab4311_2024222\n",
      "\t50b15e40-9860-4574-8ab8-0bd960fe27de_2024220\n",
      "\t5a909dc4-0f86-430d-a400-e37139cba69f_2024212\n",
      "\t5d8d73a3-1898-4f64-8676-73edd1b7daa0_2024211\n",
      "\t5d94f0d4-a1b1-4d18-8a62-591e196006a9_2024219\n",
      "\t6666ee6b-863b-49d1-8097-97e6aa4fb39d_2024221\n",
      "\t67dc0230-511d-41ac-ae9b-850900ab9e6a_2024208\n",
      "\t6a76af00-56ef-408f-a445-6f5168e090a8_2024221\n",
      "\t6db9446c-2cd4-41b4-be8d-be5ccbbc6e05_2024217\n",
      "\t703b9d0b-7786-4a4b-8a26-7c57d16b785a_2024226\n",
      "\t70eef02d-d2d0-458e-a8bb-f6511bf47a0c_2024223\n",
      "\t80f79d45-22fd-479d-b6e2-c62b5778e073_2024204\n",
      "\t84c92e21-764b-435b-9e55-0f12f60383fc_2024227\n",
      "\t8839e3b8-be5e-4878-8aaf-26c656ae2270_2024207\n",
      "\t8b6c4aed-0983-4a76-99fb-cec08dc26b92_2024224\n",
      "\t922ad146-241a-4ea6-8ff1-413d7e0d16ec_2024202\n",
      "\t9f3bb117-3a4b-4bc7-9237-e2d9920d5333_2024227\n",
      "\ta3a7727b-dd25-4e78-8d63-e66573f5077e_2024224\n",
      "\ta7ce6f7b-6466-4281-9496-92b640d9d04b_2024215\n",
      "\ta9c21d35-e8be-47fd-926a-a00dcd3e792b_2024225\n",
      "\tacf74a81-a534-44c7-9cb1-67ec381b5ee0_2024203\n",
      "\taecfcd56-2262-40a8-9bb8-088f57d46f3f_2024206\n",
      "\tb5989edc-8348-4b84-b649-87fc4f1cca53_2024209\n",
      "\tbccb0095-5efd-4c5c-ad58-8b8624f9ab56_2024201\n",
      "\tc6d3a90f-68c0-4948-bd96-537e80973605_2024216\n",
      "\tc99de80f-15cc-45cb-aa64-5af0f2f118ca_2024222\n",
      "\tc9a8dc60-f61d-44bb-bcb5-6e2466f3c9a0_2024223\n",
      "\tcbbf410f-4657-428e-9616-8a777cc4704d_2024204\n",
      "\td13091cc-98e4-4aba-8d02-7eca8bd1a30c_2024216\n",
      "\td2aaf0ef-a32f-4255-b3f5-56df927ae0b4_2024214\n",
      "\tddfb4e6e-f7c3-4321-89df-b6208f336318_2024205\n",
      "\tdf2fcf88-874b-4cf9-9707-3fa0b30c348f_2024205\n",
      "\tdfec642f-45c9-4813-91d8-3445d5ca763c_2024213\n",
      "\tfc676b00-9559-467d-adbb-696dd6e9fb08_2024213\n"
     ]
    }
   ],
   "source": [
    "\n",
    "logs_path = \"../data/logs/Metrics Evaluation Open World\"\n",
    "print()\n",
    "def display_tree(path, level=0, is_last=False, indent=\"- \", pipe=\"+- \", corner=\" \"):\n",
    "    \"\"\"\n",
    "    Displays directory tree structure with indentation and pipe characters.\n",
    "    \n",
    "    Parameters:\n",
    "        path: Path to the directory.\n",
    "        level: Current level of indentation (internal use).\n",
    "        is_last: Whether the current directory is the last child (internal use).\n",
    "        indent: Indentation string for folders except the last child (internal use).\n",
    "        pipe: Pipe character to connect parent and child directories (internal use).\n",
    "        corner: Corner character for the last child (internal use).\n",
    "    \"\"\"\n",
    "    subdirs = [os.path.join(path, d) for d in os.listdir(path) if os.path.isdir(os.path.join(path, d))]\n",
    "    for index, subdir in enumerate(subdirs):\n",
    "        print((corner if is_last else pipe) * level + indent + os.path.basename(subdir))\n",
    "        display_tree(subdir, level=level+1, is_last=(index==len(subdirs)-1), indent=indent, pipe=pipe, corner=corner)\n",
    "try: display_tree(logs_path, indent=\"\\t\", pipe=\"\\t\", corner=\" \")\n",
    "except FileNotFoundError: print(f\"Error: Path '{logs_path}' does not exist.\")"
   ]
  },
  {
   "cell_type": "code",
   "execution_count": 5,
   "metadata": {},
   "outputs": [],
   "source": [
    "\n",
    "# Remove the prefix from the metrics notebook names\n",
    "metrics_folder = '../metrics'\n",
    "for old_notebook_name in os.listdir(metrics_folder):\n",
    "    new_notebook_name = old_notebook_name.replace('Develop the ', '')\n",
    "    os.rename(osp.join(metrics_folder, old_notebook_name), osp.join(metrics_folder, new_notebook_name))"
   ]
  },
  {
   "cell_type": "code",
   "execution_count": 4,
   "metadata": {},
   "outputs": [
    {
     "data": {
      "text/plain": [
       "['Attic.ipynb', 'Installs.ipynb', 'OS Path Navigation.ipynb']"
      ]
     },
     "execution_count": 4,
     "metadata": {},
     "output_type": "execute_result"
    }
   ],
   "source": [
    "\n",
    "os.listdir(path=None)"
   ]
  },
  {
   "cell_type": "code",
   "execution_count": 31,
   "metadata": {},
   "outputs": [
    {
     "name": "stdout",
     "output_type": "stream",
     "text": [
      "['get_still_patients', 'get_dead_patients', 'get_patient_location', 'get_is_duplicate_file', 'get_triage_priority_data_frame', 'split_df_by_teleport', 'is_patient_still', 'get_player_location']\n"
     ]
    },
    {
     "data": {
      "text/html": [
       "<div>\n",
       "<style scoped>\n",
       "    .dataframe tbody tr th:only-of-type {\n",
       "        vertical-align: middle;\n",
       "    }\n",
       "\n",
       "    .dataframe tbody tr th {\n",
       "        vertical-align: top;\n",
       "    }\n",
       "\n",
       "    .dataframe thead th {\n",
       "        text-align: right;\n",
       "    }\n",
       "</style>\n",
       "<table border=\"1\" class=\"dataframe\">\n",
       "  <thead>\n",
       "    <tr style=\"text-align: right;\">\n",
       "      <th></th>\n",
       "      <th>use_count</th>\n",
       "    </tr>\n",
       "  </thead>\n",
       "  <tbody>\n",
       "    <tr>\n",
       "      <th>is_patient_gazed_at</th>\n",
       "      <td>1</td>\n",
       "    </tr>\n",
       "    <tr>\n",
       "      <th>get_tag_value</th>\n",
       "      <td>1</td>\n",
       "    </tr>\n",
       "    <tr>\n",
       "      <th>set_scene_indices</th>\n",
       "      <td>1</td>\n",
       "    </tr>\n",
       "    <tr>\n",
       "      <th>get_pulse_value</th>\n",
       "      <td>1</td>\n",
       "    </tr>\n",
       "    <tr>\n",
       "      <th>get_injury_correctly_treated_time</th>\n",
       "      <td>1</td>\n",
       "    </tr>\n",
       "    <tr>\n",
       "      <th>...</th>\n",
       "      <td>...</td>\n",
       "    </tr>\n",
       "    <tr>\n",
       "      <th>format_timedelta</th>\n",
       "      <td>26</td>\n",
       "    </tr>\n",
       "    <tr>\n",
       "      <th>get_scene_type</th>\n",
       "      <td>31</td>\n",
       "    </tr>\n",
       "    <tr>\n",
       "      <th>get_is_scene_aborted</th>\n",
       "      <td>33</td>\n",
       "    </tr>\n",
       "    <tr>\n",
       "      <th>get_logger_version</th>\n",
       "      <td>33</td>\n",
       "    </tr>\n",
       "    <tr>\n",
       "      <th>visualize_extreme_player_movement</th>\n",
       "      <td>35</td>\n",
       "    </tr>\n",
       "  </tbody>\n",
       "</table>\n",
       "<p>80 rows × 1 columns</p>\n",
       "</div>"
      ],
      "text/plain": [
       "                                   use_count\n",
       "is_patient_gazed_at                        1\n",
       "get_tag_value                              1\n",
       "set_scene_indices                          1\n",
       "get_pulse_value                            1\n",
       "get_injury_correctly_treated_time          1\n",
       "...                                      ...\n",
       "format_timedelta                          26\n",
       "get_scene_type                            31\n",
       "get_is_scene_aborted                      33\n",
       "get_logger_version                        33\n",
       "visualize_extreme_player_movement         35\n",
       "\n",
       "[80 rows x 1 columns]"
      ]
     },
     "execution_count": 31,
     "metadata": {},
     "output_type": "execute_result"
    }
   ],
   "source": [
    "\n",
    "# Find out which fu methods, if any, are not being used\n",
    "util_path = '../py/FRVRS/frvrs_utils.py'\n",
    "utils_set = nu.get_utility_file_functions(util_path=util_path).difference(set(['__init__']))\n",
    "ROGUE_FNS_DICT = {fn: 0 for fn in utils_set}\n",
    "def add2dict(file_path, fn_regex):\n",
    "    with open(file_path, 'r', encoding=nu.encoding_type) as f:\n",
    "        lines_list = f.readlines()\n",
    "        for line in lines_list:\n",
    "            match_obj = fn_regex.search(line)\n",
    "            if match_obj:\n",
    "                fn = match_obj.group(1)\n",
    "                ROGUE_FNS_DICT[fn] = ROGUE_FNS_DICT.get(fn, 0) + 1\n",
    "for sub_directory, directories_list, files_list in os.walk(nu.github_folder):\n",
    "    if all(map(lambda x: x not in sub_directory, ['.ipynb_checkpoints', '$Recycle.Bin'])):\n",
    "        for file_name in files_list:\n",
    "            if file_name.endswith('.ipynb') and not ('Attic' in file_name):\n",
    "                file_path = osp.join(sub_directory, file_name)\n",
    "                add2dict(file_path, re.compile(r'\\bfu\\.(' + '|'.join(utils_set) + r')\\('))\n",
    "add2dict(util_path, re.compile(r'\\bself\\.(' + '|'.join(utils_set) + r')\\('))\n",
    "df = DataFrame.from_dict(ROGUE_FNS_DICT, orient='index', columns=['use_count'])\n",
    "mask_series = (df.use_count == 0)\n",
    "print(df[mask_series].index.tolist())\n",
    "df[~mask_series].sort_values('use_count')"
   ]
  },
  {
   "cell_type": "code",
   "execution_count": null,
   "metadata": {},
   "outputs": [],
   "source": [
    "\n",
    "nu.open_path_in_notepad('~/anaconda3/lib/python3.11/calendar.py', verbose=True)"
   ]
  },
  {
   "cell_type": "code",
   "execution_count": null,
   "metadata": {},
   "outputs": [],
   "source": [
    "\n",
    "# Define the starting directory\n",
    "root_dir = '/'\n",
    "\n",
    "# Use a recursive function to search for matching folders\n",
    "def find_python311_folders(directory):\n",
    "    found_folders = []\n",
    "    try: entries_list = os.scandir(directory)\n",
    "    except: entries_list = []\n",
    "    for entry in entries_list:\n",
    "        try: is_entry_dir = entry.is_dir()\n",
    "        except: is_entry_dir = False\n",
    "        if is_entry_dir:\n",
    "            \n",
    "            # Check if the current entry is the target folder\n",
    "            if entry.name == \"python3.11\": found_folders.append(os.path.join(directory, entry.name))\n",
    "            \n",
    "            # Recursively search subdirectories (except the target folder)\n",
    "            elif entry.name != \"python3.11\": found_folders.extend(find_python311_folders(os.path.join(directory, entry.name)))\n",
    "    \n",
    "    return found_folders\n",
    "\n",
    "# Start the search from the root directory\n",
    "python311_folders = find_python311_folders(root_dir)"
   ]
  },
  {
   "cell_type": "code",
   "execution_count": null,
   "metadata": {},
   "outputs": [],
   "source": [
    "\n",
    "# Print the found folders\n",
    "print(f\"Found python3.11 folders: {', '.join(python311_folders)}\")"
   ]
  },
  {
   "cell_type": "code",
   "execution_count": null,
   "metadata": {
    "tags": []
   },
   "outputs": [],
   "source": [
    "\n",
    "# Print out a section of the .gitignore\n",
    "black_list = ['.ipynb_checkpoints', '$Recycle.Bin', '.git']\n",
    "print()\n",
    "print('# exclude everything except personal directories')\n",
    "print('/*')\n",
    "print('!.gitignore')\n",
    "for sub_directory in os.listdir(nu.github_folder):\n",
    "    if all(map(lambda x: x not in sub_directory, black_list)) and osp.isdir(osp.join(nu.github_folder, sub_directory)): print(f'!/{sub_directory}')\n",
    "print('!README.md')"
   ]
  },
  {
   "cell_type": "code",
   "execution_count": null,
   "metadata": {},
   "outputs": [],
   "source": [
    "\n",
    "columns_set = set()\n",
    "for pickle_name in [fn.split('.')[0] for fn in os.listdir(s.saves_pickle_folder)]:\n",
    "    if pickle_name.endswith('_df'):\n",
    "        df = nu.load_object(pickle_name)\n",
    "        columns_set.update(df.columns[list(map(lambda x: ('year' in x) and (('begin' in x) or ('end' in x)), df.columns))])\n",
    "columns_set"
   ]
  },
  {
   "cell_type": "code",
   "execution_count": null,
   "metadata": {},
   "outputs": [],
   "source": [
    "\n",
    "# 'Intel64 Family 6 Model 60 Stepping 3, GenuineIntel'\n",
    "import platform\n",
    "\n",
    "platform.processor()"
   ]
  },
  {
   "cell_type": "code",
   "execution_count": null,
   "metadata": {},
   "outputs": [],
   "source": []
  }
 ],
 "metadata": {
  "kernelspec": {
   "display_name": "ITM Analysis Reporting (Python 3.11.7)",
   "language": "python",
   "name": "itm_analysis_reporting"
  },
  "language_info": {
   "codemirror_mode": {
    "name": "ipython",
    "version": 3
   },
   "file_extension": ".py",
   "mimetype": "text/x-python",
   "name": "python",
   "nbconvert_exporter": "python",
   "pygments_lexer": "ipython3",
   "version": "3.7.12"
  }
 },
 "nbformat": 4,
 "nbformat_minor": 4
}

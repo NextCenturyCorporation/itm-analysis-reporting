{
 "cells": [
  {
   "cell_type": "code",
   "execution_count": 1,
   "metadata": {
    "tags": []
   },
   "outputs": [
    {
     "name": "stdout",
     "output_type": "stream",
     "text": [
      "Pretty printing has been turned OFF\n"
     ]
    }
   ],
   "source": [
    "\n",
    "# Set up notebook\n",
    "%pprint\n",
    "import sys\n",
    "if ('../py' not in sys.path): sys.path.insert(1, '../py')\n",
    "from FRVRS import (nu, fu, osp, DataFrame, np, re, listdir, read_excel, walk, notnull, isna, nan)\n",
    "nu.delete_ipynb_checkpoint_folders()"
   ]
  },
  {
   "cell_type": "code",
   "execution_count": 6,
   "metadata": {},
   "outputs": [],
   "source": [
    "\n",
    "functions_list = [\n",
    "    'CategoricalDtype', 'DataFrame', 'Index', 'NaT', 'Series', 'concat', 'csv', 'display', 'isna', 'isnan', 'listdir', 'makedirs',\n",
    "    'math', 'nan', 'notnull', 'np', 'osp', 'pickle', 're', 'read_csv', 'read_excel', 'read_pickle', 'remove', 'sep', 'sm', 'subprocess',\n",
    "    'sys', 'to_datetime', 'to_numeric', 'walk', 'warnings'\n",
    "]\n",
    "functions_regex = re.compile(r'\\b(' + '|'.join(functions_list) + r')\\b')\n",
    "match_obj = functions_regex.search('nan')"
   ]
  },
  {
   "cell_type": "code",
   "execution_count": 7,
   "metadata": {},
   "outputs": [
    {
     "data": {
      "text/plain": [
       "(False, True)"
      ]
     },
     "execution_count": 7,
     "metadata": {},
     "output_type": "execute_result"
    }
   ],
   "source": [
    "\n",
    "bool(None), bool(match_obj)"
   ]
  },
  {
   "cell_type": "code",
   "execution_count": 21,
   "metadata": {},
   "outputs": [
    {
     "name": "stdout",
     "output_type": "stream",
     "text": [
      "\n",
      "builders\n",
      "Ingest Jan24 TA3 Experiment Scenarios into a DataFrame.ipynb\n",
      "\n",
      "explorations\n",
      "Catsim Exploration.ipynb\n",
      "\n",
      "ipynb\n",
      "Installs.ipynb\n",
      "\n",
      "open_world\n",
      "OW Attic.ipynb\n",
      "Scratchpad.ipynb\n",
      "\n",
      "osu_research\n",
      "Recompute Visualizations for the SDMPH 2023 Poster.ipynb\n",
      "\n",
      "presentations\n",
      "Abstract Submission.ipynb\n",
      "Analyze Preliminary Research Questions.ipynb\n",
      "Downstream Provenance of the 389.ipynb\n",
      "FRVRS - Data and Analysis Presentation for ITM.ipynb\n",
      "How to Use the Data.ipynb\n",
      "Presentation Graveyard.ipynb\n",
      "\n",
      "tests\n",
      "Scratchpad.ipynb\n",
      "\n",
      "visualizations\n",
      "Compare SALT to Life Threats.ipynb\n",
      "Display DD 405 WHAT-explicit Action Sequences.ipynb\n",
      "Plot Grouped Box and Whiskers for Time to First Engagement.ipynb\n",
      "Plot Pie Charts for Tag to SALT Dataset.ipynb\n",
      "Plot Population with Venn Diagrams.ipynb\n",
      "Scratchpad.ipynb\n",
      "Visualize Elapsed Time Spent on Patient.ipynb\n",
      "Visualize every Patient Interaction.ipynb\n",
      "Visualize every Player Gaze.ipynb\n",
      "Visualize File Demographics.ipynb\n",
      "Visualize Ideal Engagement Order.ipynb\n",
      "Visualize Location Points.ipynb\n",
      "Visualize Non-cumulative Teleportation Events.ipynb\n",
      "Visualize Scene Stats.ipynb\n",
      "Visualize the Order of Responder Negotiations.ipynb\n"
     ]
    }
   ],
   "source": [
    "\n",
    "functions_list = [\n",
    "    'CategoricalDtype', 'DataFrame', 'Index', 'NaT', 'Series', 'concat', 'csv', 'display', 'isna', 'isnan', 'listdir', 'makedirs',\n",
    "    'math', 'nan', 'notnull', 'np', 'osp', 'pickle', 're', 'read_csv', 'read_excel', 'read_pickle', 'remove', 'sep', 'sm', 'subprocess',\n",
    "    'sys', 'to_datetime', 'to_numeric', 'walk', 'warnings'\n",
    "]\n",
    "functions_regex = re.compile(r'\\b(' + '|'.join(functions_list) + r')\\b')\n",
    "import_regex = re.compile(r'\"from FRVRS import \\(')\n",
    "for sub_directory, directories_list, files_list in walk(nu.github_folder):\n",
    "    todo_list = []\n",
    "    for file_name in files_list:\n",
    "        if file_name.endswith('.ipynb'):\n",
    "            file_path = osp.join(sub_directory, file_name)\n",
    "            with open(file_path, 'r', encoding=nu.encoding_type) as f:\n",
    "                text = f.read()\n",
    "                if (functions_regex.search(text) is not None) and (import_regex.search(text) is None):\n",
    "                    todo_list.append(file_name)\n",
    "    if todo_list:\n",
    "        print()\n",
    "        print(sub_directory.split('/')[-1])\n",
    "        print('\\n'.join(todo_list))"
   ]
  },
  {
   "cell_type": "code",
   "execution_count": 8,
   "metadata": {},
   "outputs": [
    {
     "data": {
      "text/plain": [
       "['__name__', '_financial_names', 'asfortranarray', 'binary_repr', 'concatenate', 'diagonal', 'fill_diagonal', 'format_float_positional', 'isnan', 'isnat', 'linalg', 'nan', 'nan_to_num', 'nanargmax', 'nanargmin', 'nancumprod', 'nancumsum', 'nanmax', 'nanmean', 'nanmedian', 'nanmin', 'nanpercentile', 'nanprod', 'nanquantile', 'nanstd', 'nansum', 'nanvar', 'typename']"
      ]
     },
     "execution_count": 8,
     "metadata": {},
     "output_type": "execute_result"
    }
   ],
   "source": [
    "\n",
    "[fn for fn in dir(np) if 'na' in fn]"
   ]
  },
  {
   "cell_type": "code",
   "execution_count": 15,
   "metadata": {},
   "outputs": [
    {
     "name": "stdout",
     "output_type": "stream",
     "text": [
      "\n",
      "scp dbabbitt@209.137.198.29:/datadrive/Research/hackathon/Anaconda3-2021.11-Linux-x86_64.sh C:\\Users\\DaveBabbitt\\Downloads\\Anaconda3-2021.11-Linux-x86_64.sh\n",
      "scp dbabbitt@209.137.198.29:/datadrive/Research/hackathon/cvat.notes C:\\Users\\DaveBabbitt\\Downloads\\cvat.notes\n",
      "scp dbabbitt@209.137.198.29:/datadrive/Research/hackathon/daveb.csv C:\\Users\\DaveBabbitt\\Downloads\\daveb.csv\n",
      "scp dbabbitt@209.137.198.29:/datadrive/Research/hackathon/fiftyone.yml C:\\Users\\DaveBabbitt\\Downloads\\fiftyone.yml\n",
      "scp dbabbitt@209.137.198.29:/datadrive/Research/hackathon/setup_env.txt C:\\Users\\DaveBabbitt\\Downloads\\setup_env.txt\n"
     ]
    }
   ],
   "source": [
    "\n",
    "print()\n",
    "for file_name in [\n",
    "    'Anaconda3-2021.11-Linux-x86_64.sh', 'cvat.notes', 'daveb.csv', 'fiftyone.yml', 'setup_env.txt'\n",
    "]:\n",
    "    print(f'scp dbabbitt@209.137.198.29:/datadrive/Research/hackathon/{file_name} C:\\\\Users\\\\DaveBabbitt\\\\Downloads\\\\{file_name}')"
   ]
  },
  {
   "cell_type": "code",
   "execution_count": 2,
   "metadata": {},
   "outputs": [],
   "source": [
    "\n",
    "# load libraries\n",
    "from datetime import timedelta\n",
    "import humanize\n",
    "import matplotlib.pyplot as plt\n",
    "import os\n",
    "import pandas as pd"
   ]
  },
  {
   "cell_type": "code",
   "execution_count": 3,
   "metadata": {},
   "outputs": [
    {
     "name": "stdout",
     "output_type": "stream",
     "text": [
      "['os.DirEntry', 'os.O_DIRECT', 'os.O_DIRECTORY', 'os.ST_NODIRATIME', 'os.chdir', 'os.curdir', 'os.fchdir', 'os.listdir', 'os.makedirs', 'os.mkdir', 'os.pardir', 'os.removedirs', 'os.rmdir', 'os.scandir', 'os.supports_dir_fd']\n",
      "['osp.curdir', 'osp.dirname', 'osp.isdir', 'osp.pardir']\n",
      "['nu.github_folder']\n"
     ]
    }
   ],
   "source": [
    "\n",
    "print([f'os.{fn}' for fn in dir(os) if 'dir' in fn.lower()])\n",
    "print([f'osp.{fn}' for fn in dir(osp) if 'dir' in fn.lower()])\n",
    "print([f'nu.{fn}' for fn in dir(nu) if 'github' in fn])"
   ]
  },
  {
   "cell_type": "code",
   "execution_count": 4,
   "metadata": {},
   "outputs": [
    {
     "name": "stdout",
     "output_type": "stream",
     "text": [
      "['os.__name__', 'os.confstr_names', 'os.name', 'os.pathconf_names', 'os.rename', 'os.renames', 'os.sysconf_names', 'os.ttyname', 'os.uname', 'os.uname_result']\n",
      "['osp.__name__', 'osp.basename', 'osp.dirname', 'osp.supports_unicode_filenames']\n",
      "['nu.get_filename_from_url']\n"
     ]
    }
   ],
   "source": [
    "\n",
    "print([f'os.{fn}' for fn in dir(os) if 'name' in fn.lower()])\n",
    "print([f'osp.{fn}' for fn in dir(osp) if 'name' in fn.lower()])\n",
    "print([f'nu.{fn}' for fn in dir(nu) if 'name' in fn])"
   ]
  },
  {
   "cell_type": "code",
   "execution_count": 5,
   "metadata": {},
   "outputs": [
    {
     "name": "stdout",
     "output_type": "stream",
     "text": [
      "/mnt/c/Users/DaveBabbitt/Documents/GitHub/itm-analysis-reporting/data/xlsx/Items_Logits_in_Winsteps_Format.xlsx\n"
     ]
    }
   ],
   "source": [
    "\n",
    "spreadsheets_folder = osp.join(nu.data_folder, 'xlsx')\n",
    "for file_name in listdir(spreadsheets_folder):\n",
    "    if file_name.endswith('.xlsx'):\n",
    "        file_path = osp.join(spreadsheets_folder, file_name)\n",
    "        df = read_excel(file_path)\n",
    "        if 'scene_id' in df.columns: print(file_path)"
   ]
  },
  {
   "cell_type": "code",
   "execution_count": null,
   "metadata": {
    "tags": []
   },
   "outputs": [],
   "source": [
    "\n",
    "# Print out a section of the .gitignore\n",
    "black_list = ['.ipynb_checkpoints', '$Recycle.Bin', '.git']\n",
    "print()\n",
    "print('# exclude everything except personal directories')\n",
    "print('/*')\n",
    "print('!.gitignore')\n",
    "for sub_directory in listdir(nu.github_folder):\n",
    "    if all(map(lambda x: x not in sub_directory, black_list)) and osp.isdir(osp.join(nu.github_folder, sub_directory)):\n",
    "        print(f'!/{sub_directory}')\n",
    "print('!README.md')"
   ]
  },
  {
   "cell_type": "code",
   "execution_count": null,
   "metadata": {},
   "outputs": [],
   "source": [
    "\n",
    "# 'Intel64 Family 6 Model 60 Stepping 3, GenuineIntel'\n",
    "import platform\n",
    "\n",
    "platform.processor()"
   ]
  },
  {
   "cell_type": "code",
   "execution_count": null,
   "metadata": {},
   "outputs": [],
   "source": []
  }
 ],
 "metadata": {
  "kernelspec": {
   "display_name": "ITM Analysis Reporting (Python 3.11.7)",
   "language": "python",
   "name": "itm_analysis_reporting"
  },
  "language_info": {
   "codemirror_mode": {
    "name": "ipython",
    "version": 3
   },
   "file_extension": ".py",
   "mimetype": "text/x-python",
   "name": "python",
   "nbconvert_exporter": "python",
   "pygments_lexer": "ipython3",
   "version": "3.7.12"
  }
 },
 "nbformat": 4,
 "nbformat_minor": 4
}

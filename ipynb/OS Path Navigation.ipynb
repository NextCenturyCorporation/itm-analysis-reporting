{
 "cells": [
  {
   "cell_type": "code",
   "execution_count": 1,
   "metadata": {
    "tags": []
   },
   "outputs": [
    {
     "name": "stdout",
     "output_type": "stream",
     "text": [
      "Pretty printing has been turned OFF\n"
     ]
    }
   ],
   "source": [
    "\n",
    "# Set up notebook\n",
    "%pprint\n",
    "import sys\n",
    "if ('../py' not in sys.path): sys.path.insert(1, '../py')\n",
    "from FRVRS import nu, fu\n",
    "nu.delete_ipynb_checkpoint_folders()"
   ]
  },
  {
   "cell_type": "code",
   "execution_count": 2,
   "metadata": {},
   "outputs": [],
   "source": [
    "\n",
    "# load libraries\n",
    "from datetime import timedelta\n",
    "from pandas import DataFrame\n",
    "import humanize\n",
    "import matplotlib.pyplot as plt\n",
    "import numpy as np\n",
    "import os\n",
    "import os.path as osp\n",
    "import pandas as pd\n",
    "import re"
   ]
  },
  {
   "cell_type": "code",
   "execution_count": 3,
   "metadata": {},
   "outputs": [
    {
     "name": "stdout",
     "output_type": "stream",
     "text": [
      "['os.DirEntry', 'os.O_DIRECT', 'os.O_DIRECTORY', 'os.ST_NODIRATIME', 'os.chdir', 'os.curdir', 'os.fchdir', 'os.listdir', 'os.makedirs', 'os.mkdir', 'os.pardir', 'os.removedirs', 'os.rmdir', 'os.scandir', 'os.supports_dir_fd']\n",
      "['osp.curdir', 'osp.dirname', 'osp.isdir', 'osp.pardir']\n",
      "['nu.github_folder']\n"
     ]
    }
   ],
   "source": [
    "\n",
    "print([f'os.{fn}' for fn in dir(os) if 'dir' in fn.lower()])\n",
    "print([f'osp.{fn}' for fn in dir(osp) if 'dir' in fn.lower()])\n",
    "print([f'nu.{fn}' for fn in dir(nu) if 'github' in fn])"
   ]
  },
  {
   "cell_type": "code",
   "execution_count": 4,
   "metadata": {},
   "outputs": [
    {
     "name": "stdout",
     "output_type": "stream",
     "text": [
      "['os.__name__', 'os.confstr_names', 'os.name', 'os.pathconf_names', 'os.rename', 'os.renames', 'os.sysconf_names', 'os.ttyname', 'os.uname', 'os.uname_result']\n",
      "['osp.__name__', 'osp.basename', 'osp.dirname', 'osp.supports_unicode_filenames']\n",
      "['nu.get_filename_from_url']\n"
     ]
    }
   ],
   "source": [
    "\n",
    "print([f'os.{fn}' for fn in dir(os) if 'name' in fn.lower()])\n",
    "print([f'osp.{fn}' for fn in dir(osp) if 'name' in fn.lower()])\n",
    "print([f'nu.{fn}' for fn in dir(nu) if 'name' in fn])"
   ]
  },
  {
   "cell_type": "code",
   "execution_count": 5,
   "metadata": {},
   "outputs": [],
   "source": [
    "\n",
    "# Remove the prefix from the metrics notebook names\n",
    "metrics_folder = '../metrics'\n",
    "for old_notebook_name in os.listdir(metrics_folder):\n",
    "    new_notebook_name = old_notebook_name.replace('Develop the ', '')\n",
    "    os.rename(osp.join(metrics_folder, old_notebook_name), osp.join(metrics_folder, new_notebook_name))"
   ]
  },
  {
   "cell_type": "code",
   "execution_count": 6,
   "metadata": {},
   "outputs": [
    {
     "name": "stdout",
     "output_type": "stream",
     "text": [
      "../builders/Dataset Built for Metrics Evaluation Open World.ipynb\n",
      "../builders/File Stats Created for Metrics Evaluation Open World.ipynb\n",
      "../builders/Scene Stats Created for Metrics Evaluation Open World.ipynb\n",
      "../explorations/Analyze Metrics Evaluation Open World Patient Stats.ipynb\n",
      "../explorations/Metrics Evaluation Open World.ipynb\n",
      "../maintenance/Data Fixes for Metrics Evaluation Open World.ipynb\n"
     ]
    }
   ],
   "source": [
    "\n",
    "# Get the metrics from the notebook names\n",
    "file_ending = '.ipynb'\n",
    "filename_regex = re.compile(r'First World')\n",
    "for sub_directory, directories_list, files_list in os.walk('../'):\n",
    "    for file_name in files_list:\n",
    "        if file_name.endswith(file_ending) and ('World'  in file_name):\n",
    "            file_path = osp.join(sub_directory, file_name)\n",
    "            print(file_path)"
   ]
  },
  {
   "cell_type": "code",
   "execution_count": 4,
   "metadata": {},
   "outputs": [
    {
     "data": {
      "text/plain": [
       "['Attic.ipynb', 'Installs.ipynb', 'OS Path Navigation.ipynb']"
      ]
     },
     "execution_count": 4,
     "metadata": {},
     "output_type": "execute_result"
    }
   ],
   "source": [
    "\n",
    "os.listdir(path=None)"
   ]
  },
  {
   "cell_type": "code",
   "execution_count": 31,
   "metadata": {},
   "outputs": [
    {
     "name": "stdout",
     "output_type": "stream",
     "text": [
      "['get_still_patients', 'get_dead_patients', 'get_patient_location', 'get_is_duplicate_file', 'get_triage_priority_data_frame', 'split_df_by_teleport', 'is_patient_still', 'get_player_location']\n"
     ]
    },
    {
     "data": {
      "text/html": [
       "<div>\n",
       "<style scoped>\n",
       "    .dataframe tbody tr th:only-of-type {\n",
       "        vertical-align: middle;\n",
       "    }\n",
       "\n",
       "    .dataframe tbody tr th {\n",
       "        vertical-align: top;\n",
       "    }\n",
       "\n",
       "    .dataframe thead th {\n",
       "        text-align: right;\n",
       "    }\n",
       "</style>\n",
       "<table border=\"1\" class=\"dataframe\">\n",
       "  <thead>\n",
       "    <tr style=\"text-align: right;\">\n",
       "      <th></th>\n",
       "      <th>use_count</th>\n",
       "    </tr>\n",
       "  </thead>\n",
       "  <tbody>\n",
       "    <tr>\n",
       "      <th>is_patient_gazed_at</th>\n",
       "      <td>1</td>\n",
       "    </tr>\n",
       "    <tr>\n",
       "      <th>get_tag_value</th>\n",
       "      <td>1</td>\n",
       "    </tr>\n",
       "    <tr>\n",
       "      <th>set_scene_indices</th>\n",
       "      <td>1</td>\n",
       "    </tr>\n",
       "    <tr>\n",
       "      <th>get_pulse_value</th>\n",
       "      <td>1</td>\n",
       "    </tr>\n",
       "    <tr>\n",
       "      <th>get_injury_correctly_treated_time</th>\n",
       "      <td>1</td>\n",
       "    </tr>\n",
       "    <tr>\n",
       "      <th>...</th>\n",
       "      <td>...</td>\n",
       "    </tr>\n",
       "    <tr>\n",
       "      <th>format_timedelta</th>\n",
       "      <td>26</td>\n",
       "    </tr>\n",
       "    <tr>\n",
       "      <th>get_scene_type</th>\n",
       "      <td>31</td>\n",
       "    </tr>\n",
       "    <tr>\n",
       "      <th>get_is_scene_aborted</th>\n",
       "      <td>33</td>\n",
       "    </tr>\n",
       "    <tr>\n",
       "      <th>get_logger_version</th>\n",
       "      <td>33</td>\n",
       "    </tr>\n",
       "    <tr>\n",
       "      <th>visualize_extreme_player_movement</th>\n",
       "      <td>35</td>\n",
       "    </tr>\n",
       "  </tbody>\n",
       "</table>\n",
       "<p>80 rows × 1 columns</p>\n",
       "</div>"
      ],
      "text/plain": [
       "                                   use_count\n",
       "is_patient_gazed_at                        1\n",
       "get_tag_value                              1\n",
       "set_scene_indices                          1\n",
       "get_pulse_value                            1\n",
       "get_injury_correctly_treated_time          1\n",
       "...                                      ...\n",
       "format_timedelta                          26\n",
       "get_scene_type                            31\n",
       "get_is_scene_aborted                      33\n",
       "get_logger_version                        33\n",
       "visualize_extreme_player_movement         35\n",
       "\n",
       "[80 rows x 1 columns]"
      ]
     },
     "execution_count": 31,
     "metadata": {},
     "output_type": "execute_result"
    }
   ],
   "source": [
    "\n",
    "# Find out which fu methods, if any, are not being used\n",
    "util_path = '../py/FRVRS/frvrs_utils.py'\n",
    "utils_set = nu.get_utility_file_functions(util_path=util_path).difference(set(['__init__']))\n",
    "ROGUE_FNS_DICT = {fn: 0 for fn in utils_set}\n",
    "def add2dict(file_path, fn_regex):\n",
    "    with open(file_path, 'r', encoding=nu.encoding_type) as f:\n",
    "        lines_list = f.readlines()\n",
    "        for line in lines_list:\n",
    "            match_obj = fn_regex.search(line)\n",
    "            if match_obj:\n",
    "                fn = match_obj.group(1)\n",
    "                ROGUE_FNS_DICT[fn] = ROGUE_FNS_DICT.get(fn, 0) + 1\n",
    "for sub_directory, directories_list, files_list in os.walk(nu.github_folder):\n",
    "    if all(map(lambda x: x not in sub_directory, ['.ipynb_checkpoints', '$Recycle.Bin'])):\n",
    "        for file_name in files_list:\n",
    "            if file_name.endswith('.ipynb') and not ('Attic' in file_name):\n",
    "                file_path = osp.join(sub_directory, file_name)\n",
    "                add2dict(file_path, re.compile(r'\\bfu\\.(' + '|'.join(utils_set) + r')\\('))\n",
    "add2dict(util_path, re.compile(r'\\bself\\.(' + '|'.join(utils_set) + r')\\('))\n",
    "df = DataFrame.from_dict(ROGUE_FNS_DICT, orient='index', columns=['use_count'])\n",
    "mask_series = (df.use_count == 0)\n",
    "print(df[mask_series].index.tolist())\n",
    "df[~mask_series].sort_values('use_count')"
   ]
  },
  {
   "cell_type": "code",
   "execution_count": null,
   "metadata": {},
   "outputs": [],
   "source": [
    "\n",
    "nu.open_path_in_notepad('~/anaconda3/lib/python3.11/calendar.py', verbose=True)"
   ]
  },
  {
   "cell_type": "code",
   "execution_count": null,
   "metadata": {},
   "outputs": [],
   "source": [
    "\n",
    "# Define the starting directory\n",
    "root_dir = '/'\n",
    "\n",
    "# Use a recursive function to search for matching folders\n",
    "def find_python311_folders(directory):\n",
    "    found_folders = []\n",
    "    try: entries_list = os.scandir(directory)\n",
    "    except: entries_list = []\n",
    "    for entry in entries_list:\n",
    "        try: is_entry_dir = entry.is_dir()\n",
    "        except: is_entry_dir = False\n",
    "        if is_entry_dir:\n",
    "            \n",
    "            # Check if the current entry is the target folder\n",
    "            if entry.name == \"python3.11\": found_folders.append(os.path.join(directory, entry.name))\n",
    "            \n",
    "            # Recursively search subdirectories (except the target folder)\n",
    "            elif entry.name != \"python3.11\": found_folders.extend(find_python311_folders(os.path.join(directory, entry.name)))\n",
    "    \n",
    "    return found_folders\n",
    "\n",
    "# Start the search from the root directory\n",
    "python311_folders = find_python311_folders(root_dir)"
   ]
  },
  {
   "cell_type": "code",
   "execution_count": null,
   "metadata": {},
   "outputs": [],
   "source": [
    "\n",
    "# Print the found folders\n",
    "print(f\"Found python3.11 folders: {', '.join(python311_folders)}\")"
   ]
  },
  {
   "cell_type": "code",
   "execution_count": null,
   "metadata": {
    "tags": []
   },
   "outputs": [],
   "source": [
    "\n",
    "# Print out a section of the .gitignore\n",
    "black_list = ['.ipynb_checkpoints', '$Recycle.Bin', '.git']\n",
    "print()\n",
    "print('# exclude everything except personal directories')\n",
    "print('/*')\n",
    "print('!.gitignore')\n",
    "for sub_directory in os.listdir(nu.github_folder):\n",
    "    if all(map(lambda x: x not in sub_directory, black_list)) and osp.isdir(osp.join(nu.github_folder, sub_directory)): print(f'!/{sub_directory}')\n",
    "print('!README.md')"
   ]
  },
  {
   "cell_type": "code",
   "execution_count": null,
   "metadata": {},
   "outputs": [],
   "source": [
    "\n",
    "columns_set = set()\n",
    "for pickle_name in [fn.split('.')[0] for fn in os.listdir(s.saves_pickle_folder)]:\n",
    "    if pickle_name.endswith('_df'):\n",
    "        df = nu.load_object(pickle_name)\n",
    "        columns_set.update(df.columns[list(map(lambda x: ('year' in x) and (('begin' in x) or ('end' in x)), df.columns))])\n",
    "columns_set"
   ]
  },
  {
   "cell_type": "code",
   "execution_count": null,
   "metadata": {},
   "outputs": [],
   "source": [
    "\n",
    "# 'Intel64 Family 6 Model 60 Stepping 3, GenuineIntel'\n",
    "import platform\n",
    "\n",
    "platform.processor()"
   ]
  },
  {
   "cell_type": "code",
   "execution_count": null,
   "metadata": {},
   "outputs": [],
   "source": []
  }
 ],
 "metadata": {
  "kernelspec": {
   "display_name": "ITM Analysis Reporting (Python 3.11.7)",
   "language": "python",
   "name": "itm_analysis_reporting"
  },
  "language_info": {
   "codemirror_mode": {
    "name": "ipython",
    "version": 3
   },
   "file_extension": ".py",
   "mimetype": "text/x-python",
   "name": "python",
   "nbconvert_exporter": "python",
   "pygments_lexer": "ipython3",
   "version": "3.7.12"
  }
 },
 "nbformat": 4,
 "nbformat_minor": 4
}

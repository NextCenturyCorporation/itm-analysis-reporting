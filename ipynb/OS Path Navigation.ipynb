{
 "cells": [
  {
   "cell_type": "code",
   "execution_count": 10,
   "metadata": {
    "tags": []
   },
   "outputs": [
    {
     "name": "stdout",
     "output_type": "stream",
     "text": [
      "Pretty printing has been turned ON\n"
     ]
    }
   ],
   "source": [
    "\n",
    "# Set up notebook\n",
    "%pprint\n",
    "import sys\n",
    "if ('../py' not in sys.path): sys.path.insert(1, '../py')\n",
    "from FRVRS import nu, fu\n",
    "nu.delete_ipynb_checkpoint_folders()"
   ]
  },
  {
   "cell_type": "code",
   "execution_count": 2,
   "metadata": {},
   "outputs": [],
   "source": [
    "\n",
    "# load libraries\n",
    "from datetime import timedelta\n",
    "from pandas import DataFrame\n",
    "import humanize\n",
    "import matplotlib.pyplot as plt\n",
    "import numpy as np\n",
    "import os\n",
    "import os.path as osp\n",
    "import pandas as pd\n",
    "import re"
   ]
  },
  {
   "cell_type": "code",
   "execution_count": 3,
   "metadata": {},
   "outputs": [
    {
     "name": "stdout",
     "output_type": "stream",
     "text": [
      "['os.DirEntry', 'os.O_DIRECT', 'os.O_DIRECTORY', 'os.ST_NODIRATIME', 'os.chdir', 'os.curdir', 'os.fchdir', 'os.listdir', 'os.makedirs', 'os.mkdir', 'os.pardir', 'os.removedirs', 'os.rmdir', 'os.scandir', 'os.supports_dir_fd']\n",
      "['osp.curdir', 'osp.dirname', 'osp.isdir', 'osp.pardir']\n",
      "['nu.github_folder']\n"
     ]
    }
   ],
   "source": [
    "\n",
    "print([f'os.{fn}' for fn in dir(os) if 'dir' in fn.lower()])\n",
    "print([f'osp.{fn}' for fn in dir(osp) if 'dir' in fn.lower()])\n",
    "print([f'nu.{fn}' for fn in dir(nu) if 'github' in fn])"
   ]
  },
  {
   "cell_type": "code",
   "execution_count": 4,
   "metadata": {},
   "outputs": [
    {
     "name": "stdout",
     "output_type": "stream",
     "text": [
      "['os.__name__', 'os.confstr_names', 'os.name', 'os.pathconf_names', 'os.rename', 'os.renames', 'os.sysconf_names', 'os.ttyname', 'os.uname', 'os.uname_result']\n",
      "['osp.__name__', 'osp.basename', 'osp.dirname', 'osp.supports_unicode_filenames']\n",
      "['nu.get_filename_from_url']\n"
     ]
    }
   ],
   "source": [
    "\n",
    "print([f'os.{fn}' for fn in dir(os) if 'name' in fn.lower()])\n",
    "print([f'osp.{fn}' for fn in dir(osp) if 'name' in fn.lower()])\n",
    "print([f'nu.{fn}' for fn in dir(nu) if 'name' in fn])"
   ]
  },
  {
   "cell_type": "code",
   "execution_count": 19,
   "metadata": {},
   "outputs": [
    {
     "name": "stdout",
     "output_type": "stream",
     "text": [
      "issubset True\n",
      "issuperset False\n"
     ]
    }
   ],
   "source": [
    "\n",
    "ta1_uuids_list = [\n",
    "    '05e0be07-479a-4ea4-9b90-3fc7b79ef7ff', '0e8693a1-1926-4d56-b0c4-ee2dc8181fc6', '703b9d0b-7786-4a4b-8a26-7c57d16b785a', '84c92e21-764b-435b-9e55-0f12f60383fc',\n",
    "    '8b6c4aed-0983-4a76-99fb-cec08dc26b92', '9f3bb117-3a4b-4bc7-9237-e2d9920d5333', 'a3a7727b-dd25-4e78-8d63-e66573f5077e', 'a9c21d35-e8be-47fd-926a-a00dcd3e792b'\n",
    "]\n",
    "print('issubset', set(ta1_uuids_list).issubset(set(all_uuids_list)))\n",
    "print('issuperset', set(ta1_uuids_list).issuperset(set(all_uuids_list)))"
   ]
  },
  {
   "cell_type": "code",
   "execution_count": 5,
   "metadata": {},
   "outputs": [
    {
     "name": "stdout",
     "output_type": "stream",
     "text": [
      "/mnt/c/Users/DaveBabbitt/Documents/GitHub/itm-analysis-reporting/data/xlsx/Items_Logits_in_Winsteps_Format.xlsx\n"
     ]
    }
   ],
   "source": [
    "\n",
    "spreadsheets_folder = osp.join(nu.data_folder, 'xlsx')\n",
    "for file_name in os.listdir(spreadsheets_folder):\n",
    "    if file_name.endswith('.xlsx'):\n",
    "        file_path = osp.join(spreadsheets_folder, file_name)\n",
    "        df = pd.read_excel(file_path)\n",
    "        if 'scene_id' in df.columns: print(file_path)"
   ]
  },
  {
   "cell_type": "code",
   "execution_count": 16,
   "metadata": {},
   "outputs": [
    {
     "name": "stdout",
     "output_type": "stream",
     "text": [
      "\n",
      "open_world\n",
      "Analyze OW Patient Stats.ipynb\n",
      "Correct SORT Order Metric for Metrics Evaluation Open World.ipynb\n",
      "Data Fixes for Metrics Evaluation Open World.ipynb\n",
      "Dataset Built for Metrics Evaluation Open World.ipynb\n",
      "Examine Freeform Open World ADM JSON Files.ipynb\n",
      "Exploratory Analysis of Open World ITM Data.ipynb\n",
      "Explore OW Participants and Scenes.ipynb\n",
      "File Stats Created for Metrics Evaluation Open World.ipynb\n",
      "Scene Stats Created for Metrics Evaluation Open World.ipynb\n"
     ]
    }
   ],
   "source": [
    "\n",
    "for sub_directory, directories_list, files_list in os.walk(nu.github_folder):\n",
    "    file_names_list = []\n",
    "    for file_name in files_list:\n",
    "        if file_name.endswith('.ipynb') and re.search(r'(\\bOW\\b|Open(_|%20| )World)', file_name):\n",
    "            file_names_list.append(file_name)\n",
    "    if file_names_list:\n",
    "        print()\n",
    "        print(sub_directory.split('/')[-1])\n",
    "        print('\\n'.join(file_names_list))"
   ]
  },
  {
   "cell_type": "code",
   "execution_count": null,
   "metadata": {
    "tags": []
   },
   "outputs": [],
   "source": [
    "\n",
    "# Print out a section of the .gitignore\n",
    "black_list = ['.ipynb_checkpoints', '$Recycle.Bin', '.git']\n",
    "print()\n",
    "print('# exclude everything except personal directories')\n",
    "print('/*')\n",
    "print('!.gitignore')\n",
    "for sub_directory in os.listdir(nu.github_folder):\n",
    "    if all(map(lambda x: x not in sub_directory, black_list)) and osp.isdir(osp.join(nu.github_folder, sub_directory)): print(f'!/{sub_directory}')\n",
    "print('!README.md')"
   ]
  },
  {
   "cell_type": "code",
   "execution_count": null,
   "metadata": {},
   "outputs": [],
   "source": [
    "\n",
    "# 'Intel64 Family 6 Model 60 Stepping 3, GenuineIntel'\n",
    "import platform\n",
    "\n",
    "platform.processor()"
   ]
  },
  {
   "cell_type": "code",
   "execution_count": null,
   "metadata": {},
   "outputs": [],
   "source": []
  }
 ],
 "metadata": {
  "kernelspec": {
   "display_name": "ITM Analysis Reporting (Python 3.11.7)",
   "language": "python",
   "name": "itm_analysis_reporting"
  },
  "language_info": {
   "codemirror_mode": {
    "name": "ipython",
    "version": 3
   },
   "file_extension": ".py",
   "mimetype": "text/x-python",
   "name": "python",
   "nbconvert_exporter": "python",
   "pygments_lexer": "ipython3",
   "version": "3.7.12"
  }
 },
 "nbformat": 4,
 "nbformat_minor": 4
}

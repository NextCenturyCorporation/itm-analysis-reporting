{
 "cells": [
  {
   "cell_type": "code",
   "execution_count": 1,
   "metadata": {
    "id": "Xb8JzYWZB1T_"
   },
   "outputs": [],
   "source": [
    "\n",
    "import os\n",
    "import sys"
   ]
  },
  {
   "cell_type": "code",
   "execution_count": 21,
   "metadata": {},
   "outputs": [],
   "source": [
    "\n",
    "mask_series = frvrs_logs_df.voice_command_command_description.isnull() & frvrs_logs_df.voice_capture_message.isnull()\n",
    "df = frvrs_logs_df[~mask_series]\n",
    "# df.sample(min(4, frvrs_logs_df[mask_series].shape[0])).dropna(axis='columns', how='all').T\n",
    "# df.voice_command_command_description.unique().tolist()"
   ]
  },
  {
   "cell_type": "code",
   "execution_count": 18,
   "metadata": {},
   "outputs": [
    {
     "data": {
      "text/html": [
       "<div>\n",
       "<style scoped>\n",
       "    .dataframe tbody tr th:only-of-type {\n",
       "        vertical-align: middle;\n",
       "    }\n",
       "\n",
       "    .dataframe tbody tr th {\n",
       "        vertical-align: top;\n",
       "    }\n",
       "\n",
       "    .dataframe thead th {\n",
       "        text-align: right;\n",
       "    }\n",
       "</style>\n",
       "<table border=\"1\" class=\"dataframe\">\n",
       "  <thead>\n",
       "    <tr style=\"text-align: right;\">\n",
       "      <th></th>\n",
       "      <th>20287</th>\n",
       "    </tr>\n",
       "  </thead>\n",
       "  <tbody>\n",
       "    <tr>\n",
       "      <th>action_type</th>\n",
       "      <td>VOICE_CAPTURE</td>\n",
       "    </tr>\n",
       "    <tr>\n",
       "      <th>elapsed_time</th>\n",
       "      <td>5163490</td>\n",
       "    </tr>\n",
       "    <tr>\n",
       "      <th>event_time</th>\n",
       "      <td>2023-05-16 17:41:00</td>\n",
       "    </tr>\n",
       "    <tr>\n",
       "      <th>session_uuid</th>\n",
       "      <td>724fdf45-3165-43b8-b9ca-dc07102d2886</td>\n",
       "    </tr>\n",
       "    <tr>\n",
       "      <th>file_name</th>\n",
       "      <td>724fdf45-3165-43b8-b9ca-dc07102d2886</td>\n",
       "    </tr>\n",
       "    <tr>\n",
       "      <th>logger_version</th>\n",
       "      <td>1.0</td>\n",
       "    </tr>\n",
       "    <tr>\n",
       "      <th>time_group</th>\n",
       "      <td>13</td>\n",
       "    </tr>\n",
       "    <tr>\n",
       "      <th>voice_capture_message</th>\n",
       "      <td>Jocelyn can you take a picture for Hannah</td>\n",
       "    </tr>\n",
       "  </tbody>\n",
       "</table>\n",
       "</div>"
      ],
      "text/plain": [
       "                                                           20287\n",
       "action_type                                        VOICE_CAPTURE\n",
       "elapsed_time                                             5163490\n",
       "event_time                                   2023-05-16 17:41:00\n",
       "session_uuid                724fdf45-3165-43b8-b9ca-dc07102d2886\n",
       "file_name                   724fdf45-3165-43b8-b9ca-dc07102d2886\n",
       "logger_version                                               1.0\n",
       "time_group                                                    13\n",
       "voice_capture_message  Jocelyn can you take a picture for Hannah"
      ]
     },
     "execution_count": 18,
     "metadata": {},
     "output_type": "execute_result"
    }
   ],
   "source": [
    "\n",
    "mask_series = (frvrs_logs_df.voice_command_command_description == 'Jocelyn can you take a picture for Hannah')\n",
    "mask_series |= (frvrs_logs_df.voice_capture_message == 'Jocelyn can you take a picture for Hannah')\n",
    "df = frvrs_logs_df[mask_series]\n",
    "df.sample(min(4, frvrs_logs_df[mask_series].shape[0])).dropna(axis='columns', how='all').T"
   ]
  },
  {
   "cell_type": "code",
   "execution_count": 2,
   "metadata": {
    "colab": {
     "base_uri": "https://localhost:8080/"
    },
    "id": "yTiGvN6iDNmt",
    "outputId": "6d3fca47-0b5a-46ea-d4f6-0d49d0445168"
   },
   "outputs": [
    {
     "name": "stdout",
     "output_type": "stream",
     "text": [
      "C:\\Users\\DaveBabbitt\\Documents\\GitHub\\notebooks\\nb_env\\python.exe -m pip install pip --upgrade\n",
      "Requirement already satisfied: pip in c:\\users\\davebabbitt\\documents\\github\\notebooks\\nb_env\\lib\\site-packages (22.3.1)\n",
      "Collecting pip\n",
      "  Downloading pip-23.1.2-py3-none-any.whl (2.1 MB)\n",
      "     ---------------------------------------- 2.1/2.1 MB 5.0 MB/s eta 0:00:00\n",
      "Installing collected packages: pip\n",
      "  Attempting uninstall: pip\n",
      "    Found existing installation: pip 22.3.1\n",
      "    Uninstalling pip-22.3.1:\n",
      "      Successfully uninstalled pip-22.3.1\n",
      "Successfully installed pip-23.1.2\n"
     ]
    }
   ],
   "source": [
    "\n",
    "command_str = f'{sys.executable} -m pip install pip --upgrade'\n",
    "print(command_str)\n",
    "!{command_str}"
   ]
  },
  {
   "cell_type": "code",
   "execution_count": 4,
   "metadata": {
    "colab": {
     "base_uri": "https://localhost:8080/"
    },
    "id": "H4WmwkAYDQzx",
    "outputId": "dc01dbb2-5553-429d-c517-af6f0484353b"
   },
   "outputs": [
    {
     "name": "stdout",
     "output_type": "stream",
     "text": [
      "C:\\Users\\DaveBabbitt\\Documents\\GitHub\\notebooks\\nb_env\\python.exe -m pip install SpeechRecognition --upgrade --quiet\n"
     ]
    }
   ],
   "source": [
    "\n",
    "command_str = f'{sys.executable} -m pip install SpeechRecognition --upgrade --quiet'\n",
    "print(command_str)\n",
    "!{command_str}"
   ]
  },
  {
   "cell_type": "code",
   "execution_count": 5,
   "metadata": {
    "colab": {
     "base_uri": "https://localhost:8080/",
     "height": 36
    },
    "id": "D0m4psGcEFl4",
    "outputId": "45e69376-c860-4d2a-e349-ed69135f94bd"
   },
   "outputs": [
    {
     "data": {
      "text/plain": [
       "'Windows'"
      ]
     },
     "execution_count": 5,
     "metadata": {},
     "output_type": "execute_result"
    }
   ],
   "source": [
    "\n",
    "import platform\n",
    "\n",
    "platform.system()"
   ]
  },
  {
   "cell_type": "code",
   "execution_count": 6,
   "metadata": {
    "colab": {
     "base_uri": "https://localhost:8080/",
     "height": 36
    },
    "id": "hK78YiPoEfzJ",
    "outputId": "045d7f75-49e5-4398-d495-3c2c447f6d80"
   },
   "outputs": [
    {
     "data": {
      "text/plain": [
       "'3.9.16'"
      ]
     },
     "execution_count": 6,
     "metadata": {},
     "output_type": "execute_result"
    }
   ],
   "source": [
    "\n",
    "platform.python_version()"
   ]
  },
  {
   "cell_type": "code",
   "execution_count": 7,
   "metadata": {
    "colab": {
     "base_uri": "https://localhost:8080/"
    },
    "id": "H4WmwkAYDQzx",
    "outputId": "dc01dbb2-5553-429d-c517-af6f0484353b"
   },
   "outputs": [
    {
     "name": "stdout",
     "output_type": "stream",
     "text": [
      "C:\\Users\\DaveBabbitt\\Documents\\GitHub\\notebooks\\nb_env\\python.exe -m pip install pyaudio --upgrade --quiet\n"
     ]
    }
   ],
   "source": [
    "\n",
    "command_str = f'{sys.executable} -m pip install pyaudio --upgrade --quiet'\n",
    "print(command_str)\n",
    "!{command_str}"
   ]
  },
  {
   "cell_type": "code",
   "execution_count": 11,
   "metadata": {
    "colab": {
     "base_uri": "https://localhost:8080/"
    },
    "id": "yY5A5DRjL3bO",
    "outputId": "2390d363-859f-4163-cc07-4f24f296d975"
   },
   "outputs": [
    {
     "name": "stdout",
     "output_type": "stream",
     "text": [
      "\"C:\\Program Files (x86)\\sox-14-4-2\\sox.exe\" --info C:\\Users\\DaveBabbitt\\Documents\\GitHub\\notebooks\\data\\wav\\Harvard_list_01.wav\n",
      "\n",
      "Input File     : 'C:\\Users\\DaveBabbitt\\Documents\\GitHub\\notebooks\\data\\wav\\Harvard_list_01.wav'\n",
      "Channels       : 1\n",
      "Sample Rate    : 48000\n",
      "Precision      : 25-bit\n",
      "Duration       : 00:01:07.67 = 3248128 samples ~ 5075.2 CDDA sectors\n",
      "File Size      : 13.0M\n",
      "Bit Rate       : 1.54M\n",
      "Sample Encoding: 32-bit Floating Point PCM\n",
      "\n"
     ]
    }
   ],
   "source": [
    "\n",
    "audio_file_path = os.path.abspath('../data/wav/Harvard_list_01.wav')\n",
    "command_str = f'\"C:\\Program Files (x86)\\sox-14-4-2\\sox.exe\" --info {audio_file_path}'\n",
    "print(command_str)\n",
    "!{command_str}"
   ]
  },
  {
   "cell_type": "code",
   "execution_count": 10,
   "metadata": {
    "colab": {
     "base_uri": "https://localhost:8080/"
    },
    "id": "ca0y4VUsO5NP",
    "outputId": "4287bf61-5667-4bc8-de34-78908652ce72"
   },
   "outputs": [
    {
     "name": "stdout",
     "output_type": "stream",
     "text": [
      "C:\\Users\\DaveBabbitt\\Documents\\GitHub\\notebooks\\nb_env\\python.exe -m pip install soundfile --upgrade --quiet\n"
     ]
    }
   ],
   "source": [
    "\n",
    "command_str = f'{sys.executable} -m pip install soundfile --upgrade --quiet'\n",
    "print(command_str)\n",
    "!{command_str}"
   ]
  },
  {
   "cell_type": "code",
   "execution_count": 12,
   "metadata": {
    "id": "wIwo8_FnNHe9"
   },
   "outputs": [],
   "source": [
    "\n",
    "import soundfile as sf\n",
    "\n",
    "data, samplerate = sf.read(audio_file_path)"
   ]
  },
  {
   "cell_type": "code",
   "execution_count": 13,
   "metadata": {
    "id": "1ZNKWgeTQCpf"
   },
   "outputs": [],
   "source": [
    "\n",
    "SoundFile_obj = sf.SoundFile(audio_file_path, 'r+')"
   ]
  },
  {
   "cell_type": "code",
   "execution_count": 14,
   "metadata": {
    "colab": {
     "base_uri": "https://localhost:8080/"
    },
    "id": "E2Gtlk30SZBi",
    "outputId": "c7d702de-8e6f-4766-9661-9d9773165fb0"
   },
   "outputs": [
    {
     "name": "stdout",
     "output_type": "stream",
     "text": [
      "File : 'C:\\Users\\DaveBabbitt\\Documents\\GitHub\\notebooks\\data\\wav\\Harvard_list_01.wav' (utf-8 converted from ucs-2)\n",
      "Length : 13000052\n",
      "RIFF : 13000044\n",
      "WAVE\n",
      "fmt  : 18\n",
      "  Format        : 0x3 => WAVE_FORMAT_IEEE_FLOAT\n",
      "  Channels      : 1\n",
      "  Sample Rate   : 48000\n",
      "  Block Align   : 4\n",
      "  Bit Width     : 32\n",
      "  Bytes/sec     : 192000\n",
      "data : 12992512\n",
      "LIST : 78\n",
      "  INFO\n",
      "    ICRD : 2018-12-20T15:58:54Z\n",
      "    ISFT : Adobe Audition CC 2017.1 (Windows)\n",
      "bext : 602\n",
      "iXML : 1162\n",
      "_PMX : 5619\n",
      "End\n",
      "**** All non-PCM format files should have a 'fact' chunk.\n",
      "\n"
     ]
    }
   ],
   "source": [
    "\n",
    "print(SoundFile_obj.extra_info)"
   ]
  },
  {
   "cell_type": "code",
   "execution_count": 15,
   "metadata": {
    "id": "ZJaG9Fc4SOWG"
   },
   "outputs": [],
   "source": [
    "\n",
    "SoundFile_obj.close()"
   ]
  },
  {
   "cell_type": "code",
   "execution_count": 16,
   "metadata": {
    "colab": {
     "base_uri": "https://localhost:8080/"
    },
    "id": "YcLdZWHbfaWT",
    "outputId": "cec1e9ca-e8a6-4f41-e6aa-118e4ff62ac9"
   },
   "outputs": [
    {
     "name": "stdout",
     "output_type": "stream",
     "text": [
      "C:\\Users\\DaveBabbitt\\Documents\\GitHub\\notebooks\\nb_env\\python.exe -m pip install pydub --upgrade\n",
      "Collecting pydub\n",
      "  Downloading pydub-0.25.1-py2.py3-none-any.whl (32 kB)\n",
      "Installing collected packages: pydub\n",
      "Successfully installed pydub-0.25.1\n"
     ]
    }
   ],
   "source": [
    "\n",
    "command_str = f'{sys.executable} -m pip install pydub --upgrade'\n",
    "print(command_str)\n",
    "!{command_str}"
   ]
  },
  {
   "cell_type": "code",
   "execution_count": 17,
   "metadata": {
    "id": "sKUAnB6QBpxt"
   },
   "outputs": [],
   "source": [
    "\n",
    "import speech_recognition as sr\n",
    "import re\n",
    "import soundfile as sf\n",
    "import tempfile\n",
    "from pydub import AudioSegment\n",
    "from pydub.generators import Sine"
   ]
  },
  {
   "cell_type": "code",
   "execution_count": 18,
   "metadata": {
    "id": "sKUAnB6QBpxt"
   },
   "outputs": [],
   "source": [
    "\n",
    "# Function to generate beep audio segment\n",
    "def generate_beep(duration, frequency, volume):\n",
    "    beep = Sine(frequency).to_audio_segment(duration=duration * 1000)\n",
    "    beep = beep.apply_gain(volume)\n",
    "    return beep"
   ]
  },
  {
   "cell_type": "code",
   "execution_count": 19,
   "metadata": {
    "id": "sKUAnB6QBpxt"
   },
   "outputs": [],
   "source": [
    "\n",
    "# Function to replace proper nouns with beeps\n",
    "def censor_proper_nouns(text, audio_data, sample_rate):\n",
    "    proper_nouns = re.findall(r'\\b[A-Z][a-z]+\\b', text)\n",
    "    audio_segment = AudioSegment(\n",
    "        audio_data.tobytes(),\n",
    "        frame_rate=sample_rate,\n",
    "        sample_width=audio_data.dtype.itemsize,\n",
    "        channels=len(audio_data.shape)\n",
    "    )\n",
    "    for noun in proper_nouns:\n",
    "        beep_duration = len(noun) * 100  # Adjust the beep duration as needed\n",
    "        beep_frequency = 1000  # Adjust the beep frequency as needed\n",
    "        beep_volume = -20  # Adjust the beep volume as needed\n",
    "        beep = generate_beep(beep_duration, beep_frequency, beep_volume)\n",
    "        start_time = re.search(r'\\b{}\\b'.format(noun), text).start() / len(text) * len(audio_segment)\n",
    "        end_time = start_time + len(beep)\n",
    "        audio_segment = audio_segment.overlay(beep, position=int(start_time), loop=False)\n",
    "\n",
    "    modified_audio = audio_segment.get_array_of_samples()\n",
    "    return modified_audio"
   ]
  },
  {
   "cell_type": "code",
   "execution_count": 20,
   "metadata": {
    "id": "sKUAnB6QBpxt"
   },
   "outputs": [],
   "source": [
    "\n",
    "# Function to convert speech to text\n",
    "def transcribe_audio(file_path):\n",
    "    r = sr.Recognizer()\n",
    "    audio = sr.AudioFile(file_path)\n",
    "\n",
    "    with audio as source:\n",
    "        audio_data = r.record(source)\n",
    "        text = r.recognize_google(audio_data)\n",
    "\n",
    "    return text"
   ]
  },
  {
   "cell_type": "code",
   "execution_count": 21,
   "metadata": {
    "id": "sKUAnB6QBpxt"
   },
   "outputs": [],
   "source": [
    "\n",
    "# Function to save the modified audio file\n",
    "def save_audio(file_path, audio_data, sample_rate):\n",
    "    sf.write(file_path, audio_data, sample_rate, format='WAV')"
   ]
  },
  {
   "cell_type": "code",
   "execution_count": 22,
   "metadata": {
    "id": "sKUAnB6QBpxt"
   },
   "outputs": [],
   "source": [
    "\n",
    "# Function to censor the audio file\n",
    "def censor_audio(file_path):\n",
    "    sf_obj = sf.SoundFile(file_path, 'r')\n",
    "\n",
    "    audio_data = sf_obj.read(dtype='float32')\n",
    "    sample_rate = sf_obj.samplerate\n",
    "    sf_obj.close()\n",
    "\n",
    "    temp_file_path = tempfile.NamedTemporaryFile(suffix=\".wav\").name\n",
    "    save_audio(temp_file_path, audio_data, sample_rate)\n",
    "\n",
    "    text = transcribe_audio(temp_file_path)\n",
    "    modified_audio = censor_proper_nouns(text, audio_data, sample_rate)\n",
    "\n",
    "\n",
    "    save_audio(temp_file_path, modified_audio, sample_rate)\n",
    "\n",
    "    return temp_file_path"
   ]
  },
  {
   "cell_type": "code",
   "execution_count": 25,
   "metadata": {
    "id": "sKUAnB6QBpxt"
   },
   "outputs": [],
   "source": [
    "\n",
    "modified_audio_file_path = censor_audio(audio_file_path)"
   ]
  },
  {
   "cell_type": "code",
   "execution_count": 26,
   "metadata": {},
   "outputs": [
    {
     "name": "stdout",
     "output_type": "stream",
     "text": [
      "C:\\Users\\DAVEBA~1\\AppData\\Local\\Temp\\tmpc_9ag1j4.wav\n"
     ]
    }
   ],
   "source": [
    "\n",
    "print(modified_audio_file_path)"
   ]
  },
  {
   "cell_type": "code",
   "execution_count": null,
   "metadata": {},
   "outputs": [],
   "source": []
  }
 ],
 "metadata": {
  "colab": {
   "provenance": []
  },
  "kernelspec": {
   "display_name": "Notebooks (Python 3.9.16)",
   "language": "python",
   "name": "nb_env"
  },
  "language_info": {
   "codemirror_mode": {
    "name": "ipython",
    "version": 3
   },
   "file_extension": ".py",
   "mimetype": "text/x-python",
   "name": "python",
   "nbconvert_exporter": "python",
   "pygments_lexer": "ipython3",
   "version": "3.9.16"
  }
 },
 "nbformat": 4,
 "nbformat_minor": 4
}

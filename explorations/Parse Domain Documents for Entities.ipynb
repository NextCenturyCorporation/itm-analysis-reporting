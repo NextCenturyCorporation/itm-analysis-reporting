{
 "cells": [
  {
   "cell_type": "code",
   "execution_count": 1,
   "id": "a51ab3c6-9bc9-4299-86d6-64763b66e8f7",
   "metadata": {
    "tags": []
   },
   "outputs": [
    {
     "name": "stdout",
     "output_type": "stream",
     "text": [
      "Pretty printing has been turned OFF\n"
     ]
    }
   ],
   "source": [
    "\n",
    "%pprint\n",
    "import sys\n",
    "sys.path.insert(1, '../py')"
   ]
  },
  {
   "cell_type": "code",
   "execution_count": 2,
   "id": "d5c96aaf-34eb-4e78-b477-d2e6bd721e2b",
   "metadata": {},
   "outputs": [],
   "source": [
    "\n",
    "from datetime import timedelta\n",
    "# from edstan_data import EdstanData\n",
    "from frvrs_utils import FRVRSUtilities\n",
    "from notebook_utils import NotebookUtilities\n",
    "from pandas import DataFrame\n",
    "import humanize\n",
    "import matplotlib.pyplot as plt\n",
    "import numpy as np\n",
    "import os\n",
    "import os.path as osp\n",
    "import pandas as pd\n",
    "import re\n",
    "\n",
    "nu = NotebookUtilities(\n",
    "    data_folder_path=osp.abspath('../data'),\n",
    "    saves_folder_path=osp.abspath('../saves')\n",
    ")\n",
    "fu = FRVRSUtilities(\n",
    "    data_folder_path=osp.abspath('../data'),\n",
    "    saves_folder_path=osp.abspath('../saves')\n",
    ")\n",
    "from scrape_utils import WebScrapingUtilities\n",
    "wsu = WebScrapingUtilities(\n",
    "    s=nu,\n",
    "    secrets_json_path=os.path.abspath(os.path.join(nu.data_folder, 'secrets', 'bbai_secrets.json'))\n",
    ")"
   ]
  },
  {
   "cell_type": "markdown",
   "id": "c04ffe8e-6573-470f-aef5-348522a0de15",
   "metadata": {},
   "source": [
    "\n",
    "# Parse Domain Documents for Entities\n",
    "\n",
    "Downloaded all documents from https://nextcentury.atlassian.net/wiki/spaces/ITMC/pages/2991849482/Domain+Documents and converted them all to PDF files and stored them in the data folder."
   ]
  },
  {
   "cell_type": "code",
   "execution_count": 3,
   "id": "fea43e5c-ac11-4453-accc-78c7f84e4e7d",
   "metadata": {},
   "outputs": [],
   "source": [
    "\n",
    "import logging\n",
    "\n",
    "logging.basicConfig(stream=sys.stdout, level=logging.INFO)\n",
    "logging.getLogger().addHandler(logging.StreamHandler(stream=sys.stdout))"
   ]
  },
  {
   "cell_type": "markdown",
   "id": "0053cef1-4571-4abd-9868-2b0de4bf37de",
   "metadata": {},
   "source": [
    "\n",
    "## Option 1: Use a Hugging Face NER model"
   ]
  },
  {
   "cell_type": "code",
   "execution_count": 4,
   "id": "e7aa80a7-6e36-430e-8dd9-d6fbd67f3c39",
   "metadata": {},
   "outputs": [
    {
     "data": {
      "text/plain": [
       "['AutoPrevNextNodePostprocessor', 'CohereRerank', 'EmbeddingRecencyPostprocessor', 'FixedRecencyPostprocessor', 'KeywordNodePostprocessor', 'LLMRerank', 'LongContextReorder', 'LongLLMLinguaPostprocessor', 'MetadataReplacementPostProcessor', 'NERPIINodePostprocessor', 'PIINodePostprocessor', 'PrevNextNodePostprocessor', 'SentenceEmbeddingOptimizer', 'SentenceTransformerRerank', 'SimilarityPostprocessor', 'TimeWeightedPostprocessor', '__all__', '__builtins__', '__cached__', '__doc__', '__file__', '__loader__', '__name__', '__package__', '__path__', '__spec__', 'cohere_rerank', 'llm_rerank', 'longllmlingua', 'metadata_replacement', 'node', 'node_recency', 'optimizer', 'pii', 'sbert_rerank', 'types']"
      ]
     },
     "execution_count": 4,
     "metadata": {},
     "output_type": "execute_result"
    }
   ],
   "source": [
    "\n",
    "from llama_index import postprocessor\n",
    "\n",
    "dir(postprocessor)"
   ]
  },
  {
   "cell_type": "code",
   "execution_count": 32,
   "id": "003f66f0-f67f-47f2-88eb-b2bbb6d33791",
   "metadata": {},
   "outputs": [],
   "source": [
    "\n",
    "from llama_index import ServiceContext\n",
    "from llama_index.postprocessor import NERPIINodePostprocessor\n",
    "import PyPDF2\n",
    "from llama_index.schema import TextNode\n",
    "from llama_index.schema import NodeWithScore\n",
    "import spacy\n",
    "\n",
    "# Please set either the OPENAI_API_KEY environment variable or openai.api_key prior to initialization\n",
    "os.environ['OPENAI_API_KEY'] = wsu.secrets_json['OPENAI_API_KEY']\n",
    "service_context = ServiceContext.from_defaults()\n",
    "processor = NERPIINodePostprocessor(service_context=service_context)\n",
    "\n",
    "# Load the spaCy model\n",
    "try: nlp = spacy.load('en_core_web_sm')\n",
    "except OSError as e:\n",
    "    print(str(e).strip())\n",
    "    command_str = f'{sys.executable} -m spacy download en_core_web_sm --quiet'\n",
    "    print(command_str)\n",
    "    !{command_str}\n",
    "    nlp = spacy.load('en_core_web_sm')\n",
    "import en_core_web_sm\n",
    "nlp = en_core_web_sm.load()\n",
    "\n",
    "pdf_folder = '../data/Domain_Knowledge'\n",
    "black_list = ['.ipynb_checkpoints', '$Recycle.Bin', '.git']"
   ]
  },
  {
   "cell_type": "markdown",
   "id": "82b6122a-8136-4007-9601-187e2a4c280e",
   "metadata": {},
   "source": [
    "\n",
    "## Option 2: Use SpaCy"
   ]
  },
  {
   "cell_type": "code",
   "execution_count": 34,
   "id": "e474dff1-2f02-4ab6-b5f6-61b8eda7af40",
   "metadata": {},
   "outputs": [
    {
     "name": "stderr",
     "output_type": "stream",
     "text": [
      "No model was supplied, defaulted to dbmdz/bert-large-cased-finetuned-conll03-english and revision f2482bf (https://huggingface.co/dbmdz/bert-large-cased-finetuned-conll03-english).\n",
      "Using a pipeline without specifying a model name and revision in production is not recommended.\n",
      "Some weights of the model checkpoint at dbmdz/bert-large-cased-finetuned-conll03-english were not used when initializing BertForTokenClassification: ['bert.pooler.dense.bias', 'bert.pooler.dense.weight']\n",
      "- This IS expected if you are initializing BertForTokenClassification from the checkpoint of a model trained on another task or with another architecture (e.g. initializing a BertForSequenceClassification model from a BertForPreTraining model).\n",
      "- This IS NOT expected if you are initializing BertForTokenClassification from the checkpoint of a model that you expect to be exactly identical (initializing a BertForSequenceClassification model from a BertForSequenceClassification model).\n",
      "No model was supplied, defaulted to dbmdz/bert-large-cased-finetuned-conll03-english and revision f2482bf (https://huggingface.co/dbmdz/bert-large-cased-finetuned-conll03-english).\n",
      "Using a pipeline without specifying a model name and revision in production is not recommended.\n",
      "Some weights of the model checkpoint at dbmdz/bert-large-cased-finetuned-conll03-english were not used when initializing BertForTokenClassification: ['bert.pooler.dense.bias', 'bert.pooler.dense.weight']\n",
      "- This IS expected if you are initializing BertForTokenClassification from the checkpoint of a model trained on another task or with another architecture (e.g. initializing a BertForSequenceClassification model from a BertForPreTraining model).\n",
      "- This IS NOT expected if you are initializing BertForTokenClassification from the checkpoint of a model that you expect to be exactly identical (initializing a BertForSequenceClassification model from a BertForSequenceClassification model).\n"
     ]
    },
    {
     "ename": "DependencyError",
     "evalue": "PyCryptodome is required for AES algorithm",
     "output_type": "error",
     "traceback": [
      "\u001b[0;31m---------------------------------------------------------------------------\u001b[0m",
      "\u001b[0;31mDependencyError\u001b[0m                           Traceback (most recent call last)",
      "Cell \u001b[0;32mIn[34], line 11\u001b[0m\n\u001b[1;32m      9\u001b[0m pdf_reader \u001b[38;5;241m=\u001b[39m PyPDF2\u001b[38;5;241m.\u001b[39mPdfReader(file)\n\u001b[1;32m     10\u001b[0m text \u001b[38;5;241m=\u001b[39m \u001b[38;5;124m'\u001b[39m\u001b[38;5;124m'\u001b[39m\n\u001b[0;32m---> 11\u001b[0m \u001b[38;5;28;01mfor\u001b[39;00m page_number \u001b[38;5;129;01min\u001b[39;00m \u001b[38;5;28mrange\u001b[39m(\u001b[38;5;28;43mlen\u001b[39;49m\u001b[43m(\u001b[49m\u001b[43mpdf_reader\u001b[49m\u001b[38;5;241;43m.\u001b[39;49m\u001b[43mpages\u001b[49m\u001b[43m)\u001b[49m):\n\u001b[1;32m     12\u001b[0m     page \u001b[38;5;241m=\u001b[39m pdf_reader\u001b[38;5;241m.\u001b[39mpages[page_number]\n\u001b[1;32m     13\u001b[0m     text \u001b[38;5;241m+\u001b[39m\u001b[38;5;241m=\u001b[39m page\u001b[38;5;241m.\u001b[39mextract_text()\n",
      "File \u001b[0;32m~/anaconda3/envs/llama_index/lib/python3.9/site-packages/PyPDF2/_page.py:2063\u001b[0m, in \u001b[0;36m_VirtualList.__len__\u001b[0;34m(self)\u001b[0m\n\u001b[1;32m   2062\u001b[0m \u001b[38;5;28;01mdef\u001b[39;00m \u001b[38;5;21m__len__\u001b[39m(\u001b[38;5;28mself\u001b[39m) \u001b[38;5;241m-\u001b[39m\u001b[38;5;241m>\u001b[39m \u001b[38;5;28mint\u001b[39m:\n\u001b[0;32m-> 2063\u001b[0m     \u001b[38;5;28;01mreturn\u001b[39;00m \u001b[38;5;28;43mself\u001b[39;49m\u001b[38;5;241;43m.\u001b[39;49m\u001b[43mlength_function\u001b[49m\u001b[43m(\u001b[49m\u001b[43m)\u001b[49m\n",
      "File \u001b[0;32m~/anaconda3/envs/llama_index/lib/python3.9/site-packages/PyPDF2/_reader.py:445\u001b[0m, in \u001b[0;36mPdfReader._get_num_pages\u001b[0;34m(self)\u001b[0m\n\u001b[1;32m    441\u001b[0m \u001b[38;5;66;03m# Flattened pages will not work on an Encrypted PDF;\u001b[39;00m\n\u001b[1;32m    442\u001b[0m \u001b[38;5;66;03m# the PDF file's page count is used in this case. Otherwise,\u001b[39;00m\n\u001b[1;32m    443\u001b[0m \u001b[38;5;66;03m# the original method (flattened page count) is used.\u001b[39;00m\n\u001b[1;32m    444\u001b[0m \u001b[38;5;28;01mif\u001b[39;00m \u001b[38;5;28mself\u001b[39m\u001b[38;5;241m.\u001b[39mis_encrypted:\n\u001b[0;32m--> 445\u001b[0m     \u001b[38;5;28;01mreturn\u001b[39;00m \u001b[38;5;28;43mself\u001b[39;49m\u001b[38;5;241;43m.\u001b[39;49m\u001b[43mtrailer\u001b[49m\u001b[43m[\u001b[49m\u001b[43mTK\u001b[49m\u001b[38;5;241;43m.\u001b[39;49m\u001b[43mROOT\u001b[49m\u001b[43m]\u001b[49m\u001b[43m[\u001b[49m\u001b[38;5;124;43m\"\u001b[39;49m\u001b[38;5;124;43m/Pages\u001b[39;49m\u001b[38;5;124;43m\"\u001b[39;49m\u001b[43m]\u001b[49m[\u001b[38;5;124m\"\u001b[39m\u001b[38;5;124m/Count\u001b[39m\u001b[38;5;124m\"\u001b[39m]  \u001b[38;5;66;03m# type: ignore\u001b[39;00m\n\u001b[1;32m    446\u001b[0m \u001b[38;5;28;01melse\u001b[39;00m:\n\u001b[1;32m    447\u001b[0m     \u001b[38;5;28;01mif\u001b[39;00m \u001b[38;5;28mself\u001b[39m\u001b[38;5;241m.\u001b[39mflattened_pages \u001b[38;5;129;01mis\u001b[39;00m \u001b[38;5;28;01mNone\u001b[39;00m:\n",
      "File \u001b[0;32m~/anaconda3/envs/llama_index/lib/python3.9/site-packages/PyPDF2/generic/_data_structures.py:266\u001b[0m, in \u001b[0;36mDictionaryObject.__getitem__\u001b[0;34m(self, key)\u001b[0m\n\u001b[1;32m    265\u001b[0m \u001b[38;5;28;01mdef\u001b[39;00m \u001b[38;5;21m__getitem__\u001b[39m(\u001b[38;5;28mself\u001b[39m, key: Any) \u001b[38;5;241m-\u001b[39m\u001b[38;5;241m>\u001b[39m PdfObject:\n\u001b[0;32m--> 266\u001b[0m     \u001b[38;5;28;01mreturn\u001b[39;00m \u001b[38;5;28;43mdict\u001b[39;49m\u001b[38;5;241;43m.\u001b[39;49m\u001b[38;5;21;43m__getitem__\u001b[39;49m\u001b[43m(\u001b[49m\u001b[38;5;28;43mself\u001b[39;49m\u001b[43m,\u001b[49m\u001b[43m \u001b[49m\u001b[43mkey\u001b[49m\u001b[43m)\u001b[49m\u001b[38;5;241;43m.\u001b[39;49m\u001b[43mget_object\u001b[49m\u001b[43m(\u001b[49m\u001b[43m)\u001b[49m\n",
      "File \u001b[0;32m~/anaconda3/envs/llama_index/lib/python3.9/site-packages/PyPDF2/generic/_base.py:259\u001b[0m, in \u001b[0;36mIndirectObject.get_object\u001b[0;34m(self)\u001b[0m\n\u001b[1;32m    258\u001b[0m \u001b[38;5;28;01mdef\u001b[39;00m \u001b[38;5;21mget_object\u001b[39m(\u001b[38;5;28mself\u001b[39m) \u001b[38;5;241m-\u001b[39m\u001b[38;5;241m>\u001b[39m Optional[\u001b[38;5;124m\"\u001b[39m\u001b[38;5;124mPdfObject\u001b[39m\u001b[38;5;124m\"\u001b[39m]:\n\u001b[0;32m--> 259\u001b[0m     obj \u001b[38;5;241m=\u001b[39m \u001b[38;5;28;43mself\u001b[39;49m\u001b[38;5;241;43m.\u001b[39;49m\u001b[43mpdf\u001b[49m\u001b[38;5;241;43m.\u001b[39;49m\u001b[43mget_object\u001b[49m\u001b[43m(\u001b[49m\u001b[38;5;28;43mself\u001b[39;49m\u001b[43m)\u001b[49m\n\u001b[1;32m    260\u001b[0m     \u001b[38;5;28;01mif\u001b[39;00m obj \u001b[38;5;129;01mis\u001b[39;00m \u001b[38;5;28;01mNone\u001b[39;00m:\n\u001b[1;32m    261\u001b[0m         \u001b[38;5;28;01mreturn\u001b[39;00m \u001b[38;5;28;01mNone\u001b[39;00m\n",
      "File \u001b[0;32m~/anaconda3/envs/llama_index/lib/python3.9/site-packages/PyPDF2/_reader.py:1205\u001b[0m, in \u001b[0;36mPdfReader.get_object\u001b[0;34m(self, indirect_reference)\u001b[0m\n\u001b[1;32m   1200\u001b[0m     \u001b[38;5;28;01mreturn\u001b[39;00m retval\n\u001b[1;32m   1201\u001b[0m \u001b[38;5;28;01mif\u001b[39;00m (\n\u001b[1;32m   1202\u001b[0m     indirect_reference\u001b[38;5;241m.\u001b[39mgeneration \u001b[38;5;241m==\u001b[39m \u001b[38;5;241m0\u001b[39m\n\u001b[1;32m   1203\u001b[0m     \u001b[38;5;129;01mand\u001b[39;00m indirect_reference\u001b[38;5;241m.\u001b[39midnum \u001b[38;5;129;01min\u001b[39;00m \u001b[38;5;28mself\u001b[39m\u001b[38;5;241m.\u001b[39mxref_objStm\n\u001b[1;32m   1204\u001b[0m ):\n\u001b[0;32m-> 1205\u001b[0m     retval \u001b[38;5;241m=\u001b[39m \u001b[38;5;28;43mself\u001b[39;49m\u001b[38;5;241;43m.\u001b[39;49m\u001b[43m_get_object_from_stream\u001b[49m\u001b[43m(\u001b[49m\u001b[43mindirect_reference\u001b[49m\u001b[43m)\u001b[49m  \u001b[38;5;66;03m# type: ignore\u001b[39;00m\n\u001b[1;32m   1206\u001b[0m \u001b[38;5;28;01melif\u001b[39;00m (\n\u001b[1;32m   1207\u001b[0m     indirect_reference\u001b[38;5;241m.\u001b[39mgeneration \u001b[38;5;129;01min\u001b[39;00m \u001b[38;5;28mself\u001b[39m\u001b[38;5;241m.\u001b[39mxref\n\u001b[1;32m   1208\u001b[0m     \u001b[38;5;129;01mand\u001b[39;00m indirect_reference\u001b[38;5;241m.\u001b[39midnum \u001b[38;5;129;01min\u001b[39;00m \u001b[38;5;28mself\u001b[39m\u001b[38;5;241m.\u001b[39mxref[indirect_reference\u001b[38;5;241m.\u001b[39mgeneration]\n\u001b[1;32m   1209\u001b[0m ):\n\u001b[1;32m   1210\u001b[0m     \u001b[38;5;28;01mif\u001b[39;00m \u001b[38;5;28mself\u001b[39m\u001b[38;5;241m.\u001b[39mxref_free_entry\u001b[38;5;241m.\u001b[39mget(indirect_reference\u001b[38;5;241m.\u001b[39mgeneration, {})\u001b[38;5;241m.\u001b[39mget(\n\u001b[1;32m   1211\u001b[0m         indirect_reference\u001b[38;5;241m.\u001b[39midnum, \u001b[38;5;28;01mFalse\u001b[39;00m\n\u001b[1;32m   1212\u001b[0m     ):\n",
      "File \u001b[0;32m~/anaconda3/envs/llama_index/lib/python3.9/site-packages/PyPDF2/_reader.py:1136\u001b[0m, in \u001b[0;36mPdfReader._get_object_from_stream\u001b[0;34m(self, indirect_reference)\u001b[0m\n\u001b[1;32m   1130\u001b[0m \u001b[38;5;28;01mdef\u001b[39;00m \u001b[38;5;21m_get_object_from_stream\u001b[39m(\n\u001b[1;32m   1131\u001b[0m     \u001b[38;5;28mself\u001b[39m, indirect_reference: IndirectObject\n\u001b[1;32m   1132\u001b[0m ) \u001b[38;5;241m-\u001b[39m\u001b[38;5;241m>\u001b[39m Union[\u001b[38;5;28mint\u001b[39m, PdfObject, \u001b[38;5;28mstr\u001b[39m]:\n\u001b[1;32m   1133\u001b[0m     \u001b[38;5;66;03m# indirect reference to object in object stream\u001b[39;00m\n\u001b[1;32m   1134\u001b[0m     \u001b[38;5;66;03m# read the entire object stream into memory\u001b[39;00m\n\u001b[1;32m   1135\u001b[0m     stmnum, idx \u001b[38;5;241m=\u001b[39m \u001b[38;5;28mself\u001b[39m\u001b[38;5;241m.\u001b[39mxref_objStm[indirect_reference\u001b[38;5;241m.\u001b[39midnum]\n\u001b[0;32m-> 1136\u001b[0m     obj_stm: EncodedStreamObject \u001b[38;5;241m=\u001b[39m \u001b[43mIndirectObject\u001b[49m\u001b[43m(\u001b[49m\u001b[43mstmnum\u001b[49m\u001b[43m,\u001b[49m\u001b[43m \u001b[49m\u001b[38;5;241;43m0\u001b[39;49m\u001b[43m,\u001b[49m\u001b[43m \u001b[49m\u001b[38;5;28;43mself\u001b[39;49m\u001b[43m)\u001b[49m\u001b[38;5;241;43m.\u001b[39;49m\u001b[43mget_object\u001b[49m\u001b[43m(\u001b[49m\u001b[43m)\u001b[49m  \u001b[38;5;66;03m# type: ignore\u001b[39;00m\n\u001b[1;32m   1137\u001b[0m     \u001b[38;5;66;03m# This is an xref to a stream, so its type better be a stream\u001b[39;00m\n\u001b[1;32m   1138\u001b[0m     \u001b[38;5;28;01massert\u001b[39;00m cast(\u001b[38;5;28mstr\u001b[39m, obj_stm[\u001b[38;5;124m\"\u001b[39m\u001b[38;5;124m/Type\u001b[39m\u001b[38;5;124m\"\u001b[39m]) \u001b[38;5;241m==\u001b[39m \u001b[38;5;124m\"\u001b[39m\u001b[38;5;124m/ObjStm\u001b[39m\u001b[38;5;124m\"\u001b[39m\n",
      "File \u001b[0;32m~/anaconda3/envs/llama_index/lib/python3.9/site-packages/PyPDF2/generic/_base.py:259\u001b[0m, in \u001b[0;36mIndirectObject.get_object\u001b[0;34m(self)\u001b[0m\n\u001b[1;32m    258\u001b[0m \u001b[38;5;28;01mdef\u001b[39;00m \u001b[38;5;21mget_object\u001b[39m(\u001b[38;5;28mself\u001b[39m) \u001b[38;5;241m-\u001b[39m\u001b[38;5;241m>\u001b[39m Optional[\u001b[38;5;124m\"\u001b[39m\u001b[38;5;124mPdfObject\u001b[39m\u001b[38;5;124m\"\u001b[39m]:\n\u001b[0;32m--> 259\u001b[0m     obj \u001b[38;5;241m=\u001b[39m \u001b[38;5;28;43mself\u001b[39;49m\u001b[38;5;241;43m.\u001b[39;49m\u001b[43mpdf\u001b[49m\u001b[38;5;241;43m.\u001b[39;49m\u001b[43mget_object\u001b[49m\u001b[43m(\u001b[49m\u001b[38;5;28;43mself\u001b[39;49m\u001b[43m)\u001b[49m\n\u001b[1;32m    260\u001b[0m     \u001b[38;5;28;01mif\u001b[39;00m obj \u001b[38;5;129;01mis\u001b[39;00m \u001b[38;5;28;01mNone\u001b[39;00m:\n\u001b[1;32m    261\u001b[0m         \u001b[38;5;28;01mreturn\u001b[39;00m \u001b[38;5;28;01mNone\u001b[39;00m\n",
      "File \u001b[0;32m~/anaconda3/envs/llama_index/lib/python3.9/site-packages/PyPDF2/_reader.py:1269\u001b[0m, in \u001b[0;36mPdfReader.get_object\u001b[0;34m(self, indirect_reference)\u001b[0m\n\u001b[1;32m   1267\u001b[0m         \u001b[38;5;66;03m# otherwise, decrypt here...\u001b[39;00m\n\u001b[1;32m   1268\u001b[0m         retval \u001b[38;5;241m=\u001b[39m cast(PdfObject, retval)\n\u001b[0;32m-> 1269\u001b[0m         retval \u001b[38;5;241m=\u001b[39m \u001b[38;5;28;43mself\u001b[39;49m\u001b[38;5;241;43m.\u001b[39;49m\u001b[43m_encryption\u001b[49m\u001b[38;5;241;43m.\u001b[39;49m\u001b[43mdecrypt_object\u001b[49m\u001b[43m(\u001b[49m\n\u001b[1;32m   1270\u001b[0m \u001b[43m            \u001b[49m\u001b[43mretval\u001b[49m\u001b[43m,\u001b[49m\u001b[43m \u001b[49m\u001b[43mindirect_reference\u001b[49m\u001b[38;5;241;43m.\u001b[39;49m\u001b[43midnum\u001b[49m\u001b[43m,\u001b[49m\u001b[43m \u001b[49m\u001b[43mindirect_reference\u001b[49m\u001b[38;5;241;43m.\u001b[39;49m\u001b[43mgeneration\u001b[49m\n\u001b[1;32m   1271\u001b[0m \u001b[43m        \u001b[49m\u001b[43m)\u001b[49m\n\u001b[1;32m   1272\u001b[0m \u001b[38;5;28;01melse\u001b[39;00m:\n\u001b[1;32m   1273\u001b[0m     \u001b[38;5;28;01mif\u001b[39;00m \u001b[38;5;28mhasattr\u001b[39m(\u001b[38;5;28mself\u001b[39m\u001b[38;5;241m.\u001b[39mstream, \u001b[38;5;124m\"\u001b[39m\u001b[38;5;124mgetbuffer\u001b[39m\u001b[38;5;124m\"\u001b[39m):\n",
      "File \u001b[0;32m~/anaconda3/envs/llama_index/lib/python3.9/site-packages/PyPDF2/_encryption.py:761\u001b[0m, in \u001b[0;36mEncryption.decrypt_object\u001b[0;34m(self, obj, idnum, generation)\u001b[0m\n\u001b[1;32m    758\u001b[0m efCrypt \u001b[38;5;241m=\u001b[39m \u001b[38;5;28mself\u001b[39m\u001b[38;5;241m.\u001b[39m_get_crypt(\u001b[38;5;28mself\u001b[39m\u001b[38;5;241m.\u001b[39mEFF, rc4_key, aes128_key, aes256_key)\n\u001b[1;32m    760\u001b[0m cf \u001b[38;5;241m=\u001b[39m CryptFilter(stmCrypt, StrCrypt, efCrypt)\n\u001b[0;32m--> 761\u001b[0m \u001b[38;5;28;01mreturn\u001b[39;00m \u001b[43mcf\u001b[49m\u001b[38;5;241;43m.\u001b[39;49m\u001b[43mdecrypt_object\u001b[49m\u001b[43m(\u001b[49m\u001b[43mobj\u001b[49m\u001b[43m)\u001b[49m\n",
      "File \u001b[0;32m~/anaconda3/envs/llama_index/lib/python3.9/site-packages/PyPDF2/_encryption.py:185\u001b[0m, in \u001b[0;36mCryptFilter.decrypt_object\u001b[0;34m(self, obj)\u001b[0m\n\u001b[1;32m    183\u001b[0m     obj \u001b[38;5;241m=\u001b[39m create_string_object(data)\n\u001b[1;32m    184\u001b[0m \u001b[38;5;28;01melif\u001b[39;00m \u001b[38;5;28misinstance\u001b[39m(obj, StreamObject):\n\u001b[0;32m--> 185\u001b[0m     obj\u001b[38;5;241m.\u001b[39m_data \u001b[38;5;241m=\u001b[39m \u001b[38;5;28;43mself\u001b[39;49m\u001b[38;5;241;43m.\u001b[39;49m\u001b[43mstmCrypt\u001b[49m\u001b[38;5;241;43m.\u001b[39;49m\u001b[43mdecrypt\u001b[49m\u001b[43m(\u001b[49m\u001b[43mobj\u001b[49m\u001b[38;5;241;43m.\u001b[39;49m\u001b[43m_data\u001b[49m\u001b[43m)\u001b[49m\n\u001b[1;32m    186\u001b[0m \u001b[38;5;28;01melif\u001b[39;00m \u001b[38;5;28misinstance\u001b[39m(obj, DictionaryObject):\n\u001b[1;32m    187\u001b[0m     \u001b[38;5;28;01mfor\u001b[39;00m dictkey, value \u001b[38;5;129;01min\u001b[39;00m \u001b[38;5;28mlist\u001b[39m(obj\u001b[38;5;241m.\u001b[39mitems()):\n",
      "File \u001b[0;32m~/anaconda3/envs/llama_index/lib/python3.9/site-packages/PyPDF2/_encryption.py:147\u001b[0m, in \u001b[0;36mCryptAES.decrypt\u001b[0;34m(self, data)\u001b[0m\n\u001b[1;32m    146\u001b[0m \u001b[38;5;28;01mdef\u001b[39;00m \u001b[38;5;21mdecrypt\u001b[39m(\u001b[38;5;28mself\u001b[39m, data: \u001b[38;5;28mbytes\u001b[39m) \u001b[38;5;241m-\u001b[39m\u001b[38;5;241m>\u001b[39m \u001b[38;5;28mbytes\u001b[39m:\n\u001b[0;32m--> 147\u001b[0m     \u001b[38;5;28;01mraise\u001b[39;00m DependencyError(\u001b[38;5;124m\"\u001b[39m\u001b[38;5;124mPyCryptodome is required for AES algorithm\u001b[39m\u001b[38;5;124m\"\u001b[39m)\n",
      "\u001b[0;31mDependencyError\u001b[0m: PyCryptodome is required for AES algorithm"
     ]
    }
   ],
   "source": [
    "\n",
    "# load documents\n",
    "entities = []\n",
    "for sub_directory, directories_list, files_list in os.walk(pdf_folder):\n",
    "    if all(map(lambda x: x not in sub_directory, black_list)):\n",
    "        for file_name in files_list:\n",
    "            if file_name.endswith('.pdf'):\n",
    "                file_path = osp.join(sub_directory, file_name)\n",
    "                with open(file_path, 'rb') as file:\n",
    "                    pdf_reader = PyPDF2.PdfReader(file)\n",
    "                    text = ''\n",
    "                    for page_number in range(len(pdf_reader.pages)):\n",
    "                        page = pdf_reader.pages[page_number]\n",
    "                        text += page.extract_text()\n",
    "                \n",
    "                # Process the text\n",
    "                node = TextNode(text=text)\n",
    "                new_nodes = processor.postprocess_nodes([NodeWithScore(node=node)])\n",
    "                doc = nlp(text)\n",
    "                \n",
    "                # Get mapping in metadata and add it as a row dictionary to the entities rows list\n",
    "                for k, v in new_nodes[0].node.metadata['__pii_node_info__'].items():\n",
    "                    metadata_dict = {\n",
    "                        'file_path': file_path,\n",
    "                        'type': k[0].split('_')[0],\n",
    "                        'text': v\n",
    "                    }\n",
    "                    entities.append(metadata_dict)\n",
    "                \n",
    "                # Extract named entities\n",
    "                for ent in doc.ents:\n",
    "                    entities.append({\n",
    "                        'file_path': file_path,\n",
    "                        'type': ent.label_,\n",
    "                        'text': ent.text, # Or lemma_, orth_, text_with_ws\n",
    "                        'start_pos': ent.start_char, # Or start\n",
    "                        'end_pos': ent.end_char # Or end\n",
    "                    })\n",
    "domain_doc_ners_df = DataFrame(entities)\n",
    "nu.store_objects(domain_doc_ners_df=domain_doc_ners_df)"
   ]
  },
  {
   "cell_type": "code",
   "execution_count": null,
   "id": "78cb19cd-6c5c-43f5-9280-a8ec6853af7a",
   "metadata": {},
   "outputs": [],
   "source": []
  }
 ],
 "metadata": {
  "kernelspec": {
   "display_name": "LlamaIndex (Python 3.10.13)",
   "language": "python",
   "name": "llama_index"
  },
  "language_info": {
   "codemirror_mode": {
    "name": "ipython",
    "version": 3
   },
   "file_extension": ".py",
   "mimetype": "text/x-python",
   "name": "python",
   "nbconvert_exporter": "python",
   "pygments_lexer": "ipython3",
   "version": "3.11.5"
  }
 },
 "nbformat": 4,
 "nbformat_minor": 5
}

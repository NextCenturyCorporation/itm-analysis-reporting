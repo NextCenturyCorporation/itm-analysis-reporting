{
 "cells": [
  {
   "cell_type": "markdown",
   "metadata": {},
   "source": [
    "\n",
    "## 0. Importing libraries and FRVRS logs dataframe and creating helper tokenize method"
   ]
  },
  {
   "cell_type": "code",
   "execution_count": 1,
   "metadata": {},
   "outputs": [
    {
     "name": "stdout",
     "output_type": "stream",
     "text": [
      "Pretty printing has been turned OFF\n"
     ]
    }
   ],
   "source": [
    "\n",
    "%pprint\n",
    "import sys\n",
    "sys.path.insert(1, '../py')"
   ]
  },
  {
   "cell_type": "code",
   "execution_count": 2,
   "metadata": {},
   "outputs": [
    {
     "name": "stdout",
     "output_type": "stream",
     "text": [
      "(832366, 109)\n"
     ]
    }
   ],
   "source": [
    "\n",
    "%matplotlib inline\n",
    "from datetime import timedelta\n",
    "from nltk import ngrams, FreqDist, word_tokenize\n",
    "from notebook_utils import NotebookUtilities\n",
    "from numpy import arange\n",
    "from pandas import DataFrame\n",
    "import humanize\n",
    "import matplotlib.pyplot as plt\n",
    "import numpy as np\n",
    "import operator\n",
    "import os\n",
    "import pandas as pd\n",
    "import random\n",
    "import re\n",
    "import string\n",
    "\n",
    "# Get all CSVs into one data frame\n",
    "nu = NotebookUtilities(data_folder_path=os.path.abspath('../data'))\n",
    "if nu.pickle_exists('frvrs_logs_df'):\n",
    "    frvrs_logs_df = nu.load_object('frvrs_logs_df')\n",
    "    print(frvrs_logs_df.shape)\n",
    "    # df = frvrs_logs_df.sample(4).dropna(axis='columns', how='all')\n",
    "    # display(df.T)"
   ]
  },
  {
   "cell_type": "code",
   "execution_count": 3,
   "metadata": {},
   "outputs": [],
   "source": [
    "\n",
    "def ultimate_tokenize(sentence):\n",
    "    \n",
    "    # Remove punctuation and digits\n",
    "    sentence = sentence.translate(str.maketrans('', '', string.punctuation + string.digits))\n",
    "    \n",
    "    return word_tokenize(sentence.lower())"
   ]
  },
  {
   "cell_type": "markdown",
   "metadata": {},
   "source": [
    "\n",
    "# Exploring Voice Capture Ngrams"
   ]
  },
  {
   "cell_type": "markdown",
   "metadata": {},
   "source": [
    "\n",
    "Based on [hands-on-nltk-tutorial by hb20007](https://github.com/hb20007/hands-on-nltk-tutorial)"
   ]
  },
  {
   "cell_type": "markdown",
   "metadata": {},
   "source": [
    "## 1. Understanding the process"
   ]
  },
  {
   "cell_type": "code",
   "execution_count": 43,
   "metadata": {},
   "outputs": [],
   "source": [
    "\n",
    "def show_corpus_stats(sents_list):\n",
    "    sent_count = len(sents_list)\n",
    "    \n",
    "    # Calculate the average word length\n",
    "    word_ave = np.mean([len(word) for sent in sents_list for word in sent])\n",
    "    \n",
    "    print(f'The voice capture corpus contains {sent_count:,} sentences with an average of {word_ave:0.2} words each.')"
   ]
  },
  {
   "cell_type": "code",
   "execution_count": 44,
   "metadata": {},
   "outputs": [
    {
     "name": "stdout",
     "output_type": "stream",
     "text": [
      "The voice capture corpus contains 34,310 sentences with an average of 3.7 words each.\n"
     ]
    }
   ],
   "source": [
    "\n",
    "mask_series = (frvrs_logs_df.action_type == 'VOICE_CAPTURE')\n",
    "df = frvrs_logs_df[mask_series]\n",
    "# display(df.sample(min(4, df.shape[0])).dropna(axis='columns', how='all').T)\n",
    "# voice_capture_text = '\\n'.join(df.voice_capture_message)\n",
    "\n",
    "voice_capture_tokens_words = [ultimate_tokenize(x) for x in df.voice_capture_message]\n",
    "show_corpus_stats(voice_capture_tokens_words)"
   ]
  },
  {
   "cell_type": "code",
   "execution_count": 5,
   "metadata": {},
   "outputs": [
    {
     "data": {
      "text/plain": [
       "['s', 'e', 't']"
      ]
     },
     "execution_count": 5,
     "metadata": {},
     "output_type": "execute_result"
    }
   ],
   "source": [
    "\n",
    "voice_capture_tokens_chars = list(voice_capture_tokens_words[0][0])\n",
    "voice_capture_tokens_chars"
   ]
  },
  {
   "cell_type": "code",
   "execution_count": 6,
   "metadata": {},
   "outputs": [
    {
     "name": "stdout",
     "output_type": "stream",
     "text": [
      "('set',)\n",
      "('lay',)\n",
      "('down',)\n"
     ]
    }
   ],
   "source": [
    "\n",
    "voice_capture_tokens_words_unigrams = [list(ngrams(x, 1)) for x in voice_capture_tokens_words]\n",
    "for x in voice_capture_tokens_words_unigrams[0]:\n",
    "    print(x)"
   ]
  },
  {
   "cell_type": "code",
   "execution_count": 7,
   "metadata": {},
   "outputs": [
    {
     "name": "stdout",
     "output_type": "stream",
     "text": [
      "('_', 'set')\n",
      "('set', 'lay')\n",
      "('lay', 'down')\n",
      "('down', '_')\n"
     ]
    }
   ],
   "source": [
    "\n",
    "voice_capture_tokens_words_bigrams = [\n",
    "    list(\n",
    "        ngrams(x, 2, pad_left=True, pad_right=True, left_pad_symbol='_', right_pad_symbol='_')\n",
    "    ) for x in voice_capture_tokens_words\n",
    "]\n",
    "for x in voice_capture_tokens_words_bigrams[0]:\n",
    "    print(x)"
   ]
  },
  {
   "cell_type": "code",
   "execution_count": 8,
   "metadata": {},
   "outputs": [
    {
     "name": "stdout",
     "output_type": "stream",
     "text": [
      "FreqDist({('set',): 1, ('lay',): 1, ('down',): 1})\n"
     ]
    }
   ],
   "source": [
    "\n",
    "unigram_freqdists_list = [FreqDist(x) for x in voice_capture_tokens_words_unigrams]\n",
    "for freqdist_obj in unigram_freqdists_list:\n",
    "    freqdist_obj.pprint()\n",
    "    break"
   ]
  },
  {
   "cell_type": "code",
   "execution_count": 9,
   "metadata": {},
   "outputs": [
    {
     "name": "stdout",
     "output_type": "stream",
     "text": [
      "FreqDist({('_', 'set'): 1, ('set', 'lay'): 1, ('lay', 'down'): 1, ('down', '_'): 1})\n"
     ]
    }
   ],
   "source": [
    "\n",
    "bigram_freqdists_list = [FreqDist(x) for x in voice_capture_tokens_words_bigrams]\n",
    "for freqdist_obj in bigram_freqdists_list:\n",
    "    freqdist_obj.pprint()\n",
    "    break"
   ]
  },
  {
   "cell_type": "code",
   "execution_count": 10,
   "metadata": {},
   "outputs": [
    {
     "data": {
      "text/plain": [
       "{'strangely': 1, 'trucking': 1, 'ems': 12, 'traveled': 1, 'mercy': 3}"
      ]
     },
     "execution_count": 10,
     "metadata": {},
     "output_type": "execute_result"
    }
   ],
   "source": [
    "\n",
    "unigram_dict = dict()\n",
    "for freqdist_obj in unigram_freqdists_list:\n",
    "    for k, v in freqdist_obj.items():\n",
    "        k = ' '.join(k)\n",
    "        if k in unigram_dict: v += unigram_dict[k]\n",
    "        unigram_dict[k] = v\n",
    "\n",
    "# Display a sub-dictionary with a number of random keys and their values\n",
    "nu.get_random_subdictionary(unigram_dict)"
   ]
  },
  {
   "cell_type": "code",
   "execution_count": 11,
   "metadata": {},
   "outputs": [
    {
     "data": {
      "text/plain": [
       "{'had _': 3, 'nice bleed': 1, 'uneven asymmetrical': 1, 'about table': 1, 'pull somebody': 1}"
      ]
     },
     "execution_count": 11,
     "metadata": {},
     "output_type": "execute_result"
    }
   ],
   "source": [
    "\n",
    "bigram_dict = dict()\n",
    "for freqdist_obj in bigram_freqdists_list:\n",
    "    for k, v in freqdist_obj.items():\n",
    "        k = ' '.join(k)\n",
    "        if k in bigram_dict: v += bigram_dict[k]\n",
    "        bigram_dict[k] = v\n",
    "\n",
    "# Display a sub-dictionary with a number of random keys and their values\n",
    "nu.get_random_subdictionary(bigram_dict)"
   ]
  },
  {
   "cell_type": "code",
   "execution_count": 12,
   "metadata": {},
   "outputs": [
    {
     "data": {
      "text/plain": [
       "[('ok', 8152), ('you', 7998), ('i', 4813), ('can', 3513), ('to', 2964), ('the', 2801), ('oh', 2713), ('alright', 2643), ('that', 2558), ('so', 2552)]"
      ]
     },
     "execution_count": 12,
     "metadata": {},
     "output_type": "execute_result"
    }
   ],
   "source": [
    "\n",
    "unigram_freqs = sorted(unigram_dict.items(), key=operator.itemgetter(1), reverse=True)\n",
    "unigram_freqs[:10]"
   ]
  },
  {
   "cell_type": "code",
   "execution_count": 13,
   "metadata": {},
   "outputs": [
    {
     "data": {
      "text/plain": [
       "[('_ ok', 5208), ('ok _', 4823), ('are you', 2078), ('_ oh', 2008), ('_ alright', 1902), ('_ are', 1747), ('you hurt', 1674), ('hurt _', 1642), ('_ modbutton', 1434), ('gon na', 1423)]"
      ]
     },
     "execution_count": 13,
     "metadata": {},
     "output_type": "execute_result"
    }
   ],
   "source": [
    "\n",
    "bigram_freqs = sorted(bigram_dict.items(), key=operator.itemgetter(1), reverse=True)\n",
    "bigram_freqs[:10]"
   ]
  },
  {
   "cell_type": "code",
   "execution_count": 14,
   "metadata": {},
   "outputs": [
    {
     "data": {
      "image/png": "[encoded data removed]",
      "text/plain": [
       "<Figure size 1000x700 with 1 Axes>"
      ]
     },
     "metadata": {},
     "output_type": "display_data"
    }
   ],
   "source": [
    "\n",
    "labels, values = zip(*unigram_freqs[:10])\n",
    "indexes = arange(len(labels))\n",
    "width = 0.8 # width = 1 would give bars that overlap because they are too close.\n",
    "\n",
    "fig = plt.figure(figsize=(10,7))                                                               \n",
    "ax = fig.gca() # Get current axis\n",
    "rects = ax.bar(indexes, values, width)\n",
    "\n",
    "# Add title and axis labels\n",
    "fig.suptitle('Top 10 Word Unigrams', fontsize=20)\n",
    "plt.xlabel('Word Unigram', fontsize=14)\n",
    "plt.ylabel('Frequency', fontsize=14)\n",
    "\n",
    "# Display value of each bar on bar\n",
    "for rect in rects:\n",
    "        height = rect.get_height()\n",
    "        ax.text(rect.get_x() + rect.get_width() / 2., 50 + height, '%d' % int(height), ha='center', va='bottom') # Can also add color and fontweight arguments.\n",
    "\n",
    "# Remove the default x-axis tick numbers and use tick numbers of your own choosing:\n",
    "ax.set_xticks(indexes)\n",
    "# Replace the tick numbers with strings:\n",
    "ax.set_xticklabels(labels)\n",
    "\n",
    "plt.show()\n",
    "# plt.savefig('top10EnglishWordUnigrams.png')"
   ]
  },
  {
   "cell_type": "code",
   "execution_count": 15,
   "metadata": {},
   "outputs": [
    {
     "data": {
      "image/png": "[encoded data removed]",
      "text/plain": [
       "<Figure size 1000x700 with 1 Axes>"
      ]
     },
     "metadata": {},
     "output_type": "display_data"
    }
   ],
   "source": [
    "\n",
    "labels, values = zip(*bigram_freqs[:10])\n",
    "indexes = arange(len(labels))\n",
    "width = 0.8 # width = 1 would give bars that overlap because they are too close.\n",
    "\n",
    "fig = plt.figure(figsize=(10,7))                                                               \n",
    "ax = fig.gca() # Get current axis\n",
    "rects = ax.bar(indexes, values, width)\n",
    "\n",
    "# Add title and axis labels\n",
    "fig.suptitle('Top 10 Word Bigrams', fontsize=20)\n",
    "plt.xlabel('Word Bigram', fontsize=14)\n",
    "plt.ylabel('Frequency', fontsize=14)\n",
    "\n",
    "# Display value of each bar on bar\n",
    "for rect in rects:\n",
    "        height = rect.get_height()\n",
    "        ax.text(rect.get_x() + rect.get_width() / 2., 50 + height, '%d' % int(height), ha='center', va='bottom') # Can also add color and fontweight arguments.\n",
    "\n",
    "# Remove the default x-axis tick numbers and use tick numbers of your own choosing:\n",
    "ax.set_xticks(indexes)\n",
    "# Replace the tick numbers with strings:\n",
    "ax.set_xticklabels(labels)\n",
    "\n",
    "plt.show()\n",
    "# plt.savefig('top10EnglishWordBigrams.png')"
   ]
  },
  {
   "cell_type": "markdown",
   "metadata": {},
   "source": [
    "\n",
    "# Finding Unusual Words"
   ]
  },
  {
   "cell_type": "markdown",
   "metadata": {},
   "source": [
    "\n",
    "Based on [hands-on-nltk-tutorial by hb20007](https://github.com/hb20007/hands-on-nltk-tutorial)"
   ]
  },
  {
   "cell_type": "markdown",
   "metadata": {},
   "source": [
    "\n",
    "## 1. Importing and exploring the words corpus"
   ]
  },
  {
   "cell_type": "code",
   "execution_count": 17,
   "metadata": {},
   "outputs": [
    {
     "data": {
      "text/plain": [
       "'Wordlists  en: English, http://en.wikipedia.org/wiki/Words_(Unix) en-basic: 850 English words: C.K. Ogden in The ABC of Basic English (1932) '"
      ]
     },
     "execution_count": 17,
     "metadata": {},
     "output_type": "execute_result"
    }
   ],
   "source": [
    "\n",
    "from nltk.corpus import words\n",
    "\n",
    "words.readme().replace('\\n', ' ')"
   ]
  },
  {
   "cell_type": "code",
   "execution_count": 18,
   "metadata": {},
   "outputs": [
    {
     "data": {
      "text/plain": [
       "<WordListCorpusReader in 'C:\\\\Users\\\\DaveBabbitt\\\\AppData\\\\Roaming\\\\nltk_data\\\\corpora\\\\words'>"
      ]
     },
     "execution_count": 18,
     "metadata": {},
     "output_type": "execute_result"
    }
   ],
   "source": [
    "\n",
    "words"
   ]
  },
  {
   "cell_type": "code",
   "execution_count": 19,
   "metadata": {},
   "outputs": [
    {
     "data": {
      "text/plain": [
       "['en', 'en-basic']"
      ]
     },
     "execution_count": 19,
     "metadata": {},
     "output_type": "execute_result"
    }
   ],
   "source": [
    "\n",
    "words.fileids()"
   ]
  },
  {
   "cell_type": "code",
   "execution_count": 20,
   "metadata": {},
   "outputs": [
    {
     "data": {
      "text/plain": [
       "['palmist', 'Dob', 'abscise', 'ruer', 'bulked', 'arterioarctia', 'manism', 'cedrol', 'foehn', 'Medina']"
      ]
     },
     "execution_count": 20,
     "metadata": {},
     "output_type": "execute_result"
    }
   ],
   "source": [
    "\n",
    "random.sample(words.words('en'), 10)"
   ]
  },
  {
   "cell_type": "code",
   "execution_count": 21,
   "metadata": {},
   "outputs": [
    {
     "data": {
      "text/plain": [
       "['animal', 'spoon', 'foot', 'voice', 'clear', 'face', 'band', 'increase', 'do', 'use']"
      ]
     },
     "execution_count": 21,
     "metadata": {},
     "output_type": "execute_result"
    }
   ],
   "source": [
    "\n",
    "random.sample(words.words('en-basic'), 10)"
   ]
  },
  {
   "cell_type": "code",
   "execution_count": 42,
   "metadata": {},
   "outputs": [
    {
     "data": {
      "text/plain": [
       "235886"
      ]
     },
     "execution_count": 42,
     "metadata": {},
     "output_type": "execute_result"
    }
   ],
   "source": [
    "\n",
    "len(words.words('en'))"
   ]
  },
  {
   "cell_type": "code",
   "execution_count": 23,
   "metadata": {},
   "outputs": [
    {
     "data": {
      "text/plain": [
       "850"
      ]
     },
     "execution_count": 23,
     "metadata": {},
     "output_type": "execute_result"
    }
   ],
   "source": [
    "\n",
    "len(words.words('en-basic'))"
   ]
  },
  {
   "cell_type": "markdown",
   "metadata": {},
   "source": [
    "\n",
    "## 2. Tokenizing text"
   ]
  },
  {
   "cell_type": "code",
   "execution_count": 49,
   "metadata": {},
   "outputs": [
    {
     "name": "stdout",
     "output_type": "stream",
     "text": [
      "The voice capture corpus contains 183,588 words.\n"
     ]
    },
    {
     "data": {
      "text/plain": [
       "['a', 'yeah', 'anything', 'a', \"'s\", 'groan', 'hand', 'time', 'Yep', \"n't\"]"
      ]
     },
     "execution_count": 49,
     "metadata": {},
     "output_type": "execute_result"
    }
   ],
   "source": [
    "\n",
    "from nltk import word_tokenize\n",
    "\n",
    "words_list = [w for s in df.voice_capture_message for w in s.split()]\n",
    "text_tokenized = word_tokenize(' '.join(words_list))\n",
    "print(f'The voice capture corpus contains {len(text_tokenized):,} words.')\n",
    "random.sample(text_tokenized, 10)"
   ]
  },
  {
   "cell_type": "markdown",
   "metadata": {},
   "source": [
    "## 3. Finding unusual words"
   ]
  },
  {
   "cell_type": "code",
   "execution_count": 53,
   "metadata": {},
   "outputs": [
    {
     "name": "stdout",
     "output_type": "stream",
     "text": [
      "The voice capture corpus contains a set of 3,472 unpunctuated tokens.\n",
      "The English vocabulary contains a set of 234,377 unpunctuated tokens.\n"
     ]
    },
    {
     "data": {
      "text/plain": [
       "{'commands', 'anymore', 'hands', 'kid', 'looks', 'burns', 'waivers', 'cranking', 'jacked', 'has', 'expected', 'modbutton', 'okay', 'meds', 'netflix'}"
      ]
     },
     "execution_count": 53,
     "metadata": {},
     "output_type": "execute_result"
    }
   ],
   "source": [
    "\n",
    "words_list = [w.lower() for w in text_tokenized if w.isalpha()]\n",
    "print(f'The voice capture corpus contains a set of {len(set(words_list)):,} unpunctuated tokens.')\n",
    "text_vocab = set(random.sample(words_list, 320))\n",
    "english_vocab = set(w.lower() for w in words.words())\n",
    "print(f'The English vocabulary contains a set of {len(english_vocab):,} unpunctuated tokens.')\n",
    "text_vocab - english_vocab"
   ]
  },
  {
   "cell_type": "code",
   "execution_count": 51,
   "metadata": {},
   "outputs": [
    {
     "data": {
      "text/plain": [
       "['nubiform', 'overlong', 'shuddersome', 'swanmark', 'conjunctur', 'tampang', 'kirkyard', 'retake', 'monont', 'unenraged']"
      ]
     },
     "execution_count": 51,
     "metadata": {},
     "output_type": "execute_result"
    }
   ],
   "source": [
    "\n",
    "random.sample([w.lower() for w in words.words()], 10)"
   ]
  },
  {
   "cell_type": "code",
   "execution_count": 55,
   "metadata": {},
   "outputs": [
    {
     "name": "stdout",
     "output_type": "stream",
     "text": [
      "The Unusual Set contains a set of 813 unpunctuated tokens.\n"
     ]
    },
    {
     "data": {
      "text/plain": [
       "[('im', 1769), ('modbutton', 1434), ('okay', 389), ('looks', 325), ('injuries', 238), ('guys', 215), ('stairs', 172), ('gotcha', 165), ('has', 162), ('pulses', 101)]"
      ]
     },
     "execution_count": 55,
     "metadata": {},
     "output_type": "execute_result"
    }
   ],
   "source": [
    "\n",
    "# Note .isalpha() removes punctuation tokens.\n",
    "# However, tokens with a hyphen like 'browser-based' are totally skipped over because .isalpha() would be false.\n",
    "english_vocab = set(w.lower() for w in words.words())\n",
    "text_vocab = set(words_list)\n",
    "unusual_set = text_vocab - english_vocab\n",
    "print(f'The Unusual Set contains a set of {len(unusual_set):,} unpunctuated tokens.')\n",
    "unusual_dict = {}\n",
    "for word in unusual_set:\n",
    "    if word in unigram_dict:\n",
    "        # print(word, unigram_dict[word])\n",
    "        unusual_dict[word] = unigram_dict[word]\n",
    "unusual_freqs = sorted(unusual_dict.items(), key=operator.itemgetter(1), reverse=True)\n",
    "unusual_freqs[:10]"
   ]
  },
  {
   "cell_type": "code",
   "execution_count": null,
   "metadata": {},
   "outputs": [],
   "source": []
  }
 ],
 "metadata": {
  "kernelspec": {
   "display_name": "Python 3 (ipykernel)",
   "language": "python",
   "name": "python3"
  },
  "language_info": {
   "codemirror_mode": {
    "name": "ipython",
    "version": 3
   },
   "file_extension": ".py",
   "mimetype": "text/x-python",
   "name": "python",
   "nbconvert_exporter": "python",
   "pygments_lexer": "ipython3",
   "version": "3.10.8"
  }
 },
 "nbformat": 4,
 "nbformat_minor": 4
}

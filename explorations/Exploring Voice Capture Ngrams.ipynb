{
 "cells": [
  {
   "cell_type": "markdown",
   "metadata": {},
   "source": [
    "\n",
    "# Exploring Voice Capture Ngrams"
   ]
  },
  {
   "cell_type": "markdown",
   "metadata": {},
   "source": [
    "\n",
    "Based on [hands-on-nltk-tutorial by hb20007](https://github.com/hb20007/hands-on-nltk-tutorial)"
   ]
  },
  {
   "cell_type": "markdown",
   "metadata": {},
   "source": [
    "\n",
    "## 0. Importing libraries and FRVRS logs dataframe and creating helper tokenize method"
   ]
  },
  {
   "cell_type": "code",
   "execution_count": 1,
   "metadata": {},
   "outputs": [
    {
     "name": "stdout",
     "output_type": "stream",
     "text": [
      "Pretty printing has been turned OFF\n"
     ]
    }
   ],
   "source": [
    "\n",
    "%pprint\n",
    "import sys\n",
    "sys.path.insert(1, '../py')"
   ]
  },
  {
   "cell_type": "code",
   "execution_count": 2,
   "metadata": {},
   "outputs": [
    {
     "name": "stdout",
     "output_type": "stream",
     "text": [
      "(832366, 110)\n"
     ]
    }
   ],
   "source": [
    "\n",
    "%matplotlib inline\n",
    "from datetime import timedelta\n",
    "from nltk import ngrams, FreqDist, word_tokenize\n",
    "from notebook_utils import NotebookUtilities\n",
    "from numpy import arange\n",
    "from pandas import DataFrame\n",
    "import humanize\n",
    "import matplotlib.pyplot as plt\n",
    "import numpy as np\n",
    "import operator\n",
    "import os\n",
    "import pandas as pd\n",
    "import random\n",
    "import re\n",
    "import string\n",
    "\n",
    "# Get all CSVs into one data frame\n",
    "nu = NotebookUtilities(data_folder_path=os.path.abspath('../data'))\n",
    "if nu.pickle_exists('frvrs_logs_df'):\n",
    "    frvrs_logs_df = nu.load_object('frvrs_logs_df')\n",
    "    print(frvrs_logs_df.shape)\n",
    "    # df = frvrs_logs_df.sample(4).dropna(axis='columns', how='all')\n",
    "    # display(df.T)"
   ]
  },
  {
   "cell_type": "code",
   "execution_count": 3,
   "metadata": {},
   "outputs": [],
   "source": [
    "\n",
    "def ultimate_tokenize(sentence):\n",
    "    \n",
    "    # Remove punctuation and digits\n",
    "    sentence = sentence.translate(str.maketrans('', '', string.punctuation + string.digits))\n",
    "    \n",
    "    return word_tokenize(sentence.lower())"
   ]
  },
  {
   "cell_type": "markdown",
   "metadata": {},
   "source": [
    "## 1. Understanding the process"
   ]
  },
  {
   "cell_type": "code",
   "execution_count": 4,
   "metadata": {},
   "outputs": [],
   "source": [
    "\n",
    "def show_corpus_stats(sents_list):\n",
    "    sent_count = len(sents_list)\n",
    "    \n",
    "    # Calculate the average word length\n",
    "    word_ave = np.mean([len(word) for sent in sents_list for word in sent])\n",
    "    \n",
    "    print(f'The voice capture corpus contains {sent_count:,} sentences with an average of {word_ave:0.2} words each.')"
   ]
  },
  {
   "cell_type": "code",
   "execution_count": 5,
   "metadata": {},
   "outputs": [
    {
     "name": "stdout",
     "output_type": "stream",
     "text": [
      "The voice capture corpus contains 34,310 sentences with an average of 3.7 words each.\n"
     ]
    }
   ],
   "source": [
    "\n",
    "mask_series = (frvrs_logs_df.action_type == 'VOICE_CAPTURE')\n",
    "df = frvrs_logs_df[mask_series]\n",
    "# display(df.sample(min(4, df.shape[0])).dropna(axis='columns', how='all').T)\n",
    "# voice_capture_text = '\\n'.join(df.voice_capture_message)\n",
    "\n",
    "voice_capture_tokens_words = [ultimate_tokenize(x) for x in df.voice_capture_message]\n",
    "show_corpus_stats(voice_capture_tokens_words)"
   ]
  },
  {
   "cell_type": "code",
   "execution_count": 6,
   "metadata": {},
   "outputs": [
    {
     "data": {
      "text/plain": [
       "['s', 'e', 't']"
      ]
     },
     "execution_count": 6,
     "metadata": {},
     "output_type": "execute_result"
    }
   ],
   "source": [
    "\n",
    "voice_capture_tokens_chars = list(voice_capture_tokens_words[0][0])\n",
    "voice_capture_tokens_chars"
   ]
  },
  {
   "cell_type": "code",
   "execution_count": 7,
   "metadata": {},
   "outputs": [
    {
     "name": "stdout",
     "output_type": "stream",
     "text": [
      "('set',)\n",
      "('lay',)\n",
      "('down',)\n"
     ]
    }
   ],
   "source": [
    "\n",
    "voice_capture_tokens_words_unigrams = [list(ngrams(x, 1)) for x in voice_capture_tokens_words]\n",
    "for x in voice_capture_tokens_words_unigrams[0]:\n",
    "    print(x)"
   ]
  },
  {
   "cell_type": "code",
   "execution_count": 8,
   "metadata": {},
   "outputs": [
    {
     "name": "stdout",
     "output_type": "stream",
     "text": [
      "('_', 'set')\n",
      "('set', 'lay')\n",
      "('lay', 'down')\n",
      "('down', '_')\n"
     ]
    }
   ],
   "source": [
    "\n",
    "voice_capture_tokens_words_bigrams = [\n",
    "    list(\n",
    "        ngrams(x, 2, pad_left=True, pad_right=True, left_pad_symbol='_', right_pad_symbol='_')\n",
    "    ) for x in voice_capture_tokens_words\n",
    "]\n",
    "for x in voice_capture_tokens_words_bigrams[0]:\n",
    "    print(x)"
   ]
  },
  {
   "cell_type": "code",
   "execution_count": 9,
   "metadata": {},
   "outputs": [
    {
     "name": "stdout",
     "output_type": "stream",
     "text": [
      "FreqDist({('set',): 1, ('lay',): 1, ('down',): 1})\n"
     ]
    }
   ],
   "source": [
    "\n",
    "unigram_freqdists_list = [FreqDist(x) for x in voice_capture_tokens_words_unigrams]\n",
    "for freqdist_obj in unigram_freqdists_list:\n",
    "    freqdist_obj.pprint()\n",
    "    break"
   ]
  },
  {
   "cell_type": "code",
   "execution_count": 10,
   "metadata": {},
   "outputs": [
    {
     "name": "stdout",
     "output_type": "stream",
     "text": [
      "FreqDist({('_', 'set'): 1, ('set', 'lay'): 1, ('lay', 'down'): 1, ('down', '_'): 1})\n"
     ]
    }
   ],
   "source": [
    "\n",
    "bigram_freqdists_list = [FreqDist(x) for x in voice_capture_tokens_words_bigrams]\n",
    "for freqdist_obj in bigram_freqdists_list:\n",
    "    freqdist_obj.pprint()\n",
    "    break"
   ]
  },
  {
   "cell_type": "code",
   "execution_count": 11,
   "metadata": {},
   "outputs": [
    {
     "data": {
      "text/plain": [
       "{'pregnant': 3, 'reset': 3, 'extreme': 1, 'thought': 42, 'to': 2964}"
      ]
     },
     "execution_count": 11,
     "metadata": {},
     "output_type": "execute_result"
    }
   ],
   "source": [
    "\n",
    "unigram_dict = dict()\n",
    "for freqdist_obj in unigram_freqdists_list:\n",
    "    for k, v in freqdist_obj.items():\n",
    "        k = ' '.join(k)\n",
    "        if k in unigram_dict: v += unigram_dict[k]\n",
    "        unigram_dict[k] = v\n",
    "\n",
    "# Display a sub-dictionary with a number of random keys and their values\n",
    "nu.get_random_subdictionary(unigram_dict)"
   ]
  },
  {
   "cell_type": "code",
   "execution_count": 12,
   "metadata": {},
   "outputs": [
    {
     "data": {
      "text/plain": [
       "{'dies eventually': 1, 'blurry good': 1, 'take then': 1, 'second and': 3, 'her tag': 1}"
      ]
     },
     "execution_count": 12,
     "metadata": {},
     "output_type": "execute_result"
    }
   ],
   "source": [
    "\n",
    "bigram_dict = dict()\n",
    "for freqdist_obj in bigram_freqdists_list:\n",
    "    for k, v in freqdist_obj.items():\n",
    "        k = ' '.join(k)\n",
    "        if k in bigram_dict: v += bigram_dict[k]\n",
    "        bigram_dict[k] = v\n",
    "\n",
    "# Display a sub-dictionary with a number of random keys and their values\n",
    "nu.get_random_subdictionary(bigram_dict)"
   ]
  },
  {
   "cell_type": "code",
   "execution_count": 13,
   "metadata": {},
   "outputs": [
    {
     "data": {
      "text/plain": [
       "[('ok', 8152), ('you', 7998), ('i', 4813), ('can', 3513), ('to', 2964), ('the', 2801), ('oh', 2713), ('alright', 2643), ('that', 2558), ('so', 2552)]"
      ]
     },
     "execution_count": 13,
     "metadata": {},
     "output_type": "execute_result"
    }
   ],
   "source": [
    "\n",
    "unigram_freqs = sorted(unigram_dict.items(), key=operator.itemgetter(1), reverse=True)\n",
    "unigram_freqs[:10]"
   ]
  },
  {
   "cell_type": "code",
   "execution_count": 14,
   "metadata": {},
   "outputs": [
    {
     "data": {
      "text/plain": [
       "[('_ ok', 5208), ('ok _', 4823), ('are you', 2078), ('_ oh', 2008), ('_ alright', 1902), ('_ are', 1747), ('you hurt', 1674), ('hurt _', 1642), ('_ modbutton', 1434), ('gon na', 1423)]"
      ]
     },
     "execution_count": 14,
     "metadata": {},
     "output_type": "execute_result"
    }
   ],
   "source": [
    "\n",
    "bigram_freqs = sorted(bigram_dict.items(), key=operator.itemgetter(1), reverse=True)\n",
    "bigram_freqs[:10]"
   ]
  },
  {
   "cell_type": "code",
   "execution_count": 15,
   "metadata": {},
   "outputs": [
    {
     "data": {
      "image/png": "[encoded data removed]",
      "text/plain": [
       "<Figure size 1000x700 with 1 Axes>"
      ]
     },
     "metadata": {},
     "output_type": "display_data"
    }
   ],
   "source": [
    "\n",
    "labels, values = zip(*unigram_freqs[:10])\n",
    "indexes = arange(len(labels))\n",
    "width = 0.8 # width = 1 would give bars that overlap because they are too close.\n",
    "\n",
    "fig = plt.figure(figsize=(10,7))                                                               \n",
    "ax = fig.gca() # Get current axis\n",
    "rects = ax.bar(indexes, values, width)\n",
    "\n",
    "# Add title and axis labels\n",
    "fig.suptitle('Top 10 Word Unigrams', fontsize=20)\n",
    "plt.xlabel('Word Unigram', fontsize=14)\n",
    "plt.ylabel('Frequency', fontsize=14)\n",
    "\n",
    "# Display value of each bar on bar\n",
    "for rect in rects:\n",
    "        height = rect.get_height()\n",
    "        ax.text(rect.get_x() + rect.get_width() / 2., 50 + height, '%d' % int(height), ha='center', va='bottom') # Can also add color and fontweight arguments.\n",
    "\n",
    "# Remove the default x-axis tick numbers and use tick numbers of your own choosing:\n",
    "ax.set_xticks(indexes)\n",
    "# Replace the tick numbers with strings:\n",
    "ax.set_xticklabels(labels)\n",
    "\n",
    "plt.show()\n",
    "# plt.savefig('top10EnglishWordUnigrams.png')"
   ]
  },
  {
   "cell_type": "code",
   "execution_count": 16,
   "metadata": {},
   "outputs": [
    {
     "data": {
      "image/png": "[encoded data removed]",
      "text/plain": [
       "<Figure size 1000x700 with 1 Axes>"
      ]
     },
     "metadata": {},
     "output_type": "display_data"
    }
   ],
   "source": [
    "\n",
    "labels, values = zip(*bigram_freqs[:10])\n",
    "indexes = arange(len(labels))\n",
    "width = 0.8 # width = 1 would give bars that overlap because they are too close.\n",
    "\n",
    "fig = plt.figure(figsize=(10,7))                                                               \n",
    "ax = fig.gca() # Get current axis\n",
    "rects = ax.bar(indexes, values, width)\n",
    "\n",
    "# Add title and axis labels\n",
    "fig.suptitle('Top 10 Word Bigrams', fontsize=20)\n",
    "plt.xlabel('Word Bigram', fontsize=14)\n",
    "plt.ylabel('Frequency', fontsize=14)\n",
    "\n",
    "# Display value of each bar on bar\n",
    "for rect in rects:\n",
    "        height = rect.get_height()\n",
    "        ax.text(rect.get_x() + rect.get_width() / 2., 50 + height, '%d' % int(height), ha='center', va='bottom') # Can also add color and fontweight arguments.\n",
    "\n",
    "# Remove the default x-axis tick numbers and use tick numbers of your own choosing:\n",
    "ax.set_xticks(indexes)\n",
    "# Replace the tick numbers with strings:\n",
    "ax.set_xticklabels(labels)\n",
    "\n",
    "plt.show()\n",
    "# plt.savefig('top10EnglishWordBigrams.png')"
   ]
  },
  {
   "cell_type": "markdown",
   "metadata": {},
   "source": [
    "\n",
    "# Finding Unusual Words"
   ]
  },
  {
   "cell_type": "markdown",
   "metadata": {},
   "source": [
    "\n",
    "Based on [hands-on-nltk-tutorial by hb20007](https://github.com/hb20007/hands-on-nltk-tutorial)"
   ]
  },
  {
   "cell_type": "markdown",
   "metadata": {},
   "source": [
    "\n",
    "## 1. Importing and exploring the words corpus"
   ]
  },
  {
   "cell_type": "code",
   "execution_count": 17,
   "metadata": {},
   "outputs": [
    {
     "data": {
      "text/plain": [
       "'Wordlists  en: English, http://en.wikipedia.org/wiki/Words_(Unix) en-basic: 850 English words: C.K. Ogden in The ABC of Basic English (1932) '"
      ]
     },
     "execution_count": 17,
     "metadata": {},
     "output_type": "execute_result"
    }
   ],
   "source": [
    "\n",
    "from nltk.corpus import words\n",
    "\n",
    "words.readme().replace('\\n', ' ')"
   ]
  },
  {
   "cell_type": "code",
   "execution_count": 18,
   "metadata": {},
   "outputs": [
    {
     "data": {
      "text/plain": [
       "<WordListCorpusReader in 'C:\\\\Users\\\\DaveBabbitt\\\\AppData\\\\Roaming\\\\nltk_data\\\\corpora\\\\words'>"
      ]
     },
     "execution_count": 18,
     "metadata": {},
     "output_type": "execute_result"
    }
   ],
   "source": [
    "\n",
    "words"
   ]
  },
  {
   "cell_type": "code",
   "execution_count": 19,
   "metadata": {},
   "outputs": [
    {
     "data": {
      "text/plain": [
       "['en', 'en-basic']"
      ]
     },
     "execution_count": 19,
     "metadata": {},
     "output_type": "execute_result"
    }
   ],
   "source": [
    "\n",
    "words.fileids()"
   ]
  },
  {
   "cell_type": "code",
   "execution_count": 20,
   "metadata": {},
   "outputs": [
    {
     "data": {
      "text/plain": [
       "['overempired', 'inerrably', 'duotone', 'detonable', 'salenixon', 'schizothoracic', 'depigmentation', 'Perakim', 'persecutor', 'coniform']"
      ]
     },
     "execution_count": 20,
     "metadata": {},
     "output_type": "execute_result"
    }
   ],
   "source": [
    "\n",
    "random.sample(words.words('en'), 10)"
   ]
  },
  {
   "cell_type": "code",
   "execution_count": 21,
   "metadata": {},
   "outputs": [
    {
     "data": {
      "text/plain": [
       "['desire', 'building', 'forward', 'ear', 'dog', 'only', 'force', 'cough', 'feeble', 'of']"
      ]
     },
     "execution_count": 21,
     "metadata": {},
     "output_type": "execute_result"
    }
   ],
   "source": [
    "\n",
    "random.sample(words.words('en-basic'), 10)"
   ]
  },
  {
   "cell_type": "code",
   "execution_count": 22,
   "metadata": {},
   "outputs": [
    {
     "data": {
      "text/plain": [
       "235886"
      ]
     },
     "execution_count": 22,
     "metadata": {},
     "output_type": "execute_result"
    }
   ],
   "source": [
    "\n",
    "len(words.words('en'))"
   ]
  },
  {
   "cell_type": "code",
   "execution_count": 23,
   "metadata": {},
   "outputs": [
    {
     "data": {
      "text/plain": [
       "850"
      ]
     },
     "execution_count": 23,
     "metadata": {},
     "output_type": "execute_result"
    }
   ],
   "source": [
    "\n",
    "len(words.words('en-basic'))"
   ]
  },
  {
   "cell_type": "markdown",
   "metadata": {},
   "source": [
    "\n",
    "## 2. Tokenizing text"
   ]
  },
  {
   "cell_type": "code",
   "execution_count": 24,
   "metadata": {},
   "outputs": [
    {
     "name": "stdout",
     "output_type": "stream",
     "text": [
      "The voice capture corpus contains 183,588 words.\n"
     ]
    },
    {
     "data": {
      "text/plain": [
       "['green', 'over', 'but', 'you', 'me', 'move', 'oh', 'have', 'respiratory', 'you']"
      ]
     },
     "execution_count": 24,
     "metadata": {},
     "output_type": "execute_result"
    }
   ],
   "source": [
    "\n",
    "from nltk import word_tokenize\n",
    "\n",
    "words_list = [w for s in df.voice_capture_message for w in s.split()]\n",
    "text_tokenized = word_tokenize(' '.join(words_list))\n",
    "print(f'The voice capture corpus contains {len(text_tokenized):,} words.')\n",
    "random.sample(text_tokenized, 10)"
   ]
  },
  {
   "cell_type": "markdown",
   "metadata": {},
   "source": [
    "## 3. Finding unusual words"
   ]
  },
  {
   "cell_type": "code",
   "execution_count": 25,
   "metadata": {},
   "outputs": [
    {
     "name": "stdout",
     "output_type": "stream",
     "text": [
      "The voice capture corpus contains a set of 3,472 unpunctuated tokens.\n",
      "The English vocabulary contains a set of 234,377 unpunctuated tokens.\n"
     ]
    },
    {
     "data": {
      "text/plain": [
       "{'polls', 'modbutton', 'spurting', 'armbian', 'injuries', 'joystick', 'guys', 'looks', 'im'}"
      ]
     },
     "execution_count": 25,
     "metadata": {},
     "output_type": "execute_result"
    }
   ],
   "source": [
    "\n",
    "words_list = [w.lower() for w in text_tokenized if w.isalpha()]\n",
    "print(f'The voice capture corpus contains a set of {len(set(words_list)):,} unpunctuated tokens.')\n",
    "text_vocab = set(random.sample(words_list, 320))\n",
    "english_vocab = set(w.lower() for w in words.words())\n",
    "print(f'The English vocabulary contains a set of {len(english_vocab):,} unpunctuated tokens.')\n",
    "text_vocab - english_vocab"
   ]
  },
  {
   "cell_type": "code",
   "execution_count": 26,
   "metadata": {},
   "outputs": [
    {
     "data": {
      "text/plain": [
       "['sphincterismus', 'addability', 'reverend', 'bisley', 'isoxazole', 'legative', 'phantomizer', 'filipinize', 'prionidae', 'tutorless']"
      ]
     },
     "execution_count": 26,
     "metadata": {},
     "output_type": "execute_result"
    }
   ],
   "source": [
    "\n",
    "random.sample([w.lower() for w in words.words()], 10)"
   ]
  },
  {
   "cell_type": "code",
   "execution_count": 27,
   "metadata": {},
   "outputs": [
    {
     "name": "stdout",
     "output_type": "stream",
     "text": [
      "The Unusual Set contains a set of 813 unpunctuated tokens.\n"
     ]
    },
    {
     "data": {
      "text/plain": [
       "[('im', 1769), ('modbutton', 1434), ('okay', 389), ('looks', 325), ('injuries', 238), ('guys', 215), ('stairs', 172), ('gotcha', 165), ('has', 162), ('pulses', 101)]"
      ]
     },
     "execution_count": 27,
     "metadata": {},
     "output_type": "execute_result"
    }
   ],
   "source": [
    "\n",
    "# Note .isalpha() removes punctuation tokens.\n",
    "# However, tokens with a hyphen like 'browser-based' are totally skipped over because .isalpha() would be false.\n",
    "english_vocab = set(w.lower() for w in words.words())\n",
    "text_vocab = set(words_list)\n",
    "unusual_set = text_vocab - english_vocab\n",
    "print(f'The Unusual Set contains a set of {len(unusual_set):,} unpunctuated tokens.')\n",
    "unusual_dict = {}\n",
    "for word in unusual_set:\n",
    "    if word in unigram_dict:\n",
    "        # print(word, unigram_dict[word])\n",
    "        unusual_dict[word] = unigram_dict[word]\n",
    "unusual_freqs = sorted(unusual_dict.items(), key=operator.itemgetter(1), reverse=True)\n",
    "unusual_freqs[:10]"
   ]
  },
  {
   "cell_type": "markdown",
   "metadata": {},
   "source": [
    "\n",
    "# Parts of Speech and Meaning"
   ]
  },
  {
   "cell_type": "markdown",
   "metadata": {},
   "source": [
    "## 1. Tokenization"
   ]
  },
  {
   "cell_type": "code",
   "execution_count": 28,
   "metadata": {},
   "outputs": [
    {
     "data": {
      "text/plain": [
       "[['ok'], ['what you just say'], ['wave'], ['stay here'], ['patients'], ['alrighty then'], ['alright'], ['modbutton no'], ['ok'], ['.']]"
      ]
     },
     "execution_count": 28,
     "metadata": {},
     "output_type": "execute_result"
    }
   ],
   "source": [
    "\n",
    "from nltk import sent_tokenize, word_tokenize\n",
    "\n",
    "sentences_list = [sent_tokenize(t.lower()) for t in df.voice_capture_message]\n",
    "random.sample(sentences_list, 10)"
   ]
  },
  {
   "cell_type": "code",
   "execution_count": 29,
   "metadata": {},
   "outputs": [
    {
     "data": {
      "text/plain": [
       "['so you know i would walk in see those four patients i would go and say if anybody can hear me i want you to wlk over here ok']"
      ]
     },
     "execution_count": 29,
     "metadata": {},
     "output_type": "execute_result"
    }
   ],
   "source": [
    "\n",
    "sentences_list[2]"
   ]
  },
  {
   "cell_type": "code",
   "execution_count": 30,
   "metadata": {},
   "outputs": [
    {
     "data": {
      "text/plain": [
       "'so you know i would walk in see those four patients i would go and say if anybody can hear me i want you to wlk over here ok'"
      ]
     },
     "metadata": {},
     "output_type": "display_data"
    },
    {
     "data": {
      "text/plain": [
       "['so', 'you', 'know', 'i', 'would', 'walk', 'in', 'see', 'those', 'four', 'patients', 'i', 'would', 'go', 'and', 'say', 'if', 'anybody', 'can', 'hear', 'me', 'i', 'want', 'you', 'to', 'wlk', 'over', 'here', 'ok']"
      ]
     },
     "execution_count": 30,
     "metadata": {},
     "output_type": "execute_result"
    }
   ],
   "source": [
    "\n",
    "text = sentences_list[2][0]\n",
    "display(text)\n",
    "tokens = word_tokenize(text, language='english', preserve_line=True)\n",
    "tokens"
   ]
  },
  {
   "cell_type": "markdown",
   "metadata": {},
   "source": [
    "## 2. POS Tagging"
   ]
  },
  {
   "cell_type": "code",
   "execution_count": 31,
   "metadata": {},
   "outputs": [
    {
     "data": {
      "text/plain": [
       "[('so', 'RB'), ('you', 'PRP'), ('know', 'VBP'), ('i', 'RB'), ('would', 'MD'), ('walk', 'VB'), ('in', 'IN'), ('see', 'NN'), ('those', 'DT'), ('four', 'CD'), ('patients', 'NNS'), ('i', 'NN'), ('would', 'MD'), ('go', 'VB'), ('and', 'CC'), ('say', 'VB'), ('if', 'IN'), ('anybody', 'NN'), ('can', 'MD'), ('hear', 'VB'), ('me', 'PRP'), ('i', 'JJ'), ('want', 'VBP'), ('you', 'PRP'), ('to', 'TO'), ('wlk', 'VB'), ('over', 'IN'), ('here', 'RB'), ('ok', 'JJ')]"
      ]
     },
     "execution_count": 31,
     "metadata": {},
     "output_type": "execute_result"
    }
   ],
   "source": [
    "\n",
    "from nltk import pos_tag\n",
    "\n",
    "tags = pos_tag(tokens)\n",
    "tags"
   ]
  },
  {
   "cell_type": "markdown",
   "metadata": {},
   "source": [
    "To access documentation for tags, for example for `NN`:"
   ]
  },
  {
   "cell_type": "code",
   "execution_count": 32,
   "metadata": {},
   "outputs": [
    {
     "name": "stdout",
     "output_type": "stream",
     "text": [
      "NN: noun, common, singular or mass\n",
      "    common-carrier cabbage knuckle-duster Casino afghan shed thermostat\n",
      "    investment slide humour falloff slick wind hyena override subhumanity\n",
      "    machinist ...\n"
     ]
    }
   ],
   "source": [
    "\n",
    "import nltk.help\n",
    "\n",
    "nltk.help.upenn_tagset('NN')"
   ]
  },
  {
   "cell_type": "markdown",
   "metadata": {},
   "source": [
    "## 3. Word senses (for homonyms)"
   ]
  },
  {
   "cell_type": "markdown",
   "metadata": {},
   "source": [
    "WordNet is a lexical database for the English language in the form of a semantic graph. \n",
    "\n",
    "WordNet groups English words into sets of synonyms called synsets, provides short definitions and usage examples, and records a number of relations among these synonym sets or their members.\n",
    "\n",
    "NLTK provides an interface to the WordNet API."
   ]
  },
  {
   "cell_type": "code",
   "execution_count": 33,
   "metadata": {},
   "outputs": [
    {
     "data": {
      "text/plain": [
       "[Synset('patient.n.01'), Synset('affected_role.n.01'), Synset('patient.a.01')]"
      ]
     },
     "execution_count": 33,
     "metadata": {},
     "output_type": "execute_result"
    }
   ],
   "source": [
    "\n",
    "from nltk.corpus import wordnet as wn\n",
    "\n",
    "wn.synsets('patient')"
   ]
  },
  {
   "cell_type": "code",
   "execution_count": 34,
   "metadata": {},
   "outputs": [
    {
     "data": {
      "text/plain": [
       "'a person who requires medical care'"
      ]
     },
     "execution_count": 34,
     "metadata": {},
     "output_type": "execute_result"
    }
   ],
   "source": [
    "\n",
    "wn.synsets('patient')[0].definition()"
   ]
  },
  {
   "cell_type": "code",
   "execution_count": 35,
   "metadata": {},
   "outputs": [
    {
     "data": {
      "text/plain": [
       "'the semantic role of an entity that is not the agent but is directly involved in or affected by the happening denoted by the verb in the clause'"
      ]
     },
     "execution_count": 35,
     "metadata": {},
     "output_type": "execute_result"
    }
   ],
   "source": [
    "\n",
    "wn.synsets('patient')[1].definition()"
   ]
  },
  {
   "cell_type": "code",
   "execution_count": 36,
   "metadata": {},
   "outputs": [
    {
     "data": {
      "text/plain": [
       "Synset('patient.n.01')"
      ]
     },
     "execution_count": 36,
     "metadata": {},
     "output_type": "execute_result"
    }
   ],
   "source": [
    "\n",
    "patient = wn.synsets('patient', pos=wn.NOUN)[0]\n",
    "patient"
   ]
  },
  {
   "cell_type": "code",
   "execution_count": 37,
   "metadata": {},
   "outputs": [
    {
     "data": {
      "text/plain": [
       "[Synset('case.n.06'), Synset('sick_person.n.01')]"
      ]
     },
     "execution_count": 37,
     "metadata": {},
     "output_type": "execute_result"
    }
   ],
   "source": [
    "\n",
    "# A hypernym is a word with a broad meaning constituting a\n",
    "# category into which words with more specific meanings fall;\n",
    "# a superordinate. For example, colour is a hypernym of red.\n",
    "patient.hypernyms()"
   ]
  },
  {
   "cell_type": "code",
   "execution_count": 38,
   "metadata": {},
   "outputs": [
    {
     "data": {
      "text/plain": [
       "[Synset('alexic.n.01'), Synset('analysand.n.01'), Synset('arthritic.n.01'), Synset('hypertensive.n.01'), Synset('hypochondriac.n.01'), Synset('hypotensive.n.01'), Synset('index_case.n.01'), Synset('inpatient.n.01'), Synset('outpatient.n.01'), Synset('vaccinee.n.01')]"
      ]
     },
     "execution_count": 38,
     "metadata": {},
     "output_type": "execute_result"
    }
   ],
   "source": [
    "\n",
    "patient.hyponyms()"
   ]
  },
  {
   "cell_type": "code",
   "execution_count": 39,
   "metadata": {},
   "outputs": [
    {
     "data": {
      "text/plain": [
       "[('ok', 8152), ('you', 7998), ('i', 4813), ('can', 3513), ('to', 2964), ('the', 2801), ('oh', 2713), ('alright', 2643), ('that', 2558), ('so', 2552), ('are', 2407), ('me', 2315), ('a', 2248), ('and', 2225), ('it', 1870), ('this', 1866), ('is', 1830), ('go', 1819), ('hurt', 1813), ('yeah', 1809), ('your', 1778), ('im', 1769), ('there', 1739), ('na', 1622), ('wave', 1593), ('walk', 1569), ('no', 1537), ('here', 1512), ('on', 1467), ('modbutton', 1434), ('gon', 1423), ('do', 1411), ('got', 1265), ('right', 1243), ('if', 1207), ('like', 1134), ('just', 1076), ('hear', 1072), ('see', 1040), ('we', 1002), ('over', 993), ('have', 919), ('hes', 907), ('thats', 894), ('what', 858), ('not', 851), ('youre', 820), ('dont', 787), ('pulse', 775), ('its', 757), ('of', 749), ('my', 745), ('for', 728), ('then', 711), ('in', 709), ('up', 708), ('get', 694), ('be', 691), ('good', 660), ('him', 646), ('one', 643), ('he', 624), ('yes', 609), ('now', 586), ('well', 580), ('at', 579), ('person', 565), ('sir', 564), ('guy', 550), ('but', 545), ('down', 539), ('or', 527), ('bleeding', 520), ('were', 520), ('with', 517), ('back', 507), ('whats', 502), ('think', 500), ('put', 497), ('breathing', 491), ('else', 474), ('know', 469), ('tag', 467), ('lets', 467), ('yep', 462), ('any', 457), ('where', 442), ('cant', 433), ('how', 421), ('name', 409), ('hey', 403), ('anything', 390), ('okay', 389), ('his', 382), ('anybody', 381), ('check', 358), ('lay', 354), ('red', 353), ('show', 349), ('was', 344), ('other', 343), ('move', 342), ('out', 334), ('all', 332), ('come', 327), ('looks', 325), ('going', 324), ('did', 317), ('need', 301), ('please', 295), ('anywhere', 286), ('look', 282), ('still', 282), ('her', 281), ('help', 278), ('hi', 276), ('sorry', 274), ('cool', 274), ('hand', 273), ('who', 267), ('take', 267), ('tell', 265), ('theres', 260), ('way', 255), ('feel', 255), ('ill', 253), ('stand', 250), ('first', 249), ('them', 248), ('leg', 245), ('some', 243), ('tourniquet', 241), ('everybody', 238), ('injuries', 238), ('thing', 237), ('little', 237), ('want', 233), ('voice', 231), ('chest', 226), ('let', 226), ('they', 225), ('arm', 222), ('yellow', 218), ('guys', 215), ('doing', 215), ('shes', 215), ('able', 210), ('say', 208), ('she', 207), ('would', 206), ('ahead', 206), ('again', 202), ('sit', 200), ('wan', 199), ('green', 196), ('didnt', 191), ('groan', 191), ('sure', 190), ('people', 183), ('hello', 181), ('give', 178), ('will', 177), ('probably', 177), ('an', 176), ('around', 176), ('does', 174), ('try', 174), ('really', 173), ('as', 172), ('stairs', 172), ('wait', 172), ('turn', 169), ('maam', 169), ('about', 166), ('gotcha', 165), ('could', 164), ('has', 162), ('start', 161), ('hurting', 160), ('stop', 158), ('because', 157), ('from', 153), ('make', 152), ('moving', 151), ('safe', 151), ('am', 148), ('theyre', 147), ('done', 147), ('side', 146), ('doesnt', 146), ('guess', 144), ('injury', 143), ('more', 142), ('man', 141), ('only', 140), ('hold', 140), ('blood', 138), ('anyone', 137), ('wrong', 136), ('pause', 133), ('ta', 133), ('grab', 132), ('immediate', 130), ('when', 128), ('should', 128), ('pretty', 128), ('these', 125), ('talk', 124), ('thank', 124), ('raise', 123), ('dead', 122), ('why', 122), ('something', 121), ('mean', 120), ('nope', 118), ('wound', 117), ('subway', 115), ('those', 112), ('buddy', 112), ('real', 112), ('roll', 112), ('actually', 110), ('maybe', 110), ('said', 110), ('next', 110), ('too', 109), ('bit', 104), ('trying', 102), ('pulses', 101), ('patients', 100), ('two', 99), ('away', 99), ('fine', 99), ('needle', 99), ('perfect', 98), ('pack', 98), ('delayed', 96), ('head', 96), ('kind', 95), ('nice', 95), ('teleport', 94), ('second', 94), ('ive', 94), ('work', 93), ('commands', 92), ('their', 92), ('needs', 92), ('keep', 90), ('quick', 90), ('time', 89), ('great', 89), ('ask', 89), ('already', 89), ('having', 88), ('left', 88), ('god', 87), ('dude', 87), ('coming', 87), ('oops', 85), ('hands', 84), ('black', 83), ('cause', 83), ('area', 83), ('by', 82), ('zone', 82), ('everyone', 81), ('station', 80), ('talking', 80), ('sounds', 79), ('scene', 79), ('hurts', 78), ('towards', 78), ('off', 78), ('airway', 78), ('use', 77), ('better', 77), ('nothing', 77), ('been', 75), ('waving', 74), ('forward', 74), ('patient', 73), ('bad', 73), ('kit', 73), ('controlled', 73), ('than', 72), ('open', 72), ('care', 70), ('somebody', 69), ('walking', 69), ('much', 69), ('heard', 68), ('fast', 67), ('into', 66), ('minutes', 66), ('weird', 66), ('close', 66), ('remember', 65), ('unconscious', 64), ('point', 64), ('supposed', 64), ('lot', 63), ('stopped', 63), ('wheres', 63), ('also', 62), ('scenario', 62), ('sort', 61), ('explosion', 61), ('had', 61), ('injured', 61), ('push', 61), ('wrap', 60), ('tagged', 60), ('stuff', 60), ('control', 60), ('getting', 59), ('boy', 59), ('gets', 58), ('through', 58), ('triage', 58), ('youve', 58), ('very', 58), ('wow', 57), ('ha', 57), ('though', 57), ('feeling', 57), ('standing', 56), ('which', 56), ('steps', 56), ('looking', 55), ('stay', 55), ('dispatched', 54), ('seeing', 54), ('rapid', 54), ('huh', 53), ('wrist', 53), ('pressure', 53), ('alrighty', 53), ('life', 52), ('goes', 52), ('hang', 52), ('whos', 52), ('stomach', 51), ('even', 51), ('behind', 51), ('k', 51), ('ah', 50), ('ones', 50), ('another', 50), ('uhm', 50), ('might', 49), ('youll', 48), ('reach', 48), ('awesome', 47), ('ready', 47), ('forgot', 47), ('happened', 47), ('set', 46), ('wall', 46), ('someone', 45), ('bleed', 45), ('hmm', 45), ('trouble', 44), ('bandage', 44), ('leave', 44), ('things', 43), ('room', 43), ('breathe', 43), ('gauze', 43), ('respiratory', 43), ('thought', 42), ('place', 42), ('decompression', 42), ('four', 41), ('trigger', 41), ('gosh', 41), ('lady', 41), ('questions', 40), ('decompress', 40), ('difficulty', 40), ('pain', 40), ('since', 40), ('listen', 40), ('follow', 39), ('shirt', 39), ('makes', 39), ('shoot', 39), ('whoops', 39), ('play', 39), ('yet', 38), ('arterial', 38), ('id', 38), ('expectant', 38), ('program', 37), ('wont', 37), ('resource', 37), ('trauma', 37), ('middle', 37), ('definitely', 37), ('call', 37), ('obviously', 37), ('job', 36), ('treatment', 36), ('uh', 36), ('saying', 36), ('gray', 36), ('legs', 35), ('button', 35), ('minute', 35), ('missing', 34), ('obvious', 34), ('went', 34), ('seems', 34), ('everything', 34), ('soon', 34), ('whatever', 34), ('treated', 33), ('tags', 33), ('report', 33), ('tutorial', 33), ('whoa', 33), ('bag', 33), ('spurting', 33), ('working', 33), ('worry', 32), ('agonal', 32), ('our', 32), ('boom', 32), ('arms', 31), ('hell', 31), ('minimal', 31), ('far', 31), ('practice', 31), ('hard', 31), ('enough', 31), ('treat', 31), ('rise', 31), ('miss', 31), ('sweet', 31), ('once', 30), ('closer', 30), ('big', 30), ('hit', 30), ('change', 30), ('three', 30), ('wasnt', 30), ('top', 29), ('pull', 29), ('us', 29), ('before', 29), ('uhhuh', 28), ('sense', 28), ('never', 28), ('recognition', 28), ('besides', 28), ('checking', 28), ('gary', 28), ('respirations', 27), ('anymore', 27), ('cut', 27), ('expected', 27), ('hearing', 27), ('heres', 27), ('kinda', 27), ('same', 27), ('lily', 27), ('packing', 27), ('wanted', 27), ('case', 26), ('radio', 26), ('front', 26), ('face', 26), ('glide', 26), ('um', 26), ('polls', 26), ('step', 26), ('sky', 26), ('wounds', 26), ('says', 25), ('switch', 25), ('long', 25), ('thanks', 25), ('white', 25), ('speech', 25), ('walked', 25), ('dressing', 25), ('post', 25), ('may', 25), ('eyes', 25), ('finger', 24), ('somewhere', 24), ('penetrating', 24), ('bud', 24), ('lie', 24), ('expose', 24), ('press', 24), ('crap', 24), ('space', 24), ('tacky', 24), ('fix', 24), ('waved', 24), ('tight', 24), ('missed', 24), ('peripheral', 24), ('blue', 23), ('toggle', 23), ('day', 23), ('testing', 23), ('yourself', 23), ('matter', 23), ('run', 23), ('respond', 22), ('rest', 22), ('internal', 22), ('weve', 22), ('thumb', 22), ('problem', 22), ('movement', 22), ('heck', 22), ('seat', 22), ('read', 21), ('itll', 21), ('walkers', 21), ('expecting', 21), ('last', 21), ('turns', 21), ('hemostatic', 21), ('exposed', 21), ('major', 21), ('find', 21), ('reposition', 21), ('mind', 21), ('taking', 21), ('amputation', 20), ('new', 20), ('drop', 20), ('course', 20), ('shut', 20), ('hip', 20), ('spot', 20), ('kid', 20), ('part', 20), ('ears', 20), ('most', 20), ('die', 20), ('fall', 20), ('poop', 20), ('joystick', 20), ('turnock', 20), ('command', 19), ('question', 19), ('gone', 19), ('abdomen', 19), ('following', 19), ('until', 19), ('either', 19), ('cat', 19), ('understand', 19), ('answer', 19), ('works', 19), ('believe', 19), ('nobody', 19), ('waivers', 19), ('breath', 19), ('onto', 19), ('notice', 18), ('always', 18), ('circle', 18), ('saw', 18), ('havent', 18), ('packed', 18), ('sound', 18), ('messed', 18), ('home', 18), ('goodness', 18), ('local', 18), ('gentleman', 18), ('while', 18), ('figure', 18), ('attention', 18), ('light', 18), ('rate', 18), ('couple', 18), ('intact', 18), ('came', 18), ('false', 18), ('damn', 18), ('seen', 17), ('blurry', 17), ('talked', 17), ('seem', 17), ('reassess', 17), ('responder', 17), ('assess', 17), ('secured', 17), ('line', 17), ('running', 17), ('belly', 17), ('lost', 17), ('hows', 17), ('whole', 17), ('bro', 17), ('box', 17), ('effort', 17), ('resources', 17), ('persons', 16), ('salt', 16), ('send', 16), ('both', 16), ('bothering', 16), ('release', 16), ('band', 16), ('select', 16), ('unresponsive', 16), ('hemorrhage', 16), ('stabilize', 16), ('police', 16), ('wouldnt', 16), ('squirting', 16), ('full', 16), ('pick', 16), ('few', 16), ('problems', 16), ('outside', 16), ('letting', 16), ('stairwell', 16), ('present', 16), ('throw', 15), ('mark', 15), ('hidden', 15), ('clothes', 15), ('isnt', 15), ('physically', 15), ('quite', 15), ('helps', 15), ('assuming', 15), ('after', 15), ('friend', 15), ('fingers', 15), ('forget', 15), ('bob', 15), ('turning', 15), ('making', 15), ('thinking', 15), ('lung', 15), ('feet', 15), ('kneel', 15), ('bring', 15), ('ground', 15), ('computer', 15), ('correct', 15), ('sitting', 15), ('waiting', 15), ('turned', 15), ('extremity', 14), ('clear', 14), ('straight', 14), ('everybodys', 14), ('media', 14), ('medics', 14), ('tools', 14), ('tried', 14), ('neck', 14), ('least', 14), ('issues', 14), ('screen', 14), ('checked', 14), ('must', 14), ('feels', 14), ('center', 14), ('holy', 14), ('every', 14), ('worked', 14), ('emergency', 13), ('theyll', 13), ('moved', 13), ('figured', 13), ('concerned', 13), ('today', 13), ('otherwise', 13), ('responding', 13), ('took', 13), ('stethoscope', 13), ('near', 13), ('sometimes', 13), ('test', 13), ('greens', 13), ('apply', 13), ('true', 13), ('responsive', 13), ('actively', 13), ('active', 13), ('fun', 13), ('keeps', 13), ('train', 13), ('shortly', 13), ('shoulder', 13), ('couldnt', 13), ('being', 13), ('headset', 13), ('laying', 13), ('boss', 13), ('tagging', 13), ('hope', 13), ('putting', 13), ('geez', 13), ('reason', 13), ('myself', 13), ('dad', 13), ('appear', 13), ('vibration', 12), ('end', 12), ('love', 12), ('moment', 12), ('whether', 12), ('till', 12), ('expect', 12), ('worried', 12), ('starting', 12), ('ems', 12), ('search', 12), ('tighten', 12), ('distress', 12), ('best', 12), ('text', 12), ('relax', 12), ('air', 12), ('comes', 12), ('hopefully', 12), ('labored', 12), ('safety', 12), ('deal', 12), ('quit', 12), ('inside', 12), ('basically', 12), ('underneath', 12), ('fixed', 12), ('partner', 12), ('normal', 12), ('significant', 12), ('tourniquets', 12), ('watch', 12), ('under', 12), ('game', 11), ('possible', 11), ('process', 11), ('abdominal', 11), ('adjust', 11), ('double', 11), ('appreciate', 11), ('patience', 11), ('bottom', 11), ('without', 11), ('grey', 11), ('high', 11), ('everythings', 11), ('looked', 11), ('bye', 11), ('ear', 11), ('skip', 11), ('girl', 11), ('started', 11), ('bench', 11), ('poles', 11), ('further', 11), ('stick', 11), ('direct', 11), ('interesting', 11), ('wounded', 11), ('later', 11), ('except', 11), ('conscious', 11), ('pass', 10), ('delay', 10), ('almost', 10), ('training', 10), ('lower', 10), ('balls', 10), ('each', 10), ('shouldnt', 10), ('stairway', 10), ('telling', 10), ('between', 10), ('backwards', 10), ('anyway', 10), ('remove', 10), ('s', 10), ('attack', 10), ('terrible', 10), ('glasses', 10), ('dizzy', 10), ('pushing', 10), ('using', 10), ('heart', 10), ('excuse', 10), ('different', 10), ('secure', 10), ('surgeon', 10), ('slow', 10), ('brain', 10), ('plenty', 10), ('leaving', 10), ('complete', 9), ('wheezing', 9), ('ace', 9), ('laceration', 9), ('color', 9), ('clothing', 9), ('actual', 9), ('car', 9), ('decompressed', 9), ('meet', 9), ('delete', 9), ('arent', 9), ('asking', 9), ('comfortable', 9), ('compression', 9), ('position', 9), ('number', 9), ('touch', 9), ('intercostal', 9), ('serious', 9), ('provider', 9), ('altered', 9), ('pants', 9), ('technically', 9), ('someones', 9), ('somebodys', 9), ('super', 9), ('werent', 9), ('pop', 9), ('corner', 9), ('floor', 9), ('whoever', 9), ('told', 9), ('controller', 9), ('appears', 9), ('crazy', 9), ('reds', 9), ('easy', 9), ('index', 9), ('wherever', 9), ('torso', 9), ('sick', 9), ('taken', 9), ('whered', 9), ('shrapnel', 9), ('short', 9), ('means', 9), ('assume', 9), ('glory', 9), ('burns', 9), ('fella', 9), ('global', 8), ('threat', 8), ('instead', 8), ('kids', 8), ('sticking', 8), ('teleported', 8), ('folks', 8), ('speaking', 8), ('carotid', 8), ('dang', 8), ('suppose', 8), ('issue', 8), ('lungs', 8), ('jump', 8), ('used', 8), ('cortana', 8), ('minor', 8), ('body', 8), ('hed', 8), ('status', 8), ('dispatch', 8), ('gushing', 8), ('bilateral', 8), ('system', 8), ('listening', 8), ('phone', 8), ('multiple', 8), ('meant', 8), ('umm', 8), ('sides', 8), ('grabbing', 8), ('gurgling', 8), ('deep', 8), ('honestly', 8), ('yall', 8), ('squeeze', 8), ('longer', 8), ('against', 8), ('momentarily', 8), ('remote', 7), ('earlier', 7), ('click', 7), ('based', 7), ('collection', 7), ('wanting', 7), ('ya', 7), ('easier', 7), ('fire', 7), ('friends', 7), ('along', 7), ('giving', 7), ('sword', 7), ('buttons', 7), ('allowed', 7), ('touching', 7), ('improved', 7), ('dumb', 7), ('walker', 7), ('threats', 7), ('awake', 7), ('label', 7), ('dark', 7), ('sign', 7), ('worse', 7), ('rid', 7), ('absolutely', 7), ('idea', 7), ('equal', 7), ('staircase', 7), ('collapsed', 7), ('happening', 7), ('accurate', 7), ('speak', 7), ('collapse', 7), ('benches', 7), ('aint', 7), ('sucks', 7), ('forgetting', 7), ('gotten', 7), ('rolling', 7), ('creepy', 7), ('lord', 7), ('object', 7), ('woo', 7), ('stops', 7), ('save', 7), ('low', 7), ('focus', 7), ('strong', 7), ('rap', 7), ('june', 7), ('rabbit', 7), ('chess', 7), ('sleeve', 6), ('tired', 6), ('called', 6), ('everywhere', 6), ('kidding', 6), ('past', 6), ('respiration', 6), ('bone', 6), ('sleep', 6), ('dear', 6), ('controls', 6), ('yell', 6), ('threatening', 6), ('skin', 6), ('response', 6), ('uneven', 6), ('helpful', 6), ('difference', 6), ('gods', 6), ('baby', 6), ('yo', 6), ('agree', 6), ('scared', 6), ('concern', 6), ('type', 6), ('flail', 6), ('above', 6), ('lack', 6), ('radial', 6), ('none', 6), ('needed', 6), ('wish', 6), ('michael', 6), ('flat', 6), ('tachycardic', 6), ('found', 6), ('rising', 6), ('weather', 6), ('words', 6), ('scary', 6), ('triaging', 6), ('third', 6), ('sing', 6), ('funky', 6), ('closest', 6), ('mess', 6), ('treatments', 6), ('bunch', 6), ('wrapped', 6), ('exactly', 6), ('wonderful', 6), ('pal', 6), ('higher', 6), ('darn', 6), ('app', 6), ('wants', 6), ('aim', 6), ('everyones', 6), ('justin', 6), ('own', 6), ('yellows', 6), ('exit', 6), ('pool', 6), ('foot', 6), ('hospital', 6), ('five', 6), ('city', 6), ('triaged', 6), ('broken', 6), ('siri', 6), ('deaf', 6), ('funny', 6), ('cover', 6), ('bomb', 6), ('many', 6), ('score', 6), ('target', 6), ('grid', 6), ('beautiful', 6), ('woman', 6), ('zombie', 6), ('write', 6), ('sweep', 6), ('vibrating', 6), ('thready', 6), ('nasal', 6), ('playing', 6), ('vibrate', 6), ('tells', 5), ('follows', 5), ('west', 5), ('health', 5), ('sorting', 5), ('guide', 5), ('stays', 5), ('remain', 5), ('lead', 5), ('staying', 5), ('horse', 5), ('nauseous', 5), ('throwing', 5), ('tube', 5), ('understood', 5), ('across', 5), ('vision', 5), ('blown', 5), ('thumbs', 5), ('forearm', 5), ('clearly', 5), ('unequal', 5), ('urgent', 5), ('teleporting', 5), ('struggling', 5), ('stable', 5), ('waiver', 5), ('unless', 5), ('language', 5), ('transport', 5), ('pen', 5), ('packet', 5), ('breaths', 5), ('showing', 5), ('knows', 5), ('fly', 5), ('pat', 5), ('circulation', 5), ('possibly', 5), ('track', 5), ('thrust', 5), ('bombing', 5), ('situation', 5), ('intervention', 5), ('order', 5), ('girls', 5), ('medical', 5), ('immediately', 5), ('paws', 5), ('loading', 5), ('lose', 5), ('dropping', 5), ('treating', 5), ('deviation', 5), ('difficult', 5), ('falls', 5), ('video', 5), ('snap', 5), ('group', 5), ('felt', 5), ('crush', 5), ('ticket', 5), ('normally', 5), ('beginning', 5), ('femoral', 5), ('threw', 5), ('cheese', 5), ('ride', 5), ('ignore', 5), ('takes', 5), ('remotes', 5), ('brother', 5), ('watching', 5), ('automatically', 5), ('ohk', 5), ('incident', 5), ('freaking', 5), ('made', 5), ('somethings', 5), ('calls', 5), ('slower', 5), ('jeez', 5), ('option', 5), ('bulky', 5), ('google', 5), ('dress', 5), ('impaled', 5), ('puncture', 5), ('quickly', 5), ('state', 5), ('thatd', 5), ('loss', 5), ('completely', 5), ('rapper', 5), ('faint', 5), ('lift', 5), ('survive', 5), ('alert', 5), ('reassessing', 5), ('purposeful', 5), ('doctor', 5), ('happen', 5), ('pulsating', 5), ('fair', 5), ('confused', 5), ('table', 5), ('greg', 5), ('pauses', 5), ('trumpet', 5), ('theyve', 4), ('bright', 4), ('teach', 4), ('addition', 4), ('happens', 4), ('chance', 4), ('important', 4), ('old', 4), ('continue', 4), ('necessary', 4), ('quicker', 4), ('win', 4), ('screaming', 4), ('internally', 4), ('non', 4), ('tachycardia', 4), ('asymmetrical', 4), ('assessing', 4), ('experience', 4), ('sources', 4), ('potentially', 4), ('thatll', 4), ('versus', 4), ('direction', 4), ('midclavicular', 4), ('toolkit', 4), ('level', 4), ('team', 4), ('throat', 4), ('bigger', 4), ('deformity', 4), ('pulsatile', 4), ('yikes', 4), ('shirts', 4), ('list', 4), ('gloria', 4), ('metal', 4), ('seconds', 4), ('glass', 4), ('punch', 4), ('fit', 4), ('attacked', 4), ('tricky', 4), ('jess', 4), ('blank', 4), ('piece', 4), ('priority', 4), ('guessing', 4), ('kick', 4), ('thigh', 4), ('oclock', 4), ('honey', 4), ('barely', 4), ('access', 4), ('laugh', 4), ('times', 4), ('accidentally', 4), ('huge', 4), ('mr', 4), ('holding', 4), ('victim', 4), ('finish', 4), ('picking', 4), ('pet', 4), ('fantastic', 4), ('whenever', 4), ('disappeared', 4), ('fault', 4), ('depending', 4), ('ago', 4), ('such', 4), ('bother', 4), ('handy', 4), ('changed', 4), ('add', 4), ('trippy', 4), ('goodbye', 4), ('trust', 4), ('chair', 4), ('disappear', 4), ('penetrated', 4), ('tension', 4), ('drama', 4), ('external', 4), ('single', 4), ('walks', 4), ('word', 4), ('research', 4), ('fence', 4), ('dudes', 4), ('sternal', 4), ('apparently', 4), ('kill', 4), ('late', 4), ('assist', 4), ('shot', 4), ('truly', 4), ('separate', 4), ('stepped', 4), ('pneumo', 4), ('land', 4), ('chat', 4), ('ever', 4), ('slap', 4), ('sweetheart', 4), ('names', 4), ('nowhere', 4), ('bracelet', 4), ('extra', 4), ('youd', 4), ('hot', 4), ('hate', 4), ('regular', 4), ('bum', 4), ('reaching', 4), ('picture', 4), ('rather', 4), ('map', 4), ('lean', 4), ('given', 4), ('stuck', 4), ('jaw', 4), ('cancel', 4), ('begin', 4), ('vr', 4), ('gave', 4), ('delaware', 4), ('slide', 4), ('squirty', 4), ('glowing', 4), ('unlimited', 4), ('paradoxical', 4), ('buy', 4), ('knew', 4), ('breathings', 4), ('honest', 4), ('sucking', 4), ('mouth', 4), ('platform', 4), ('power', 4), ('mmhmm', 4), ('freaky', 4), ('jacked', 4), ('beam', 4), ('guardian', 4), ('paramedic', 4), ('compressed', 3), ('background', 3), ('fact', 3), ('starts', 3), ('quality', 3), ('terms', 3), ('square', 3), ('dealing', 3), ('banned', 3), ('rupture', 3), ('casualty', 3), ('policy', 3), ('death', 3), ('hitting', 3), ('walls', 3), ('scissors', 3), ('ohh', 3), ('department', 3), ('doo', 3), ('shows', 3), ('wise', 3), ('options', 3), ('affected', 3), ('noticed', 3), ('usually', 3), ('insult', 3), ('impact', 3), ('calling', 3), ('convenient', 3), ('deploy', 3), ('pressing', 3), ('bread', 3), ('edge', 3), ('field', 3), ('world', 3), ('moves', 3), ('source', 3), ('radios', 3), ('distended', 3), ('elevated', 3), ('pneumothorax', 3), ('th', 3), ('less', 3), ('re', 3), ('followed', 3), ('lots', 3), ('toast', 3), ('lilly', 3), ('hers', 3), ('finally', 3), ('messing', 3), ('ran', 3), ('directing', 3), ('eventually', 3), ('depressed', 3), ('horses', 3), ('distal', 3), ('hair', 3), ('arrive', 3), ('force', 3), ('reset', 3), ('thingy', 3), ('facial', 3), ('operate', 3), ('ohp', 3), ('x', 3), ('remind', 3), ('asymmetric', 3), ('hasnt', 3), ('additional', 3), ('tax', 3), ('crowded', 3), ('assumed', 3), ('wondering', 3), ('reminder', 3), ('membrane', 3), ('alone', 3), ('battery', 3), ('yesterday', 3), ('abrasion', 3), ('pink', 3), ('mercy', 3), ('broke', 3), ('floating', 3), ('faster', 3), ('mode', 3), ('disoriented', 3), ('victims', 3), ('excellent', 3), ('share', 3), ('yay', 3), ('paying', 3), ('loose', 3), ('opens', 3), ('donut', 3), ('neither', 3), ('central', 3), ('wake', 3), ('ouch', 3), ('personal', 3), ('hole', 3), ('beat', 3), ('song', 3), ('feedback', 3), ('year', 3), ('losing', 3), ('reevaluate', 3), ('movements', 3), ('grabbed', 3), ('fill', 3), ('blast', 3), ('vitals', 3), ('pant', 3), ('surgery', 3), ('risk', 3), ('welcome', 3), ('current', 3), ('fight', 3), ('massive', 3), ('leading', 3), ('alive', 3), ('situated', 3), ('matrix', 3), ('hours', 3), ('suck', 3), ('chill', 3), ('zach', 3), ('dart', 3), ('unexpected', 3), ('loop', 3), ('stepping', 3), ('poor', 3), ('bsi', 3), ('ua', 3), ('dot', 3), ('wonder', 3), ('dying', 3), ('hemisphere', 3), ('hiding', 3), ('battle', 3), ('simulation', 3), ('pregnant', 3), ('project', 3), ('animal', 3), ('sat', 3), ('nobodys', 3), ('realize', 3), ('trash', 3), ('half', 3), ('yelling', 3), ('boundary', 3), ('howd', 3), ('pauls', 3), ('purple', 3), ('boo', 3), ('disappears', 3), ('checks', 3), ('answering', 3), ('correctly', 3), ('magic', 3), ('airways', 3), ('stopping', 3), ('placed', 3), ('zones', 3), ('grandma', 3), ('setting', 3), ('dripping', 3), ('equipment', 3), ('marker', 3), ('outta', 3), ('ankle', 3), ('upstairs', 3), ('fell', 3), ('palpate', 3), ('calm', 3), ('catch', 3), ('personnel', 3), ('whoo', 3), ('sun', 3), ('scroll', 3), ('blowing', 3), ('whatd', 3), ('bump', 3), ('thumbstick', 3), ('live', 3), ('likes', 3), ('ship', 3), ('unable', 3), ('mostly', 3), ('night', 3), ('improvement', 3), ('kits', 3), ('kingston', 3), ('creek', 3), ('puddle', 3), ('acrobatic', 3), ('lag', 3), ('load', 3), ('distance', 3), ('security', 3), ('skype', 3), ('package', 3), ('opening', 3), ('obey', 3), ('mum', 3), ('drums', 3), ('connect', 3), ('address', 3), ('er', 3), ('tech', 3), ('pictures', 3), ('foreign', 3), ('sunglasses', 3), ('toward', 3), ('adequate', 3), ('motion', 3), ('ashley', 3), ('plug', 3), ('shift', 3), ('tilt', 3), ('chin', 3), ('drag', 3), ('domino', 3), ('drive', 3), ('supplies', 3), ('crash', 3), ('distances', 3), ('volume', 3), ('trick', 3), ('waves', 3), ('internet', 3), ('basic', 3), ('symmetrical', 3), ('rock', 3), ('china', 3), ('helped', 3), ('signs', 3), ('ladys', 3), ('news', 3), ('rub', 3), ('effect', 3), ('itd', 3), ('overshot', 3), ('cow', 3), ('triggers', 3), ('bleeder', 3), ('boop', 3), ('sell', 2), ('tree', 2), ('plate', 2), ('pulled', 2), ('awful', 2), ('notes', 2), ('oriented', 2), ('small', 2), ('combat', 2), ('sepsis', 2), ('years', 2), ('holler', 2), ('glitch', 2), ('earth', 2), ('awhile', 2), ('bounding', 2), ('morning', 2), ('fear', 2), ('amputated', 2), ('specific', 2), ('free', 2), ('targets', 2), ('laptop', 2), ('harder', 2), ('knees', 2), ('toilet', 2), ('highlight', 2), ('explain', 2), ('pre', 2), ('launch', 2), ('debriefings', 2), ('jessica', 2), ('telephone', 2), ('hemostasis', 2), ('surface', 2), ('pose', 2), ('cell', 2), ('relatively', 2), ('enter', 2), ('degrees', 2), ('responders', 2), ('meeting', 2), ('brief', 2), ('truncal', 2), ('race', 2), ('thursday', 2), ('sea', 2), ('giant', 2), ('salute', 2), ('visibly', 2), ('practicing', 2), ('gay', 2), ('wheezy', 2), ('expanded', 2), ('hop', 2), ('expanding', 2), ('swear', 2), ('protocol', 2), ('verbal', 2), ('controllers', 2), ('decently', 2), ('weeks', 2), ('rough', 2), ('grain', 2), ('days', 2), ('struggle', 2), ('smart', 2), ('posse', 2), ('akit', 2), ('meds', 2), ('blade', 2), ('round', 2), ('curlex', 2), ('profusely', 2), ('event', 2), ('labor', 2), ('soft', 2), ('ruptured', 2), ('cap', 2), ('reading', 2), ('restart', 2), ('patches', 2), ('teal', 2), ('anterior', 2), ('card', 2), ('exercise', 2), ('shove', 2), ('initial', 2), ('derek', 2), ('interior', 2), ('unfortunately', 2), ('deceased', 2), ('badly', 2), ('promise', 2), ('externally', 2), ('puts', 2), ('mental', 2), ('cured', 2), ('postal', 2), ('critical', 2), ('fuel', 2), ('commercial', 2), ('per', 2), ('jumped', 2), ('eardrum', 2), ('tympanic', 2), ('agreeing', 2), ('virtual', 2), ('neil', 2), ('poster', 2), ('hun', 2), ('bullet', 2), ('sending', 2), ('twist', 2), ('clot', 2), ('axillary', 2), ('lap', 2), ('particular', 2), ('caved', 2), ('drain', 2), ('execute', 2), ('data', 2), ('scorecard', 2), ('ooh', 2), ('tracks', 2), ('cheers', 2), ('absent', 2), ('bleeders', 2), ('bill', 2), ('excited', 2), ('thorax', 2), ('example', 2), ('careful', 2), ('fades', 2), ('traumatic', 2), ('poked', 2), ('unfortunate', 2), ('sec', 2), ('pushed', 2), ('tough', 2), ('brad', 2), ('yours', 2), ('fourth', 2), ('med', 2), ('student', 2), ('armpit', 2), ('emt', 2), ('pole', 2), ('sad', 2), ('markham', 2), ('dial', 2), ('dandy', 2), ('notebook', 2), ('patch', 2), ('copy', 2), ('details', 2), ('tournament', 2), ('artery', 2), ('worth', 2), ('spin', 2), ('graph', 2), ('coffee', 2), ('judge', 2), ('trump', 2), ('war', 2), ('logan', 2), ('checkbox', 2), ('stress', 2), ('initially', 2), ('fail', 2), ('christmas', 2), ('backward', 2), ('reached', 2), ('nearly', 2), ('office', 2), ('sean', 2), ('limbs', 2), ('military', 2), ('lying', 2), ('holes', 2), ('story', 2), ('sup', 2), ('crushed', 2), ('dinner', 2), ('counting', 2), ('camera', 2), ('scratch', 2), ('bend', 2), ('decompressing', 2), ('cheating', 2), ('son', 2), ('month', 2), ('controlling', 2), ('brings', 2), ('damage', 2), ('exposing', 2), ('conversation', 2), ('book', 2), ('ball', 2), ('bags', 2), ('itself', 2), ('literally', 2), ('decide', 2), ('upper', 2), ('fixing', 2), ('stayed', 2), ('policies', 2), ('bloods', 2), ('section', 2), ('network', 2), ('heads', 2), ('street', 2), ('sided', 2), ('recognize', 2), ('music', 2), ('doc', 2), ('crying', 2), ('loud', 2), ('whyd', 2), ('proper', 2), ('mini', 2), ('version', 2), ('answered', 2), ('developer', 2), ('algorithm', 2), ('willing', 2), ('genius', 2), ('challenge', 2), ('skills', 2), ('ohio', 2), ('philadelphia', 2), ('creepiest', 2), ('woot', 2), ('flying', 2), ('whose', 2), ('limb', 2), ('segment', 2), ('inflated', 2), ('paul', 2), ('happy', 2), ('dan', 2), ('extend', 2), ('howdy', 2), ('cast', 2), ('nifty', 2), ('louder', 2), ('laughing', 2), ('anyways', 2), ('sirens', 2), ('wrapping', 2), ('lovely', 2), ('establish', 2), ('heartbeat', 2), ('ambulance', 2), ('com', 2), ('pools', 2), ('eat', 2), ('hells', 2), ('cormier', 2), ('slowing', 2), ('fields', 2), ('condition', 2), ('mri', 2), ('whoop', 2), ('extremely', 2), ('jesus', 2), ('supply', 2), ('physical', 2), ('dance', 2), ('fogging', 2), ('knee', 2), ('shadow', 2), ('elbow', 2), ('imagine', 2), ('backside', 2), ('audible', 2), ('readjust', 2), ('view', 2), ('catching', 2), ('flex', 2), ('straighten', 2), ('anxiety', 2), ('raising', 2), ('apparent', 2), ('total', 2), ('hurry', 2), ('anna', 2), ('break', 2), ('quiet', 2), ('gun', 2), ('beside', 2), ('tiger', 2), ('public', 2), ('lights', 2), ('bleedings', 2), ('grays', 2), ('theoretically', 2), ('wear', 2), ('tracheal', 2), ('lighting', 2), ('christ', 2), ('together', 2), ('joysticks', 2), ('script', 2), ('singer', 2), ('flight', 2), ('netflix', 2), ('disk', 2), ('party', 2), ('anger', 2), ('primary', 2), ('rotate', 2), ('summary', 2), ('tracking', 2), ('however', 2), ('attacks', 2), ('verbalize', 2), ('return', 2), ('glad', 2), ('sweetness', 2), ('bub', 2), ('young', 2), ('wet', 2), ('opened', 2), ('responds', 2), ('certain', 2), ('bilaterally', 2), ('special', 2), ('movies', 2), ('popped', 2), ('played', 2), ('asked', 2), ('upside', 2), ('material', 2), ('questionable', 2), ('clean', 2), ('service', 2), ('fluids', 2), ('slowed', 2), ('waive', 2), ('lewis', 2), ('screw', 2), ('birdie', 2), ('greatest', 2), ('feller', 2), ('chevy', 2), ('tightened', 2), ('door', 2), ('chloe', 2), ('ring', 2), ('waste', 2), ('dramatic', 2), ('thermal', 2), ('lazy', 2), ('dog', 2), ('congratulations', 2), ('movie', 2), ('class', 2), ('aid', 2), ('kinds', 2), ('allows', 2), ('ways', 2), ('toe', 2), ('somehow', 2), ('assessment', 2), ('circuit', 2), ('dies', 2), ('burn', 2), ('handle', 2), ('worst', 2), ('bet', 2), ('angry', 2), ('freak', 2), ('vibrated', 2), ('wiggly', 2), ('covered', 2), ('favor', 2), ('blacks', 2), ('fabulous', 2), ('stabilized', 2), ('star', 2), ('directions', 2), ('choose', 2), ('ability', 2), ('adelaide', 2), ('site', 2), ('cake', 2), ('takach', 2), ('arctic', 2), ('sister', 2), ('attorney', 2), ('during', 2), ('ray', 2), ('net', 2), ('pausing', 2), ('carry', 2), ('wrists', 2), ('totally', 2), ('spots', 2), ('breast', 2), ('pile', 2), ('returning', 2), ('bout', 2), ('apps', 2), ('date', 2), ('factory', 2), ('mother', 2), ('request', 2), ('exciting', 2), ('rapping', 2), ('below', 2), ('pulls', 2), ('mediat', 2), ('ng', 2), ('noise', 2), ('naked', 2), ('memory', 2), ('protect', 2), ('shocking', 2), ('symmetric', 2), ('range', 2), ('shallow', 2), ('retag', 2), ('expectance', 2), ('aw', 2), ('fortunately', 2), ('trip', 2), ('c', 2), ('reality', 2), ('righty', 2), ('plan', 2), ('neat', 2), ('determine', 2), ('store', 2), ('hairline', 2), ('uncontrolled', 2), ('farther', 2), ('screwed', 2), ('arc', 2), ('stationary', 2), ('week', 2), ('consider', 2), ('inflation', 2), ('easiest', 2), ('designated', 2), ('negative', 2), ('choice', 2), ('bandit', 2), ('clavicle', 2), ('bandages', 2), ('fred', 2), ('page', 2), ('realistic', 2), ('prime', 2), ('foil', 2), ('terrific', 2), ('grand', 2), ('dammit', 2), ('self', 2), ('karate', 2), ('cavity', 2), ('staging', 2), ('racing', 2), ('fellow', 2), ('gloves', 2), ('oculus', 2), ('bs', 2), ('engine', 2), ('medic', 2), ('grabber', 2), ('mover', 2), ('gliding', 2), ('transported', 2), ('stupid', 2), ('drawing', 2), ('somewhat', 2), ('touché', 2), ('therell', 2), ('posture', 2), ('seasick', 2), ('advanced', 2), ('luck', 2), ('satchel', 2), ('weapon', 2), ('civilian', 2), ('administer', 2), ('install', 1), ('wlk', 1), ('wbe', 1), ('redness', 1), ('cody', 1), ('confirming', 1), ('coke', 1), ('spective', 1), ('licking', 1), ('breeze', 1), ('plowed', 1), ('natural', 1), ('regulation', 1), ('gal', 1), ('alaska', 1), ('hola', 1), ('amigo', 1), ('disagree', 1), ('pressed', 1), ('vocabulary', 1), ('winded', 1), ('extent', 1), ('kyle', 1), ('sender', 1), ('carried', 1), ('fan', 1), ('respers', 1), ('boston', 1), ('herald', 1), ('mustache', 1), ('fragment', 1), ('eardrums', 1), ('soul', 1), ('understands', 1), ('rain', 1), ('saving', 1), ('baggie', 1), ('unit', 1), ('musta', 1), ('pall', 1), ('mall', 1), ('vaguely', 1), ('sharks', 1), ('ohso', 1), ('nick', 1), ('swell', 1), ('stands', 1), ('doug', 1), ('tap', 1), ('lt', 1), ('rating', 1), ('operating', 1), ('confusing', 1), ('positions', 1), ('calf', 1), ('alty', 1), ('carpet', 1), ('saltry', 1), ('participation', 1), ('kellan', 1), ('jack', 1), ('destroy', 1), ('heavy', 1), ('repeat', 1), ('distracted', 1), ('protruding', 1), ('buzz', 1), ('distinction', 1), ('superficial', 1), ('stories', 1), ('personally', 1), ('packable', 1), ('backed', 1), ('clarify', 1), ('gentlemans', 1), ('flag', 1), ('criteria', 1), ('rotator', 1), ('strike', 1), ('mary', 1), ('entrance', 1), ('platforms', 1), ('sessions', 1), ('risen', 1), ('prior', 1), ('applying', 1), ('paramedics', 1), ('comments', 1), ('axilla', 1), ('relief', 1), ('chances', 1), ('surviving', 1), ('panic', 1), ('hemorrhaging', 1), ('gash', 1), ('distension', 1), ('admittedly', 1), ('wa', 1), ('swelling', 1), ('hoppity', 1), ('snaps', 1), ('mandy', 1), ('poorly', 1), ('liking', 1), ('revisit', 1), ('knot', 1), ('bing', 1), ('hematoma', 1), ('pecks', 1), ('individual', 1), ('onward', 1), ('shouldve', 1), ('cognitive', 1), ('medication', 1), ('continued', 1), ('oof', 1), ('signed', 1), ('kathia', 1), ('thiag', 1), ('promises', 1), ('alex', 1), ('swing', 1), ('fueling', 1), ('currently', 1), ('platings', 1), ('relating', 1), ('stitching', 1), ('ratings', 1), ('busting', 1), ('matchweek', 1), ('agony', 1), ('strangely', 1), ('evil', 1), ('pulsator', 1), ('contusion', 1), ('andre', 1), ('pension', 1), ('unprotected', 1), ('circulations', 1), ('disability', 1), ('blunt', 1), ('posters', 1), ('tact', 1), ('gunshot', 1), ('quadrant', 1), ('areas', 1), ('marry', 1), ('motivation', 1), ('floats', 1), ('tall', 1), ('dozen', 1), ('sight', 1), ('minhall', 1), ('disappointed', 1), ('forgotten', 1), ('pupils', 1), ('sim', 1), ('features', 1), ('wears', 1), ('vague', 1), ('pinkish', 1), ('neuma', 1), ('accessory', 1), ('cards', 1), ('dave', 1), ('birthday', 1), ('draw', 1), ('ideal', 1), ('standers', 1), ('dare', 1), ('madam', 1), ('loosen', 1), ('arrow', 1), ('freddy', 1), ('lacks', 1), ('threads', 1), ('significantly', 1), ('decent', 1), ('disaster', 1), ('danny', 1), ('stomachs', 1), ('prop', 1), ('dash', 1), ('acquit', 1), ('mice', 1), ('seattle', 1), ('caught', 1), ('build', 1), ('pointing', 1), ('meat', 1), ('software', 1), ('w', 1), ('viable', 1), ('remaining', 1), ('louie', 1), ('positive', 1), ('evident', 1), ('fallen', 1), ('frames', 1), ('posito', 1), ('host', 1), ('pure', 1), ('tugs', 1), ('potential', 1), ('disconnect', 1), ('desktop', 1), ('lags', 1), ('questioning', 1), ('update', 1), ('slot', 1), ('sharing', 1), ('parent', 1), ('lied', 1), ('bulgy', 1), ('frills', 1), ('wonky', 1), ('rico', 1), ('education', 1), ('scrubs', 1), ('warp', 1), ('differently', 1), ('glitchy', 1), ('hoping', 1), ('ox', 1), ('nail', 1), ('tires', 1), ('learn', 1), ('bounced', 1), ('afford', 1), ('toss', 1), ('immortal', 1), ('sprint', 1), ('views', 1), ('games', 1), ('lame', 1), ('portal', 1), ('twitter', 1), ('instantly', 1), ('mindedly', 1), ('category', 1), ('furthest', 1), ('tighter', 1), ('nemo', 1), ('forwarding', 1), ('carpets', 1), ('evacuate', 1), ('recommendation', 1), ('gd', 1), ('intimate', 1), ('shared', 1), ('file', 1), ('poke', 1), ('results', 1), ('cans', 1), ('stag', 1), ('femur', 1), ('tack', 1), ('sees', 1), ('buzzing', 1), ('due', 1), ('amount', 1), ('bummer', 1), ('unilaterally', 1), ('rice', 1), ('sandra', 1), ('sandry', 1), ('monk', 1), ('surgeons', 1), ('defended', 1), ('argue', 1), ('orientation', 1), ('verse', 1), ('escort', 1), ('addressed', 1), ('wild', 1), ('cory', 1), ('penny', 1), ('father', 1), ('levi', 1), ('rex', 1), ('toggles', 1), ('frozen', 1), ('adopted', 1), ('early', 1), ('added', 1), ('bonus', 1), ('cardiac', 1), ('perf', 1), ('counts', 1), ('cam', 1), ('susu', 1), ('necessarily', 1), ('embedded', 1), ('profile', 1), ('commanders', 1), ('growing', 1), ('tour', 1), ('mate', 1), ('sunday', 1), ('blues', 1), ('clues', 1), ('distractor', 1), ('safekeeping', 1), ('mediate', 1), ('chase', 1), ('sue', 1), ('stood', 1), ('joking', 1), ('blocking', 1), ('bands', 1), ('shortness', 1), ('fixes', 1), ('manage', 1), ('squirter', 1), ('likely', 1), ('solved', 1), ('terribly', 1), ('failure', 1), ('spending', 1), ('donot', 1), ('measure', 1), ('starbucks', 1), ('flipped', 1), ('tissue', 1), ('infection', 1), ('lunch', 1), ('cinema', 1), ('characters', 1), ('restorers', 1), ('taller', 1), ('pay', 1), ('taping', 1), ('merry', 1), ('nauseating', 1), ('haphazardly', 1), ('wider', 1), ('backing', 1), ('dallas', 1), ('energies', 1), ('irreversible', 1), ('placement', 1), ('fisher', 1), ('removed', 1), ('review', 1), ('imo', 1), ('fans', 1), ('roller', 1), ('roughly', 1), ('opposite', 1), ('wooden', 1), ('peg', 1), ('brains', 1), ('bus', 1), ('pleasure', 1), ('impulses', 1), ('wreck', 1), ('gat', 1), ('posts', 1), ('cutting', 1), ('affordable', 1), ('skirt', 1), ('cleaning', 1), ('graded', 1), ('scotch', 1), ('lacerations', 1), ('chips', 1), ('snapped', 1), ('tightens', 1), ('nerves', 1), ('arteries', 1), ('db', 1), ('cooperate', 1), ('shield', 1), ('chick', 1), ('consciousness', 1), ('thingies', 1), ('deuces', 1), ('funk', 1), ('river', 1), ('scan', 1), ('ebi', 1), ('error', 1), ('named', 1), ('itation', 1), ('six', 1), ('months', 1), ('kayak', 1), ('quarter', 1), ('goner', 1), ('smoky', 1), ('root', 1), ('freakiest', 1), ('sakes', 1), ('virginia', 1), ('weekend', 1), ('mass', 1), ('size', 1), ('shears', 1), ('heading', 1), ('lines', 1), ('qualify', 1), ('warm', 1), ('building', 1), ('sleeves', 1), ('logans', 1), ('snare', 1), ('bunk', 1), ('mention', 1), ('shrek', 1), ('gracer', 1), ('scoobydoo', 1), ('tacked', 1), ('cranking', 1), ('freaked', 1), ('farthest', 1), ('righteous', 1), ('english', 1), ('instant', 1), ('sets', 1), ('credible', 1), ('gross', 1), ('minister', 1), ('somerset', 1), ('severe', 1), ('severely', 1), ('price', 1), ('fellas', 1), ('pavement', 1), ('shape', 1), ('hug', 1), ('okie', 1), ('dokie', 1), ('contact', 1), ('dummy', 1), ('slash', 1), ('lander', 1), ('clicker', 1), ('gusher', 1), ('dine', 1), ('froze', 1), ('bam', 1), ('inner', 1), ('president', 1), ('layer', 1), ('multiples', 1), ('squeezing', 1), ('lifting', 1), ('appeared', 1), ('banning', 1), ('sent', 1), ('technology', 1), ('noticing', 1), ('variations', 1), ('palm', 1), ('entry', 1), ('exact', 1), ('hilarious', 1), ('weezer', 1), ('programmed', 1), ('built', 1), ('sophisticated', 1), ('whereby', 1), ('patterns', 1), ('dictates', 1), ('answers', 1), ('reprogramming', 1), ('programming', 1), ('quirks', 1), ('managerial', 1), ('mercurial', 1), ('museum', 1), ('remotely', 1), ('spiderman', 1), ('record', 1), ('disgusting', 1), ('boozing', 1), ('joke', 1), ('gut', 1), ('scott', 1), ('involved', 1), ('rib', 1), ('pouch', 1), ('puke', 1), ('queasy', 1), ('jimmy', 1), ('wind', 1), ('semi', 1), ('funked', 1), ('plates', 1), ('splint', 1), ('spread', 1), ('placing', 1), ('babe', 1), ('trucking', 1), ('shamus', 1), ('completed', 1), ('secondary', 1), ('evaluate', 1), ('shane', 1), ('string', 1), ('squeezed', 1), ('suspect', 1), ('bomber', 1), ('approach', 1), ('bystander', 1), ('formal', 1), ('shoes', 1), ('bleeds', 1), ('bias', 1), ('dislocated', 1), ('slapping', 1), ('positional', 1), ('uncomfortable', 1), ('worthwhile', 1), ('socalled', 1), ('banged', 1), ('hanging', 1), ('balance', 1), ('impressed', 1), ('brush', 1), ('strictly', 1), ('stir', 1), ('accomplish', 1), ('key', 1), ('reinflated', 1), ('purpose', 1), ('hoarseness', 1), ('particulate', 1), ('unburned', 1), ('powder', 1), ('filling', 1), ('fluid', 1), ('drivers', 1), ('genoa', 1), ('township', 1), ('spinny', 1), ('handing', 1), ('traveled', 1), ('intrigued', 1), ('osc', 1), ('regional', 1), ('region', 1), ('especially', 1), ('university', 1), ('kentucky', 1), ('school', 1), ('account', 1), ('wood', 1), ('beats', 1), ('rat', 1), ('hacked', 1), ('sirenes', 1), ('problematic', 1), ('surroundings', 1), ('setup', 1), ('walkie', 1), ('ambulances', 1), ('rescue', 1), ('slight', 1), ('smoke', 1), ('establishing', 1), ('playable', 1), ('clutching', 1), ('oxygen', 1), ('causes', 1), ('stressed', 1), ('neo', 1), ('mc', 1), ('debrief', 1), ('circled', 1), ('snoring', 1), ('noises', 1), ('trailer', 1), ('storage', 1), ('slipping', 1), ('triangle', 1), ('stump', 1), ('autoflow', 1), ('rush', 1), ('timing', 1), ('decides', 1), ('wobble', 1), ('raining', 1), ('ending', 1), ('equally', 1), ('breaking', 1), ('solo', 1), ('st', 1), ('adjuster', 1), ('spray', 1), ('siren', 1), ('railroad', 1), ('kneecap', 1), ('grief', 1), ('rapidly', 1), ('unlike', 1), ('tulsas', 1), ('bee', 1), ('undo', 1), ('evidently', 1), ('art', 1), ('deflated', 1), ('spurt', 1), ('lana', 1), ('understandings', 1), ('tapper', 1), ('asthma', 1), ('seriously', 1), ('recording', 1), ('aloud', 1), ('aunt', 1), ('tullys', 1), ('maritech', 1), ('cardio', 1), ('act', 1), ('auscultated', 1), ('mindset', 1), ('dust', 1), ('anxious', 1), ('form', 1), ('rates', 1), ('auscultate', 1), ('diminished', 1), ('restore', 1), ('hide', 1), ('comply', 1), ('hohh', 1), ('scoot', 1), ('considered', 1), ('buckys', 1), ('louisa', 1), ('escorted', 1), ('shifted', 1), ('window', 1), ('galaxy', 1), ('warning', 1), ('hints', 1), ('performer', 1), ('audibly', 1), ('glenn', 1), ('age', 1), ('law', 1), ('district', 1), ('travelers', 1), ('accidental', 1), ('seatac', 1), ('ineffective', 1), ('hooks', 1), ('sustainable', 1), ('fairly', 1), ('entering', 1), ('cross', 1), ('action', 1), ('shadows', 1), ('lightings', 1), ('campground', 1), ('alum', 1), ('beach', 1), ('camp', 1), ('facing', 1), ('deeper', 1), ('believing', 1), ('duffin', 1), ('ban', 1), ('youtube', 1), ('mouse', 1), ('loads', 1), ('spacebar', 1), ('choosing', 1), ('herself', 1), ('changes', 1), ('pin', 1), ('wristbands', 1), ('reddish', 1), ('cyber', 1), ('others', 1), ('motions', 1), ('keyword', 1), ('duper', 1), ('glitched', 1), ('redo', 1), ('depth', 1), ('website', 1), ('tables', 1), ('grievous', 1), ('burden', 1), ('spring', 1), ('housing', 1), ('moonlight', 1), ('model', 1), ('portable', 1), ('anyones', 1), ('jackson', 1), ('expectorant', 1), ('brazen', 1), ('harm', 1), ('aspect', 1), ('radner', 1), ('known', 1), ('terrorist', 1), ('manifest', 1), ('sunset', 1), ('motor', 1), ('gland', 1), ('folded', 1), ('seed', 1), ('skynet', 1), ('bonkers', 1), ('usher', 1), ('lopsided', 1), ('applied', 1), ('army', 1), ('recess', 1), ('resisting', 1), ('mediator', 1), ('leaking', 1), ('cognitively', 1), ('hispanic', 1), ('members', 1), ('purchase', 1), ('minimum', 1), ('cooperation', 1), ('booth', 1), ('fever', 1), ('gracious', 1), ('bled', 1), ('assault', 1), ('tapping', 1), ('proceed', 1), ('reinflate', 1), ('seizing', 1), ('connected', 1), ('forwards', 1), ('lands', 1), ('snack', 1), ('interacting', 1), ('abnormal', 1), ('tanning', 1), ('travel', 1), ('gaping', 1), ('practically', 1), ('extreme', 1), ('xbox', 1), ('choppy', 1), ('nightmares', 1), ('curse', 1), ('kartic', 1), ('bear', 1), ('chaz', 1), ('killing', 1), ('woozy', 1), ('bury', 1), ('outlook', 1), ('fart', 1), ('swim', 1), ('smashes', 1), ('steamy', 1), ('tuesday', 1), ('stink', 1), ('upcoming', 1), ('county', 1), ('ms', 1), ('exchanging', 1), ('zombies', 1), ('purdy', 1), ('aggressive', 1), ('analogy', 1), ('algae', 1), ('gas', 1), ('bearings', 1), ('phones', 1), ('stab', 1), ('adjusting', 1), ('macy', 1), ('ash', 1), ('rocks', 1), ('scrape', 1), ('oozing', 1), ('greater', 1), ('dcms', 1), ('intro', 1), ('sole', 1), ('override', 1), ('procedure', 1), ('nearest', 1), ('unilateral', 1), ('maintain', 1), ('bouncing', 1), ('fairgrounds', 1), ('residual', 1), ('snot', 1), ('signal', 1), ('chilling', 1), ('impalement', 1), ('noticeable', 1), ('ostrander', 1), ('passing', 1), ('sliding', 1), ('calms', 1), ('shipping', 1), ('assistance', 1), ('shall', 1), ('forth', 1), ('whatnot', 1), ('heat', 1), ('ow', 1), ('bottle', 1), ('heater', 1), ('hooked', 1), ('mega', 1), ('vacuolar', 1), ('u', 1), ('rip', 1), ('solve', 1), ('stuffed', 1), ('scrap', 1), ('recovery', 1), ('vascularity', 1), ('energized', 1), ('panics', 1), ('kept', 1), ('bueno', 1), ('russia', 1), ('cruise', 1), ('visible', 1), ('larger', 1), ('landing', 1), ('proximity', 1), ('incorrect', 1), ('bucket', 1), ('coral', 1), ('innovated', 1), ('march', 1), ('stair', 1), ('user', 1), ('noisy', 1), ('upright', 1), ('cleveland', 1), ('obeyed', 1), ('secondly', 1), ('uncle', 1), ('scatter', 1), ('cigarettes', 1), ('marked', 1), ('sensitive', 1), ('tie', 1), ('conscience', 1), ('sounded', 1), ('patched', 1), ('redder', 1), ('digger', 1), ('incorrectly', 1), ('gt', 1), ('concave', 1), ('proved', 1), ('sweaty', 1), ('wearing', 1), ('buried', 1), ('bless', 1), ('scares', 1), ('highlighting', 1), ('failing', 1), ('port', 1), ('improve', 1), ('mix', 1), ('sorted', 1), ('points', 1), ('bloody', 1), ('sporty', 1), ('overkill', 1), ('bling', 1), ('apologize', 1), ('taught', 1), ('role', 1), ('inn', 1), ('dry', 1), ('helping', 1), ('breeding', 1), ('improving', 1), ('although', 1), ('junctional', 1), ('frisby', 1), ('location', 1), ('virgin', 1), ('effective', 1), ('reevaluated', 1), ('dreams', 1), ('incoming', 1), ('units', 1), ('structure', 1), ('presence', 1), ('house', 1), ('sweetie', 1), ('pirate', 1), ('kitted', 1), ('bells', 1), ('stills', 1), ('agonals', 1), ('sang', 1), ('sake', 1), ('stabilizer', 1), ('headband', 1), ('border', 1), ('redding', 1), ('pretend', 1), ('chunk', 1), ('captain', 1), ('reveal', 1), ('gap', 1), ('written', 1), ('culture', 1), ('levels', 1), ('brewery', 1), ('plans', 1), ('ice', 1), ('passenger', 1), ('shoulders', 1), ('calypse', 1), ('lowes', 1), ('sheesh', 1), ('kendall', 1), ('verizon', 1), ('pulseless', 1), ('spinning', 1), ('reddit', 1), ('tattoo', 1), ('broth', 1), ('t', 1), ('wristband', 1), ('visuals', 1), ('canasol', 1), ('acutely', 1), ('manager', 1), ('kern', 1), ('vintage', 1), ('acute', 1), ('complaints', 1), ('won', 1), ('sleeping', 1), ('concert', 1), ('stones', 1), ('steves', 1), ('clark', 1), ('assessed', 1), ('nero', 1), ('tune', 1), ('ternative', 1), ('andrew', 1), ('kaon', 1), ('within', 1), ('recommendations', 1), ('joan', 1), ('appropriate', 1), ('mississippi', 1), ('delain', 1), ('dinosaur', 1), ('til', 1), ('freewave', 1), ('boots', 1), ('curriculum', 1), ('proud', 1), ('alpha', 1), ('noted', 1), ('atonia', 1), ('outstanding', 1), ('golf', 1), ('preemptively', 1), ('flashing', 1), ('sand', 1), ('remainder', 1), ('snowfalls', 1), ('large', 1), ('femme', 1), ('roles', 1), ('crud', 1), ('unlock', 1), ('willy', 1), ('split', 1), ('armbian', 1), ('advantages', 1), ('lid', 1), ('themselves', 1), ('kissed', 1), ('posses', 1), ('seaside', 1), ('carrie', 1), ('supposedly', 1), ('beyond', 1), ('scaring', 1), ('lifesaving', 1), ('interventions', 1), ('disorienting', 1), ('imrt', 1), ('videos', 1), ('bra', 1), ('armor', 1), ('postell', 1), ('al', 1), ('style', 1), ('pasta', 1), ('parts', 1), ('hips', 1), ('paint', 1), ('speeding', 1), ('tubes', 1), ('kk', 1), ('rats', 1), ('sack', 1), ('l', 1), ('pelvic', 1), ('binder', 1), ('uk', 1), ('chrissy', 1), ('casually', 1), ('tangana', 1), ('benefiel', 1), ('shoe', 1), ('kneeling', 1), ('maps', 1), ('apart', 1), ('jay', 1), ('ups', 1), ('swan', 1), ('zip', 1), ('spend', 1), ('trains', 1), ('keys', 1), ('frequencies', 1), ('legends', 1), ('posted', 1), ('wide', 1), ('chelsea', 1), ('sale', 1), ('walkover', 1), ('goddamnit', 1), ('children', 1), ('interact', 1), ('safer', 1), ('fuzzy', 1), ('eleven', 1), ('extends', 1), ('expectante', 1), ('colonel', 1), ('shell', 1), ('gum', 1), ('thoughts', 1), ('fleeting', 1), ('horrible', 1), ('grandmas', 1), ('samples', 1), ('rose', 1), ('sheas', 1), ('leader', 1), ('macica', 1), ('allison', 1), ('writing', 1), ('suitcase', 1), ('hears', 1), ('infinite', 1), ('sykes', 1), ('resident', 1), ('simply', 1), ('hum', 1), ('planned', 1), ('heal', 1), ('overtime', 1), ('woops', 1), ('printers', 1), ('transform', 1), ('sfire', 1), ('thinks', 1), ('resuscitate', 1), ('yahoo', 1), ('rollover', 1), ('winners', 1), ('closely', 1), ('saddle', 1), ('locations', 1), ('travis', 1), ('commanded', 1), ('angola', 1), ('created', 1), ('hesitate', 1), ('tapped', 1), ('performance', 1), ('falling', 1), ('met', 1), ('message', 1), ('managed', 1), ('atlantic', 1), ('ave', 1), ('moderator', 1), ('stock', 1), ('munna', 1), ('cook', 1), ('pulsus', 1), ('lies', 1), ('yelp', 1), ('determination', 1), ('hush', 1), ('imagining', 1), ('cure', 1), ('mile', 1), ('leap', 1), ('serving', 1), ('brilliant', 1), ('overall', 1), ('brett', 1), ('code', 1), ('fracture', 1), ('hardy', 1), ('wine', 1), ('flip', 1), ('basics', 1), ('doctors', 1), ('fish', 1), ('insane', 1), ('labels', 1), ('biggest', 1), ('ppe', 1), ('globally', 1), ('connecting', 1), ('kelly', 1), ('salty', 1), ('assigning', 1), ('tasks', 1), ('assessor', 1), ('gear', 1), ('rob', 1), ('oppose', 1), ('midaxillary', 1), ('rooms', 1), ('mam', 1), ('guns', 1), ('turnips', 1), ('clock', 1), ('replaced', 1), ('lowers', 1), ('heaven', 1), ('chad', 1), ('luca', 1), ('yoga', 1), ('court', 1), ('jester', 1), ('odd', 1), ('philly', 1), ('dealt', 1), ('blooms', 1), ('optional', 1), ('bird', 1), ('pinky', 1), ('carotids', 1), ('passed', 1), ('crack', 1), ('extremities', 1), ('mission', 1), ('specious', 1), ('spell', 1), ('amy', 1), ('tiny', 1), ('terrified', 1), ('attempted', 1), ('erica', 1), ('evaluated', 1), ('environment', 1), ('waking', 1), ('tremendously', 1), ('blind', 1), ('main', 1), ('strip', 1), ('reassessments', 1), ('scars', 1), ('apple', 1), ('lego', 1), ('hemodynamically', 1), ('ocean', 1), ('lillie', 1), ('tyler', 1), ('successes', 1), ('term', 1), ('authorize', 1), ('pep', 1), ('boys', 1), ('observing', 1), ('speedy', 1), ('peoples', 1), ('immediates', 1), ('nothings', 1), ('charming', 1), ('turkey', 1), ('cinch', 1), ('automatics', 1), ('nationalists', 1), ('auction', 1), ('atlantica', 1), ('suppen', 1), ('pulsat', 1), ('tablet', 1), ('razor', 1), ('gurgly', 1), ('neelam', 1), ('kenny', 1), ('disguise', 1), ('inclusive', 1), ('blades', 1), ('session', 1), ('sensation', 1), ('strange', 1), ('frick', 1), ('bolster', 1), ('handsome', 1), ('lockers', 1), ('avoiding', 1), ('rn', 1), ('tightening', 1), ('triggering', 1), ('kneeled', 1), ('aspiration', 1), ('staring', 1), ('curiosity', 1), ('fully', 1), ('twisty', 1), ('farewell', 1), ('ish', 1), ('bizarre', 1), ('pulmonary', 1), ('barotrauma', 1), ('chip', 1), ('chesty', 1), ('possibility', 1), ('steam', 1), ('carefully', 1), ('trachea', 1), ('deformed', 1), ('descended', 1), ('fox', 1), ('implement', 1), ('convinced', 1), ('ketamine', 1), ('lender', 1), ('toughie', 1), ('ohkay', 1), ('disturbed', 1), ('hermes', 1), ('tad', 1), ('disposal', 1), ('bruising', 1), ('squares', 1), ('greeter', 1), ('fellers', 1), ('pansy', 1), ('tuna', 1), ('printing', 1), ('tunas', 1), ('menu', 1), ('flow', 1), ('sync', 1), ('weak', 1), ('overshoot', 1), ('tacking', 1), ('tip', 1), ('whiner', 1), ('liar', 1), ('squared', 1), ('pronounced', 1), ('bearded', 1), ('dragon', 1), ('collarbone', 1), ('deployed', 1), ('touched', 1), ('barrier', 1), ('ariel', 1), ('shrinking', 1), ('pro', 1), ('channel', 1), ('sealed', 1), ('geo', 1), ('nervous', 1), ('diddle', 1), ('flowing', 1), ('inactive', 1), ('glitching', 1), ('standards', 1), ('twerking', 1), ('breaks', 1), ('marty', 1), ('grammar', 1), ('born', 1), ('niece', 1), ('trinket', 1), ('yup', 1), ('preprogrammed', 1), ('scare', 1), ('chicken', 1), ('lordy', 1), ('waived', 1), ('chaplan', 1), ('management', 1), ('atari', 1), ('fyi', 1), ('worries', 1), ('boat', 1), ('fried', 1), ('positioning', 1), ('evergreen', 1), ('finessing', 1), ('someday', 1), ('harlem', 1), ('automatic', 1), ('needles', 1), ('wrister', 1), ('hardest', 1), ('wasting', 1), ('pals', 1), ('doubt', 1), ('cats', 1), ('greener', 1), ('crotch', 1), ('flair', 1), ('wins', 1), ('goofy', 1), ('finicky', 1), ('rosie', 1), ('gaze', 1), ('stings', 1), ('cuckoo', 1), ('dell', 1), ('arrived', 1), ('rounds', 1), ('suspicious', 1), ('booing', 1), ('sesame', 1), ('gather', 1), ('repositioning', 1), ('balsa', 1), ('standard', 1), ('ima', 1), ('float', 1), ('jumping', 1), ('stacks', 1), ('chairs', 1), ('hacker', 1), ('faces', 1), ('facebook', 1), ('ambulate', 1), ('stimuli', 1), ('loser', 1), ('vibrates', 1), ('gee', 1), ('twice', 1), ('hiccups', 1), ('tunnel', 1), ('irving', 1), ('asymmetry', 1), ('sunken', 1), ('graphics', 1), ('wraps', 1), ('mature', 1), ('adding', 1), ('godzilla', 1), ('packaged', 1), ('orange', 1), ('stitches', 1), ('disagreeing', 1), ('precious', 1), ('earlobe', 1), ('elevation', 1), ('lock', 1), ('died', 1), ('vacation', 1), ('germany', 1), ('projects', 1), ('presses', 1), ('molds', 1), ('smaller', 1), ('glides', 1), ('recommend', 1), ('ugly', 1), ('manually', 1), ('mid', 1), ('clavicular', 1), ('puffy', 1), ('accumulated', 1), ('brought', 1), ('steady', 1), ('stabilizes', 1), ('massage', 1), ('cough', 1), ('barrow', 1), ('bosses', 1), ('advice', 1), ('farm', 1), ('traffic', 1), ('inflating', 1), ('uncheck', 1), ('straightening', 1), ('planted', 1), ('pic', 1), ('eight', 1), ('ambulatory', 1), ('categories', 1), ('available', 1), ('banish', 1), ('spartan', 1), ('amputations', 1), ('penetrate', 1), ('sporting', 1), ('american', 1), ('dennys', 1), ('moaning', 1), ('omega', 1), ('pacer', 1), ('impulse', 1), ('stabilizing', 1), ('monitor', 1), ('rod', 1), ('glider', 1), ('teleporter', 1), ('iffy', 1), ('remains', 1), ('squads', 1), ('houses', 1), ('count', 1), ('picks', 1), ('daughter', 1), ('milk', 1), ('pad', 1), ('nod', 1), ('deformation', 1), ('discoverable', 1), ('frantic', 1), ('clicked', 1), ('squat', 1), ('pyramid', 1), ('renovation', 1), ('lefthanded', 1), ('wrappy', 1), ('wisdom', 1), ('college', 1), ('shooting', 1), ('grade', 1), ('mo', 1), ('ebay', 1), ('men', 1), ('flailed', 1), ('liquor', 1), ('integer', 1), ('traditional', 1), ('adjusted', 1), ('moon', 1), ('darker', 1), ('dennis', 1), ('cares', 1), ('dublin', 1), ('albany', 1), ('connection', 1), ('virus', 1), ('gush', 1), ('rambling', 1), ('jewish', 1), ('blameless', 1), ('skys', 1), ('weirdest', 1), ('spaces', 1), ('fatality', 1), ('battalion', 1), ('ladder', 1), ('hundred', 1), ('tier', 1), ('bucky', 1), ('coaster', 1), ('eating', 1), ('lucky', 1), ('fashion', 1), ('rail', 1), ('talks', 1), ('paris', 1), ('audit', 1), ('basket', 1), ('cops', 1), ('cleared', 1), ('changing', 1), ('worser', 1), ('anyhow', 1), ('wipe', 1), ('speaker', 1), ('empty', 1), ('flash', 1), ('walkietalkie', 1), ('golly', 1), ('hospitalist', 1), ('sales', 1), ('joy', 1), ('loops', 1), ('afraid', 1), ('como', 1), ('nevertheless', 1), ('citizen', 1), ('boot', 1), ('friendly', 1), ('ominous', 1), ('tape', 1), ('georgia', 1), ('generally', 1), ('confident', 1), ('clue', 1), ('standpoint', 1), ('triple', 1), ('protector', 1), ('medevac', 1), ('accepted', 1), ('medicine', 1), ('examine', 1), ('entered', 1), ('unknown', 1), ('intervene', 1), ('fasting', 1), ('interminable', 1), ('throughout', 1), ('michaels', 1), ('sulfate', 1), ('evening', 1), ('mpa', 1), ('burned', 1), ('grunting', 1), ('accident', 1), ('road', 1), ('evac', 1)]"
      ]
     },
     "execution_count": 39,
     "metadata": {},
     "output_type": "execute_result"
    }
   ],
   "source": [
    "\n",
    "unigram_freqs"
   ]
  },
  {
   "cell_type": "code",
   "execution_count": 40,
   "metadata": {},
   "outputs": [
    {
     "data": {
      "text/plain": [
       "Synset('wave.n.01')"
      ]
     },
     "execution_count": 40,
     "metadata": {},
     "output_type": "execute_result"
    }
   ],
   "source": [
    "\n",
    "wave = wn.synsets('wave')[0]\n",
    "wave"
   ]
  },
  {
   "cell_type": "code",
   "execution_count": 41,
   "metadata": {},
   "outputs": [
    {
     "data": {
      "text/plain": [
       "Synset('base_on_balls.n.01')"
      ]
     },
     "execution_count": 41,
     "metadata": {},
     "output_type": "execute_result"
    }
   ],
   "source": [
    "\n",
    "walk = wn.synsets('walk')[1]\n",
    "walk"
   ]
  },
  {
   "cell_type": "code",
   "execution_count": 42,
   "metadata": {},
   "outputs": [
    {
     "data": {
      "text/plain": [
       "0.15384615384615385"
      ]
     },
     "execution_count": 42,
     "metadata": {},
     "output_type": "execute_result"
    }
   ],
   "source": [
    "\n",
    "# The Wu-Palmer metric (WUP) is a measure of similarity\n",
    "# based on distance in the graph.\n",
    "# There are many other metrics too.\n",
    "wave.wup_similarity(patient)"
   ]
  },
  {
   "cell_type": "code",
   "execution_count": 43,
   "metadata": {},
   "outputs": [
    {
     "data": {
      "text/plain": [
       "0.14285714285714285"
      ]
     },
     "execution_count": 43,
     "metadata": {},
     "output_type": "execute_result"
    }
   ],
   "source": [
    "\n",
    "walk.wup_similarity(patient)"
   ]
  },
  {
   "cell_type": "code",
   "execution_count": 44,
   "metadata": {},
   "outputs": [
    {
     "data": {
      "text/plain": [
       "{'walkway', 'walking', 'walk', 'manner_of_walking', 'base_on_balls', 'walk_of_life', 'pass', 'paseo', 'take_the_air'}"
      ]
     },
     "execution_count": 44,
     "metadata": {},
     "output_type": "execute_result"
    }
   ],
   "source": [
    "\n",
    "# A lemma is basically the dictionary form or base form of a word,\n",
    "# as opposed to the various inflected forms of a word. \n",
    "synonyms_set = set()\n",
    "for syn in wn.synsets('walk'):\n",
    "    for lemma in syn.lemmas():\n",
    "        synonyms_set.add(lemma.name())\n",
    "synonyms_set"
   ]
  },
  {
   "cell_type": "code",
   "execution_count": 45,
   "metadata": {},
   "outputs": [
    {
     "data": {
      "text/plain": [
       "{'ride'}"
      ]
     },
     "execution_count": 45,
     "metadata": {},
     "output_type": "execute_result"
    }
   ],
   "source": [
    "\n",
    "antonyms_set = set()\n",
    "for syn in wn.synsets('walk'):\n",
    "    for l in syn.lemmas():\n",
    "        if l.antonyms():\n",
    "            antonyms_set.add(l.antonyms()[0].name())\n",
    "antonyms_set"
   ]
  },
  {
   "cell_type": "markdown",
   "metadata": {},
   "source": [
    "## 4. Chunking and Entity Recognition"
   ]
  },
  {
   "cell_type": "markdown",
   "metadata": {},
   "source": [
    "The goal of chunking is to divide a sentence into chunks. Usually each chunk contains a **head** and optionally additionally words and modifiers. Examples of chunks include noun groups and verb groups."
   ]
  },
  {
   "cell_type": "markdown",
   "metadata": {},
   "source": [
    "### 4.1. Chunking"
   ]
  },
  {
   "cell_type": "code",
   "execution_count": 46,
   "metadata": {},
   "outputs": [],
   "source": [
    "\n",
    "from nltk.chunk import RegexpParser"
   ]
  },
  {
   "cell_type": "markdown",
   "metadata": {},
   "source": [
    "In order to create a chunker, we need to first define a **chunk grammar**, consisting of rules that indicate how sentences should be chunked. \n",
    "\n",
    "We can define a simple grammar for a noun phrase (NP) chunker with a single regular-expression rule. This rule says that an NP chunk should be formed whenever the chunker finds an optional determiner (`DT`) followed by any number of adjectives (`JJ`) and then a noun (`NN`).\n",
    "\n",
    "Note how grammatical structures which are not noun phrases are not chunked, which is totally fine:"
   ]
  },
  {
   "cell_type": "code",
   "execution_count": 47,
   "metadata": {},
   "outputs": [],
   "source": [
    "\n",
    "grammar = 'NP: {<DT>?<JJ>*<NN>}'"
   ]
  },
  {
   "cell_type": "code",
   "execution_count": 48,
   "metadata": {},
   "outputs": [
    {
     "data": {
      "image/svg+xml": [
       "<svg baseProfile=\"full\" height=\"168px\" preserveAspectRatio=\"xMidYMid meet\" style=\"font-family: times, serif; font-weight: normal; font-style: normal; font-size: 16px;\" version=\"1.1\" viewBox=\"0,0,1264.0,168.0\" width=\"1264px\" xmlns=\"http://www.w3.org/2000/svg\" xmlns:ev=\"http://www.w3.org/2001/xml-events\" xmlns:xlink=\"http://www.w3.org/1999/xlink\"><defs /><svg width=\"100%\" x=\"0\" y=\"0px\"><defs /><text text-anchor=\"middle\" x=\"50%\" y=\"16px\">S</text></svg><svg width=\"2.53165%\" x=\"0%\" y=\"48px\"><defs /><svg width=\"100%\" x=\"0\" y=\"0px\"><defs /><text text-anchor=\"middle\" x=\"50%\" y=\"16px\">so</text></svg><svg width=\"100%\" x=\"0%\" y=\"48px\"><defs /><svg width=\"100%\" x=\"0\" y=\"0px\"><defs /><text text-anchor=\"middle\" x=\"50%\" y=\"16px\">RB</text></svg></svg><line stroke=\"black\" x1=\"50%\" x2=\"50%\" y1=\"19.2px\" y2=\"48px\" /></svg><line stroke=\"black\" x1=\"50%\" x2=\"1.26582%\" y1=\"19.2px\" y2=\"48px\" /><svg width=\"3.16456%\" x=\"2.53165%\" y=\"48px\"><defs /><svg width=\"100%\" x=\"0\" y=\"0px\"><defs /><text text-anchor=\"middle\" x=\"50%\" y=\"16px\">you</text></svg><svg width=\"100%\" x=\"0%\" y=\"48px\"><defs /><svg width=\"100%\" x=\"0\" y=\"0px\"><defs /><text text-anchor=\"middle\" x=\"50%\" y=\"16px\">PRP</text></svg></svg><line stroke=\"black\" x1=\"50%\" x2=\"50%\" y1=\"19.2px\" y2=\"48px\" /></svg><line stroke=\"black\" x1=\"50%\" x2=\"4.11392%\" y1=\"19.2px\" y2=\"48px\" /><svg width=\"3.79747%\" x=\"5.6962%\" y=\"48px\"><defs /><svg width=\"100%\" x=\"0\" y=\"0px\"><defs /><text text-anchor=\"middle\" x=\"50%\" y=\"16px\">know</text></svg><svg width=\"100%\" x=\"0%\" y=\"48px\"><defs /><svg width=\"100%\" x=\"0\" y=\"0px\"><defs /><text text-anchor=\"middle\" x=\"50%\" y=\"16px\">VBP</text></svg></svg><line stroke=\"black\" x1=\"50%\" x2=\"50%\" y1=\"19.2px\" y2=\"48px\" /></svg><line stroke=\"black\" x1=\"50%\" x2=\"7.59494%\" y1=\"19.2px\" y2=\"48px\" /><svg width=\"2.53165%\" x=\"9.49367%\" y=\"48px\"><defs /><svg width=\"100%\" x=\"0\" y=\"0px\"><defs /><text text-anchor=\"middle\" x=\"50%\" y=\"16px\">i</text></svg><svg width=\"100%\" x=\"0%\" y=\"48px\"><defs /><svg width=\"100%\" x=\"0\" y=\"0px\"><defs /><text text-anchor=\"middle\" x=\"50%\" y=\"16px\">RB</text></svg></svg><line stroke=\"black\" x1=\"50%\" x2=\"50%\" y1=\"19.2px\" y2=\"48px\" /></svg><line stroke=\"black\" x1=\"50%\" x2=\"10.7595%\" y1=\"19.2px\" y2=\"48px\" /><svg width=\"4.43038%\" x=\"12.0253%\" y=\"48px\"><defs /><svg width=\"100%\" x=\"0\" y=\"0px\"><defs /><text text-anchor=\"middle\" x=\"50%\" y=\"16px\">would</text></svg><svg width=\"100%\" x=\"0%\" y=\"48px\"><defs /><svg width=\"100%\" x=\"0\" y=\"0px\"><defs /><text text-anchor=\"middle\" x=\"50%\" y=\"16px\">MD</text></svg></svg><line stroke=\"black\" x1=\"50%\" x2=\"50%\" y1=\"19.2px\" y2=\"48px\" /></svg><line stroke=\"black\" x1=\"50%\" x2=\"14.2405%\" y1=\"19.2px\" y2=\"48px\" /><svg width=\"3.79747%\" x=\"16.4557%\" y=\"48px\"><defs /><svg width=\"100%\" x=\"0\" y=\"0px\"><defs /><text text-anchor=\"middle\" x=\"50%\" y=\"16px\">walk</text></svg><svg width=\"100%\" x=\"0%\" y=\"48px\"><defs /><svg width=\"100%\" x=\"0\" y=\"0px\"><defs /><text text-anchor=\"middle\" x=\"50%\" y=\"16px\">VB</text></svg></svg><line stroke=\"black\" x1=\"50%\" x2=\"50%\" y1=\"19.2px\" y2=\"48px\" /></svg><line stroke=\"black\" x1=\"50%\" x2=\"18.3544%\" y1=\"19.2px\" y2=\"48px\" /><svg width=\"2.53165%\" x=\"20.2532%\" y=\"48px\"><defs /><svg width=\"100%\" x=\"0\" y=\"0px\"><defs /><text text-anchor=\"middle\" x=\"50%\" y=\"16px\">in</text></svg><svg width=\"100%\" x=\"0%\" y=\"48px\"><defs /><svg width=\"100%\" x=\"0\" y=\"0px\"><defs /><text text-anchor=\"middle\" x=\"50%\" y=\"16px\">IN</text></svg></svg><line stroke=\"black\" x1=\"50%\" x2=\"50%\" y1=\"19.2px\" y2=\"48px\" /></svg><line stroke=\"black\" x1=\"50%\" x2=\"21.519%\" y1=\"19.2px\" y2=\"48px\" /><svg width=\"3.16456%\" x=\"22.7848%\" y=\"48px\"><defs /><svg width=\"100%\" x=\"0\" y=\"0px\"><defs /><text text-anchor=\"middle\" x=\"50%\" y=\"16px\">NP</text></svg><svg width=\"100%\" x=\"0%\" y=\"48px\"><defs /><svg width=\"100%\" x=\"0\" y=\"0px\"><defs /><text text-anchor=\"middle\" x=\"50%\" y=\"16px\">see</text></svg><svg width=\"100%\" x=\"0%\" y=\"48px\"><defs /><svg width=\"100%\" x=\"0\" y=\"0px\"><defs /><text text-anchor=\"middle\" x=\"50%\" y=\"16px\">NN</text></svg></svg><line stroke=\"black\" x1=\"50%\" x2=\"50%\" y1=\"19.2px\" y2=\"48px\" /></svg><line stroke=\"black\" x1=\"50%\" x2=\"50%\" y1=\"19.2px\" y2=\"48px\" /></svg><line stroke=\"black\" x1=\"50%\" x2=\"24.3671%\" y1=\"19.2px\" y2=\"48px\" /><svg width=\"4.43038%\" x=\"25.9494%\" y=\"48px\"><defs /><svg width=\"100%\" x=\"0\" y=\"0px\"><defs /><text text-anchor=\"middle\" x=\"50%\" y=\"16px\">those</text></svg><svg width=\"100%\" x=\"0%\" y=\"48px\"><defs /><svg width=\"100%\" x=\"0\" y=\"0px\"><defs /><text text-anchor=\"middle\" x=\"50%\" y=\"16px\">DT</text></svg></svg><line stroke=\"black\" x1=\"50%\" x2=\"50%\" y1=\"19.2px\" y2=\"48px\" /></svg><line stroke=\"black\" x1=\"50%\" x2=\"28.1646%\" y1=\"19.2px\" y2=\"48px\" /><svg width=\"3.79747%\" x=\"30.3797%\" y=\"48px\"><defs /><svg width=\"100%\" x=\"0\" y=\"0px\"><defs /><text text-anchor=\"middle\" x=\"50%\" y=\"16px\">four</text></svg><svg width=\"100%\" x=\"0%\" y=\"48px\"><defs /><svg width=\"100%\" x=\"0\" y=\"0px\"><defs /><text text-anchor=\"middle\" x=\"50%\" y=\"16px\">CD</text></svg></svg><line stroke=\"black\" x1=\"50%\" x2=\"50%\" y1=\"19.2px\" y2=\"48px\" /></svg><line stroke=\"black\" x1=\"50%\" x2=\"32.2785%\" y1=\"19.2px\" y2=\"48px\" /><svg width=\"6.32911%\" x=\"34.1772%\" y=\"48px\"><defs /><svg width=\"100%\" x=\"0\" y=\"0px\"><defs /><text text-anchor=\"middle\" x=\"50%\" y=\"16px\">patients</text></svg><svg width=\"100%\" x=\"0%\" y=\"48px\"><defs /><svg width=\"100%\" x=\"0\" y=\"0px\"><defs /><text text-anchor=\"middle\" x=\"50%\" y=\"16px\">NNS</text></svg></svg><line stroke=\"black\" x1=\"50%\" x2=\"50%\" y1=\"19.2px\" y2=\"48px\" /></svg><line stroke=\"black\" x1=\"50%\" x2=\"37.3418%\" y1=\"19.2px\" y2=\"48px\" /><svg width=\"2.53165%\" x=\"40.5063%\" y=\"48px\"><defs /><svg width=\"100%\" x=\"0\" y=\"0px\"><defs /><text text-anchor=\"middle\" x=\"50%\" y=\"16px\">NP</text></svg><svg width=\"100%\" x=\"0%\" y=\"48px\"><defs /><svg width=\"100%\" x=\"0\" y=\"0px\"><defs /><text text-anchor=\"middle\" x=\"50%\" y=\"16px\">i</text></svg><svg width=\"100%\" x=\"0%\" y=\"48px\"><defs /><svg width=\"100%\" x=\"0\" y=\"0px\"><defs /><text text-anchor=\"middle\" x=\"50%\" y=\"16px\">NN</text></svg></svg><line stroke=\"black\" x1=\"50%\" x2=\"50%\" y1=\"19.2px\" y2=\"48px\" /></svg><line stroke=\"black\" x1=\"50%\" x2=\"50%\" y1=\"19.2px\" y2=\"48px\" /></svg><line stroke=\"black\" x1=\"50%\" x2=\"41.7722%\" y1=\"19.2px\" y2=\"48px\" /><svg width=\"4.43038%\" x=\"43.038%\" y=\"48px\"><defs /><svg width=\"100%\" x=\"0\" y=\"0px\"><defs /><text text-anchor=\"middle\" x=\"50%\" y=\"16px\">would</text></svg><svg width=\"100%\" x=\"0%\" y=\"48px\"><defs /><svg width=\"100%\" x=\"0\" y=\"0px\"><defs /><text text-anchor=\"middle\" x=\"50%\" y=\"16px\">MD</text></svg></svg><line stroke=\"black\" x1=\"50%\" x2=\"50%\" y1=\"19.2px\" y2=\"48px\" /></svg><line stroke=\"black\" x1=\"50%\" x2=\"45.2532%\" y1=\"19.2px\" y2=\"48px\" /><svg width=\"2.53165%\" x=\"47.4684%\" y=\"48px\"><defs /><svg width=\"100%\" x=\"0\" y=\"0px\"><defs /><text text-anchor=\"middle\" x=\"50%\" y=\"16px\">go</text></svg><svg width=\"100%\" x=\"0%\" y=\"48px\"><defs /><svg width=\"100%\" x=\"0\" y=\"0px\"><defs /><text text-anchor=\"middle\" x=\"50%\" y=\"16px\">VB</text></svg></svg><line stroke=\"black\" x1=\"50%\" x2=\"50%\" y1=\"19.2px\" y2=\"48px\" /></svg><line stroke=\"black\" x1=\"50%\" x2=\"48.7342%\" y1=\"19.2px\" y2=\"48px\" /><svg width=\"3.16456%\" x=\"50%\" y=\"48px\"><defs /><svg width=\"100%\" x=\"0\" y=\"0px\"><defs /><text text-anchor=\"middle\" x=\"50%\" y=\"16px\">and</text></svg><svg width=\"100%\" x=\"0%\" y=\"48px\"><defs /><svg width=\"100%\" x=\"0\" y=\"0px\"><defs /><text text-anchor=\"middle\" x=\"50%\" y=\"16px\">CC</text></svg></svg><line stroke=\"black\" x1=\"50%\" x2=\"50%\" y1=\"19.2px\" y2=\"48px\" /></svg><line stroke=\"black\" x1=\"50%\" x2=\"51.5823%\" y1=\"19.2px\" y2=\"48px\" /><svg width=\"3.16456%\" x=\"53.1646%\" y=\"48px\"><defs /><svg width=\"100%\" x=\"0\" y=\"0px\"><defs /><text text-anchor=\"middle\" x=\"50%\" y=\"16px\">say</text></svg><svg width=\"100%\" x=\"0%\" y=\"48px\"><defs /><svg width=\"100%\" x=\"0\" y=\"0px\"><defs /><text text-anchor=\"middle\" x=\"50%\" y=\"16px\">VB</text></svg></svg><line stroke=\"black\" x1=\"50%\" x2=\"50%\" y1=\"19.2px\" y2=\"48px\" /></svg><line stroke=\"black\" x1=\"50%\" x2=\"54.7468%\" y1=\"19.2px\" y2=\"48px\" /><svg width=\"2.53165%\" x=\"56.3291%\" y=\"48px\"><defs /><svg width=\"100%\" x=\"0\" y=\"0px\"><defs /><text text-anchor=\"middle\" x=\"50%\" y=\"16px\">if</text></svg><svg width=\"100%\" x=\"0%\" y=\"48px\"><defs /><svg width=\"100%\" x=\"0\" y=\"0px\"><defs /><text text-anchor=\"middle\" x=\"50%\" y=\"16px\">IN</text></svg></svg><line stroke=\"black\" x1=\"50%\" x2=\"50%\" y1=\"19.2px\" y2=\"48px\" /></svg><line stroke=\"black\" x1=\"50%\" x2=\"57.5949%\" y1=\"19.2px\" y2=\"48px\" /><svg width=\"5.6962%\" x=\"58.8608%\" y=\"48px\"><defs /><svg width=\"100%\" x=\"0\" y=\"0px\"><defs /><text text-anchor=\"middle\" x=\"50%\" y=\"16px\">NP</text></svg><svg width=\"100%\" x=\"0%\" y=\"48px\"><defs /><svg width=\"100%\" x=\"0\" y=\"0px\"><defs /><text text-anchor=\"middle\" x=\"50%\" y=\"16px\">anybody</text></svg><svg width=\"100%\" x=\"0%\" y=\"48px\"><defs /><svg width=\"100%\" x=\"0\" y=\"0px\"><defs /><text text-anchor=\"middle\" x=\"50%\" y=\"16px\">NN</text></svg></svg><line stroke=\"black\" x1=\"50%\" x2=\"50%\" y1=\"19.2px\" y2=\"48px\" /></svg><line stroke=\"black\" x1=\"50%\" x2=\"50%\" y1=\"19.2px\" y2=\"48px\" /></svg><line stroke=\"black\" x1=\"50%\" x2=\"61.7089%\" y1=\"19.2px\" y2=\"48px\" /><svg width=\"3.16456%\" x=\"64.557%\" y=\"48px\"><defs /><svg width=\"100%\" x=\"0\" y=\"0px\"><defs /><text text-anchor=\"middle\" x=\"50%\" y=\"16px\">can</text></svg><svg width=\"100%\" x=\"0%\" y=\"48px\"><defs /><svg width=\"100%\" x=\"0\" y=\"0px\"><defs /><text text-anchor=\"middle\" x=\"50%\" y=\"16px\">MD</text></svg></svg><line stroke=\"black\" x1=\"50%\" x2=\"50%\" y1=\"19.2px\" y2=\"48px\" /></svg><line stroke=\"black\" x1=\"50%\" x2=\"66.1392%\" y1=\"19.2px\" y2=\"48px\" /><svg width=\"3.79747%\" x=\"67.7215%\" y=\"48px\"><defs /><svg width=\"100%\" x=\"0\" y=\"0px\"><defs /><text text-anchor=\"middle\" x=\"50%\" y=\"16px\">hear</text></svg><svg width=\"100%\" x=\"0%\" y=\"48px\"><defs /><svg width=\"100%\" x=\"0\" y=\"0px\"><defs /><text text-anchor=\"middle\" x=\"50%\" y=\"16px\">VB</text></svg></svg><line stroke=\"black\" x1=\"50%\" x2=\"50%\" y1=\"19.2px\" y2=\"48px\" /></svg><line stroke=\"black\" x1=\"50%\" x2=\"69.6203%\" y1=\"19.2px\" y2=\"48px\" /><svg width=\"3.16456%\" x=\"71.519%\" y=\"48px\"><defs /><svg width=\"100%\" x=\"0\" y=\"0px\"><defs /><text text-anchor=\"middle\" x=\"50%\" y=\"16px\">me</text></svg><svg width=\"100%\" x=\"0%\" y=\"48px\"><defs /><svg width=\"100%\" x=\"0\" y=\"0px\"><defs /><text text-anchor=\"middle\" x=\"50%\" y=\"16px\">PRP</text></svg></svg><line stroke=\"black\" x1=\"50%\" x2=\"50%\" y1=\"19.2px\" y2=\"48px\" /></svg><line stroke=\"black\" x1=\"50%\" x2=\"73.1013%\" y1=\"19.2px\" y2=\"48px\" /><svg width=\"2.53165%\" x=\"74.6835%\" y=\"48px\"><defs /><svg width=\"100%\" x=\"0\" y=\"0px\"><defs /><text text-anchor=\"middle\" x=\"50%\" y=\"16px\">i</text></svg><svg width=\"100%\" x=\"0%\" y=\"48px\"><defs /><svg width=\"100%\" x=\"0\" y=\"0px\"><defs /><text text-anchor=\"middle\" x=\"50%\" y=\"16px\">JJ</text></svg></svg><line stroke=\"black\" x1=\"50%\" x2=\"50%\" y1=\"19.2px\" y2=\"48px\" /></svg><line stroke=\"black\" x1=\"50%\" x2=\"75.9494%\" y1=\"19.2px\" y2=\"48px\" /><svg width=\"3.79747%\" x=\"77.2152%\" y=\"48px\"><defs /><svg width=\"100%\" x=\"0\" y=\"0px\"><defs /><text text-anchor=\"middle\" x=\"50%\" y=\"16px\">want</text></svg><svg width=\"100%\" x=\"0%\" y=\"48px\"><defs /><svg width=\"100%\" x=\"0\" y=\"0px\"><defs /><text text-anchor=\"middle\" x=\"50%\" y=\"16px\">VBP</text></svg></svg><line stroke=\"black\" x1=\"50%\" x2=\"50%\" y1=\"19.2px\" y2=\"48px\" /></svg><line stroke=\"black\" x1=\"50%\" x2=\"79.1139%\" y1=\"19.2px\" y2=\"48px\" /><svg width=\"3.16456%\" x=\"81.0127%\" y=\"48px\"><defs /><svg width=\"100%\" x=\"0\" y=\"0px\"><defs /><text text-anchor=\"middle\" x=\"50%\" y=\"16px\">you</text></svg><svg width=\"100%\" x=\"0%\" y=\"48px\"><defs /><svg width=\"100%\" x=\"0\" y=\"0px\"><defs /><text text-anchor=\"middle\" x=\"50%\" y=\"16px\">PRP</text></svg></svg><line stroke=\"black\" x1=\"50%\" x2=\"50%\" y1=\"19.2px\" y2=\"48px\" /></svg><line stroke=\"black\" x1=\"50%\" x2=\"82.5949%\" y1=\"19.2px\" y2=\"48px\" /><svg width=\"2.53165%\" x=\"84.1772%\" y=\"48px\"><defs /><svg width=\"100%\" x=\"0\" y=\"0px\"><defs /><text text-anchor=\"middle\" x=\"50%\" y=\"16px\">to</text></svg><svg width=\"100%\" x=\"0%\" y=\"48px\"><defs /><svg width=\"100%\" x=\"0\" y=\"0px\"><defs /><text text-anchor=\"middle\" x=\"50%\" y=\"16px\">TO</text></svg></svg><line stroke=\"black\" x1=\"50%\" x2=\"50%\" y1=\"19.2px\" y2=\"48px\" /></svg><line stroke=\"black\" x1=\"50%\" x2=\"85.443%\" y1=\"19.2px\" y2=\"48px\" /><svg width=\"3.16456%\" x=\"86.7089%\" y=\"48px\"><defs /><svg width=\"100%\" x=\"0\" y=\"0px\"><defs /><text text-anchor=\"middle\" x=\"50%\" y=\"16px\">wlk</text></svg><svg width=\"100%\" x=\"0%\" y=\"48px\"><defs /><svg width=\"100%\" x=\"0\" y=\"0px\"><defs /><text text-anchor=\"middle\" x=\"50%\" y=\"16px\">VB</text></svg></svg><line stroke=\"black\" x1=\"50%\" x2=\"50%\" y1=\"19.2px\" y2=\"48px\" /></svg><line stroke=\"black\" x1=\"50%\" x2=\"88.2911%\" y1=\"19.2px\" y2=\"48px\" /><svg width=\"3.79747%\" x=\"89.8734%\" y=\"48px\"><defs /><svg width=\"100%\" x=\"0\" y=\"0px\"><defs /><text text-anchor=\"middle\" x=\"50%\" y=\"16px\">over</text></svg><svg width=\"100%\" x=\"0%\" y=\"48px\"><defs /><svg width=\"100%\" x=\"0\" y=\"0px\"><defs /><text text-anchor=\"middle\" x=\"50%\" y=\"16px\">IN</text></svg></svg><line stroke=\"black\" x1=\"50%\" x2=\"50%\" y1=\"19.2px\" y2=\"48px\" /></svg><line stroke=\"black\" x1=\"50%\" x2=\"91.7722%\" y1=\"19.2px\" y2=\"48px\" /><svg width=\"3.79747%\" x=\"93.6709%\" y=\"48px\"><defs /><svg width=\"100%\" x=\"0\" y=\"0px\"><defs /><text text-anchor=\"middle\" x=\"50%\" y=\"16px\">here</text></svg><svg width=\"100%\" x=\"0%\" y=\"48px\"><defs /><svg width=\"100%\" x=\"0\" y=\"0px\"><defs /><text text-anchor=\"middle\" x=\"50%\" y=\"16px\">RB</text></svg></svg><line stroke=\"black\" x1=\"50%\" x2=\"50%\" y1=\"19.2px\" y2=\"48px\" /></svg><line stroke=\"black\" x1=\"50%\" x2=\"95.5696%\" y1=\"19.2px\" y2=\"48px\" /><svg width=\"2.53165%\" x=\"97.4684%\" y=\"48px\"><defs /><svg width=\"100%\" x=\"0\" y=\"0px\"><defs /><text text-anchor=\"middle\" x=\"50%\" y=\"16px\">ok</text></svg><svg width=\"100%\" x=\"0%\" y=\"48px\"><defs /><svg width=\"100%\" x=\"0\" y=\"0px\"><defs /><text text-anchor=\"middle\" x=\"50%\" y=\"16px\">JJ</text></svg></svg><line stroke=\"black\" x1=\"50%\" x2=\"50%\" y1=\"19.2px\" y2=\"48px\" /></svg><line stroke=\"black\" x1=\"50%\" x2=\"98.7342%\" y1=\"19.2px\" y2=\"48px\" /></svg>"
      ],
      "text/plain": [
       "Tree('S', [('so', 'RB'), ('you', 'PRP'), ('know', 'VBP'), ('i', 'RB'), ('would', 'MD'), ('walk', 'VB'), ('in', 'IN'), Tree('NP', [('see', 'NN')]), ('those', 'DT'), ('four', 'CD'), ('patients', 'NNS'), Tree('NP', [('i', 'NN')]), ('would', 'MD'), ('go', 'VB'), ('and', 'CC'), ('say', 'VB'), ('if', 'IN'), Tree('NP', [('anybody', 'NN')]), ('can', 'MD'), ('hear', 'VB'), ('me', 'PRP'), ('i', 'JJ'), ('want', 'VBP'), ('you', 'PRP'), ('to', 'TO'), ('wlk', 'VB'), ('over', 'IN'), ('here', 'RB'), ('ok', 'JJ')])"
      ]
     },
     "execution_count": 48,
     "metadata": {},
     "output_type": "execute_result"
    }
   ],
   "source": [
    "\n",
    "chunker = RegexpParser(grammar)\n",
    "result = chunker.parse(tags)\n",
    "result"
   ]
  },
  {
   "cell_type": "code",
   "execution_count": 49,
   "metadata": {},
   "outputs": [
    {
     "data": {
      "text/plain": [
       "<class 'nltk.tree.tree.Tree'>"
      ]
     },
     "metadata": {},
     "output_type": "display_data"
    },
    {
     "data": {
      "text/plain": [
       "['__add__', '__class__', '__class_getitem__', '__contains__', '__copy__', '__deepcopy__', '__delattr__', '__delitem__', '__dict__', '__dir__', '__doc__', '__eq__', '__format__', '__ge__', '__getattribute__', '__getitem__', '__gt__', '__hash__', '__iadd__', '__imul__', '__init__', '__init_subclass__', '__iter__', '__le__', '__len__', '__lt__', '__module__', '__mul__', '__ne__', '__new__', '__radd__', '__reduce__', '__reduce_ex__', '__repr__', '__reversed__', '__rmul__', '__setattr__', '__setitem__', '__sizeof__', '__str__', '__subclasshook__', '__weakref__', '_frozen_class', '_get_node', '_label', '_parse_error', '_pformat_flat', '_repr_svg_', '_set_node', 'append', 'chomsky_normal_form', 'clear', 'collapse_unary', 'convert', 'copy', 'count', 'draw', 'extend', 'flatten', 'freeze', 'fromlist', 'fromstring', 'height', 'index', 'insert', 'label', 'leaf_treeposition', 'leaves', 'node', 'pformat', 'pformat_latex_qtree', 'pop', 'pos', 'pprint', 'pretty_print', 'productions', 'remove', 'reverse', 'set_label', 'sort', 'subtrees', 'treeposition_spanning_leaves', 'treepositions', 'un_chomsky_normal_form']"
      ]
     },
     "execution_count": 49,
     "metadata": {},
     "output_type": "execute_result"
    }
   ],
   "source": [
    "\n",
    "display(type(result))\n",
    "dir(result)"
   ]
  },
  {
   "cell_type": "code",
   "execution_count": 50,
   "metadata": {},
   "outputs": [
    {
     "name": "stdout",
     "output_type": "stream",
     "text": [
      "(S\n",
      "  so/RB\n",
      "  you/PRP\n",
      "  know/VBP\n",
      "  i/RB\n",
      "  would/MD\n",
      "  walk/VB\n",
      "  in/IN\n",
      "  (NP see/NN)\n",
      "  those/DT\n",
      "  four/CD\n",
      "  patients/NNS\n",
      "  (NP i/NN)\n",
      "  would/MD\n",
      "  go/VB\n",
      "  and/CC\n",
      "  say/VB\n",
      "  if/IN\n",
      "  (NP anybody/NN)\n",
      "  can/MD\n",
      "  hear/VB\n",
      "  me/PRP\n",
      "  i/JJ\n",
      "  want/VBP\n",
      "  you/PRP\n",
      "  to/TO\n",
      "  wlk/VB\n",
      "  over/IN\n",
      "  here/RB\n",
      "  ok/JJ)\n"
     ]
    }
   ],
   "source": [
    "\n",
    "result.pprint()"
   ]
  },
  {
   "cell_type": "markdown",
   "metadata": {},
   "source": [
    "### 4.2. Entity Recognition"
   ]
  },
  {
   "cell_type": "markdown",
   "metadata": {},
   "source": [
    "The goal of entity recogintion is to detect entities such as Person, Location, Time, etc."
   ]
  },
  {
   "cell_type": "code",
   "execution_count": 51,
   "metadata": {},
   "outputs": [
    {
     "data": {
      "image/svg+xml": [
       "<svg baseProfile=\"full\" height=\"120px\" preserveAspectRatio=\"xMidYMid meet\" style=\"font-family: times, serif; font-weight: normal; font-style: normal; font-size: 16px;\" version=\"1.1\" viewBox=\"0,0,1264.0,120.0\" width=\"1264px\" xmlns=\"http://www.w3.org/2000/svg\" xmlns:ev=\"http://www.w3.org/2001/xml-events\" xmlns:xlink=\"http://www.w3.org/1999/xlink\"><defs /><svg width=\"100%\" x=\"0\" y=\"0px\"><defs /><text text-anchor=\"middle\" x=\"50%\" y=\"16px\">S</text></svg><svg width=\"2.53165%\" x=\"0%\" y=\"48px\"><defs /><svg width=\"100%\" x=\"0\" y=\"0px\"><defs /><text text-anchor=\"middle\" x=\"50%\" y=\"16px\">so</text></svg><svg width=\"100%\" x=\"0%\" y=\"48px\"><defs /><svg width=\"100%\" x=\"0\" y=\"0px\"><defs /><text text-anchor=\"middle\" x=\"50%\" y=\"16px\">RB</text></svg></svg><line stroke=\"black\" x1=\"50%\" x2=\"50%\" y1=\"19.2px\" y2=\"48px\" /></svg><line stroke=\"black\" x1=\"50%\" x2=\"1.26582%\" y1=\"19.2px\" y2=\"48px\" /><svg width=\"3.16456%\" x=\"2.53165%\" y=\"48px\"><defs /><svg width=\"100%\" x=\"0\" y=\"0px\"><defs /><text text-anchor=\"middle\" x=\"50%\" y=\"16px\">you</text></svg><svg width=\"100%\" x=\"0%\" y=\"48px\"><defs /><svg width=\"100%\" x=\"0\" y=\"0px\"><defs /><text text-anchor=\"middle\" x=\"50%\" y=\"16px\">PRP</text></svg></svg><line stroke=\"black\" x1=\"50%\" x2=\"50%\" y1=\"19.2px\" y2=\"48px\" /></svg><line stroke=\"black\" x1=\"50%\" x2=\"4.11392%\" y1=\"19.2px\" y2=\"48px\" /><svg width=\"3.79747%\" x=\"5.6962%\" y=\"48px\"><defs /><svg width=\"100%\" x=\"0\" y=\"0px\"><defs /><text text-anchor=\"middle\" x=\"50%\" y=\"16px\">know</text></svg><svg width=\"100%\" x=\"0%\" y=\"48px\"><defs /><svg width=\"100%\" x=\"0\" y=\"0px\"><defs /><text text-anchor=\"middle\" x=\"50%\" y=\"16px\">VBP</text></svg></svg><line stroke=\"black\" x1=\"50%\" x2=\"50%\" y1=\"19.2px\" y2=\"48px\" /></svg><line stroke=\"black\" x1=\"50%\" x2=\"7.59494%\" y1=\"19.2px\" y2=\"48px\" /><svg width=\"2.53165%\" x=\"9.49367%\" y=\"48px\"><defs /><svg width=\"100%\" x=\"0\" y=\"0px\"><defs /><text text-anchor=\"middle\" x=\"50%\" y=\"16px\">i</text></svg><svg width=\"100%\" x=\"0%\" y=\"48px\"><defs /><svg width=\"100%\" x=\"0\" y=\"0px\"><defs /><text text-anchor=\"middle\" x=\"50%\" y=\"16px\">RB</text></svg></svg><line stroke=\"black\" x1=\"50%\" x2=\"50%\" y1=\"19.2px\" y2=\"48px\" /></svg><line stroke=\"black\" x1=\"50%\" x2=\"10.7595%\" y1=\"19.2px\" y2=\"48px\" /><svg width=\"4.43038%\" x=\"12.0253%\" y=\"48px\"><defs /><svg width=\"100%\" x=\"0\" y=\"0px\"><defs /><text text-anchor=\"middle\" x=\"50%\" y=\"16px\">would</text></svg><svg width=\"100%\" x=\"0%\" y=\"48px\"><defs /><svg width=\"100%\" x=\"0\" y=\"0px\"><defs /><text text-anchor=\"middle\" x=\"50%\" y=\"16px\">MD</text></svg></svg><line stroke=\"black\" x1=\"50%\" x2=\"50%\" y1=\"19.2px\" y2=\"48px\" /></svg><line stroke=\"black\" x1=\"50%\" x2=\"14.2405%\" y1=\"19.2px\" y2=\"48px\" /><svg width=\"3.79747%\" x=\"16.4557%\" y=\"48px\"><defs /><svg width=\"100%\" x=\"0\" y=\"0px\"><defs /><text text-anchor=\"middle\" x=\"50%\" y=\"16px\">walk</text></svg><svg width=\"100%\" x=\"0%\" y=\"48px\"><defs /><svg width=\"100%\" x=\"0\" y=\"0px\"><defs /><text text-anchor=\"middle\" x=\"50%\" y=\"16px\">VB</text></svg></svg><line stroke=\"black\" x1=\"50%\" x2=\"50%\" y1=\"19.2px\" y2=\"48px\" /></svg><line stroke=\"black\" x1=\"50%\" x2=\"18.3544%\" y1=\"19.2px\" y2=\"48px\" /><svg width=\"2.53165%\" x=\"20.2532%\" y=\"48px\"><defs /><svg width=\"100%\" x=\"0\" y=\"0px\"><defs /><text text-anchor=\"middle\" x=\"50%\" y=\"16px\">in</text></svg><svg width=\"100%\" x=\"0%\" y=\"48px\"><defs /><svg width=\"100%\" x=\"0\" y=\"0px\"><defs /><text text-anchor=\"middle\" x=\"50%\" y=\"16px\">IN</text></svg></svg><line stroke=\"black\" x1=\"50%\" x2=\"50%\" y1=\"19.2px\" y2=\"48px\" /></svg><line stroke=\"black\" x1=\"50%\" x2=\"21.519%\" y1=\"19.2px\" y2=\"48px\" /><svg width=\"3.16456%\" x=\"22.7848%\" y=\"48px\"><defs /><svg width=\"100%\" x=\"0\" y=\"0px\"><defs /><text text-anchor=\"middle\" x=\"50%\" y=\"16px\">see</text></svg><svg width=\"100%\" x=\"0%\" y=\"48px\"><defs /><svg width=\"100%\" x=\"0\" y=\"0px\"><defs /><text text-anchor=\"middle\" x=\"50%\" y=\"16px\">NN</text></svg></svg><line stroke=\"black\" x1=\"50%\" x2=\"50%\" y1=\"19.2px\" y2=\"48px\" /></svg><line stroke=\"black\" x1=\"50%\" x2=\"24.3671%\" y1=\"19.2px\" y2=\"48px\" /><svg width=\"4.43038%\" x=\"25.9494%\" y=\"48px\"><defs /><svg width=\"100%\" x=\"0\" y=\"0px\"><defs /><text text-anchor=\"middle\" x=\"50%\" y=\"16px\">those</text></svg><svg width=\"100%\" x=\"0%\" y=\"48px\"><defs /><svg width=\"100%\" x=\"0\" y=\"0px\"><defs /><text text-anchor=\"middle\" x=\"50%\" y=\"16px\">DT</text></svg></svg><line stroke=\"black\" x1=\"50%\" x2=\"50%\" y1=\"19.2px\" y2=\"48px\" /></svg><line stroke=\"black\" x1=\"50%\" x2=\"28.1646%\" y1=\"19.2px\" y2=\"48px\" /><svg width=\"3.79747%\" x=\"30.3797%\" y=\"48px\"><defs /><svg width=\"100%\" x=\"0\" y=\"0px\"><defs /><text text-anchor=\"middle\" x=\"50%\" y=\"16px\">four</text></svg><svg width=\"100%\" x=\"0%\" y=\"48px\"><defs /><svg width=\"100%\" x=\"0\" y=\"0px\"><defs /><text text-anchor=\"middle\" x=\"50%\" y=\"16px\">CD</text></svg></svg><line stroke=\"black\" x1=\"50%\" x2=\"50%\" y1=\"19.2px\" y2=\"48px\" /></svg><line stroke=\"black\" x1=\"50%\" x2=\"32.2785%\" y1=\"19.2px\" y2=\"48px\" /><svg width=\"6.32911%\" x=\"34.1772%\" y=\"48px\"><defs /><svg width=\"100%\" x=\"0\" y=\"0px\"><defs /><text text-anchor=\"middle\" x=\"50%\" y=\"16px\">patients</text></svg><svg width=\"100%\" x=\"0%\" y=\"48px\"><defs /><svg width=\"100%\" x=\"0\" y=\"0px\"><defs /><text text-anchor=\"middle\" x=\"50%\" y=\"16px\">NNS</text></svg></svg><line stroke=\"black\" x1=\"50%\" x2=\"50%\" y1=\"19.2px\" y2=\"48px\" /></svg><line stroke=\"black\" x1=\"50%\" x2=\"37.3418%\" y1=\"19.2px\" y2=\"48px\" /><svg width=\"2.53165%\" x=\"40.5063%\" y=\"48px\"><defs /><svg width=\"100%\" x=\"0\" y=\"0px\"><defs /><text text-anchor=\"middle\" x=\"50%\" y=\"16px\">i</text></svg><svg width=\"100%\" x=\"0%\" y=\"48px\"><defs /><svg width=\"100%\" x=\"0\" y=\"0px\"><defs /><text text-anchor=\"middle\" x=\"50%\" y=\"16px\">NN</text></svg></svg><line stroke=\"black\" x1=\"50%\" x2=\"50%\" y1=\"19.2px\" y2=\"48px\" /></svg><line stroke=\"black\" x1=\"50%\" x2=\"41.7722%\" y1=\"19.2px\" y2=\"48px\" /><svg width=\"4.43038%\" x=\"43.038%\" y=\"48px\"><defs /><svg width=\"100%\" x=\"0\" y=\"0px\"><defs /><text text-anchor=\"middle\" x=\"50%\" y=\"16px\">would</text></svg><svg width=\"100%\" x=\"0%\" y=\"48px\"><defs /><svg width=\"100%\" x=\"0\" y=\"0px\"><defs /><text text-anchor=\"middle\" x=\"50%\" y=\"16px\">MD</text></svg></svg><line stroke=\"black\" x1=\"50%\" x2=\"50%\" y1=\"19.2px\" y2=\"48px\" /></svg><line stroke=\"black\" x1=\"50%\" x2=\"45.2532%\" y1=\"19.2px\" y2=\"48px\" /><svg width=\"2.53165%\" x=\"47.4684%\" y=\"48px\"><defs /><svg width=\"100%\" x=\"0\" y=\"0px\"><defs /><text text-anchor=\"middle\" x=\"50%\" y=\"16px\">go</text></svg><svg width=\"100%\" x=\"0%\" y=\"48px\"><defs /><svg width=\"100%\" x=\"0\" y=\"0px\"><defs /><text text-anchor=\"middle\" x=\"50%\" y=\"16px\">VB</text></svg></svg><line stroke=\"black\" x1=\"50%\" x2=\"50%\" y1=\"19.2px\" y2=\"48px\" /></svg><line stroke=\"black\" x1=\"50%\" x2=\"48.7342%\" y1=\"19.2px\" y2=\"48px\" /><svg width=\"3.16456%\" x=\"50%\" y=\"48px\"><defs /><svg width=\"100%\" x=\"0\" y=\"0px\"><defs /><text text-anchor=\"middle\" x=\"50%\" y=\"16px\">and</text></svg><svg width=\"100%\" x=\"0%\" y=\"48px\"><defs /><svg width=\"100%\" x=\"0\" y=\"0px\"><defs /><text text-anchor=\"middle\" x=\"50%\" y=\"16px\">CC</text></svg></svg><line stroke=\"black\" x1=\"50%\" x2=\"50%\" y1=\"19.2px\" y2=\"48px\" /></svg><line stroke=\"black\" x1=\"50%\" x2=\"51.5823%\" y1=\"19.2px\" y2=\"48px\" /><svg width=\"3.16456%\" x=\"53.1646%\" y=\"48px\"><defs /><svg width=\"100%\" x=\"0\" y=\"0px\"><defs /><text text-anchor=\"middle\" x=\"50%\" y=\"16px\">say</text></svg><svg width=\"100%\" x=\"0%\" y=\"48px\"><defs /><svg width=\"100%\" x=\"0\" y=\"0px\"><defs /><text text-anchor=\"middle\" x=\"50%\" y=\"16px\">VB</text></svg></svg><line stroke=\"black\" x1=\"50%\" x2=\"50%\" y1=\"19.2px\" y2=\"48px\" /></svg><line stroke=\"black\" x1=\"50%\" x2=\"54.7468%\" y1=\"19.2px\" y2=\"48px\" /><svg width=\"2.53165%\" x=\"56.3291%\" y=\"48px\"><defs /><svg width=\"100%\" x=\"0\" y=\"0px\"><defs /><text text-anchor=\"middle\" x=\"50%\" y=\"16px\">if</text></svg><svg width=\"100%\" x=\"0%\" y=\"48px\"><defs /><svg width=\"100%\" x=\"0\" y=\"0px\"><defs /><text text-anchor=\"middle\" x=\"50%\" y=\"16px\">IN</text></svg></svg><line stroke=\"black\" x1=\"50%\" x2=\"50%\" y1=\"19.2px\" y2=\"48px\" /></svg><line stroke=\"black\" x1=\"50%\" x2=\"57.5949%\" y1=\"19.2px\" y2=\"48px\" /><svg width=\"5.6962%\" x=\"58.8608%\" y=\"48px\"><defs /><svg width=\"100%\" x=\"0\" y=\"0px\"><defs /><text text-anchor=\"middle\" x=\"50%\" y=\"16px\">anybody</text></svg><svg width=\"100%\" x=\"0%\" y=\"48px\"><defs /><svg width=\"100%\" x=\"0\" y=\"0px\"><defs /><text text-anchor=\"middle\" x=\"50%\" y=\"16px\">NN</text></svg></svg><line stroke=\"black\" x1=\"50%\" x2=\"50%\" y1=\"19.2px\" y2=\"48px\" /></svg><line stroke=\"black\" x1=\"50%\" x2=\"61.7089%\" y1=\"19.2px\" y2=\"48px\" /><svg width=\"3.16456%\" x=\"64.557%\" y=\"48px\"><defs /><svg width=\"100%\" x=\"0\" y=\"0px\"><defs /><text text-anchor=\"middle\" x=\"50%\" y=\"16px\">can</text></svg><svg width=\"100%\" x=\"0%\" y=\"48px\"><defs /><svg width=\"100%\" x=\"0\" y=\"0px\"><defs /><text text-anchor=\"middle\" x=\"50%\" y=\"16px\">MD</text></svg></svg><line stroke=\"black\" x1=\"50%\" x2=\"50%\" y1=\"19.2px\" y2=\"48px\" /></svg><line stroke=\"black\" x1=\"50%\" x2=\"66.1392%\" y1=\"19.2px\" y2=\"48px\" /><svg width=\"3.79747%\" x=\"67.7215%\" y=\"48px\"><defs /><svg width=\"100%\" x=\"0\" y=\"0px\"><defs /><text text-anchor=\"middle\" x=\"50%\" y=\"16px\">hear</text></svg><svg width=\"100%\" x=\"0%\" y=\"48px\"><defs /><svg width=\"100%\" x=\"0\" y=\"0px\"><defs /><text text-anchor=\"middle\" x=\"50%\" y=\"16px\">VB</text></svg></svg><line stroke=\"black\" x1=\"50%\" x2=\"50%\" y1=\"19.2px\" y2=\"48px\" /></svg><line stroke=\"black\" x1=\"50%\" x2=\"69.6203%\" y1=\"19.2px\" y2=\"48px\" /><svg width=\"3.16456%\" x=\"71.519%\" y=\"48px\"><defs /><svg width=\"100%\" x=\"0\" y=\"0px\"><defs /><text text-anchor=\"middle\" x=\"50%\" y=\"16px\">me</text></svg><svg width=\"100%\" x=\"0%\" y=\"48px\"><defs /><svg width=\"100%\" x=\"0\" y=\"0px\"><defs /><text text-anchor=\"middle\" x=\"50%\" y=\"16px\">PRP</text></svg></svg><line stroke=\"black\" x1=\"50%\" x2=\"50%\" y1=\"19.2px\" y2=\"48px\" /></svg><line stroke=\"black\" x1=\"50%\" x2=\"73.1013%\" y1=\"19.2px\" y2=\"48px\" /><svg width=\"2.53165%\" x=\"74.6835%\" y=\"48px\"><defs /><svg width=\"100%\" x=\"0\" y=\"0px\"><defs /><text text-anchor=\"middle\" x=\"50%\" y=\"16px\">i</text></svg><svg width=\"100%\" x=\"0%\" y=\"48px\"><defs /><svg width=\"100%\" x=\"0\" y=\"0px\"><defs /><text text-anchor=\"middle\" x=\"50%\" y=\"16px\">JJ</text></svg></svg><line stroke=\"black\" x1=\"50%\" x2=\"50%\" y1=\"19.2px\" y2=\"48px\" /></svg><line stroke=\"black\" x1=\"50%\" x2=\"75.9494%\" y1=\"19.2px\" y2=\"48px\" /><svg width=\"3.79747%\" x=\"77.2152%\" y=\"48px\"><defs /><svg width=\"100%\" x=\"0\" y=\"0px\"><defs /><text text-anchor=\"middle\" x=\"50%\" y=\"16px\">want</text></svg><svg width=\"100%\" x=\"0%\" y=\"48px\"><defs /><svg width=\"100%\" x=\"0\" y=\"0px\"><defs /><text text-anchor=\"middle\" x=\"50%\" y=\"16px\">VBP</text></svg></svg><line stroke=\"black\" x1=\"50%\" x2=\"50%\" y1=\"19.2px\" y2=\"48px\" /></svg><line stroke=\"black\" x1=\"50%\" x2=\"79.1139%\" y1=\"19.2px\" y2=\"48px\" /><svg width=\"3.16456%\" x=\"81.0127%\" y=\"48px\"><defs /><svg width=\"100%\" x=\"0\" y=\"0px\"><defs /><text text-anchor=\"middle\" x=\"50%\" y=\"16px\">you</text></svg><svg width=\"100%\" x=\"0%\" y=\"48px\"><defs /><svg width=\"100%\" x=\"0\" y=\"0px\"><defs /><text text-anchor=\"middle\" x=\"50%\" y=\"16px\">PRP</text></svg></svg><line stroke=\"black\" x1=\"50%\" x2=\"50%\" y1=\"19.2px\" y2=\"48px\" /></svg><line stroke=\"black\" x1=\"50%\" x2=\"82.5949%\" y1=\"19.2px\" y2=\"48px\" /><svg width=\"2.53165%\" x=\"84.1772%\" y=\"48px\"><defs /><svg width=\"100%\" x=\"0\" y=\"0px\"><defs /><text text-anchor=\"middle\" x=\"50%\" y=\"16px\">to</text></svg><svg width=\"100%\" x=\"0%\" y=\"48px\"><defs /><svg width=\"100%\" x=\"0\" y=\"0px\"><defs /><text text-anchor=\"middle\" x=\"50%\" y=\"16px\">TO</text></svg></svg><line stroke=\"black\" x1=\"50%\" x2=\"50%\" y1=\"19.2px\" y2=\"48px\" /></svg><line stroke=\"black\" x1=\"50%\" x2=\"85.443%\" y1=\"19.2px\" y2=\"48px\" /><svg width=\"3.16456%\" x=\"86.7089%\" y=\"48px\"><defs /><svg width=\"100%\" x=\"0\" y=\"0px\"><defs /><text text-anchor=\"middle\" x=\"50%\" y=\"16px\">wlk</text></svg><svg width=\"100%\" x=\"0%\" y=\"48px\"><defs /><svg width=\"100%\" x=\"0\" y=\"0px\"><defs /><text text-anchor=\"middle\" x=\"50%\" y=\"16px\">VB</text></svg></svg><line stroke=\"black\" x1=\"50%\" x2=\"50%\" y1=\"19.2px\" y2=\"48px\" /></svg><line stroke=\"black\" x1=\"50%\" x2=\"88.2911%\" y1=\"19.2px\" y2=\"48px\" /><svg width=\"3.79747%\" x=\"89.8734%\" y=\"48px\"><defs /><svg width=\"100%\" x=\"0\" y=\"0px\"><defs /><text text-anchor=\"middle\" x=\"50%\" y=\"16px\">over</text></svg><svg width=\"100%\" x=\"0%\" y=\"48px\"><defs /><svg width=\"100%\" x=\"0\" y=\"0px\"><defs /><text text-anchor=\"middle\" x=\"50%\" y=\"16px\">IN</text></svg></svg><line stroke=\"black\" x1=\"50%\" x2=\"50%\" y1=\"19.2px\" y2=\"48px\" /></svg><line stroke=\"black\" x1=\"50%\" x2=\"91.7722%\" y1=\"19.2px\" y2=\"48px\" /><svg width=\"3.79747%\" x=\"93.6709%\" y=\"48px\"><defs /><svg width=\"100%\" x=\"0\" y=\"0px\"><defs /><text text-anchor=\"middle\" x=\"50%\" y=\"16px\">here</text></svg><svg width=\"100%\" x=\"0%\" y=\"48px\"><defs /><svg width=\"100%\" x=\"0\" y=\"0px\"><defs /><text text-anchor=\"middle\" x=\"50%\" y=\"16px\">RB</text></svg></svg><line stroke=\"black\" x1=\"50%\" x2=\"50%\" y1=\"19.2px\" y2=\"48px\" /></svg><line stroke=\"black\" x1=\"50%\" x2=\"95.5696%\" y1=\"19.2px\" y2=\"48px\" /><svg width=\"2.53165%\" x=\"97.4684%\" y=\"48px\"><defs /><svg width=\"100%\" x=\"0\" y=\"0px\"><defs /><text text-anchor=\"middle\" x=\"50%\" y=\"16px\">ok</text></svg><svg width=\"100%\" x=\"0%\" y=\"48px\"><defs /><svg width=\"100%\" x=\"0\" y=\"0px\"><defs /><text text-anchor=\"middle\" x=\"50%\" y=\"16px\">JJ</text></svg></svg><line stroke=\"black\" x1=\"50%\" x2=\"50%\" y1=\"19.2px\" y2=\"48px\" /></svg><line stroke=\"black\" x1=\"50%\" x2=\"98.7342%\" y1=\"19.2px\" y2=\"48px\" /></svg>"
      ],
      "text/plain": [
       "Tree('S', [('so', 'RB'), ('you', 'PRP'), ('know', 'VBP'), ('i', 'RB'), ('would', 'MD'), ('walk', 'VB'), ('in', 'IN'), ('see', 'NN'), ('those', 'DT'), ('four', 'CD'), ('patients', 'NNS'), ('i', 'NN'), ('would', 'MD'), ('go', 'VB'), ('and', 'CC'), ('say', 'VB'), ('if', 'IN'), ('anybody', 'NN'), ('can', 'MD'), ('hear', 'VB'), ('me', 'PRP'), ('i', 'JJ'), ('want', 'VBP'), ('you', 'PRP'), ('to', 'TO'), ('wlk', 'VB'), ('over', 'IN'), ('here', 'RB'), ('ok', 'JJ')])"
      ]
     },
     "execution_count": 51,
     "metadata": {},
     "output_type": "execute_result"
    }
   ],
   "source": [
    "\n",
    "# ne = named entity\n",
    "from nltk.chunk import ne_chunk\n",
    "\n",
    "result = ne_chunk(tags)\n",
    "result"
   ]
  },
  {
   "cell_type": "markdown",
   "metadata": {},
   "source": [
    "\n",
    "Note `ne_chunk` was unable to detect any entities in our sentence. That is because it is quite limited, being able to recognize only the following entities: \n",
    "> FACILITY, GPE (Geo-Political Entity), GSP (Geo-Socio-Political group), LOCATION, ORGANIZATION, PERSON "
   ]
  },
  {
   "cell_type": "code",
   "execution_count": 52,
   "metadata": {},
   "outputs": [
    {
     "name": "stdout",
     "output_type": "stream",
     "text": [
      "(S\n",
      "  so/RB\n",
      "  you/PRP\n",
      "  know/VBP\n",
      "  i/RB\n",
      "  would/MD\n",
      "  walk/VB\n",
      "  in/IN\n",
      "  see/NN\n",
      "  those/DT\n",
      "  four/CD\n",
      "  patients/NNS\n",
      "  i/NN\n",
      "  would/MD\n",
      "  go/VB\n",
      "  and/CC\n",
      "  say/VB\n",
      "  if/IN\n",
      "  anybody/NN\n",
      "  can/MD\n",
      "  hear/VB\n",
      "  me/PRP\n",
      "  i/JJ\n",
      "  want/VBP\n",
      "  you/PRP\n",
      "  to/TO\n",
      "  wlk/VB\n",
      "  over/IN\n",
      "  here/RB\n",
      "  ok/JJ)\n"
     ]
    }
   ],
   "source": [
    "\n",
    "result.pprint()"
   ]
  },
  {
   "cell_type": "code",
   "execution_count": 53,
   "metadata": {},
   "outputs": [
    {
     "name": "stdout",
     "output_type": "stream",
     "text": [
      "VBP: verb, present tense, not 3rd person singular\n",
      "    predominate wrap resort sue twist spill cure lengthen brush terminate\n",
      "    appear tend stray glisten obtain comprise detest tease attract\n",
      "    emphasize mold postpone sever return wag ...\n"
     ]
    }
   ],
   "source": [
    "\n",
    "nltk.help.upenn_tagset('VBP')"
   ]
  },
  {
   "cell_type": "markdown",
   "metadata": {},
   "source": [
    "# Sentiment Analysis"
   ]
  },
  {
   "cell_type": "markdown",
   "metadata": {},
   "source": [
    "Based on *Exercise B: Sentiment Analysis* in [Natural Language Processing with Python/NLTK by Luciano M. Guasco](https://github.com/luchux/ipython-notebook-nltk/blob/master/NLP%20-%20MelbDjango.ipynb)"
   ]
  },
  {
   "cell_type": "markdown",
   "metadata": {},
   "source": [
    "## 1. Exploring the `movie_reviews` corpus"
   ]
  },
  {
   "cell_type": "code",
   "execution_count": 54,
   "metadata": {},
   "outputs": [
    {
     "data": {
      "text/plain": [
       "'Sentiment Polarity Dataset Version 2.0 Bo Pang and Lillian Lee  http://www.cs.cornell.edu/people/pabo/movie-review-data/  Distributed with NLTK with permission from the authors.  =======  Introduction  This README v2.0 (June, 2004) for the v2.0 polarity dataset comes from the URL http://www.cs.cornell.edu/people/pabo/movie-review-data .  =======  What\\'s New -- June, 2004  This dataset represents an enhancement of the review corpus v1.0 described in README v1.1: it contains more reviews, and labels were created with an improved rating-extraction system.  =======  Citation Info   This data was first used in Bo Pang and Lillian Lee, \"A Sentimental Education: Sentiment Analysis Using Subjectivity Summarization  Based on Minimum Cuts\",  Proceedings of the ACL, 2004.  @InProceedings{Pang+Lee:04a,   author =       {Bo Pang and Lillian Lee},   title =        {A Sentimental Education: Sentiment Analysis Using Subjectivity Summarization Based on Minimum Cuts},   booktitle =    \"Proceedings of the ACL\",   year =         2004 }  =======  Data Format Summary   - review_polarity.tar.gz: contains this readme and  data used in   the experiments described in Pang/Lee ACL 2004.    Specifically:    Within the folder \"txt_sentoken\" are the 2000 processed down-cased   text files used in Pang/Lee ACL 2004; the names of the two   subdirectories in that folder, \"pos\" and \"neg\", indicate the true   classification (sentiment) of the component files according to our   automatic rating classifier (see section \"Rating Decision\" below).    File names consist of a cross-validation tag plus the name of the   original html file.  The ten folds used in the Pang/Lee ACL 2004 paper\\'s   experiments were:       fold 1: files tagged cv000 through cv099, in numerical order      fold 2: files tagged cv100 through cv199, in numerical order           ...      fold 10: files tagged cv900 through cv999, in numerical order    Hence, the file neg/cv114_19501.txt, for example, was labeled as   negative, served as a member of fold 2, and was extracted from the   file 19501.html in polarity_html.zip (see below).    Each line in each text file corresponds to a single sentence, as   determined by Adwait Ratnaparkhi\\'s sentence boundary detector   MXTERMINATOR.     Preliminary steps were taken to remove rating information from the   text files, but only the rating information upon which the rating   decision was based is guaranteed to have been removed. Thus, if the   original review contains several instances of rating information,   potentially given in different forms, those not recognized as valid   ratings remain part of the review text.  - polarity_html.zip: The original source files from which the   processed, labeled, and (randomly) selected data in   review_polarity.tar.gz was derived.    Specifically:      This data consists of unprocessed, unlabeled html files from the   IMDb archive of the rec.arts.movies.reviews newsgroup,   http://reviews.imdb.com/Reviews. The files in review_polarity.tar.gz   represent a processed subset of these files.   =======  Rating Decision (Appendix A)  This section describes how we determined whether a review was positive or negative.  The original html files do not have consistent formats -- a review may not have the author\\'s rating with it, and when it does, the rating can appear at different places in the file in different forms.  We only recognize some of the more explicit ratings, which are extracted via a set of ad-hoc rules.  In essence, a file\\'s classification is determined based on the first rating we were able to identify.   - In order to obtain more accurate rating decisions, the maximum rating must be specified explicitly, both for numerical ratings and star ratings.  (\"8/10\", \"four out of five\", and \"OUT OF ****: ***\" are examples of rating indications we recognize.)  - With a five-star system (or compatible number systems): three-and-a-half stars and up are considered positive,  two stars and below are considered negative. - With a four-star system (or compatible number system): three stars and up are considered positive,  one-and-a-half stars and below are considered negative.   - With a letter grade system: B or above is considered positive, C- or below is considered negative.  We attempted to recognize half stars, but they are specified in an especially free way, which makes them difficult to recognize.  Hence, we may lose a half star very occasionally; but this only results in 2.5 stars in five star system being categorized as negative, which is  still reasonable.   '"
      ]
     },
     "execution_count": 54,
     "metadata": {},
     "output_type": "execute_result"
    }
   ],
   "source": [
    "\n",
    "# These are movie reviews already separated as positive and negative\n",
    "from nltk.corpus import movie_reviews\n",
    "\n",
    "movie_reviews.readme().replace('\\n', ' ').replace('\\t', '').replace('``', '\"').replace(\"''\", '\"').replace('`', \"'\")"
   ]
  },
  {
   "cell_type": "code",
   "execution_count": 55,
   "metadata": {},
   "outputs": [
    {
     "data": {
      "text/plain": [
       "['neg/cv305_9937.txt', 'neg/cv434_5641.txt', 'pos/cv289_6463.txt', 'pos/cv347_13194.txt', 'neg/cv112_12178.txt', 'neg/cv896_17819.txt', 'neg/cv711_12687.txt', 'pos/cv720_5389.txt', 'pos/cv851_20469.txt', 'pos/cv213_18934.txt']"
      ]
     },
     "execution_count": 55,
     "metadata": {},
     "output_type": "execute_result"
    }
   ],
   "source": [
    "\n",
    "random.sample(movie_reviews.fileids(), 10)"
   ]
  },
  {
   "cell_type": "code",
   "execution_count": 56,
   "metadata": {},
   "outputs": [
    {
     "data": {
      "text/plain": [
       "2000"
      ]
     },
     "execution_count": 56,
     "metadata": {},
     "output_type": "execute_result"
    }
   ],
   "source": [
    "\n",
    "len(movie_reviews.fileids())"
   ]
  },
  {
   "cell_type": "code",
   "execution_count": 57,
   "metadata": {},
   "outputs": [
    {
     "data": {
      "text/plain": [
       "\"plot : two teen couples go to a church party , drink and then drive . they get into an accident . one of the guys dies , but his girlfriend continues to see him in her life , and has nightmares . what's the deal ? watch the movie and ' sorta ' find out . . . critique : a mind-fuck movie for the teen generation that touches on a very cool idea , but presents it in a very bad package . which is what makes this review an even harder one to write , since i generally applaud films which attempt to break the mold , mess with your head and such ( lost highway & memento ) , but there are good and bad ways of making all types of films , and these folks just didn't snag this one correctly . they seem to have taken this pretty neat concept , but executed it terribly . so what are the problems with the movie ? well , its main problem is that it's simply too jumbled . it starts off ' normal ' but then downshifts into this ' fantasy ' world in which you , as an audience member , have no idea what's going on . there are dreams , there are characters coming back from the dead , there are others who look like the dead , there are strange apparitions , there are disappearances , there are a looooot of chase scenes , there are tons of weird things that happen , and most of it is simply not explained . now i personally don't mind trying to unravel a film every now and then , but when all it does is give me the same clue over and over again , i get kind of fed up after a while , which is this film's biggest problem . it's obviously got this big secret to hide , but it seems to want to hide it completely until its final five minutes . and do they make things entertaining , thrilling or even engaging , in the meantime ? not really . the sad part is that the arrow and i both dig on flicks like this , so we actually figured most of it out by the half-way point , so all of the strangeness after that did start to make a little bit of sense , but it still didn't the make the film all that more entertaining . i guess the bottom line with movies like this is that you should always make sure that the audience is ' into it ' even before they are given the secret password to enter your world of understanding . i mean , showing melissa sagemiller running away from visions for about 20 minutes throughout the movie is just plain lazy ! ! okay , we get it . . . there are people chasing her and we don't know who they are . do we really need to see it over and over again ? how about giving us different scenes offering further insight into all of the strangeness going down in the movie ? apparently , the studio took this film away from its director and chopped it up themselves , and it shows . there might've been a pretty decent teen mind-fuck movie in here somewhere , but i guess ' the suits ' decided that turning it into a music video with little edge , would make more sense . the actors are pretty good for the most part , although wes bentley just seemed to be playing the exact same character that he did in american beauty , only in a new neighborhood . but my biggest kudos go out to sagemiller , who holds her own throughout the entire film , and actually has you feeling her character's unraveling . overall , the film doesn't stick because it doesn't entertain , it's confusing , it rarely excites and it feels pretty redundant for most of its runtime , despite a pretty cool ending and explanation to all of the craziness that came before it . oh , and by the way , this is not a horror or teen slasher flick . . . it's just packaged to look that way because someone is apparently assuming that the genre is still hot with the kids . it also wrapped production two years ago and has been sitting on the shelves ever since . whatever . . . skip it ! where's joblo coming from ? a nightmare of elm street 3 ( 7/10 ) - blair witch 2 ( 7/10 ) - the crow ( 9/10 ) - the crow : salvation ( 4/10 ) - lost highway ( 10/10 ) - memento ( 10/10 ) - the others ( 9/10 ) - stir of echoes ( 8/10 ) \""
      ]
     },
     "execution_count": 57,
     "metadata": {},
     "output_type": "execute_result"
    }
   ],
   "source": [
    "\n",
    "# Note here I found a trick to get rid of \\' in text. However it only works if there were no \" used\n",
    "movie_reviews.raw(\"neg/cv000_29416.txt\").replace(\"\\n\", \"\").replace(\"'\", '\"').replace('\"', \"'\")"
   ]
  },
  {
   "cell_type": "markdown",
   "metadata": {},
   "source": [
    "## 2. Building and testing the classifier"
   ]
  },
  {
   "cell_type": "code",
   "execution_count": 58,
   "metadata": {},
   "outputs": [
    {
     "data": {
      "text/plain": [
       "['i', 'me', 'my', 'myself', 'we', 'our', 'ours', 'ourselves', 'you', \"you're\", \"you've\", \"you'll\", \"you'd\", 'your', 'yours', 'yourself', 'yourselves', 'he', 'him', 'his', 'himself', 'she', \"she's\", 'her', 'hers', 'herself', 'it', \"it's\", 'its', 'itself', 'they', 'them', 'their', 'theirs', 'themselves', 'what', 'which', 'who', 'whom', 'this', 'that', \"that'll\", 'these', 'those', 'am', 'is', 'are', 'was', 'were', 'be', 'been', 'being', 'have', 'has', 'had', 'having', 'do', 'does', 'did', 'doing', 'a', 'an', 'the', 'and', 'but', 'if', 'or', 'because', 'as', 'until', 'while', 'of', 'at', 'by', 'for', 'with', 'about', 'against', 'between', 'into', 'through', 'during', 'before', 'after', 'above', 'below', 'to', 'from', 'up', 'down', 'in', 'out', 'on', 'off', 'over', 'under', 'again', 'further', 'then', 'once', 'here', 'there', 'when', 'where', 'why', 'how', 'all', 'any', 'both', 'each', 'few', 'more', 'most', 'other', 'some', 'such', 'no', 'nor', 'not', 'only', 'own', 'same', 'so', 'than', 'too', 'very', 's', 't', 'can', 'will', 'just', 'don', \"don't\", 'should', \"should've\", 'now', 'd', 'll', 'm', 'o', 're', 've', 'y', 'ain', 'aren', \"aren't\", 'couldn', \"couldn't\", 'didn', \"didn't\", 'doesn', \"doesn't\", 'hadn', \"hadn't\", 'hasn', \"hasn't\", 'haven', \"haven't\", 'isn', \"isn't\", 'ma', 'mightn', \"mightn't\", 'mustn', \"mustn't\", 'needn', \"needn't\", 'shan', \"shan't\", 'shouldn', \"shouldn't\", 'wasn', \"wasn't\", 'weren', \"weren't\", 'won', \"won't\", 'wouldn', \"wouldn't\", '.', '[', ']', '(', ')', ';', '/', '-', \"'\", '?', '\"', ':', '<', '>', \"n't\", '|', '#', \"'s\", '\"', \"'re\", \"'ve\", \"'ll\", \"'d\", \"'re\", ',']"
      ]
     },
     "execution_count": 58,
     "metadata": {},
     "output_type": "execute_result"
    }
   ],
   "source": [
    "\n",
    "from nltk.corpus import stopwords\n",
    "\n",
    "stops = stopwords.words('english')\n",
    "stops.extend('.,[,],(,),;,/,-,\\',?,\",:,<,>,n\\'t,|,#,\\'s,\\\",\\'re,\\'ve,\\'ll,\\'d,\\'re'.split(','))\n",
    "stops.extend(',')\n",
    "stops"
   ]
  },
  {
   "cell_type": "code",
   "execution_count": 59,
   "metadata": {},
   "outputs": [
    {
     "data": {
      "text/plain": [
       "2000"
      ]
     },
     "execution_count": 59,
     "metadata": {},
     "output_type": "execute_result"
    }
   ],
   "source": [
    "\n",
    "# Utility functions and classes for classifiers. Contains functions such as accuracy(classifier, gold)\n",
    "from nltk.classify import NaiveBayesClassifier\n",
    "import nltk.classify.util\n",
    "\n",
    "# Given a word, returns a dict {word: True}. This will be our feature in the classifier. \n",
    "def word_feats(words):\n",
    "    return dict([(word, True) for word in words if word not in stops and word.isalpha()])\n",
    "\n",
    "pos_ids = movie_reviews.fileids('pos')\n",
    "neg_ids = movie_reviews.fileids('neg')\n",
    "\n",
    "len(pos_ids) + len(neg_ids) "
   ]
  },
  {
   "cell_type": "code",
   "execution_count": 60,
   "metadata": {},
   "outputs": [
    {
     "data": {
      "text/plain": [
       "{'comparison': True, 'brothers': True, 'peaks': True, 'crimes': True, 'book': True}"
      ]
     },
     "execution_count": 60,
     "metadata": {},
     "output_type": "execute_result"
    }
   ],
   "source": [
    "\n",
    "# We take the positive/negative words, create the feature for such words,\n",
    "# and store it in a positive/negative features list\n",
    "pos_feats = [(word_feats(movie_reviews.words(fileids=[f])), 'pos') for f in pos_ids]\n",
    "neg_feats = [(word_feats(movie_reviews.words(fileids=[f])), 'neg') for f in neg_ids]\n",
    "\n",
    "nu.get_random_subdictionary(pos_feats[0][0])"
   ]
  },
  {
   "cell_type": "code",
   "execution_count": 61,
   "metadata": {},
   "outputs": [
    {
     "data": {
      "text/plain": [
       "750"
      ]
     },
     "execution_count": 61,
     "metadata": {},
     "output_type": "execute_result"
    }
   ],
   "source": [
    "\n",
    "# 3/4 of the features will be used for training.\n",
    "pos_len_train = int(len(pos_feats) * 3 / 4)\n",
    "neg_len_train = int(len(neg_feats) * 3 / 4)\n",
    "\n",
    "pos_len_train"
   ]
  },
  {
   "cell_type": "code",
   "execution_count": 62,
   "metadata": {},
   "outputs": [
    {
     "name": "stdout",
     "output_type": "stream",
     "text": [
      "Accuracy:  0.712\n"
     ]
    }
   ],
   "source": [
    "\n",
    "train_feats = neg_feats[:neg_len_train] + pos_feats[:pos_len_train]\n",
    "test_feats = neg_feats[neg_len_train:] + pos_feats[pos_len_train:]\n",
    "\n",
    "# Training a NaiveBayesClassifier with our training feature words.\n",
    "classifier = NaiveBayesClassifier.train(train_feats)\n",
    "\n",
    "print('Accuracy: ', nltk.classify.util.accuracy(classifier, test_feats))"
   ]
  },
  {
   "cell_type": "code",
   "execution_count": 63,
   "metadata": {},
   "outputs": [
    {
     "name": "stdout",
     "output_type": "stream",
     "text": [
      "Most Informative Features\n",
      "             magnificent = True              pos : neg    =     15.0 : 1.0\n",
      "             outstanding = True              pos : neg    =     13.6 : 1.0\n",
      "               insulting = True              neg : pos    =     13.0 : 1.0\n",
      "              vulnerable = True              pos : neg    =     12.3 : 1.0\n",
      "               ludicrous = True              neg : pos    =     11.8 : 1.0\n",
      "                  avoids = True              pos : neg    =     11.7 : 1.0\n",
      "             uninvolving = True              neg : pos    =     11.7 : 1.0\n",
      "              astounding = True              pos : neg    =     10.3 : 1.0\n",
      "             fascination = True              pos : neg    =     10.3 : 1.0\n",
      "                 idiotic = True              neg : pos    =      9.8 : 1.0\n"
     ]
    }
   ],
   "source": [
    "\n",
    "# We can see which words fit best in each class\n",
    "classifier.show_most_informative_features()"
   ]
  },
  {
   "cell_type": "markdown",
   "metadata": {},
   "source": [
    "## 3. Classifying new data"
   ]
  },
  {
   "cell_type": "code",
   "execution_count": 64,
   "metadata": {},
   "outputs": [],
   "source": [
    "\n",
    "from nltk import word_tokenize, pos_tag\n",
    "\n",
    "def get_sentiment(sentence, verbose=True):\n",
    "    if verbose: print(sentence)\n",
    "    tokens = [word for word in word_tokenize(sentence) if word not in stops]\n",
    "    if verbose: print(tokens)\n",
    "    feats = word_feats(word for word in tokens)\n",
    "    if verbose: print(feats)\n",
    "    \n",
    "    return classifier.classify(feats)"
   ]
  },
  {
   "cell_type": "code",
   "execution_count": 65,
   "metadata": {},
   "outputs": [
    {
     "name": "stdout",
     "output_type": "stream",
     "text": [
      "alright if you guys can hear my voice please walk over here to my voice if anybody sir if you can move please walk over here to my voice yeah please come over here and please stand over here by the stairs while until i can come back and take a look at you guys thank you yep everything's OK yep OK if anybody else can you raise your arm move your razor move your arm around if you can hear my voice so i can come see you\n",
      "['alright', 'guys', 'hear', 'voice', 'please', 'walk', 'voice', 'anybody', 'sir', 'move', 'please', 'walk', 'voice', 'yeah', 'please', 'come', 'please', 'stand', 'stairs', 'come', 'back', 'take', 'look', 'guys', 'thank', 'yep', 'everything', 'OK', 'yep', 'OK', 'anybody', 'else', 'raise', 'arm', 'move', 'razor', 'move', 'arm', 'around', 'hear', 'voice', 'come', 'see']\n",
      "{'alright': True, 'guys': True, 'hear': True, 'voice': True, 'please': True, 'walk': True, 'anybody': True, 'sir': True, 'move': True, 'yeah': True, 'come': True, 'stand': True, 'stairs': True, 'back': True, 'take': True, 'look': True, 'thank': True, 'yep': True, 'everything': True, 'OK': True, 'else': True, 'raise': True, 'arm': True, 'razor': True, 'around': True, 'see': True}\n"
     ]
    },
    {
     "data": {
      "text/plain": [
       "'neg'"
      ]
     },
     "execution_count": 65,
     "metadata": {},
     "output_type": "execute_result"
    }
   ],
   "source": [
    "\n",
    "# sentence = \"I feel so miserable, it makes me amazing\"\n",
    "sentence = sorted(df.voice_capture_message.tolist(), key=lambda x: len(x))[-1]\n",
    "get_sentiment(sentence, verbose=True)"
   ]
  },
  {
   "cell_type": "code",
   "execution_count": 66,
   "metadata": {},
   "outputs": [
    {
     "name": "stdout",
     "output_type": "stream",
     "text": [
      "if you're going and you're walking to an unconscious patient and you see somebody that has their leg amputated and they're bleeding out you're gonna stop and put a tourniquet on them and say hey i'll be right back and then you're gonna go and continue on to that unconscious patient but in the program it's more black and white than that so don't don't worry about like having to jump over to another\n",
      "['going', 'walking', 'unconscious', 'patient', 'see', 'somebody', 'leg', 'amputated', 'bleeding', 'gon', 'na', 'stop', 'put', 'tourniquet', 'say', 'hey', 'right', 'back', 'gon', 'na', 'go', 'continue', 'unconscious', 'patient', 'program', 'black', 'white', 'worry', 'like', 'jump', 'another']\n",
      "{'going': True, 'walking': True, 'unconscious': True, 'patient': True, 'see': True, 'somebody': True, 'leg': True, 'amputated': True, 'bleeding': True, 'gon': True, 'na': True, 'stop': True, 'put': True, 'tourniquet': True, 'say': True, 'hey': True, 'right': True, 'back': True, 'go': True, 'continue': True, 'program': True, 'black': True, 'white': True, 'worry': True, 'like': True, 'jump': True, 'another': True}\n"
     ]
    },
    {
     "data": {
      "text/plain": [
       "'pos'"
      ]
     },
     "execution_count": 66,
     "metadata": {},
     "output_type": "execute_result"
    }
   ],
   "source": [
    "\n",
    "sentence = sorted(df.voice_capture_message.tolist(), key=lambda x: len(x))[-2]\n",
    "get_sentiment(sentence, verbose=True)"
   ]
  },
  {
   "cell_type": "markdown",
   "metadata": {},
   "source": [
    "## 4. Incorporating bigram features"
   ]
  },
  {
   "cell_type": "markdown",
   "metadata": {},
   "source": [
    "In order to improve the classifier, bigram features can be examined using `nltk.util.ngrams`. This is because, for instance, 'not funny' is very different from 'funny'."
   ]
  },
  {
   "cell_type": "markdown",
   "metadata": {},
   "source": [
    "# Sentiment Analysis with `nltk.sentiment.SentimentAnalyzer` and VADER tools"
   ]
  },
  {
   "cell_type": "markdown",
   "metadata": {},
   "source": [
    "## 1. Exploring the `subjectivity` corpus"
   ]
  },
  {
   "cell_type": "code",
   "execution_count": 67,
   "metadata": {},
   "outputs": [
    {
     "data": {
      "text/plain": [
       "['plot.tok.gt9.5000', 'quote.tok.gt9.5000']"
      ]
     },
     "execution_count": 67,
     "metadata": {},
     "output_type": "execute_result"
    }
   ],
   "source": [
    "\n",
    "from nltk.corpus import subjectivity\n",
    "\n",
    "subjectivity.fileids()"
   ]
  },
  {
   "cell_type": "code",
   "execution_count": 68,
   "metadata": {},
   "outputs": [
    {
     "data": {
      "text/plain": [
       "[['the', 'movie', 'begins', 'in', 'the', 'past', 'where', 'a', 'young', 'boy', 'named', 'sam', 'attempts', 'to', 'save', 'celebi', 'from', 'a', 'hunter', '.'], ['emerging', 'from', 'the', 'human', 'psyche', 'and', 'showing', 'characteristics', 'of', 'abstract', 'expressionism', ',', 'minimalism', 'and', 'russian', 'constructivism', ',', 'graffiti', 'removal', 'has', 'secured', 'its', 'place', 'in', 'the', 'history', 'of', 'modern', 'art', 'while', 'being', 'created', 'by', 'artists', 'who', 'are', 'unconscious', 'of', 'their', 'artistic', 'achievements', '.'], ...]"
      ]
     },
     "execution_count": 68,
     "metadata": {},
     "output_type": "execute_result"
    }
   ],
   "source": [
    "\n",
    "subjectivity.sents('plot.tok.gt9.5000')"
   ]
  },
  {
   "cell_type": "code",
   "execution_count": 69,
   "metadata": {},
   "outputs": [
    {
     "data": {
      "text/plain": [
       "[['smart', 'and', 'alert', ',', 'thirteen', 'conversations', 'about', 'one', 'thing', 'is', 'a', 'small', 'gem', '.'], ['color', ',', 'musical', 'bounce', 'and', 'warm', 'seas', 'lapping', 'on', 'island', 'shores', '.', 'and', 'just', 'enough', 'science', 'to', 'send', 'you', 'home', 'thinking', '.'], ...]"
      ]
     },
     "execution_count": 69,
     "metadata": {},
     "output_type": "execute_result"
    }
   ],
   "source": [
    "\n",
    "subjectivity.sents('quote.tok.gt9.5000')"
   ]
  },
  {
   "cell_type": "code",
   "execution_count": 70,
   "metadata": {},
   "outputs": [
    {
     "data": {
      "text/plain": [
       "['obj', 'subj']"
      ]
     },
     "execution_count": 70,
     "metadata": {},
     "output_type": "execute_result"
    }
   ],
   "source": [
    "\n",
    "# The mapping between documents and categories does not depend on the file structure\n",
    "subjectivity.categories()"
   ]
  },
  {
   "cell_type": "code",
   "execution_count": 71,
   "metadata": {},
   "outputs": [
    {
     "data": {
      "text/plain": [
       "[['the', 'movie', 'begins', 'in', 'the', 'past', 'where', 'a', 'young', 'boy', 'named', 'sam', 'attempts', 'to', 'save', 'celebi', 'from', 'a', 'hunter', '.'], ['emerging', 'from', 'the', 'human', 'psyche', 'and', 'showing', 'characteristics', 'of', 'abstract', 'expressionism', ',', 'minimalism', 'and', 'russian', 'constructivism', ',', 'graffiti', 'removal', 'has', 'secured', 'its', 'place', 'in', 'the', 'history', 'of', 'modern', 'art', 'while', 'being', 'created', 'by', 'artists', 'who', 'are', 'unconscious', 'of', 'their', 'artistic', 'achievements', '.'], ...]"
      ]
     },
     "execution_count": 71,
     "metadata": {},
     "output_type": "execute_result"
    }
   ],
   "source": [
    "\n",
    "subjectivity.sents(categories='obj')"
   ]
  },
  {
   "cell_type": "code",
   "execution_count": 72,
   "metadata": {},
   "outputs": [
    {
     "data": {
      "text/plain": [
       "[['smart', 'and', 'alert', ',', 'thirteen', 'conversations', 'about', 'one', 'thing', 'is', 'a', 'small', 'gem', '.'], ['color', ',', 'musical', 'bounce', 'and', 'warm', 'seas', 'lapping', 'on', 'island', 'shores', '.', 'and', 'just', 'enough', 'science', 'to', 'send', 'you', 'home', 'thinking', '.'], ...]"
      ]
     },
     "execution_count": 72,
     "metadata": {},
     "output_type": "execute_result"
    }
   ],
   "source": [
    "\n",
    "subjectivity.sents(categories='subj')"
   ]
  },
  {
   "cell_type": "markdown",
   "metadata": {},
   "source": [
    "## 2. Building and testing a classifier with `SentimentAnalyzer`"
   ]
  },
  {
   "cell_type": "code",
   "execution_count": 73,
   "metadata": {},
   "outputs": [
    {
     "data": {
      "text/plain": [
       "(100, 100)"
      ]
     },
     "execution_count": 73,
     "metadata": {},
     "output_type": "execute_result"
    }
   ],
   "source": [
    "\n",
    "from nltk.classify import NaiveBayesClassifier\n",
    "\n",
    "# SentimentAnalyzer is a tool to implement and facilitate Sentiment Analysis\n",
    "from nltk.sentiment import SentimentAnalyzer\n",
    "\n",
    "# mark_negation(): Append _NEG suffix to words that appear in the scope\n",
    "# between a negation and a punctuation mark. extract_unigram_feats():\n",
    "# Populate a dictionary of unigram features, reflecting the presence/absence\n",
    "# in the document of each of the tokens in unigrams\n",
    "from nltk.sentiment.util import (mark_negation, extract_unigram_feats)\n",
    "\n",
    "n_instances = 100\n",
    "obj_docs = [(sent, 'obj') for sent in subjectivity.sents(categories='obj')[:n_instances]]\n",
    "subj_docs = [(sent, 'subj') for sent in subjectivity.sents(categories='subj')[:n_instances]]\n",
    "len(obj_docs), len(subj_docs)"
   ]
  },
  {
   "cell_type": "code",
   "execution_count": 74,
   "metadata": {},
   "outputs": [
    {
     "data": {
      "text/plain": [
       "(['the', 'movie', 'begins', 'in', 'the', 'past', 'where', 'a', 'young', 'boy', 'named', 'sam', 'attempts', 'to', 'save', 'celebi', 'from', 'a', 'hunter', '.'], 'obj')"
      ]
     },
     "execution_count": 74,
     "metadata": {},
     "output_type": "execute_result"
    }
   ],
   "source": [
    "\n",
    "obj_docs[0]"
   ]
  },
  {
   "cell_type": "code",
   "execution_count": 75,
   "metadata": {},
   "outputs": [],
   "source": [
    "\n",
    "train_obj_docs = obj_docs[:80]\n",
    "test_obj_docs = obj_docs[80:100]\n",
    "train_subj_docs = subj_docs[:80]\n",
    "test_subj_docs = subj_docs[80:100]\n",
    "\n",
    "training_docs = train_obj_docs + train_subj_docs\n",
    "testing_docs = test_obj_docs + test_subj_docs\n",
    "\n",
    "sentim_analyzer = SentimentAnalyzer()\n",
    "all_words_neg = sentim_analyzer.all_words([mark_negation(doc) for doc in training_docs])"
   ]
  },
  {
   "cell_type": "code",
   "execution_count": 76,
   "metadata": {},
   "outputs": [
    {
     "data": {
      "text/plain": [
       "83"
      ]
     },
     "execution_count": 76,
     "metadata": {},
     "output_type": "execute_result"
    }
   ],
   "source": [
    "\n",
    "unigram_feats = sentim_analyzer.unigram_word_feats(all_words_neg, min_freq=4)\n",
    "len(unigram_feats)"
   ]
  },
  {
   "cell_type": "code",
   "execution_count": 77,
   "metadata": {},
   "outputs": [],
   "source": [
    "\n",
    "sentim_analyzer.add_feat_extractor(extract_unigram_feats, unigrams=unigram_feats)"
   ]
  },
  {
   "cell_type": "code",
   "execution_count": 78,
   "metadata": {},
   "outputs": [
    {
     "data": {
      "text/plain": [
       "({'contains(.)': True, 'contains(for)': False, 'contains(both)': False, 'contains(,)': False, 'contains(of)': False}, 'obj')"
      ]
     },
     "execution_count": 78,
     "metadata": {},
     "output_type": "execute_result"
    }
   ],
   "source": [
    "\n",
    "training_set = sentim_analyzer.apply_features(training_docs)\n",
    "test_set = sentim_analyzer.apply_features(testing_docs)\n",
    "training_set_tuple = training_set[0]\n",
    "(nu.get_random_subdictionary(training_set_tuple[0]), training_set_tuple[1])"
   ]
  },
  {
   "cell_type": "code",
   "execution_count": 79,
   "metadata": {},
   "outputs": [
    {
     "name": "stdout",
     "output_type": "stream",
     "text": [
      "Training classifier\n"
     ]
    }
   ],
   "source": [
    "\n",
    "trainer = NaiveBayesClassifier.train\n",
    "classifier = sentim_analyzer.train(trainer, training_set)"
   ]
  },
  {
   "cell_type": "code",
   "execution_count": 80,
   "metadata": {},
   "outputs": [
    {
     "name": "stdout",
     "output_type": "stream",
     "text": [
      "Evaluating NaiveBayesClassifier results...\n",
      "Accuracy: 0.8\n",
      "F-measure [obj]: 0.8\n",
      "F-measure [subj]: 0.8\n",
      "Precision [obj]: 0.8\n",
      "Precision [subj]: 0.8\n",
      "Recall [obj]: 0.8\n",
      "Recall [subj]: 0.8\n"
     ]
    }
   ],
   "source": [
    "\n",
    "for key,value in sorted(sentim_analyzer.evaluate(test_set).items()):\n",
    "    print('{0}: {1}'.format(key, value))"
   ]
  },
  {
   "cell_type": "markdown",
   "metadata": {},
   "source": [
    "## 3. Sentiment analysis with `nltk.sentiment.vader.SentimentIntensityAnalyzer`"
   ]
  },
  {
   "cell_type": "code",
   "execution_count": 81,
   "metadata": {},
   "outputs": [
    {
     "name": "stdout",
     "output_type": "stream",
     "text": [
      "\n",
      "alright i'm giving you this sir do you have any injuries\n",
      "compound: 0.5267, neg: 0.0, neu: 0.672, pos: 0.328, \n",
      "to a different area that's safer\n",
      "compound: 0.4215, neg: 0.0, neu: 0.588, pos: 0.412, \n",
      "his stomach OK airways intact\n",
      "compound: 0.5766, neg: 0.0, neu: 0.388, pos: 0.612, \n",
      "not what I wanted\n",
      "compound: 0.0, neg: 0.0, neu: 1.0, pos: 0.0, \n",
      "then we kind of explain what each of the things is\n",
      "compound: 0.0, neg: 0.0, neu: 1.0, pos: 0.0, "
     ]
    }
   ],
   "source": [
    "\n",
    "from nltk.sentiment.vader import SentimentIntensityAnalyzer\n",
    "\n",
    "sentences = np.random.choice(df.voice_capture_message.unique(), 5)\n",
    "sid = SentimentIntensityAnalyzer()\n",
    "for sentence in sentences:\n",
    "    print('\\n' + sentence)\n",
    "    ss = sid.polarity_scores(sentence)\n",
    "    for k in sorted(ss):\n",
    "        print('{0}: {1}, '.format(k, ss[k]), end='')"
   ]
  },
  {
   "cell_type": "code",
   "execution_count": 82,
   "metadata": {},
   "outputs": [
    {
     "data": {
      "text/html": [
       "<div>\n",
       "<style scoped>\n",
       "    .dataframe tbody tr th:only-of-type {\n",
       "        vertical-align: middle;\n",
       "    }\n",
       "\n",
       "    .dataframe tbody tr th {\n",
       "        vertical-align: top;\n",
       "    }\n",
       "\n",
       "    .dataframe thead th {\n",
       "        text-align: right;\n",
       "    }\n",
       "</style>\n",
       "<table border=\"1\" class=\"dataframe\">\n",
       "  <thead>\n",
       "    <tr style=\"text-align: right;\">\n",
       "      <th></th>\n",
       "      <th>790367</th>\n",
       "      <th>784052</th>\n",
       "      <th>151095</th>\n",
       "      <th>770251</th>\n",
       "    </tr>\n",
       "  </thead>\n",
       "  <tbody>\n",
       "    <tr>\n",
       "      <th>action_type</th>\n",
       "      <td>VOICE_CAPTURE</td>\n",
       "      <td>VOICE_CAPTURE</td>\n",
       "      <td>VOICE_CAPTURE</td>\n",
       "      <td>VOICE_CAPTURE</td>\n",
       "    </tr>\n",
       "    <tr>\n",
       "      <th>elapsed_time</th>\n",
       "      <td>315936</td>\n",
       "      <td>525816</td>\n",
       "      <td>122380</td>\n",
       "      <td>47456</td>\n",
       "    </tr>\n",
       "    <tr>\n",
       "      <th>event_time</th>\n",
       "      <td>2023-05-10 11:25:00</td>\n",
       "      <td>2023-05-11 10:27:00</td>\n",
       "      <td>2022-12-07 13:07:36</td>\n",
       "      <td>2023-06-12 14:30:00</td>\n",
       "    </tr>\n",
       "    <tr>\n",
       "      <th>session_uuid</th>\n",
       "      <td>d2c676e2-fddc-4872-9a26-b621d6585df9</td>\n",
       "      <td>c12f8355-5a14-4ccc-bde4-d8038cae9220</td>\n",
       "      <td>634a2340-066c-4993-a7be-a7ff0481b6b0</td>\n",
       "      <td>a0987257-801e-44c5-a1ad-81e0083bfa46</td>\n",
       "    </tr>\n",
       "    <tr>\n",
       "      <th>file_name</th>\n",
       "      <td>v.1.0/clean-d2c676e2-fddc-4872-9a26-b621d6585d...</td>\n",
       "      <td>v.1.0/clean-c12f8355-5a14-4ccc-bde4-d8038cae92...</td>\n",
       "      <td>All CSV files renamed by date/12.07.22.1315.csv</td>\n",
       "      <td>v.1.0/clean-a0987257-801e-44c5-a1ad-81e0083bfa...</td>\n",
       "    </tr>\n",
       "    <tr>\n",
       "      <th>logger_version</th>\n",
       "      <td>1.0</td>\n",
       "      <td>1.0</td>\n",
       "      <td>1.0</td>\n",
       "      <td>1.0</td>\n",
       "    </tr>\n",
       "    <tr>\n",
       "      <th>time_group</th>\n",
       "      <td>2</td>\n",
       "      <td>2</td>\n",
       "      <td>1</td>\n",
       "      <td>0</td>\n",
       "    </tr>\n",
       "    <tr>\n",
       "      <th>voice_capture_message</th>\n",
       "      <td>alright anybody else that can hear me if you c...</td>\n",
       "      <td>are you hurt</td>\n",
       "      <td>i'm not trying to push the rest of the way in</td>\n",
       "      <td>yes I do</td>\n",
       "    </tr>\n",
       "    <tr>\n",
       "      <th>voice_capture_sentiment_score</th>\n",
       "      <td>0.6369</td>\n",
       "      <td>-0.5267</td>\n",
       "      <td>0.0</td>\n",
       "      <td>0.4019</td>\n",
       "    </tr>\n",
       "  </tbody>\n",
       "</table>\n",
       "</div>"
      ],
      "text/plain": [
       "                                                                          790367  \\\n",
       "action_type                                                        VOICE_CAPTURE   \n",
       "elapsed_time                                                              315936   \n",
       "event_time                                                   2023-05-10 11:25:00   \n",
       "session_uuid                                d2c676e2-fddc-4872-9a26-b621d6585df9   \n",
       "file_name                      v.1.0/clean-d2c676e2-fddc-4872-9a26-b621d6585d...   \n",
       "logger_version                                                               1.0   \n",
       "time_group                                                                     2   \n",
       "voice_capture_message          alright anybody else that can hear me if you c...   \n",
       "voice_capture_sentiment_score                                             0.6369   \n",
       "\n",
       "                                                                          784052  \\\n",
       "action_type                                                        VOICE_CAPTURE   \n",
       "elapsed_time                                                              525816   \n",
       "event_time                                                   2023-05-11 10:27:00   \n",
       "session_uuid                                c12f8355-5a14-4ccc-bde4-d8038cae9220   \n",
       "file_name                      v.1.0/clean-c12f8355-5a14-4ccc-bde4-d8038cae92...   \n",
       "logger_version                                                               1.0   \n",
       "time_group                                                                     2   \n",
       "voice_capture_message                                               are you hurt   \n",
       "voice_capture_sentiment_score                                            -0.5267   \n",
       "\n",
       "                                                                        151095  \\\n",
       "action_type                                                      VOICE_CAPTURE   \n",
       "elapsed_time                                                            122380   \n",
       "event_time                                                 2022-12-07 13:07:36   \n",
       "session_uuid                              634a2340-066c-4993-a7be-a7ff0481b6b0   \n",
       "file_name                      All CSV files renamed by date/12.07.22.1315.csv   \n",
       "logger_version                                                             1.0   \n",
       "time_group                                                                   1   \n",
       "voice_capture_message            i'm not trying to push the rest of the way in   \n",
       "voice_capture_sentiment_score                                              0.0   \n",
       "\n",
       "                                                                          770251  \n",
       "action_type                                                        VOICE_CAPTURE  \n",
       "elapsed_time                                                               47456  \n",
       "event_time                                                   2023-06-12 14:30:00  \n",
       "session_uuid                                a0987257-801e-44c5-a1ad-81e0083bfa46  \n",
       "file_name                      v.1.0/clean-a0987257-801e-44c5-a1ad-81e0083bfa...  \n",
       "logger_version                                                               1.0  \n",
       "time_group                                                                     0  \n",
       "voice_capture_message                                                   yes I do  \n",
       "voice_capture_sentiment_score                                             0.4019  "
      ]
     },
     "metadata": {},
     "output_type": "display_data"
    }
   ],
   "source": [
    "\n",
    "mask_series = frvrs_logs_df.voice_capture_message.isnull()\n",
    "df1 = frvrs_logs_df[~mask_series]\n",
    "display(df1.sample(min(4, df1.shape[0])).dropna(axis='columns', how='all').T)"
   ]
  },
  {
   "cell_type": "code",
   "execution_count": 83,
   "metadata": {},
   "outputs": [
    {
     "name": "stdout",
     "output_type": "stream",
     "text": [
      "that dictates the answers that they give based on the injuries but it doesn't do that for the other things so because her injuries are her ears she won't answer any question about her injury are you hurt ma'am are you hurt\n",
      "no no no no no no no my other guy that I put the needle decompression I want him then the burn guy then the amputation this guy and then my gentleman right over here my minimal the last one\n",
      "war chest trauma in addition to that that fight injury\n",
      "so now you have stopped that life threatening hemorrhage he can actually be a delayed patient because we can leave targets on for quite a long time so he's a yellow if he had penetrating abdominal or chest trauma along with that extremity injury then he would be a red\n"
     ]
    },
    {
     "data": {
      "text/html": [
       "<div>\n",
       "<style scoped>\n",
       "    .dataframe tbody tr th:only-of-type {\n",
       "        vertical-align: middle;\n",
       "    }\n",
       "\n",
       "    .dataframe tbody tr th {\n",
       "        vertical-align: top;\n",
       "    }\n",
       "\n",
       "    .dataframe thead th {\n",
       "        text-align: right;\n",
       "    }\n",
       "</style>\n",
       "<table border=\"1\" class=\"dataframe\">\n",
       "  <thead>\n",
       "    <tr style=\"text-align: right;\">\n",
       "      <th></th>\n",
       "      <th>125580</th>\n",
       "      <th>842219</th>\n",
       "      <th>74655</th>\n",
       "      <th>15007</th>\n",
       "    </tr>\n",
       "  </thead>\n",
       "  <tbody>\n",
       "    <tr>\n",
       "      <th>action_type</th>\n",
       "      <td>VOICE_CAPTURE</td>\n",
       "      <td>VOICE_CAPTURE</td>\n",
       "      <td>VOICE_CAPTURE</td>\n",
       "      <td>VOICE_CAPTURE</td>\n",
       "    </tr>\n",
       "    <tr>\n",
       "      <th>elapsed_time</th>\n",
       "      <td>117961</td>\n",
       "      <td>485707</td>\n",
       "      <td>313292</td>\n",
       "      <td>427432</td>\n",
       "    </tr>\n",
       "    <tr>\n",
       "      <th>event_time</th>\n",
       "      <td>2022-11-30 08:31:44</td>\n",
       "      <td>2023-09-07 14:56:58</td>\n",
       "      <td>2023-04-19 11:59:10</td>\n",
       "      <td>2023-03-10 10:13:50</td>\n",
       "    </tr>\n",
       "    <tr>\n",
       "      <th>session_uuid</th>\n",
       "      <td>5325cdbf-d627-4aba-b5b4-9a62240d599f</td>\n",
       "      <td>fde2c201-36fc-4123-bf42-f1bff1b24969</td>\n",
       "      <td>3228f729-d512-431a-bb96-d6f9aacb5d00</td>\n",
       "      <td>7e340eb0-fda8-4eea-addc-5f554be907a5</td>\n",
       "    </tr>\n",
       "    <tr>\n",
       "      <th>file_name</th>\n",
       "      <td>All CSV files renamed by date/11.30.22.0832.csv</td>\n",
       "      <td>v.1.3/fde2c201-36fc-4123-bf42-f1bff1b24969.csv</td>\n",
       "      <td>All CSV files renamed by date/04.19.23.1207.csv</td>\n",
       "      <td>All CSV files renamed by date/03.10.23.1007.csv</td>\n",
       "    </tr>\n",
       "    <tr>\n",
       "      <th>logger_version</th>\n",
       "      <td>1.0</td>\n",
       "      <td>1.3</td>\n",
       "      <td>1.3</td>\n",
       "      <td>1.3</td>\n",
       "    </tr>\n",
       "    <tr>\n",
       "      <th>time_group</th>\n",
       "      <td>1</td>\n",
       "      <td>1</td>\n",
       "      <td>2</td>\n",
       "      <td>1</td>\n",
       "    </tr>\n",
       "    <tr>\n",
       "      <th>voice_capture_message</th>\n",
       "      <td>that dictates the answers that they give based...</td>\n",
       "      <td>no no no no no no no my other guy that I put t...</td>\n",
       "      <td>war chest trauma in addition to that that figh...</td>\n",
       "      <td>so now you have stopped that life threatening ...</td>\n",
       "    </tr>\n",
       "    <tr>\n",
       "      <th>voice_capture_command_description</th>\n",
       "      <td>NaN</td>\n",
       "      <td>NA</td>\n",
       "      <td>NA</td>\n",
       "      <td>NA</td>\n",
       "    </tr>\n",
       "    <tr>\n",
       "      <th>voice_capture_sentiment_score</th>\n",
       "      <td>-0.9313</td>\n",
       "      <td>-0.9022</td>\n",
       "      <td>-0.9022</td>\n",
       "      <td>-0.9001</td>\n",
       "    </tr>\n",
       "  </tbody>\n",
       "</table>\n",
       "</div>"
      ],
      "text/plain": [
       "                                                                              125580  \\\n",
       "action_type                                                            VOICE_CAPTURE   \n",
       "elapsed_time                                                                  117961   \n",
       "event_time                                                       2022-11-30 08:31:44   \n",
       "session_uuid                                    5325cdbf-d627-4aba-b5b4-9a62240d599f   \n",
       "file_name                            All CSV files renamed by date/11.30.22.0832.csv   \n",
       "logger_version                                                                   1.0   \n",
       "time_group                                                                         1   \n",
       "voice_capture_message              that dictates the answers that they give based...   \n",
       "voice_capture_command_description                                                NaN   \n",
       "voice_capture_sentiment_score                                                -0.9313   \n",
       "\n",
       "                                                                              842219  \\\n",
       "action_type                                                            VOICE_CAPTURE   \n",
       "elapsed_time                                                                  485707   \n",
       "event_time                                                       2023-09-07 14:56:58   \n",
       "session_uuid                                    fde2c201-36fc-4123-bf42-f1bff1b24969   \n",
       "file_name                             v.1.3/fde2c201-36fc-4123-bf42-f1bff1b24969.csv   \n",
       "logger_version                                                                   1.3   \n",
       "time_group                                                                         1   \n",
       "voice_capture_message              no no no no no no no my other guy that I put t...   \n",
       "voice_capture_command_description                                                 NA   \n",
       "voice_capture_sentiment_score                                                -0.9022   \n",
       "\n",
       "                                                                              74655   \\\n",
       "action_type                                                            VOICE_CAPTURE   \n",
       "elapsed_time                                                                  313292   \n",
       "event_time                                                       2023-04-19 11:59:10   \n",
       "session_uuid                                    3228f729-d512-431a-bb96-d6f9aacb5d00   \n",
       "file_name                            All CSV files renamed by date/04.19.23.1207.csv   \n",
       "logger_version                                                                   1.3   \n",
       "time_group                                                                         2   \n",
       "voice_capture_message              war chest trauma in addition to that that figh...   \n",
       "voice_capture_command_description                                                 NA   \n",
       "voice_capture_sentiment_score                                                -0.9022   \n",
       "\n",
       "                                                                              15007   \n",
       "action_type                                                            VOICE_CAPTURE  \n",
       "elapsed_time                                                                  427432  \n",
       "event_time                                                       2023-03-10 10:13:50  \n",
       "session_uuid                                    7e340eb0-fda8-4eea-addc-5f554be907a5  \n",
       "file_name                            All CSV files renamed by date/03.10.23.1007.csv  \n",
       "logger_version                                                                   1.3  \n",
       "time_group                                                                         1  \n",
       "voice_capture_message              so now you have stopped that life threatening ...  \n",
       "voice_capture_command_description                                                 NA  \n",
       "voice_capture_sentiment_score                                                -0.9001  "
      ]
     },
     "metadata": {},
     "output_type": "display_data"
    }
   ],
   "source": [
    "\n",
    "df2 = df1.sort_values('voice_capture_sentiment_score').head(4)\n",
    "print('\\n'.join(df2.voice_capture_message))\n",
    "display(df2.dropna(axis='columns', how='all').T)"
   ]
  },
  {
   "cell_type": "code",
   "execution_count": 84,
   "metadata": {},
   "outputs": [
    {
     "name": "stdout",
     "output_type": "stream",
     "text": [
      "OK Yep it's OK I'm gonna help you alright just hang in there for a second I gotta get this tourniquet on you OK alright should I get rapid pulse OK you're gonna be OK alright we're gonna get you out here soon as we can get you on you\n",
      "good good good good good good good good good\n",
      "glory glory glory glory glory glory glory\n",
      "ha ha ha ha ha ha ha ha ha ha ha ha ha ha ha ha ha ha\n"
     ]
    },
    {
     "data": {
      "text/html": [
       "<div>\n",
       "<style scoped>\n",
       "    .dataframe tbody tr th:only-of-type {\n",
       "        vertical-align: middle;\n",
       "    }\n",
       "\n",
       "    .dataframe tbody tr th {\n",
       "        vertical-align: top;\n",
       "    }\n",
       "\n",
       "    .dataframe thead th {\n",
       "        text-align: right;\n",
       "    }\n",
       "</style>\n",
       "<table border=\"1\" class=\"dataframe\">\n",
       "  <thead>\n",
       "    <tr style=\"text-align: right;\">\n",
       "      <th></th>\n",
       "      <th>764468</th>\n",
       "      <th>738456</th>\n",
       "      <th>198132</th>\n",
       "      <th>183264</th>\n",
       "    </tr>\n",
       "  </thead>\n",
       "  <tbody>\n",
       "    <tr>\n",
       "      <th>action_type</th>\n",
       "      <td>VOICE_CAPTURE</td>\n",
       "      <td>VOICE_CAPTURE</td>\n",
       "      <td>VOICE_CAPTURE</td>\n",
       "      <td>VOICE_CAPTURE</td>\n",
       "    </tr>\n",
       "    <tr>\n",
       "      <th>elapsed_time</th>\n",
       "      <td>445368</td>\n",
       "      <td>552093</td>\n",
       "      <td>434704</td>\n",
       "      <td>464931</td>\n",
       "    </tr>\n",
       "    <tr>\n",
       "      <th>event_time</th>\n",
       "      <td>2023-06-23 11:13:00</td>\n",
       "      <td>2023-05-11 10:54:00</td>\n",
       "      <td>2023-08-16 09:52:59</td>\n",
       "      <td>2023-08-09 10:17:09</td>\n",
       "    </tr>\n",
       "    <tr>\n",
       "      <th>session_uuid</th>\n",
       "      <td>926de73a-7764-4409-920e-b2416cb57f9b</td>\n",
       "      <td>4226ad6c-bb0a-4df0-8c4a-64c312927578</td>\n",
       "      <td>be877d11-14b3-432c-be4d-b3e0d236f6e1</td>\n",
       "      <td>693461dd-b8f6-4c60-92b6-bd1db0ffcac8</td>\n",
       "    </tr>\n",
       "    <tr>\n",
       "      <th>file_name</th>\n",
       "      <td>v.1.0/clean-926de73a-7764-4409-920e-b2416cb57f...</td>\n",
       "      <td>v.1.0/clean-4226ad6c-bb0a-4df0-8c4a-64c3129275...</td>\n",
       "      <td>DCEMS Round 2 only triage sessions/be877d11-14...</td>\n",
       "      <td>DCEMS Round 2 only triage sessions/693461dd-b8...</td>\n",
       "    </tr>\n",
       "    <tr>\n",
       "      <th>logger_version</th>\n",
       "      <td>1.0</td>\n",
       "      <td>1.0</td>\n",
       "      <td>1.0</td>\n",
       "      <td>1.0</td>\n",
       "    </tr>\n",
       "    <tr>\n",
       "      <th>time_group</th>\n",
       "      <td>2</td>\n",
       "      <td>2</td>\n",
       "      <td>1</td>\n",
       "      <td>1</td>\n",
       "    </tr>\n",
       "    <tr>\n",
       "      <th>voice_capture_message</th>\n",
       "      <td>OK Yep it's OK I'm gonna help you alright just...</td>\n",
       "      <td>good good good good good good good good good</td>\n",
       "      <td>glory glory glory glory glory glory glory</td>\n",
       "      <td>ha ha ha ha ha ha ha ha ha ha ha ha ha ha ha h...</td>\n",
       "    </tr>\n",
       "    <tr>\n",
       "      <th>voice_capture_sentiment_score</th>\n",
       "      <td>0.9704</td>\n",
       "      <td>0.9753</td>\n",
       "      <td>0.9764</td>\n",
       "      <td>0.9884</td>\n",
       "    </tr>\n",
       "  </tbody>\n",
       "</table>\n",
       "</div>"
      ],
      "text/plain": [
       "                                                                          764468  \\\n",
       "action_type                                                        VOICE_CAPTURE   \n",
       "elapsed_time                                                              445368   \n",
       "event_time                                                   2023-06-23 11:13:00   \n",
       "session_uuid                                926de73a-7764-4409-920e-b2416cb57f9b   \n",
       "file_name                      v.1.0/clean-926de73a-7764-4409-920e-b2416cb57f...   \n",
       "logger_version                                                               1.0   \n",
       "time_group                                                                     2   \n",
       "voice_capture_message          OK Yep it's OK I'm gonna help you alright just...   \n",
       "voice_capture_sentiment_score                                             0.9704   \n",
       "\n",
       "                                                                          738456  \\\n",
       "action_type                                                        VOICE_CAPTURE   \n",
       "elapsed_time                                                              552093   \n",
       "event_time                                                   2023-05-11 10:54:00   \n",
       "session_uuid                                4226ad6c-bb0a-4df0-8c4a-64c312927578   \n",
       "file_name                      v.1.0/clean-4226ad6c-bb0a-4df0-8c4a-64c3129275...   \n",
       "logger_version                                                               1.0   \n",
       "time_group                                                                     2   \n",
       "voice_capture_message               good good good good good good good good good   \n",
       "voice_capture_sentiment_score                                             0.9753   \n",
       "\n",
       "                                                                          198132  \\\n",
       "action_type                                                        VOICE_CAPTURE   \n",
       "elapsed_time                                                              434704   \n",
       "event_time                                                   2023-08-16 09:52:59   \n",
       "session_uuid                                be877d11-14b3-432c-be4d-b3e0d236f6e1   \n",
       "file_name                      DCEMS Round 2 only triage sessions/be877d11-14...   \n",
       "logger_version                                                               1.0   \n",
       "time_group                                                                     1   \n",
       "voice_capture_message                  glory glory glory glory glory glory glory   \n",
       "voice_capture_sentiment_score                                             0.9764   \n",
       "\n",
       "                                                                          183264  \n",
       "action_type                                                        VOICE_CAPTURE  \n",
       "elapsed_time                                                              464931  \n",
       "event_time                                                   2023-08-09 10:17:09  \n",
       "session_uuid                                693461dd-b8f6-4c60-92b6-bd1db0ffcac8  \n",
       "file_name                      DCEMS Round 2 only triage sessions/693461dd-b8...  \n",
       "logger_version                                                               1.0  \n",
       "time_group                                                                     1  \n",
       "voice_capture_message          ha ha ha ha ha ha ha ha ha ha ha ha ha ha ha h...  \n",
       "voice_capture_sentiment_score                                             0.9884  "
      ]
     },
     "metadata": {},
     "output_type": "display_data"
    }
   ],
   "source": [
    "\n",
    "df2 = df1.sort_values('voice_capture_sentiment_score').tail(4)\n",
    "print('\\n'.join(df2.voice_capture_message))\n",
    "display(df2.dropna(axis='columns', how='all').T)"
   ]
  },
  {
   "cell_type": "markdown",
   "metadata": {},
   "source": [
    "Above, `compound` represents the aggregated, final score."
   ]
  },
  {
   "cell_type": "markdown",
   "metadata": {},
   "source": [
    "# Word2Vec (gensim)"
   ]
  },
  {
   "cell_type": "markdown",
   "metadata": {},
   "source": [
    "Based on [Dive Into NLTK, Part X: Play with Word2Vec Models based on NLTK Corpus by TextMiner](http://textminingonline.com/dive-into-nltk-part-x-play-with-word2vec-models-based-on-nltk-corpus)"
   ]
  },
  {
   "cell_type": "markdown",
   "metadata": {},
   "source": [
    "## 2. Implementing Word2Vec"
   ]
  },
  {
   "cell_type": "code",
   "execution_count": 85,
   "metadata": {},
   "outputs": [
    {
     "data": {
      "text/plain": [
       "['so', 'you', 'know', 'i', 'would', 'walk', 'in', 'see', 'those', 'four', 'patients', 'i', 'would', 'go', 'and', 'say', 'if', 'anybody', 'can', 'hear', 'me', 'i', 'want', 'you', 'to', 'wlk', 'over', 'here', 'ok']"
      ]
     },
     "execution_count": 85,
     "metadata": {},
     "output_type": "execute_result"
    }
   ],
   "source": [
    "\n",
    "from string import punctuation\n",
    "\n",
    "discard_punctuation_and_lowercased_sents = [[word.lower() for word in sent.split() if word not in punctuation and word.isalpha()] \n",
    "                                            for sent in df.voice_capture_message.unique()]\n",
    "discard_punctuation_and_lowercased_sents[2]"
   ]
  },
  {
   "cell_type": "code",
   "execution_count": 86,
   "metadata": {},
   "outputs": [
    {
     "data": {
      "text/plain": [
       "1079"
      ]
     },
     "execution_count": 86,
     "metadata": {},
     "output_type": "execute_result"
    }
   ],
   "source": [
    "\n",
    "from gensim.models import Word2Vec\n",
    "\n",
    "word2vec_model = Word2Vec(discard_punctuation_and_lowercased_sents, min_count=5)\n",
    "word2vec_model.save('../saves/word2vec/word2vec_gensim')\n",
    "word_vectors = word2vec_model.wv\n",
    "del word2vec_model # When we finish training the model, we can only delete it and keep the word vectors.\n",
    "word_vectors.save_word2vec_format('../saves/word2vec/word2vec_org', '../saves/word2vec/word2vec_vocabulary')\n",
    "len(word_vectors.index_to_key)"
   ]
  },
  {
   "cell_type": "code",
   "execution_count": 87,
   "metadata": {},
   "outputs": [
    {
     "data": {
      "text/plain": [
       "[('sky', 0.9930479526519775), ('tutorial', 0.9928046464920044), ('last', 0.9917479753494263), ('salt', 0.991710364818573), ('line', 0.9916912913322449), ('shirt', 0.9909893274307251), ('program', 0.9908697605133057), ('joystick', 0.9904271960258484), ('whole', 0.9902134537696838), ('same', 0.9901471734046936)]"
      ]
     },
     "execution_count": 87,
     "metadata": {},
     "output_type": "execute_result"
    }
   ],
   "source": [
    "\n",
    "# Most similar as in closest in the word graph.\n",
    "# Word2vec is essentially about proportions of word occurrences\n",
    "# in relations holding in general over large corpora of text.\n",
    "# Consider word analogy ‘man is to woman as king is to X’\n",
    "# which was famously demonstrated in word2vec.\n",
    "# The algorithm is able to come up with an answer queen,\n",
    "# almost magically by simple vector differences.\n",
    "# The main idea, called distributional hypothesis,\n",
    "# is that similar words appear in similar contexts of words around them\n",
    "word_vectors.most_similar(['patient'])"
   ]
  },
  {
   "cell_type": "code",
   "execution_count": 88,
   "metadata": {},
   "outputs": [
    {
     "data": {
      "text/plain": [
       "[('next', 0.9654101729393005), ('resource', 0.961746871471405), ('room', 0.9615195393562317), ('thing', 0.9581617712974548), ('pack', 0.9572541117668152), ('unconscious', 0.9569960832595825), ('responder', 0.9560369849205017), ('straight', 0.9554514288902283), ('tutorial', 0.9553431272506714), ('one', 0.9550454616546631)]"
      ]
     },
     "execution_count": 88,
     "metadata": {},
     "output_type": "execute_result"
    }
   ],
   "source": [
    "\n",
    "word_vectors.most_similar(['person'])"
   ]
  },
  {
   "cell_type": "code",
   "execution_count": 89,
   "metadata": {},
   "outputs": [
    {
     "data": {
      "text/plain": [
       "[('down', 0.9676859378814697), ('come', 0.9576231241226196), ('help', 0.9571338295936584)]"
      ]
     },
     "execution_count": 89,
     "metadata": {},
     "output_type": "execute_result"
    }
   ],
   "source": [
    "\n",
    "word_vectors.most_similar(['sit'], topn=3)"
   ]
  },
  {
   "cell_type": "code",
   "execution_count": 90,
   "metadata": {},
   "outputs": [
    {
     "data": {
      "text/plain": [
       "[('voice', 0.8822336196899414), ('anybody', 0.8822070956230164), ('please', 0.8809487223625183)]"
      ]
     },
     "execution_count": 90,
     "metadata": {},
     "output_type": "execute_result"
    }
   ],
   "source": [
    "\n",
    "word_vectors.most_similar(positive=['walk', 'wave'], negative=['still'], topn=3)"
   ]
  },
  {
   "cell_type": "code",
   "execution_count": 91,
   "metadata": {},
   "outputs": [
    {
     "data": {
      "text/plain": [
       "[('please', 1.8417956829071045), ('voice', 1.8347917795181274), ('anybody', 1.8312517404556274)]"
      ]
     },
     "execution_count": 91,
     "metadata": {},
     "output_type": "execute_result"
    }
   ],
   "source": [
    "\n",
    "# The `_cosmul` variant uses a slightly-different comparison\n",
    "# when using multiple positive/negative examples\n",
    "# (such as when asking about analogies).\n",
    "# One paper has shown it does better:\n",
    "word_vectors.most_similar_cosmul(positive=['walk', 'wave'], negative=['still'], topn=3)"
   ]
  },
  {
   "cell_type": "code",
   "execution_count": 92,
   "metadata": {},
   "outputs": [
    {
     "data": {
      "text/plain": [
       "(0.7866863, 0.039096974, 0.06705263)"
      ]
     },
     "execution_count": 92,
     "metadata": {},
     "output_type": "execute_result"
    }
   ],
   "source": [
    "\n",
    "word_vectors.similarity('walk', 'wave'), word_vectors.similarity('still', 'walk'), word_vectors.similarity('still', 'wave')"
   ]
  },
  {
   "cell_type": "code",
   "execution_count": 93,
   "metadata": {},
   "outputs": [
    {
     "data": {
      "text/plain": [
       "'still'"
      ]
     },
     "execution_count": 93,
     "metadata": {},
     "output_type": "execute_result"
    }
   ],
   "source": [
    "\n",
    "word_vectors.doesnt_match('walk wave still'.split())"
   ]
  },
  {
   "cell_type": "code",
   "execution_count": 94,
   "metadata": {},
   "outputs": [
    {
     "name": "stdout",
     "output_type": "stream",
     "text": [
      "We have currently only implemented score for the hierarchical softmax scheme, so you need to have run word2vec with hs=1 and negative=0 for this to work.\n"
     ]
    }
   ],
   "source": [
    "\n",
    "# Probability of a text under the model\n",
    "word2vec_model = Word2Vec.load('../saves/word2vec/word2vec_gensim')\n",
    "try: display(word2vec_model.score(['walk to the safe area'.split()]))\n",
    "except RuntimeError as e: print(str(e).strip())"
   ]
  },
  {
   "cell_type": "code",
   "execution_count": 100,
   "metadata": {},
   "outputs": [
    {
     "data": {
      "text/plain": [
       "array([-13.939397], dtype=float32)"
      ]
     },
     "metadata": {},
     "output_type": "display_data"
    }
   ],
   "source": [
    "\n",
    "word2vec_model = Word2Vec(discard_punctuation_and_lowercased_sents, hs=1, negative=0)\n",
    "try: display(word2vec_model.score(['walk to the safe area'.split(), 'wave if you can hear me'.split()], total_sentences=1))\n",
    "except RuntimeError as e: print(str(e).strip())"
   ]
  },
  {
   "cell_type": "code",
   "execution_count": null,
   "metadata": {},
   "outputs": [],
   "source": []
  }
 ],
 "metadata": {
  "kernelspec": {
   "display_name": "Python 3 (ipykernel)",
   "language": "python",
   "name": "python3"
  },
  "language_info": {
   "codemirror_mode": {
    "name": "ipython",
    "version": 3
   },
   "file_extension": ".py",
   "mimetype": "text/x-python",
   "name": "python",
   "nbconvert_exporter": "python",
   "pygments_lexer": "ipython3",
   "version": "3.10.8"
  }
 },
 "nbformat": 4,
 "nbformat_minor": 4
}

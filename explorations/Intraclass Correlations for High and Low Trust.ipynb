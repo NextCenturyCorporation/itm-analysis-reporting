{
 "cells": [
  {
   "cell_type": "code",
   "execution_count": 1,
   "id": "b45d7c96-6fef-4207-90ab-d273172a97c3",
   "metadata": {},
   "outputs": [
    {
     "name": "stdout",
     "output_type": "stream",
     "text": [
      "Pretty printing has been turned OFF\n"
     ]
    }
   ],
   "source": [
    "\n",
    "%pprint"
   ]
  },
  {
   "cell_type": "code",
   "execution_count": 2,
   "id": "dccff9fa-8a7e-4f4e-8efb-31937047ba69",
   "metadata": {},
   "outputs": [
    {
     "data": {
      "text/plain": [
       "['AD_Align_High_Four', 'AD_Align_High_Sim', 'AD_Align_High_Text', 'AD_Align_Low_Four', 'AD_Align_Low_Sim', 'AD_Align_Low_Text', 'AD_High_Agree', 'AD_High_Alignsr', 'AD_High_Trust', 'AD_High_Trustworthy', 'AD_Low_Agree', 'AD_Low_Alignsr', 'AD_Low_Trust', 'AD_Low_Trustworthy', 'ST_Align_High_Four', 'ST_Align_High_Sim', 'ST_Align_High_Text', 'ST_Align_Low_Four', 'ST_Align_Low_Sim', 'ST_Align_Low_Text', 'ST_High_Agree', 'ST_High_Agree_Omni', 'ST_High_Alignsr', 'ST_High_Alignsr_Omni', 'ST_High_Trust', 'ST_High_Trust_Omni', 'ST_High_Trustworthy', 'ST_High_Trustworthy_Omni', 'ST_Low_Agree', 'ST_Low_Agree_Omni', 'ST_Low_Alignsr', 'ST_Low_Alignsr_Omni', 'ST_Low_Trust', 'ST_Low_Trust_Omni', 'ST_Low_Trustworthy', 'ST_Low_Trustworthy_Omni', 'participant_id']"
      ]
     },
     "execution_count": 2,
     "metadata": {},
     "output_type": "execute_result"
    }
   ],
   "source": [
    "\n",
    "from pandas import read_excel, to_datetime, Series\n",
    "\n",
    "file_path = '../data/xlsx/Alignment_x_Trust_Correlations.xlsx'\n",
    "alignment_x_trust_correlations_df = read_excel(file_path)\n",
    "alignment_x_trust_correlations_df.columns = alignment_x_trust_correlations_df.columns.map(lambda x: '_'.join([s.title() for s in x.split('_')]))\n",
    "alignment_x_trust_correlations_df.columns = alignment_x_trust_correlations_df.columns.map(lambda x: x[:2].upper() + x[2:])\n",
    "alignment_x_trust_correlations_df = alignment_x_trust_correlations_df.rename(columns={'PArticipantid': 'participant_id'})\n",
    "sorted(alignment_x_trust_correlations_df.columns)"
   ]
  },
  {
   "cell_type": "code",
   "execution_count": 5,
   "id": "fca243b0-4da9-4de0-aaa6-e0233df1e692",
   "metadata": {},
   "outputs": [],
   "source": [
    "\n",
    "import pingouin as pg\n",
    "\n",
    "def calculate_icc(participant_data, trust_rating_variable_name, alignment_score_variable_name, targets_column_name='participant_id'):\n",
    "  \"\"\"\n",
    "  Calculates ICC(2,1) for a given DataFrame.\n",
    "\n",
    "  Args:\n",
    "      participant_data: The DataFrame containing participant data.\n",
    "      trust_rating_variable_name: The column name for the trust rating variable.\n",
    "      alignment_score_variable_name: The column name for the specific alignment score variable (e.g., AD_Align_High_Text).\n",
    "      targets_column_name: The column name for participant ID. Defaults to 'participant_id'.\n",
    "\n",
    "  Returns:\n",
    "      A pingouin ICC results object.\n",
    "  \"\"\"\n",
    "  return pg.intraclass_corr(\n",
    "      data=participant_data,\n",
    "      targets=targets_column_name,\n",
    "      raters=trust_rating_variable_name,\n",
    "      ratings=alignment_score_variable_name,\n",
    "      nan_policy='omit'\n",
    "  )"
   ]
  },
  {
   "cell_type": "code",
   "execution_count": 6,
   "id": "dd1ffcc1-cca4-4039-8292-78641b93ce51",
   "metadata": {},
   "outputs": [
    {
     "ename": "AssertionError",
     "evalue": "Data must have at least 5 non-missing values.",
     "output_type": "error",
     "traceback": [
      "\u001b[0;31m---------------------------------------------------------------------------\u001b[0m",
      "\u001b[0;31mAssertionError\u001b[0m                            Traceback (most recent call last)",
      "\u001b[0;32m/tmp/ipykernel_2687/2810583341.py\u001b[0m in \u001b[0;36m<module>\u001b[0;34m\u001b[0m\n\u001b[0;32m----> 1\u001b[0;31m \u001b[0mcalculate_icc\u001b[0m\u001b[0;34m(\u001b[0m\u001b[0malignment_x_trust_correlations_df\u001b[0m\u001b[0;34m,\u001b[0m \u001b[0;34m'AD_Align_High_Text'\u001b[0m\u001b[0;34m,\u001b[0m \u001b[0;34m'AD_High_Trust'\u001b[0m\u001b[0;34m,\u001b[0m \u001b[0mtargets_column_name\u001b[0m\u001b[0;34m=\u001b[0m\u001b[0;34m'participant_id'\u001b[0m\u001b[0;34m)\u001b[0m\u001b[0;34m\u001b[0m\u001b[0;34m\u001b[0m\u001b[0m\n\u001b[0m",
      "\u001b[0;32m/tmp/ipykernel_2687/2272697970.py\u001b[0m in \u001b[0;36mcalculate_icc\u001b[0;34m(participant_data, trust_rating_variable_name, alignment_score_variable_name, targets_column_name)\u001b[0m\n\u001b[1;32m     19\u001b[0m       \u001b[0mraters\u001b[0m\u001b[0;34m=\u001b[0m\u001b[0mtrust_rating_variable_name\u001b[0m\u001b[0;34m,\u001b[0m\u001b[0;34m\u001b[0m\u001b[0;34m\u001b[0m\u001b[0m\n\u001b[1;32m     20\u001b[0m       \u001b[0mratings\u001b[0m\u001b[0;34m=\u001b[0m\u001b[0malignment_score_variable_name\u001b[0m\u001b[0;34m,\u001b[0m\u001b[0;34m\u001b[0m\u001b[0;34m\u001b[0m\u001b[0m\n\u001b[0;32m---> 21\u001b[0;31m       \u001b[0mnan_policy\u001b[0m\u001b[0;34m=\u001b[0m\u001b[0;34m'omit'\u001b[0m\u001b[0;34m\u001b[0m\u001b[0;34m\u001b[0m\u001b[0m\n\u001b[0m\u001b[1;32m     22\u001b[0m   )\n",
      "\u001b[0;32m~/anaconda3/envs/itm_analysis_reporting/lib/python3.7/site-packages/pingouin/reliability.py\u001b[0m in \u001b[0;36mintraclass_corr\u001b[0;34m(data, targets, raters, ratings, nan_policy)\u001b[0m\n\u001b[1;32m    300\u001b[0m         \u001b[0mold_options\u001b[0m \u001b[0;34m=\u001b[0m \u001b[0moptions\u001b[0m\u001b[0;34m.\u001b[0m\u001b[0mcopy\u001b[0m\u001b[0;34m(\u001b[0m\u001b[0;34m)\u001b[0m\u001b[0;34m\u001b[0m\u001b[0;34m\u001b[0m\u001b[0m\n\u001b[1;32m    301\u001b[0m         \u001b[0moptions\u001b[0m\u001b[0;34m[\u001b[0m\u001b[0;34m\"round\"\u001b[0m\u001b[0;34m]\u001b[0m \u001b[0;34m=\u001b[0m \u001b[0;32mNone\u001b[0m\u001b[0;34m\u001b[0m\u001b[0;34m\u001b[0m\u001b[0m\n\u001b[0;32m--> 302\u001b[0;31m         \u001b[0maov\u001b[0m \u001b[0;34m=\u001b[0m \u001b[0manova\u001b[0m\u001b[0;34m(\u001b[0m\u001b[0mdata\u001b[0m\u001b[0;34m=\u001b[0m\u001b[0mdata\u001b[0m\u001b[0;34m,\u001b[0m \u001b[0mdv\u001b[0m\u001b[0;34m=\u001b[0m\u001b[0mratings\u001b[0m\u001b[0;34m,\u001b[0m \u001b[0mbetween\u001b[0m\u001b[0;34m=\u001b[0m\u001b[0;34m[\u001b[0m\u001b[0mtargets\u001b[0m\u001b[0;34m,\u001b[0m \u001b[0mraters\u001b[0m\u001b[0;34m]\u001b[0m\u001b[0;34m,\u001b[0m \u001b[0mss_type\u001b[0m\u001b[0;34m=\u001b[0m\u001b[0;36m2\u001b[0m\u001b[0;34m)\u001b[0m\u001b[0;34m\u001b[0m\u001b[0;34m\u001b[0m\u001b[0m\n\u001b[0m\u001b[1;32m    303\u001b[0m         \u001b[0moptions\u001b[0m\u001b[0;34m.\u001b[0m\u001b[0mupdate\u001b[0m\u001b[0;34m(\u001b[0m\u001b[0mold_options\u001b[0m\u001b[0;34m)\u001b[0m  \u001b[0;31m# restore options\u001b[0m\u001b[0;34m\u001b[0m\u001b[0;34m\u001b[0m\u001b[0m\n\u001b[1;32m    304\u001b[0m \u001b[0;34m\u001b[0m\u001b[0m\n",
      "\u001b[0;32m~/anaconda3/envs/itm_analysis_reporting/lib/python3.7/site-packages/pingouin/parametric.py\u001b[0m in \u001b[0;36manova\u001b[0;34m(data, dv, between, ss_type, detailed, effsize)\u001b[0m\n\u001b[1;32m    974\u001b[0m             \u001b[0;31m# Two factors with balanced design = Pingouin implementation\u001b[0m\u001b[0;34m\u001b[0m\u001b[0;34m\u001b[0m\u001b[0;34m\u001b[0m\u001b[0m\n\u001b[1;32m    975\u001b[0m             \u001b[0;31m# Two factors with unbalanced design = statsmodels\u001b[0m\u001b[0;34m\u001b[0m\u001b[0;34m\u001b[0m\u001b[0;34m\u001b[0m\u001b[0m\n\u001b[0;32m--> 976\u001b[0;31m             \u001b[0;32mreturn\u001b[0m \u001b[0manova2\u001b[0m\u001b[0;34m(\u001b[0m\u001b[0mdv\u001b[0m\u001b[0;34m=\u001b[0m\u001b[0mdv\u001b[0m\u001b[0;34m,\u001b[0m \u001b[0mbetween\u001b[0m\u001b[0;34m=\u001b[0m\u001b[0mbetween\u001b[0m\u001b[0;34m,\u001b[0m \u001b[0mdata\u001b[0m\u001b[0;34m=\u001b[0m\u001b[0mdata\u001b[0m\u001b[0;34m,\u001b[0m \u001b[0mss_type\u001b[0m\u001b[0;34m=\u001b[0m\u001b[0mss_type\u001b[0m\u001b[0;34m,\u001b[0m \u001b[0meffsize\u001b[0m\u001b[0;34m=\u001b[0m\u001b[0meffsize\u001b[0m\u001b[0;34m)\u001b[0m\u001b[0;34m\u001b[0m\u001b[0;34m\u001b[0m\u001b[0m\n\u001b[0m\u001b[1;32m    977\u001b[0m         \u001b[0;32melse\u001b[0m\u001b[0;34m:\u001b[0m\u001b[0;34m\u001b[0m\u001b[0;34m\u001b[0m\u001b[0m\n\u001b[1;32m    978\u001b[0m             \u001b[0;31m# 3 or more factors with (un)-balanced design = statsmodels\u001b[0m\u001b[0;34m\u001b[0m\u001b[0;34m\u001b[0m\u001b[0;34m\u001b[0m\u001b[0m\n",
      "\u001b[0;32m~/anaconda3/envs/itm_analysis_reporting/lib/python3.7/site-packages/pingouin/parametric.py\u001b[0m in \u001b[0;36manova2\u001b[0;34m(data, dv, between, ss_type, effsize)\u001b[0m\n\u001b[1;32m   1059\u001b[0m     \u001b[0;31m# Drop missing values\u001b[0m\u001b[0;34m\u001b[0m\u001b[0;34m\u001b[0m\u001b[0;34m\u001b[0m\u001b[0m\n\u001b[1;32m   1060\u001b[0m     \u001b[0mdata\u001b[0m \u001b[0;34m=\u001b[0m \u001b[0mdata\u001b[0m\u001b[0;34m[\u001b[0m\u001b[0;34m[\u001b[0m\u001b[0mdv\u001b[0m\u001b[0;34m,\u001b[0m \u001b[0mfac1\u001b[0m\u001b[0;34m,\u001b[0m \u001b[0mfac2\u001b[0m\u001b[0;34m]\u001b[0m\u001b[0;34m]\u001b[0m\u001b[0;34m.\u001b[0m\u001b[0mdropna\u001b[0m\u001b[0;34m(\u001b[0m\u001b[0;34m)\u001b[0m\u001b[0;34m\u001b[0m\u001b[0;34m\u001b[0m\u001b[0m\n\u001b[0;32m-> 1061\u001b[0;31m     \u001b[0;32massert\u001b[0m \u001b[0mdata\u001b[0m\u001b[0;34m.\u001b[0m\u001b[0mshape\u001b[0m\u001b[0;34m[\u001b[0m\u001b[0;36m0\u001b[0m\u001b[0;34m]\u001b[0m \u001b[0;34m>=\u001b[0m \u001b[0;36m5\u001b[0m\u001b[0;34m,\u001b[0m \u001b[0;34m\"Data must have at least 5 non-missing values.\"\u001b[0m\u001b[0;34m\u001b[0m\u001b[0;34m\u001b[0m\u001b[0m\n\u001b[0m\u001b[1;32m   1062\u001b[0m \u001b[0;34m\u001b[0m\u001b[0m\n\u001b[1;32m   1063\u001b[0m     \u001b[0;31m# Reset index (avoid duplicate axis error)\u001b[0m\u001b[0;34m\u001b[0m\u001b[0;34m\u001b[0m\u001b[0;34m\u001b[0m\u001b[0m\n",
      "\u001b[0;31mAssertionError\u001b[0m: Data must have at least 5 non-missing values."
     ]
    }
   ],
   "source": [
    "\n",
    "calculate_icc(alignment_x_trust_correlations_df, 'AD_Align_High_Text', 'AD_High_Trust', targets_column_name='participant_id')"
   ]
  },
  {
   "cell_type": "markdown",
   "id": "9bf01316-142e-49a0-ab7e-ad4760066a68",
   "metadata": {},
   "source": [
    "\n",
    "I have separate columns in the alignment_x_trust_correlations_dfn DataFrame for AD High Trust, AD Low Trust, etc. The relationships I want primarily need to understand are:\n",
    "\n",
    " - AD_Align_High_Text by AD_High_Trust\n",
    " - AD_Align_Low_Text by AD_Low_Trust\n",
    "\n",
    " - ST_Align_High_Text by ST_High_Trust\n",
    " - ST_Align_Low_Text by ST_Low_Trust"
   ]
  },
  {
   "cell_type": "code",
   "execution_count": 61,
   "id": "85375975-23e1-4b21-b28c-fdcd7ea9430e",
   "metadata": {},
   "outputs": [
    {
     "name": "stdout",
     "output_type": "stream",
     "text": [
      "Point-biserial Correlation (AD_Align_High_Text by AD_High_Trust):\n",
      "-0.14254941387335285\n",
      "Point-biserial Correlation (AD_Align_Low_Text by AD_Low_Trust):\n",
      "0.5295439763044246\n",
      "Point-biserial Correlation (ST_Align_High_Text by ST_High_Trust):\n",
      "0.12771726492674046\n",
      "Point-biserial Correlation (ST_Align_Low_Text by ST_Low_Trust):\n",
      "-0.0027825601658847295\n"
     ]
    }
   ],
   "source": [
    "\n",
    "from scipy.stats import pointbiserialr\n",
    "\n",
    "# Loop through desired groups\n",
    "relationships_str = '''AD_Align_High_Text by AD_High_Trust|AD_Align_Low_Text by AD_Low_Trust\n",
    "ST_Align_High_Text by ST_High_Trust|ST_Align_Low_Text by ST_Low_Trust'''\n",
    "\n",
    "for relationship_str in relationships_str.split('\\n'):\n",
    "    high_low_list = relationship_str.split('|')\n",
    "    high_variable_names_list = high_low_list[0].split(' by ')\n",
    "    low_variable_names_list = high_low_list[1].split(' by ')\n",
    "    \n",
    "    # Define column names for high trust rating and high alignment score column name\n",
    "    high_trust_rating_variable_name = high_variable_names_list[1]\n",
    "    high_alignment_score_column_name = high_variable_names_list[0]\n",
    "    \n",
    "    # Select data for the high trust group (assuming separate columns)\n",
    "    high_columns_list = ['participant_id', high_alignment_score_column_name, high_trust_rating_variable_name]\n",
    "    high_trust_data = alignment_x_trust_correlations_df[high_columns_list].dropna()\n",
    "    \n",
    "    # Define column names for low trust rating and low alignment score column name\n",
    "    low_trust_rating_variable_name = low_variable_names_list[1]\n",
    "    low_alignment_score_column_name = low_variable_names_list[0]\n",
    "    \n",
    "    # Select data for the low trust group (assuming separate columns)\n",
    "    low_columns_list = ['participant_id', low_alignment_score_column_name, low_trust_rating_variable_name]\n",
    "    low_trust_data = alignment_x_trust_correlations_df[low_columns_list].dropna()\n",
    "    # print(\n",
    "    #     high_trust_data.shape, high_trust_data[high_alignment_score_column_name].shape[0],\n",
    "    #     high_trust_data[high_trust_rating_variable_name].shape[0]\n",
    "    # ); continue\n",
    "    \n",
    "    # Calculate point-biserial correlation for high trust\n",
    "    high_trust_corr, _ = pointbiserialr(high_trust_data[high_alignment_score_column_name], high_trust_data[high_trust_rating_variable_name])\n",
    "    \n",
    "    # Calculate point-biserial correlation for low trust\n",
    "    low_trust_corr, _ = pointbiserialr(low_trust_data[low_alignment_score_column_name], low_trust_data[low_trust_rating_variable_name])\n",
    "    \n",
    "    # Print results for the current group\n",
    "    print(f'Point-biserial Correlation ({high_low_list[0]}):')\n",
    "    print(high_trust_corr)\n",
    "    print(f'Point-biserial Correlation ({high_low_list[1]}):')\n",
    "    print(low_trust_corr)"
   ]
  },
  {
   "cell_type": "code",
   "execution_count": null,
   "id": "aef24c05-2770-4085-a79b-1b1d5c2f9e5e",
   "metadata": {},
   "outputs": [],
   "source": []
  }
 ],
 "metadata": {
  "kernelspec": {
   "display_name": "ITM Analysis Reporting (Python 3.11.7)",
   "language": "python",
   "name": "itm_analysis_reporting"
  },
  "language_info": {
   "codemirror_mode": {
    "name": "ipython",
    "version": 3
   },
   "file_extension": ".py",
   "mimetype": "text/x-python",
   "name": "python",
   "nbconvert_exporter": "python",
   "pygments_lexer": "ipython3",
   "version": "3.7.12"
  }
 },
 "nbformat": 4,
 "nbformat_minor": 5
}

{
 "cells": [
  {
   "cell_type": "code",
   "execution_count": 12,
   "id": "b45d7c96-6fef-4207-90ab-d273172a97c3",
   "metadata": {},
   "outputs": [
    {
     "name": "stdout",
     "output_type": "stream",
     "text": [
      "Pretty printing has been turned OFF\n"
     ]
    }
   ],
   "source": [
    "\n",
    "%pprint"
   ]
  },
  {
   "cell_type": "code",
   "execution_count": 26,
   "id": "dccff9fa-8a7e-4f4e-8efb-31937047ba69",
   "metadata": {},
   "outputs": [
    {
     "data": {
      "text/plain": [
       "['AD_Align_High_Four', 'AD_Align_High_Sim', 'AD_Align_High_Text', 'AD_Align_Low_Four', 'AD_Align_Low_Sim', 'AD_Align_Low_Text', 'AD_High_Agree', 'AD_High_Alignsr', 'AD_High_Trust', 'AD_High_Trustworthy', 'AD_Low_Agree', 'AD_Low_Alignsr', 'AD_Low_Trust', 'AD_Low_Trustworthy', 'ST_Align_High_Four', 'ST_Align_High_Sim', 'ST_Align_High_Text', 'ST_Align_Low_Four', 'ST_Align_Low_Sim', 'ST_Align_Low_Text', 'ST_High_Agree', 'ST_High_Agree_Omni', 'ST_High_Alignsr', 'ST_High_Alignsr_Omni', 'ST_High_Trust', 'ST_High_Trust_Omni', 'ST_High_Trustworthy', 'ST_High_Trustworthy_Omni', 'ST_Low_Agree', 'ST_Low_Agree_Omni', 'ST_Low_Alignsr', 'ST_Low_Alignsr_Omni', 'ST_Low_Trust', 'ST_Low_Trust_Omni', 'ST_Low_Trustworthy', 'ST_Low_Trustworthy_Omni', 'participant_id']"
      ]
     },
     "execution_count": 26,
     "metadata": {},
     "output_type": "execute_result"
    }
   ],
   "source": [
    "\n",
    "from pandas import read_excel, to_datetime, Series\n",
    "\n",
    "file_path = '../data/xlsx/Alignment_x_Trust_Correlations.xlsx'\n",
    "alignment_x_trust_correlations_df = read_excel(file_path)\n",
    "alignment_x_trust_correlations_df.columns = alignment_x_trust_correlations_df.columns.map(lambda x: '_'.join([s.title() for s in x.split('_')]))\n",
    "alignment_x_trust_correlations_df.columns = alignment_x_trust_correlations_df.columns.map(lambda x: x[:2].upper() + x[2:])\n",
    "alignment_x_trust_correlations_df = alignment_x_trust_correlations_df.rename(columns={'PArticipantid': 'participant_id'})\n",
    "sorted(alignment_x_trust_correlations_df.columns)"
   ]
  },
  {
   "cell_type": "code",
   "execution_count": 39,
   "id": "fca243b0-4da9-4de0-aaa6-e0233df1e692",
   "metadata": {},
   "outputs": [],
   "source": [
    "\n",
    "import pingouin as pg\n",
    "\n",
    "def calculate_icc(participant_data, trust_rating_variable_name, alignment_score_variable_name, targets_column_name='participant_id'):\n",
    "  \"\"\"\n",
    "  Calculates ICC(2,1) for a given DataFrame.\n",
    "\n",
    "  Args:\n",
    "      participant_data: The DataFrame containing participant data.\n",
    "      trust_rating_variable_name: The column name for the trust rating variable.\n",
    "      alignment_score_variable_name: The column name for the specific alignment score variable (e.g., AD_Align_High_Text).\n",
    "      targets_column_name: The column name for participant ID. Defaults to 'participant_id'.\n",
    "\n",
    "  Returns:\n",
    "      A pingouin ICC results object.\n",
    "  \"\"\"\n",
    "  return pg.intraclass_corr(\n",
    "      data=participant_data,\n",
    "      targets=targets_column_name,\n",
    "      raters=trust_rating_variable_name,\n",
    "      ratings=alignment_score_variable_name,\n",
    "      # nan_policy='omit'\n",
    "  )"
   ]
  },
  {
   "cell_type": "markdown",
   "id": "9bf01316-142e-49a0-ab7e-ad4760066a68",
   "metadata": {},
   "source": [
    "\n",
    "I have separate columns in the alignment_x_trust_correlations_dfn DataFrame for AD High Trust, AD Low Trust, etc. The relationships I want primarily need to understand are:\n",
    "\n",
    " - AD_Align_High_Text by AD_High_Trust\n",
    " - AD_Align_Low_Text by AD_Low_Trust\n",
    "\n",
    " - ST_Align_High_Text by ST_High_Trust\n",
    " - ST_Align_Low_Text by ST_Low_Trust"
   ]
  },
  {
   "cell_type": "code",
   "execution_count": 61,
   "id": "85375975-23e1-4b21-b28c-fdcd7ea9430e",
   "metadata": {},
   "outputs": [
    {
     "name": "stdout",
     "output_type": "stream",
     "text": [
      "Point-biserial Correlation (AD_Align_High_Text by AD_High_Trust):\n",
      "-0.14254941387335285\n",
      "Point-biserial Correlation (AD_Align_Low_Text by AD_Low_Trust):\n",
      "0.5295439763044246\n",
      "Point-biserial Correlation (ST_Align_High_Text by ST_High_Trust):\n",
      "0.12771726492674046\n",
      "Point-biserial Correlation (ST_Align_Low_Text by ST_Low_Trust):\n",
      "-0.0027825601658847295\n"
     ]
    }
   ],
   "source": [
    "\n",
    "from scipy.stats import pointbiserialr\n",
    "\n",
    "# Loop through desired groups\n",
    "relationships_str = '''AD_Align_High_Text by AD_High_Trust|AD_Align_Low_Text by AD_Low_Trust\n",
    "ST_Align_High_Text by ST_High_Trust|ST_Align_Low_Text by ST_Low_Trust'''\n",
    "\n",
    "for relationship_str in relationships_str.split('\\n'):\n",
    "    high_low_list = relationship_str.split('|')\n",
    "    high_variable_names_list = high_low_list[0].split(' by ')\n",
    "    low_variable_names_list = high_low_list[1].split(' by ')\n",
    "    \n",
    "    # Define column names for high trust rating and high alignment score column name\n",
    "    high_trust_rating_variable_name = high_variable_names_list[1]\n",
    "    high_alignment_score_column_name = high_variable_names_list[0]\n",
    "    \n",
    "    # Select data for the high trust group (assuming separate columns)\n",
    "    high_columns_list = ['participant_id', high_alignment_score_column_name, high_trust_rating_variable_name]\n",
    "    high_trust_data = alignment_x_trust_correlations_df[high_columns_list].dropna()\n",
    "    \n",
    "    # Define column names for low trust rating and low alignment score column name\n",
    "    low_trust_rating_variable_name = low_variable_names_list[1]\n",
    "    low_alignment_score_column_name = low_variable_names_list[0]\n",
    "    \n",
    "    # Select data for the low trust group (assuming separate columns)\n",
    "    low_columns_list = ['participant_id', low_alignment_score_column_name, low_trust_rating_variable_name]\n",
    "    low_trust_data = alignment_x_trust_correlations_df[low_columns_list].dropna()\n",
    "    # print(\n",
    "    #     high_trust_data.shape, high_trust_data[high_alignment_score_column_name].shape[0],\n",
    "    #     high_trust_data[high_trust_rating_variable_name].shape[0]\n",
    "    # ); continue\n",
    "    \n",
    "    # Calculate point-biserial correlation for high trust\n",
    "    high_trust_corr, _ = pointbiserialr(high_trust_data[high_alignment_score_column_name], high_trust_data[high_trust_rating_variable_name])\n",
    "    \n",
    "    # Calculate point-biserial correlation for low trust\n",
    "    low_trust_corr, _ = pointbiserialr(low_trust_data[low_alignment_score_column_name], low_trust_data[low_trust_rating_variable_name])\n",
    "    \n",
    "    # Print results for the current group\n",
    "    print(f'Point-biserial Correlation ({high_low_list[0]}):')\n",
    "    print(high_trust_corr)\n",
    "    print(f'Point-biserial Correlation ({high_low_list[1]}):')\n",
    "    print(low_trust_corr)"
   ]
  },
  {
   "cell_type": "code",
   "execution_count": null,
   "id": "aef24c05-2770-4085-a79b-1b1d5c2f9e5e",
   "metadata": {},
   "outputs": [],
   "source": []
  }
 ],
 "metadata": {
  "kernelspec": {
   "display_name": "ITM Analysis Reporting (Python 3.11.7)",
   "language": "python",
   "name": "itm_analysis_reporting"
  },
  "language_info": {
   "codemirror_mode": {
    "name": "ipython",
    "version": 3
   },
   "file_extension": ".py",
   "mimetype": "text/x-python",
   "name": "python",
   "nbconvert_exporter": "python",
   "pygments_lexer": "ipython3",
   "version": "3.7.12"
  }
 },
 "nbformat": 4,
 "nbformat_minor": 5
}

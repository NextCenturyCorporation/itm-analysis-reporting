{
 "cells": [
  {
   "cell_type": "code",
   "execution_count": 1,
   "id": "a51ab3c6-9bc9-4299-86d6-64763b66e8f7",
   "metadata": {
    "tags": []
   },
   "outputs": [
    {
     "name": "stdout",
     "output_type": "stream",
     "text": [
      "Pretty printing has been turned OFF\n"
     ]
    }
   ],
   "source": [
    "\n",
    "%pprint\n",
    "import sys\n",
    "sys.path.insert(1, '../py')"
   ]
  },
  {
   "cell_type": "code",
   "execution_count": 2,
   "id": "d5c96aaf-34eb-4e78-b477-d2e6bd721e2b",
   "metadata": {},
   "outputs": [],
   "source": [
    "\n",
    "from FRVRS import nu\n",
    "import os\n",
    "import os.path as osp\n",
    "import re"
   ]
  },
  {
   "cell_type": "markdown",
   "id": "c04ffe8e-6573-470f-aef5-348522a0de15",
   "metadata": {},
   "source": [
    "\n",
    "# Search for Scenario and Probe Vocabulary"
   ]
  },
  {
   "cell_type": "code",
   "execution_count": 3,
   "id": "e474dff1-2f02-4ab6-b5f6-61b8eda7af40",
   "metadata": {},
   "outputs": [
    {
     "name": "stdout",
     "output_type": "stream",
     "text": [
      "No pickle exists for domain_doc_ners_df - attempting to load /mnt/c/Users/DaveBabbitt/Documents/GitHub/itm-analysis-reporting/saves/csv/domain_doc_ners_df.csv.\n",
      "['bert_word', 'bert_entity', 'bert_score', 'bert_start', 'bert_end', 'file_path', 'nlp_word', 'nlp_tag', 'nlp_type', 'nlp_pofs', 'ent_phrase', 'ent_type', 'ent_start', 'ent_end']\n"
     ]
    }
   ],
   "source": [
    "\n",
    "# Load the NER entities from a CSV\n",
    "if nu.csv_exists('domain_doc_ners_df'):\n",
    "    domain_doc_ners_df = nu.load_data_frames(domain_doc_ners_df='domain_doc_ners_df')['domain_doc_ners_df']\n",
    "    print(domain_doc_ners_df.columns.tolist())"
   ]
  },
  {
   "cell_type": "code",
   "execution_count": 4,
   "id": "92c495b3-e3f3-43c1-8195-52504fa12e0d",
   "metadata": {},
   "outputs": [
    {
     "name": "stdout",
     "output_type": "stream",
     "text": [
      "Attempting to load /mnt/c/Users/DaveBabbitt/Documents/GitHub/itm-analysis-reporting/saves/pkl/frvrs_logs_df.pkl.\n",
      "Argument 'placement' has incorrect type (expected pandas._libs.internals.BlockPlacement, got slice)\n",
      "No pickle exists for frvrs_logs_df - attempting to load /mnt/c/Users/DaveBabbitt/Documents/GitHub/itm-analysis-reporting/saves/csv/frvrs_logs_df.csv.\n",
      "(829116, 114)\n"
     ]
    }
   ],
   "source": [
    "\n",
    "# Attempt to load the logs data frame\n",
    "frvrs_logs_df = nu.load_data_frames(frvrs_logs_df='frvrs_logs_df')['frvrs_logs_df']\n",
    "print(frvrs_logs_df.shape)"
   ]
  },
  {
   "cell_type": "code",
   "execution_count": 9,
   "id": "8779ac14-dba1-49c8-9833-24c12d459a0f",
   "metadata": {},
   "outputs": [
    {
     "name": "stdout",
     "output_type": "stream",
     "text": [
      "['bert_word', 'bert_entity', 'bert_score', 'file_path', 'nlp_word', 'nlp_tag', 'nlp_type', 'nlp_pofs', 'ent_phrase', 'ent_type', 'ent_start', 'ent_end', 'is_probe', 'is_probe_probability']\n",
      "Saving to /mnt/c/Users/DaveBabbitt/Documents/GitHub/itm-analysis-reporting/saves/csv/domain_doc_ners_df.csv\n"
     ]
    }
   ],
   "source": [
    "\n",
    "# Create a list of starting phrases to label for model training\n",
    "df = nu.load_csv(csv_name='domain_doc_ners_df')\n",
    "print(df.columns.tolist())\n",
    "base_mask_series = df.is_probe\n",
    "domain_doc_ners_df['is_probe'] = False\n",
    "\n",
    "# Add the BERT words\n",
    "mask_series = base_mask_series & ~df.bert_word.isnull()\n",
    "bert_words_list = df[mask_series].bert_word.unique().tolist()\n",
    "mask_series = domain_doc_ners_df.bert_word.isin(bert_words_list)\n",
    "domain_doc_ners_df.loc[mask_series, 'is_probe'] = True\n",
    "\n",
    "# Add the SpaCy words\n",
    "mask_series = base_mask_series & ~df.nlp_word.isnull()\n",
    "nlp_words_list = df[mask_series].nlp_word.unique().tolist()\n",
    "mask_series = domain_doc_ners_df.nlp_word.isin(nlp_words_list)\n",
    "domain_doc_ners_df.loc[mask_series, 'is_probe'] = True\n",
    "\n",
    "# Add the SpaCy entities\n",
    "mask_series = base_mask_series & ~df.ent_phrase.isnull()\n",
    "ent_phrases_list = df[mask_series].ent_phrase.unique().tolist()\n",
    "mask_series = domain_doc_ners_df.ent_phrase.isin(ent_phrases_list)\n",
    "domain_doc_ners_df.loc[mask_series, 'is_probe'] = True\n",
    "\n",
    "# Create a set of unique relevant words and save the data frame\n",
    "canonical_phrases = list(set(bert_words_list + nlp_words_list + ent_phrases_list))\n",
    "nu.save_data_frames(domain_doc_ners_df=domain_doc_ners_df)"
   ]
  },
  {
   "cell_type": "markdown",
   "id": "ae77ccb8-371d-4694-aecd-4a53638292a0",
   "metadata": {},
   "source": [
    "\n",
    "## Clean up ent_phrase column"
   ]
  },
  {
   "cell_type": "code",
   "execution_count": 10,
   "id": "44a95c3e-2be1-4498-9019-4f1d40c5e991",
   "metadata": {},
   "outputs": [
    {
     "data": {
      "text/html": [
       "<style>#sk-container-id-1 {color: black;}#sk-container-id-1 pre{padding: 0;}#sk-container-id-1 div.sk-toggleable {background-color: white;}#sk-container-id-1 label.sk-toggleable__label {cursor: pointer;display: block;width: 100%;margin-bottom: 0;padding: 0.3em;box-sizing: border-box;text-align: center;}#sk-container-id-1 label.sk-toggleable__label-arrow:before {content: \"▸\";float: left;margin-right: 0.25em;color: #696969;}#sk-container-id-1 label.sk-toggleable__label-arrow:hover:before {color: black;}#sk-container-id-1 div.sk-estimator:hover label.sk-toggleable__label-arrow:before {color: black;}#sk-container-id-1 div.sk-toggleable__content {max-height: 0;max-width: 0;overflow: hidden;text-align: left;background-color: #f0f8ff;}#sk-container-id-1 div.sk-toggleable__content pre {margin: 0.2em;color: black;border-radius: 0.25em;background-color: #f0f8ff;}#sk-container-id-1 input.sk-toggleable__control:checked~div.sk-toggleable__content {max-height: 200px;max-width: 100%;overflow: auto;}#sk-container-id-1 input.sk-toggleable__control:checked~label.sk-toggleable__label-arrow:before {content: \"▾\";}#sk-container-id-1 div.sk-estimator input.sk-toggleable__control:checked~label.sk-toggleable__label {background-color: #d4ebff;}#sk-container-id-1 div.sk-label input.sk-toggleable__control:checked~label.sk-toggleable__label {background-color: #d4ebff;}#sk-container-id-1 input.sk-hidden--visually {border: 0;clip: rect(1px 1px 1px 1px);clip: rect(1px, 1px, 1px, 1px);height: 1px;margin: -1px;overflow: hidden;padding: 0;position: absolute;width: 1px;}#sk-container-id-1 div.sk-estimator {font-family: monospace;background-color: #f0f8ff;border: 1px dotted black;border-radius: 0.25em;box-sizing: border-box;margin-bottom: 0.5em;}#sk-container-id-1 div.sk-estimator:hover {background-color: #d4ebff;}#sk-container-id-1 div.sk-parallel-item::after {content: \"\";width: 100%;border-bottom: 1px solid gray;flex-grow: 1;}#sk-container-id-1 div.sk-label:hover label.sk-toggleable__label {background-color: #d4ebff;}#sk-container-id-1 div.sk-serial::before {content: \"\";position: absolute;border-left: 1px solid gray;box-sizing: border-box;top: 0;bottom: 0;left: 50%;z-index: 0;}#sk-container-id-1 div.sk-serial {display: flex;flex-direction: column;align-items: center;background-color: white;padding-right: 0.2em;padding-left: 0.2em;position: relative;}#sk-container-id-1 div.sk-item {position: relative;z-index: 1;}#sk-container-id-1 div.sk-parallel {display: flex;align-items: stretch;justify-content: center;background-color: white;position: relative;}#sk-container-id-1 div.sk-item::before, #sk-container-id-1 div.sk-parallel-item::before {content: \"\";position: absolute;border-left: 1px solid gray;box-sizing: border-box;top: 0;bottom: 0;left: 50%;z-index: -1;}#sk-container-id-1 div.sk-parallel-item {display: flex;flex-direction: column;z-index: 1;position: relative;background-color: white;}#sk-container-id-1 div.sk-parallel-item:first-child::after {align-self: flex-end;width: 50%;}#sk-container-id-1 div.sk-parallel-item:last-child::after {align-self: flex-start;width: 50%;}#sk-container-id-1 div.sk-parallel-item:only-child::after {width: 0;}#sk-container-id-1 div.sk-dashed-wrapped {border: 1px dashed gray;margin: 0 0.4em 0.5em 0.4em;box-sizing: border-box;padding-bottom: 0.4em;background-color: white;}#sk-container-id-1 div.sk-label label {font-family: monospace;font-weight: bold;display: inline-block;line-height: 1.2em;}#sk-container-id-1 div.sk-label-container {text-align: center;}#sk-container-id-1 div.sk-container {/* jupyter's `normalize.less` sets `[hidden] { display: none; }` but bootstrap.min.css set `[hidden] { display: none !important; }` so we also need the `!important` here to be able to override the default hidden behavior on the sphinx rendered scikit-learn.org. See: https://github.com/scikit-learn/scikit-learn/issues/21755 */display: inline-block !important;position: relative;}#sk-container-id-1 div.sk-text-repr-fallback {display: none;}</style><div id=\"sk-container-id-1\" class=\"sk-top-container\"><div class=\"sk-text-repr-fallback\"><pre>SGDClassifier(loss=&#x27;log_loss&#x27;, warm_start=True)</pre><b>In a Jupyter environment, please rerun this cell to show the HTML representation or trust the notebook. <br />On GitHub, the HTML representation is unable to render, please try loading this page with nbviewer.org.</b></div><div class=\"sk-container\" hidden><div class=\"sk-item\"><div class=\"sk-estimator sk-toggleable\"><input class=\"sk-toggleable__control sk-hidden--visually\" id=\"sk-estimator-id-1\" type=\"checkbox\" checked><label for=\"sk-estimator-id-1\" class=\"sk-toggleable__label sk-toggleable__label-arrow\">SGDClassifier</label><div class=\"sk-toggleable__content\"><pre>SGDClassifier(loss=&#x27;log_loss&#x27;, warm_start=True)</pre></div></div></div></div></div>"
      ],
      "text/plain": [
       "SGDClassifier(loss='log_loss', warm_start=True)"
      ]
     },
     "execution_count": 10,
     "metadata": {},
     "output_type": "execute_result"
    }
   ],
   "source": [
    "\n",
    "from sklearn.feature_extraction.text import CountVectorizer, TfidfTransformer\n",
    "from sklearn.linear_model import SGDClassifier\n",
    "\n",
    "vectorizer = CountVectorizer(\n",
    "    lowercase=True, ngram_range=(1, 3)\n",
    ")\n",
    "tfidf_transformer = TfidfTransformer(\n",
    "    norm='l1', smooth_idf=True, sublinear_tf=False, use_idf=True\n",
    ")\n",
    "classifier = SGDClassifier(loss='log_loss', warm_start=True)\n",
    "mask_series = domain_doc_ners_df.ent_phrase.isnull()\n",
    "columns_list = ['ent_phrase', 'is_probe']\n",
    "df = domain_doc_ners_df[~mask_series][columns_list]\n",
    "df.is_probe = df.is_probe.map(\n",
    "    lambda x: {True: 1, False: 0}.get(x, x)\n",
    ")\n",
    "train_data_list = df.ent_phrase.tolist()\n",
    "train_labels_list = df.is_probe.values\n",
    "X_train_counts = vectorizer.fit_transform(train_data_list)\n",
    "X_train_tfidf = tfidf_transformer.fit_transform(X_train_counts)\n",
    "\n",
    "# Train on initial data\n",
    "classifier.fit(X_train_tfidf, train_labels_list)"
   ]
  },
  {
   "cell_type": "code",
   "execution_count": 11,
   "id": "8613b233-ffe6-42cb-8e06-a11258ba8a74",
   "metadata": {},
   "outputs": [
    {
     "data": {
      "text/plain": [
       "'2007;44(2):148–152'"
      ]
     },
     "metadata": {},
     "output_type": "display_data"
    },
    {
     "data": {
      "text/plain": [
       "0.0027281047226410384"
      ]
     },
     "metadata": {},
     "output_type": "display_data"
    }
   ],
   "source": [
    "\n",
    "mask_series = domain_doc_ners_df.ent_phrase.isnull()\n",
    "sample_ent_phrase = domain_doc_ners_df[~mask_series].sample(1).ent_phrase.squeeze()\n",
    "display(sample_ent_phrase)\n",
    "X_test = tfidf_transformer.transform(vectorizer.transform([sample_ent_phrase])).toarray()\n",
    "display(classifier.predict_proba(X_test)[0][1])"
   ]
  },
  {
   "cell_type": "code",
   "execution_count": 12,
   "id": "10eb2b18-a5cf-46a4-97c0-4221c6d3ffa1",
   "metadata": {},
   "outputs": [],
   "source": [
    "\n",
    "if 'is_probe_probability' not in domain_doc_ners_df.columns: domain_doc_ners_df['is_probe_probability'] = 0.0\n",
    "mask_series = domain_doc_ners_df.ent_phrase.isnull()\n",
    "domain_doc_ners_df.loc[~mask_series, 'is_probe_probability'] = domain_doc_ners_df[~mask_series].ent_phrase.map(\n",
    "    lambda x: classifier.predict_proba(tfidf_transformer.transform(vectorizer.transform([x])).toarray())[0][1]\n",
    ")"
   ]
  },
  {
   "cell_type": "code",
   "execution_count": 15,
   "id": "5a332e87-a2b0-4e1e-b395-4ebcba2833e4",
   "metadata": {},
   "outputs": [
    {
     "name": "stdout",
     "output_type": "stream",
     "text": [
      "['bert_word', 'bert_entity', 'bert_score', 'bert_start', 'bert_end', 'file_path', 'nlp_word', 'nlp_tag', 'nlp_type', 'nlp_pofs', 'ent_phrase', 'ent_type', 'ent_start', 'ent_end', 'is_probe', 'is_probe_probability']\n"
     ]
    },
    {
     "data": {
      "text/html": [
       "<div>\n",
       "<style scoped>\n",
       "    .dataframe tbody tr th:only-of-type {\n",
       "        vertical-align: middle;\n",
       "    }\n",
       "\n",
       "    .dataframe tbody tr th {\n",
       "        vertical-align: top;\n",
       "    }\n",
       "\n",
       "    .dataframe thead th {\n",
       "        text-align: right;\n",
       "    }\n",
       "</style>\n",
       "<table border=\"1\" class=\"dataframe\">\n",
       "  <thead>\n",
       "    <tr style=\"text-align: right;\">\n",
       "      <th></th>\n",
       "      <th>ent_phrase</th>\n",
       "      <th>ent_type</th>\n",
       "      <th>is_probe</th>\n",
       "      <th>is_probe_probability</th>\n",
       "    </tr>\n",
       "  </thead>\n",
       "  <tbody>\n",
       "    <tr>\n",
       "      <th>743251</th>\n",
       "      <td>Combat Ethics</td>\n",
       "      <td>ORG</td>\n",
       "      <td>False</td>\n",
       "      <td>0.003823</td>\n",
       "    </tr>\n",
       "    <tr>\n",
       "      <th>743253</th>\n",
       "      <td>COMBAT ETHICS</td>\n",
       "      <td>ORG</td>\n",
       "      <td>False</td>\n",
       "      <td>0.003823</td>\n",
       "    </tr>\n",
       "    <tr>\n",
       "      <th>743256</th>\n",
       "      <td>COMBAT ETHICS</td>\n",
       "      <td>ORG</td>\n",
       "      <td>False</td>\n",
       "      <td>0.003823</td>\n",
       "    </tr>\n",
       "    <tr>\n",
       "      <th>743290</th>\n",
       "      <td>Combat Ethics</td>\n",
       "      <td>ORG</td>\n",
       "      <td>False</td>\n",
       "      <td>0.003823</td>\n",
       "    </tr>\n",
       "    <tr>\n",
       "      <th>743905</th>\n",
       "      <td>Combat Ethics</td>\n",
       "      <td>ORG</td>\n",
       "      <td>False</td>\n",
       "      <td>0.003823</td>\n",
       "    </tr>\n",
       "    <tr>\n",
       "      <th>743553</th>\n",
       "      <td>Combat Ethics</td>\n",
       "      <td>ORG</td>\n",
       "      <td>False</td>\n",
       "      <td>0.003823</td>\n",
       "    </tr>\n",
       "    <tr>\n",
       "      <th>743724</th>\n",
       "      <td>Combat Ethics</td>\n",
       "      <td>ORG</td>\n",
       "      <td>False</td>\n",
       "      <td>0.003823</td>\n",
       "    </tr>\n",
       "    <tr>\n",
       "      <th>743346</th>\n",
       "      <td>Combat Ethics</td>\n",
       "      <td>ORG</td>\n",
       "      <td>False</td>\n",
       "      <td>0.003823</td>\n",
       "    </tr>\n",
       "    <tr>\n",
       "      <th>744226</th>\n",
       "      <td>Combat Ethics</td>\n",
       "      <td>ORG</td>\n",
       "      <td>False</td>\n",
       "      <td>0.003823</td>\n",
       "    </tr>\n",
       "    <tr>\n",
       "      <th>275284</th>\n",
       "      <td>Combat Duty</td>\n",
       "      <td>ORG</td>\n",
       "      <td>False</td>\n",
       "      <td>0.003600</td>\n",
       "    </tr>\n",
       "    <tr>\n",
       "      <th>744997</th>\n",
       "      <td>Katz P. Combat</td>\n",
       "      <td>PERSON</td>\n",
       "      <td>False</td>\n",
       "      <td>0.003587</td>\n",
       "    </tr>\n",
       "    <tr>\n",
       "      <th>924845</th>\n",
       "      <td>Combat\\nBeneficence</td>\n",
       "      <td>ORG</td>\n",
       "      <td>False</td>\n",
       "      <td>0.003574</td>\n",
       "    </tr>\n",
       "    <tr>\n",
       "      <th>213239</th>\n",
       "      <td>Combat Conditioning</td>\n",
       "      <td>PERSON</td>\n",
       "      <td>False</td>\n",
       "      <td>0.003553</td>\n",
       "    </tr>\n",
       "    <tr>\n",
       "      <th>212894</th>\n",
       "      <td>Combat Conditioning</td>\n",
       "      <td>PERSON</td>\n",
       "      <td>False</td>\n",
       "      <td>0.003553</td>\n",
       "    </tr>\n",
       "    <tr>\n",
       "      <th>1244690</th>\n",
       "      <td>Combat Theaters</td>\n",
       "      <td>WORK_OF_ART</td>\n",
       "      <td>False</td>\n",
       "      <td>0.003544</td>\n",
       "    </tr>\n",
       "    <tr>\n",
       "      <th>1294481</th>\n",
       "      <td>Combat Camera</td>\n",
       "      <td>ORG</td>\n",
       "      <td>False</td>\n",
       "      <td>0.003520</td>\n",
       "    </tr>\n",
       "    <tr>\n",
       "      <th>152540</th>\n",
       "      <td>Combat Trains</td>\n",
       "      <td>PRODUCT</td>\n",
       "      <td>False</td>\n",
       "      <td>0.003520</td>\n",
       "    </tr>\n",
       "    <tr>\n",
       "      <th>383256</th>\n",
       "      <td>HemCon ChitoGauze</td>\n",
       "      <td>PERSON</td>\n",
       "      <td>False</td>\n",
       "      <td>0.003426</td>\n",
       "    </tr>\n",
       "    <tr>\n",
       "      <th>481281</th>\n",
       "      <td>Combat Casualty Care</td>\n",
       "      <td>WORK_OF_ART</td>\n",
       "      <td>False</td>\n",
       "      <td>0.003257</td>\n",
       "    </tr>\n",
       "    <tr>\n",
       "      <th>361286</th>\n",
       "      <td>Combat Casualty Care:</td>\n",
       "      <td>PRODUCT</td>\n",
       "      <td>False</td>\n",
       "      <td>0.003257</td>\n",
       "    </tr>\n",
       "  </tbody>\n",
       "</table>\n",
       "</div>"
      ],
      "text/plain": [
       "                    ent_phrase     ent_type  is_probe  is_probe_probability\n",
       "743251           Combat Ethics          ORG     False              0.003823\n",
       "743253           COMBAT ETHICS          ORG     False              0.003823\n",
       "743256           COMBAT ETHICS          ORG     False              0.003823\n",
       "743290           Combat Ethics          ORG     False              0.003823\n",
       "743905           Combat Ethics          ORG     False              0.003823\n",
       "743553           Combat Ethics          ORG     False              0.003823\n",
       "743724           Combat Ethics          ORG     False              0.003823\n",
       "743346           Combat Ethics          ORG     False              0.003823\n",
       "744226           Combat Ethics          ORG     False              0.003823\n",
       "275284             Combat Duty          ORG     False              0.003600\n",
       "744997          Katz P. Combat       PERSON     False              0.003587\n",
       "924845     Combat\\nBeneficence          ORG     False              0.003574\n",
       "213239     Combat Conditioning       PERSON     False              0.003553\n",
       "212894     Combat Conditioning       PERSON     False              0.003553\n",
       "1244690        Combat Theaters  WORK_OF_ART     False              0.003544\n",
       "1294481          Combat Camera          ORG     False              0.003520\n",
       "152540           Combat Trains      PRODUCT     False              0.003520\n",
       "383256       HemCon ChitoGauze       PERSON     False              0.003426\n",
       "481281    Combat Casualty Care  WORK_OF_ART     False              0.003257\n",
       "361286   Combat Casualty Care:      PRODUCT     False              0.003257"
      ]
     },
     "metadata": {},
     "output_type": "display_data"
    }
   ],
   "source": [
    "\n",
    "mask_series = ~domain_doc_ners_df.is_probe & (domain_doc_ners_df.is_probe_probability > 0.0)\n",
    "analysis_columns = [\n",
    "    'bert_word', 'bert_entity', 'bert_score', 'nlp_word', 'nlp_tag', 'nlp_type', 'nlp_pofs', 'ent_phrase', 'ent_type',\n",
    "    'is_probe', 'is_probe_probability'\n",
    "]\n",
    "print(domain_doc_ners_df.columns.tolist())\n",
    "display(domain_doc_ners_df[mask_series][analysis_columns].sort_values('is_probe_probability', ascending=False).head(60).tail(20).dropna(axis='columns', how='all'))"
   ]
  },
  {
   "cell_type": "markdown",
   "id": "3eddc378-ffc1-46b1-a5ee-1ce9f2d14067",
   "metadata": {},
   "source": [
    "\n",
    "### ent_phrase Maintenance"
   ]
  },
  {
   "cell_type": "code",
   "execution_count": 31,
   "id": "c4b49595-5b8e-49b5-8ba1-ca8f82a23622",
   "metadata": {},
   "outputs": [
    {
     "name": "stdout",
     "output_type": "stream",
     "text": [
      "['airway', 'celox', 'chest', 'chin', 'chito', 'circulation', 'compression', 'decompress', 'dressings', 'gauze', 'hemorrhage', 'hemostatic', 'jaw', 'junctional', 'kaolin', 'keenan', 'lifesaver', 'limb', 'nasopharyngeal', 'needle', 'pneumatic', 'quickclot', 'tourniquet', 'trauma', 'triage', 'unconscious', 'wounds']\n"
     ]
    }
   ],
   "source": [
    "\n",
    "# test_words_list = ' '.join([str(x).lower() for x in domain_doc_ners_df[domain_doc_ners_df.is_probe].ent_phrase.tolist()])\n",
    "# print(sorted(set(re.compile(r'[\\s/◻&‡:†®−\\.•,-]+').split(test_words_list))))\n",
    "test_words_list = [\n",
    "    'airway', 'celox', 'chest', 'chin', 'chito', 'circulation', 'compression', 'decompress', 'dressings', 'gauze', 'hemorrhage', 'hemostatic',\n",
    "    'jaw', 'junctional', 'kaolin', 'keenan', 'lifesaver', 'limb', 'nasopharyngeal', 'needle', 'pneumatic', 'quickclot', 'tourniquet', 'trauma', 'triage',\n",
    "    'unconscious', 'wounds'\n",
    "]\n",
    "word_analysis_columns = ['file_path'] + analysis_columns\n",
    "print(sorted(set(test_words_list)))"
   ]
  },
  {
   "cell_type": "code",
   "execution_count": 91,
   "id": "f1dd6f45-4e2b-4afe-8a80-2dfa75001f2d",
   "metadata": {},
   "outputs": [
    {
     "name": "stdout",
     "output_type": "stream",
     "text": [
      "pop from empty list\n"
     ]
    }
   ],
   "source": [
    "\n",
    "try:\n",
    "    word_str = test_words_list.pop()\n",
    "    mask_series = domain_doc_ners_df.ent_phrase.map(lambda x: word_str.lower() in str(x).lower()) & domain_doc_ners_df.is_probe\n",
    "    df = domain_doc_ners_df[mask_series][word_analysis_columns]\n",
    "    if df.shape[0]:\n",
    "        display(word_str)\n",
    "        df.file_path = df.file_path.map(lambda x: str(x).replace('../data/Domain_Knowledge/', ''))\n",
    "        display(df.dropna(axis='columns', how='all'))\n",
    "except Exception as e: print(str(e).strip())"
   ]
  },
  {
   "cell_type": "markdown",
   "id": "c74e3572-4a3f-4af3-82ea-cf9da22c9a55",
   "metadata": {},
   "source": [
    "\n",
    "----"
   ]
  },
  {
   "cell_type": "code",
   "execution_count": 95,
   "id": "8fecc9e5-901f-4666-8062-9500bd69eaec",
   "metadata": {},
   "outputs": [
    {
     "name": "stdout",
     "output_type": "stream",
     "text": [
      "Saving to /mnt/c/Users/DaveBabbitt/Documents/GitHub/itm-analysis-reporting/saves/csv/domain_doc_ners_df.csv\n"
     ]
    },
    {
     "data": {
      "text/html": [
       "<div>\n",
       "<style scoped>\n",
       "    .dataframe tbody tr th:only-of-type {\n",
       "        vertical-align: middle;\n",
       "    }\n",
       "\n",
       "    .dataframe tbody tr th {\n",
       "        vertical-align: top;\n",
       "    }\n",
       "\n",
       "    .dataframe thead th {\n",
       "        text-align: right;\n",
       "    }\n",
       "</style>\n",
       "<table border=\"1\" class=\"dataframe\">\n",
       "  <thead>\n",
       "    <tr style=\"text-align: right;\">\n",
       "      <th></th>\n",
       "      <th>file_path</th>\n",
       "      <th>ent_phrase</th>\n",
       "      <th>ent_type</th>\n",
       "      <th>is_probe</th>\n",
       "      <th>is_probe_probability</th>\n",
       "    </tr>\n",
       "  </thead>\n",
       "  <tbody>\n",
       "    <tr>\n",
       "      <th>38372</th>\n",
       "      <td>Prolonged_Casualty_Care_Guidelines_21_Dec_2021...</td>\n",
       "      <td>Tactical Triage Protocol \\n \\n \\nProlonged Cas...</td>\n",
       "      <td>WORK_OF_ART</td>\n",
       "      <td>False</td>\n",
       "      <td>0.002818</td>\n",
       "    </tr>\n",
       "    <tr>\n",
       "      <th>38347</th>\n",
       "      <td>Prolonged_Casualty_Care_Guidelines_21_Dec_2021...</td>\n",
       "      <td>Prolonged Casualty Care Guidelines \\nCPG</td>\n",
       "      <td>WORK_OF_ART</td>\n",
       "      <td>False</td>\n",
       "      <td>0.002744</td>\n",
       "    </tr>\n",
       "    <tr>\n",
       "      <th>37733</th>\n",
       "      <td>Prolonged_Casualty_Care_Guidelines_21_Dec_2021...</td>\n",
       "      <td>Prolonged Field Care CPG</td>\n",
       "      <td>WORK_OF_ART</td>\n",
       "      <td>False</td>\n",
       "      <td>0.002733</td>\n",
       "    </tr>\n",
       "    <tr>\n",
       "      <th>38143</th>\n",
       "      <td>Prolonged_Casualty_Care_Guidelines_21_Dec_2021...</td>\n",
       "      <td>https://jts.amedd.army.mil/assets/docs/cpgs/Da...</td>\n",
       "      <td>PERSON</td>\n",
       "      <td>False</td>\n",
       "      <td>0.002726</td>\n",
       "    </tr>\n",
       "    <tr>\n",
       "      <th>38269</th>\n",
       "      <td>Prolonged_Casualty_Care_Guidelines_21_Dec_2021...</td>\n",
       "      <td>https://jts.amedd.army.mil/assets/docs/cpgs/Bu...</td>\n",
       "      <td>ORG</td>\n",
       "      <td>False</td>\n",
       "      <td>0.002724</td>\n",
       "    </tr>\n",
       "    <tr>\n",
       "      <th>...</th>\n",
       "      <td>...</td>\n",
       "      <td>...</td>\n",
       "      <td>...</td>\n",
       "      <td>...</td>\n",
       "      <td>...</td>\n",
       "    </tr>\n",
       "    <tr>\n",
       "      <th>464501</th>\n",
       "      <td>Fundamentals of Military Medicine/Fund ch 38.txt</td>\n",
       "      <td>CPG</td>\n",
       "      <td>ORG</td>\n",
       "      <td>False</td>\n",
       "      <td>0.002635</td>\n",
       "    </tr>\n",
       "    <tr>\n",
       "      <th>464502</th>\n",
       "      <td>Fundamentals of Military Medicine/Fund ch 38.txt</td>\n",
       "      <td>CPG</td>\n",
       "      <td>ORG</td>\n",
       "      <td>False</td>\n",
       "      <td>0.002635</td>\n",
       "    </tr>\n",
       "    <tr>\n",
       "      <th>481139</th>\n",
       "      <td>Fundamentals of Military Medicine/Fund ch 39.txt</td>\n",
       "      <td>CPG</td>\n",
       "      <td>ORG</td>\n",
       "      <td>False</td>\n",
       "      <td>0.002635</td>\n",
       "    </tr>\n",
       "    <tr>\n",
       "      <th>481193</th>\n",
       "      <td>Fundamentals of Military Medicine/Fund ch 39.txt</td>\n",
       "      <td>CPG</td>\n",
       "      <td>ORG</td>\n",
       "      <td>False</td>\n",
       "      <td>0.002635</td>\n",
       "    </tr>\n",
       "    <tr>\n",
       "      <th>481613</th>\n",
       "      <td>Fundamentals of Military Medicine/Fund ch 39.txt</td>\n",
       "      <td>CPG</td>\n",
       "      <td>ORG</td>\n",
       "      <td>False</td>\n",
       "      <td>0.002635</td>\n",
       "    </tr>\n",
       "  </tbody>\n",
       "</table>\n",
       "<p>115 rows × 5 columns</p>\n",
       "</div>"
      ],
      "text/plain": [
       "                                                file_path  \\\n",
       "38372   Prolonged_Casualty_Care_Guidelines_21_Dec_2021...   \n",
       "38347   Prolonged_Casualty_Care_Guidelines_21_Dec_2021...   \n",
       "37733   Prolonged_Casualty_Care_Guidelines_21_Dec_2021...   \n",
       "38143   Prolonged_Casualty_Care_Guidelines_21_Dec_2021...   \n",
       "38269   Prolonged_Casualty_Care_Guidelines_21_Dec_2021...   \n",
       "...                                                   ...   \n",
       "464501   Fundamentals of Military Medicine/Fund ch 38.txt   \n",
       "464502   Fundamentals of Military Medicine/Fund ch 38.txt   \n",
       "481139   Fundamentals of Military Medicine/Fund ch 39.txt   \n",
       "481193   Fundamentals of Military Medicine/Fund ch 39.txt   \n",
       "481613   Fundamentals of Military Medicine/Fund ch 39.txt   \n",
       "\n",
       "                                               ent_phrase     ent_type  \\\n",
       "38372   Tactical Triage Protocol \\n \\n \\nProlonged Cas...  WORK_OF_ART   \n",
       "38347            Prolonged Casualty Care Guidelines \\nCPG  WORK_OF_ART   \n",
       "37733                            Prolonged Field Care CPG  WORK_OF_ART   \n",
       "38143   https://jts.amedd.army.mil/assets/docs/cpgs/Da...       PERSON   \n",
       "38269   https://jts.amedd.army.mil/assets/docs/cpgs/Bu...          ORG   \n",
       "...                                                   ...          ...   \n",
       "464501                                                CPG          ORG   \n",
       "464502                                                CPG          ORG   \n",
       "481139                                                CPG          ORG   \n",
       "481193                                                CPG          ORG   \n",
       "481613                                                CPG          ORG   \n",
       "\n",
       "        is_probe  is_probe_probability  \n",
       "38372      False              0.002818  \n",
       "38347      False              0.002744  \n",
       "37733      False              0.002733  \n",
       "38143      False              0.002726  \n",
       "38269      False              0.002724  \n",
       "...          ...                   ...  \n",
       "464501     False              0.002635  \n",
       "464502     False              0.002635  \n",
       "481139     False              0.002635  \n",
       "481193     False              0.002635  \n",
       "481613     False              0.002635  \n",
       "\n",
       "[115 rows x 5 columns]"
      ]
     },
     "metadata": {},
     "output_type": "display_data"
    }
   ],
   "source": [
    "\n",
    "mask_series = domain_doc_ners_df.ent_phrase.map(lambda x: 'cpg' in str(x).lower())# & (domain_doc_ners_df.ent_type == 'PERSON')\n",
    "domain_doc_ners_df.loc[mask_series, 'is_probe'] = False\n",
    "nu.save_data_frames(domain_doc_ners_df=domain_doc_ners_df)\n",
    "df = domain_doc_ners_df[mask_series][word_analysis_columns].sort_values(['is_probe', 'is_probe_probability'], ascending=[True, False])\n",
    "df.file_path = df.file_path.map(lambda x: str(x).replace('../data/Domain_Knowledge/', ''))\n",
    "display(df.dropna(axis='columns', how='all'))"
   ]
  },
  {
   "cell_type": "code",
   "execution_count": 70,
   "id": "88196ec1-5ca5-43fd-925b-ded8758a43cb",
   "metadata": {},
   "outputs": [
    {
     "name": "stdout",
     "output_type": "stream",
     "text": [
      "Saving to /mnt/c/Users/DaveBabbitt/Documents/GitHub/itm-analysis-reporting/saves/csv/domain_doc_ners_df.csv\n"
     ]
    },
    {
     "data": {
      "text/html": [
       "<div>\n",
       "<style scoped>\n",
       "    .dataframe tbody tr th:only-of-type {\n",
       "        vertical-align: middle;\n",
       "    }\n",
       "\n",
       "    .dataframe tbody tr th {\n",
       "        vertical-align: top;\n",
       "    }\n",
       "\n",
       "    .dataframe thead th {\n",
       "        text-align: right;\n",
       "    }\n",
       "</style>\n",
       "<table border=\"1\" class=\"dataframe\">\n",
       "  <thead>\n",
       "    <tr style=\"text-align: right;\">\n",
       "      <th></th>\n",
       "      <th>ent_phrase</th>\n",
       "      <th>ent_type</th>\n",
       "      <th>is_probe</th>\n",
       "      <th>is_probe_probability</th>\n",
       "    </tr>\n",
       "  </thead>\n",
       "  <tbody>\n",
       "    <tr>\n",
       "      <th>82147</th>\n",
       "      <td>Massive Hemorrhage\\nAssess</td>\n",
       "      <td>ORG</td>\n",
       "      <td>True</td>\n",
       "      <td>0.002849</td>\n",
       "    </tr>\n",
       "  </tbody>\n",
       "</table>\n",
       "</div>"
      ],
      "text/plain": [
       "                       ent_phrase ent_type  is_probe  is_probe_probability\n",
       "82147  Massive Hemorrhage\\nAssess      ORG      True              0.002849"
      ]
     },
     "metadata": {},
     "output_type": "display_data"
    }
   ],
   "source": [
    "\n",
    "mask_series = domain_doc_ners_df.ent_phrase.map(lambda x: str(x).startswith('Massive Hemorrhage\\nAssess'))\n",
    "domain_doc_ners_df.loc[mask_series, 'is_probe'] = True\n",
    "nu.save_data_frames(domain_doc_ners_df=domain_doc_ners_df)\n",
    "display(domain_doc_ners_df[mask_series][analysis_columns].sort_values('is_probe_probability', ascending=False).dropna(axis='columns', how='all'))"
   ]
  },
  {
   "cell_type": "code",
   "execution_count": 71,
   "id": "4e717f04-7300-4a7f-b2ba-974c2aea77b7",
   "metadata": {},
   "outputs": [
    {
     "name": "stdout",
     "output_type": "stream",
     "text": [
      "Saving to /mnt/c/Users/DaveBabbitt/Documents/GitHub/itm-analysis-reporting/saves/csv/domain_doc_ners_df.csv\n"
     ]
    },
    {
     "data": {
      "text/html": [
       "<div>\n",
       "<style scoped>\n",
       "    .dataframe tbody tr th:only-of-type {\n",
       "        vertical-align: middle;\n",
       "    }\n",
       "\n",
       "    .dataframe tbody tr th {\n",
       "        vertical-align: top;\n",
       "    }\n",
       "\n",
       "    .dataframe thead th {\n",
       "        text-align: right;\n",
       "    }\n",
       "</style>\n",
       "<table border=\"1\" class=\"dataframe\">\n",
       "  <thead>\n",
       "    <tr style=\"text-align: right;\">\n",
       "      <th></th>\n",
       "      <th>ent_phrase</th>\n",
       "      <th>ent_type</th>\n",
       "      <th>is_probe</th>\n",
       "      <th>is_probe_probability</th>\n",
       "    </tr>\n",
       "  </thead>\n",
       "  <tbody>\n",
       "    <tr>\n",
       "      <th>82295</th>\n",
       "      <td>Massive External \\nHemorrhage</td>\n",
       "      <td>ORG</td>\n",
       "      <td>True</td>\n",
       "      <td>0.00289</td>\n",
       "    </tr>\n",
       "    <tr>\n",
       "      <th>82622</th>\n",
       "      <td>Massive External \\nHemorrhage</td>\n",
       "      <td>ORG</td>\n",
       "      <td>True</td>\n",
       "      <td>0.00289</td>\n",
       "    </tr>\n",
       "  </tbody>\n",
       "</table>\n",
       "</div>"
      ],
      "text/plain": [
       "                          ent_phrase ent_type  is_probe  is_probe_probability\n",
       "82295  Massive External \\nHemorrhage      ORG      True               0.00289\n",
       "82622  Massive External \\nHemorrhage      ORG      True               0.00289"
      ]
     },
     "metadata": {},
     "output_type": "display_data"
    }
   ],
   "source": [
    "\n",
    "mask_series = domain_doc_ners_df.ent_phrase.map(lambda x: str(x).startswith('Massive External \\nHemorrhage'))\n",
    "domain_doc_ners_df.loc[mask_series, 'is_probe'] = True\n",
    "nu.save_data_frames(domain_doc_ners_df=domain_doc_ners_df)\n",
    "display(domain_doc_ners_df[mask_series][analysis_columns].sort_values('is_probe_probability', ascending=False).dropna(axis='columns', how='all'))"
   ]
  },
  {
   "cell_type": "code",
   "execution_count": 72,
   "id": "dee6c8a1-c5f6-456f-ae70-4036f578c50e",
   "metadata": {},
   "outputs": [
    {
     "name": "stdout",
     "output_type": "stream",
     "text": [
      "Saving to /mnt/c/Users/DaveBabbitt/Documents/GitHub/itm-analysis-reporting/saves/csv/domain_doc_ners_df.csv\n"
     ]
    },
    {
     "data": {
      "text/html": [
       "<div>\n",
       "<style scoped>\n",
       "    .dataframe tbody tr th:only-of-type {\n",
       "        vertical-align: middle;\n",
       "    }\n",
       "\n",
       "    .dataframe tbody tr th {\n",
       "        vertical-align: top;\n",
       "    }\n",
       "\n",
       "    .dataframe thead th {\n",
       "        text-align: right;\n",
       "    }\n",
       "</style>\n",
       "<table border=\"1\" class=\"dataframe\">\n",
       "  <thead>\n",
       "    <tr style=\"text-align: right;\">\n",
       "      <th></th>\n",
       "      <th>ent_phrase</th>\n",
       "      <th>ent_type</th>\n",
       "      <th>is_probe</th>\n",
       "      <th>is_probe_probability</th>\n",
       "    </tr>\n",
       "  </thead>\n",
       "  <tbody>\n",
       "    <tr>\n",
       "      <th>82304</th>\n",
       "      <td>CONTINUE TACTICAL FIELD CARE\\nHemorrhage Contr...</td>\n",
       "      <td>ORG</td>\n",
       "      <td>True</td>\n",
       "      <td>0.002793</td>\n",
       "    </tr>\n",
       "  </tbody>\n",
       "</table>\n",
       "</div>"
      ],
      "text/plain": [
       "                                              ent_phrase ent_type  is_probe  \\\n",
       "82304  CONTINUE TACTICAL FIELD CARE\\nHemorrhage Contr...      ORG      True   \n",
       "\n",
       "       is_probe_probability  \n",
       "82304              0.002793  "
      ]
     },
     "metadata": {},
     "output_type": "display_data"
    }
   ],
   "source": [
    "\n",
    "mask_series = domain_doc_ners_df.ent_phrase.map(lambda x: str(x).startswith('CONTINUE TACTICAL FIELD CARE\\nHemorrhage Contr'))\n",
    "domain_doc_ners_df.loc[mask_series, 'is_probe'] = True\n",
    "nu.save_data_frames(domain_doc_ners_df=domain_doc_ners_df)\n",
    "display(domain_doc_ners_df[mask_series][analysis_columns].sort_values('is_probe_probability', ascending=False).dropna(axis='columns', how='all'))"
   ]
  },
  {
   "cell_type": "code",
   "execution_count": 63,
   "id": "23f36b73-1635-43aa-8bb0-a6cd07659813",
   "metadata": {},
   "outputs": [
    {
     "name": "stdout",
     "output_type": "stream",
     "text": [
      "Saving to /mnt/c/Users/DaveBabbitt/Documents/GitHub/itm-analysis-reporting/saves/csv/domain_doc_ners_df.csv\n"
     ]
    },
    {
     "data": {
      "text/html": [
       "<div>\n",
       "<style scoped>\n",
       "    .dataframe tbody tr th:only-of-type {\n",
       "        vertical-align: middle;\n",
       "    }\n",
       "\n",
       "    .dataframe tbody tr th {\n",
       "        vertical-align: top;\n",
       "    }\n",
       "\n",
       "    .dataframe thead th {\n",
       "        text-align: right;\n",
       "    }\n",
       "</style>\n",
       "<table border=\"1\" class=\"dataframe\">\n",
       "  <thead>\n",
       "    <tr style=\"text-align: right;\">\n",
       "      <th></th>\n",
       "      <th>ent_phrase</th>\n",
       "      <th>ent_type</th>\n",
       "      <th>is_probe</th>\n",
       "      <th>is_probe_probability</th>\n",
       "    </tr>\n",
       "  </thead>\n",
       "  <tbody>\n",
       "    <tr>\n",
       "      <th>43482</th>\n",
       "      <td>Junctional</td>\n",
       "      <td>EVENT</td>\n",
       "      <td>True</td>\n",
       "      <td>0.003783</td>\n",
       "    </tr>\n",
       "    <tr>\n",
       "      <th>83572</th>\n",
       "      <td>SAM-Junctional Tourniquet</td>\n",
       "      <td>ORG</td>\n",
       "      <td>True</td>\n",
       "      <td>0.003396</td>\n",
       "    </tr>\n",
       "    <tr>\n",
       "      <th>82298</th>\n",
       "      <td>Junctional Wounds</td>\n",
       "      <td>FAC</td>\n",
       "      <td>True</td>\n",
       "      <td>0.003206</td>\n",
       "    </tr>\n",
       "    <tr>\n",
       "      <th>82625</th>\n",
       "      <td>Junctional Wounds</td>\n",
       "      <td>FAC</td>\n",
       "      <td>True</td>\n",
       "      <td>0.003206</td>\n",
       "    </tr>\n",
       "    <tr>\n",
       "      <th>383310</th>\n",
       "      <td>Junctional Hemorrhage</td>\n",
       "      <td>WORK_OF_ART</td>\n",
       "      <td>True</td>\n",
       "      <td>0.003188</td>\n",
       "    </tr>\n",
       "    <tr>\n",
       "      <th>383327</th>\n",
       "      <td>the SAM Junctional Tourniquet</td>\n",
       "      <td>ORG</td>\n",
       "      <td>True</td>\n",
       "      <td>0.003181</td>\n",
       "    </tr>\n",
       "    <tr>\n",
       "      <th>83052</th>\n",
       "      <td>Tourniquet Kit Junctional Compression</td>\n",
       "      <td>ORG</td>\n",
       "      <td>True</td>\n",
       "      <td>0.003120</td>\n",
       "    </tr>\n",
       "    <tr>\n",
       "      <th>384091</th>\n",
       "      <td>Control of junctional</td>\n",
       "      <td>ORG</td>\n",
       "      <td>True</td>\n",
       "      <td>0.002941</td>\n",
       "    </tr>\n",
       "    <tr>\n",
       "      <th>83047</th>\n",
       "      <td>JUNCTIONAL TOURNIQUETS &amp; DEVICES</td>\n",
       "      <td>ORG</td>\n",
       "      <td>True</td>\n",
       "      <td>0.002930</td>\n",
       "    </tr>\n",
       "    <tr>\n",
       "      <th>383334</th>\n",
       "      <td>the Junctional Emergency Treatment Tool</td>\n",
       "      <td>ORG</td>\n",
       "      <td>True</td>\n",
       "      <td>0.002834</td>\n",
       "    </tr>\n",
       "  </tbody>\n",
       "</table>\n",
       "</div>"
      ],
      "text/plain": [
       "                                     ent_phrase     ent_type  is_probe  \\\n",
       "43482                                Junctional        EVENT      True   \n",
       "83572                 SAM-Junctional Tourniquet          ORG      True   \n",
       "82298                         Junctional Wounds          FAC      True   \n",
       "82625                         Junctional Wounds          FAC      True   \n",
       "383310                    Junctional Hemorrhage  WORK_OF_ART      True   \n",
       "383327            the SAM Junctional Tourniquet          ORG      True   \n",
       "83052     Tourniquet Kit Junctional Compression          ORG      True   \n",
       "384091                    Control of junctional          ORG      True   \n",
       "83047          JUNCTIONAL TOURNIQUETS & DEVICES          ORG      True   \n",
       "383334  the Junctional Emergency Treatment Tool          ORG      True   \n",
       "\n",
       "        is_probe_probability  \n",
       "43482               0.003783  \n",
       "83572               0.003396  \n",
       "82298               0.003206  \n",
       "82625               0.003206  \n",
       "383310              0.003188  \n",
       "383327              0.003181  \n",
       "83052               0.003120  \n",
       "384091              0.002941  \n",
       "83047               0.002930  \n",
       "383334              0.002834  "
      ]
     },
     "metadata": {},
     "output_type": "display_data"
    }
   ],
   "source": [
    "\n",
    "mask_series = domain_doc_ners_df.ent_phrase.map(lambda x: 'junctional' in str(x).lower())# & (domain_doc_ners_df.ent_type != 'PERSON')\n",
    "domain_doc_ners_df.loc[mask_series, 'is_probe'] = True\n",
    "nu.save_data_frames(domain_doc_ners_df=domain_doc_ners_df)\n",
    "display(domain_doc_ners_df[mask_series][analysis_columns].sort_values('is_probe_probability', ascending=False).dropna(axis='columns', how='all'))"
   ]
  },
  {
   "cell_type": "code",
   "execution_count": 153,
   "id": "ebb7c2c8-2ed4-409c-af40-1a851e300c95",
   "metadata": {},
   "outputs": [
    {
     "name": "stdout",
     "output_type": "stream",
     "text": [
      "Saving to /mnt/c/Users/DaveBabbitt/Documents/GitHub/itm-analysis-reporting/saves/csv/domain_doc_ners_df.csv\n"
     ]
    },
    {
     "data": {
      "text/html": [
       "<div>\n",
       "<style scoped>\n",
       "    .dataframe tbody tr th:only-of-type {\n",
       "        vertical-align: middle;\n",
       "    }\n",
       "\n",
       "    .dataframe tbody tr th {\n",
       "        vertical-align: top;\n",
       "    }\n",
       "\n",
       "    .dataframe thead th {\n",
       "        text-align: right;\n",
       "    }\n",
       "</style>\n",
       "<table border=\"1\" class=\"dataframe\">\n",
       "  <thead>\n",
       "    <tr style=\"text-align: right;\">\n",
       "      <th></th>\n",
       "      <th>ent_phrase</th>\n",
       "      <th>ent_type</th>\n",
       "      <th>is_probe</th>\n",
       "      <th>is_probe_probability</th>\n",
       "    </tr>\n",
       "  </thead>\n",
       "  <tbody>\n",
       "    <tr>\n",
       "      <th>82619</th>\n",
       "      <td>Insert Nasopharyngeal Airway</td>\n",
       "      <td>PERSON</td>\n",
       "      <td>True</td>\n",
       "      <td>0.002838</td>\n",
       "    </tr>\n",
       "    <tr>\n",
       "      <th>82949</th>\n",
       "      <td>Insert Nasopharyngeal Airway</td>\n",
       "      <td>PERSON</td>\n",
       "      <td>True</td>\n",
       "      <td>0.002838</td>\n",
       "    </tr>\n",
       "    <tr>\n",
       "      <th>54269</th>\n",
       "      <td>• Nasopharyngeal</td>\n",
       "      <td>PRODUCT</td>\n",
       "      <td>True</td>\n",
       "      <td>0.002654</td>\n",
       "    </tr>\n",
       "    <tr>\n",
       "      <th>54273</th>\n",
       "      <td>• Nasopharyngeal</td>\n",
       "      <td>PRODUCT</td>\n",
       "      <td>True</td>\n",
       "      <td>0.002654</td>\n",
       "    </tr>\n",
       "    <tr>\n",
       "      <th>62567</th>\n",
       "      <td>• Nasopharyngeal</td>\n",
       "      <td>PRODUCT</td>\n",
       "      <td>True</td>\n",
       "      <td>0.002654</td>\n",
       "    </tr>\n",
       "    <tr>\n",
       "      <th>62571</th>\n",
       "      <td>• Nasopharyngeal</td>\n",
       "      <td>PRODUCT</td>\n",
       "      <td>True</td>\n",
       "      <td>0.002654</td>\n",
       "    </tr>\n",
       "    <tr>\n",
       "      <th>82615</th>\n",
       "      <td>Impending Airway Obstruction\\nUnconscious with...</td>\n",
       "      <td>WORK_OF_ART</td>\n",
       "      <td>True</td>\n",
       "      <td>0.002640</td>\n",
       "    </tr>\n",
       "    <tr>\n",
       "      <th>82944</th>\n",
       "      <td>Impending Airway Obstruction\\nUnconscious with...</td>\n",
       "      <td>WORK_OF_ART</td>\n",
       "      <td>True</td>\n",
       "      <td>0.002640</td>\n",
       "    </tr>\n",
       "  </tbody>\n",
       "</table>\n",
       "</div>"
      ],
      "text/plain": [
       "                                              ent_phrase     ent_type  \\\n",
       "82619                       Insert Nasopharyngeal Airway       PERSON   \n",
       "82949                       Insert Nasopharyngeal Airway       PERSON   \n",
       "54269                                   • Nasopharyngeal      PRODUCT   \n",
       "54273                                   • Nasopharyngeal      PRODUCT   \n",
       "62567                                   • Nasopharyngeal      PRODUCT   \n",
       "62571                                   • Nasopharyngeal      PRODUCT   \n",
       "82615  Impending Airway Obstruction\\nUnconscious with...  WORK_OF_ART   \n",
       "82944  Impending Airway Obstruction\\nUnconscious with...  WORK_OF_ART   \n",
       "\n",
       "       is_probe  is_probe_probability  \n",
       "82619      True              0.002838  \n",
       "82949      True              0.002838  \n",
       "54269      True              0.002654  \n",
       "54273      True              0.002654  \n",
       "62567      True              0.002654  \n",
       "62571      True              0.002654  \n",
       "82615      True              0.002640  \n",
       "82944      True              0.002640  "
      ]
     },
     "metadata": {},
     "output_type": "display_data"
    }
   ],
   "source": [
    "\n",
    "mask_series = domain_doc_ners_df.ent_phrase.map(lambda x: 'nasopharyngeal' in str(x).lower())# & (domain_doc_ners_df.ent_type == 'PERSON')\n",
    "domain_doc_ners_df.loc[mask_series, 'is_probe'] = True\n",
    "nu.save_data_frames(domain_doc_ners_df=domain_doc_ners_df)\n",
    "display(domain_doc_ners_df[mask_series][analysis_columns].sort_values('is_probe_probability', ascending=False).dropna(axis='columns', how='all'))"
   ]
  },
  {
   "cell_type": "code",
   "execution_count": 43,
   "id": "fe074aff-a9fb-4656-aea3-8ef545341ea3",
   "metadata": {},
   "outputs": [
    {
     "name": "stdout",
     "output_type": "stream",
     "text": [
      "Saving to /mnt/c/Users/DaveBabbitt/Documents/GitHub/itm-analysis-reporting/saves/csv/domain_doc_ners_df.csv\n"
     ]
    },
    {
     "data": {
      "text/html": [
       "<div>\n",
       "<style scoped>\n",
       "    .dataframe tbody tr th:only-of-type {\n",
       "        vertical-align: middle;\n",
       "    }\n",
       "\n",
       "    .dataframe tbody tr th {\n",
       "        vertical-align: top;\n",
       "    }\n",
       "\n",
       "    .dataframe thead th {\n",
       "        text-align: right;\n",
       "    }\n",
       "</style>\n",
       "<table border=\"1\" class=\"dataframe\">\n",
       "  <thead>\n",
       "    <tr style=\"text-align: right;\">\n",
       "      <th></th>\n",
       "      <th>ent_phrase</th>\n",
       "      <th>ent_type</th>\n",
       "      <th>is_probe</th>\n",
       "      <th>is_probe_probability</th>\n",
       "    </tr>\n",
       "  </thead>\n",
       "  <tbody>\n",
       "    <tr>\n",
       "      <th>82293</th>\n",
       "      <td>Limb Tourniquet</td>\n",
       "      <td>PERSON</td>\n",
       "      <td>True</td>\n",
       "      <td>0.004204</td>\n",
       "    </tr>\n",
       "    <tr>\n",
       "      <th>82620</th>\n",
       "      <td>Limb Tourniquet</td>\n",
       "      <td>PERSON</td>\n",
       "      <td>True</td>\n",
       "      <td>0.004204</td>\n",
       "    </tr>\n",
       "  </tbody>\n",
       "</table>\n",
       "</div>"
      ],
      "text/plain": [
       "            ent_phrase ent_type  is_probe  is_probe_probability\n",
       "82293  Limb Tourniquet   PERSON      True              0.004204\n",
       "82620  Limb Tourniquet   PERSON      True              0.004204"
      ]
     },
     "metadata": {},
     "output_type": "display_data"
    }
   ],
   "source": [
    "\n",
    "mask_series = domain_doc_ners_df.ent_phrase.map(lambda x: 'tourniquet' in str(x).lower()) & (domain_doc_ners_df.ent_type == 'PERSON')\n",
    "domain_doc_ners_df.loc[mask_series, 'is_probe'] = False\n",
    "mask_series = domain_doc_ners_df.ent_phrase.map(lambda x: 'limb tourniquet' in str(x).lower()) & (domain_doc_ners_df.ent_type == 'PERSON')\n",
    "domain_doc_ners_df.loc[mask_series, 'is_probe'] = True\n",
    "nu.save_data_frames(domain_doc_ners_df=domain_doc_ners_df)\n",
    "display(domain_doc_ners_df[mask_series][analysis_columns].dropna(axis='columns', how='all').sort_values('is_probe_probability', ascending=False))"
   ]
  },
  {
   "cell_type": "code",
   "execution_count": null,
   "id": "1ef474d5-da39-48c6-8f34-706cc414380c",
   "metadata": {},
   "outputs": [
    {
     "name": "stdout",
     "output_type": "stream",
     "text": [
      "Saving to /mnt/c/Users/DaveBabbitt/Documents/GitHub/itm-analysis-reporting/saves/csv/domain_doc_ners_df.csv\n"
     ]
    },
    {
     "data": {
      "text/html": [
       "<div>\n",
       "<style scoped>\n",
       "    .dataframe tbody tr th:only-of-type {\n",
       "        vertical-align: middle;\n",
       "    }\n",
       "\n",
       "    .dataframe tbody tr th {\n",
       "        vertical-align: top;\n",
       "    }\n",
       "\n",
       "    .dataframe thead th {\n",
       "        text-align: right;\n",
       "    }\n",
       "</style>\n",
       "<table border=\"1\" class=\"dataframe\">\n",
       "  <thead>\n",
       "    <tr style=\"text-align: right;\">\n",
       "      <th></th>\n",
       "      <th>ent_phrase</th>\n",
       "      <th>ent_type</th>\n",
       "      <th>is_probe</th>\n",
       "      <th>is_probe_probability</th>\n",
       "    </tr>\n",
       "  </thead>\n",
       "  <tbody>\n",
       "    <tr>\n",
       "      <th>405644</th>\n",
       "      <td>• Triage</td>\n",
       "      <td>ORG</td>\n",
       "      <td>True</td>\n",
       "      <td>0.003946</td>\n",
       "    </tr>\n",
       "    <tr>\n",
       "      <th>405699</th>\n",
       "      <td>Triage Area</td>\n",
       "      <td>LOC</td>\n",
       "      <td>True</td>\n",
       "      <td>0.003307</td>\n",
       "    </tr>\n",
       "    <tr>\n",
       "      <th>405705</th>\n",
       "      <td>the Triage Area</td>\n",
       "      <td>LOC</td>\n",
       "      <td>True</td>\n",
       "      <td>0.003095</td>\n",
       "    </tr>\n",
       "    <tr>\n",
       "      <th>405707</th>\n",
       "      <td>the Triage Area</td>\n",
       "      <td>LOC</td>\n",
       "      <td>True</td>\n",
       "      <td>0.003095</td>\n",
       "    </tr>\n",
       "    <tr>\n",
       "      <th>405708</th>\n",
       "      <td>the Triage Area</td>\n",
       "      <td>LOC</td>\n",
       "      <td>True</td>\n",
       "      <td>0.003095</td>\n",
       "    </tr>\n",
       "    <tr>\n",
       "      <th>36404</th>\n",
       "      <td>Tactical Triage Protocol</td>\n",
       "      <td>WORK_OF_ART</td>\n",
       "      <td>True</td>\n",
       "      <td>0.003018</td>\n",
       "    </tr>\n",
       "    <tr>\n",
       "      <th>38370</th>\n",
       "      <td>Tactical Triage Protocol</td>\n",
       "      <td>WORK_OF_ART</td>\n",
       "      <td>True</td>\n",
       "      <td>0.003018</td>\n",
       "    </tr>\n",
       "    <tr>\n",
       "      <th>36398</th>\n",
       "      <td>Triage Guiding Principles .......................</td>\n",
       "      <td>WORK_OF_ART</td>\n",
       "      <td>True</td>\n",
       "      <td>0.002992</td>\n",
       "    </tr>\n",
       "    <tr>\n",
       "      <th>38280</th>\n",
       "      <td>Triage Guiding Principles</td>\n",
       "      <td>WORK_OF_ART</td>\n",
       "      <td>True</td>\n",
       "      <td>0.002992</td>\n",
       "    </tr>\n",
       "    <tr>\n",
       "      <th>861794</th>\n",
       "      <td>Military Medical Triage\\n</td>\n",
       "      <td>ORG</td>\n",
       "      <td>True</td>\n",
       "      <td>0.002949</td>\n",
       "    </tr>\n",
       "    <tr>\n",
       "      <th>861307</th>\n",
       "      <td>Performing Battlefield Triage</td>\n",
       "      <td>WORK_OF_ART</td>\n",
       "      <td>True</td>\n",
       "      <td>0.002937</td>\n",
       "    </tr>\n",
       "    <tr>\n",
       "      <th>924968</th>\n",
       "      <td>The Concept of Triage\\nTriage</td>\n",
       "      <td>ORG</td>\n",
       "      <td>True</td>\n",
       "      <td>0.002922</td>\n",
       "    </tr>\n",
       "    <tr>\n",
       "      <th>82618</th>\n",
       "      <td>CONTINUE TACTICAL EVACUATION CARE\\nTriage</td>\n",
       "      <td>ORG</td>\n",
       "      <td>True</td>\n",
       "      <td>0.002877</td>\n",
       "    </tr>\n",
       "    <tr>\n",
       "      <th>38372</th>\n",
       "      <td>Tactical Triage Protocol \\n \\n \\nProlonged Cas...</td>\n",
       "      <td>WORK_OF_ART</td>\n",
       "      <td>True</td>\n",
       "      <td>0.002818</td>\n",
       "    </tr>\n",
       "    <tr>\n",
       "      <th>924702</th>\n",
       "      <td>The Concept of Triage\\nEstablishing and Mainta...</td>\n",
       "      <td>ORG</td>\n",
       "      <td>True</td>\n",
       "      <td>0.002801</td>\n",
       "    </tr>\n",
       "    <tr>\n",
       "      <th>406025</th>\n",
       "      <td>Morgue\\nExtraction\\nTriage/Treatment\\nEvacuati...</td>\n",
       "      <td>ORG</td>\n",
       "      <td>True</td>\n",
       "      <td>0.002787</td>\n",
       "    </tr>\n",
       "  </tbody>\n",
       "</table>\n",
       "</div>"
      ],
      "text/plain": [
       "                                               ent_phrase     ent_type  \\\n",
       "405644                                           • Triage          ORG   \n",
       "405699                                        Triage Area          LOC   \n",
       "405705                                    the Triage Area          LOC   \n",
       "405707                                    the Triage Area          LOC   \n",
       "405708                                    the Triage Area          LOC   \n",
       "36404                            Tactical Triage Protocol  WORK_OF_ART   \n",
       "38370                            Tactical Triage Protocol  WORK_OF_ART   \n",
       "36398   Triage Guiding Principles .......................  WORK_OF_ART   \n",
       "38280                           Triage Guiding Principles  WORK_OF_ART   \n",
       "861794                          Military Medical Triage\\n          ORG   \n",
       "861307                      Performing Battlefield Triage  WORK_OF_ART   \n",
       "924968                      The Concept of Triage\\nTriage          ORG   \n",
       "82618           CONTINUE TACTICAL EVACUATION CARE\\nTriage          ORG   \n",
       "38372   Tactical Triage Protocol \\n \\n \\nProlonged Cas...  WORK_OF_ART   \n",
       "924702  The Concept of Triage\\nEstablishing and Mainta...          ORG   \n",
       "406025  Morgue\\nExtraction\\nTriage/Treatment\\nEvacuati...          ORG   \n",
       "\n",
       "        is_probe  is_probe_probability  \n",
       "405644      True              0.003946  \n",
       "405699      True              0.003307  \n",
       "405705      True              0.003095  \n",
       "405707      True              0.003095  \n",
       "405708      True              0.003095  \n",
       "36404       True              0.003018  \n",
       "38370       True              0.003018  \n",
       "36398       True              0.002992  \n",
       "38280       True              0.002992  \n",
       "861794      True              0.002949  \n",
       "861307      True              0.002937  \n",
       "924968      True              0.002922  \n",
       "82618       True              0.002877  \n",
       "38372       True              0.002818  \n",
       "924702      True              0.002801  \n",
       "406025      True              0.002787  "
      ]
     },
     "metadata": {},
     "output_type": "display_data"
    }
   ],
   "source": [
    "\n",
    "mask_series = domain_doc_ners_df.ent_phrase.map(lambda x: 'triage' in str(x).lower()) & (domain_doc_ners_df.ent_type != 'PERSON')\n",
    "domain_doc_ners_df.loc[mask_series, 'is_probe'] = True\n",
    "nu.save_data_frames(domain_doc_ners_df=domain_doc_ners_df)\n",
    "display(domain_doc_ners_df[mask_series][analysis_columns].dropna(axis='columns', how='all').sort_values('is_probe_probability', ascending=False))"
   ]
  },
  {
   "cell_type": "markdown",
   "id": "91ec589c-42cc-46c3-9495-cc03e6c21b43",
   "metadata": {},
   "source": [
    "\n",
    "----"
   ]
  },
  {
   "cell_type": "code",
   "execution_count": null,
   "id": "d2571213-2168-44cb-8260-2338658b99ba",
   "metadata": {},
   "outputs": [],
   "source": [
    "\n",
    "mask_series = domain_doc_ners_df.ent_phrase.map(lambda x: 'Xxxxxxxx' in str(x).lower())# & (domain_doc_ners_df.ent_type == 'PERSON')\n",
    "# domain_doc_ners_df.loc[mask_series, 'is_probe'] = True\n",
    "# nu.save_data_frames(domain_doc_ners_df=domain_doc_ners_df)\n",
    "df = domain_doc_ners_df[mask_series][word_analysis_columns].sort_values(['is_probe', 'is_probe_probability'], ascending=[True, False])\n",
    "df.file_path = df.file_path.map(lambda x: str(x).replace('../data/Domain_Knowledge/', ''))\n",
    "display(df.dropna(axis='columns', how='all'))"
   ]
  },
  {
   "cell_type": "markdown",
   "id": "5add653f-09da-4f36-968b-b5d35ac8a744",
   "metadata": {},
   "source": [
    "\n",
    "## Break up dataset into the word columns and save them that way"
   ]
  },
  {
   "cell_type": "code",
   "execution_count": 103,
   "id": "491d0eab-eae4-4c78-9da8-73010be5e528",
   "metadata": {},
   "outputs": [
    {
     "name": "stdout",
     "output_type": "stream",
     "text": [
      "Saving to /mnt/c/Users/DaveBabbitt/Documents/GitHub/itm-analysis-reporting/saves/csv/domain_doc_bert_words_df.csv\n",
      "Saving to /mnt/c/Users/DaveBabbitt/Documents/GitHub/itm-analysis-reporting/saves/csv/domain_doc_nlp_words_df.csv\n",
      "Saving to /mnt/c/Users/DaveBabbitt/Documents/GitHub/itm-analysis-reporting/saves/csv/domain_doc_ent_phrases_df.csv\n"
     ]
    }
   ],
   "source": [
    "\n",
    "# Save the BERT words\n",
    "mask_series = ~domain_doc_ners_df.bert_word.isnull()\n",
    "nu.save_data_frames(**{'domain_doc_bert_words_df': domain_doc_ners_df[mask_series].dropna(axis='columns', how='all')})\n",
    "\n",
    "# Save the SpaCy words\n",
    "mask_series = ~domain_doc_ners_df.nlp_word.isnull()\n",
    "nu.save_data_frames(**{'domain_doc_nlp_words_df': domain_doc_ners_df[mask_series].dropna(axis='columns', how='all')})\n",
    "\n",
    "# Save the SpaCy phrases\n",
    "mask_series = ~domain_doc_ners_df.ent_phrase.isnull()\n",
    "nu.save_data_frames(**{'domain_doc_ent_phrases_df': domain_doc_ners_df[mask_series].dropna(axis='columns', how='all')})"
   ]
  },
  {
   "cell_type": "code",
   "execution_count": 104,
   "id": "94bc7d9d-112d-495d-9121-dc257e1b6b9e",
   "metadata": {},
   "outputs": [
    {
     "name": "stdout",
     "output_type": "stream",
     "text": [
      "nlp_word 47032\n",
      "nlp_tag 50\n",
      "nlp_type 19\n",
      "nlp_pofs 18\n"
     ]
    }
   ],
   "source": [
    "\n",
    "mask_series = ~domain_doc_ners_df.nlp_word.isnull()\n",
    "df = domain_doc_ners_df[mask_series].dropna(axis='columns', how='all')\n",
    "columns_list = [cn for cn in df.columns if cn.startswith('nlp_')]\n",
    "for cn in columns_list:\n",
    "    print(cn, df[cn].unique().shape[0])"
   ]
  },
  {
   "cell_type": "code",
   "execution_count": 109,
   "id": "dd62a244-8d06-40c4-9a8e-5f166a3a4504",
   "metadata": {},
   "outputs": [
    {
     "name": "stdout",
     "output_type": "stream",
     "text": [
      "Saving to /mnt/c/Users/DaveBabbitt/Documents/GitHub/itm-analysis-reporting/saves/csv/domain_doc_nlp_word_adj_df.csv\n",
      "Saving to /mnt/c/Users/DaveBabbitt/Documents/GitHub/itm-analysis-reporting/saves/csv/domain_doc_nlp_word_adp_df.csv\n",
      "Saving to /mnt/c/Users/DaveBabbitt/Documents/GitHub/itm-analysis-reporting/saves/csv/domain_doc_nlp_word_adv_df.csv\n",
      "Saving to /mnt/c/Users/DaveBabbitt/Documents/GitHub/itm-analysis-reporting/saves/csv/domain_doc_nlp_word_aux_df.csv\n",
      "Saving to /mnt/c/Users/DaveBabbitt/Documents/GitHub/itm-analysis-reporting/saves/csv/domain_doc_nlp_word_cconj_df.csv\n",
      "Saving to /mnt/c/Users/DaveBabbitt/Documents/GitHub/itm-analysis-reporting/saves/csv/domain_doc_nlp_word_det_df.csv\n",
      "Saving to /mnt/c/Users/DaveBabbitt/Documents/GitHub/itm-analysis-reporting/saves/csv/domain_doc_nlp_word_intj_df.csv\n",
      "Saving to /mnt/c/Users/DaveBabbitt/Documents/GitHub/itm-analysis-reporting/saves/csv/domain_doc_nlp_word_noun_df.csv\n",
      "Saving to /mnt/c/Users/DaveBabbitt/Documents/GitHub/itm-analysis-reporting/saves/csv/domain_doc_nlp_word_num_df.csv\n",
      "Saving to /mnt/c/Users/DaveBabbitt/Documents/GitHub/itm-analysis-reporting/saves/csv/domain_doc_nlp_word_part_df.csv\n",
      "Saving to /mnt/c/Users/DaveBabbitt/Documents/GitHub/itm-analysis-reporting/saves/csv/domain_doc_nlp_word_pron_df.csv\n",
      "Saving to /mnt/c/Users/DaveBabbitt/Documents/GitHub/itm-analysis-reporting/saves/csv/domain_doc_nlp_word_propn_df.csv\n",
      "Saving to /mnt/c/Users/DaveBabbitt/Documents/GitHub/itm-analysis-reporting/saves/csv/domain_doc_nlp_word_punct_df.csv\n",
      "Saving to /mnt/c/Users/DaveBabbitt/Documents/GitHub/itm-analysis-reporting/saves/csv/domain_doc_nlp_word_sconj_df.csv\n",
      "Saving to /mnt/c/Users/DaveBabbitt/Documents/GitHub/itm-analysis-reporting/saves/csv/domain_doc_nlp_word_space_df.csv\n",
      "Saving to /mnt/c/Users/DaveBabbitt/Documents/GitHub/itm-analysis-reporting/saves/csv/domain_doc_nlp_word_sym_df.csv\n",
      "Saving to /mnt/c/Users/DaveBabbitt/Documents/GitHub/itm-analysis-reporting/saves/csv/domain_doc_nlp_word_verb_df.csv\n",
      "Saving to /mnt/c/Users/DaveBabbitt/Documents/GitHub/itm-analysis-reporting/saves/csv/domain_doc_nlp_word_x_df.csv\n"
     ]
    }
   ],
   "source": [
    "\n",
    "for nlp_pofs, nlp_pofs_df in df.groupby('nlp_pofs', dropna=False):\n",
    "    nu.save_data_frames(**{f'domain_doc_nlp_word_{str(nlp_pofs).lower()}_df': nlp_pofs_df})"
   ]
  },
  {
   "cell_type": "code",
   "execution_count": null,
   "id": "22435f52-fc54-4763-97b2-b36064679ec2",
   "metadata": {},
   "outputs": [],
   "source": []
  }
 ],
 "metadata": {
  "kernelspec": {
   "display_name": "LlamaIndex (Python 3.10.13)",
   "language": "python",
   "name": "llama_index"
  },
  "language_info": {
   "codemirror_mode": {
    "name": "ipython",
    "version": 3
   },
   "file_extension": ".py",
   "mimetype": "text/x-python",
   "name": "python",
   "nbconvert_exporter": "python",
   "pygments_lexer": "ipython3",
   "version": "3.9.18"
  }
 },
 "nbformat": 4,
 "nbformat_minor": 5
}
